{
 "cells": [
  {
   "cell_type": "markdown",
   "id": "589045f5",
   "metadata": {},
   "source": [
    "add_5_higher_order"
   ]
  },
  {
   "cell_type": "code",
   "execution_count": null,
   "id": "1d2d84e3",
   "metadata": {},
   "outputs": [],
   "source": [
    "def function(array_data):\n",
    "    return list(map(lambda x: x + 5, array_data))\n",
    "\n",
    "\n",
    "print(function([0, 5, 10]))\n"
   ]
  },
  {
   "cell_type": "code",
   "execution_count": null,
   "id": "b61e0d48",
   "metadata": {},
   "outputs": [],
   "source": [
    "#comments or playground"
   ]
  },
  {
   "cell_type": "markdown",
   "id": "6e8ad836",
   "metadata": {},
   "source": [
    "add_5_iterative"
   ]
  },
  {
   "cell_type": "code",
   "execution_count": null,
   "id": "d2cd6c2c",
   "metadata": {},
   "outputs": [],
   "source": [
    "def function(array_data):\n",
    "    result = []\n",
    "    for element in array_data:\n",
    "        result.append(element + 5)\n",
    "    return result\n",
    "\n",
    "\n",
    "print(function([0, 5, 10]))\n"
   ]
  },
  {
   "cell_type": "code",
   "execution_count": null,
   "id": "56195917",
   "metadata": {},
   "outputs": [],
   "source": [
    "#comments or playground"
   ]
  },
  {
   "cell_type": "markdown",
   "id": "71dce088",
   "metadata": {},
   "source": [
    "add_5_list_comprehension"
   ]
  },
  {
   "cell_type": "code",
   "execution_count": null,
   "id": "104315cb",
   "metadata": {},
   "outputs": [],
   "source": [
    "def function(array_data):\n",
    "    return [data + 5 for data in array_data]\n",
    "\n",
    "\n",
    "print(function([0, 5, 10]))\n"
   ]
  },
  {
   "cell_type": "code",
   "execution_count": null,
   "id": "c41be01c",
   "metadata": {},
   "outputs": [],
   "source": [
    "#comments or playground"
   ]
  },
  {
   "cell_type": "markdown",
   "id": "c2c274b0",
   "metadata": {},
   "source": [
    "add_5_recursive"
   ]
  },
  {
   "cell_type": "code",
   "execution_count": null,
   "id": "528b4fe8",
   "metadata": {},
   "outputs": [],
   "source": [
    "def function(array_data):\n",
    "    if len(array_data) == 0:\n",
    "        return []\n",
    "    return [array_data[0] + 5] + function(array_data[1:])\n",
    "\n",
    "\n",
    "print(function([0, 5, 10]))\n"
   ]
  },
  {
   "cell_type": "code",
   "execution_count": null,
   "id": "87b699b2",
   "metadata": {},
   "outputs": [],
   "source": [
    "#comments or playground"
   ]
  },
  {
   "cell_type": "markdown",
   "id": "856778d0",
   "metadata": {},
   "source": [
    "apply_higher_order"
   ]
  },
  {
   "cell_type": "code",
   "execution_count": null,
   "id": "fda6d1bc",
   "metadata": {},
   "outputs": [],
   "source": [
    "def function(array_data, func):\n",
    "    return list(map(func, array_data))\n",
    "\n",
    "\n",
    "print(function([1, 2, 3], lambda x: x ** 2 + x))\n"
   ]
  },
  {
   "cell_type": "code",
   "execution_count": null,
   "id": "7ffcebec",
   "metadata": {},
   "outputs": [],
   "source": [
    "#comments or playground"
   ]
  },
  {
   "cell_type": "markdown",
   "id": "8608c72b",
   "metadata": {},
   "source": [
    "apply_iterative"
   ]
  },
  {
   "cell_type": "code",
   "execution_count": null,
   "id": "48f98e53",
   "metadata": {},
   "outputs": [],
   "source": [
    "def function(array_data, func):\n",
    "    results = []\n",
    "    for data in array_data:\n",
    "        results.append(func(data))\n",
    "    return results\n",
    "\n",
    "\n",
    "print(function([1, 2, 3], lambda x: x ** 2 + x))\n"
   ]
  },
  {
   "cell_type": "code",
   "execution_count": null,
   "id": "6c89a997",
   "metadata": {},
   "outputs": [],
   "source": [
    "#comments or playground"
   ]
  },
  {
   "cell_type": "markdown",
   "id": "52aa7173",
   "metadata": {},
   "source": [
    "apply_list_comprehension"
   ]
  },
  {
   "cell_type": "code",
   "execution_count": null,
   "id": "a3526266",
   "metadata": {},
   "outputs": [],
   "source": [
    "def function(array_data, func):\n",
    "    return [func(data) for data in array_data]\n",
    "\n",
    "\n",
    "print(function([1, 2, 3], lambda x: x ** 2 + x))\n"
   ]
  },
  {
   "cell_type": "code",
   "execution_count": null,
   "id": "a4db4073",
   "metadata": {},
   "outputs": [],
   "source": [
    "#comments or playground"
   ]
  },
  {
   "cell_type": "markdown",
   "id": "edf6928b",
   "metadata": {},
   "source": [
    "apply_recursive"
   ]
  },
  {
   "cell_type": "code",
   "execution_count": null,
   "id": "a9007323",
   "metadata": {},
   "outputs": [],
   "source": [
    "def function(array_data, func):\n",
    "    if len(array_data) == 0:\n",
    "        return []\n",
    "    else:\n",
    "        return [func(array_data[0])] + function(array_data[1:], func)\n",
    "\n",
    "\n",
    "print(function([1, 2, 3], lambda x: x ** 2 + x))\n"
   ]
  },
  {
   "cell_type": "code",
   "execution_count": null,
   "id": "b4ea1d4f",
   "metadata": {},
   "outputs": [],
   "source": [
    "#comments or playground"
   ]
  },
  {
   "cell_type": "markdown",
   "id": "67d802b2",
   "metadata": {},
   "source": [
    "Computer_higher_order"
   ]
  },
  {
   "cell_type": "code",
   "execution_count": null,
   "id": "a5abfa7a",
   "metadata": {},
   "outputs": [],
   "source": [
    "class Computer:\n",
    "    id = 0\n",
    "\n",
    "    def __init__(self, cpu, gpu, ram):\n",
    "        self.cpu = cpu\n",
    "        self.gpu = gpu\n",
    "        self.ram = ram\n",
    "        self.id = Computer.id\n",
    "        Computer.id += 1\n",
    "\n",
    "    def __repr__(self):\n",
    "        return str(self.id)\n",
    "\n",
    "\n",
    "def function(computer_array):\n",
    "    return list(filter(lambda x: \"AMD\" in x.cpu and \"NVIDIA GTX30\" in x.gpu and x.ram >= 16, computer_array))\n",
    "\n",
    "\n",
    "computer_array = []\n",
    "computer_array.append(Computer(\"INTEL i7-860\", \"NVIDIA GTX3080\", 16))\n",
    "computer_array.append(Computer(\"AMD 5900x\", \"NVIDIA GTX3080\", 32))\n",
    "computer_array.append(Computer(\"INTEL i9-10900T\", \"NVIDIA GTX1070\", 8))\n",
    "computer_array.append(Computer(\"AMD 5900x\", \"AMD RX6900\", 8))\n",
    "computer_array.append(Computer(\"AMD 5700\", \"AMD RX6900\", 16))\n",
    "computer_array.append(Computer(\"AMD 5900x\", \"NVIDIA GTX3090\", 64))\n",
    "computer_array.append(Computer(\"INTEL i5-8400\", \"NVIDIA GTX1060\", 4))\n",
    "print(function(computer_array))\n"
   ]
  },
  {
   "cell_type": "code",
   "execution_count": null,
   "id": "37c988cf",
   "metadata": {},
   "outputs": [],
   "source": [
    "#comments or playground"
   ]
  },
  {
   "cell_type": "markdown",
   "id": "f0278d9b",
   "metadata": {},
   "source": [
    "Computer_iterative"
   ]
  },
  {
   "cell_type": "code",
   "execution_count": null,
   "id": "7f36a037",
   "metadata": {},
   "outputs": [],
   "source": [
    "class Computer:\n",
    "    id = 0\n",
    "\n",
    "    def __init__(self, cpu, gpu, ram):\n",
    "        self.cpu = cpu\n",
    "        self.gpu = gpu\n",
    "        self.ram = ram\n",
    "        self.id = Computer.id\n",
    "        Computer.id += 1\n",
    "\n",
    "    def __repr__(self):\n",
    "        return str(self.id)\n",
    "\n",
    "\n",
    "def function(computer_array):\n",
    "    results = []\n",
    "    for computer in computer_array:\n",
    "        if \"AMD\" in computer.cpu and \"NVIDIA GTX30\" in computer.gpu and computer.ram >= 16:\n",
    "            results.append(computer)\n",
    "    return results\n",
    "\n",
    "\n",
    "computer_array = []\n",
    "computer_array.append(Computer(\"INTEL i7-860\", \"NVIDIA GTX3080\", 16))\n",
    "computer_array.append(Computer(\"AMD 5900x\", \"NVIDIA GTX3080\", 32))\n",
    "computer_array.append(Computer(\"INTEL i9-10900T\", \"NVIDIA GTX1070\", 8))\n",
    "computer_array.append(Computer(\"AMD 5900x\", \"AMD RX6900\", 8))\n",
    "computer_array.append(Computer(\"AMD 5700\", \"AMD RX6900\", 16))\n",
    "computer_array.append(Computer(\"AMD 5900x\", \"NVIDIA GTX3090\", 64))\n",
    "computer_array.append(Computer(\"INTEL i5-8400\", \"NVIDIA GTX1060\", 4))\n",
    "print(function(computer_array))\n"
   ]
  },
  {
   "cell_type": "code",
   "execution_count": null,
   "id": "55a0aab9",
   "metadata": {},
   "outputs": [],
   "source": [
    "#comments or playground"
   ]
  },
  {
   "cell_type": "markdown",
   "id": "a58bb558",
   "metadata": {},
   "source": [
    "Computer_list_comprehension"
   ]
  },
  {
   "cell_type": "code",
   "execution_count": null,
   "id": "17e2e0c7",
   "metadata": {},
   "outputs": [],
   "source": [
    "class Computer:\n",
    "    id = 0\n",
    "\n",
    "    def __init__(self, cpu, gpu, ram):\n",
    "        self.cpu = cpu\n",
    "        self.gpu = gpu\n",
    "        self.ram = ram\n",
    "        self.id = Computer.id\n",
    "        Computer.id += 1\n",
    "\n",
    "    def __repr__(self):\n",
    "        return str(self.id)\n",
    "\n",
    "\n",
    "def function(computer_array):\n",
    "    return [computer for computer in computer_array if \"AMD\" in computer.cpu and \"NVIDIA GTX30\" in computer.gpu and computer.ram >= 16]\n",
    "\n",
    "\n",
    "computer_array = []\n",
    "computer_array.append(Computer(\"INTEL i7-860\", \"NVIDIA GTX3080\", 16))\n",
    "computer_array.append(Computer(\"AMD 5900x\", \"NVIDIA GTX3080\", 32))\n",
    "computer_array.append(Computer(\"INTEL i9-10900T\", \"NVIDIA GTX1070\", 8))\n",
    "computer_array.append(Computer(\"AMD 5900x\", \"AMD RX6900\", 8))\n",
    "computer_array.append(Computer(\"AMD 5700\", \"AMD RX6900\", 16))\n",
    "computer_array.append(Computer(\"AMD 5900x\", \"NVIDIA GTX3090\", 64))\n",
    "computer_array.append(Computer(\"INTEL i5-8400\", \"NVIDIA GTX1060\", 4))\n",
    "print(function(computer_array))\n"
   ]
  },
  {
   "cell_type": "code",
   "execution_count": null,
   "id": "234882a4",
   "metadata": {},
   "outputs": [],
   "source": [
    "#comments or playground"
   ]
  },
  {
   "cell_type": "markdown",
   "id": "fa09b5a3",
   "metadata": {},
   "source": [
    "Computer_recursive"
   ]
  },
  {
   "cell_type": "code",
   "execution_count": null,
   "id": "7be300b2",
   "metadata": {},
   "outputs": [],
   "source": [
    "class Computer:\n",
    "    id = 0\n",
    "\n",
    "    def __init__(self, cpu, gpu, ram):\n",
    "        self.cpu = cpu\n",
    "        self.gpu = gpu\n",
    "        self.ram = ram\n",
    "        self.id = Computer.id\n",
    "        Computer.id += 1\n",
    "\n",
    "    def __repr__(self):\n",
    "        return str(self.id)\n",
    "\n",
    "\n",
    "def function(computer_array):\n",
    "    if len(computer_array)==0:\n",
    "        return []\n",
    "    if \"AMD\" in computer_array[0].cpu and \"NVIDIA GTX30\" in computer_array[0].gpu and computer_array[0].ram >= 16:\n",
    "        return [computer_array[0]] + function(computer_array[1:])\n",
    "    else:\n",
    "        return function(computer_array[1:])\n",
    "\n",
    "\n",
    "computer_array = []\n",
    "computer_array.append(Computer(\"INTEL i7-860\", \"NVIDIA GTX3080\", 16))\n",
    "computer_array.append(Computer(\"AMD 5900x\", \"NVIDIA GTX3080\", 32))\n",
    "computer_array.append(Computer(\"INTEL i9-10900T\", \"NVIDIA GTX1070\", 8))\n",
    "computer_array.append(Computer(\"AMD 5900x\", \"AMD RX6900\", 8))\n",
    "computer_array.append(Computer(\"AMD 5700\", \"AMD RX6900\", 16))\n",
    "computer_array.append(Computer(\"AMD 5900x\", \"NVIDIA GTX3090\", 64))\n",
    "computer_array.append(Computer(\"INTEL i5-8400\", \"NVIDIA GTX1060\", 4))\n",
    "print(function(computer_array))\n"
   ]
  },
  {
   "cell_type": "code",
   "execution_count": null,
   "id": "da40654d",
   "metadata": {},
   "outputs": [],
   "source": [
    "#comments or playground"
   ]
  },
  {
   "cell_type": "markdown",
   "id": "0608ddb4",
   "metadata": {},
   "source": [
    "condition_sum_higher_order"
   ]
  },
  {
   "cell_type": "code",
   "execution_count": null,
   "id": "9b3c23ee",
   "metadata": {},
   "outputs": [],
   "source": [
    "from functools import reduce\n",
    "\n",
    "\n",
    "def function(n):\n",
    "    array_data = filter(lambda x: x % 3 == 0 or x % 4 == 0, range(2, n + 1))\n",
    "    return reduce(lambda x, y: x + y, array_data)\n",
    "\n",
    "\n",
    "print(function(14))\n"
   ]
  },
  {
   "cell_type": "code",
   "execution_count": null,
   "id": "4f67b9c1",
   "metadata": {},
   "outputs": [],
   "source": [
    "#comments or playground"
   ]
  },
  {
   "cell_type": "markdown",
   "id": "8ce6dde2",
   "metadata": {},
   "source": [
    "condition_sum_iterative"
   ]
  },
  {
   "cell_type": "code",
   "execution_count": null,
   "id": "dfb092b2",
   "metadata": {},
   "outputs": [],
   "source": [
    "def function(n):\n",
    "    array_data = []\n",
    "    for i in range(2, n + 1):\n",
    "        if i % 3 == 0 or i % 4 == 0:\n",
    "            array_data.append(i)\n",
    "    result = 0\n",
    "    for value in array_data:\n",
    "        result += value\n",
    "    return result\n",
    "\n",
    "\n",
    "print(function(14))\n"
   ]
  },
  {
   "cell_type": "code",
   "execution_count": null,
   "id": "3185317b",
   "metadata": {},
   "outputs": [],
   "source": [
    "#comments or playground"
   ]
  },
  {
   "cell_type": "markdown",
   "id": "726bfefd",
   "metadata": {},
   "source": [
    "condition_sum_list_comprehension"
   ]
  },
  {
   "cell_type": "code",
   "execution_count": null,
   "id": "75365775",
   "metadata": {},
   "outputs": [],
   "source": [
    "from functools import reduce\n",
    "\n",
    "\n",
    "def function(n):\n",
    "    array_data = [value for value in range(2, n + 1) if value % 3 == 0 or value % 4 == 0]\n",
    "    total = 0\n",
    "    scanned = [total := total + x for x in array_data]\n",
    "    return scanned[-1]\n",
    "\n",
    "\n",
    "print(function(14))\n"
   ]
  },
  {
   "cell_type": "code",
   "execution_count": null,
   "id": "e4f66d08",
   "metadata": {},
   "outputs": [],
   "source": [
    "#comments or playground"
   ]
  },
  {
   "cell_type": "markdown",
   "id": "0e7ab6e2",
   "metadata": {},
   "source": [
    "condition_sum_recursive"
   ]
  },
  {
   "cell_type": "code",
   "execution_count": null,
   "id": "5a84bfe8",
   "metadata": {},
   "outputs": [],
   "source": [
    "def function(n):\n",
    "    if n == 1:\n",
    "        return 0\n",
    "    if n % 3 == 0 or n % 4 == 0:\n",
    "        return n + function(n - 1)\n",
    "    else:\n",
    "        return function(n - 1)\n",
    "\n",
    "\n",
    "print(function(14))\n"
   ]
  },
  {
   "cell_type": "code",
   "execution_count": null,
   "id": "40e6db6f",
   "metadata": {},
   "outputs": [],
   "source": [
    "#comments or playground"
   ]
  },
  {
   "cell_type": "markdown",
   "id": "ad3f63d4",
   "metadata": {},
   "source": [
    "find_higher_order"
   ]
  },
  {
   "cell_type": "code",
   "execution_count": null,
   "id": "dd18b9ee",
   "metadata": {},
   "outputs": [],
   "source": [
    "from functools import reduce\n",
    "\n",
    "\n",
    "def function(data_array, element):\n",
    "    index_data_array = enumerate(data_array)\n",
    "    filtered_array = map(lambda x_tuple: x_tuple[0] if x_tuple[1] == element else 0, index_data_array)\n",
    "    return reduce(lambda x, y: x + y, filtered_array)\n",
    "\n",
    "\n",
    "print(function([1, 2, 3, 4, 5], 3))\n"
   ]
  },
  {
   "cell_type": "code",
   "execution_count": null,
   "id": "e0a8c6a0",
   "metadata": {},
   "outputs": [],
   "source": [
    "#comments or playground"
   ]
  },
  {
   "cell_type": "markdown",
   "id": "4ab0cf97",
   "metadata": {},
   "source": [
    "find_iterative"
   ]
  },
  {
   "cell_type": "code",
   "execution_count": null,
   "id": "68c56f55",
   "metadata": {},
   "outputs": [],
   "source": [
    "def function(data_array, element):\n",
    "    for idx, value in enumerate(data_array):\n",
    "        if value == element:\n",
    "            return idx\n",
    "    return -1\n",
    "\n",
    "\n",
    "print(function([1, 2, 3, 4, 5], 3))\n"
   ]
  },
  {
   "cell_type": "code",
   "execution_count": null,
   "id": "f92ae915",
   "metadata": {},
   "outputs": [],
   "source": [
    "#comments or playground"
   ]
  },
  {
   "cell_type": "markdown",
   "id": "b9103695",
   "metadata": {},
   "source": [
    "find_list_comprehension"
   ]
  },
  {
   "cell_type": "code",
   "execution_count": null,
   "id": "8d5a41a4",
   "metadata": {},
   "outputs": [],
   "source": [
    "from functools import reduce\n",
    "\n",
    "\n",
    "def function(data_array, element):\n",
    "    return [idx for (idx, value) in enumerate(data_array) if value == element][0]\n",
    "\n",
    "\n",
    "print(function([1, 2, 3, 4, 5], 3))\n"
   ]
  },
  {
   "cell_type": "code",
   "execution_count": null,
   "id": "793e132b",
   "metadata": {},
   "outputs": [],
   "source": [
    "#comments or playground"
   ]
  },
  {
   "cell_type": "markdown",
   "id": "2bac6d9e",
   "metadata": {},
   "source": [
    "find_recursive"
   ]
  },
  {
   "cell_type": "code",
   "execution_count": null,
   "id": "6f9bddcd",
   "metadata": {},
   "outputs": [],
   "source": [
    "def function(data_array, element):\n",
    "    if len(data_array) == 0:\n",
    "        return -1\n",
    "    elif data_array[0] == element:\n",
    "        return 0\n",
    "    else:\n",
    "        idx = function(data_array[1:], element)\n",
    "        if idx == -1:\n",
    "            return -1\n",
    "        else:\n",
    "            return idx + 1\n",
    "\n",
    "\n",
    "print(function([1, 2, 3, 4, 5], 3))\n"
   ]
  },
  {
   "cell_type": "code",
   "execution_count": null,
   "id": "30fa3360",
   "metadata": {},
   "outputs": [],
   "source": [
    "#comments or playground"
   ]
  },
  {
   "cell_type": "markdown",
   "id": "6f5052cd",
   "metadata": {},
   "source": [
    "is_prime_higher_order"
   ]
  },
  {
   "cell_type": "code",
   "execution_count": null,
   "id": "9602c98c",
   "metadata": {},
   "outputs": [],
   "source": [
    "def function(number):\n",
    "    number_array = range(1, number + 1)\n",
    "    prime_array = filter(lambda x: number % x == 0, number_array)\n",
    "    return len(list(prime_array)) == 2\n",
    "\n",
    "\n",
    "print(function(7))\n"
   ]
  },
  {
   "cell_type": "code",
   "execution_count": null,
   "id": "11e3cf17",
   "metadata": {},
   "outputs": [],
   "source": [
    "#comments or playground"
   ]
  },
  {
   "cell_type": "markdown",
   "id": "7a68efe9",
   "metadata": {},
   "source": [
    "is_prime_iterative"
   ]
  },
  {
   "cell_type": "code",
   "execution_count": null,
   "id": "98f3906b",
   "metadata": {},
   "outputs": [],
   "source": [
    "def function(number):\n",
    "    if number == 1:\n",
    "        return False\n",
    "    for check_num in range(2, int(number / 2) + 1):\n",
    "        if number % check_num == 0:\n",
    "            return False\n",
    "    return True\n",
    "\n",
    "\n",
    "print(function(7))\n"
   ]
  },
  {
   "cell_type": "code",
   "execution_count": null,
   "id": "367e2b60",
   "metadata": {},
   "outputs": [],
   "source": [
    "#comments or playground"
   ]
  },
  {
   "cell_type": "markdown",
   "id": "ba5804c6",
   "metadata": {},
   "source": [
    "is_prime_list_comprehension"
   ]
  },
  {
   "cell_type": "code",
   "execution_count": null,
   "id": "d3d674e8",
   "metadata": {},
   "outputs": [],
   "source": [
    "def function(number):\n",
    "    return len([value for value in range(1, number+1) if number % value == 0]) == 2\n",
    "\n",
    "\n",
    "print(function(7))\n"
   ]
  },
  {
   "cell_type": "code",
   "execution_count": null,
   "id": "50dc85b0",
   "metadata": {},
   "outputs": [],
   "source": [
    "#comments or playground"
   ]
  },
  {
   "cell_type": "markdown",
   "id": "02e7ccf4",
   "metadata": {},
   "source": [
    "is_prime_recursive"
   ]
  },
  {
   "cell_type": "code",
   "execution_count": null,
   "id": "9510e0c6",
   "metadata": {},
   "outputs": [],
   "source": [
    "def function(number, current=None):\n",
    "    if current is None:\n",
    "        current = int(number / 2)\n",
    "    if number == 1:\n",
    "        return False\n",
    "    if current == 1:\n",
    "        return True\n",
    "    if number % current == 0:\n",
    "        return False\n",
    "    return function(number, current - 1)\n",
    "\n",
    "\n",
    "print(function(7))\n"
   ]
  },
  {
   "cell_type": "code",
   "execution_count": null,
   "id": "ef1c163f",
   "metadata": {},
   "outputs": [],
   "source": [
    "#comments or playground"
   ]
  },
  {
   "cell_type": "markdown",
   "id": "23df8dc3",
   "metadata": {},
   "source": [
    "LinkedList_higher_order"
   ]
  },
  {
   "cell_type": "code",
   "execution_count": null,
   "id": "2d26a84e",
   "metadata": {},
   "outputs": [],
   "source": [
    "from functools import reduce\n",
    "from itertools import accumulate\n",
    "\n",
    "\n",
    "class Node:\n",
    "    def __init__(self, data):\n",
    "        self.data = data\n",
    "        self.next = None\n",
    "\n",
    "    def __repr__(self):\n",
    "        return str(self.data)\n",
    "\n",
    "    def __iter__(self):\n",
    "        self.current = self\n",
    "        return self\n",
    "\n",
    "    def __next__(self):\n",
    "        if self.current is None:\n",
    "            raise StopIteration\n",
    "        else:\n",
    "            tmp = self.current\n",
    "            self.current = self.current.next\n",
    "            return tmp\n",
    "\n",
    "\n",
    "def function(node_list):\n",
    "    filtered_list = filter(lambda x: x[0] % 2 == 0, enumerate(node_list))\n",
    "    mapped_list = map(lambda x: x[1].data, filtered_list)\n",
    "    return reduce(lambda x, y: x + y, mapped_list)\n",
    "\n",
    "\n",
    "node1 = Node(2)\n",
    "node2 = Node(5)\n",
    "node3 = Node(7)\n",
    "node4 = Node(4)\n",
    "node5 = Node(1)\n",
    "node6 = Node(3)\n",
    "node7 = Node(6)\n",
    "node1.next = node2\n",
    "node2.next = node3\n",
    "node3.next = node4\n",
    "node4.next = node5\n",
    "node5.next = node6\n",
    "node6.next = node7\n",
    "print(function(node1))\n"
   ]
  },
  {
   "cell_type": "code",
   "execution_count": null,
   "id": "3f85ce19",
   "metadata": {},
   "outputs": [],
   "source": [
    "#comments or playground"
   ]
  },
  {
   "cell_type": "markdown",
   "id": "924139dc",
   "metadata": {},
   "source": [
    "LinkedList_iterative"
   ]
  },
  {
   "cell_type": "code",
   "execution_count": null,
   "id": "5e0c5ef3",
   "metadata": {},
   "outputs": [],
   "source": [
    "\n",
    "class Node:\n",
    "    def __init__(self, data):\n",
    "        self.data = data\n",
    "        self.next = None\n",
    "\n",
    "    def __repr__(self):\n",
    "        return str(self.data)\n",
    "\n",
    "    def __iter__(self):\n",
    "        self.current = self\n",
    "        return self\n",
    "\n",
    "    def __next__(self):\n",
    "        if self.current is None:\n",
    "            raise StopIteration\n",
    "        else:\n",
    "            tmp = self.current\n",
    "            self.current = self.current.next\n",
    "            return tmp\n",
    "\n",
    "\n",
    "def function(node_list):\n",
    "    result = 0\n",
    "    for idx, node in enumerate(node_list):\n",
    "        if idx % 2 == 0:\n",
    "            result += node.data\n",
    "    return result\n",
    "\n",
    "node1 = Node(2)\n",
    "node2 = Node(5)\n",
    "node3 = Node(7)\n",
    "node4 = Node(4)\n",
    "node5 = Node(1)\n",
    "node6 = Node(3)\n",
    "node7 = Node(6)\n",
    "node1.next = node2\n",
    "node2.next = node3\n",
    "node3.next = node4\n",
    "node4.next = node5\n",
    "node5.next = node6\n",
    "node6.next = node7\n",
    "print(function(node1))\n"
   ]
  },
  {
   "cell_type": "code",
   "execution_count": null,
   "id": "0359f158",
   "metadata": {},
   "outputs": [],
   "source": [
    "#comments or playground"
   ]
  },
  {
   "cell_type": "markdown",
   "id": "9bb2b1d8",
   "metadata": {},
   "source": [
    "LinkedList_list_comprehension"
   ]
  },
  {
   "cell_type": "code",
   "execution_count": null,
   "id": "df3444b2",
   "metadata": {},
   "outputs": [],
   "source": [
    "from functools import reduce\n",
    "from itertools import accumulate\n",
    "\n",
    "\n",
    "class Node:\n",
    "    def __init__(self, data):\n",
    "        self.data = data\n",
    "        self.next = None\n",
    "\n",
    "    def __repr__(self):\n",
    "        return str(self.data)\n",
    "\n",
    "    def __iter__(self):\n",
    "        self.current = self\n",
    "        return self\n",
    "\n",
    "    def __next__(self):\n",
    "        if self.current is None:\n",
    "            raise StopIteration\n",
    "        else:\n",
    "            tmp = self.current\n",
    "            self.current = self.current.next\n",
    "            return tmp\n",
    "\n",
    "\n",
    "def function(node_list):\n",
    "    filtered_list = [node.data for (idx, node) in enumerate(node_list) if idx % 2 == 0]\n",
    "    total = 0\n",
    "    scanned = [total := total + x for x in filtered_list]\n",
    "    return scanned[-1]\n",
    "\n",
    "\n",
    "node1 = Node(2)\n",
    "node2 = Node(5)\n",
    "node3 = Node(7)\n",
    "node4 = Node(4)\n",
    "node5 = Node(1)\n",
    "node6 = Node(3)\n",
    "node7 = Node(6)\n",
    "node1.next = node2\n",
    "node2.next = node3\n",
    "node3.next = node4\n",
    "node4.next = node5\n",
    "node5.next = node6\n",
    "node6.next = node7\n",
    "print(function(node1))\n"
   ]
  },
  {
   "cell_type": "code",
   "execution_count": null,
   "id": "acdadae8",
   "metadata": {},
   "outputs": [],
   "source": [
    "#comments or playground"
   ]
  },
  {
   "cell_type": "markdown",
   "id": "0ac08482",
   "metadata": {},
   "source": [
    "LinkedList_recursive"
   ]
  },
  {
   "cell_type": "code",
   "execution_count": null,
   "id": "d2b9cf34",
   "metadata": {},
   "outputs": [],
   "source": [
    "class Node:\n",
    "    def __init__(self, data):\n",
    "        self.data = data\n",
    "        self.next = None\n",
    "\n",
    "    def __repr__(self):\n",
    "        return str(self.data)\n",
    "\n",
    "\n",
    "def function(node_list, odd=False):\n",
    "    if node_list is None:\n",
    "        return 0\n",
    "    if not odd:\n",
    "        return node_list.data + function(node_list.next, True)\n",
    "    else:\n",
    "        return function(node_list.next, False)\n",
    "\n",
    "\n",
    "node1 = Node(2)\n",
    "node2 = Node(5)\n",
    "node3 = Node(7)\n",
    "node4 = Node(4)\n",
    "node5 = Node(1)\n",
    "node6 = Node(3)\n",
    "node7 = Node(6)\n",
    "node1.next = node2\n",
    "node2.next = node3\n",
    "node3.next = node4\n",
    "node4.next = node5\n",
    "node5.next = node6\n",
    "node6.next = node7\n",
    "print(function(node1))\n"
   ]
  },
  {
   "cell_type": "code",
   "execution_count": null,
   "id": "fc814de7",
   "metadata": {},
   "outputs": [],
   "source": [
    "#comments or playground"
   ]
  },
  {
   "cell_type": "markdown",
   "id": "b958ceff",
   "metadata": {},
   "source": [
    "max_higher_order"
   ]
  },
  {
   "cell_type": "code",
   "execution_count": null,
   "id": "013fbacb",
   "metadata": {},
   "outputs": [],
   "source": [
    "from functools import reduce\n",
    "\n",
    "\n",
    "def function(array_data):\n",
    "    return reduce(lambda x, y: x if x >= y else y, array_data)\n",
    "\n",
    "\n",
    "print(function([0, 5, 2]))\n"
   ]
  },
  {
   "cell_type": "code",
   "execution_count": null,
   "id": "91b1607e",
   "metadata": {},
   "outputs": [],
   "source": [
    "#comments or playground"
   ]
  },
  {
   "cell_type": "markdown",
   "id": "ad0a2193",
   "metadata": {},
   "source": [
    "max_iterative"
   ]
  },
  {
   "cell_type": "code",
   "execution_count": null,
   "id": "1826f2a3",
   "metadata": {},
   "outputs": [],
   "source": [
    "def function(array_data):\n",
    "    if len(array_data) == 0:\n",
    "        return None\n",
    "\n",
    "    max_value = array_data[0]\n",
    "    for value in array_data:\n",
    "        if value > max_value:\n",
    "            max_value = value\n",
    "    return max_value\n",
    "\n",
    "\n",
    "print(function([0, 5, 2]))\n"
   ]
  },
  {
   "cell_type": "code",
   "execution_count": null,
   "id": "aacffe76",
   "metadata": {},
   "outputs": [],
   "source": [
    "#comments or playground"
   ]
  },
  {
   "cell_type": "markdown",
   "id": "c22e23f9",
   "metadata": {},
   "source": [
    "max_list_comprehension"
   ]
  },
  {
   "cell_type": "code",
   "execution_count": null,
   "id": "9f73b5ad",
   "metadata": {},
   "outputs": [],
   "source": [
    "from functools import reduce\n",
    "\n",
    "\n",
    "def function(array_data):\n",
    "    max_value = array_data[0]\n",
    "    scanned = [max_value := x for x in array_data if x > max_value]\n",
    "    return scanned[-1]\n",
    "\n",
    "\n",
    "print(function([0, 5, 2]))\n"
   ]
  },
  {
   "cell_type": "code",
   "execution_count": null,
   "id": "e20289c5",
   "metadata": {},
   "outputs": [],
   "source": [
    "#comments or playground"
   ]
  },
  {
   "cell_type": "markdown",
   "id": "856592de",
   "metadata": {},
   "source": [
    "max_recursive"
   ]
  },
  {
   "cell_type": "code",
   "execution_count": null,
   "id": "6e7a4203",
   "metadata": {},
   "outputs": [],
   "source": [
    "def function(array_data, current=None):\n",
    "    if len(array_data) == 0:\n",
    "        return current\n",
    "    elif current is None:\n",
    "        return function(array_data[1:], array_data[0])\n",
    "    elif current >= array_data[0]:\n",
    "        return function(array_data[1:], current)\n",
    "    else:\n",
    "        return function(array_data[1:], array_data[0])\n",
    "\n",
    "\n",
    "print(function([0, 5, 2]))\n"
   ]
  },
  {
   "cell_type": "code",
   "execution_count": null,
   "id": "bf1dd863",
   "metadata": {},
   "outputs": [],
   "source": [
    "#comments or playground"
   ]
  },
  {
   "cell_type": "markdown",
   "id": "00349c76",
   "metadata": {},
   "source": [
    "node_higher_order"
   ]
  },
  {
   "cell_type": "code",
   "execution_count": null,
   "id": "5c7946b4",
   "metadata": {},
   "outputs": [],
   "source": [
    "from itertools import product\n",
    "from functools import reduce\n",
    "\n",
    "\n",
    "class Node:\n",
    "    def __init__(self, value):\n",
    "        self.value = value\n",
    "        self.left = None\n",
    "        self.right = None\n",
    "\n",
    "    def pre_order_iter(self):\n",
    "        result = [self]\n",
    "        if self.left is not None:\n",
    "            left = self.left.pre_order_iter()\n",
    "            result = result + left\n",
    "        if self.right is not None:\n",
    "            right = self.right.pre_order_iter()\n",
    "            result = result + right\n",
    "        return result\n",
    "\n",
    "\n",
    "def function(node):\n",
    "    duos = product(node.pre_order_iter(), node.pre_order_iter())\n",
    "    multiplies = map(lambda x: x[0].value * x[1].value, duos)\n",
    "    return reduce(lambda x, y: x + y, multiplies)\n",
    "\n",
    "\n",
    "n = Node(2)\n",
    "n.left = Node(1)\n",
    "n.right = Node(3)\n",
    "print(function(n))\n"
   ]
  },
  {
   "cell_type": "code",
   "execution_count": null,
   "id": "b843f7a7",
   "metadata": {},
   "outputs": [],
   "source": [
    "#comments or playground"
   ]
  },
  {
   "cell_type": "markdown",
   "id": "2ac003bb",
   "metadata": {},
   "source": [
    "node_iterative"
   ]
  },
  {
   "cell_type": "code",
   "execution_count": null,
   "id": "ca3fac41",
   "metadata": {},
   "outputs": [],
   "source": [
    "class Node:\n",
    "    def __init__(self, value):\n",
    "        self.value = value\n",
    "        self.left = None\n",
    "        self.right = None\n",
    "\n",
    "    def pre_order_iter(self):\n",
    "        stack = []\n",
    "        result = []\n",
    "        stack.append(self)\n",
    "\n",
    "        while len(stack) != 0:\n",
    "            node = stack.pop()\n",
    "            result.append(node)\n",
    "\n",
    "            if node.right is not None:\n",
    "                stack.append(node.right)\n",
    "\n",
    "            if node.left is not None:\n",
    "                stack.append(node.left)\n",
    "\n",
    "        return result\n",
    "\n",
    "\n",
    "def function(node):\n",
    "    result = 0\n",
    "    for current1 in node.pre_order_iter():\n",
    "        for current2 in node.pre_order_iter():\n",
    "            result += current1.value * current2.value\n",
    "    return result\n",
    "\n",
    "\n",
    "n = Node(2)\n",
    "n.left = Node(1)\n",
    "n.right = Node(3)\n",
    "print(function(n))\n"
   ]
  },
  {
   "cell_type": "code",
   "execution_count": null,
   "id": "87883a8d",
   "metadata": {},
   "outputs": [],
   "source": [
    "#comments or playground"
   ]
  },
  {
   "cell_type": "markdown",
   "id": "01174c1b",
   "metadata": {},
   "source": [
    "node_list_comprehension"
   ]
  },
  {
   "cell_type": "code",
   "execution_count": null,
   "id": "62f08702",
   "metadata": {},
   "outputs": [],
   "source": [
    "class Node:\n",
    "    def __init__(self, value):\n",
    "        self.value = value\n",
    "        self.left = None\n",
    "        self.right = None\n",
    "\n",
    "    def pre_order_iter(self):\n",
    "        result = [self]\n",
    "        if self.left is not None:\n",
    "            left = self.left.pre_order_iter()\n",
    "            result = result + left\n",
    "        if self.right is not None:\n",
    "            right = self.right.pre_order_iter()\n",
    "            result = result + right\n",
    "        return result\n",
    "\n",
    "\n",
    "def function(node):\n",
    "    multiplies = [x.value * y.value for x in node.pre_order_iter() for y in node.pre_order_iter()]\n",
    "    total = 0\n",
    "    scanned = [total := total + x for x in multiplies]\n",
    "    return scanned[-1]\n",
    "\n",
    "\n",
    "n = Node(2)\n",
    "n.left = Node(1)\n",
    "n.right = Node(3)\n",
    "print(function(n))\n"
   ]
  },
  {
   "cell_type": "code",
   "execution_count": null,
   "id": "7d1ced23",
   "metadata": {},
   "outputs": [],
   "source": [
    "#comments or playground"
   ]
  },
  {
   "cell_type": "markdown",
   "id": "68b09dfa",
   "metadata": {},
   "source": [
    "node_recursive"
   ]
  },
  {
   "cell_type": "code",
   "execution_count": null,
   "id": "e983f83b",
   "metadata": {},
   "outputs": [],
   "source": [
    "class Node:\n",
    "    def __init__(self, value):\n",
    "        self.value = value\n",
    "        self.left = None\n",
    "        self.right = None\n",
    "\n",
    "    def pre_order_iter(self):\n",
    "        result = []\n",
    "        result.append(self)\n",
    "        if self.left is not None:\n",
    "            left = self.left.pre_order_iter()\n",
    "            result = result + left\n",
    "        if self.right is not None:\n",
    "            right = self.right.pre_order_iter()\n",
    "            result = result + right\n",
    "        return result\n",
    "\n",
    "\n",
    "def helper(first, second, second_len=None):\n",
    "    if len(first) == 0:\n",
    "        return []\n",
    "\n",
    "    if len(second) == 0:\n",
    "        return []\n",
    "\n",
    "    if second_len is None:\n",
    "        return helper(first, second, len(second))\n",
    "\n",
    "    result = [(first[0], second[0])]\n",
    "    if len(second) == second_len:\n",
    "        inner = helper(first, second[1:], second_len)\n",
    "        outer = helper(first[1:], second, second_len)\n",
    "        result = result + inner + outer\n",
    "    else:\n",
    "        inner = helper(first, second[1:], second_len)\n",
    "        result = result + inner\n",
    "    return result\n",
    "\n",
    "\n",
    "def function(powerset):\n",
    "    if len(powerset) == 0:\n",
    "        return 0\n",
    "    return powerset[0][0].value * powerset[0][1].value + function(powerset[1:])\n",
    "\n",
    "\n",
    "n = Node(2)\n",
    "n.left = Node(1)\n",
    "n.right = Node(3)\n",
    "print(function(helper(n.pre_order_iter(), n.pre_order_iter())))\n"
   ]
  },
  {
   "cell_type": "code",
   "execution_count": null,
   "id": "d649f7bd",
   "metadata": {},
   "outputs": [],
   "source": [
    "#comments or playground"
   ]
  },
  {
   "cell_type": "markdown",
   "id": "dd928a43",
   "metadata": {},
   "source": [
    "prime_factors_higher_order"
   ]
  },
  {
   "cell_type": "code",
   "execution_count": null,
   "id": "4ff4c318",
   "metadata": {},
   "outputs": [],
   "source": [
    "def helper(number):\n",
    "    number_array = range(1, number + 1)\n",
    "    prime_array = filter(lambda x: number % x == 0, number_array)\n",
    "    return len(list(prime_array)) == 2\n",
    "\n",
    "\n",
    "def function(number):\n",
    "    primes = filter(helper, range(2, number + 1))\n",
    "    prime_factors = filter(lambda x: number % x == 0, primes)\n",
    "    return list(prime_factors)\n",
    "\n",
    "\n",
    "print(function(18))\n"
   ]
  },
  {
   "cell_type": "code",
   "execution_count": null,
   "id": "f73f5e2a",
   "metadata": {},
   "outputs": [],
   "source": [
    "#comments or playground"
   ]
  },
  {
   "cell_type": "markdown",
   "id": "125da01e",
   "metadata": {},
   "source": [
    "prime_factors_iterative"
   ]
  },
  {
   "cell_type": "code",
   "execution_count": null,
   "id": "c4f86dfb",
   "metadata": {},
   "outputs": [],
   "source": [
    "def helper(number):\n",
    "    if number == 1:\n",
    "        return False\n",
    "    for check_num in range(2, int(number / 2) + 1):\n",
    "        if number % check_num == 0:\n",
    "            return False\n",
    "    return True\n",
    "\n",
    "\n",
    "def function(number):\n",
    "    result = []\n",
    "    for idx_num in range(2, number + 1):\n",
    "        if helper(idx_num) and number % idx_num == 0:\n",
    "            result.append(idx_num)\n",
    "    return result\n",
    "\n",
    "\n",
    "print(function(18))\n"
   ]
  },
  {
   "cell_type": "code",
   "execution_count": null,
   "id": "51a50b67",
   "metadata": {},
   "outputs": [],
   "source": [
    "#comments or playground"
   ]
  },
  {
   "cell_type": "markdown",
   "id": "0e63a12a",
   "metadata": {},
   "source": [
    "prime_factors_list_comprehension"
   ]
  },
  {
   "cell_type": "code",
   "execution_count": null,
   "id": "c35f3115",
   "metadata": {},
   "outputs": [],
   "source": [
    "def helper(number):\n",
    "    return len([value for value in range(1, number + 1) if number % value == 0]) == 2\n",
    "\n",
    "\n",
    "def function(number):\n",
    "    return [x for x in range(2, number + 1) if helper(x) and number % x == 0]\n",
    "\n",
    "\n",
    "print(function(18))\n"
   ]
  },
  {
   "cell_type": "code",
   "execution_count": null,
   "id": "f66951e0",
   "metadata": {},
   "outputs": [],
   "source": [
    "#comments or playground"
   ]
  },
  {
   "cell_type": "markdown",
   "id": "14336bfc",
   "metadata": {},
   "source": [
    "prime_factors_recursive"
   ]
  },
  {
   "cell_type": "code",
   "execution_count": null,
   "id": "645b8204",
   "metadata": {},
   "outputs": [],
   "source": [
    "def helper(number, current=None):\n",
    "    if current is None:\n",
    "        current = int(number / 2)\n",
    "    if number == 1:\n",
    "        return False\n",
    "    if current == 1:\n",
    "        return True\n",
    "    if number % current == 0:\n",
    "        return False\n",
    "    return helper(number, current - 1)\n",
    "\n",
    "\n",
    "def function(number, current=None):\n",
    "    if current is None:\n",
    "        return function(number, 2)\n",
    "\n",
    "    elif number == current and number % current == 0:\n",
    "        return [current]\n",
    "\n",
    "    elif number <= current:\n",
    "        return []\n",
    "\n",
    "    elif not helper(current):\n",
    "        return function(number, current + 1)\n",
    "\n",
    "    elif number % current == 0:\n",
    "        return [current] + function(number / current, current + 1)\n",
    "\n",
    "    else:\n",
    "        return function(number, current + 1)\n",
    "\n",
    "\n",
    "print(function(18))\n"
   ]
  },
  {
   "cell_type": "code",
   "execution_count": null,
   "id": "b15875f1",
   "metadata": {},
   "outputs": [],
   "source": [
    "#comments or playground"
   ]
  },
  {
   "cell_type": "markdown",
   "id": "d028daf2",
   "metadata": {},
   "source": [
    "quad_mul_higher_order"
   ]
  },
  {
   "cell_type": "code",
   "execution_count": null,
   "id": "f2f37d64",
   "metadata": {},
   "outputs": [],
   "source": [
    "from functools import reduce\n",
    "\n",
    "\n",
    "def function(n):\n",
    "    array_data = map(lambda x: x ** 2, range(1, n + 1))\n",
    "    return reduce(lambda x, y: x * y, array_data)\n",
    "\n",
    "\n",
    "print(function(3))\n"
   ]
  },
  {
   "cell_type": "code",
   "execution_count": null,
   "id": "e961ca59",
   "metadata": {},
   "outputs": [],
   "source": [
    "#comments or playground"
   ]
  },
  {
   "cell_type": "markdown",
   "id": "9d29b8aa",
   "metadata": {},
   "source": [
    "quad_mul_iterative"
   ]
  },
  {
   "cell_type": "code",
   "execution_count": null,
   "id": "a322b43c",
   "metadata": {},
   "outputs": [],
   "source": [
    "def function(n):\n",
    "    array_data = []\n",
    "    for i in range(1, n + 1):\n",
    "        array_data.append(i ** 2)\n",
    "    result = 1\n",
    "    for value in array_data:\n",
    "        result *= value\n",
    "    return result\n",
    "\n",
    "\n",
    "print(function(3))\n"
   ]
  },
  {
   "cell_type": "code",
   "execution_count": null,
   "id": "e5130e9f",
   "metadata": {},
   "outputs": [],
   "source": [
    "#comments or playground"
   ]
  },
  {
   "cell_type": "markdown",
   "id": "f9aa7833",
   "metadata": {},
   "source": [
    "quad_mul_list_comprehension"
   ]
  },
  {
   "cell_type": "code",
   "execution_count": null,
   "id": "48091f4a",
   "metadata": {},
   "outputs": [],
   "source": [
    "from functools import reduce\n",
    "\n",
    "\n",
    "def function(n):\n",
    "    array_data = [x**2 for x in range(1, n + 1)]\n",
    "    total = 1\n",
    "    scanned = [total := total * x for x in array_data]\n",
    "    return scanned[-1]\n",
    "\n",
    "\n",
    "print(function(3))\n"
   ]
  },
  {
   "cell_type": "code",
   "execution_count": null,
   "id": "6d0ca8ee",
   "metadata": {},
   "outputs": [],
   "source": [
    "#comments or playground"
   ]
  },
  {
   "cell_type": "markdown",
   "id": "8fdc68c8",
   "metadata": {},
   "source": [
    "quad_mul_recursive"
   ]
  },
  {
   "cell_type": "code",
   "execution_count": null,
   "id": "2cf2c865",
   "metadata": {},
   "outputs": [],
   "source": [
    "def function(n):\n",
    "    if n == 1:\n",
    "        return 1\n",
    "    return n ** 2 * function(n - 1)\n",
    "\n",
    "\n",
    "print(function(3))\n"
   ]
  },
  {
   "cell_type": "code",
   "execution_count": null,
   "id": "f5fff3bc",
   "metadata": {},
   "outputs": [],
   "source": [
    "#comments or playground"
   ]
  },
  {
   "cell_type": "markdown",
   "id": "3f64fe45",
   "metadata": {},
   "source": [
    "Store_higher_order"
   ]
  },
  {
   "cell_type": "code",
   "execution_count": null,
   "id": "1bd2a9d3",
   "metadata": {},
   "outputs": [],
   "source": [
    "from itertools import product\n",
    "\n",
    "\n",
    "class Store:\n",
    "    id = 0\n",
    "\n",
    "    def __init__(self, name, city):\n",
    "        self.name = name\n",
    "        self.city = city\n",
    "        self.orders = []\n",
    "        self.id = Store.id\n",
    "        Store.id += 1\n",
    "\n",
    "    def add_order(self, order_id):\n",
    "        self.orders.append(order_id)\n",
    "\n",
    "    def __repr__(self):\n",
    "        return str(self.id)\n",
    "\n",
    "\n",
    "class Order:\n",
    "    id = 0\n",
    "\n",
    "    def __init__(self, product_name, number, price):\n",
    "        self.product_name = product_name\n",
    "        self.magnitude = number\n",
    "        self.price = price\n",
    "        self.id = Order.id\n",
    "        Order.id += 1\n",
    "\n",
    "    def __repr__(self):\n",
    "        return str(self.id)\n",
    "\n",
    "\n",
    "def function(store_array, order_array):\n",
    "    selected_stores = filter(lambda x: x.name == \"Edeka\", store_array)\n",
    "    selected_orders = filter(lambda x: x.product_name == \"sour cream\", order_array)\n",
    "    selected_product = product(selected_stores, selected_orders)\n",
    "    selected_stores_with_products = filter(lambda tuple: tuple[1].id in tuple[0].orders, selected_product)\n",
    "    return list(map(lambda x: x[0], selected_stores_with_products))\n",
    "\n",
    "\n",
    "store_array = []\n",
    "store_array.append(Store(\"Edeka\", \"Leipzig\"))\n",
    "store_array.append(Store(\"Rewe\", \"MÃ¼nchen\"))\n",
    "store_array.append(Store(\"Lidl\", \"Leipzig\"))\n",
    "store_array.append(Store(\"Edeka\", \"Berlin\"))\n",
    "\n",
    "order_array = []\n",
    "order_array.append(Order(\"sour cream\", 100, 0.9))\n",
    "order_array.append(Order(\"cheese\", 230, 1.2))\n",
    "order_array.append(Order(\"apples\", 40, 0.5))\n",
    "order_array.append(Order(\"potatoes\", 2000, 0.2))\n",
    "order_array.append(Order(\"pans\", 10, 10.9))\n",
    "\n",
    "store_array[0].add_order(0)\n",
    "store_array[0].add_order(2)\n",
    "store_array[0].add_order(4)\n",
    "store_array[1].add_order(1)\n",
    "store_array[1].add_order(3)\n",
    "store_array[2].add_order(2)\n",
    "store_array[2].add_order(0)\n",
    "store_array[2].add_order(1)\n",
    "store_array[3].add_order(0)\n",
    "\n",
    "print(function(store_array, order_array))\n"
   ]
  },
  {
   "cell_type": "code",
   "execution_count": null,
   "id": "6a06d3cd",
   "metadata": {},
   "outputs": [],
   "source": [
    "#comments or playground"
   ]
  },
  {
   "cell_type": "markdown",
   "id": "3b8ebc9b",
   "metadata": {},
   "source": [
    "Store_iterative"
   ]
  },
  {
   "cell_type": "code",
   "execution_count": null,
   "id": "0d53efea",
   "metadata": {},
   "outputs": [],
   "source": [
    "from itertools import product\n",
    "\n",
    "\n",
    "class Store:\n",
    "    id = 0\n",
    "\n",
    "    def __init__(self, name, city):\n",
    "        self.name = name\n",
    "        self.city = city\n",
    "        self.orders = []\n",
    "        self.id = Store.id\n",
    "        Store.id += 1\n",
    "\n",
    "    def add_order(self, order_id):\n",
    "        self.orders.append(order_id)\n",
    "\n",
    "    def __repr__(self):\n",
    "        return str(self.id)\n",
    "\n",
    "\n",
    "class Order:\n",
    "    id = 0\n",
    "\n",
    "    def __init__(self, product_name, number, price):\n",
    "        self.product_name = product_name\n",
    "        self.magnitude = number\n",
    "        self.price = price\n",
    "        self.id = Order.id\n",
    "        Order.id += 1\n",
    "\n",
    "    def __repr__(self):\n",
    "        return str(self.id)\n",
    "\n",
    "\n",
    "def function(store_array, order_array):\n",
    "    stores = []\n",
    "    for store in store_array:\n",
    "        if store.name == \"Edeka\":\n",
    "            stores.append(store)\n",
    "\n",
    "    orders = []\n",
    "    for order in order_array:\n",
    "        if order.product_name == \"sour cream\":\n",
    "            orders.append(order)\n",
    "\n",
    "    result = []\n",
    "    for store in stores:\n",
    "        for order in orders:\n",
    "            if order.id in store.orders:\n",
    "                result.append(store)\n",
    "\n",
    "    return result\n",
    "\n",
    "\n",
    "store_array = []\n",
    "store_array.append(Store(\"Edeka\", \"Leipzig\"))\n",
    "store_array.append(Store(\"Rewe\", \"MÃ¼nchen\"))\n",
    "store_array.append(Store(\"Lidl\", \"Leipzig\"))\n",
    "store_array.append(Store(\"Edeka\", \"Berlin\"))\n",
    "\n",
    "order_array = []\n",
    "order_array.append(Order(\"sour cream\", 100, 0.9))\n",
    "order_array.append(Order(\"cheese\", 230, 1.2))\n",
    "order_array.append(Order(\"apples\", 40, 0.5))\n",
    "order_array.append(Order(\"potatoes\", 2000, 0.2))\n",
    "order_array.append(Order(\"pans\", 10, 10.9))\n",
    "\n",
    "store_array[0].add_order(0)\n",
    "store_array[0].add_order(2)\n",
    "store_array[0].add_order(4)\n",
    "store_array[1].add_order(1)\n",
    "store_array[1].add_order(3)\n",
    "store_array[2].add_order(2)\n",
    "store_array[2].add_order(0)\n",
    "store_array[2].add_order(1)\n",
    "store_array[3].add_order(0)\n",
    "\n",
    "print(function(store_array, order_array))\n"
   ]
  },
  {
   "cell_type": "code",
   "execution_count": null,
   "id": "7281f055",
   "metadata": {},
   "outputs": [],
   "source": [
    "#comments or playground"
   ]
  },
  {
   "cell_type": "markdown",
   "id": "43ccd74b",
   "metadata": {},
   "source": [
    "Store_list_comprehension"
   ]
  },
  {
   "cell_type": "code",
   "execution_count": null,
   "id": "f39aa295",
   "metadata": {},
   "outputs": [],
   "source": [
    "from itertools import product\n",
    "\n",
    "\n",
    "class Store:\n",
    "    id = 0\n",
    "\n",
    "    def __init__(self, name, city):\n",
    "        self.name = name\n",
    "        self.city = city\n",
    "        self.orders = []\n",
    "        self.id = Store.id\n",
    "        Store.id += 1\n",
    "\n",
    "    def add_order(self, order_id):\n",
    "        self.orders.append(order_id)\n",
    "\n",
    "    def __repr__(self):\n",
    "        return str(self.id)\n",
    "\n",
    "\n",
    "class Order:\n",
    "    id = 0\n",
    "\n",
    "    def __init__(self, product_name, number, price):\n",
    "        self.product_name = product_name\n",
    "        self.magnitude = number\n",
    "        self.price = price\n",
    "        self.id = Order.id\n",
    "        Order.id += 1\n",
    "\n",
    "    def __repr__(self):\n",
    "        return str(self.id)\n",
    "\n",
    "\n",
    "def function(store_array, order_array):\n",
    "    selected_stores = [store for store in store_array if store.name == \"Edeka\"]\n",
    "    selected_orders = [order for order in order_array if order.product_name == \"sour cream\"]\n",
    "    return [store for store in selected_stores for order in selected_orders if order.id in store.orders]\n",
    "\n",
    "\n",
    "store_array = []\n",
    "store_array.append(Store(\"Edeka\", \"Leipzig\"))\n",
    "store_array.append(Store(\"Rewe\", \"MÃ¼nchen\"))\n",
    "store_array.append(Store(\"Lidl\", \"Leipzig\"))\n",
    "store_array.append(Store(\"Edeka\", \"Berlin\"))\n",
    "\n",
    "order_array = []\n",
    "order_array.append(Order(\"sour cream\", 100, 0.9))\n",
    "order_array.append(Order(\"cheese\", 230, 1.2))\n",
    "order_array.append(Order(\"apples\", 40, 0.5))\n",
    "order_array.append(Order(\"potatoes\", 2000, 0.2))\n",
    "order_array.append(Order(\"pans\", 10, 10.9))\n",
    "\n",
    "store_array[0].add_order(0)\n",
    "store_array[0].add_order(2)\n",
    "store_array[0].add_order(4)\n",
    "store_array[1].add_order(1)\n",
    "store_array[1].add_order(3)\n",
    "store_array[2].add_order(2)\n",
    "store_array[2].add_order(0)\n",
    "store_array[2].add_order(1)\n",
    "store_array[3].add_order(0)\n",
    "\n",
    "print(function(store_array, order_array))\n"
   ]
  },
  {
   "cell_type": "code",
   "execution_count": null,
   "id": "a4bbdadf",
   "metadata": {},
   "outputs": [],
   "source": [
    "#comments or playground"
   ]
  },
  {
   "cell_type": "markdown",
   "id": "2ba13c26",
   "metadata": {},
   "source": [
    "Store_recursive"
   ]
  },
  {
   "cell_type": "code",
   "execution_count": null,
   "id": "c141ee6b",
   "metadata": {},
   "outputs": [],
   "source": [
    "from itertools import product\n",
    "\n",
    "\n",
    "class Store:\n",
    "    id = 0\n",
    "\n",
    "    def __init__(self, name, city):\n",
    "        self.name = name\n",
    "        self.city = city\n",
    "        self.orders = []\n",
    "        self.id = Store.id\n",
    "        Store.id += 1\n",
    "\n",
    "    def add_order(self, order_id):\n",
    "        self.orders.append(order_id)\n",
    "\n",
    "    def __repr__(self):\n",
    "        return str(self.id)\n",
    "\n",
    "\n",
    "class Order:\n",
    "    id = 0\n",
    "\n",
    "    def __init__(self, product_name, number, price):\n",
    "        self.product_name = product_name\n",
    "        self.magnitude = number\n",
    "        self.price = price\n",
    "        self.id = Order.id\n",
    "        Order.id += 1\n",
    "\n",
    "    def __repr__(self):\n",
    "        return str(self.id)\n",
    "\n",
    "def helper1(order_array):\n",
    "    if len(order_array) == 0:\n",
    "        return []\n",
    "    if order_array[0].product_name == \"sour cream\":\n",
    "        return [order_array[0]] + helper1(order_array[1:])\n",
    "    else:\n",
    "        return helper1(order_array[1:])\n",
    "\n",
    "\n",
    "def helper2(store, order_array):\n",
    "    if len(order_array) == 0:\n",
    "        return False\n",
    "    if order_array[0].id in store.orders:\n",
    "        return True\n",
    "    else:\n",
    "        return helper2(store, order_array[1:])\n",
    "\n",
    "\n",
    "def function(store_array, order_array):\n",
    "    if len(store_array)==0:\n",
    "        return []\n",
    "    if store_array[0].name == \"Edeka\":\n",
    "        orders = helper1(order_array)\n",
    "        if helper2(store_array[0], orders):\n",
    "            return [store_array[0]] + function(store_array[1:], order_array)\n",
    "\n",
    "    return function(store_array[1:], order_array)\n",
    "\n",
    "\n",
    "store_array = []\n",
    "store_array.append(Store(\"Edeka\", \"Leipzig\"))\n",
    "store_array.append(Store(\"Rewe\", \"MÃ¼nchen\"))\n",
    "store_array.append(Store(\"Lidl\", \"Leipzig\"))\n",
    "store_array.append(Store(\"Edeka\", \"Berlin\"))\n",
    "\n",
    "order_array = []\n",
    "order_array.append(Order(\"sour cream\", 100, 0.9))\n",
    "order_array.append(Order(\"cheese\", 230, 1.2))\n",
    "order_array.append(Order(\"apples\", 40, 0.5))\n",
    "order_array.append(Order(\"potatoes\", 2000, 0.2))\n",
    "order_array.append(Order(\"pans\", 10, 10.9))\n",
    "\n",
    "store_array[0].add_order(0)\n",
    "store_array[0].add_order(2)\n",
    "store_array[0].add_order(4)\n",
    "store_array[1].add_order(1)\n",
    "store_array[1].add_order(3)\n",
    "store_array[2].add_order(2)\n",
    "store_array[2].add_order(0)\n",
    "store_array[2].add_order(1)\n",
    "store_array[3].add_order(0)\n",
    "\n",
    "print(function(store_array, order_array))\n"
   ]
  },
  {
   "cell_type": "code",
   "execution_count": null,
   "id": "896ceac8",
   "metadata": {},
   "outputs": [],
   "source": [
    "#comments or playground"
   ]
  },
  {
   "cell_type": "markdown",
   "id": "70df6055",
   "metadata": {},
   "source": [
    "students_higher_order"
   ]
  },
  {
   "cell_type": "code",
   "execution_count": null,
   "id": "db2063c3",
   "metadata": {},
   "outputs": [],
   "source": [
    "class Student:\n",
    "    def __init__(self, age, name):\n",
    "        self.age = age\n",
    "        self.name = name\n",
    "\n",
    "    def __repr__(self):\n",
    "        return str(self.name)\n",
    "\n",
    "\n",
    "def function(student_array):\n",
    "    return list(filter(lambda x: x.age >= 18, student_array))\n",
    "\n",
    "\n",
    "students = []\n",
    "students.append(Student(17, \"Hans\"))\n",
    "students.append(Student(21, \"Jasmin\"))\n",
    "students.append(Student(32, \"Florian\"))\n",
    "print(function(students))\n"
   ]
  },
  {
   "cell_type": "code",
   "execution_count": null,
   "id": "2907799d",
   "metadata": {},
   "outputs": [],
   "source": [
    "#comments or playground"
   ]
  },
  {
   "cell_type": "markdown",
   "id": "ca588141",
   "metadata": {},
   "source": [
    "students_iterative"
   ]
  },
  {
   "cell_type": "code",
   "execution_count": null,
   "id": "0b6b9494",
   "metadata": {},
   "outputs": [],
   "source": [
    "class Student:\n",
    "    def __init__(self, age, name):\n",
    "        self.age = age\n",
    "        self.name = name\n",
    "\n",
    "    def __repr__(self):\n",
    "        return str(self.name)\n",
    "\n",
    "\n",
    "def function(student_array):\n",
    "    result = []\n",
    "    for student in student_array:\n",
    "        if student.age >= 18:\n",
    "            result.append(student)\n",
    "    return result\n",
    "\n",
    "\n",
    "students = []\n",
    "students.append(Student(17, \"Hans\"))\n",
    "students.append(Student(21, \"Jasmin\"))\n",
    "students.append(Student(32, \"Florian\"))\n",
    "print(function(students))\n"
   ]
  },
  {
   "cell_type": "code",
   "execution_count": null,
   "id": "9f328286",
   "metadata": {},
   "outputs": [],
   "source": [
    "#comments or playground"
   ]
  },
  {
   "cell_type": "markdown",
   "id": "dd044515",
   "metadata": {},
   "source": [
    "students_list_comprehension"
   ]
  },
  {
   "cell_type": "code",
   "execution_count": null,
   "id": "7e05fc7a",
   "metadata": {},
   "outputs": [],
   "source": [
    "class Student:\n",
    "    def __init__(self, age, name):\n",
    "        self.age = age\n",
    "        self.name = name\n",
    "\n",
    "    def __repr__(self):\n",
    "        return str(self.name)\n",
    "\n",
    "\n",
    "def function(student_array):\n",
    "    return [student for student in student_array if student.age >= 18]\n",
    "\n",
    "\n",
    "students = []\n",
    "students.append(Student(17, \"Hans\"))\n",
    "students.append(Student(21, \"Jasmin\"))\n",
    "students.append(Student(32, \"Florian\"))\n",
    "print(function(students))\n"
   ]
  },
  {
   "cell_type": "code",
   "execution_count": null,
   "id": "1c3c6da2",
   "metadata": {},
   "outputs": [],
   "source": [
    "#comments or playground"
   ]
  },
  {
   "cell_type": "markdown",
   "id": "1d03709b",
   "metadata": {},
   "source": [
    "students_recursive"
   ]
  },
  {
   "cell_type": "code",
   "execution_count": null,
   "id": "d3b8c9e1",
   "metadata": {},
   "outputs": [],
   "source": [
    "class Student:\n",
    "    def __init__(self, age, name):\n",
    "        self.age = age\n",
    "        self.name = name\n",
    "\n",
    "    def __repr__(self):\n",
    "        return str(self.name)\n",
    "\n",
    "\n",
    "def function(student_array):\n",
    "    if len(student_array) == 0:\n",
    "        return []\n",
    "    elif student_array[0].age >= 18:\n",
    "        return [student_array[0]] + function(student_array[1:])\n",
    "    else:\n",
    "        return function(student_array[1:])\n",
    "\n",
    "\n",
    "students = []\n",
    "students.append(Student(17, \"Hans\"))\n",
    "students.append(Student(21, \"Jasmin\"))\n",
    "students.append(Student(32, \"Florian\"))\n",
    "print(function(students))\n"
   ]
  },
  {
   "cell_type": "code",
   "execution_count": null,
   "id": "4d39c521",
   "metadata": {},
   "outputs": [],
   "source": [
    "#comments or playground"
   ]
  }
 ],
 "metadata": {},
 "nbformat": 4,
 "nbformat_minor": 5
}
