{
 "cells": [
  {
   "cell_type": "code",
   "execution_count": 1,
   "metadata": {},
   "outputs": [],
   "source": [
    "from functools import reduce\n",
    "from itertools import product"
   ]
  },
  {
   "cell_type": "markdown",
   "metadata": {},
   "source": [
    "ez example, gg"
   ]
  },
  {
   "cell_type": "code",
   "execution_count": 2,
   "metadata": {},
   "outputs": [],
   "source": [
    "def add_5_iterative(array_data):\n",
    "    result = []\n",
    "    for element in array_data:\n",
    "        result.append(element+5)\n",
    "    return result"
   ]
  },
  {
   "cell_type": "code",
   "execution_count": 3,
   "metadata": {},
   "outputs": [],
   "source": [
    "def add_5_recursive(array_data):\n",
    "    if len(array_data) == 0:\n",
    "        return []\n",
    "    return [array_data[0]+5] + add_5_recursive(array_data[1:])"
   ]
  },
  {
   "cell_type": "code",
   "execution_count": 4,
   "metadata": {},
   "outputs": [],
   "source": [
    "def add_5_higher_order(array_data):\n",
    "    return list(map(lambda x: x+5, array_data))"
   ]
  },
  {
   "cell_type": "code",
   "execution_count": 5,
   "metadata": {},
   "outputs": [
    {
     "name": "stdout",
     "output_type": "stream",
     "text": [
      "[5, 10, 15]\n",
      "[5, 10, 15]\n",
      "[5, 10, 15]\n"
     ]
    }
   ],
   "source": [
    "print(add_5_iterative([0,5,10]))\n",
    "print(add_5_recursive([0,5,10]))\n",
    "print(add_5_higher_order([0,5,10]))"
   ]
  },
  {
   "cell_type": "markdown",
   "metadata": {},
   "source": [
    "Is Prime number"
   ]
  },
  {
   "cell_type": "code",
   "execution_count": 6,
   "metadata": {},
   "outputs": [],
   "source": [
    "def is_prime_iterative(number):\n",
    "    if number == 1:\n",
    "        return False\n",
    "    for check_num in range(2, int(number/2)+1):\n",
    "        if number % check_num == 0:\n",
    "            return False\n",
    "    return True"
   ]
  },
  {
   "cell_type": "code",
   "execution_count": 7,
   "metadata": {},
   "outputs": [],
   "source": [
    "def is_prime_recursive(number, current=None):\n",
    "    if current is None:\n",
    "        current = int(number/2)\n",
    "    if number == 1:\n",
    "        return False\n",
    "    if current == 1:\n",
    "        return True\n",
    "    if number%current == 0:\n",
    "        return False\n",
    "    return is_prime_recursive(number, current-1)"
   ]
  },
  {
   "cell_type": "code",
   "execution_count": 8,
   "metadata": {},
   "outputs": [],
   "source": [
    "def is_prime_higher_order(number):\n",
    "    number_array = range(1, number+1)\n",
    "    prime_array = filter(lambda x: number%x==0, number_array)\n",
    "    return len(list(prime_array)) == 2"
   ]
  },
  {
   "cell_type": "code",
   "execution_count": 9,
   "metadata": {},
   "outputs": [
    {
     "name": "stdout",
     "output_type": "stream",
     "text": [
      "True\n",
      "True\n",
      "True\n"
     ]
    }
   ],
   "source": [
    "print(is_prime_iterative(7))\n",
    "print(is_prime_recursive(7))\n",
    "print(is_prime_higher_order(7))"
   ]
  },
  {
   "cell_type": "markdown",
   "metadata": {},
   "source": [
    "Sum Up an array of quadratics"
   ]
  },
  {
   "cell_type": "code",
   "execution_count": 10,
   "metadata": {},
   "outputs": [],
   "source": [
    "def quad_mul_iterative(n):\n",
    "    array_data = []\n",
    "    for i in range(1,n+1):\n",
    "        array_data.append(i**2)\n",
    "    result = 1\n",
    "    for value in array_data:\n",
    "        result *= value\n",
    "    return result"
   ]
  },
  {
   "cell_type": "code",
   "execution_count": 11,
   "metadata": {},
   "outputs": [],
   "source": [
    "def quad_mul_recursive(n):\n",
    "    if n == 1:\n",
    "        return 1\n",
    "    return n**2 * quad_mul_recursive(n-1)"
   ]
  },
  {
   "cell_type": "code",
   "execution_count": 12,
   "metadata": {},
   "outputs": [],
   "source": [
    "def quad_mul_higher_order(n):\n",
    "    array_data = map(lambda x: x**2, range(1,n+1))\n",
    "    return reduce(lambda x,y: x*y, array_data)"
   ]
  },
  {
   "cell_type": "code",
   "execution_count": 13,
   "metadata": {},
   "outputs": [
    {
     "name": "stdout",
     "output_type": "stream",
     "text": [
      "36\n",
      "36\n",
      "36\n"
     ]
    }
   ],
   "source": [
    "print(quad_mul_iterative(3))\n",
    "print(quad_mul_recursive(3))\n",
    "print(quad_mul_higher_order(3))"
   ]
  },
  {
   "cell_type": "markdown",
   "metadata": {},
   "source": [
    "Sum Up an array of primes"
   ]
  },
  {
   "cell_type": "code",
   "execution_count": 14,
   "metadata": {},
   "outputs": [],
   "source": [
    "def prime_sum_iterative(n):\n",
    "    array_data = []\n",
    "    for i in range(2,n+1):\n",
    "        if is_prime_iterative(i):\n",
    "            array_data.append(i)\n",
    "    result = 0\n",
    "    for value in array_data:\n",
    "        result += value\n",
    "    return result"
   ]
  },
  {
   "cell_type": "code",
   "execution_count": 15,
   "metadata": {},
   "outputs": [],
   "source": [
    "def prime_sum_recursive(n):\n",
    "    if n == 1:\n",
    "        return 0\n",
    "    if is_prime_recursive(n):\n",
    "        return n + prime_sum_recursive(n-1)\n",
    "    else:\n",
    "        return prime_sum_recursive(n-1)"
   ]
  },
  {
   "cell_type": "code",
   "execution_count": 16,
   "metadata": {},
   "outputs": [],
   "source": [
    "def prime_sum_higher_order(n):\n",
    "    array_data = filter(is_prime_higher_order, range(2,n+1))\n",
    "    return reduce(lambda x,y: x+y, array_data)"
   ]
  },
  {
   "cell_type": "code",
   "execution_count": 17,
   "metadata": {},
   "outputs": [
    {
     "name": "stdout",
     "output_type": "stream",
     "text": [
      "17\n",
      "17\n",
      "17\n"
     ]
    }
   ],
   "source": [
    "print(prime_sum_iterative(10))\n",
    "print(prime_sum_recursive(10))\n",
    "print(prime_sum_higher_order(10))"
   ]
  },
  {
   "cell_type": "markdown",
   "metadata": {},
   "source": [
    "get maximum of given list"
   ]
  },
  {
   "cell_type": "code",
   "execution_count": 18,
   "metadata": {},
   "outputs": [],
   "source": [
    "def max_iterative(array_data):\n",
    "    if len(array_data) == 0:\n",
    "        return None\n",
    "    \n",
    "    max_value = array_data[0]\n",
    "    for value in array_data:\n",
    "        if value > max_value:\n",
    "            max_value = value\n",
    "    return max_value"
   ]
  },
  {
   "cell_type": "code",
   "execution_count": 19,
   "metadata": {},
   "outputs": [],
   "source": [
    "def max_recursive(array_data, current=None):\n",
    "    if len(array_data) == 0:\n",
    "        return current\n",
    "    elif current is None:\n",
    "        return max_recursive(array_data[1:], array_data[0])\n",
    "    elif current >= array_data[0]:\n",
    "        return max_recursive(array_data[1:], current)\n",
    "    else:\n",
    "        return max_recursive(array_data[1:], array_data[0])"
   ]
  },
  {
   "cell_type": "code",
   "execution_count": 20,
   "metadata": {},
   "outputs": [],
   "source": [
    "def max_higher_order(array_data):\n",
    "    return reduce(lambda x,y: x if x>=y else y, array_data)"
   ]
  },
  {
   "cell_type": "code",
   "execution_count": 21,
   "metadata": {},
   "outputs": [
    {
     "name": "stdout",
     "output_type": "stream",
     "text": [
      "3\n",
      "3\n",
      "3\n"
     ]
    }
   ],
   "source": [
    "print(max_iterative([1,2,3]))\n",
    "print(max_recursive([1,2,3]))\n",
    "print(max_higher_order([1,2,3]))"
   ]
  },
  {
   "cell_type": "markdown",
   "metadata": {},
   "source": [
    "calculate mathematical function for all data"
   ]
  },
  {
   "cell_type": "code",
   "execution_count": 22,
   "metadata": {},
   "outputs": [],
   "source": [
    "def apply_iterative(array_data, func):\n",
    "    results = []\n",
    "    for data in array_data:\n",
    "        results.append(func(data))\n",
    "    return results"
   ]
  },
  {
   "cell_type": "code",
   "execution_count": 23,
   "metadata": {},
   "outputs": [],
   "source": [
    "def apply_recursive(array_data, func):\n",
    "    if len(array_data) == 0:\n",
    "        return []\n",
    "    else:\n",
    "        return [func(array_data[0])] + apply_recursive(array_data[1:], func)"
   ]
  },
  {
   "cell_type": "code",
   "execution_count": 24,
   "metadata": {},
   "outputs": [],
   "source": [
    "def apply_higher_order(array_data, func):\n",
    "    return list(map(func, array_data))"
   ]
  },
  {
   "cell_type": "code",
   "execution_count": 25,
   "metadata": {},
   "outputs": [
    {
     "name": "stdout",
     "output_type": "stream",
     "text": [
      "[2, 6, 12]\n",
      "[2, 6, 12]\n",
      "[2, 6, 12]\n"
     ]
    }
   ],
   "source": [
    "print(apply_iterative([1,2,3], lambda x: x**2 + x))\n",
    "print(apply_recursive([1,2,3], lambda x: x**2 + x))\n",
    "print(apply_higher_order([1,2,3], lambda x: x**2 + x))"
   ]
  },
  {
   "cell_type": "markdown",
   "metadata": {},
   "source": [
    "primfaktor zerlegung"
   ]
  },
  {
   "cell_type": "code",
   "execution_count": 26,
   "metadata": {},
   "outputs": [],
   "source": [
    "def prime_factors_iterative(number):\n",
    "    result = []\n",
    "    for idx_num in range(2, number+1):\n",
    "        if is_prime_iterative(idx_num) and number % idx_num == 0:\n",
    "            result.append(idx_num)\n",
    "    return result"
   ]
  },
  {
   "cell_type": "code",
   "execution_count": 27,
   "metadata": {},
   "outputs": [],
   "source": [
    "def prime_factors_recursive(number, current=None):\n",
    "    if current is None:\n",
    "        return prime_factors_recursive(number, 2)\n",
    "    \n",
    "    elif number == current and number % current == 0:\n",
    "        return [current]\n",
    "    \n",
    "    elif number <= current:\n",
    "        return []\n",
    "    \n",
    "    elif is_prime_recursive(current) == False:\n",
    "        return prime_factors_recursive(number, current+1)\n",
    "    \n",
    "    elif number % current == 0:\n",
    "        return [current] + prime_factors_recursive(number/current, current+1)\n",
    "    \n",
    "    else:\n",
    "        return prime_factors_recursive(number, current+1)"
   ]
  },
  {
   "cell_type": "code",
   "execution_count": 28,
   "metadata": {},
   "outputs": [],
   "source": [
    "def prime_factors_higher_order(number):\n",
    "    primes = filter(is_prime_recursive, range(2,number+1))\n",
    "    prime_factors = filter(lambda x: number%x==0, primes)\n",
    "    return list(prime_factors)"
   ]
  },
  {
   "cell_type": "code",
   "execution_count": 29,
   "metadata": {},
   "outputs": [
    {
     "name": "stdout",
     "output_type": "stream",
     "text": [
      "[2, 3]\n",
      "[2, 3]\n",
      "[2, 3]\n"
     ]
    }
   ],
   "source": [
    "print(prime_factors_iterative(18))\n",
    "print(prime_factors_recursive(18))\n",
    "print(prime_factors_higher_order(18))"
   ]
  },
  {
   "cell_type": "markdown",
   "metadata": {},
   "source": [
    "search element in array"
   ]
  },
  {
   "cell_type": "code",
   "execution_count": 30,
   "metadata": {},
   "outputs": [],
   "source": [
    "def find_element_iterative(data_array, element):\n",
    "    for idx, value in enumerate(data_array):\n",
    "        if value == element:\n",
    "            return idx\n",
    "    return -1"
   ]
  },
  {
   "cell_type": "code",
   "execution_count": 31,
   "metadata": {},
   "outputs": [],
   "source": [
    "def find_element_recursive(data_array, element):\n",
    "    if len(data_array) == 0:\n",
    "        return -1\n",
    "    elif data_array[0] == element:\n",
    "        return 0\n",
    "    else:\n",
    "        idx = find_element_recursive(data_array[1:], element)\n",
    "        if idx == -1:\n",
    "            return -1\n",
    "        else:\n",
    "            return idx+1"
   ]
  },
  {
   "cell_type": "code",
   "execution_count": 32,
   "metadata": {},
   "outputs": [],
   "source": [
    "def find_element_higher_order(data_array, element):\n",
    "    index_data_array = enumerate(data_array)\n",
    "    filtered_array = map(lambda x_tuple: x_tuple[0] if x_tuple[1] == element else 0, index_data_array)\n",
    "    return reduce(lambda x,y: x+y, filtered_array)"
   ]
  },
  {
   "cell_type": "code",
   "execution_count": 33,
   "metadata": {},
   "outputs": [
    {
     "name": "stdout",
     "output_type": "stream",
     "text": [
      "2\n",
      "2\n",
      "2\n"
     ]
    }
   ],
   "source": [
    "print(find_element_iterative([1,2,3,4,5], 3))\n",
    "print(find_element_recursive([1,2,3,4,5], 3))\n",
    "print(find_element_higher_order([1,2,3,4,5], 3))"
   ]
  },
  {
   "cell_type": "markdown",
   "metadata": {},
   "source": [
    "with a class"
   ]
  },
  {
   "cell_type": "code",
   "execution_count": 34,
   "metadata": {},
   "outputs": [],
   "source": [
    "class Student:\n",
    "    def __init__(self, age, name):\n",
    "        self.age = age\n",
    "        self.name = name\n",
    "        \n",
    "    def __repr__(self):\n",
    "        return str(self.name)"
   ]
  },
  {
   "cell_type": "code",
   "execution_count": 35,
   "metadata": {},
   "outputs": [],
   "source": [
    "def get_students_iterative(student_array):\n",
    "    result = []\n",
    "    for student in student_array:\n",
    "        if student.age >= 18:\n",
    "            result.append(student)\n",
    "    return result"
   ]
  },
  {
   "cell_type": "code",
   "execution_count": 36,
   "metadata": {},
   "outputs": [],
   "source": [
    "def get_students_recursive(student_array):\n",
    "    if len(student_array) == 0:\n",
    "        return []\n",
    "    elif student_array[0].age >= 18:\n",
    "        return [student_array[0]] + get_students_recursive(student_array[1:])\n",
    "    else:\n",
    "        return get_students_recursive(student_array[1:])"
   ]
  },
  {
   "cell_type": "code",
   "execution_count": 37,
   "metadata": {},
   "outputs": [],
   "source": [
    "def get_students_higher_order(student_array):\n",
    "    return list(filter(lambda x: x.age >= 18, student_array))"
   ]
  },
  {
   "cell_type": "code",
   "execution_count": 38,
   "metadata": {},
   "outputs": [
    {
     "name": "stdout",
     "output_type": "stream",
     "text": [
      "[Jasmin, Florian]\n",
      "[Jasmin, Florian]\n",
      "[Jasmin, Florian]\n"
     ]
    }
   ],
   "source": [
    "print(get_students_iterative([Student(10, \"Hans\"), Student(21, \"Jasmin\"), Student(33, \"Florian\")]))\n",
    "print(get_students_recursive([Student(10, \"Hans\"), Student(21, \"Jasmin\"), Student(33, \"Florian\")]))\n",
    "print(get_students_higher_order([Student(10, \"Hans\"), Student(21, \"Jasmin\"), Student(33, \"Florian\")]))"
   ]
  },
  {
   "cell_type": "markdown",
   "metadata": {},
   "source": [
    "tree data structure Pre_order"
   ]
  },
  {
   "cell_type": "code",
   "execution_count": 39,
   "metadata": {},
   "outputs": [
    {
     "name": "stdout",
     "output_type": "stream",
     "text": [
      "36\n"
     ]
    }
   ],
   "source": [
    "class NodeIterative:\n",
    "    def __init__(self, value):\n",
    "        self.value = value\n",
    "        self.left = None\n",
    "        self.right = None\n",
    "        \n",
    "    def pre_order_iter(self):\n",
    "        stack = []\n",
    "        result = []\n",
    "        stack.append(self)\n",
    " \n",
    "        while len(stack) != 0:\n",
    "            node = stack.pop()\n",
    "            result.append(node)\n",
    " \n",
    "            if node.right is not None:\n",
    "                stack.append(node.right)\n",
    "            \n",
    "            if node.left is not None:\n",
    "                stack.append(node.left)\n",
    "        \n",
    "        return result\n",
    "    \n",
    "def sum_mul_elements_iterative(node):\n",
    "    result = 0\n",
    "    for current1 in node.pre_order_iter():\n",
    "        for current2 in node.pre_order_iter():\n",
    "            result += current1.value * current2.value\n",
    "    return result\n",
    "    \n",
    "n = NodeIterative(2)\n",
    "n.left = NodeIterative(1)\n",
    "n.right = NodeIterative(3)\n",
    "print(sum_mul_elements_iterative(n))"
   ]
  },
  {
   "cell_type": "code",
   "execution_count": 49,
   "metadata": {},
   "outputs": [
    {
     "name": "stdout",
     "output_type": "stream",
     "text": [
      "36\n"
     ]
    }
   ],
   "source": [
    "class NodeRecursive:\n",
    "    def __init__(self, value):\n",
    "        self.value = value\n",
    "        self.left = None\n",
    "        self.right = None\n",
    "        \n",
    "    def pre_order_iter(self):\n",
    "        result = []\n",
    "        result.append(self)\n",
    "        if self.left is not None:\n",
    "            left = self.left.pre_order_iter()\n",
    "            result = result + left\n",
    "        if self.right is not None:\n",
    "            right = self.right.pre_order_iter()\n",
    "            result = result + right\n",
    "        return result\n",
    "        \n",
    "        \n",
    "def permute_two(first, second, second_len = None):\n",
    "    if len(first) == 0:\n",
    "        return []\n",
    "    \n",
    "    if len(second) == 0:\n",
    "        return []\n",
    "    \n",
    "    if second_len is None:\n",
    "        return sum_mul_elements_recusrive(first, second, len(second))\n",
    "    \n",
    "    result = [(first[0], second[0])]\n",
    "    if len(second) == second_len:\n",
    "        inner = sum_mul_elements_recusrive(first, second[1:], second_len)\n",
    "        outer = sum_mul_elements_recusrive(first[1:], second, second_len)\n",
    "        result = result + inner + outer\n",
    "    else:\n",
    "        inner = sum_mul_elements_recusrive(first, second[1:], second_len)\n",
    "        result = result + inner\n",
    "    return result\n",
    "    \n",
    "def sum_mul_elements_recursive(powerset):\n",
    "    if len(powerset) == 0:\n",
    "        return 0\n",
    "    return powerset[0][0].value * powerset[0][1].value + sum_mul_elements_recursive(powerset[1:])\n",
    "    \n",
    "n = NodeIterative(2)\n",
    "n.left = NodeIterative(1)\n",
    "n.right = NodeIterative(3)\n",
    "print(sum_mul_elements_recursive(permute_two(n.pre_order_iter(), n.pre_order_iter())))"
   ]
  },
  {
   "cell_type": "code",
   "execution_count": 41,
   "metadata": {},
   "outputs": [
    {
     "name": "stdout",
     "output_type": "stream",
     "text": [
      "36\n"
     ]
    }
   ],
   "source": [
    "class NodeHigherOrder:\n",
    "    def __init__(self, value):\n",
    "        self.value = value\n",
    "        self.left = None\n",
    "        self.right = None\n",
    "        \n",
    "    def pre_order_iter(self):\n",
    "        result = []\n",
    "        result.append(self)\n",
    "        if self.left is not None:\n",
    "            left = self.left.pre_order_iter()\n",
    "            result = result + left\n",
    "        if self.right is not None:\n",
    "            right = self.right.pre_order_iter()\n",
    "            result = result + right\n",
    "        return result\n",
    "    \n",
    "def sum_mul_elements_higher_order(node):\n",
    "    duos = product(node.pre_order_iter(), node.pre_order_iter())\n",
    "    multiplies = map(lambda x: x[0].value * x[1].value, duos)\n",
    "    return reduce(lambda x,y : x+y, multiplies)\n",
    "    \n",
    "n = NodeHigherOrder(2)\n",
    "n.left = NodeHigherOrder(1)\n",
    "n.right = NodeHigherOrder(3)\n",
    "print(sum_mul_elements_higher_order(n))"
   ]
  },
  {
   "cell_type": "code",
   "execution_count": null,
   "metadata": {},
   "outputs": [],
   "source": []
  }
 ],
 "metadata": {
  "kernelspec": {
   "display_name": "Python 3",
   "language": "python",
   "name": "python3"
  },
  "language_info": {
   "codemirror_mode": {
    "name": "ipython",
    "version": 3
   },
   "file_extension": ".py",
   "mimetype": "text/x-python",
   "name": "python",
   "nbconvert_exporter": "python",
   "pygments_lexer": "ipython3",
   "version": "3.7.4"
  }
 },
 "nbformat": 4,
 "nbformat_minor": 4
}
