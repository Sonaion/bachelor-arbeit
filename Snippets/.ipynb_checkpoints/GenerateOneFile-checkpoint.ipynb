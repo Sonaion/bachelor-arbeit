{
 "cells": [
  {
   "cell_type": "code",
   "execution_count": 1,
   "id": "f0cf888e-1bde-4062-9137-aaf7885f5d9c",
   "metadata": {},
   "outputs": [],
   "source": [
    "import os\n",
    "import nbformat"
   ]
  },
  {
   "cell_type": "code",
   "execution_count": 2,
   "id": "e22d2173-caae-4d47-96b3-cac2eb916076",
   "metadata": {},
   "outputs": [],
   "source": [
    "source_folder = os.getcwd() + \"\\\\CodeSnippets\\\\Source\"\n",
    "file_folder = os.getcwd() + \"\\\\CodeSnippets\\\\Files\"\n",
    "\n",
    "data_dict = {}\n",
    "for file in files:\n",
    "    filename, _file_extension = os.path.splitext(file)\n",
    "    file_data = open(source_folder + \"\\\\\" + file, \"r\")\n",
    "    file_data = file_data.read()\n",
    "    file_data_splitted = file_data.split(\"\\n\")\n",
    "    \n",
    "    data_dict[filename] = file_data_splitted\n",
    "    "
   ]
  },
  {
   "cell_type": "code",
   "execution_count": null,
   "id": "15526097-e20c-47a1-99ee-77574c1df1f4",
   "metadata": {},
   "outputs": [],
   "source": []
  }
 ],
 "metadata": {
  "kernelspec": {
   "display_name": "Python 3",
   "language": "python",
   "name": "python3"
  },
  "language_info": {
   "codemirror_mode": {
    "name": "ipython",
    "version": 3
   },
   "file_extension": ".py",
   "mimetype": "text/x-python",
   "name": "python",
   "nbconvert_exporter": "python",
   "pygments_lexer": "ipython3",
   "version": "3.8.5"
  }
 },
 "nbformat": 4,
 "nbformat_minor": 5
}
