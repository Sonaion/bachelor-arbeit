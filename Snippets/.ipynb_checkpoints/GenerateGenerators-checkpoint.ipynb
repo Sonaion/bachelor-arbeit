{
 "cells": [
  {
   "cell_type": "code",
   "execution_count": 6,
   "metadata": {},
   "outputs": [],
   "source": [
    "import json\n",
    "import os"
   ]
  },
  {
   "cell_type": "code",
   "execution_count": 7,
   "metadata": {},
   "outputs": [],
   "source": [
    "data_template = {\n",
    "    \"font-normal\" : \"JetBrainsMono-Regular.ttf\",\n",
    "    \"font-bold\" : \"JetBrainsMono-Bold.ttf\",\n",
    "    \"font-italic\" : \"JetBrainsMono-BoldItalic.ttf\",\n",
    "    \"font-bold-italic\" : \"JetBrainsMono-Italic.ttf\",\n",
    "    \"font-size\" : 14,\n",
    "    \"width-margin\" : 5,\n",
    "    \"height-margin\" : 5,\n",
    "    \"spacing\" : 6,\n",
    "    \"background-color\" : [255, 255, 255],\n",
    "}"
   ]
  },
  {
   "cell_type": "code",
   "execution_count": 9,
   "metadata": {},
   "outputs": [
    {
     "data": {
      "text/plain": [
       "'def function(array_data):\\n    return list(map(lambda x: x + 5, array_data))\\n\\n\\nprint(function([0, 5, 10]))\\n\\n'"
      ]
     },
     "metadata": {},
     "output_type": "display_data"
    },
    {
     "data": {
      "text/plain": [
       "'def function(array_data):\\n    return list(map(lambda x: x + 5, array_data))\\n\\n\\nprint(function([0, 5, 10]))\\n\\n'"
      ]
     },
     "metadata": {},
     "output_type": "display_data"
    },
    {
     "data": {
      "text/plain": [
       "'def function(array_data):\\n    return list(map(lambda x: x + 5, array_data))\\n\\n\\nprint(function([0, 5, 10]))\\n\\n'"
      ]
     },
     "metadata": {},
     "output_type": "display_data"
    },
    {
     "data": {
      "text/plain": [
       "'def function(array_data):\\n    return list(map(lambda x: x + 5, array_data))\\n\\n\\nprint(function([0, 5, 10]))\\n\\n'"
      ]
     },
     "metadata": {},
     "output_type": "display_data"
    },
    {
     "data": {
      "text/plain": [
       "'def function(array_data):\\n    return list(map(lambda x: x + 5, array_data))\\n\\n\\nprint(function([0, 5, 10]))\\n\\n'"
      ]
     },
     "metadata": {},
     "output_type": "display_data"
    },
    {
     "data": {
      "text/plain": [
       "'def function(array_data):\\n    return list(map(lambda x: x + 5, array_data))\\n\\n\\nprint(function([0, 5, 10]))\\n\\n'"
      ]
     },
     "metadata": {},
     "output_type": "display_data"
    },
    {
     "data": {
      "text/plain": [
       "'def function(array_data):\\n    return list(map(lambda x: x + 5, array_data))\\n\\n\\nprint(function([0, 5, 10]))\\n\\n'"
      ]
     },
     "metadata": {},
     "output_type": "display_data"
    },
    {
     "data": {
      "text/plain": [
       "'def function(array_data):\\n    return list(map(lambda x: x + 5, array_data))\\n\\n\\nprint(function([0, 5, 10]))\\n\\n'"
      ]
     },
     "metadata": {},
     "output_type": "display_data"
    },
    {
     "data": {
      "text/plain": [
       "'def function(array_data):\\n    return list(map(lambda x: x + 5, array_data))\\n\\n\\nprint(function([0, 5, 10]))\\n\\n'"
      ]
     },
     "metadata": {},
     "output_type": "display_data"
    },
    {
     "data": {
      "text/plain": [
       "'def function(array_data):\\n    return list(map(lambda x: x + 5, array_data))\\n\\n\\nprint(function([0, 5, 10]))\\n\\n'"
      ]
     },
     "metadata": {},
     "output_type": "display_data"
    },
    {
     "data": {
      "text/plain": [
       "'def function(array_data):\\n    return list(map(lambda x: x + 5, array_data))\\n\\n\\nprint(function([0, 5, 10]))\\n\\n'"
      ]
     },
     "metadata": {},
     "output_type": "display_data"
    },
    {
     "data": {
      "text/plain": [
       "'def function(array_data):\\n    return list(map(lambda x: x + 5, array_data))\\n\\n\\nprint(function([0, 5, 10]))\\n\\n'"
      ]
     },
     "metadata": {},
     "output_type": "display_data"
    },
    {
     "data": {
      "text/plain": [
       "'def function(array_data):\\n    return list(map(lambda x: x + 5, array_data))\\n\\n\\nprint(function([0, 5, 10]))\\n\\n'"
      ]
     },
     "metadata": {},
     "output_type": "display_data"
    },
    {
     "data": {
      "text/plain": [
       "'def function(array_data):\\n    return list(map(lambda x: x + 5, array_data))\\n\\n\\nprint(function([0, 5, 10]))\\n\\n'"
      ]
     },
     "metadata": {},
     "output_type": "display_data"
    },
    {
     "data": {
      "text/plain": [
       "'def function(array_data):\\n    return list(map(lambda x: x + 5, array_data))\\n\\n\\nprint(function([0, 5, 10]))\\n\\n'"
      ]
     },
     "metadata": {},
     "output_type": "display_data"
    },
    {
     "data": {
      "text/plain": [
       "'def function(array_data):\\n    return list(map(lambda x: x + 5, array_data))\\n\\n\\nprint(function([0, 5, 10]))\\n\\n'"
      ]
     },
     "metadata": {},
     "output_type": "display_data"
    },
    {
     "data": {
      "text/plain": [
       "'def function(array_data):\\n    return list(map(lambda x: x + 5, array_data))\\n\\n\\nprint(function([0, 5, 10]))\\n\\n'"
      ]
     },
     "metadata": {},
     "output_type": "display_data"
    },
    {
     "data": {
      "text/plain": [
       "'def function(array_data):\\n    return list(map(lambda x: x + 5, array_data))\\n\\n\\nprint(function([0, 5, 10]))\\n\\n'"
      ]
     },
     "metadata": {},
     "output_type": "display_data"
    },
    {
     "data": {
      "text/plain": [
       "'def function(array_data):\\n    return list(map(lambda x: x + 5, array_data))\\n\\n\\nprint(function([0, 5, 10]))\\n\\n'"
      ]
     },
     "metadata": {},
     "output_type": "display_data"
    },
    {
     "data": {
      "text/plain": [
       "'def function(array_data):\\n    return list(map(lambda x: x + 5, array_data))\\n\\n\\nprint(function([0, 5, 10]))\\n\\n'"
      ]
     },
     "metadata": {},
     "output_type": "display_data"
    },
    {
     "data": {
      "text/plain": [
       "'def function(array_data):\\n    return list(map(lambda x: x + 5, array_data))\\n\\n\\nprint(function([0, 5, 10]))\\n\\n'"
      ]
     },
     "metadata": {},
     "output_type": "display_data"
    },
    {
     "data": {
      "text/plain": [
       "'def function(array_data):\\n    return list(map(lambda x: x + 5, array_data))\\n\\n\\nprint(function([0, 5, 10]))\\n\\n'"
      ]
     },
     "metadata": {},
     "output_type": "display_data"
    },
    {
     "data": {
      "text/plain": [
       "'def function(array_data):\\n    return list(map(lambda x: x + 5, array_data))\\n\\n\\nprint(function([0, 5, 10]))\\n\\n'"
      ]
     },
     "metadata": {},
     "output_type": "display_data"
    },
    {
     "data": {
      "text/plain": [
       "'def function(array_data):\\n    return list(map(lambda x: x + 5, array_data))\\n\\n\\nprint(function([0, 5, 10]))\\n\\n'"
      ]
     },
     "metadata": {},
     "output_type": "display_data"
    },
    {
     "data": {
      "text/plain": [
       "'def function(array_data):\\n    return list(map(lambda x: x + 5, array_data))\\n\\n\\nprint(function([0, 5, 10]))\\n\\n'"
      ]
     },
     "metadata": {},
     "output_type": "display_data"
    },
    {
     "data": {
      "text/plain": [
       "'def function(array_data):\\n    return list(map(lambda x: x + 5, array_data))\\n\\n\\nprint(function([0, 5, 10]))\\n\\n'"
      ]
     },
     "metadata": {},
     "output_type": "display_data"
    },
    {
     "data": {
      "text/plain": [
       "'def function(array_data):\\n    return list(map(lambda x: x + 5, array_data))\\n\\n\\nprint(function([0, 5, 10]))\\n\\n'"
      ]
     },
     "metadata": {},
     "output_type": "display_data"
    },
    {
     "data": {
      "text/plain": [
       "'def function(array_data):\\n    return list(map(lambda x: x + 5, array_data))\\n\\n\\nprint(function([0, 5, 10]))\\n\\n'"
      ]
     },
     "metadata": {},
     "output_type": "display_data"
    },
    {
     "data": {
      "text/plain": [
       "'def function(array_data):\\n    return list(map(lambda x: x + 5, array_data))\\n\\n\\nprint(function([0, 5, 10]))\\n\\n'"
      ]
     },
     "metadata": {},
     "output_type": "display_data"
    },
    {
     "data": {
      "text/plain": [
       "'def function(array_data):\\n    return list(map(lambda x: x + 5, array_data))\\n\\n\\nprint(function([0, 5, 10]))\\n\\n'"
      ]
     },
     "metadata": {},
     "output_type": "display_data"
    }
   ],
   "source": [
    "source_folder = os.getcwd() + \"\\\\CodeSnippets\\\\Source\"\n",
    "generator_folder = os.getcwd() + \"\\\\CodeSnippets\\\\Generators\"\n",
    "files = os.listdir(source_folder)\n",
    "\n",
    "data_dict = {}\n",
    "for file in files:\n",
    "    filename, _file_extension = os.path.splitext(file)\n",
    "    file_data = open(source_folder + \"\\\\\" + file, \"r\")\n",
    "    file_data = file_data.read()\n",
    "    file_data_splitted = file_data.split(\"\\n\")\n",
    "    \n",
    "    data_dict[filename] = [file_data_splitted, file_data_splitted]"
   ]
  },
  {
   "cell_type": "code",
   "execution_count": 5,
   "metadata": {},
   "outputs": [
    {
     "data": {
      "text/plain": [
       "{'font-normal': 'JetBrainsMono-Regular.ttf',\n",
       " 'font-bold': 'JetBrainsMono-Bold.ttf',\n",
       " 'font-italic': 'JetBrainsMono-BoldItalic.ttf',\n",
       " 'font-bold-italic': 'JetBrainsMono-Italic.ttf',\n",
       " 'font-size': 14,\n",
       " 'width-margin': 5,\n",
       " 'height-margin': 5,\n",
       " 'spacing': 6,\n",
       " 'background-color': [255, 255, 255],\n",
       " 'source-code': 'source-code'}"
      ]
     },
     "metadata": {},
     "output_type": "display_data"
    },
    {
     "ename": "NameError",
     "evalue": "name 'data' is not defined",
     "output_type": "error",
     "traceback": [
      "\u001b[1;31m---------------------------------------------------------------------------\u001b[0m",
      "\u001b[1;31mNameError\u001b[0m                                 Traceback (most recent call last)",
      "\u001b[1;32m<ipython-input-5-01425fc30df2>\u001b[0m in \u001b[0;36m<module>\u001b[1;34m\u001b[0m\n\u001b[0;32m      8\u001b[0m     \u001b[0mname\u001b[0m \u001b[1;33m=\u001b[0m \u001b[0mkey\u001b[0m \u001b[1;33m+\u001b[0m \u001b[1;34m\".json\"\u001b[0m\u001b[1;33m\u001b[0m\u001b[1;33m\u001b[0m\u001b[0m\n\u001b[0;32m      9\u001b[0m     \u001b[0mdisplay\u001b[0m\u001b[1;33m(\u001b[0m\u001b[0mvalue_array\u001b[0m\u001b[1;33m)\u001b[0m\u001b[1;33m\u001b[0m\u001b[1;33m\u001b[0m\u001b[0m\n\u001b[1;32m---> 10\u001b[1;33m     \u001b[0mfile_data\u001b[0m \u001b[1;33m=\u001b[0m \u001b[0mjson\u001b[0m\u001b[1;33m.\u001b[0m\u001b[0mdumps\u001b[0m\u001b[1;33m(\u001b[0m\u001b[0mdata\u001b[0m\u001b[1;33m,\u001b[0m \u001b[0mindent\u001b[0m\u001b[1;33m=\u001b[0m\u001b[1;36m4\u001b[0m\u001b[1;33m,\u001b[0m \u001b[0mseparators\u001b[0m\u001b[1;33m=\u001b[0m\u001b[1;33m(\u001b[0m\u001b[1;34m','\u001b[0m\u001b[1;33m,\u001b[0m \u001b[1;34m': '\u001b[0m\u001b[1;33m)\u001b[0m\u001b[1;33m)\u001b[0m\u001b[1;33m\u001b[0m\u001b[1;33m\u001b[0m\u001b[0m\n\u001b[0m\u001b[0;32m     11\u001b[0m     \u001b[0mf\u001b[0m \u001b[1;33m=\u001b[0m \u001b[0mopen\u001b[0m\u001b[1;33m(\u001b[0m\u001b[0mgenerator_folder\u001b[0m \u001b[1;33m+\u001b[0m \u001b[1;34m\"\\\\\"\u001b[0m \u001b[1;33m+\u001b[0m \u001b[0mname\u001b[0m\u001b[1;33m,\u001b[0m \u001b[1;34m\"w\"\u001b[0m\u001b[1;33m)\u001b[0m\u001b[1;33m\u001b[0m\u001b[1;33m\u001b[0m\u001b[0m\n\u001b[0;32m     12\u001b[0m     \u001b[0mf\u001b[0m\u001b[1;33m.\u001b[0m\u001b[0mwrite\u001b[0m\u001b[1;33m(\u001b[0m\u001b[0mfile_data\u001b[0m\u001b[1;33m)\u001b[0m\u001b[1;33m\u001b[0m\u001b[1;33m\u001b[0m\u001b[0m\n",
      "\u001b[1;31mNameError\u001b[0m: name 'data' is not defined"
     ]
    }
   ],
   "source": [
    "for key, value_array in data_dict.items():\n",
    "    for value in value_array:\n",
    "        template = data_template.copy()\n",
    "        template[\"source-code\"] = value\n",
    "        data_dict[key] = template\n",
    "    \n",
    "for key, value_array in data_dict.items():\n",
    "    name = key + \".json\"\n",
    "    display(value_array)\n",
    "    file_data = json.dumps(data, indent=4, separators=(',', ': '))\n",
    "    f = open(generator_folder + \"\\\\\" + name, \"w\")\n",
    "    f.write(file_data)\n",
    "    f.close()"
   ]
  },
  {
   "cell_type": "code",
   "execution_count": null,
   "metadata": {},
   "outputs": [],
   "source": []
  }
 ],
 "metadata": {
  "kernelspec": {
   "display_name": "Python 3",
   "language": "python",
   "name": "python3"
  },
  "language_info": {
   "codemirror_mode": {
    "name": "ipython",
    "version": 3
   },
   "file_extension": ".py",
   "mimetype": "text/x-python",
   "name": "python",
   "nbconvert_exporter": "python",
   "pygments_lexer": "ipython3",
   "version": "3.8.5"
  }
 },
 "nbformat": 4,
 "nbformat_minor": 4
}
