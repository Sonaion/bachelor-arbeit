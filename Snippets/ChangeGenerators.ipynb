{
 "cells": [
  {
   "cell_type": "code",
   "execution_count": 1,
   "metadata": {},
   "outputs": [],
   "source": [
    "import json\n",
    "import os"
   ]
  },
  {
   "cell_type": "code",
   "execution_count": 5,
   "metadata": {},
   "outputs": [],
   "source": [
    "generator_folder = os.getcwd() + \"\\\\CodeSnippets\\\\Generators\"\n",
    "files = os.listdir(generator_folder)\n",
    "\n",
    "for file in files:\n",
    "    file_path = generator_folder + \"\\\\\" + file\n",
    "    dict_data = {}\n",
    "    with open(file_path, 'r') as json_file:\n",
    "        dict_data = json.load(json_file)\n",
    "    \n",
    "    dict_data[\"font-size\"] = 19\n",
    "    dict_data[\"background-color\"] = [255, 255, 255]\n",
    "    \n",
    "    with open(file_path, 'w') as outfile:\n",
    "        json.dump(dict_data, outfile, indent=4, separators=(',', ': '))"
   ]
  },
  {
   "cell_type": "code",
   "execution_count": null,
   "metadata": {},
   "outputs": [],
   "source": []
  }
 ],
 "metadata": {
  "kernelspec": {
   "display_name": "Python 3",
   "language": "python",
   "name": "python3"
  },
  "language_info": {
   "codemirror_mode": {
    "name": "ipython",
    "version": 3
   },
   "file_extension": ".py",
   "mimetype": "text/x-python",
   "name": "python",
   "nbconvert_exporter": "python",
   "pygments_lexer": "ipython3",
   "version": "3.8.5"
  }
 },
 "nbformat": 4,
 "nbformat_minor": 4
}
