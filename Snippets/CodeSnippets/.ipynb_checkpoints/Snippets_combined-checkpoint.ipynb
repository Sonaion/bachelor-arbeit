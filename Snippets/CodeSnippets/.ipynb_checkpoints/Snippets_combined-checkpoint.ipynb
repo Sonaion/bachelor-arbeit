{
 "cells": [
  {
   "cell_type": "markdown",
   "id": "dba02641",
   "metadata": {},
   "source": [
    "add_5_higher_order"
   ]
  },
  {
   "cell_type": "code",
   "execution_count": null,
   "id": "f5895f14",
   "metadata": {},
   "outputs": [],
   "source": [
    "def function(array_data):\n",
    "    return list(map(lambda x: x + 5, array_data))\n",
    "\n",
    "\n",
    "print(function([0, 5, 10]))\n"
   ]
  },
  {
   "cell_type": "code",
   "execution_count": null,
   "id": "4a2c4777",
   "metadata": {},
   "outputs": [],
   "source": [
    "#comments or playground"
   ]
  },
  {
   "cell_type": "markdown",
   "id": "f0854262",
   "metadata": {},
   "source": [
    "add_5_iterative"
   ]
  },
  {
   "cell_type": "code",
   "execution_count": null,
   "id": "e5719298",
   "metadata": {},
   "outputs": [],
   "source": [
    "def function(array_data):\n",
    "    result = []\n",
    "    for element in array_data:\n",
    "        result.append(element + 5)\n",
    "    return result\n",
    "\n",
    "\n",
    "print(function([0, 5, 10]))\n"
   ]
  },
  {
   "cell_type": "code",
   "execution_count": null,
   "id": "e248c5e4",
   "metadata": {},
   "outputs": [],
   "source": [
    "#comments or playground"
   ]
  },
  {
   "cell_type": "markdown",
   "id": "abe63dfb",
   "metadata": {},
   "source": [
    "add_5_recursive"
   ]
  },
  {
   "cell_type": "code",
   "execution_count": null,
   "id": "b09fe1b0",
   "metadata": {},
   "outputs": [],
   "source": [
    "def function(array_data):\n",
    "    if len(array_data) == 0:\n",
    "        return []\n",
    "    return [array_data[0] + 5] + function(array_data[1:])\n",
    "\n",
    "\n",
    "print(function([0, 5, 10]))\n"
   ]
  },
  {
   "cell_type": "code",
   "execution_count": null,
   "id": "1b77e8c4",
   "metadata": {},
   "outputs": [],
   "source": [
    "#comments or playground"
   ]
  },
  {
   "cell_type": "markdown",
   "id": "fdbad339",
   "metadata": {},
   "source": [
    "apply_higher_order"
   ]
  },
  {
   "cell_type": "code",
   "execution_count": null,
   "id": "b971df7f",
   "metadata": {},
   "outputs": [],
   "source": [
    "def function(array_data, func):\n",
    "    return list(map(func, array_data))\n",
    "\n",
    "\n",
    "print(function([1, 2, 3], lambda x: x ** 2 + x))\n"
   ]
  },
  {
   "cell_type": "code",
   "execution_count": null,
   "id": "b5632bfa",
   "metadata": {},
   "outputs": [],
   "source": [
    "#comments or playground"
   ]
  },
  {
   "cell_type": "markdown",
   "id": "64581925",
   "metadata": {},
   "source": [
    "apply_iterative"
   ]
  },
  {
   "cell_type": "code",
   "execution_count": null,
   "id": "8614191d",
   "metadata": {},
   "outputs": [],
   "source": [
    "def function(array_data, func):\n",
    "    results = []\n",
    "    for data in array_data:\n",
    "        results.append(func(data))\n",
    "    return results\n",
    "\n",
    "\n",
    "print(function([1, 2, 3], lambda x: x ** 2 + x))\n"
   ]
  },
  {
   "cell_type": "code",
   "execution_count": null,
   "id": "ba6a3021",
   "metadata": {},
   "outputs": [],
   "source": [
    "#comments or playground"
   ]
  },
  {
   "cell_type": "markdown",
   "id": "21f1098a",
   "metadata": {},
   "source": [
    "apply_recursive"
   ]
  },
  {
   "cell_type": "code",
   "execution_count": null,
   "id": "270046b6",
   "metadata": {},
   "outputs": [],
   "source": [
    "def function(array_data, func):\n",
    "    if len(array_data) == 0:\n",
    "        return []\n",
    "    else:\n",
    "        return [func(array_data[0])] + function(array_data[1:], func)\n",
    "\n",
    "\n",
    "print(function([1, 2, 3], lambda x: x ** 2 + x))\n"
   ]
  },
  {
   "cell_type": "code",
   "execution_count": null,
   "id": "c5a86278",
   "metadata": {},
   "outputs": [],
   "source": [
    "#comments or playground"
   ]
  },
  {
   "cell_type": "markdown",
   "id": "62e6f158",
   "metadata": {},
   "source": [
    "Computer_higher_order"
   ]
  },
  {
   "cell_type": "code",
   "execution_count": null,
   "id": "5747522b",
   "metadata": {},
   "outputs": [],
   "source": [
    "class Computer:\n",
    "    id = 0\n",
    "\n",
    "    def __init__(self, cpu, gpu, ram):\n",
    "        self.cpu = cpu\n",
    "        self.gpu = gpu\n",
    "        self.ram = ram\n",
    "        self.id = Computer.id\n",
    "        Computer.id += 1\n",
    "\n",
    "    def __repr__(self):\n",
    "        return str(self.id)\n",
    "\n",
    "\n",
    "def function(computer_array):\n",
    "    return list(filter(lambda x: \"AMD\" in x.cpu and \"NVIDIA GTX30\" in x.gpu and x.ram >= 16, computer_array))\n",
    "\n",
    "\n",
    "computer_array = []\n",
    "computer_array.append(Computer(\"INTEL i7-860\", \"NVIDIA GTX3080\", 16))\n",
    "computer_array.append(Computer(\"AMD 5900x\", \"NVIDIA GTX3080\", 32))\n",
    "computer_array.append(Computer(\"INTEL i9-10900T\", \"NVIDIA GTX1070\", 8))\n",
    "computer_array.append(Computer(\"AMD 5900x\", \"AMD RX6900\", 8))\n",
    "computer_array.append(Computer(\"AMD 5700\", \"AMD RX6900\", 16))\n",
    "computer_array.append(Computer(\"AMD 5900x\", \"NVIDIA GTX3090\", 64))\n",
    "computer_array.append(Computer(\"INTEL i5-8400\", \"NVIDIA GTX1060\", 4))\n",
    "print(function(computer_array))\n"
   ]
  },
  {
   "cell_type": "code",
   "execution_count": null,
   "id": "18bb7aef",
   "metadata": {},
   "outputs": [],
   "source": [
    "#comments or playground"
   ]
  },
  {
   "cell_type": "markdown",
   "id": "fb7aaf48",
   "metadata": {},
   "source": [
    "Computer_iterative"
   ]
  },
  {
   "cell_type": "code",
   "execution_count": null,
   "id": "279ddb56",
   "metadata": {},
   "outputs": [],
   "source": [
    "class Computer:\n",
    "    id = 0\n",
    "\n",
    "    def __init__(self, cpu, gpu, ram):\n",
    "        self.cpu = cpu\n",
    "        self.gpu = gpu\n",
    "        self.ram = ram\n",
    "        self.id = Computer.id\n",
    "        Computer.id += 1\n",
    "\n",
    "    def __repr__(self):\n",
    "        return str(self.id)\n",
    "\n",
    "\n",
    "def function(computer_array):\n",
    "    results = []\n",
    "    for computer in computer_array:\n",
    "        if \"AMD\" in computer.cpu and \"NVIDIA GTX30\" in computer.gpu and computer.ram >= 16:\n",
    "            results.append(computer)\n",
    "    return results\n",
    "\n",
    "\n",
    "computer_array = []\n",
    "computer_array.append(Computer(\"INTEL i7-860\", \"NVIDIA GTX3080\", 16))\n",
    "computer_array.append(Computer(\"AMD 5900x\", \"NVIDIA GTX3080\", 32))\n",
    "computer_array.append(Computer(\"INTEL i9-10900T\", \"NVIDIA GTX1070\", 8))\n",
    "computer_array.append(Computer(\"AMD 5900x\", \"AMD RX6900\", 8))\n",
    "computer_array.append(Computer(\"AMD 5700\", \"AMD RX6900\", 16))\n",
    "computer_array.append(Computer(\"AMD 5900x\", \"NVIDIA GTX3090\", 64))\n",
    "computer_array.append(Computer(\"INTEL i5-8400\", \"NVIDIA GTX1060\", 4))\n",
    "print(function(computer_array))\n"
   ]
  },
  {
   "cell_type": "code",
   "execution_count": null,
   "id": "4c917e92",
   "metadata": {},
   "outputs": [],
   "source": [
    "#comments or playground"
   ]
  },
  {
   "cell_type": "markdown",
   "id": "a0f24c1e",
   "metadata": {},
   "source": [
    "Computer_recursive"
   ]
  },
  {
   "cell_type": "code",
   "execution_count": null,
   "id": "1d7b26cb",
   "metadata": {},
   "outputs": [],
   "source": [
    "class Computer:\n",
    "    id = 0\n",
    "\n",
    "    def __init__(self, cpu, gpu, ram):\n",
    "        self.cpu = cpu\n",
    "        self.gpu = gpu\n",
    "        self.ram = ram\n",
    "        self.id = Computer.id\n",
    "        Computer.id += 1\n",
    "\n",
    "    def __repr__(self):\n",
    "        return str(self.id)\n",
    "\n",
    "\n",
    "def function(computer_array):\n",
    "    if len(computer_array)==0:\n",
    "        return []\n",
    "    if \"AMD\" in computer_array[0].cpu and \"NVIDIA GTX30\" in computer_array[0].gpu and computer_array[0].ram >= 16:\n",
    "        return [computer_array[0]] + function(computer_array[1:])\n",
    "    else:\n",
    "        return function(computer_array[1:])\n",
    "\n",
    "\n",
    "computer_array = []\n",
    "computer_array.append(Computer(\"INTEL i7-860\", \"NVIDIA GTX3080\", 16))\n",
    "computer_array.append(Computer(\"AMD 5900x\", \"NVIDIA GTX3080\", 32))\n",
    "computer_array.append(Computer(\"INTEL i9-10900T\", \"NVIDIA GTX1070\", 8))\n",
    "computer_array.append(Computer(\"AMD 5900x\", \"AMD RX6900\", 8))\n",
    "computer_array.append(Computer(\"AMD 5700\", \"AMD RX6900\", 16))\n",
    "computer_array.append(Computer(\"AMD 5900x\", \"NVIDIA GTX3090\", 64))\n",
    "computer_array.append(Computer(\"INTEL i5-8400\", \"NVIDIA GTX1060\", 4))\n",
    "print(function(computer_array))\n"
   ]
  },
  {
   "cell_type": "code",
   "execution_count": null,
   "id": "b2940a4b",
   "metadata": {},
   "outputs": [],
   "source": [
    "#comments or playground"
   ]
  },
  {
   "cell_type": "markdown",
   "id": "0b8f4dd2",
   "metadata": {},
   "source": [
    "condition_sum_higher_order"
   ]
  },
  {
   "cell_type": "code",
   "execution_count": null,
   "id": "3d1ceb1f",
   "metadata": {},
   "outputs": [],
   "source": [
    "from functools import reduce\n",
    "\n",
    "\n",
    "def function(n):\n",
    "    array_data = filter(lambda x: x % 3 == 0 or x % 4 == 0, range(2, n + 1))\n",
    "    return reduce(lambda x, y: x + y, array_data)\n",
    "\n",
    "\n",
    "print(function(14))\n"
   ]
  },
  {
   "cell_type": "code",
   "execution_count": null,
   "id": "23d4bbe7",
   "metadata": {},
   "outputs": [],
   "source": [
    "#comments or playground"
   ]
  },
  {
   "cell_type": "markdown",
   "id": "eaa53139",
   "metadata": {},
   "source": [
    "condition_sum_iterative"
   ]
  },
  {
   "cell_type": "code",
   "execution_count": null,
   "id": "8f736a6b",
   "metadata": {},
   "outputs": [],
   "source": [
    "def function(n):\n",
    "    array_data = []\n",
    "    for i in range(2, n + 1):\n",
    "        if i % 3 == 0 or i % 4 == 0:\n",
    "            array_data.append(i)\n",
    "    result = 0\n",
    "    for value in array_data:\n",
    "        result += value\n",
    "    return result\n",
    "\n",
    "\n",
    "print(function(14))\n"
   ]
  },
  {
   "cell_type": "code",
   "execution_count": null,
   "id": "c69da4ab",
   "metadata": {},
   "outputs": [],
   "source": [
    "#comments or playground"
   ]
  },
  {
   "cell_type": "markdown",
   "id": "951e705f",
   "metadata": {},
   "source": [
    "condition_sum_recursive"
   ]
  },
  {
   "cell_type": "code",
   "execution_count": null,
   "id": "7683d308",
   "metadata": {},
   "outputs": [],
   "source": [
    "def function(n):\n",
    "    if n == 1:\n",
    "        return 0\n",
    "    if n % 3 == 0 or n % 4 == 0:\n",
    "        return n + function(n - 1)\n",
    "    else:\n",
    "        return function(n - 1)\n",
    "\n",
    "\n",
    "print(function(14))\n"
   ]
  },
  {
   "cell_type": "code",
   "execution_count": null,
   "id": "fa0b00d6",
   "metadata": {},
   "outputs": [],
   "source": [
    "#comments or playground"
   ]
  },
  {
   "cell_type": "markdown",
   "id": "b3c3a669",
   "metadata": {},
   "source": [
    "find_higher_order"
   ]
  },
  {
   "cell_type": "code",
   "execution_count": null,
   "id": "057558c7",
   "metadata": {},
   "outputs": [],
   "source": [
    "from functools import reduce\n",
    "\n",
    "\n",
    "def function(data_array, element):\n",
    "    index_data_array = enumerate(data_array)\n",
    "    filtered_array = map(lambda x_tuple: x_tuple[0] if x_tuple[1] == element else 0, index_data_array)\n",
    "    return reduce(lambda x, y: x + y, filtered_array)\n",
    "\n",
    "\n",
    "print(function([1, 2, 3, 4, 5], 3))\n"
   ]
  },
  {
   "cell_type": "code",
   "execution_count": null,
   "id": "e269b67a",
   "metadata": {},
   "outputs": [],
   "source": [
    "#comments or playground"
   ]
  },
  {
   "cell_type": "markdown",
   "id": "a8551704",
   "metadata": {},
   "source": [
    "find_iterative"
   ]
  },
  {
   "cell_type": "code",
   "execution_count": null,
   "id": "b7d6c2a4",
   "metadata": {},
   "outputs": [],
   "source": [
    "def function(data_array, element):\n",
    "    for idx, value in enumerate(data_array):\n",
    "        if value == element:\n",
    "            return idx\n",
    "    return -1\n",
    "\n",
    "\n",
    "print(function([1, 2, 3, 4, 5], 3))\n"
   ]
  },
  {
   "cell_type": "code",
   "execution_count": null,
   "id": "7c4fc884",
   "metadata": {},
   "outputs": [],
   "source": [
    "#comments or playground"
   ]
  },
  {
   "cell_type": "markdown",
   "id": "69ec6f98",
   "metadata": {},
   "source": [
    "find_recursive"
   ]
  },
  {
   "cell_type": "code",
   "execution_count": null,
   "id": "4c2410b6",
   "metadata": {},
   "outputs": [],
   "source": [
    "def function(data_array, element):\n",
    "    if len(data_array) == 0:\n",
    "        return -1\n",
    "    elif data_array[0] == element:\n",
    "        return 0\n",
    "    else:\n",
    "        idx = function(data_array[1:], element)\n",
    "        if idx == -1:\n",
    "            return -1\n",
    "        else:\n",
    "            return idx + 1\n",
    "\n",
    "\n",
    "print(function([1, 2, 3, 4, 5], 3))\n"
   ]
  },
  {
   "cell_type": "code",
   "execution_count": null,
   "id": "93ff7c0d",
   "metadata": {},
   "outputs": [],
   "source": [
    "#comments or playground"
   ]
  },
  {
   "cell_type": "markdown",
   "id": "c1f03db0",
   "metadata": {},
   "source": [
    "is_prime_higher_order"
   ]
  },
  {
   "cell_type": "code",
   "execution_count": null,
   "id": "37409858",
   "metadata": {},
   "outputs": [],
   "source": [
    "def function(number):\n",
    "    number_array = range(1, number + 1)\n",
    "    prime_array = filter(lambda x: number % x == 0, number_array)\n",
    "    return len(list(prime_array)) == 2\n",
    "\n",
    "\n",
    "print(function(7))\n"
   ]
  },
  {
   "cell_type": "code",
   "execution_count": null,
   "id": "3c5ecc91",
   "metadata": {},
   "outputs": [],
   "source": [
    "#comments or playground"
   ]
  },
  {
   "cell_type": "markdown",
   "id": "4dd11c61",
   "metadata": {},
   "source": [
    "is_prime_iterative"
   ]
  },
  {
   "cell_type": "code",
   "execution_count": null,
   "id": "67b3da58",
   "metadata": {},
   "outputs": [],
   "source": [
    "def function(number):\n",
    "    if number == 1:\n",
    "        return False\n",
    "    for check_num in range(2, int(number / 2) + 1):\n",
    "        if number % check_num == 0:\n",
    "            return False\n",
    "    return True\n",
    "\n",
    "\n",
    "print(function(7))\n"
   ]
  },
  {
   "cell_type": "code",
   "execution_count": null,
   "id": "9b4ad136",
   "metadata": {},
   "outputs": [],
   "source": [
    "#comments or playground"
   ]
  },
  {
   "cell_type": "markdown",
   "id": "560bdb77",
   "metadata": {},
   "source": [
    "is_prime_recursive"
   ]
  },
  {
   "cell_type": "code",
   "execution_count": null,
   "id": "3fdd7b0c",
   "metadata": {},
   "outputs": [],
   "source": [
    "def function(number, current=None):\n",
    "    if current is None:\n",
    "        current = int(number / 2)\n",
    "    if number == 1:\n",
    "        return False\n",
    "    if current == 1:\n",
    "        return True\n",
    "    if number % current == 0:\n",
    "        return False\n",
    "    return function(number, current - 1)\n",
    "\n",
    "\n",
    "print(function(7))\n"
   ]
  },
  {
   "cell_type": "code",
   "execution_count": null,
   "id": "3162da22",
   "metadata": {},
   "outputs": [],
   "source": [
    "#comments or playground"
   ]
  },
  {
   "cell_type": "markdown",
   "id": "48a86f70",
   "metadata": {},
   "source": [
    "LinkedList_higher_order"
   ]
  },
  {
   "cell_type": "code",
   "execution_count": null,
   "id": "eb1d78fd",
   "metadata": {},
   "outputs": [],
   "source": [
    "from functools import reduce\n",
    "from itertools import accumulate\n",
    "\n",
    "\n",
    "class Node:\n",
    "    def __init__(self, data):\n",
    "        self.data = data\n",
    "        self.next = None\n",
    "\n",
    "    def __repr__(self):\n",
    "        return str(self.data)\n",
    "\n",
    "    def __iter__(self):\n",
    "        self.current = self\n",
    "        return self\n",
    "\n",
    "    def __next__(self):\n",
    "        if self.current is None:\n",
    "            raise StopIteration\n",
    "        else:\n",
    "            tmp = self.current\n",
    "            self.current = self.current.next\n",
    "            return tmp\n",
    "\n",
    "\n",
    "def function(node_list):\n",
    "    filtered_list = filter(lambda x: x[0] % 2 == 0, enumerate(node_list))\n",
    "    mapped_list = map(lambda x: x[1].data, filtered_list)\n",
    "    return reduce(lambda x, y: x + y, mapped_list)\n",
    "\n",
    "\n",
    "node1 = Node(2)\n",
    "node2 = Node(5)\n",
    "node3 = Node(7)\n",
    "node4 = Node(4)\n",
    "node5 = Node(1)\n",
    "node6 = Node(3)\n",
    "node7 = Node(6)\n",
    "node1.next = node2\n",
    "node2.next = node3\n",
    "node3.next = node4\n",
    "node4.next = node5\n",
    "node5.next = node6\n",
    "node6.next = node7\n",
    "print(function(node1))\n"
   ]
  },
  {
   "cell_type": "code",
   "execution_count": null,
   "id": "b47fbb81",
   "metadata": {},
   "outputs": [],
   "source": [
    "#comments or playground"
   ]
  },
  {
   "cell_type": "markdown",
   "id": "f07b13e0",
   "metadata": {},
   "source": [
    "LinkedList_iterative"
   ]
  },
  {
   "cell_type": "code",
   "execution_count": null,
   "id": "adc99600",
   "metadata": {},
   "outputs": [],
   "source": [
    "\n",
    "class Node:\n",
    "    def __init__(self, data):\n",
    "        self.data = data\n",
    "        self.next = None\n",
    "\n",
    "    def __repr__(self):\n",
    "        return str(self.data)\n",
    "\n",
    "    def __iter__(self):\n",
    "        self.current = self\n",
    "        return self\n",
    "\n",
    "    def __next__(self):\n",
    "        if self.current is None:\n",
    "            raise StopIteration\n",
    "        else:\n",
    "            tmp = self.current\n",
    "            self.current = self.current.next\n",
    "            return tmp\n",
    "\n",
    "\n",
    "def function(node_list):\n",
    "    result = 0\n",
    "    for idx, node in enumerate(node_list):\n",
    "        if idx % 2 == 0:\n",
    "            result += node.data\n",
    "    return result\n",
    "\n",
    "node1 = Node(2)\n",
    "node2 = Node(5)\n",
    "node3 = Node(7)\n",
    "node4 = Node(4)\n",
    "node5 = Node(1)\n",
    "node6 = Node(3)\n",
    "node7 = Node(6)\n",
    "node1.next = node2\n",
    "node2.next = node3\n",
    "node3.next = node4\n",
    "node4.next = node5\n",
    "node5.next = node6\n",
    "node6.next = node7\n",
    "print(function(node1))\n"
   ]
  },
  {
   "cell_type": "code",
   "execution_count": null,
   "id": "728809b4",
   "metadata": {},
   "outputs": [],
   "source": [
    "#comments or playground"
   ]
  },
  {
   "cell_type": "markdown",
   "id": "85b26009",
   "metadata": {},
   "source": [
    "LinkedList_recursive"
   ]
  },
  {
   "cell_type": "code",
   "execution_count": null,
   "id": "411973e9",
   "metadata": {},
   "outputs": [],
   "source": [
    "class Node:\n",
    "    def __init__(self, data):\n",
    "        self.data = data\n",
    "        self.next = None\n",
    "\n",
    "    def __repr__(self):\n",
    "        return str(self.data)\n",
    "\n",
    "\n",
    "def function(node_list, odd=False):\n",
    "    if node_list is None:\n",
    "        return 0\n",
    "    if not odd:\n",
    "        return node_list.data + function(node_list.next, True)\n",
    "    else:\n",
    "        return function(node_list.next, False)\n",
    "\n",
    "\n",
    "node1 = Node(2)\n",
    "node2 = Node(5)\n",
    "node3 = Node(7)\n",
    "node4 = Node(4)\n",
    "node5 = Node(1)\n",
    "node6 = Node(3)\n",
    "node7 = Node(6)\n",
    "node1.next = node2\n",
    "node2.next = node3\n",
    "node3.next = node4\n",
    "node4.next = node5\n",
    "node5.next = node6\n",
    "node6.next = node7\n",
    "print(function(node1))\n"
   ]
  },
  {
   "cell_type": "code",
   "execution_count": null,
   "id": "e7387a0d",
   "metadata": {},
   "outputs": [],
   "source": [
    "#comments or playground"
   ]
  },
  {
   "cell_type": "markdown",
   "id": "270ad2ca",
   "metadata": {},
   "source": [
    "max_higher_order"
   ]
  },
  {
   "cell_type": "code",
   "execution_count": null,
   "id": "e1e746ec",
   "metadata": {},
   "outputs": [],
   "source": [
    "from functools import reduce\n",
    "\n",
    "\n",
    "def function(array_data):\n",
    "    return reduce(lambda x, y: x if x >= y else y, array_data)\n",
    "\n",
    "\n",
    "print(function([0, 5, 2]))\n"
   ]
  },
  {
   "cell_type": "code",
   "execution_count": null,
   "id": "7fc466b6",
   "metadata": {},
   "outputs": [],
   "source": [
    "#comments or playground"
   ]
  },
  {
   "cell_type": "markdown",
   "id": "738382bf",
   "metadata": {},
   "source": [
    "max_iterative"
   ]
  },
  {
   "cell_type": "code",
   "execution_count": null,
   "id": "9524cfe2",
   "metadata": {},
   "outputs": [],
   "source": [
    "def function(array_data):\n",
    "    if len(array_data) == 0:\n",
    "        return None\n",
    "\n",
    "    max_value = array_data[0]\n",
    "    for value in array_data:\n",
    "        if value > max_value:\n",
    "            max_value = value\n",
    "    return max_value\n",
    "\n",
    "\n",
    "print(function([0, 5, 2]))\n"
   ]
  },
  {
   "cell_type": "code",
   "execution_count": null,
   "id": "ff3a99bc",
   "metadata": {},
   "outputs": [],
   "source": [
    "#comments or playground"
   ]
  },
  {
   "cell_type": "markdown",
   "id": "711fada6",
   "metadata": {},
   "source": [
    "max_recursive"
   ]
  },
  {
   "cell_type": "code",
   "execution_count": null,
   "id": "6b6da0b3",
   "metadata": {},
   "outputs": [],
   "source": [
    "def function(array_data, current=None):\n",
    "    if len(array_data) == 0:\n",
    "        return current\n",
    "    elif current is None:\n",
    "        return function(array_data[1:], array_data[0])\n",
    "    elif current >= array_data[0]:\n",
    "        return function(array_data[1:], current)\n",
    "    else:\n",
    "        return function(array_data[1:], array_data[0])\n",
    "\n",
    "\n",
    "print(function([0, 5, 2]))\n"
   ]
  },
  {
   "cell_type": "code",
   "execution_count": null,
   "id": "a6519356",
   "metadata": {},
   "outputs": [],
   "source": [
    "#comments or playground"
   ]
  },
  {
   "cell_type": "markdown",
   "id": "05b44489",
   "metadata": {},
   "source": [
    "node_higher_order"
   ]
  },
  {
   "cell_type": "code",
   "execution_count": null,
   "id": "9191a178",
   "metadata": {},
   "outputs": [],
   "source": [
    "class Node:\n",
    "    def __init__(self, value):\n",
    "        self.value = value\n",
    "        self.left = None\n",
    "        self.right = None\n",
    "\n",
    "    def pre_order_iter(self):\n",
    "        result = [self]\n",
    "        if self.left is not None:\n",
    "            left = self.left.pre_order_iter()\n",
    "            result = result + left\n",
    "        if self.right is not None:\n",
    "            right = self.right.pre_order_iter()\n",
    "            result = result + right\n",
    "        return result\n",
    "\n",
    "\n",
    "def function(node):\n",
    "    duos = product(node.pre_order_iter(), node.pre_order_iter())\n",
    "    multiplies = map(lambda x: x[0].value * x[1].value, duos)\n",
    "    return reduce(lambda x, y: x + y, multiplies)\n",
    "\n",
    "\n",
    "n = Node(2)\n",
    "n.left = Node(1)\n",
    "n.right = Node(3)\n",
    "print(function(n))\n"
   ]
  },
  {
   "cell_type": "code",
   "execution_count": null,
   "id": "fca51494",
   "metadata": {},
   "outputs": [],
   "source": [
    "#comments or playground"
   ]
  },
  {
   "cell_type": "markdown",
   "id": "8cfc66b4",
   "metadata": {},
   "source": [
    "node_iterative"
   ]
  },
  {
   "cell_type": "code",
   "execution_count": null,
   "id": "f1890068",
   "metadata": {},
   "outputs": [],
   "source": [
    "class Node:\n",
    "    def __init__(self, value):\n",
    "        self.value = value\n",
    "        self.left = None\n",
    "        self.right = None\n",
    "\n",
    "    def pre_order_iter(self):\n",
    "        stack = []\n",
    "        result = []\n",
    "        stack.append(self)\n",
    "\n",
    "        while len(stack) != 0:\n",
    "            node = stack.pop()\n",
    "            result.append(node)\n",
    "\n",
    "            if node.right is not None:\n",
    "                stack.append(node.right)\n",
    "\n",
    "            if node.left is not None:\n",
    "                stack.append(node.left)\n",
    "\n",
    "        return result\n",
    "\n",
    "\n",
    "def function(node):\n",
    "    result = 0\n",
    "    for current1 in node.pre_order_iter():\n",
    "        for current2 in node.pre_order_iter():\n",
    "            result += current1.value * current2.value\n",
    "    return result\n",
    "\n",
    "\n",
    "n = Node(2)\n",
    "n.left = Node(1)\n",
    "n.right = Node(3)\n",
    "print(function(n))\n"
   ]
  },
  {
   "cell_type": "code",
   "execution_count": null,
   "id": "fd8c63c4",
   "metadata": {},
   "outputs": [],
   "source": [
    "#comments or playground"
   ]
  },
  {
   "cell_type": "markdown",
   "id": "6af6d753",
   "metadata": {},
   "source": [
    "node_recursive"
   ]
  },
  {
   "cell_type": "code",
   "execution_count": null,
   "id": "72244c70",
   "metadata": {},
   "outputs": [],
   "source": [
    "class Node:\n",
    "    def __init__(self, value):\n",
    "        self.value = value\n",
    "        self.left = None\n",
    "        self.right = None\n",
    "\n",
    "    def pre_order_iter(self):\n",
    "        result = []\n",
    "        result.append(self)\n",
    "        if self.left is not None:\n",
    "            left = self.left.pre_order_iter()\n",
    "            result = result + left\n",
    "        if self.right is not None:\n",
    "            right = self.right.pre_order_iter()\n",
    "            result = result + right\n",
    "        return result\n",
    "\n",
    "\n",
    "def helper(first, second, second_len=None):\n",
    "    if len(first) == 0:\n",
    "        return []\n",
    "\n",
    "    if len(second) == 0:\n",
    "        return []\n",
    "\n",
    "    if second_len is None:\n",
    "        return helper(first, second, len(second))\n",
    "\n",
    "    result = [(first[0], second[0])]\n",
    "    if len(second) == second_len:\n",
    "        inner = helper(first, second[1:], second_len)\n",
    "        outer = helper(first[1:], second, second_len)\n",
    "        result = result + inner + outer\n",
    "    else:\n",
    "        inner = helper(first, second[1:], second_len)\n",
    "        result = result + inner\n",
    "    return result\n",
    "\n",
    "\n",
    "def function(powerset):\n",
    "    if len(powerset) == 0:\n",
    "        return 0\n",
    "    return powerset[0][0].value * powerset[0][1].value + function(powerset[1:])\n",
    "\n",
    "\n",
    "n = Node(2)\n",
    "n.left = Node(1)\n",
    "n.right = Node(3)\n",
    "print(function(helper(n.pre_order_iter(), n.pre_order_iter())))\n"
   ]
  },
  {
   "cell_type": "code",
   "execution_count": null,
   "id": "6afb3e78",
   "metadata": {},
   "outputs": [],
   "source": [
    "#comments or playground"
   ]
  },
  {
   "cell_type": "markdown",
   "id": "c6a575de",
   "metadata": {},
   "source": [
    "prime_factors_higher_order"
   ]
  },
  {
   "cell_type": "code",
   "execution_count": null,
   "id": "40a063a8",
   "metadata": {},
   "outputs": [],
   "source": [
    "def helper(number):\n",
    "    number_array = range(1, number + 1)\n",
    "    prime_array = filter(lambda x: number % x == 0, number_array)\n",
    "    return len(list(prime_array)) == 2\n",
    "\n",
    "\n",
    "def function(number):\n",
    "    primes = filter(helper, range(2, number + 1))\n",
    "    prime_factors = filter(lambda x: number % x == 0, primes)\n",
    "    return list(prime_factors)\n",
    "\n",
    "\n",
    "print(function(18))\n"
   ]
  },
  {
   "cell_type": "code",
   "execution_count": null,
   "id": "94018607",
   "metadata": {},
   "outputs": [],
   "source": [
    "#comments or playground"
   ]
  },
  {
   "cell_type": "markdown",
   "id": "3d260b1b",
   "metadata": {},
   "source": [
    "prime_factors_iterative"
   ]
  },
  {
   "cell_type": "code",
   "execution_count": null,
   "id": "04b69591",
   "metadata": {},
   "outputs": [],
   "source": [
    "def helper(number):\n",
    "    if number == 1:\n",
    "        return False\n",
    "    for check_num in range(2, int(number / 2) + 1):\n",
    "        if number % check_num == 0:\n",
    "            return False\n",
    "    return True\n",
    "\n",
    "\n",
    "def function(number):\n",
    "    result = []\n",
    "    for idx_num in range(2, number + 1):\n",
    "        if helper(idx_num) and number % idx_num == 0:\n",
    "            result.append(idx_num)\n",
    "    return result\n",
    "\n",
    "\n",
    "print(function(18))\n"
   ]
  },
  {
   "cell_type": "code",
   "execution_count": null,
   "id": "3f334443",
   "metadata": {},
   "outputs": [],
   "source": [
    "#comments or playground"
   ]
  },
  {
   "cell_type": "markdown",
   "id": "8fa0ab78",
   "metadata": {},
   "source": [
    "prime_factors_recursive"
   ]
  },
  {
   "cell_type": "code",
   "execution_count": null,
   "id": "f81037c3",
   "metadata": {},
   "outputs": [],
   "source": [
    "def helper(number, current=None):\n",
    "    if current is None:\n",
    "        current = int(number / 2)\n",
    "    if number == 1:\n",
    "        return False\n",
    "    if current == 1:\n",
    "        return True\n",
    "    if number % current == 0:\n",
    "        return False\n",
    "    return helper(number, current - 1)\n",
    "\n",
    "\n",
    "def function(number, current=None):\n",
    "    if current is None:\n",
    "        return function(number, 2)\n",
    "\n",
    "    elif number == current and number % current == 0:\n",
    "        return [current]\n",
    "\n",
    "    elif number <= current:\n",
    "        return []\n",
    "\n",
    "    elif not helper(current):\n",
    "        return function(number, current + 1)\n",
    "\n",
    "    elif number % current == 0:\n",
    "        return [current] + function(number / current, current + 1)\n",
    "\n",
    "    else:\n",
    "        return function(number, current + 1)\n",
    "\n",
    "\n",
    "print(function(18))\n"
   ]
  },
  {
   "cell_type": "code",
   "execution_count": null,
   "id": "f28487c6",
   "metadata": {},
   "outputs": [],
   "source": [
    "#comments or playground"
   ]
  },
  {
   "cell_type": "markdown",
   "id": "d715b7f8",
   "metadata": {},
   "source": [
    "quad_mul_higher_order"
   ]
  },
  {
   "cell_type": "code",
   "execution_count": null,
   "id": "e636554a",
   "metadata": {},
   "outputs": [],
   "source": [
    "from functools import reduce\n",
    "\n",
    "\n",
    "def function(n):\n",
    "    array_data = map(lambda x: x ** 2, range(1, n + 1))\n",
    "    return reduce(lambda x, y: x * y, array_data)\n",
    "\n",
    "\n",
    "print(function(3))\n"
   ]
  },
  {
   "cell_type": "code",
   "execution_count": null,
   "id": "e2e77507",
   "metadata": {},
   "outputs": [],
   "source": [
    "#comments or playground"
   ]
  },
  {
   "cell_type": "markdown",
   "id": "3cdca5af",
   "metadata": {},
   "source": [
    "quad_mul_iterative"
   ]
  },
  {
   "cell_type": "code",
   "execution_count": null,
   "id": "78e40650",
   "metadata": {},
   "outputs": [],
   "source": [
    "def function(n):\n",
    "    array_data = []\n",
    "    for i in range(1, n + 1):\n",
    "        array_data.append(i ** 2)\n",
    "    result = 1\n",
    "    for value in array_data:\n",
    "        result *= value\n",
    "    return result\n",
    "\n",
    "\n",
    "print(function(3))\n"
   ]
  },
  {
   "cell_type": "code",
   "execution_count": null,
   "id": "b6ee63ee",
   "metadata": {},
   "outputs": [],
   "source": [
    "#comments or playground"
   ]
  },
  {
   "cell_type": "markdown",
   "id": "895c9fd5",
   "metadata": {},
   "source": [
    "quad_mul_recursive"
   ]
  },
  {
   "cell_type": "code",
   "execution_count": null,
   "id": "a88e04a3",
   "metadata": {},
   "outputs": [],
   "source": [
    "def function(n):\n",
    "    if n == 1:\n",
    "        return 1\n",
    "    return n ** 2 * function(n - 1)\n",
    "\n",
    "\n",
    "print(function(3))\n"
   ]
  },
  {
   "cell_type": "code",
   "execution_count": null,
   "id": "fa89e1a3",
   "metadata": {},
   "outputs": [],
   "source": [
    "#comments or playground"
   ]
  },
  {
   "cell_type": "markdown",
   "id": "3b47eb9b",
   "metadata": {},
   "source": [
    "Store_higher_order"
   ]
  },
  {
   "cell_type": "code",
   "execution_count": null,
   "id": "0e3985a4",
   "metadata": {},
   "outputs": [],
   "source": [
    "from itertools import product\n",
    "\n",
    "\n",
    "class Store:\n",
    "    id = 0\n",
    "\n",
    "    def __init__(self, name, city):\n",
    "        self.name = name\n",
    "        self.city = city\n",
    "        self.orders = []\n",
    "        self.id = Store.id\n",
    "        Store.id += 1\n",
    "\n",
    "    def add_order(self, order_id):\n",
    "        self.orders.append(order_id)\n",
    "\n",
    "    def __repr__(self):\n",
    "        return str(self.id)\n",
    "\n",
    "\n",
    "class Order:\n",
    "    id = 0\n",
    "\n",
    "    def __init__(self, product_name, number, price):\n",
    "        self.product_name = product_name\n",
    "        self.magnitude = number\n",
    "        self.price = price\n",
    "        self.id = Order.id\n",
    "        Order.id += 1\n",
    "\n",
    "    def __repr__(self):\n",
    "        return str(self.id)\n",
    "\n",
    "\n",
    "def function(store_array, order_array):\n",
    "    selected_stores = filter(lambda x: x.name == \"Edeka\", store_array)\n",
    "    selected_orders = filter(lambda x: x.product_name == \"sour cream\", order_array)\n",
    "    selected_product = product(selected_stores, selected_orders)\n",
    "    selected_stores_with_products = filter(lambda tuple: tuple[1].id in tuple[0].orders, selected_product)\n",
    "    return list(map(lambda x: x[0], selected_stores_with_products))\n",
    "\n",
    "\n",
    "store_array = []\n",
    "store_array.append(Store(\"Edeka\", \"Leipzig\"))\n",
    "store_array.append(Store(\"Rewe\", \"MÃ¼nchen\"))\n",
    "store_array.append(Store(\"Lidl\", \"Leipzig\"))\n",
    "store_array.append(Store(\"Edeka\", \"Berlin\"))\n",
    "\n",
    "order_array = []\n",
    "order_array.append(Order(\"sour cream\", 100, 0.9))\n",
    "order_array.append(Order(\"cheese\", 230, 1.2))\n",
    "order_array.append(Order(\"apples\", 40, 0.5))\n",
    "order_array.append(Order(\"potatoes\", 2000, 0.2))\n",
    "order_array.append(Order(\"pans\", 10, 10.9))\n",
    "\n",
    "store_array[0].add_order(0)\n",
    "store_array[0].add_order(2)\n",
    "store_array[0].add_order(4)\n",
    "store_array[1].add_order(1)\n",
    "store_array[1].add_order(3)\n",
    "store_array[2].add_order(2)\n",
    "store_array[2].add_order(0)\n",
    "store_array[2].add_order(1)\n",
    "store_array[3].add_order(0)\n",
    "\n",
    "print(function(store_array, order_array))\n"
   ]
  },
  {
   "cell_type": "code",
   "execution_count": null,
   "id": "6b9fe7c9",
   "metadata": {},
   "outputs": [],
   "source": [
    "#comments or playground"
   ]
  },
  {
   "cell_type": "markdown",
   "id": "6b59c188",
   "metadata": {},
   "source": [
    "Store_iterative"
   ]
  },
  {
   "cell_type": "code",
   "execution_count": null,
   "id": "49b42d7c",
   "metadata": {},
   "outputs": [],
   "source": [
    "from itertools import product\n",
    "\n",
    "\n",
    "class Store:\n",
    "    id = 0\n",
    "\n",
    "    def __init__(self, name, city):\n",
    "        self.name = name\n",
    "        self.city = city\n",
    "        self.orders = []\n",
    "        self.id = Store.id\n",
    "        Store.id += 1\n",
    "\n",
    "    def add_order(self, order_id):\n",
    "        self.orders.append(order_id)\n",
    "\n",
    "    def __repr__(self):\n",
    "        return str(self.id)\n",
    "\n",
    "\n",
    "class Order:\n",
    "    id = 0\n",
    "\n",
    "    def __init__(self, product_name, number, price):\n",
    "        self.product_name = product_name\n",
    "        self.magnitude = number\n",
    "        self.price = price\n",
    "        self.id = Order.id\n",
    "        Order.id += 1\n",
    "\n",
    "    def __repr__(self):\n",
    "        return str(self.id)\n",
    "\n",
    "\n",
    "def function(store_array, order_array):\n",
    "    stores = []\n",
    "    for store in store_array:\n",
    "        if store.name == \"Edeka\":\n",
    "            stores.append(store)\n",
    "\n",
    "    orders = []\n",
    "    for order in order_array:\n",
    "        if order.product_name == \"sour cream\":\n",
    "            orders.append(order)\n",
    "\n",
    "    result = []\n",
    "    for store in stores:\n",
    "        for order in orders:\n",
    "            if order.id in store.orders:\n",
    "                result.append(store)\n",
    "\n",
    "    return result\n",
    "\n",
    "\n",
    "store_array = []\n",
    "store_array.append(Store(\"Edeka\", \"Leipzig\"))\n",
    "store_array.append(Store(\"Rewe\", \"MÃ¼nchen\"))\n",
    "store_array.append(Store(\"Lidl\", \"Leipzig\"))\n",
    "store_array.append(Store(\"Edeka\", \"Berlin\"))\n",
    "\n",
    "order_array = []\n",
    "order_array.append(Order(\"sour cream\", 100, 0.9))\n",
    "order_array.append(Order(\"cheese\", 230, 1.2))\n",
    "order_array.append(Order(\"apples\", 40, 0.5))\n",
    "order_array.append(Order(\"potatoes\", 2000, 0.2))\n",
    "order_array.append(Order(\"pans\", 10, 10.9))\n",
    "\n",
    "store_array[0].add_order(0)\n",
    "store_array[0].add_order(2)\n",
    "store_array[0].add_order(4)\n",
    "store_array[1].add_order(1)\n",
    "store_array[1].add_order(3)\n",
    "store_array[2].add_order(2)\n",
    "store_array[2].add_order(0)\n",
    "store_array[2].add_order(1)\n",
    "store_array[3].add_order(0)\n",
    "\n",
    "print(function(store_array, order_array))\n"
   ]
  },
  {
   "cell_type": "code",
   "execution_count": null,
   "id": "dd152fa0",
   "metadata": {},
   "outputs": [],
   "source": [
    "#comments or playground"
   ]
  },
  {
   "cell_type": "markdown",
   "id": "33ceecc6",
   "metadata": {},
   "source": [
    "Store_recursive"
   ]
  },
  {
   "cell_type": "code",
   "execution_count": null,
   "id": "a421c5da",
   "metadata": {},
   "outputs": [],
   "source": [
    "from itertools import product\n",
    "\n",
    "\n",
    "class Store:\n",
    "    id = 0\n",
    "\n",
    "    def __init__(self, name, city):\n",
    "        self.name = name\n",
    "        self.city = city\n",
    "        self.orders = []\n",
    "        self.id = Store.id\n",
    "        Store.id += 1\n",
    "\n",
    "    def add_order(self, order_id):\n",
    "        self.orders.append(order_id)\n",
    "\n",
    "    def __repr__(self):\n",
    "        return str(self.id)\n",
    "\n",
    "\n",
    "class Order:\n",
    "    id = 0\n",
    "\n",
    "    def __init__(self, product_name, number, price):\n",
    "        self.product_name = product_name\n",
    "        self.magnitude = number\n",
    "        self.price = price\n",
    "        self.id = Order.id\n",
    "        Order.id += 1\n",
    "\n",
    "    def __repr__(self):\n",
    "        return str(self.id)\n",
    "\n",
    "def helper1(order_array):\n",
    "    if len(order_array) == 0:\n",
    "        return []\n",
    "    if order_array[0].product_name == \"sour cream\":\n",
    "        return [order_array[0]] + helper1(order_array[1:])\n",
    "    else:\n",
    "        return helper1(order_array[1:])\n",
    "\n",
    "\n",
    "def helper2(store, order_array):\n",
    "    if len(order_array) == 0:\n",
    "        return False\n",
    "    if order_array[0].id in store.orders:\n",
    "        return True\n",
    "    else:\n",
    "        return helper2(store, order_array[1:])\n",
    "\n",
    "\n",
    "def function(store_array, order_array):\n",
    "    if len(store_array)==0:\n",
    "        return []\n",
    "    if store_array[0].name == \"Edeka\":\n",
    "        orders = helper1(order_array)\n",
    "        if helper2(store_array[0], orders):\n",
    "            return [store_array[0]] + function(store_array[1:], order_array)\n",
    "\n",
    "    return function(store_array[1:], order_array)\n",
    "\n",
    "\n",
    "store_array = []\n",
    "store_array.append(Store(\"Edeka\", \"Leipzig\"))\n",
    "store_array.append(Store(\"Rewe\", \"MÃ¼nchen\"))\n",
    "store_array.append(Store(\"Lidl\", \"Leipzig\"))\n",
    "store_array.append(Store(\"Edeka\", \"Berlin\"))\n",
    "\n",
    "order_array = []\n",
    "order_array.append(Order(\"sour cream\", 100, 0.9))\n",
    "order_array.append(Order(\"cheese\", 230, 1.2))\n",
    "order_array.append(Order(\"apples\", 40, 0.5))\n",
    "order_array.append(Order(\"potatoes\", 2000, 0.2))\n",
    "order_array.append(Order(\"pans\", 10, 10.9))\n",
    "\n",
    "store_array[0].add_order(0)\n",
    "store_array[0].add_order(2)\n",
    "store_array[0].add_order(4)\n",
    "store_array[1].add_order(1)\n",
    "store_array[1].add_order(3)\n",
    "store_array[2].add_order(2)\n",
    "store_array[2].add_order(0)\n",
    "store_array[2].add_order(1)\n",
    "store_array[3].add_order(0)\n",
    "\n",
    "print(function(store_array, order_array))\n"
   ]
  },
  {
   "cell_type": "code",
   "execution_count": null,
   "id": "da956fa6",
   "metadata": {},
   "outputs": [],
   "source": [
    "#comments or playground"
   ]
  },
  {
   "cell_type": "markdown",
   "id": "91951c2a",
   "metadata": {},
   "source": [
    "students_higher_order"
   ]
  },
  {
   "cell_type": "code",
   "execution_count": null,
   "id": "3b1584bc",
   "metadata": {},
   "outputs": [],
   "source": [
    "class Student:\n",
    "    def __init__(self, age, name):\n",
    "        self.age = age\n",
    "        self.name = name\n",
    "\n",
    "    def __repr__(self):\n",
    "        return str(self.name)\n",
    "\n",
    "\n",
    "def function(student_array):\n",
    "    return list(filter(lambda x: x.age >= 18, student_array))\n",
    "\n",
    "\n",
    "students = []\n",
    "students.append(Student(17, \"Hans\"))\n",
    "students.append(Student(21, \"Jasmin\"))\n",
    "students.append(Student(32, \"Florian\"))\n",
    "print(function(students))\n"
   ]
  },
  {
   "cell_type": "code",
   "execution_count": null,
   "id": "d905a0f2",
   "metadata": {},
   "outputs": [],
   "source": [
    "#comments or playground"
   ]
  },
  {
   "cell_type": "markdown",
   "id": "9a8440ec",
   "metadata": {},
   "source": [
    "students_iterative"
   ]
  },
  {
   "cell_type": "code",
   "execution_count": null,
   "id": "20e3c1df",
   "metadata": {},
   "outputs": [],
   "source": [
    "class Student:\n",
    "    def __init__(self, age, name):\n",
    "        self.age = age\n",
    "        self.name = name\n",
    "\n",
    "    def __repr__(self):\n",
    "        return str(self.name)\n",
    "\n",
    "\n",
    "def function(student_array):\n",
    "    result = []\n",
    "    for student in student_array:\n",
    "        if student.age >= 18:\n",
    "            result.append(student)\n",
    "    return result\n",
    "\n",
    "\n",
    "students = []\n",
    "students.append(Student(17, \"Hans\"))\n",
    "students.append(Student(21, \"Jasmin\"))\n",
    "students.append(Student(32, \"Florian\"))\n",
    "print(function(students))\n"
   ]
  },
  {
   "cell_type": "code",
   "execution_count": null,
   "id": "a873555b",
   "metadata": {},
   "outputs": [],
   "source": [
    "#comments or playground"
   ]
  },
  {
   "cell_type": "markdown",
   "id": "3fe9a673",
   "metadata": {},
   "source": [
    "students_recursive"
   ]
  },
  {
   "cell_type": "code",
   "execution_count": null,
   "id": "f55fcff5",
   "metadata": {},
   "outputs": [],
   "source": [
    "class Student:\n",
    "    def __init__(self, age, name):\n",
    "        self.age = age\n",
    "        self.name = name\n",
    "\n",
    "    def __repr__(self):\n",
    "        return str(self.name)\n",
    "\n",
    "\n",
    "def function(student_array):\n",
    "    if len(student_array) == 0:\n",
    "        return []\n",
    "    elif student_array[0].age >= 18:\n",
    "        return [student_array[0]] + function(student_array[1:])\n",
    "    else:\n",
    "        return function(student_array[1:])\n",
    "\n",
    "\n",
    "students = []\n",
    "students.append(Student(17, \"Hans\"))\n",
    "students.append(Student(21, \"Jasmin\"))\n",
    "students.append(Student(32, \"Florian\"))\n",
    "print(function(students))\n"
   ]
  },
  {
   "cell_type": "code",
   "execution_count": null,
   "id": "596eec54",
   "metadata": {},
   "outputs": [],
   "source": [
    "#comments or playground"
   ]
  }
 ],
 "metadata": {},
 "nbformat": 4,
 "nbformat_minor": 5
}
