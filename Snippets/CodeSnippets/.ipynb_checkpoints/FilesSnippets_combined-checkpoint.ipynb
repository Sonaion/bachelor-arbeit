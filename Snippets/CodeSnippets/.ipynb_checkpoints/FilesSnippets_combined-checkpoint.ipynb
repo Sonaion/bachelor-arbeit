{
 "cells": [
  {
   "cell_type": "markdown",
   "id": "185ec5b1",
   "metadata": {},
   "source": [
    "add_5_higher_order"
   ]
  },
  {
   "cell_type": "code",
   "execution_count": null,
   "id": "49e22713",
   "metadata": {},
   "outputs": [],
   "source": [
    "def function(array_data):\n",
    "    return list(map(lambda x: x + 5, array_data))\n",
    "\n",
    "\n",
    "print(function([0, 5, 10]))\n"
   ]
  },
  {
   "cell_type": "code",
   "execution_count": null,
   "id": "fb9559ab",
   "metadata": {},
   "outputs": [],
   "source": [
    "#comments or playground"
   ]
  },
  {
   "cell_type": "markdown",
   "id": "542a4102",
   "metadata": {},
   "source": [
    "add_5_iterative"
   ]
  },
  {
   "cell_type": "code",
   "execution_count": null,
   "id": "e10facec",
   "metadata": {},
   "outputs": [],
   "source": [
    "def function(array_data):\n",
    "    result = []\n",
    "    for element in array_data:\n",
    "        result.append(element + 5)\n",
    "    return result\n",
    "\n",
    "\n",
    "print(function([0, 5, 10]))\n"
   ]
  },
  {
   "cell_type": "code",
   "execution_count": null,
   "id": "a369e5de",
   "metadata": {},
   "outputs": [],
   "source": [
    "#comments or playground"
   ]
  },
  {
   "cell_type": "markdown",
   "id": "a1ac33d6",
   "metadata": {},
   "source": [
    "add_5_recursive"
   ]
  },
  {
   "cell_type": "code",
   "execution_count": null,
   "id": "49afcc74",
   "metadata": {},
   "outputs": [],
   "source": [
    "def function(array_data):\n",
    "    if len(array_data) == 0:\n",
    "        return []\n",
    "    return [array_data[0] + 5] + function(array_data[1:])\n",
    "\n",
    "\n",
    "print(function([0, 5, 10]))\n"
   ]
  },
  {
   "cell_type": "code",
   "execution_count": null,
   "id": "ab326bda",
   "metadata": {},
   "outputs": [],
   "source": [
    "#comments or playground"
   ]
  },
  {
   "cell_type": "markdown",
   "id": "eec6437b",
   "metadata": {},
   "source": [
    "apply_higher_order"
   ]
  },
  {
   "cell_type": "code",
   "execution_count": null,
   "id": "30c3a585",
   "metadata": {},
   "outputs": [],
   "source": [
    "def function(array_data, func):\n",
    "    return list(map(func, array_data))\n",
    "\n",
    "\n",
    "print(function([1, 2, 3], lambda x: x ** 2 + x))\n"
   ]
  },
  {
   "cell_type": "code",
   "execution_count": null,
   "id": "d1e0b20c",
   "metadata": {},
   "outputs": [],
   "source": [
    "#comments or playground"
   ]
  },
  {
   "cell_type": "markdown",
   "id": "aecabeb2",
   "metadata": {},
   "source": [
    "apply_iterative"
   ]
  },
  {
   "cell_type": "code",
   "execution_count": null,
   "id": "9a85c016",
   "metadata": {},
   "outputs": [],
   "source": [
    "def function(array_data, func):\n",
    "    results = []\n",
    "    for data in array_data:\n",
    "        results.append(func(data))\n",
    "    return results\n",
    "\n",
    "\n",
    "print(function([1, 2, 3], lambda x: x ** 2 + x))\n"
   ]
  },
  {
   "cell_type": "code",
   "execution_count": null,
   "id": "785f0132",
   "metadata": {},
   "outputs": [],
   "source": [
    "#comments or playground"
   ]
  },
  {
   "cell_type": "markdown",
   "id": "1c8a551e",
   "metadata": {},
   "source": [
    "apply_recursive"
   ]
  },
  {
   "cell_type": "code",
   "execution_count": null,
   "id": "32bec6bf",
   "metadata": {},
   "outputs": [],
   "source": [
    "def function(array_data, func):\n",
    "    if len(array_data) == 0:\n",
    "        return []\n",
    "    else:\n",
    "        return [func(array_data[0])] + function(array_data[1:], func)\n",
    "\n",
    "\n",
    "print(function([1, 2, 3], lambda x: x ** 2 + x))\n"
   ]
  },
  {
   "cell_type": "code",
   "execution_count": null,
   "id": "4e9b8bbf",
   "metadata": {},
   "outputs": [],
   "source": [
    "#comments or playground"
   ]
  },
  {
   "cell_type": "markdown",
   "id": "0dcaf73e",
   "metadata": {},
   "source": [
    "condition_sum_higher_order"
   ]
  },
  {
   "cell_type": "code",
   "execution_count": null,
   "id": "12928408",
   "metadata": {},
   "outputs": [],
   "source": [
    "def function(n):\n",
    "    array_data = filter(lambda x: x % 3 == 0 or x % 4 == 0, range(2, n + 1))\n",
    "    return reduce(lambda x, y: x + y, array_data)\n",
    "\n",
    "\n",
    "print(function(14))\n"
   ]
  },
  {
   "cell_type": "code",
   "execution_count": null,
   "id": "d9ba52d3",
   "metadata": {},
   "outputs": [],
   "source": [
    "#comments or playground"
   ]
  },
  {
   "cell_type": "markdown",
   "id": "f8eeb7ca",
   "metadata": {},
   "source": [
    "condition_sum_iterative"
   ]
  },
  {
   "cell_type": "code",
   "execution_count": null,
   "id": "606e41ff",
   "metadata": {},
   "outputs": [],
   "source": [
    "def function(n):\n",
    "    array_data = []\n",
    "    for i in range(2, n + 1):\n",
    "        if i % 3 == 0 or i % 4 == 0:\n",
    "            array_data.append(i)\n",
    "    result = 0\n",
    "    for value in array_data:\n",
    "        result += value\n",
    "    return result\n",
    "\n",
    "\n",
    "print(function(14))\n"
   ]
  },
  {
   "cell_type": "code",
   "execution_count": null,
   "id": "c86b4315",
   "metadata": {},
   "outputs": [],
   "source": [
    "#comments or playground"
   ]
  },
  {
   "cell_type": "markdown",
   "id": "dd6558ce",
   "metadata": {},
   "source": [
    "condition_sum_recursive"
   ]
  },
  {
   "cell_type": "code",
   "execution_count": null,
   "id": "999d45c3",
   "metadata": {},
   "outputs": [],
   "source": [
    "def function(n):\n",
    "    if n == 1:\n",
    "        return 0\n",
    "    if n % 3 == 0 or n % 4 == 0:\n",
    "        return n + function(n - 1)\n",
    "    else:\n",
    "        return function(n - 1)\n",
    "\n",
    "\n",
    "print(function(14))\n"
   ]
  },
  {
   "cell_type": "code",
   "execution_count": null,
   "id": "0a3c6731",
   "metadata": {},
   "outputs": [],
   "source": [
    "#comments or playground"
   ]
  },
  {
   "cell_type": "markdown",
   "id": "6def93b0",
   "metadata": {},
   "source": [
    "find_higher_order"
   ]
  },
  {
   "cell_type": "code",
   "execution_count": null,
   "id": "b78b5393",
   "metadata": {},
   "outputs": [],
   "source": [
    "def function(data_array, element):\n",
    "    index_data_array = enumerate(data_array)\n",
    "    filtered_array = map(lambda x_tuple: x_tuple[0] if x_tuple[1] == element else 0, index_data_array)\n",
    "    return reduce(lambda x, y: x + y, filtered_array)\n",
    "\n",
    "\n",
    "print(function([1, 2, 3, 4, 5], 3))\n"
   ]
  },
  {
   "cell_type": "code",
   "execution_count": null,
   "id": "3e276a2a",
   "metadata": {},
   "outputs": [],
   "source": [
    "#comments or playground"
   ]
  },
  {
   "cell_type": "markdown",
   "id": "34d56a6f",
   "metadata": {},
   "source": [
    "find_iterative"
   ]
  },
  {
   "cell_type": "code",
   "execution_count": null,
   "id": "93beb689",
   "metadata": {},
   "outputs": [],
   "source": [
    "def function(data_array, element):\n",
    "    for idx, value in enumerate(data_array):\n",
    "        if value == element:\n",
    "            return idx\n",
    "    return -1\n",
    "\n",
    "\n",
    "print(function([1, 2, 3, 4, 5], 3))\n"
   ]
  },
  {
   "cell_type": "code",
   "execution_count": null,
   "id": "64aa2028",
   "metadata": {},
   "outputs": [],
   "source": [
    "#comments or playground"
   ]
  },
  {
   "cell_type": "markdown",
   "id": "244f8db9",
   "metadata": {},
   "source": [
    "find_recursive"
   ]
  },
  {
   "cell_type": "code",
   "execution_count": null,
   "id": "067b78fa",
   "metadata": {},
   "outputs": [],
   "source": [
    "def function(data_array, element):\n",
    "    if len(data_array) == 0:\n",
    "        return -1\n",
    "    elif data_array[0] == element:\n",
    "        return 0\n",
    "    else:\n",
    "        idx = function(data_array[1:], element)\n",
    "        if idx == -1:\n",
    "            return -1\n",
    "        else:\n",
    "            return idx + 1\n",
    "\n",
    "\n",
    "print(function([1, 2, 3, 4, 5], 3))\n"
   ]
  },
  {
   "cell_type": "code",
   "execution_count": null,
   "id": "4409a97a",
   "metadata": {},
   "outputs": [],
   "source": [
    "#comments or playground"
   ]
  },
  {
   "cell_type": "markdown",
   "id": "3b7e9945",
   "metadata": {},
   "source": [
    "is_prime_higher_order"
   ]
  },
  {
   "cell_type": "code",
   "execution_count": null,
   "id": "08669920",
   "metadata": {},
   "outputs": [],
   "source": [
    "def function(number):\n",
    "    number_array = range(1, number + 1)\n",
    "    prime_array = filter(lambda x: number % x == 0, number_array)\n",
    "    return len(list(prime_array)) == 2\n",
    "\n",
    "\n",
    "print(function(7))\n"
   ]
  },
  {
   "cell_type": "code",
   "execution_count": null,
   "id": "92fc90d7",
   "metadata": {},
   "outputs": [],
   "source": [
    "#comments or playground"
   ]
  },
  {
   "cell_type": "markdown",
   "id": "2ba03a32",
   "metadata": {},
   "source": [
    "is_prime_iterative"
   ]
  },
  {
   "cell_type": "code",
   "execution_count": null,
   "id": "ded76a9a",
   "metadata": {},
   "outputs": [],
   "source": [
    "def function(number):\n",
    "    if number == 1:\n",
    "        return False\n",
    "    for check_num in range(2, int(number / 2) + 1):\n",
    "        if number % check_num == 0:\n",
    "            return False\n",
    "    return True\n",
    "\n",
    "\n",
    "print(function(7))\n"
   ]
  },
  {
   "cell_type": "code",
   "execution_count": null,
   "id": "98345d88",
   "metadata": {},
   "outputs": [],
   "source": [
    "#comments or playground"
   ]
  },
  {
   "cell_type": "markdown",
   "id": "4fe396db",
   "metadata": {},
   "source": [
    "is_prime_recursive"
   ]
  },
  {
   "cell_type": "code",
   "execution_count": null,
   "id": "2e291fc6",
   "metadata": {},
   "outputs": [],
   "source": [
    "def function(number, current=None):\n",
    "    if current is None:\n",
    "        current = int(number / 2)\n",
    "    if number == 1:\n",
    "        return False\n",
    "    if current == 1:\n",
    "        return True\n",
    "    if number % current == 0:\n",
    "        return False\n",
    "    return function(number, current - 1)\n",
    "\n",
    "\n",
    "print(function(7))\n"
   ]
  },
  {
   "cell_type": "code",
   "execution_count": null,
   "id": "5654aa7d",
   "metadata": {},
   "outputs": [],
   "source": [
    "#comments or playground"
   ]
  },
  {
   "cell_type": "markdown",
   "id": "37ee9717",
   "metadata": {},
   "source": [
    "max_higher_order"
   ]
  },
  {
   "cell_type": "code",
   "execution_count": null,
   "id": "4213f450",
   "metadata": {},
   "outputs": [],
   "source": [
    "def function(array_data):\n",
    "    return reduce(lambda x, y: x if x >= y else y, array_data)\n",
    "\n",
    "\n",
    "print(function([0, 5, 2]))\n"
   ]
  },
  {
   "cell_type": "code",
   "execution_count": null,
   "id": "dfbdbba9",
   "metadata": {},
   "outputs": [],
   "source": [
    "#comments or playground"
   ]
  },
  {
   "cell_type": "markdown",
   "id": "a944f320",
   "metadata": {},
   "source": [
    "max_iterative"
   ]
  },
  {
   "cell_type": "code",
   "execution_count": null,
   "id": "9bb00c08",
   "metadata": {},
   "outputs": [],
   "source": [
    "def function(array_data):\n",
    "    if len(array_data) == 0:\n",
    "        return None\n",
    "\n",
    "    max_value = array_data[0]\n",
    "    for value in array_data:\n",
    "        if value > max_value:\n",
    "            max_value = value\n",
    "    return max_value\n",
    "\n",
    "\n",
    "print(function([0, 5, 2]))\n"
   ]
  },
  {
   "cell_type": "code",
   "execution_count": null,
   "id": "3217d48c",
   "metadata": {},
   "outputs": [],
   "source": [
    "#comments or playground"
   ]
  },
  {
   "cell_type": "markdown",
   "id": "9d2a47ca",
   "metadata": {},
   "source": [
    "max_recursive"
   ]
  },
  {
   "cell_type": "code",
   "execution_count": null,
   "id": "93fe8c72",
   "metadata": {},
   "outputs": [],
   "source": [
    "def function(array_data, current=None):\n",
    "    if len(array_data) == 0:\n",
    "        return current\n",
    "    elif current is None:\n",
    "        return function(array_data[1:], array_data[0])\n",
    "    elif current >= array_data[0]:\n",
    "        return function(array_data[1:], current)\n",
    "    else:\n",
    "        return function(array_data[1:], array_data[0])\n",
    "\n",
    "\n",
    "print(function([0, 5, 2]))\n"
   ]
  },
  {
   "cell_type": "code",
   "execution_count": null,
   "id": "2bdbb509",
   "metadata": {},
   "outputs": [],
   "source": [
    "#comments or playground"
   ]
  },
  {
   "cell_type": "markdown",
   "id": "4e38c7af",
   "metadata": {},
   "source": [
    "node_higher_order"
   ]
  },
  {
   "cell_type": "code",
   "execution_count": null,
   "id": "c5784464",
   "metadata": {},
   "outputs": [],
   "source": [
    "class Node:\n",
    "    def __init__(self, value):\n",
    "        self.value = value\n",
    "        self.left = None\n",
    "        self.right = None\n",
    "\n",
    "    def pre_order_iter(self):\n",
    "        result = [self]\n",
    "        if self.left is not None:\n",
    "            left = self.left.pre_order_iter()\n",
    "            result = result + left\n",
    "        if self.right is not None:\n",
    "            right = self.right.pre_order_iter()\n",
    "            result = result + right\n",
    "        return result\n",
    "\n",
    "\n",
    "def function(node):\n",
    "    duos = product(node.pre_order_iter(), node.pre_order_iter())\n",
    "    multiplies = map(lambda x: x[0].value * x[1].value, duos)\n",
    "    return reduce(lambda x, y: x + y, multiplies)\n",
    "\n",
    "\n",
    "n = Node(2)\n",
    "n.left = Node(1)\n",
    "n.right = Node(3)\n",
    "print(function(n))\n"
   ]
  },
  {
   "cell_type": "code",
   "execution_count": null,
   "id": "b7a3d619",
   "metadata": {},
   "outputs": [],
   "source": [
    "#comments or playground"
   ]
  },
  {
   "cell_type": "markdown",
   "id": "f676032d",
   "metadata": {},
   "source": [
    "node_iterative"
   ]
  },
  {
   "cell_type": "code",
   "execution_count": null,
   "id": "0cfb6d0a",
   "metadata": {},
   "outputs": [],
   "source": [
    "class Node:\n",
    "    def __init__(self, value):\n",
    "        self.value = value\n",
    "        self.left = None\n",
    "        self.right = None\n",
    "\n",
    "    def pre_order_iter(self):\n",
    "        stack = []\n",
    "        result = []\n",
    "        stack.append(self)\n",
    "\n",
    "        while len(stack) != 0:\n",
    "            node = stack.pop()\n",
    "            result.append(node)\n",
    "\n",
    "            if node.right is not None:\n",
    "                stack.append(node.right)\n",
    "\n",
    "            if node.left is not None:\n",
    "                stack.append(node.left)\n",
    "\n",
    "        return result\n",
    "\n",
    "\n",
    "def function(node):\n",
    "    result = 0\n",
    "    for current1 in node.pre_order_iter():\n",
    "        for current2 in node.pre_order_iter():\n",
    "            result += current1.value * current2.value\n",
    "    return result\n",
    "\n",
    "\n",
    "n = Node(2)\n",
    "n.left = Node(1)\n",
    "n.right = Node(3)\n",
    "print(function(n))\n"
   ]
  },
  {
   "cell_type": "code",
   "execution_count": null,
   "id": "5051decf",
   "metadata": {},
   "outputs": [],
   "source": [
    "#comments or playground"
   ]
  },
  {
   "cell_type": "markdown",
   "id": "00d7d137",
   "metadata": {},
   "source": [
    "node_recursive"
   ]
  },
  {
   "cell_type": "code",
   "execution_count": null,
   "id": "0323e673",
   "metadata": {},
   "outputs": [],
   "source": [
    "class Node:\n",
    "    def __init__(self, value):\n",
    "        self.value = value\n",
    "        self.left = None\n",
    "        self.right = None\n",
    "\n",
    "    def pre_order_iter(self):\n",
    "        result = []\n",
    "        result.append(self)\n",
    "        if self.left is not None:\n",
    "            left = self.left.pre_order_iter()\n",
    "            result = result + left\n",
    "        if self.right is not None:\n",
    "            right = self.right.pre_order_iter()\n",
    "            result = result + right\n",
    "        return result\n",
    "\n",
    "\n",
    "def helper(first, second, second_len=None):\n",
    "    if len(first) == 0:\n",
    "        return []\n",
    "\n",
    "    if len(second) == 0:\n",
    "        return []\n",
    "\n",
    "    if second_len is None:\n",
    "        return helper(first, second, len(second))\n",
    "\n",
    "    result = [(first[0], second[0])]\n",
    "    if len(second) == second_len:\n",
    "        inner = helper(first, second[1:], second_len)\n",
    "        outer = helper(first[1:], second, second_len)\n",
    "        result = result + inner + outer\n",
    "    else:\n",
    "        inner = helper(first, second[1:], second_len)\n",
    "        result = result + inner\n",
    "    return result\n",
    "\n",
    "\n",
    "def function(powerset):\n",
    "    if len(powerset) == 0:\n",
    "        return 0\n",
    "    return powerset[0][0].value * powerset[0][1].value + function(powerset[1:])\n",
    "\n",
    "\n",
    "n = Node(2)\n",
    "n.left = Node(1)\n",
    "n.right = Node(3)\n",
    "print(function(helper(n.pre_order_iter(), n.pre_order_iter())))\n"
   ]
  },
  {
   "cell_type": "code",
   "execution_count": null,
   "id": "a8dc892c",
   "metadata": {},
   "outputs": [],
   "source": [
    "#comments or playground"
   ]
  },
  {
   "cell_type": "markdown",
   "id": "4ce839f9",
   "metadata": {},
   "source": [
    "prime_factors_higher_order"
   ]
  },
  {
   "cell_type": "code",
   "execution_count": null,
   "id": "09f7a4a0",
   "metadata": {},
   "outputs": [],
   "source": [
    "def helper(number):\n",
    "    number_array = range(1, number + 1)\n",
    "    prime_array = filter(lambda x: number % x == 0, number_array)\n",
    "    return len(list(prime_array)) == 2\n",
    "\n",
    "\n",
    "def function(number):\n",
    "    primes = filter(helper, range(2, number + 1))\n",
    "    prime_factors = filter(lambda x: number % x == 0, primes)\n",
    "    return list(prime_factors)\n",
    "\n",
    "\n",
    "print(function(18))\n"
   ]
  },
  {
   "cell_type": "code",
   "execution_count": null,
   "id": "6cd0c7aa",
   "metadata": {},
   "outputs": [],
   "source": [
    "#comments or playground"
   ]
  },
  {
   "cell_type": "markdown",
   "id": "4060994f",
   "metadata": {},
   "source": [
    "prime_factors_iterative"
   ]
  },
  {
   "cell_type": "code",
   "execution_count": null,
   "id": "822eca6f",
   "metadata": {},
   "outputs": [],
   "source": [
    "def helper(number):\n",
    "    if number == 1:\n",
    "        return False\n",
    "    for check_num in range(2, int(number / 2) + 1):\n",
    "        if number % check_num == 0:\n",
    "            return False\n",
    "    return True\n",
    "\n",
    "\n",
    "def function(number):\n",
    "    result = []\n",
    "    for idx_num in range(2, number + 1):\n",
    "        if helper(idx_num) and number % idx_num == 0:\n",
    "            result.append(idx_num)\n",
    "    return result\n",
    "\n",
    "\n",
    "print(function(18))\n"
   ]
  },
  {
   "cell_type": "code",
   "execution_count": null,
   "id": "051bf36b",
   "metadata": {},
   "outputs": [],
   "source": [
    "#comments or playground"
   ]
  },
  {
   "cell_type": "markdown",
   "id": "0e64ddf5",
   "metadata": {},
   "source": [
    "prime_factors_recursive"
   ]
  },
  {
   "cell_type": "code",
   "execution_count": null,
   "id": "6be9b6a5",
   "metadata": {},
   "outputs": [],
   "source": [
    "def helper(number, current=None):\n",
    "    if current is None:\n",
    "        current = int(number / 2)\n",
    "    if number == 1:\n",
    "        return False\n",
    "    if current == 1:\n",
    "        return True\n",
    "    if number % current == 0:\n",
    "        return False\n",
    "    return helper(number, current - 1)\n",
    "\n",
    "\n",
    "def function(number, current=None):\n",
    "    if current is None:\n",
    "        return function(number, 2)\n",
    "\n",
    "    elif number == current and number % current == 0:\n",
    "        return [current]\n",
    "\n",
    "    elif number <= current:\n",
    "        return []\n",
    "\n",
    "    elif not helper(current):\n",
    "        return function(number, current + 1)\n",
    "\n",
    "    elif number % current == 0:\n",
    "        return [current] + function(number / current, current + 1)\n",
    "\n",
    "    else:\n",
    "        return function(number, current + 1)\n",
    "\n",
    "\n",
    "print(function(18))\n"
   ]
  },
  {
   "cell_type": "code",
   "execution_count": null,
   "id": "e7c4a4b9",
   "metadata": {},
   "outputs": [],
   "source": [
    "#comments or playground"
   ]
  },
  {
   "cell_type": "markdown",
   "id": "54ba3935",
   "metadata": {},
   "source": [
    "quad_mul_higher_order"
   ]
  },
  {
   "cell_type": "code",
   "execution_count": null,
   "id": "39fe2048",
   "metadata": {},
   "outputs": [],
   "source": [
    "def function(n):\n",
    "    array_data = map(lambda x: x ** 2, range(1, n + 1))\n",
    "    return reduce(lambda x, y: x * y, array_data)\n",
    "\n",
    "\n",
    "print(function(3))\n"
   ]
  },
  {
   "cell_type": "code",
   "execution_count": null,
   "id": "5dc0758b",
   "metadata": {},
   "outputs": [],
   "source": [
    "#comments or playground"
   ]
  },
  {
   "cell_type": "markdown",
   "id": "4f982e37",
   "metadata": {},
   "source": [
    "quad_mul_iterative"
   ]
  },
  {
   "cell_type": "code",
   "execution_count": null,
   "id": "27161f4f",
   "metadata": {},
   "outputs": [],
   "source": [
    "def function(n):\n",
    "    array_data = []\n",
    "    for i in range(1, n + 1):\n",
    "        array_data.append(i ** 2)\n",
    "    result = 1\n",
    "    for value in array_data:\n",
    "        result *= value\n",
    "    return result\n",
    "\n",
    "\n",
    "print(function(3))\n"
   ]
  },
  {
   "cell_type": "code",
   "execution_count": null,
   "id": "009b1cae",
   "metadata": {},
   "outputs": [],
   "source": [
    "#comments or playground"
   ]
  },
  {
   "cell_type": "markdown",
   "id": "063e7d99",
   "metadata": {},
   "source": [
    "quad_mul_recursive"
   ]
  },
  {
   "cell_type": "code",
   "execution_count": null,
   "id": "c3bc873f",
   "metadata": {},
   "outputs": [],
   "source": [
    "def function(n):\n",
    "    if n == 1:\n",
    "        return 1\n",
    "    return n ** 2 * function(n - 1)\n",
    "\n",
    "\n",
    "print(function(3))\n"
   ]
  },
  {
   "cell_type": "code",
   "execution_count": null,
   "id": "ed725375",
   "metadata": {},
   "outputs": [],
   "source": [
    "#comments or playground"
   ]
  },
  {
   "cell_type": "markdown",
   "id": "85fb12d9",
   "metadata": {},
   "source": [
    "students_higher_order"
   ]
  },
  {
   "cell_type": "code",
   "execution_count": null,
   "id": "93514133",
   "metadata": {},
   "outputs": [],
   "source": [
    "class Student:\n",
    "    def __init__(self, age, name):\n",
    "        self.age = age\n",
    "        self.name = name\n",
    "\n",
    "    def __repr__(self):\n",
    "        return str(self.name)\n",
    "\n",
    "\n",
    "def function(student_array):\n",
    "    return list(filter(lambda x: x.age >= 18, student_array))\n",
    "\n",
    "\n",
    "students = []\n",
    "students.append(Student(17, \"Hans\"))\n",
    "students.append(Student(21, \"Jasmin\"))\n",
    "students.append(Student(32, \"Florian\"))\n",
    "print(function(students))\n"
   ]
  },
  {
   "cell_type": "code",
   "execution_count": null,
   "id": "b7486e85",
   "metadata": {},
   "outputs": [],
   "source": [
    "#comments or playground"
   ]
  },
  {
   "cell_type": "markdown",
   "id": "8e9e315f",
   "metadata": {},
   "source": [
    "students_iterative"
   ]
  },
  {
   "cell_type": "code",
   "execution_count": null,
   "id": "d04f2915",
   "metadata": {},
   "outputs": [],
   "source": [
    "class Student:\n",
    "    def __init__(self, age, name):\n",
    "        self.age = age\n",
    "        self.name = name\n",
    "\n",
    "    def __repr__(self):\n",
    "        return str(self.name)\n",
    "\n",
    "\n",
    "def function(student_array):\n",
    "    result = []\n",
    "    for student in student_array:\n",
    "        if student.age >= 18:\n",
    "            result.append(student)\n",
    "    return result\n",
    "\n",
    "\n",
    "students = []\n",
    "students.append(Student(17, \"Hans\"))\n",
    "students.append(Student(21, \"Jasmin\"))\n",
    "students.append(Student(32, \"Florian\"))\n",
    "print(function(students))\n"
   ]
  },
  {
   "cell_type": "code",
   "execution_count": null,
   "id": "e62ea1f7",
   "metadata": {},
   "outputs": [],
   "source": [
    "#comments or playground"
   ]
  },
  {
   "cell_type": "markdown",
   "id": "3a5e009b",
   "metadata": {},
   "source": [
    "students_recursive"
   ]
  },
  {
   "cell_type": "code",
   "execution_count": null,
   "id": "f30235db",
   "metadata": {},
   "outputs": [],
   "source": [
    "class Student:\n",
    "    def __init__(self, age, name):\n",
    "        self.age = age\n",
    "        self.name = name\n",
    "\n",
    "    def __repr__(self):\n",
    "        return str(self.name)\n",
    "\n",
    "\n",
    "def function(student_array):\n",
    "    if len(student_array) == 0:\n",
    "        return []\n",
    "    elif student_array[0].age >= 18:\n",
    "        return [student_array[0]] + function(student_array[1:])\n",
    "    else:\n",
    "        return function(student_array[1:])\n",
    "\n",
    "\n",
    "students = []\n",
    "students.append(Student(17, \"Hans\"))\n",
    "students.append(Student(21, \"Jasmin\"))\n",
    "students.append(Student(32, \"Florian\"))\n",
    "print(function(students))\n"
   ]
  },
  {
   "cell_type": "code",
   "execution_count": null,
   "id": "1e9abcb1",
   "metadata": {},
   "outputs": [],
   "source": [
    "#comments or playground"
   ]
  }
 ],
 "metadata": {},
 "nbformat": 4,
 "nbformat_minor": 5
}
