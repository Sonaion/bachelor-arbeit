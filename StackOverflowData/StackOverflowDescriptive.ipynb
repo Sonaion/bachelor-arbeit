{
 "cells": [
  {
   "cell_type": "code",
   "execution_count": 102,
   "id": "27e90d54-f322-4223-ab0a-bcfb85e3c4ad",
   "metadata": {},
   "outputs": [],
   "source": [
    "import pandas as pd\n",
    "import matplotlib.pyplot as plt"
   ]
  },
  {
   "cell_type": "code",
   "execution_count": 103,
   "id": "01012ade-ab8a-4757-8950-c1f42872bfed",
   "metadata": {},
   "outputs": [],
   "source": [
    "df = pd.read_excel(\"StackOverflowPreprocessed.xlsx\")"
   ]
  },
  {
   "cell_type": "code",
   "execution_count": 125,
   "id": "ebbc1c49-2c45-4325-afe1-f49b2e0a3bcc",
   "metadata": {},
   "outputs": [
    {
     "data": {
      "text/plain": [
       "Index(['Assembly', 'Bash', 'C', 'C#', 'C++', 'C++11', 'CSS', 'Cassandra',\n",
       "       'Clojure', 'Cloud', 'Cloud (AWS, GAE, Azure, etc.)', 'Cobol',\n",
       "       'CoffeeScript', 'Common Lisp', 'Dart', 'Delphi', 'Elixir', 'Erlang',\n",
       "       'F#', 'Go', 'Groovy', 'HTML', 'HTML5', 'Hack', 'Hadoop', 'Haskell',\n",
       "       'Java', 'JavaScript', 'Julia', 'Kotlin', 'Lua', 'Matlab', 'None',\n",
       "       'Object Pascal', 'Objective-C', 'Ocaml', 'PHP', 'Perl', 'PowerShell',\n",
       "       'Python', 'R', 'Redis', 'Ruby', 'Rust', 'SQL', 'SQL Server',\n",
       "       'Salesforce', 'Scala', 'Shell', 'Smalltalk', 'Spark', 'Swift',\n",
       "       'TypeScript', 'VB.NET', 'VBA', 'Visual Basic', 'Visual Basic 6',\n",
       "       'WebAssembly'],\n",
       "      dtype='object')"
      ]
     },
     "execution_count": 125,
     "metadata": {},
     "output_type": "execute_result"
    }
   ],
   "source": [
    "languages = df.columns[7:]\n",
    "languages"
   ]
  },
  {
   "cell_type": "code",
   "execution_count": 113,
   "id": "71dd3d3b-ccc5-48bd-ab91-fae19058d570",
   "metadata": {},
   "outputs": [],
   "source": [
    "cols = [\"Year\"]\n",
    "cols.extend(languages)\n",
    "df_language_per_year = pd.DataFrame([], columns=cols)\n",
    "for year in df[\"Year\"].unique():\n",
    "    sub_df = df[df[\"Year\"]==year]\n",
    "    data = [year]\n",
    "    for lang in languages:\n",
    "        corrects = len(sub_df[sub_df[lang]==True])\n",
    "        alls = len(sub_df)\n",
    "        corrects_normalized = corrects/alls\n",
    "        data.append(corrects_normalized)\n",
    "    df_language_per_year = df_language_per_year.append(pd.DataFrame([data], columns=cols))"
   ]
  },
  {
   "cell_type": "code",
   "execution_count": 133,
   "id": "26246b05-5f28-44d9-a1cd-b78ef21ebee9",
   "metadata": {},
   "outputs": [
    {
     "data": {
      "image/png": "[encoded data removed]",
      "text/plain": [
       "<Figure size 432x288 with 1 Axes>"
      ]
     },
     "metadata": {
      "needs_background": "light"
     },
     "output_type": "display_data"
    }
   ],
   "source": [
    "plt.ylim(0.0)\n",
    "plt.plot(df_language_per_year[\"Year\"], df_language_per_year[\"Python\"], label = \"HTML5\")\n",
    "plt.legend()\n",
    "plt.show()"
   ]
  },
  {
   "cell_type": "code",
   "execution_count": null,
   "id": "1111c18b-3641-4fd8-9d2d-77abad768be9",
   "metadata": {},
   "outputs": [],
   "source": []
  }
 ],
 "metadata": {
  "kernelspec": {
   "display_name": "Python 3",
   "language": "python",
   "name": "python3"
  },
  "language_info": {
   "codemirror_mode": {
    "name": "ipython",
    "version": 3
   },
   "file_extension": ".py",
   "mimetype": "text/x-python",
   "name": "python",
   "nbconvert_exporter": "python",
   "pygments_lexer": "ipython3",
   "version": "3.8.5"
  }
 },
 "nbformat": 4,
 "nbformat_minor": 5
}
