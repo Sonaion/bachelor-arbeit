{
 "cells": [
  {
   "cell_type": "code",
   "execution_count": 1,
   "metadata": {},
   "outputs": [],
   "source": [
    "import pandas as pd\n",
    "import matplotlib.pyplot as plt"
   ]
  },
  {
   "cell_type": "code",
   "execution_count": 2,
   "metadata": {},
   "outputs": [],
   "source": [
    "df = pd.read_excel(\"StackOverflowPreprocessed.xlsx\")"
   ]
  },
  {
   "cell_type": "code",
   "execution_count": 3,
   "metadata": {},
   "outputs": [
    {
     "data": {
      "text/plain": [
       "Index(['Assembly', 'Bash', 'C', 'C#', 'C++', 'C++11', 'CSS', 'Cassandra',\n",
       "       'Clojure', 'Cloud', 'Cloud (AWS, GAE, Azure, etc.)', 'Cobol',\n",
       "       'CoffeeScript', 'Common Lisp', 'Dart', 'Delphi', 'Elixir', 'Erlang',\n",
       "       'F#', 'Go', 'Groovy', 'HTML', 'HTML5', 'Hack', 'Hadoop', 'Haskell',\n",
       "       'Java', 'JavaScript', 'Julia', 'Kotlin', 'Lua', 'Matlab', 'None',\n",
       "       'Object Pascal', 'Objective-C', 'Ocaml', 'PHP', 'Perl', 'PowerShell',\n",
       "       'Python', 'R', 'Redis', 'Ruby', 'Rust', 'SQL', 'SQL Server',\n",
       "       'Salesforce', 'Scala', 'Shell', 'Smalltalk', 'Spark', 'Swift',\n",
       "       'TypeScript', 'VB.NET', 'VBA', 'Visual Basic', 'Visual Basic 6',\n",
       "       'WebAssembly'],\n",
       "      dtype='object')"
      ]
     },
     "execution_count": 3,
     "metadata": {},
     "output_type": "execute_result"
    }
   ],
   "source": [
    "languages = df.columns[7:]\n",
    "languages"
   ]
  },
  {
   "cell_type": "code",
   "execution_count": 4,
   "metadata": {},
   "outputs": [],
   "source": [
    "cols = [\"Year\"]\n",
    "cols.extend(languages)\n",
    "df_language_per_year = pd.DataFrame([], columns=cols)\n",
    "for year in df[\"Year\"].unique():\n",
    "    sub_df = df[df[\"Year\"]==year]\n",
    "    data = [year]\n",
    "    for lang in languages:\n",
    "        corrects = len(sub_df[sub_df[lang]==True])\n",
    "        alls = len(sub_df)\n",
    "        corrects_normalized = corrects/alls\n",
    "        data.append(corrects_normalized)\n",
    "    df_language_per_year = df_language_per_year.append(pd.DataFrame([data], columns=cols))"
   ]
  },
  {
   "cell_type": "code",
   "execution_count": 8,
   "metadata": {},
   "outputs": [
    {
     "data": {
      "text/html": [
       "<div>\n",
       "<style scoped>\n",
       "    .dataframe tbody tr th:only-of-type {\n",
       "        vertical-align: middle;\n",
       "    }\n",
       "\n",
       "    .dataframe tbody tr th {\n",
       "        vertical-align: top;\n",
       "    }\n",
       "\n",
       "    .dataframe thead th {\n",
       "        text-align: right;\n",
       "    }\n",
       "</style>\n",
       "<table border=\"1\" class=\"dataframe\">\n",
       "  <thead>\n",
       "    <tr style=\"text-align: right;\">\n",
       "      <th></th>\n",
       "      <th>Year</th>\n",
       "      <th>Assembly</th>\n",
       "      <th>Bash</th>\n",
       "      <th>C</th>\n",
       "      <th>C#</th>\n",
       "      <th>C++</th>\n",
       "      <th>C++11</th>\n",
       "      <th>CSS</th>\n",
       "      <th>Cassandra</th>\n",
       "      <th>Clojure</th>\n",
       "      <th>...</th>\n",
       "      <th>Shell</th>\n",
       "      <th>Smalltalk</th>\n",
       "      <th>Spark</th>\n",
       "      <th>Swift</th>\n",
       "      <th>TypeScript</th>\n",
       "      <th>VB.NET</th>\n",
       "      <th>VBA</th>\n",
       "      <th>Visual Basic</th>\n",
       "      <th>Visual Basic 6</th>\n",
       "      <th>WebAssembly</th>\n",
       "    </tr>\n",
       "  </thead>\n",
       "  <tbody>\n",
       "    <tr>\n",
       "      <td>0</td>\n",
       "      <td>2020</td>\n",
       "      <td>0.055119</td>\n",
       "      <td>0.294442</td>\n",
       "      <td>0.193714</td>\n",
       "      <td>0.279875</td>\n",
       "      <td>0.21264</td>\n",
       "      <td>0.0</td>\n",
       "      <td>0.561285</td>\n",
       "      <td>0.0</td>\n",
       "      <td>0.0</td>\n",
       "      <td>...</td>\n",
       "      <td>0.294442</td>\n",
       "      <td>0.0</td>\n",
       "      <td>0.0</td>\n",
       "      <td>0.052699</td>\n",
       "      <td>0.226152</td>\n",
       "      <td>0.0</td>\n",
       "      <td>0.054281</td>\n",
       "      <td>0.0</td>\n",
       "      <td>0.0</td>\n",
       "      <td>0.0</td>\n",
       "    </tr>\n",
       "  </tbody>\n",
       "</table>\n",
       "<p>1 rows × 59 columns</p>\n",
       "</div>"
      ],
      "text/plain": [
       "   Year  Assembly      Bash         C        C#      C++  C++11       CSS  \\\n",
       "0  2020  0.055119  0.294442  0.193714  0.279875  0.21264    0.0  0.561285   \n",
       "\n",
       "   Cassandra  Clojure  ...     Shell  Smalltalk  Spark     Swift  TypeScript  \\\n",
       "0        0.0      0.0  ...  0.294442        0.0    0.0  0.052699    0.226152   \n",
       "\n",
       "   VB.NET       VBA  Visual Basic  Visual Basic 6  WebAssembly  \n",
       "0     0.0  0.054281           0.0             0.0          0.0  \n",
       "\n",
       "[1 rows x 59 columns]"
      ]
     },
     "execution_count": 8,
     "metadata": {},
     "output_type": "execute_result"
    }
   ],
   "source": [
    "df_language_per_year[df_language_per_year[\"Year\"] == 2020]"
   ]
  },
  {
   "cell_type": "code",
   "execution_count": 19,
   "metadata": {},
   "outputs": [
    {
     "data": {
      "text/plain": [
       "<reversed at 0x1c0c5b8be88>"
      ]
     },
     "execution_count": 19,
     "metadata": {},
     "output_type": "execute_result"
    }
   ],
   "source": [
    "df_lang_year = pd.melt(df_language_per_year,\n",
    "        id_vars=[\"Year\"],\n",
    "        value_vars=df_language_per_year.columns[1:],\n",
    "        var_name=\"Language\",\n",
    "        value_name=\"Usage\")\n",
    "df2020 = df_lang_year[df_lang_year[\"Year\"]==2020]\n",
    "df2020.sort_values(\"Usage\")"
   ]
  },
  {
   "cell_type": "code",
   "execution_count": null,
   "metadata": {},
   "outputs": [],
   "source": []
  }
 ],
 "metadata": {
  "kernelspec": {
   "display_name": "Python 3",
   "language": "python",
   "name": "python3"
  },
  "language_info": {
   "codemirror_mode": {
    "name": "ipython",
    "version": 3
   },
   "file_extension": ".py",
   "mimetype": "text/x-python",
   "name": "python",
   "nbconvert_exporter": "python",
   "pygments_lexer": "ipython3",
   "version": "3.7.4"
  }
 },
 "nbformat": 4,
 "nbformat_minor": 5
}
