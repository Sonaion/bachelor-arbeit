{
 "cells": [
  {
   "cell_type": "code",
   "execution_count": 1,
   "id": "023bbe9d-4abd-4631-ab63-8044745a6fd9",
   "metadata": {},
   "outputs": [],
   "source": [
    "import pandas as pd"
   ]
  },
  {
   "cell_type": "code",
   "execution_count": 2,
   "id": "42924557-cdcb-4037-a118-02f541aa60f1",
   "metadata": {},
   "outputs": [],
   "source": [
    "df2011 = pd.read_csv(\"./Raw/2011.csv\")\n",
    "df2011 = df2011[1:] \n",
    "used2011 = [2, 3, 4, 6] + list(range(30,42))\n",
    "#used for labeling used2011\n",
    "#for idx, col in enumerate(df2011.columns):\n",
    "#    print(str(idx) + \": \" + col)\n",
    "df2011 = df2011.iloc[:, used2011]"
   ]
  },
  {
   "cell_type": "code",
   "execution_count": 3,
   "id": "4285c60f-70b9-41e3-a215-1de00dd73d89",
   "metadata": {},
   "outputs": [],
   "source": [
    "df2012 = pd.read_csv(\"./Raw/2012.csv\")\n",
    "df2012 = df2012[1:] \n",
    "used2012 = [2, 3, 4, 6] + list(range(22,36)) \n",
    "#used for labeling used2012\n",
    "#for idx, col in enumerate(df2012.columns):\n",
    "#    print(str(idx) + \": \" + col)\n",
    "df2012 = df2012.iloc[:, used2012]"
   ]
  },
  {
   "cell_type": "code",
   "execution_count": 4,
   "id": "5cbcee97-99a4-42ae-8b85-7de34db315cc",
   "metadata": {},
   "outputs": [
    {
     "name": "stderr",
     "output_type": "stream",
     "text": [
      "C:\\Users\\jonas\\anaconda3\\lib\\site-packages\\IPython\\core\\interactiveshell.py:3165: DtypeWarning: Columns (46,48,62) have mixed types.Specify dtype option on import or set low_memory=False.\n",
      "  has_raised = await self.run_ast_nodes(code_ast.body, cell_name,\n"
     ]
    }
   ],
   "source": [
    "df2013 = pd.read_csv(\"./Raw/2013.csv\")\n",
    "df2013 = df2013[1:] \n",
    "used2013 = [2,3,4,6] + list(range(56, 69))\n",
    "#used for labeling used2013\n",
    "#for idx, col in enumerate(df2013.columns):\n",
    "#    print(str(idx) + \": \" + col)\n",
    "df2013 = df2013.iloc[:, used2013]"
   ]
  },
  {
   "cell_type": "code",
   "execution_count": 5,
   "id": "2e0ad105-5a2e-4fda-a2a5-8923b2dd9d67",
   "metadata": {},
   "outputs": [],
   "source": [
    "df2014 = pd.read_csv(\"./Raw/2014.csv\")\n",
    "df2014 = df2014[1:] \n",
    "used2014 = [3,4,5,6,8] + list(range(42, 53))\n",
    "#used for labeling used2014\n",
    "#for idx, col in enumerate(df2014.columns):\n",
    "#    print(str(idx) + \": \" + col)\n",
    "df2014 = df2014.iloc[:, used2014]"
   ]
  },
  {
   "cell_type": "code",
   "execution_count": 6,
   "id": "a0157e04-3266-4549-a2a0-88f8c751109e",
   "metadata": {},
   "outputs": [
    {
     "name": "stderr",
     "output_type": "stream",
     "text": [
      "C:\\Users\\jonas\\anaconda3\\lib\\site-packages\\IPython\\core\\interactiveshell.py:3165: DtypeWarning: Columns (5,108,121,196,197,198) have mixed types.Specify dtype option on import or set low_memory=False.\n",
      "  has_raised = await self.run_ast_nodes(code_ast.body, cell_name,\n"
     ]
    }
   ],
   "source": [
    "df2015 = pd.read_csv(\"./Raw/2015.csv\")\n",
    "new_header = df2015.iloc[0] #grab the first row for the header\n",
    "df2015 = df2015[1:] #take the data less the header row\n",
    "df2015.columns = new_header #set the header row as the df header\n",
    "\n",
    "used2015 = [0,1,2,4,5] + list(range(10, 50)) + list(range(94, 105)) + [107, 108]\n",
    "#used for labeling used2015\n",
    "#for idx, col in enumerate(df2015.columns):\n",
    "#    print(str(idx) + \": \" + col)\n",
    "df2015 = df2015.iloc[:, used2015]"
   ]
  },
  {
   "cell_type": "code",
   "execution_count": 7,
   "id": "f4dd84c0-9272-459c-9c6f-cb8052b0e391",
   "metadata": {},
   "outputs": [],
   "source": [
    "df2016 = pd.read_csv(\"./Raw/2016.csv\")\n",
    "used2016 = [2,5,6,7,9,10,11,12,16,21] \n",
    "#used for labeling used2016\n",
    "#for idx, col in enumerate(df2016.columns):\n",
    "#    print(str(idx) + \": \" + col)\n",
    "df2016 = df2016.iloc[:, used2016]"
   ]
  },
  {
   "cell_type": "code",
   "execution_count": 8,
   "id": "bb9b7cb0-fb02-4936-9121-2173ce7101fd",
   "metadata": {},
   "outputs": [],
   "source": [
    "df2017 = pd.read_csv(\"./Raw/2017.csv\")\n",
    "used2017 = [1,3,4,6,11,88,145] \n",
    "#used for labeling used2017\n",
    "#for idx, col in enumerate(df2017.columns):\n",
    "#    print(str(idx) + \": \" + col)\n",
    "df2017 = df2017.iloc[:, used2017]"
   ]
  },
  {
   "cell_type": "code",
   "execution_count": 9,
   "id": "764fa70c-5708-407d-8b4b-49e868ab31e1",
   "metadata": {},
   "outputs": [
    {
     "name": "stderr",
     "output_type": "stream",
     "text": [
      "C:\\Users\\jonas\\anaconda3\\lib\\site-packages\\IPython\\core\\interactiveshell.py:3165: DtypeWarning: Columns (8,12,13,14,15,16,50,51,52,53,55,56,57,58,59,60,61,62,63,64,65,66,67,68,69,70,71,72,73,74,75,76,77,78,79,80,81,82,83,84,85,93,94,95,96,97,98,99,100,101,102,103,104,105,106,107,108,109,110,111,112,113,114,115,116,117,118,119,120,121,122,123,124,125,126,127,128) have mixed types.Specify dtype option on import or set low_memory=False.\n",
      "  has_raised = await self.run_ast_nodes(code_ast.body, cell_name,\n"
     ]
    }
   ],
   "source": [
    "df2018 = pd.read_csv(\"./Raw/2018.csv\")\n",
    "used2018 = [3,4,6,10,65,120,124] \n",
    "#used for labeling used2018\n",
    "#for idx, col in enumerate(df2018.columns):\n",
    "#    print(str(idx) + \": \" + col)\n",
    "df2018 = df2018.iloc[:, used2018]"
   ]
  },
  {
   "cell_type": "code",
   "execution_count": 10,
   "id": "40a1c8fc-400d-4959-924e-83b8f4a7e9ee",
   "metadata": {},
   "outputs": [],
   "source": [
    "df2019 = pd.read_csv(\"./Raw/2019.csv\")\n",
    "used2019 = [6,7,13,43,77,78] \n",
    "#used for labeling used2019\n",
    "#for idx, col in enumerate(df2019.columns):\n",
    "#    print(str(idx) + \": \" + col)\n",
    "df2019 = df2019.iloc[:, used2019]"
   ]
  },
  {
   "cell_type": "code",
   "execution_count": 11,
   "id": "09ab0314-0abc-48aa-9619-e1a4ef09800f",
   "metadata": {},
   "outputs": [],
   "source": [
    "df2020 = pd.read_csv(\"./Raw/2020.csv\")\n",
    "used2020 = [1,3,8,14,17,22,59] \n",
    "#used for labeling used2020\n",
    "#for idx, col in enumerate(df2020.columns):\n",
    "#    print(str(idx) + \": \" + col)  \n",
    "df2020 = df2020.iloc[:, used2020]"
   ]
  },
  {
   "cell_type": "code",
   "execution_count": 12,
   "id": "cebeb211-e8d5-41a2-82d2-771541d86136",
   "metadata": {},
   "outputs": [],
   "source": [
    "df_years = [df2011, df2012, df2013, df2014, df2015, df2016, df2017, df2018, df2019, df2020]\n",
    "years = list(range(2011, 2021))"
   ]
  },
  {
   "cell_type": "code",
   "execution_count": 13,
   "id": "3b5a2a47-91e5-4224-b9a0-5cf91e43267d",
   "metadata": {},
   "outputs": [],
   "source": [
    "column_dict = []\n",
    "for df_year in df_years:\n",
    "    currrent_dict = {}\n",
    "    for col in df_year.columns:\n",
    "        currrent_dict[col] = col\n",
    "    column_dict.append(currrent_dict)"
   ]
  },
  {
   "cell_type": "code",
   "execution_count": 14,
   "id": "b383d80a-8749-474f-a64a-6e7752fbe294",
   "metadata": {},
   "outputs": [
    {
     "data": {
      "text/plain": [
       "{'How old are you?': 'How old are you?',\n",
       " 'How many years of IT/Programming experience do you have?': 'How many years of IT/Programming experience do you have?',\n",
       " 'How would you best describe the industry you work in?': 'How would you best describe the industry you work in?',\n",
       " 'Which of the following best describes your occupation?': 'Which of the following best describes your occupation?',\n",
       " 'Which languages are you proficient in?': 'Which languages are you proficient in?',\n",
       " 'Unnamed: 31': 'Unnamed: 31',\n",
       " 'Unnamed: 32': 'Unnamed: 32',\n",
       " 'Unnamed: 33': 'Unnamed: 33',\n",
       " 'Unnamed: 34': 'Unnamed: 34',\n",
       " 'Unnamed: 35': 'Unnamed: 35',\n",
       " 'Unnamed: 36': 'Unnamed: 36',\n",
       " 'Unnamed: 37': 'Unnamed: 37',\n",
       " 'Unnamed: 38': 'Unnamed: 38',\n",
       " 'Unnamed: 39': 'Unnamed: 39',\n",
       " 'Unnamed: 40': 'Unnamed: 40',\n",
       " 'Unnamed: 41': 'Unnamed: 41'}"
      ]
     },
     "metadata": {},
     "output_type": "display_data"
    }
   ],
   "source": [
    "display(column_dict[0])\n",
    "column_dict[0][\"How old are you?\"] = \"Age\"\n",
    "column_dict[0][\"How many years of IT/Programming experience do you have?\"] = \"ProgrammingExperience\"\n",
    "column_dict[0][\"How would you best describe the industry you work in?\"] = \"Industry\"\n",
    "column_dict[0][\"Which of the following best describes your occupation?\"] = \"Occupation\"\n",
    "column_dict[0][\"Which languages are you proficient in?\"] = \"Java\"\n",
    "column_dict[0][\"Unnamed: 31\"] = \"JavaScript\"\n",
    "column_dict[0][\"Unnamed: 32\"] = \"CSS\"\n",
    "column_dict[0][\"Unnamed: 33\"] = \"PHP\"\n",
    "column_dict[0][\"Unnamed: 34\"] = \"Python\"\n",
    "column_dict[0][\"Unnamed: 35\"] = \"Ruby\"\n",
    "column_dict[0][\"Unnamed: 36\"] = \"SQL\"\n",
    "column_dict[0][\"Unnamed: 37\"] = \"C#\"\n",
    "column_dict[0][\"Unnamed: 38\"] = \"C++\"\n",
    "column_dict[0][\"Unnamed: 39\"] = \"C\"\n",
    "column_dict[0][\"Unnamed: 40\"] = \"Perl\"\n",
    "column_dict[0][\"Unnamed: 41\"] = \"None\""
   ]
  },
  {
   "cell_type": "code",
   "execution_count": 15,
   "id": "ffeb71fb-d3a7-4c1e-ba06-8914b0747631",
   "metadata": {},
   "outputs": [
    {
     "data": {
      "text/plain": [
       "{'How old are you?': 'How old are you?',\n",
       " 'How many years of IT/Programming experience do you have?': 'How many years of IT/Programming experience do you have?',\n",
       " 'How would you best describe the industry you currently work in?': 'How would you best describe the industry you currently work in?',\n",
       " 'Which of the following best describes your occupation?': 'Which of the following best describes your occupation?',\n",
       " 'Which languages are you proficient in?': 'Which languages are you proficient in?',\n",
       " 'Unnamed: 23': 'Unnamed: 23',\n",
       " 'Unnamed: 24': 'Unnamed: 24',\n",
       " 'Unnamed: 25': 'Unnamed: 25',\n",
       " 'Unnamed: 26': 'Unnamed: 26',\n",
       " 'Unnamed: 27': 'Unnamed: 27',\n",
       " 'Unnamed: 28': 'Unnamed: 28',\n",
       " 'Unnamed: 29': 'Unnamed: 29',\n",
       " 'Unnamed: 30': 'Unnamed: 30',\n",
       " 'Unnamed: 31': 'Unnamed: 31',\n",
       " 'Unnamed: 32': 'Unnamed: 32',\n",
       " 'Unnamed: 33': 'Unnamed: 33',\n",
       " 'Unnamed: 34': 'Unnamed: 34',\n",
       " 'Unnamed: 35': 'Unnamed: 35'}"
      ]
     },
     "metadata": {},
     "output_type": "display_data"
    }
   ],
   "source": [
    "display(column_dict[1])\n",
    "column_dict[1][\"How old are you?\"] = \"Age\"\n",
    "column_dict[1][\"How many years of IT/Programming experience do you have?\"] = \"ProgrammingExperience\"\n",
    "column_dict[1][\"How would you best describe the industry you currently work in?\"] = \"Industry\"\n",
    "column_dict[1][\"Which of the following best describes your occupation?\"] = \"Occupation\"\n",
    "column_dict[1][\"Which languages are you proficient in?\"] = \"Java\"\n",
    "column_dict[1][\"Unnamed: 23\"] = \"JavaScript\"\n",
    "column_dict[1][\"Unnamed: 24\"] = \"CSS\"\n",
    "column_dict[1][\"Unnamed: 25\"] = \"PHP\"\n",
    "column_dict[1][\"Unnamed: 26\"] = \"Python\"\n",
    "column_dict[1][\"Unnamed: 27\"] = \"Objective-C\"\n",
    "column_dict[1][\"Unnamed: 28\"] = \"Ruby\"\n",
    "column_dict[1][\"Unnamed: 29\"] = \"SQL\"\n",
    "column_dict[1][\"Unnamed: 30\"] = \"C#\"\n",
    "column_dict[1][\"Unnamed: 31\"] = \"C++\"\n",
    "column_dict[1][\"Unnamed: 32\"] = \"C\"\n",
    "column_dict[1][\"Unnamed: 33\"] = \"Perl\"\n",
    "column_dict[1][\"Unnamed: 34\"] = \"HTML5\"\n",
    "column_dict[1][\"Unnamed: 35\"] = \"None\""
   ]
  },
  {
   "cell_type": "code",
   "execution_count": 16,
   "id": "99976eff-279f-4be5-9556-6f24569449d7",
   "metadata": {},
   "outputs": [
    {
     "data": {
      "text/plain": [
       "{'How old are you?': 'How old are you?',\n",
       " 'How many years of IT/Programming experience do you have?': 'How many years of IT/Programming experience do you have?',\n",
       " 'How would you best describe the industry you currently work in?': 'How would you best describe the industry you currently work in?',\n",
       " 'Which of the following best describes your occupation?': 'Which of the following best describes your occupation?',\n",
       " 'Which of the following languages or technologies have you used significantly in the past year?': 'Which of the following languages or technologies have you used significantly in the past year?',\n",
       " 'Unnamed: 57': 'Unnamed: 57',\n",
       " 'Unnamed: 58': 'Unnamed: 58',\n",
       " 'Unnamed: 59': 'Unnamed: 59',\n",
       " 'Unnamed: 60': 'Unnamed: 60',\n",
       " 'Unnamed: 61': 'Unnamed: 61',\n",
       " 'Unnamed: 62': 'Unnamed: 62',\n",
       " 'Unnamed: 63': 'Unnamed: 63',\n",
       " 'Unnamed: 64': 'Unnamed: 64',\n",
       " 'Unnamed: 65': 'Unnamed: 65',\n",
       " 'Unnamed: 66': 'Unnamed: 66',\n",
       " 'Unnamed: 67': 'Unnamed: 67',\n",
       " 'Unnamed: 68': 'Unnamed: 68'}"
      ]
     },
     "metadata": {},
     "output_type": "display_data"
    }
   ],
   "source": [
    "display(column_dict[2])\n",
    "column_dict[2][\"How old are you?\"] = \"Age\"\n",
    "column_dict[2][\"How many years of IT/Programming experience do you have?\"] = \"ProgrammingExperience\"\n",
    "column_dict[2][\"How would you best describe the industry you currently work in?\"] = \"Industry\"\n",
    "column_dict[2][\"Which of the following best describes your occupation?\"] = \"Occupation\"\n",
    "column_dict[2][\"Which of the following languages or technologies have you used significantly in the past year?\"] = \"C\"\n",
    "column_dict[2][\"Unnamed: 57\"] = \"C++\"\n",
    "column_dict[2][\"Unnamed: 58\"] = \"C#\"\n",
    "column_dict[2][\"Unnamed: 59\"] = \"Java\"\n",
    "column_dict[2][\"Unnamed: 60\"] = \"JavaScript\"\n",
    "column_dict[2][\"Unnamed: 61\"] = \"jQuery\"\n",
    "column_dict[2][\"Unnamed: 62\"] = \"JQuery\"\n",
    "column_dict[2][\"Unnamed: 63\"] = \"Node.js\"\n",
    "column_dict[2][\"Unnamed: 64\"] = \"Objective-C\"\n",
    "column_dict[2][\"Unnamed: 65\"] = \"PHP\"\n",
    "column_dict[2][\"Unnamed: 66\"] = \"Python\"\n",
    "column_dict[2][\"Unnamed: 67\"] = \"Ruby\"\n",
    "column_dict[2][\"Unnamed: 68\"] = \"SQL\""
   ]
  },
  {
   "cell_type": "code",
   "execution_count": 17,
   "id": "92415e50-58d8-4280-8681-14418234ee39",
   "metadata": {},
   "outputs": [
    {
     "data": {
      "text/plain": [
       "{'How old are you?': 'How old are you?',\n",
       " 'What is your gender?': 'What is your gender?',\n",
       " 'How many years of IT/Programming experience do you have?': 'How many years of IT/Programming experience do you have?',\n",
       " 'Which of the following best describes your occupation?': 'Which of the following best describes your occupation?',\n",
       " 'How would you best describe the industry you currently work in?': 'How would you best describe the industry you currently work in?',\n",
       " 'Which of the following languages or technologies have you used significantly in the past year?': 'Which of the following languages or technologies have you used significantly in the past year?',\n",
       " 'Unnamed: 43': 'Unnamed: 43',\n",
       " 'Unnamed: 44': 'Unnamed: 44',\n",
       " 'Unnamed: 45': 'Unnamed: 45',\n",
       " 'Unnamed: 46': 'Unnamed: 46',\n",
       " 'Unnamed: 47': 'Unnamed: 47',\n",
       " 'Unnamed: 48': 'Unnamed: 48',\n",
       " 'Unnamed: 49': 'Unnamed: 49',\n",
       " 'Unnamed: 50': 'Unnamed: 50',\n",
       " 'Unnamed: 51': 'Unnamed: 51',\n",
       " 'Unnamed: 52': 'Unnamed: 52'}"
      ]
     },
     "metadata": {},
     "output_type": "display_data"
    }
   ],
   "source": [
    "display(column_dict[3])\n",
    "column_dict[3][\"How old are you?\"] = \"Age\"\n",
    "column_dict[3][\"What is your gender?\"] = \"Gender\"\n",
    "column_dict[3][\"How many years of IT/Programming experience do you have?\"] = \"ProgrammingExperience\"\n",
    "column_dict[3][\"How would you best describe the industry you currently work in?\"] = \"Industry\"\n",
    "column_dict[3][\"Which of the following best describes your occupation?\"] = \"Occupation\"\n",
    "column_dict[3][\"Which of the following languages or technologies have you used significantly in the past year?\"] = \"C\"\n",
    "column_dict[3][\"Unnamed: 43\"] = \"C++\"\n",
    "column_dict[3][\"Unnamed: 44\"] = \"C#\"\n",
    "column_dict[3][\"Unnamed: 45\"] = \"Java\"\n",
    "column_dict[3][\"Unnamed: 46\"] = \"JavaScript\"\n",
    "column_dict[3][\"Unnamed: 47\"] = \"Node.js\"\n",
    "column_dict[3][\"Unnamed: 48\"] = \"Objective-C\"\n",
    "column_dict[3][\"Unnamed: 49\"] = \"PHP\"\n",
    "column_dict[3][\"Unnamed: 50\"] = \"Python\"\n",
    "column_dict[3][\"Unnamed: 51\"] = \"Ruby\"\n",
    "column_dict[3][\"Unnamed: 52\"] = \"SQL\""
   ]
  },
  {
   "cell_type": "code",
   "execution_count": 18,
   "id": "fe88ff94-6df4-4866-b869-7c6070b2a1d5",
   "metadata": {},
   "outputs": [
    {
     "data": {
      "text/plain": [
       "{'Country': 'Country',\n",
       " 'Age': 'Age',\n",
       " 'Gender': 'Gender',\n",
       " 'Years IT / Programming Experience': 'Years IT / Programming Experience',\n",
       " 'Occupation': 'Occupation',\n",
       " 'Current Lang & Tech: AngularJS': 'Current Lang & Tech: AngularJS',\n",
       " 'Current Lang & Tech: C': 'Current Lang & Tech: C',\n",
       " 'Current Lang & Tech: C++': 'Current Lang & Tech: C++',\n",
       " 'Current Lang & Tech: C++11': 'Current Lang & Tech: C++11',\n",
       " 'Current Lang & Tech: C#': 'Current Lang & Tech: C#',\n",
       " 'Current Lang & Tech: Cassandra': 'Current Lang & Tech: Cassandra',\n",
       " 'Current Lang & Tech: CoffeeScript': 'Current Lang & Tech: CoffeeScript',\n",
       " 'Current Lang & Tech: Cordova': 'Current Lang & Tech: Cordova',\n",
       " 'Current Lang & Tech: Clojure': 'Current Lang & Tech: Clojure',\n",
       " 'Current Lang & Tech: Cloud': 'Current Lang & Tech: Cloud',\n",
       " 'Current Lang & Tech: Dart': 'Current Lang & Tech: Dart',\n",
       " 'Current Lang & Tech: F#': 'Current Lang & Tech: F#',\n",
       " 'Current Lang & Tech: Go': 'Current Lang & Tech: Go',\n",
       " 'Current Lang & Tech: Hadoop': 'Current Lang & Tech: Hadoop',\n",
       " 'Current Lang & Tech: Haskell': 'Current Lang & Tech: Haskell',\n",
       " 'Current Lang & Tech: iOS': 'Current Lang & Tech: iOS',\n",
       " 'Current Lang & Tech: Java': 'Current Lang & Tech: Java',\n",
       " 'Current Lang & Tech: JavaScript': 'Current Lang & Tech: JavaScript',\n",
       " 'Current Lang & Tech: LAMP': 'Current Lang & Tech: LAMP',\n",
       " 'Current Lang & Tech: Matlab': 'Current Lang & Tech: Matlab',\n",
       " 'Current Lang & Tech: MongoDB': 'Current Lang & Tech: MongoDB',\n",
       " 'Current Lang & Tech: Node.js': 'Current Lang & Tech: Node.js',\n",
       " 'Current Lang & Tech: Objective-C': 'Current Lang & Tech: Objective-C',\n",
       " 'Current Lang & Tech: Perl': 'Current Lang & Tech: Perl',\n",
       " 'Current Lang & Tech: PHP': 'Current Lang & Tech: PHP',\n",
       " 'Current Lang & Tech: Python': 'Current Lang & Tech: Python',\n",
       " 'Current Lang & Tech: R': 'Current Lang & Tech: R',\n",
       " 'Current Lang & Tech: Redis': 'Current Lang & Tech: Redis',\n",
       " 'Current Lang & Tech: Ruby': 'Current Lang & Tech: Ruby',\n",
       " 'Current Lang & Tech: Rust': 'Current Lang & Tech: Rust',\n",
       " 'Current Lang & Tech: Salesforce': 'Current Lang & Tech: Salesforce',\n",
       " 'Current Lang & Tech: Scala': 'Current Lang & Tech: Scala',\n",
       " 'Current Lang & Tech: Sharepoint': 'Current Lang & Tech: Sharepoint',\n",
       " 'Current Lang & Tech: Spark': 'Current Lang & Tech: Spark',\n",
       " 'Current Lang & Tech: SQL': 'Current Lang & Tech: SQL',\n",
       " 'Current Lang & Tech: SQL Server': 'Current Lang & Tech: SQL Server',\n",
       " 'Current Lang & Tech: Swift': 'Current Lang & Tech: Swift',\n",
       " 'Current Lang & Tech: Visual Basic': 'Current Lang & Tech: Visual Basic',\n",
       " 'Current Lang & Tech: Windows Phone': 'Current Lang & Tech: Windows Phone',\n",
       " 'Current Lang & Tech: Wordpress': 'Current Lang & Tech: Wordpress',\n",
       " 'Training & Education: No formal training': 'Training & Education: No formal training',\n",
       " 'Training & Education: On the job': 'Training & Education: On the job',\n",
       " 'Training & Education: Boot camp or night school': 'Training & Education: Boot camp or night school',\n",
       " 'Training & Education: Online Class': 'Training & Education: Online Class',\n",
       " 'Training & Education: Mentorship': 'Training & Education: Mentorship',\n",
       " 'Training & Education: Industry certification': 'Training & Education: Industry certification',\n",
       " 'Training & Education: Some college, but no CS degree': 'Training & Education: Some college, but no CS degree',\n",
       " 'Training & Education: BS in CS': 'Training & Education: BS in CS',\n",
       " 'Training & Education: Masters in CS': 'Training & Education: Masters in CS',\n",
       " 'Training & Education: PhD in CS': 'Training & Education: PhD in CS',\n",
       " 'Training & Education: Other': 'Training & Education: Other',\n",
       " 'Employment Status': 'Employment Status',\n",
       " 'Industry': 'Industry'}"
      ]
     },
     "metadata": {},
     "output_type": "display_data"
    }
   ],
   "source": [
    "display(column_dict[4])\n",
    "column_dict[4][\"Country\"] = \"Country\"\n",
    "column_dict[4][\"Age\"] = \"Age\"\n",
    "column_dict[4][\"Gender\"] = \"Gender\"\n",
    "column_dict[4][\"Years IT / Programming Experience\"] = \"ProgrammingExperience\"\n",
    "column_dict[4][\"Industry\"] = \"Industry\"\n",
    "column_dict[4][\"Occupation\"] = \"Occupation\"\n",
    "\n",
    "column_dict[4][\"Current Lang & Tech: AngularJS\"] = \"AngularJS\"\n",
    "column_dict[4][\"Current Lang & Tech: C\"] = \"C\"\n",
    "column_dict[4][\"Current Lang & Tech: C++\"] = \"C++\"\n",
    "column_dict[4][\"Current Lang & Tech: C++11\"] = \"C++11\"\n",
    "column_dict[4][\"Current Lang & Tech: C#\"] = \"C#\"\n",
    "column_dict[4][\"Current Lang & Tech: Cassandra\"] = \"Cassandra\"\n",
    "column_dict[4][\"Current Lang & Tech: CoffeeScript\"] = \"CoffeeScript\"\n",
    "column_dict[4][\"Current Lang & Tech: Cordova\"] = \"Cordova\"\n",
    "column_dict[4][\"Current Lang & Tech: Clojure\"] = \"Clojure\"\n",
    "column_dict[4][\"Current Lang & Tech: Cloud\"] = \"Cloud\"\n",
    "column_dict[4][\"Current Lang & Tech: Dart\"] = \"Dart\"\n",
    "column_dict[4][\"Current Lang & Tech: F#\"] = \"F#\"\n",
    "column_dict[4][\"Current Lang & Tech: Go\"] = \"Go\"\n",
    "column_dict[4][\"Current Lang & Tech: Hadoop\"] = \"Hadoop\"\n",
    "column_dict[4][\"Current Lang & Tech: Haskell\"] = \"Haskell\"\n",
    "column_dict[4][\"Current Lang & Tech: iOS\"] = \"iOS\"\n",
    "column_dict[4][\"Current Lang & Tech: Java\"] = \"Java\"\n",
    "column_dict[4][\"Current Lang & Tech: JavaScript\"] = \"JavaScript\"\n",
    "column_dict[4][\"Current Lang & Tech: LAMP\"] = \"LAMP\"\n",
    "column_dict[4][\"Current Lang & Tech: Matlab\"] = \"Matlab\"\n",
    "column_dict[4][\"Current Lang & Tech: MongoDB\"] = \"MongoDB\"\n",
    "column_dict[4][\"Current Lang & Tech: Node.js\"] = \"Node.js\"\n",
    "column_dict[4][\"Current Lang & Tech: Objective-C\"] = \"Objective-C\"\n",
    "column_dict[4][\"Current Lang & Tech: Perl\"] = \"Perl\"\n",
    "column_dict[4][\"Current Lang & Tech: PHP\"] = \"PHP\"\n",
    "column_dict[4][\"Current Lang & Tech: Python\"] = \"Python\"\n",
    "column_dict[4][\"Current Lang & Tech: R\"] = \"R\"\n",
    "column_dict[4][\"Current Lang & Tech: Redis\"] = \"Redis\"\n",
    "column_dict[4][\"Current Lang & Tech: Ruby\"] = \"Ruby\"\n",
    "column_dict[4][\"Current Lang & Tech: Rust\"] = \"Rust\"\n",
    "column_dict[4][\"Current Lang & Tech: Salesforce\"] = \"Salesforce\"\n",
    "column_dict[4][\"Current Lang & Tech: Scala\"] = \"Scala\"\n",
    "column_dict[4][\"Current Lang & Tech: Sharepoint\"] = \"Sharepoint\"\n",
    "column_dict[4][\"Current Lang & Tech: Spark\"] = \"Spark\"\n",
    "column_dict[4][\"Current Lang & Tech: SQL\"] = \"SQL\"\n",
    "column_dict[4][\"Current Lang & Tech: SQL Server\"] = \"SQL Server\"\n",
    "column_dict[4][\"Current Lang & Tech: Swift\"] = \"Swift\"\n",
    "column_dict[4][\"Current Lang & Tech: Visual Basic\"] = \"Visual Basic\"\n",
    "column_dict[4][\"Current Lang & Tech: Windows Phone\"] = \"Windows Phone\"\n",
    "column_dict[4][\"Current Lang & Tech: Wordpress\"] = \"Wordpress\""
   ]
  },
  {
   "cell_type": "code",
   "execution_count": 19,
   "id": "0394988c-c9a9-4e55-8edd-1eadc20ee371",
   "metadata": {},
   "outputs": [
    {
     "data": {
      "text/plain": [
       "{'country': 'country',\n",
       " 'age_range': 'age_range',\n",
       " 'age_midpoint': 'age_midpoint',\n",
       " 'gender': 'gender',\n",
       " 'occupation': 'occupation',\n",
       " 'occupation_group': 'occupation_group',\n",
       " 'experience_range': 'experience_range',\n",
       " 'experience_midpoint': 'experience_midpoint',\n",
       " 'tech_do': 'tech_do',\n",
       " 'industry': 'industry'}"
      ]
     },
     "metadata": {},
     "output_type": "display_data"
    }
   ],
   "source": [
    "display(column_dict[5])\n",
    "column_dict[5][\"country\"] = \"Country\"\n",
    "column_dict[5][\"age_range\"] = \"AgeRange\"\n",
    "column_dict[5][\"age_midpoint\"] = \"AgeMidpoint\"\n",
    "column_dict[5][\"gender\"] = \"Gender\"\n",
    "column_dict[5][\"experience_range\"] = \"ProgrammingExperienceRange\"\n",
    "column_dict[5][\"experience_midpoint\"] = \"ProgrammingExperienceMidpoint\"\n",
    "column_dict[5][\"industry\"] = \"Industry\"\n",
    "column_dict[5][\"occupation\"] = \"Occupation\"\n",
    "column_dict[5][\"occupation_group\"] = \"OccupationGroup\"\n",
    "column_dict[5][\"tech_do\"] = \"ProgrammingLanguages\""
   ]
  },
  {
   "cell_type": "code",
   "execution_count": 20,
   "id": "bf6ba47e-602f-4825-bf86-f6bd68bd0fc9",
   "metadata": {},
   "outputs": [
    {
     "data": {
      "text/plain": [
       "{'Professional': 'Professional',\n",
       " 'Country': 'Country',\n",
       " 'University': 'University',\n",
       " 'FormalEducation': 'FormalEducation',\n",
       " 'YearsProgram': 'YearsProgram',\n",
       " 'HaveWorkedLanguage': 'HaveWorkedLanguage',\n",
       " 'Gender': 'Gender'}"
      ]
     },
     "metadata": {},
     "output_type": "display_data"
    }
   ],
   "source": [
    "display(column_dict[6])\n",
    "column_dict[6][\"Country\"] = \"Country\"\n",
    "column_dict[6][\"University\"] = \"University\"\n",
    "column_dict[6][\"YearsProgram\"] = \"ProgrammingExperience\"\n",
    "column_dict[6][\"Professional\"] = \"Occupation\"\n",
    "column_dict[6][\"HaveWorkedLanguage\"] = \"ProgrammingLanguages\""
   ]
  },
  {
   "cell_type": "code",
   "execution_count": 21,
   "id": "1237fac5-d7f2-44b5-9f9d-e430aa17e75c",
   "metadata": {},
   "outputs": [
    {
     "data": {
      "text/plain": [
       "{'Country': 'Country',\n",
       " 'Student': 'Student',\n",
       " 'FormalEducation': 'FormalEducation',\n",
       " 'YearsCoding': 'YearsCoding',\n",
       " 'LanguageWorkedWith': 'LanguageWorkedWith',\n",
       " 'Gender': 'Gender',\n",
       " 'Age': 'Age'}"
      ]
     },
     "metadata": {},
     "output_type": "display_data"
    }
   ],
   "source": [
    "display(column_dict[7])\n",
    "column_dict[7][\"Country\"] = \"Country\"\n",
    "column_dict[7][\"Student\"] = \"University\"\n",
    "column_dict[7][\"YearsCoding\"] = \"ProgrammingExperience\"\n",
    "column_dict[7][\"LanguageWorkedWith\"] = \"ProgrammingLanguages\""
   ]
  },
  {
   "cell_type": "code",
   "execution_count": 22,
   "id": "d13d3ae2-6b56-480b-b95a-e5076f8c6852",
   "metadata": {},
   "outputs": [
    {
     "data": {
      "text/plain": [
       "{'Country': 'Country',\n",
       " 'Student': 'Student',\n",
       " 'YearsCode': 'YearsCode',\n",
       " 'LanguageWorkedWith': 'LanguageWorkedWith',\n",
       " 'Age': 'Age',\n",
       " 'Gender': 'Gender'}"
      ]
     },
     "metadata": {},
     "output_type": "display_data"
    }
   ],
   "source": [
    "display(column_dict[8])\n",
    "column_dict[8][\"Country\"] = \"Country\"\n",
    "column_dict[8][\"Student\"] = \"University\"\n",
    "column_dict[8][\"YearsCode\"] = \"ProgrammingExperience\"\n",
    "column_dict[8][\"LanguageWorkedWith\"] = \"ProgrammingLanguages\""
   ]
  },
  {
   "cell_type": "code",
   "execution_count": 23,
   "id": "ddc9f6c5-9b15-41b3-883a-034d8d770224",
   "metadata": {},
   "outputs": [
    {
     "data": {
      "text/plain": [
       "{'Respondent': 'Respondent',\n",
       " 'MainBranch': 'MainBranch',\n",
       " 'Age': 'Age',\n",
       " 'Country': 'Country',\n",
       " 'EdLevel': 'EdLevel',\n",
       " 'Gender': 'Gender',\n",
       " 'LanguageWorkedWith': 'LanguageWorkedWith',\n",
       " 'YearsCode': 'YearsCode'}"
      ]
     },
     "metadata": {},
     "output_type": "display_data"
    }
   ],
   "source": [
    "display(column_dict[9])\n",
    "column_dict[9][\"YearsCode\"] = \"ProgrammingExperience\"\n",
    "column_dict[9][\"LanguageWorkedWith\"] = \"ProgrammingLanguages\""
   ]
  },
  {
   "cell_type": "code",
   "execution_count": 24,
   "id": "5b2a57b0-5cc8-4c27-b1b1-369c0ffcc239",
   "metadata": {},
   "outputs": [],
   "source": [
    "df_years_tmp = []\n",
    "for idx, df_year in enumerate(df_years):\n",
    "    df_year[\"Year\"] = years[idx]\n",
    "    df_year = df_year.rename(columns=column_dict[idx])\n",
    "    df_years_tmp.append(df_year)\n",
    "df_years = df_years_tmp"
   ]
  },
  {
   "cell_type": "code",
   "execution_count": 25,
   "id": "2ad85fdb-9792-4bc7-b845-f74d6c25df3f",
   "metadata": {},
   "outputs": [],
   "source": [
    "df_combinded = pd.concat(df_years)\n",
    "df_combinded = df_combinded.reset_index()\n",
    "df_combinded = df_combinded.drop(['index'], axis=1)"
   ]
  },
  {
   "cell_type": "code",
   "execution_count": 26,
   "id": "f2e9b494-4b81-4c9a-8524-5969ff2ce06b",
   "metadata": {},
   "outputs": [],
   "source": [
    "for data in df_combinded[\"ProgrammingLanguages\"].unique():\n",
    "    if str(data) == \"nan\":\n",
    "        continue\n",
    "        \n",
    "    data_array = data.split(\";\")\n",
    "    data_array = [data.strip(\" \") for data in data_array]\n",
    "    for data in data_array:\n",
    "        if \"/\" in data:\n",
    "            data_array_tmp = data.split(\"/\")\n",
    "            data_array_tmp = [data.strip(\" \") for data in data_array_tmp]\n",
    "            for data_tmp in data_array_tmp:\n",
    "                if data_tmp not in df_combinded:\n",
    "                    df_combinded[data_tmp] = float(\"nan\")\n",
    "        elif data not in df_combinded:\n",
    "            df_combinded[data] = float(\"nan\")"
   ]
  },
  {
   "cell_type": "code",
   "execution_count": 27,
   "id": "2c73df78-c4c9-4ea5-baca-a44804904fb1",
   "metadata": {},
   "outputs": [],
   "source": [
    "df_combinded[\"Student\"] = False\n",
    "df_combinded[\"Student\"] = df_combinded[\"Student\"] | (df_combinded[\"Industry\"] == \"Student\")\n",
    "df_combinded[\"Student\"] = df_combinded[\"Student\"] | (df_combinded[\"Industry\"] == \"I'm a student\")\n",
    "df_combinded[\"Student\"] = df_combinded[\"Student\"] | (df_combinded[\"Occupation\"] == \"Student\")\n",
    "df_combinded[\"Student\"] = df_combinded[\"Student\"] | (df_combinded[\"Employment Status\"] == \"I'm a student\")\n",
    "df_combinded[\"Student\"] = df_combinded[\"Student\"] | (df_combinded[\"OccupationGroup\"] == \"Student\")\n",
    "df_combinded[\"Student\"] = df_combinded[\"Student\"] | (df_combinded[\"University\"] == \"Yes, full-time\")\n",
    "df_combinded[\"Student\"] = df_combinded[\"Student\"] | (df_combinded[\"University\"] == \"Yes, part-time\")\n",
    "df_combinded[\"Student\"] = df_combinded[\"Student\"] | (df_combinded[\"MainBranch\"] == \"I am a student who is learning to code\")"
   ]
  },
  {
   "cell_type": "code",
   "execution_count": 28,
   "id": "90ec8971-01ed-4589-acf0-baef5869892e",
   "metadata": {},
   "outputs": [],
   "source": [
    "df_combinded = df_combinded.drop(['Industry', 'Occupation', 'Employment Status', 'OccupationGroup', 'University', 'MainBranch'], axis=1)"
   ]
  },
  {
   "cell_type": "code",
   "execution_count": 29,
   "id": "7fdb453b-1940-4ccf-83ee-8c2cdec2ec73",
   "metadata": {},
   "outputs": [],
   "source": [
    "df_combinded[\"HighestDegree\"] = float(\"nan\")"
   ]
  },
  {
   "cell_type": "code",
   "execution_count": 30,
   "id": "486c7dfb-8083-4d02-a2de-b8ab4e9de7fd",
   "metadata": {},
   "outputs": [],
   "source": [
    "df_combinded.loc[df_combinded[\"Training & Education: BS in CS\"]==\"Bachelor of Science in Computer Science (or related field)\", \"HighestDegree\"] = \"Bachelor\"\n",
    "df_combinded.loc[df_combinded[\"FormalEducation\"]==\"Bachelor's degree\", \"HighestDegree\"] = \"Bachelor\"\n",
    "df_combinded.loc[df_combinded[\"FormalEducation\"]==\"Bachelor’s degree (BA, BS, B.Eng., etc.)\", \"HighestDegree\"] = \"Bachelor\"\n",
    "df_combinded.loc[df_combinded[\"EdLevel\"]==\"Bachelor’s degree (B.A., B.S., B.Eng., etc.)\", \"HighestDegree\"] = \"Bachelor\"\n",
    "\n",
    "df_combinded.loc[df_combinded[\"Training & Education: Masters in CS\"]==\"Masters Degree in Computer Science (or related field)\", \"HighestDegree\"] = \"Master\"\n",
    "df_combinded.loc[df_combinded[\"FormalEducation\"]==\"Master's degree\", \"HighestDegree\"] = \"Master\"\n",
    "df_combinded.loc[df_combinded[\"FormalEducation\"]==\"Master’s degree (MA, MS, M.Eng., MBA, etc.)\", \"HighestDegree\"] = \"Master\"\n",
    "df_combinded.loc[df_combinded[\"EdLevel\"]==\"Master’s degree (M.A., M.S., M.Eng., MBA, etc.)\", \"HighestDegree\"] = \"Master\"\n",
    "\n",
    "df_combinded.loc[df_combinded[\"Training & Education: PhD in CS\"]==\"PhD in Computer Science (or related field)\", \"HighestDegree\"] = \"PhD\"\n",
    "df_combinded.loc[df_combinded[\"FormalEducation\"]==\"Doctoral degree\", \"HighestDegree\"] = \"PhD\"\n",
    "df_combinded.loc[df_combinded[\"FormalEducation\"]==\"Other doctoral degree (Ph.D, Ed.D., etc.)\", \"HighestDegree\"] = \"PhD\"\n",
    "df_combinded.loc[df_combinded[\"EdLevel\"]==\"Other doctoral degree (Ph.D., Ed.D., etc.)\", \"HighestDegree\"] = \"PhD\""
   ]
  },
  {
   "cell_type": "code",
   "execution_count": 31,
   "id": "2be9a92b-96ba-441c-939b-8e5eef2d005d",
   "metadata": {},
   "outputs": [],
   "source": [
    "df_combinded = df_combinded.drop(['Training & Education: No formal training',\n",
    "                                  'Training & Education: On the job',\n",
    "                                  'Training & Education: Boot camp or night school',\n",
    "                                  'Training & Education: Online Class',\n",
    "                                  'Training & Education: Mentorship',\n",
    "                                  'Training & Education: Industry certification',\n",
    "                                  'Training & Education: Some college, but no CS degree',\n",
    "                                  'Training & Education: BS in CS',\n",
    "                                  'Training & Education: Masters in CS',\n",
    "                                  'Training & Education: PhD in CS',\n",
    "                                  'Training & Education: Other',\n",
    "                                  'FormalEducation',\n",
    "                                  'EdLevel'], axis=1)"
   ]
  },
  {
   "cell_type": "code",
   "execution_count": 32,
   "id": "624158d0-f121-4550-b43b-e1f0ab3fa75f",
   "metadata": {},
   "outputs": [],
   "source": [
    "def map_to_age_range(age):\n",
    "    if str(age) == \"nan\":\n",
    "        return age\n",
    "    \n",
    "    if age == 'Prefer not to disclose':\n",
    "        return float(\"Nan\")\n",
    "    \n",
    "    if age in ['< 20',\n",
    "               '20-24',\n",
    "               'Under 18 years old',\n",
    "               '18 - 24 years old']:\n",
    "        return '<25'\n",
    "    \n",
    "    if age in ['25-29',\n",
    "               '35-39',\n",
    "               '30-34',\n",
    "               '51-60',\n",
    "               '40-50',\n",
    "               '50-59',\n",
    "               '40-49',\n",
    "               '>60',\n",
    "               '> 60',\n",
    "               '25 - 34 years old',\n",
    "               '35 - 44 years old',\n",
    "               '45 - 54 years old',\n",
    "               '55 - 64 years old',\n",
    "               '65 years or older']:\n",
    "        return '>=25'\n",
    "    \n",
    "    num_age = float(age)\n",
    "    try:\n",
    "        if num_age < 25.0:\n",
    "            return '<25'\n",
    "        if num_age >= 25.0:\n",
    "            return '>=25'\n",
    "    except:\n",
    "        print(\"error:\" + age)\n",
    "        return float(\"nan\")\n",
    "\n",
    "def merge_columns(a, b):\n",
    "    if str(a) != \"nan\":\n",
    "        return a\n",
    "    if str(b) != \"nan\":\n",
    "        return b\n",
    "    return float(\"Nan\")\n",
    "\n"
   ]
  },
  {
   "cell_type": "code",
   "execution_count": 33,
   "id": "198f898c-3c22-4f21-b17f-1a32e6e5fca6",
   "metadata": {},
   "outputs": [],
   "source": [
    "df_combinded[\"AgeRangeNew\"] = df_combinded.apply(lambda df: merge_columns(df[\"Age\"], df[\"AgeRange\"]), axis=1)\n",
    "df_combinded[\"AgeRangeNew\"] = df_combinded[\"AgeRangeNew\"].map(map_to_age_range)\n",
    "df_combinded[\"AgeRange\"] = df_combinded[\"AgeRangeNew\"]"
   ]
  },
  {
   "cell_type": "code",
   "execution_count": 34,
   "id": "85249afe-070d-4c5b-951a-666a731c53fe",
   "metadata": {},
   "outputs": [],
   "source": [
    "df_combinded = df_combinded.drop([\"Age\", \"AgeMidpoint\", \"AgeRangeNew\"], axis=1)"
   ]
  },
  {
   "cell_type": "code",
   "execution_count": 35,
   "id": "e5ef0b95-1d6b-4370-bb2c-48659e13abfa",
   "metadata": {},
   "outputs": [],
   "source": [
    "df_combinded = df_combinded.reindex(sorted(df_combinded.columns), axis=1)"
   ]
  },
  {
   "cell_type": "code",
   "execution_count": 36,
   "id": "092f8e3c-d3b3-4122-86df-f77a9d2e983c",
   "metadata": {},
   "outputs": [],
   "source": [
    "def map_experience(exp):\n",
    "    if str(exp) == \"nan\":\n",
    "        return exp\n",
    "    \n",
    "    if str(exp) in ['41310',\n",
    "              '41435',\n",
    "              '41070',\n",
    "              '40944']:\n",
    "        return float(\"nan\")\n",
    "    \n",
    "    if exp in ['6 - 10 years','11+ years','9 to 10 years','20 or more years',\n",
    "               '14 to 15 years','6 to 7 years','10 to 11 years','13 to 14 years',\n",
    "               '12 to 13 years', '15 to 16 years', '11 to 12 years','8 to 9 years',\n",
    "               '5 to 6 years', '18 to 19 years', '7 to 8 years',\n",
    "               '17 to 18 years', '16 to 17 years', '19 to 20 years',\n",
    "               '30 or more years', '24-26 years', '18-20 years', '6-8 years',\n",
    "               '9-11 years', '15-17 years', '12-14 years',\n",
    "               '21-23 years', '27-29 years','More than 50 years']:\n",
    "        return \">5\"\n",
    "    \n",
    "    if exp in ['1 - 2 years', '2 - 5 years','Less than 1 year',\n",
    "               '<2', '2 - 5 years', '1 - 2 years', 'Less than 1 year', '2 to 3 years',\n",
    "               '1 to 2 years', '3 to 4 years', 'Less than a year', '4 to 5 years',\n",
    "               '3-5 years', '0-2 years']:\n",
    "        return \"<=5\"\n",
    "    \n",
    "    try:\n",
    "        num_exp = float(exp)\n",
    "        if num_exp <= 5.0:\n",
    "            return '<=5'\n",
    "        if num_exp > 5.0:\n",
    "            return '>5'\n",
    "    except:\n",
    "        #print(\"error:\" + exp)\n",
    "        return float(\"nan\")\n",
    "    "
   ]
  },
  {
   "cell_type": "code",
   "execution_count": 37,
   "id": "cf6bd4f1-116c-4b70-be01-9ae84baf7a97",
   "metadata": {
    "tags": []
   },
   "outputs": [],
   "source": [
    "df_combinded[\"ExpRange\"] = df_combinded.apply(lambda df: merge_columns(df[\"ProgrammingExperience\"], df[\"ProgrammingExperienceRange\"]), axis=1)\n",
    "df_combinded[\"ExpRange\"] = df_combinded[\"ExpRange\"].map(map_experience)"
   ]
  },
  {
   "cell_type": "code",
   "execution_count": 38,
   "id": "4754a646-782f-4a4a-8a29-ca738f340762",
   "metadata": {},
   "outputs": [],
   "source": [
    "df_combinded = df_combinded.drop([\"ProgrammingExperience\", \"ProgrammingExperienceRange\", \"ProgrammingExperienceMidpoint\", \"Other(s):\"], axis=1)\n",
    "df_combinded = df_combinded.drop([\"Android\",\n",
    "                                  \"AngularJS\",\n",
    "                                  \"Arduino\",\n",
    "                                  \"Cordova\",\n",
    "                                  \"JQuery\",\n",
    "                                  \"LAMP\",\n",
    "                                  \"MongoDB\",\n",
    "                                  \"Node.js\",\n",
    "                                  \"Raspberry Pi\",\n",
    "                                  \"ReactJS\",\n",
    "                                  \"SharePoint\",\n",
    "                                  \"Sharepoint\",\n",
    "                                  \"Windows Phone\",\n",
    "                                  \"WordPress\",\n",
    "                                  \"Wordpress\",\n",
    "                                  \"iOS\",\n",
    "                                  \"jQuery\",\n",
    "                                 ], axis=1)"
   ]
  },
  {
   "cell_type": "code",
   "execution_count": 39,
   "id": "e7e94e2e-8ef9-4f59-9981-6d971afeca29",
   "metadata": {
    "tags": []
   },
   "outputs": [],
   "source": [
    "meta = ['AgeRange', 'Country', 'Gender', 'Student', 'ExpRange', 'HighestDegree', 'Year', 'Respondent', 'ProgrammingLanguages']\n",
    "languages = [lang for lang in df_combinded.columns if lang not in meta]"
   ]
  },
  {
   "cell_type": "code",
   "execution_count": 40,
   "id": "163a7497-0e5f-4690-b1ca-b3c2b612ed13",
   "metadata": {},
   "outputs": [],
   "source": [
    "for language in languages:\n",
    "    df_combinded[language] = df_combinded.apply(lambda df: str(df[language]) != \"nan\", axis=1)"
   ]
  },
  {
   "cell_type": "code",
   "execution_count": 41,
   "id": "044533a8-f05e-4e77-b199-20c174a47a07",
   "metadata": {},
   "outputs": [],
   "source": [
    "for idx, row in df_combinded.iterrows():\n",
    "    others = str(row[\"ProgrammingLanguages\"])\n",
    "    others = others.split(\";\")\n",
    "    others = [data.strip(\" \") for data in others]\n",
    "    others = [data.split(\"/\") for data in others]\n",
    "    others = [item for sublist in others for item in sublist]\n",
    "    others = [item.strip(\" \") for item in others]\n",
    "    for other in others:\n",
    "        other = str(other)\n",
    "        if other in df_combinded.columns:\n",
    "            df_combinded.at[idx, other] = True"
   ]
  },
  {
   "cell_type": "code",
   "execution_count": 42,
   "id": "70611778-5996-4277-911f-08f8a8a30840",
   "metadata": {},
   "outputs": [],
   "source": [
    "del meta[-1]"
   ]
  },
  {
   "cell_type": "code",
   "execution_count": 43,
   "id": "22c43066-c3a6-4b71-b57c-fa0b56d13333",
   "metadata": {},
   "outputs": [],
   "source": [
    "meta = sorted(meta)\n",
    "languages = sorted(languages)\n",
    "columns = meta + languages\n",
    "df_combinded = df_combinded.reindex(columns, axis=1)\n",
    "df_combinded.to_excel(\"StackOverflowPreprocessed.xlsx\", index=False)"
   ]
  },
  {
   "cell_type": "code",
   "execution_count": null,
   "id": "0576d5c4-b9fc-42d8-bdd9-493702ba22ef",
   "metadata": {},
   "outputs": [],
   "source": []
  },
  {
   "cell_type": "code",
   "execution_count": null,
   "id": "66f6df50-90cd-418a-97ff-9b0badfa1a25",
   "metadata": {},
   "outputs": [],
   "source": []
  }
 ],
 "metadata": {
  "kernelspec": {
   "display_name": "Python 3",
   "language": "python",
   "name": "python3"
  },
  "language_info": {
   "codemirror_mode": {
    "name": "ipython",
    "version": 3
   },
   "file_extension": ".py",
   "mimetype": "text/x-python",
   "name": "python",
   "nbconvert_exporter": "python",
   "pygments_lexer": "ipython3",
   "version": "3.8.5"
  }
 },
 "nbformat": 4,
 "nbformat_minor": 5
}
