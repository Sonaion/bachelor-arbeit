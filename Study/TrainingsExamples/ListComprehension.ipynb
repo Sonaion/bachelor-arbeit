{
 "cells": [
  {
   "cell_type": "markdown",
   "id": "bca96337-dc44-43db-9816-85297a5d8b26",
   "metadata": {},
   "source": [
    "# Playground"
   ]
  },
  {
   "cell_type": "markdown",
   "id": "cebe5548-b0c5-443c-b728-b2942227da69",
   "metadata": {},
   "source": [
    "The last feature needed to understand some of the following source code is 'List Comprehension'. List comprehension offers a shorter syntax when you want to create a new list based on the values of an existing list. To this aim square brackets are used, which surround one expression <b>and</b> at least one iteratable selection."
   ]
  },
  {
   "cell_type": "code",
   "execution_count": 13,
   "id": "7763c521-dd0e-4415-9e37-ab42739b265c",
   "metadata": {},
   "outputs": [
    {
     "name": "stdout",
     "output_type": "stream",
     "text": [
      "[1, 2, 4]\n"
     ]
    }
   ],
   "source": [
    "basic_list = [x for x in [1,2,4]]\n",
    "print(basic_list)"
   ]
  },
  {
   "cell_type": "markdown",
   "id": "d8254388-333b-48bb-8116-8613892525f1",
   "metadata": {},
   "source": [
    "Any expression can be used to transform the element by placing it in front of the iteratable selection:"
   ]
  },
  {
   "cell_type": "code",
   "execution_count": 14,
   "id": "9b920d1a-862b-4ae8-b224-14ed5a342aec",
   "metadata": {},
   "outputs": [
    {
     "name": "stdout",
     "output_type": "stream",
     "text": [
      "[0, 1, 3]\n"
     ]
    }
   ],
   "source": [
    "predecessor_list = [x-1 for x in [1,2,4]]\n",
    "print(predecessor_list)"
   ]
  },
  {
   "cell_type": "markdown",
   "id": "f1276425-1c0d-4316-8a27-bc392c67da8b",
   "metadata": {},
   "source": [
    "When using multiple iteratable selections these will be applied one after another, similar to nestled loops:"
   ]
  },
  {
   "cell_type": "code",
   "execution_count": 15,
   "id": "05e22391-988d-40cb-8108-566d630621d7",
   "metadata": {},
   "outputs": [
    {
     "name": "stdout",
     "output_type": "stream",
     "text": [
      "[(1, 3), (1, 4), (2, 3), (2, 4)]\n"
     ]
    }
   ],
   "source": [
    "cartesian_product = [(x,y) for x in [1,2] for y in (3,4)]\n",
    "print(cartesian_product)"
   ]
  },
  {
   "cell_type": "markdown",
   "id": "6e0b951d-6b24-471e-9281-c25bba5499fc",
   "metadata": {},
   "source": [
    "For filtering the results of the iteratable selection you can use any number of if-expressions:"
   ]
  },
  {
   "cell_type": "code",
   "execution_count": null,
   "id": "d9198621-db0a-4877-8111-f5315fbe9531",
   "metadata": {},
   "outputs": [],
   "source": [
    "divisible_by_four_list = [x for x in range(1,10) if x%4==0]\n",
    "divisible_by_four_and_bigger_list = [x for x in range(1,20) if x%4==0 if x>10]\n",
    "print(divisible_by_four_list)\n",
    "print(divisible_by_four_and_bigger_list)"
   ]
  },
  {
   "cell_type": "markdown",
   "id": "5d165dbe-515f-4ea1-995e-9c585fdbc50f",
   "metadata": {},
   "source": [
    "With the newly added assignment expression ':=' you accumulate elements of the list and change variables outside the list at the same time:"
   ]
  },
  {
   "cell_type": "code",
   "execution_count": 17,
   "id": "9a3ae13e-9c4d-4e6d-9a22-3fae5160fc65",
   "metadata": {},
   "outputs": [
    {
     "name": "stdout",
     "output_type": "stream",
     "text": [
      "-22\n",
      "[-2, -7, -14, -22]\n"
     ]
    }
   ],
   "source": [
    "start = 0\n",
    "subtracted_list = [start := start - x for x in [2,5,7,8]]\n",
    "print(start)\n",
    "print(subtracted_list)"
   ]
  },
  {
   "cell_type": "markdown",
   "id": "4d9fa0d8-09c7-444d-9061-25d3ff425c26",
   "metadata": {},
   "source": [
    "# Explanations"
   ]
  },
  {
   "cell_type": "markdown",
   "id": "4452ab4b-85f1-427e-86b7-ffbd2d563426",
   "metadata": {},
   "source": [
    "The following tasks are training examples. Feel free to skip them if you feel comfortable with the topic explained here. "
   ]
  },
  {
   "cell_type": "markdown",
   "id": "6e66523e-1b09-43b0-adc3-0d0003817ce0",
   "metadata": {},
   "source": [
    "1. Generate a list of 1 to 10 using List Comprehension and output it."
   ]
  },
  {
   "cell_type": "code",
   "execution_count": null,
   "id": "7edac8ec-e8ad-47b0-b1e9-b2356b231ab1",
   "metadata": {},
   "outputs": [],
   "source": []
  },
  {
   "cell_type": "markdown",
   "id": "7ea08552-a301-49a8-8ce7-acbd1dd3cfc2",
   "metadata": {},
   "source": [
    "2. Generate a list of the square numbers from 4 to 8 using List Comprehension and output it."
   ]
  },
  {
   "cell_type": "code",
   "execution_count": null,
   "id": "a0a79ee5-d07c-4d6e-92d4-6e7063b266fc",
   "metadata": {},
   "outputs": [],
   "source": []
  },
  {
   "cell_type": "markdown",
   "id": "6a6998a6-9a06-4f44-9645-58e8c5a84de7",
   "metadata": {},
   "source": [
    "3. Generate a list from -10 to 10 containing only even numbers using List Comprehension and output it."
   ]
  },
  {
   "cell_type": "code",
   "execution_count": null,
   "id": "d1441861-b3ee-469f-a015-16dddd45daca",
   "metadata": {},
   "outputs": [],
   "source": []
  },
  {
   "cell_type": "markdown",
   "id": "5f063bd1-9a67-4e36-b24b-1a88eb4b7b0d",
   "metadata": {},
   "source": [
    "4. Generate a list which contains the products from 1 to 5 by means of accumulation. Use List Comprehension and output the list."
   ]
  },
  {
   "cell_type": "code",
   "execution_count": null,
   "id": "752478a8-12ba-47b2-a3bd-112f8855e2fe",
   "metadata": {},
   "outputs": [],
   "source": []
  }
 ],
 "metadata": {
  "kernelspec": {
   "display_name": "Python 3",
   "language": "python",
   "name": "python3"
  },
  "language_info": {
   "codemirror_mode": {
    "name": "ipython",
    "version": 3
   },
   "file_extension": ".py",
   "mimetype": "text/x-python",
   "name": "python",
   "nbconvert_exporter": "python",
   "pygments_lexer": "ipython3",
   "version": "3.8.5"
  }
 },
 "nbformat": 4,
 "nbformat_minor": 5
}
