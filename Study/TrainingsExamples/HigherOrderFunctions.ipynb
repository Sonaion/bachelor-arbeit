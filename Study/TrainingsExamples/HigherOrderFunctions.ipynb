{
 "cells": [
  {
   "cell_type": "markdown",
   "id": "024ae2c5-24da-41af-b270-7d3aab8af9c6",
   "metadata": {},
   "source": [
    "# Explanation"
   ]
  },
  {
   "cell_type": "markdown",
   "id": "44691756-cae2-446c-8052-e4a6356e0e09",
   "metadata": {},
   "source": [
    "In Python you can give a function f to a function g as a parameter. This function g is called a <b>Higher Order Function</b>.\n",
    "There are some specififc Higher Order Functions we will need for this study. <br> <br>\n",
    "\n",
    "One of these would be the <b>map</b> function, which takes a function as first parameter and an iteratable data structure as second parameter. <br> 'map' then returns another iteratable data structre where every original value will be transformed using the given function:"
   ]
  },
  {
   "cell_type": "code",
   "execution_count": 9,
   "id": "43e481c8-f642-4a3d-b72a-baeab9f49ce6",
   "metadata": {},
   "outputs": [
    {
     "name": "stdout",
     "output_type": "stream",
     "text": [
      "[4, 6, 8]\n"
     ]
    }
   ],
   "source": [
    "def predecessor(value):\n",
    "    return value-1\n",
    "\n",
    "print(list(map(predecessor, [5,7,9])))"
   ]
  },
  {
   "cell_type": "markdown",
   "id": "c69f7408-575e-4ba0-8a7d-23ea14c0f929",
   "metadata": {},
   "source": [
    "Further, there is the <b>filter</b> function, which similarly uses a function as first parameter and iteratable data structure as second. <br> However, the output will be an iteratable data structure, which only contains the original values where the given function returns 'true'."
   ]
  },
  {
   "cell_type": "code",
   "execution_count": 10,
   "id": "12718618-ae96-465d-a8f9-723352d88875",
   "metadata": {},
   "outputs": [
    {
     "name": "stdout",
     "output_type": "stream",
     "text": [
      "[4, 8]\n"
     ]
    }
   ],
   "source": [
    "def is_divisible_by_four(number):\n",
    "    return number%4==0\n",
    "\n",
    "print(list(filter(is_divisible_by_four, [4,5,7,8])))"
   ]
  },
  {
   "cell_type": "markdown",
   "id": "6b3db22f-d8cd-43c1-ac2e-4d382fdc01b0",
   "metadata": {},
   "source": [
    "Yet again, the <b>reduce</b> function accepts a function as first parameter and an iteratable data structure as second. <br> \n",
    "But this time the given function receives two parameters. These parameters are passed on to the function by going from left to right. <br>In the first step the first and second value of the iteratable data structure are processed. <br>This result will then be used as first parameter in the second and following steps along with the next available value of the iteratable data structure as second parameter:"
   ]
  },
  {
   "cell_type": "code",
   "execution_count": 11,
   "id": "90f8c17b-6000-4c31-a572-93287b3d9e69",
   "metadata": {},
   "outputs": [
    {
     "name": "stdout",
     "output_type": "stream",
     "text": [
      "-18\n"
     ]
    }
   ],
   "source": [
    "from functools import reduce\n",
    "\n",
    "def subtract_up(number1, number2):\n",
    "    return number1-number2\n",
    "\n",
    "print(reduce(subtract_up, [2,5,7,8]))"
   ]
  },
  {
   "cell_type": "markdown",
   "id": "a622be6b-4952-4d23-a213-489056b399e7",
   "metadata": {},
   "source": [
    "But defining new functions every time is tedious. Therefore, there are <b>lambdas</b>, also called anonymous functions. <br>\n",
    "These can be declared inline and thereby passed directly to the function. A lambda function can take any number of parameters, but only one expression. <br>\n",
    "You can declare a lambda function using the keyword 'lambda' followed by paramaters seperated by a {comma} and ended by a {:}. This is followed by any experession, which will be automatically interpreted and returned:"
   ]
  },
  {
   "cell_type": "code",
   "execution_count": 12,
   "id": "909299fb-b5bd-4630-b5ec-9779d9040570",
   "metadata": {},
   "outputs": [
    {
     "name": "stdout",
     "output_type": "stream",
     "text": [
      "8\n",
      "[4, 6, 8]\n",
      "[4, 8]\n",
      "-18\n"
     ]
    }
   ],
   "source": [
    "add_lambda = lambda x,y: x+y\n",
    "print(add_lambda(2,6))\n",
    "print(list(map(lambda x: x-1, [5,7,9])))\n",
    "print(list(filter(lambda x: x%4==0, [4,5,7,8])))\n",
    "print(reduce(lambda x, y: x-y, [2,5,7,8]))"
   ]
  },
  {
   "cell_type": "markdown",
   "id": "030c8b6e-6333-4504-a6a5-b417f8199a37",
   "metadata": {},
   "source": [
    "# Playground"
   ]
  },
  {
   "cell_type": "markdown",
   "id": "8ede93c0-e280-442c-bd7e-21f9f7a4e1b4",
   "metadata": {},
   "source": [
    "The following tasks are training examples. Feel free to skip them if you feel comfortable with the topic explained here. "
   ]
  },
  {
   "cell_type": "markdown",
   "id": "2c5a1301-faca-4a43-89a2-d5cfbfad410a",
   "metadata": {
    "pycharm": {
     "name": "#%% md\n"
    }
   },
   "source": [
    "1. Create a function call which powers all passed numbers by itself and writes only even numbers at the end into the result."
   ]
  },
  {
   "cell_type": "code",
   "execution_count": null,
   "outputs": [],
   "source": [],
   "metadata": {
    "collapsed": false,
    "pycharm": {
     "name": "#%%\n"
    }
   }
  },
  {
   "cell_type": "markdown",
   "source": [
    "2. Create a call to functions which filters out all 2 powers and sums them up."
   ],
   "metadata": {
    "collapsed": false,
    "pycharm": {
     "name": "#%% md\n"
    }
   }
  },
  {
   "cell_type": "code",
   "execution_count": null,
   "outputs": [],
   "source": [],
   "metadata": {
    "collapsed": false,
    "pycharm": {
     "name": "#%%\n"
    }
   }
  }
 ],
 "metadata": {
  "kernelspec": {
   "display_name": "Python 3",
   "language": "python",
   "name": "python3"
  },
  "language_info": {
   "codemirror_mode": {
    "name": "ipython",
    "version": 3
   },
   "file_extension": ".py",
   "mimetype": "text/x-python",
   "name": "python",
   "nbconvert_exporter": "python",
   "pygments_lexer": "ipython3",
   "version": "3.8.5"
  }
 },
 "nbformat": 4,
 "nbformat_minor": 5
}