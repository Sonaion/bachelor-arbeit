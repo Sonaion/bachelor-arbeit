{
 "cells": [
  {
   "cell_type": "markdown",
   "id": "5de9ee37-bbb7-46d7-a709-d419a08aa53a",
   "metadata": {},
   "source": [
    "# Explanation"
   ]
  },
  {
   "cell_type": "markdown",
   "id": "0428c53c-f7bd-4375-ab7e-480eb7ab5712",
   "metadata": {},
   "source": [
    "There are many different ways for indexing in Python. <br> For starters, there is the <b>classic</b> indexing starting at 0:"
   ]
  },
  {
   "cell_type": "code",
   "execution_count": 4,
   "id": "847252a6-aaeb-47dd-ad6c-a951d0683599",
   "metadata": {},
   "outputs": [
    {
     "name": "stdout",
     "output_type": "stream",
     "text": [
      "4\n"
     ]
    }
   ],
   "source": [
    "some_list = [1,2,4,8,16]\n",
    "print(some_list[2])"
   ]
  },
  {
   "cell_type": "markdown",
   "id": "102096db-10bb-4208-bf89-e1633c9783d8",
   "metadata": {},
   "source": [
    "But there is more, such as <b>negative</b> indexing, which starts at '-1' for the last value and continues back to front with decreasing numbers:"
   ]
  },
  {
   "cell_type": "code",
   "execution_count": 5,
   "id": "31ae06ad-3c46-4507-b8f6-ac4f2a0fc9fe",
   "metadata": {},
   "outputs": [
    {
     "name": "stdout",
     "output_type": "stream",
     "text": [
      "16\n"
     ]
    }
   ],
   "source": [
    "some_list = [1,2,4,8,16]\n",
    "print(some_list[-1])"
   ]
  },
  {
   "cell_type": "markdown",
   "id": "26f59724-46e8-4d5c-a9f4-2df5fc09ebe4",
   "metadata": {},
   "source": [
    "Additionally, there is <b>ranged based</b> indexing, where you can give a starting and an ending parameter, the latter being exlusive:"
   ]
  },
  {
   "cell_type": "code",
   "execution_count": 6,
   "id": "89c008fe-d2a0-43f6-9bc9-b294b8c649d8",
   "metadata": {},
   "outputs": [
    {
     "name": "stdout",
     "output_type": "stream",
     "text": [
      "[2, 4]\n"
     ]
    }
   ],
   "source": [
    "some_list = [1,2,4,8,16]\n",
    "print(some_list[1:3])"
   ]
  },
  {
   "cell_type": "markdown",
   "id": "286e5eb6-7514-45b0-bff5-70c039f5afba",
   "metadata": {},
   "source": [
    "<b>Optionally</b>, to reduce your typing effort: <br>\n",
    "If the first value equals '0', feel free to leave it out. <br>\n",
    "This is equally applicable to the last value if it is equal to the length of the list:"
   ]
  },
  {
   "cell_type": "code",
   "execution_count": 7,
   "id": "60c814f8-1444-4acd-904c-86867fca8698",
   "metadata": {},
   "outputs": [
    {
     "name": "stdout",
     "output_type": "stream",
     "text": [
      "[1, 2, 4]\n",
      "[2, 4, 8, 16]\n"
     ]
    }
   ],
   "source": [
    "some_list = [1,2,4,8,16]\n",
    "print(some_list[:3])\n",
    "print(some_list[1:])"
   ]
  },
  {
   "cell_type": "markdown",
   "id": "c722c543-a352-4e6b-83a2-3d3cce09e60d",
   "metadata": {},
   "source": [
    "A final relevant operation on lists is the <b>concatenation</b>, which appends one list to another via the '+' operator:"
   ]
  },
  {
   "cell_type": "code",
   "execution_count": 8,
   "id": "f1d25654-3b14-4f8f-b3cb-2fd1bf4db839",
   "metadata": {},
   "outputs": [
    {
     "name": "stdout",
     "output_type": "stream",
     "text": [
      "[1, 2, 4, 8, 16, 32, 64, 128, 256]\n"
     ]
    }
   ],
   "source": [
    "some_list_1 = [1,2,4,8,16]\n",
    "some_list_2 = [32,64,128,256]\n",
    "print(some_list_1 + some_list_2)"
   ]
  },
  {
   "cell_type": "markdown",
   "id": "fe0b4823-f86d-4f2a-a403-1f2a11bb518a",
   "metadata": {},
   "source": [
    "# Playground"
   ]
  },
  {
   "cell_type": "markdown",
   "id": "c9605e45-611b-4646-95a5-f8d5a5870aac",
   "metadata": {},
   "source": [
    "The following tasks are training examples. Feel free to skip them if you feel comfortable with the topic explained here. "
   ]
  },
  {
   "cell_type": "markdown",
   "id": "db775814-20bf-47c6-8297-57f22180f5e1",
   "metadata": {},
   "source": [
    "1. Output the element 7 using indexes from the list [4,3,7,6,0,9,2,1]."
   ]
  },
  {
   "cell_type": "code",
   "execution_count": null,
   "id": "769be683-b1ee-4327-b509-09e4a67767f1",
   "metadata": {},
   "outputs": [],
   "source": []
  },
  {
   "cell_type": "markdown",
   "id": "bdee16ac-521d-4156-a6a4-21c8d9ce50a8",
   "metadata": {},
   "source": [
    "2. Output the penultimate element using negative indexes from the list [4,3,7,6,0,9,2,1]."
   ]
  },
  {
   "cell_type": "code",
   "execution_count": null,
   "id": "fe216bf1-69f2-4d7c-8bd6-a5c02d331766",
   "metadata": {},
   "outputs": [],
   "source": []
  },
  {
   "cell_type": "markdown",
   "id": "c0f75c58-1159-4157-8283-d3977b7a5c2d",
   "metadata": {},
   "source": [
    "3. Output the list from element 7 to element 9 with range based indexes from the list [4,3,7,6,0,9,2,1]."
   ]
  },
  {
   "cell_type": "code",
   "execution_count": null,
   "id": "efe53397-a039-4e0b-9004-2e4bf6eae1fe",
   "metadata": {},
   "outputs": [],
   "source": []
  },
  {
   "cell_type": "markdown",
   "id": "d6fa28e5-50a4-4bcb-b131-bb27e8a28d24",
   "metadata": {},
   "source": [
    "4. Create a list from element 4 to element 7 and a list from element 9 to element 1 from the list [4,3,7,6,0,9,2,1]. Now join these lists together and output them."
   ]
  },
  {
   "cell_type": "code",
   "execution_count": null,
   "id": "414786da-c40f-4225-bd52-929437685d77",
   "metadata": {},
   "outputs": [],
   "source": []
  }
 ],
 "metadata": {
  "kernelspec": {
   "display_name": "Python 3",
   "language": "python",
   "name": "python3"
  },
  "language_info": {
   "codemirror_mode": {
    "name": "ipython",
    "version": 3
   },
   "file_extension": ".py",
   "mimetype": "text/x-python",
   "name": "python",
   "nbconvert_exporter": "python",
   "pygments_lexer": "ipython3",
   "version": "3.8.5"
  }
 },
 "nbformat": 4,
 "nbformat_minor": 5
}
