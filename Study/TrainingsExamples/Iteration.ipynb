{
 "cells": [
  {
   "cell_type": "markdown",
   "id": "83809016-6f27-4cd1-90e2-d61b147b9395",
   "metadata": {},
   "source": [
    "# Explanation"
   ]
  },
  {
   "cell_type": "markdown",
   "id": "012b8c3e-8631-4b34-9d5e-0bff4d10485c",
   "metadata": {},
   "source": [
    "A for-loop is used for iterating over an iteratable sequence,\n",
    "<br> such as <b>ranges</b>,\n",
    "which in turn produce an iteratable data structure\n",
    "starting from the first paramter up to the exclusive second parameter:"
   ]
  },
  {
   "cell_type": "code",
   "execution_count": 1,
   "id": "8fd704cd-351f-4ba4-a876-f6a6f3a660d8",
   "metadata": {},
   "outputs": [
    {
     "name": "stdout",
     "output_type": "stream",
     "text": [
      "1 2 3 4 5 6 7 8 9 "
     ]
    }
   ],
   "source": [
    "for value in range(1, 10):\n",
    "    print(value, end=\" \")"
   ]
  },
  {
   "cell_type": "markdown",
   "id": "1d334db5-605a-4378-afb1-cd403e3b9552",
   "metadata": {},
   "source": [
    "... or <b>lists</b>, which contain arbitrary values seperated by a {comma}:"
   ]
  },
  {
   "cell_type": "code",
   "execution_count": 2,
   "id": "7c63e70e-5e7a-4868-8513-7c039ac1e911",
   "metadata": {},
   "outputs": [
    {
     "name": "stdout",
     "output_type": "stream",
     "text": [
      "1 2 3 4 5 6 7 8 9 "
     ]
    }
   ],
   "source": [
    "for value in [1,2,3,4,5,6,7,8,9]:\n",
    "    print(value, end=\" \")"
   ]
  },
  {
   "cell_type": "markdown",
   "id": "eb7665fd-a065-4dd1-805b-f609a53c85a3",
   "metadata": {},
   "source": [
    "... or in general any iteratable data typ. <br> There also is the <b>enumerate</b> function,\n",
    "which generates a new iterator based on an iteratable data structure. Therefore,\n",
    "each value of the original iterator will be transformed into a (index, value) tuple:"
   ]
  },
  {
   "cell_type": "code",
   "execution_count": 3,
   "id": "89ab8c34-8fc4-409b-9757-aba8c0edd441",
   "metadata": {},
   "outputs": [
    {
     "name": "stdout",
     "output_type": "stream",
     "text": [
      "index: 0 - value: 10\n",
      "index: 1 - value: 11\n",
      "index: 2 - value: 12\n"
     ]
    }
   ],
   "source": [
    "for (index, value) in enumerate(range(10,13)):\n",
    "    print(\"index: \" + str(index) + \" - value: \" + str(value))"
   ]
  },
  {
   "cell_type": "markdown",
   "id": "c89aec3e-2361-4be6-9b2c-f5affb6d4275",
   "metadata": {},
   "source": [
    "# Playground:"
   ]
  },
  {
   "cell_type": "code",
   "execution_count": null,
   "id": "dd70ceba-216d-4238-8bec-0d0bf1fbad49",
   "metadata": {},
   "outputs": [],
   "source": []
  }
 ],
 "metadata": {
  "kernelspec": {
   "display_name": "Python 3",
   "language": "python",
   "name": "python3"
  },
  "language_info": {
   "codemirror_mode": {
    "name": "ipython",
    "version": 3
   },
   "file_extension": ".py",
   "mimetype": "text/x-python",
   "name": "python",
   "nbconvert_exporter": "python",
   "pygments_lexer": "ipython3",
   "version": "3.8.8"
  }
 },
 "nbformat": 4,
 "nbformat_minor": 5
}
