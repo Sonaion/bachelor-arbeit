{
 "cells": [
  {
   "cell_type": "markdown",
   "id": "a6c88b8e-adb4-4248-8e20-3738ada74ef2",
   "metadata": {},
   "source": [
    "\n"
   ]
  },
  {
   "cell_type": "markdown",
   "id": "0a092ec8-3b71-4e28-9385-8df2e496cfbe",
   "metadata": {
    "tags": []
   },
   "source": [
    "\n"
   ]
  },
  {
   "cell_type": "markdown",
   "id": "f40cbea6-c8fd-4961-a9ca-411d67d88dbf",
   "metadata": {},
   "source": [
    "\n"
   ]
  },
  {
   "cell_type": "markdown",
   "id": "7145c732-5ec2-4a49-96d9-0d2cf73f2b4a",
   "metadata": {},
   "source": [
    "A for-loop is used for iterating over an iteratable sequence,\n",
    "<br> such as <b>ranges</b>,\n",
    "which in turn produce an iteratable data structure\n",
    "starting from the first paramter up to the exclusive second parameter:"
   ]
  },
  {
   "cell_type": "code",
   "execution_count": 1,
   "id": "b06c5cfb-bb50-48bd-99d1-5ad670874502",
   "metadata": {},
   "outputs": [
    {
     "name": "stdout",
     "output_type": "stream",
     "text": [
      "1 2 3 4 5 6 7 8 9 "
     ]
    }
   ],
   "source": [
    "for value in range(1, 10):\n",
    "    print(value, end=\" \")"
   ]
  },
  {
   "cell_type": "markdown",
   "id": "a9bee1e8-e335-4689-a932-bd0c033d2bd4",
   "metadata": {},
   "source": [
    "... or <b>lists</b>, which contain arbitrary values seperated by a {comma}:"
   ]
  },
  {
   "cell_type": "code",
   "execution_count": 2,
   "id": "84292687-61d0-449e-abfe-de2132c1e887",
   "metadata": {},
   "outputs": [
    {
     "name": "stdout",
     "output_type": "stream",
     "text": [
      "1 2 3 4 5 6 7 8 9 "
     ]
    }
   ],
   "source": [
    "for value in [1,2,3,4,5,6,7,8,9]:\n",
    "    print(value, end=\" \")"
   ]
  },
  {
   "cell_type": "markdown",
   "id": "a521a798-7c38-4f7b-a268-c85544787e18",
   "metadata": {},
   "source": [
    "... or in general any iteratable data typ. <br> There also is the <b>enumerate</b> function,\n",
    "which generates a new iterator based on an iteratable data structure. Therefore,\n",
    "each value of the original iterator will be transformed into a (index, value) tuple:"
   ]
  },
  {
   "cell_type": "code",
   "execution_count": 3,
   "id": "37dacee2-e3dd-4e3f-bd76-74bfe0b8d074",
   "metadata": {},
   "outputs": [
    {
     "name": "stdout",
     "output_type": "stream",
     "text": [
      "index: 0 - value: 10\n",
      "index: 1 - value: 11\n",
      "index: 2 - value: 12\n"
     ]
    }
   ],
   "source": [
    "for (index, value) in enumerate(range(10,13)):\n",
    "    print(\"index: \" + str(index) + \" - value: \" + str(value))"
   ]
  },
  {
   "cell_type": "markdown",
   "id": "4897bea3-2f47-408e-a011-f910cafe42ff",
   "metadata": {},
   "source": [
    "\n"
   ]
  },
  {
   "cell_type": "markdown",
   "id": "26c85e10-a1bc-4dbe-89fd-abd53ed6f98b",
   "metadata": {},
   "source": [
    "\n"
   ]
  },
  {
   "cell_type": "markdown",
   "id": "54951f45-3f6b-4203-9115-acc159144484",
   "metadata": {},
   "source": [
    "\n"
   ]
  },
  {
   "cell_type": "markdown",
   "id": "40108542-93e6-4f4b-8e6c-f8c4c979dd80",
   "metadata": {},
   "source": [
    "\n"
   ]
  },
  {
   "cell_type": "markdown",
   "id": "21d9bf14-20c7-4cd4-b6f9-e1e7f20811f2",
   "metadata": {},
   "source": [
    "\n"
   ]
  },
  {
   "cell_type": "markdown",
   "id": "2a9a1f5c-9245-4512-9dbd-f2489f53b84c",
   "metadata": {},
   "source": [
    "\n"
   ]
  },
  {
   "cell_type": "markdown",
   "id": "8b50b9e6-a90e-4180-8df1-6a20f1dbddcf",
   "metadata": {},
   "source": [
    "\n",
    "\n"
   ]
  },
  {
   "cell_type": "markdown",
   "id": "a4e6bb3e-82b9-4dc3-ab7e-35dc3ea368b9",
   "metadata": {},
   "source": [
    "There are many different ways for indexing in Python. <br> For starters, there is the <b>classic</b> indexing starting at 0:"
   ]
  },
  {
   "cell_type": "code",
   "execution_count": 4,
   "id": "266b95b5-8016-4b1f-af50-e9a6e17996e9",
   "metadata": {},
   "outputs": [
    {
     "name": "stdout",
     "output_type": "stream",
     "text": [
      "4\n"
     ]
    }
   ],
   "source": [
    "some_list = [1,2,4,8,16]\n",
    "print(some_list[2])"
   ]
  },
  {
   "cell_type": "markdown",
   "id": "e997ded9-3d01-489a-86ec-fb30f4dc58ce",
   "metadata": {},
   "source": [
    "But there is more, such as <b>negative</b> indexing, which starts at '-1' for the last value and continues back to front with decreasing numbers:"
   ]
  },
  {
   "cell_type": "code",
   "execution_count": 5,
   "id": "acef3d9c-3598-433f-a599-5dca9ef12f59",
   "metadata": {},
   "outputs": [
    {
     "name": "stdout",
     "output_type": "stream",
     "text": [
      "16\n"
     ]
    }
   ],
   "source": [
    "some_list = [1,2,4,8,16]\n",
    "print(some_list[-1])"
   ]
  },
  {
   "cell_type": "markdown",
   "id": "acb592a9-0e77-4fcf-8f84-7e374ae30340",
   "metadata": {},
   "source": [
    "Additionally, there is <b>ranged based</b> indexing, where you can give a starting and an ending parameter, the latter being exlusive:"
   ]
  },
  {
   "cell_type": "code",
   "execution_count": 6,
   "id": "e37d71e7-16bb-43c8-9805-6b5bfe552cda",
   "metadata": {},
   "outputs": [
    {
     "name": "stdout",
     "output_type": "stream",
     "text": [
      "[2, 4]\n"
     ]
    }
   ],
   "source": [
    "some_list = [1,2,4,8,16]\n",
    "print(some_list[1:3])"
   ]
  },
  {
   "cell_type": "markdown",
   "id": "72ee0a15-819c-4771-acec-22767e87f619",
   "metadata": {},
   "source": [
    "<b>Optionally</b>, to reduce your typing effort: <br>\n",
    "If the first value equals '0', feel free to leave it out. <br>\n",
    "This is equally applicable to the last value if it is equal to the length of the list:"
   ]
  },
  {
   "cell_type": "code",
   "execution_count": 7,
   "id": "016b69d8-4784-4ac5-87a9-268c1d2e005c",
   "metadata": {},
   "outputs": [
    {
     "name": "stdout",
     "output_type": "stream",
     "text": [
      "[1, 2, 4]\n",
      "[2, 4, 8, 16]\n"
     ]
    }
   ],
   "source": [
    "some_list = [1,2,4,8,16]\n",
    "print(some_list[:3])\n",
    "print(some_list[1:])"
   ]
  },
  {
   "cell_type": "markdown",
   "id": "1f8c4591-2fbc-48ec-b5b1-8fdc49e579cc",
   "metadata": {},
   "source": [
    "A final relevant operation on lists is the <b>concatenation</b>, which appends one list to another via the '+' operator:"
   ]
  },
  {
   "cell_type": "code",
   "execution_count": 8,
   "id": "3ff26e4c-5ab4-4881-bcb9-edb71af01864",
   "metadata": {},
   "outputs": [
    {
     "name": "stdout",
     "output_type": "stream",
     "text": [
      "[1, 2, 4, 8, 16, 32, 64, 128, 256]\n"
     ]
    }
   ],
   "source": [
    "some_list_1 = [1,2,4,8,16]\n",
    "some_list_2 = [32,64,128,256]\n",
    "print(some_list_1 + some_list_2)"
   ]
  },
  {
   "cell_type": "markdown",
   "id": "e29a4407-76a2-43af-965a-73c8f377396b",
   "metadata": {},
   "source": [
    "\n"
   ]
  },
  {
   "cell_type": "markdown",
   "id": "4fc61aca-427b-415c-939c-6bac75e5217c",
   "metadata": {},
   "source": [
    "\n"
   ]
  },
  {
   "cell_type": "markdown",
   "id": "bda437b7-7b20-4dd2-90c3-f955986ee3b6",
   "metadata": {},
   "source": [
    "\n"
   ]
  },
  {
   "cell_type": "markdown",
   "id": "d0fb7ae4-b326-424c-a243-a0b566f3c26d",
   "metadata": {},
   "source": [
    "\n"
   ]
  },
  {
   "cell_type": "markdown",
   "id": "03407e17-05f4-440a-9da8-c6d4babc83a7",
   "metadata": {},
   "source": [
    "\n"
   ]
  },
  {
   "cell_type": "markdown",
   "id": "7ff98751-015d-4929-8963-ad7135da6fbf",
   "metadata": {},
   "source": [
    "\n"
   ]
  },
  {
   "cell_type": "markdown",
   "id": "f75704f6-b1bf-43c1-b980-5706c45a4af9",
   "metadata": {},
   "source": [
    "\n"
   ]
  },
  {
   "cell_type": "markdown",
   "id": "32222f0a-8e22-4ed0-886a-ba9f6f6d9d52",
   "metadata": {},
   "source": [
    "In Python you can give a function f to a function g as a parameter. This function g is called a <b>Higher Order Function</b>.\n",
    "There are some specififc Higher Order Functions we will need for this study. <br> <br>\n",
    "\n",
    "One of these would be the <b>map</b> function, which takes a function as first parameter and an iteratable data structure as second parameter. <br> 'map' then returns another iteratable data structre where every original value will be transformed using the given function:"
   ]
  },
  {
   "cell_type": "code",
   "execution_count": 9,
   "id": "3c298101-b085-45e8-b710-e478e38c6147",
   "metadata": {},
   "outputs": [
    {
     "name": "stdout",
     "output_type": "stream",
     "text": [
      "[4, 6, 8]\n"
     ]
    }
   ],
   "source": [
    "def predecessor(value):\n",
    "    return value-1\n",
    "\n",
    "print(list(map(predecessor, [5,7,9])))"
   ]
  },
  {
   "cell_type": "markdown",
   "id": "c6242a99-24a9-4533-9378-95f56140bdc3",
   "metadata": {},
   "source": [
    "Further, there is the <b>filter</b> function, which similarly uses a function as first parameter and iteratable data structure as second. <br> However, the output will be an iteratable data structure, which only contains the original values where the given function returns 'true'."
   ]
  },
  {
   "cell_type": "code",
   "execution_count": 10,
   "id": "c21ef37a-c926-4568-9c0d-bdd3ff385505",
   "metadata": {},
   "outputs": [
    {
     "name": "stdout",
     "output_type": "stream",
     "text": [
      "[4, 8]\n"
     ]
    }
   ],
   "source": [
    "def is_divisible_by_four(number):\n",
    "    return number%4==0\n",
    "\n",
    "print(list(filter(is_divisible_by_four, [4,5,7,8])))"
   ]
  },
  {
   "cell_type": "markdown",
   "id": "b1c3c99a-4054-4506-a202-5b5d8999607b",
   "metadata": {},
   "source": [
    "Yet again, the <b>reduce</b> function accepts a function as first parameter and an iteratable data structure as second. <br> \n",
    "But this time the given function receives two parameters. These parameters are passed on to the function by going from left to right. <br>In the first step the first and second value of the iteratable data structure are processed. <br>This result will then be used as first parameter in the second and following steps along with the next available value of the iteratable data structure as second parameter:"
   ]
  },
  {
   "cell_type": "code",
   "execution_count": 11,
   "id": "bc36fca9-b3c1-4f3c-a8f7-d2e1f211f9c7",
   "metadata": {},
   "outputs": [
    {
     "name": "stdout",
     "output_type": "stream",
     "text": [
      "-18\n"
     ]
    }
   ],
   "source": [
    "from functools import reduce\n",
    "\n",
    "def subtract_up(number1, number2):\n",
    "    return number1-number2\n",
    "\n",
    "print(reduce(subtract_up, [2,5,7,8]))"
   ]
  },
  {
   "cell_type": "markdown",
   "id": "220676d4-dc04-4001-ba2c-2652302ee472",
   "metadata": {},
   "source": [
    "But defining new functions every time is tedious. Therefore, there are <b>lambdas</b>, also called anonymous functions. <br>\n",
    "These can be declared inline and thereby passed directly to the function. A lambda function can take any number of parameters, but only one expression. <br>\n",
    "You can declare a lambda function using the keyword 'lambda' followed by paramaters seperated by a {comma} and ended by a {:}. This is followed by any experession, which will be automatically interpreted and returned:"
   ]
  },
  {
   "cell_type": "code",
   "execution_count": 12,
   "id": "46b252f0-817c-4045-84c8-532936ff0556",
   "metadata": {},
   "outputs": [
    {
     "name": "stdout",
     "output_type": "stream",
     "text": [
      "8\n",
      "[4, 6, 8]\n",
      "[4, 8]\n",
      "-18\n"
     ]
    }
   ],
   "source": [
    "add_lambda = lambda x,y: x+y\n",
    "print(add_lambda(2,6))\n",
    "print(list(map(lambda x: x-1, [5,7,9])))\n",
    "print(list(filter(lambda x: x%4==0, [4,5,7,8])))\n",
    "print(reduce(lambda x, y: x-y, [2,5,7,8]))"
   ]
  },
  {
   "cell_type": "markdown",
   "id": "5bbe4016-5a44-474b-82cb-65985755000b",
   "metadata": {},
   "source": [
    "\n"
   ]
  },
  {
   "cell_type": "markdown",
   "id": "ff410998-f594-484a-a593-f9c210811bbf",
   "metadata": {},
   "source": [
    "\n"
   ]
  },
  {
   "cell_type": "markdown",
   "id": "4265c269-64f3-4665-a661-5ca3af7e1f79",
   "metadata": {},
   "source": [
    "\n"
   ]
  },
  {
   "cell_type": "markdown",
   "id": "6d64f01f-5952-4893-9581-eb4447b1eebd",
   "metadata": {},
   "source": [
    "\n"
   ]
  },
  {
   "cell_type": "markdown",
   "id": "bee9a004-803c-4468-9827-2ab17ca63c6c",
   "metadata": {},
   "source": [
    "\n"
   ]
  },
  {
   "cell_type": "markdown",
   "id": "6fe03c65-dbf0-4abc-8cde-5cd6c41f6f44",
   "metadata": {},
   "source": [
    "\n"
   ]
  },
  {
   "cell_type": "markdown",
   "id": "42f2b1a5-6c06-4f3e-a14d-9cb159d047c6",
   "metadata": {},
   "source": [
    "\n"
   ]
  },
  {
   "cell_type": "markdown",
   "id": "b3f7a2ae-b616-4ec5-9e85-d35f11982cf4",
   "metadata": {},
   "source": [
    "The last feature needed to understand some of the following source code is 'List Comprehension'. List comprehension offers a shorter syntax when you want to create a new list based on the values of an existing list. To this aim square brackets are used, which surround one expression <b>and</b> at least one iteratable selection."
   ]
  },
  {
   "cell_type": "code",
   "execution_count": 13,
   "id": "e1d6a8e4-56ca-4aed-aba9-b6acf7d288bf",
   "metadata": {},
   "outputs": [
    {
     "name": "stdout",
     "output_type": "stream",
     "text": [
      "[1, 2, 4]\n"
     ]
    }
   ],
   "source": [
    "basic_list = [x for x in [1,2,4]]\n",
    "print(basic_list)"
   ]
  },
  {
   "cell_type": "markdown",
   "id": "5e45aac2-7efb-4a65-92f2-e28dd3c45190",
   "metadata": {},
   "source": [
    "Any expression can be used to transform the element by placing it in front of the iteratable selection:"
   ]
  },
  {
   "cell_type": "code",
   "execution_count": 14,
   "id": "d1b10cf0-cce7-4926-b0bf-f51477c9467a",
   "metadata": {},
   "outputs": [
    {
     "name": "stdout",
     "output_type": "stream",
     "text": [
      "[0, 1, 3]\n"
     ]
    }
   ],
   "source": [
    "predecessor_list = [x-1 for x in [1,2,4]]\n",
    "print(predecessor_list)"
   ]
  },
  {
   "cell_type": "markdown",
   "id": "0103be40-d771-4cf5-89e5-11f4fd5754d2",
   "metadata": {},
   "source": [
    "When using multiple iteratable selections these will be applied one after another, similar to nestled loops:"
   ]
  },
  {
   "cell_type": "code",
   "execution_count": 15,
   "id": "ea25a705-b311-433a-bfa3-91dfee99fe62",
   "metadata": {},
   "outputs": [
    {
     "name": "stdout",
     "output_type": "stream",
     "text": [
      "[(1, 3), (1, 4), (2, 3), (2, 4)]\n"
     ]
    }
   ],
   "source": [
    "cartesian_product = [(x,y) for x in [1,2] for y in (3,4)]\n",
    "print(cartesian_product)"
   ]
  },
  {
   "cell_type": "markdown",
   "id": "6af384b1-3546-4353-8ba9-2977b1c19e0b",
   "metadata": {},
   "source": [
    "For filtering the results of the iteratable selection you can use any number of if-expressions:"
   ]
  },
  {
   "cell_type": "code",
   "execution_count": 16,
   "id": "d1f710cf-ecca-4cad-9f39-8c3067fc4e5b",
   "metadata": {},
   "outputs": [
    {
     "name": "stdout",
     "output_type": "stream",
     "text": [
      "[4, 8]\n",
      "[12, 16]\n"
     ]
    }
   ],
   "source": [
    "divisible_by_four_list = [x for x in range(1,10) if x%4==0]\n",
    "divisible_by_four_and_bigger_list = [x for x in range(1,20) if x%4==0 if x>10]\n",
    "print(divisible_by_four_list)\n",
    "print(divisible_by_four_and_bigger_list)"
   ]
  },
  {
   "cell_type": "markdown",
   "id": "e2b9ca35-1723-4f1f-ba91-7b7e83291bbc",
   "metadata": {},
   "source": [
    "With the newly added assignment expression ':=' you accumulate elements of the list and change variables outside the list at the same time:"
   ]
  },
  {
   "cell_type": "code",
   "execution_count": 17,
   "id": "17cdf9d2-844a-43ad-aa34-05e6ad34eb95",
   "metadata": {},
   "outputs": [
    {
     "name": "stdout",
     "output_type": "stream",
     "text": [
      "-22\n",
      "[-2, -7, -14, -22]\n"
     ]
    }
   ],
   "source": [
    "start = 0\n",
    "subtracted_list = [start := start - x for x in [2,5,7,8]]\n",
    "print(start)\n",
    "print(subtracted_list)"
   ]
  }
 ],
 "metadata": {
  "kernelspec": {
   "display_name": "Python 3",
   "language": "python",
   "name": "python3"
  },
  "language_info": {
   "codemirror_mode": {
    "name": "ipython",
    "version": 3
   },
   "file_extension": ".py",
   "mimetype": "text/x-python",
   "name": "python",
   "nbconvert_exporter": "python",
   "pygments_lexer": "ipython3",
   "version": "3.8.8"
  }
 },
 "nbformat": 4,
 "nbformat_minor": 5
}
