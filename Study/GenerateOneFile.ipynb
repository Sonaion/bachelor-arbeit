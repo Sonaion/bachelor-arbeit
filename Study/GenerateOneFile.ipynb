{
 "cells": [
  {
   "cell_type": "code",
   "execution_count": 1,
   "id": "f0cf888e-1bde-4062-9137-aaf7885f5d9c",
   "metadata": {},
   "outputs": [],
   "source": [
    "import os\n",
    "import nbformat\n",
    "from docx import Document"
   ]
  },
  {
   "cell_type": "code",
   "execution_count": 2,
   "id": "e22d2173-caae-4d47-96b3-cac2eb916076",
   "metadata": {},
   "outputs": [],
   "source": [
    "source_folder = os.getcwd() + \"\\\\CodeSnippets\\\\Source\"\n",
    "file_folder = os.getcwd() + \"\\\\CodeSnippets\\\\\"\n",
    "files = os.listdir(source_folder)\n",
    "\n",
    "data_dict = {}\n",
    "for file in files:\n",
    "    filename, _file_extension = os.path.splitext(file)\n",
    "    file_data = open(source_folder + \"\\\\\" + file, \"r\")\n",
    "    file_data = file_data.read()\n",
    "    \n",
    "    data_dict[filename] = file_data\n",
    "    \n",
    "combined = \"\"\n",
    "for key, value in data_dict.items():\n",
    "    combined += (\"#\"*120) + \"\\n#\" + key + \"\\n\\n\" + value + \"\\n\\n\\n\"\n",
    "\n",
    "f = open(file_folder + \"Snippets_combined.py\", \"w\")\n",
    "f.write(combined)\n",
    "f.close()\n",
    "\n",
    "document = Document()\n",
    "document.add_paragraph(combined)\n",
    "document.save(file_folder + \"Snippets_combined.docx\")\n",
    "\n",
    "combined = []\n",
    "for key, value in data_dict.items():\n",
    "    combined.append(nbformat.v4.new_markdown_cell(key))\n",
    "    combined.append(nbformat.v4.new_code_cell(value))\n",
    "    combined.append(nbformat.v4.new_code_cell(\"#comments or playground\"))\n",
    "    \n",
    "notebook = nbformat.v4.new_notebook()\n",
    "notebook['cells'] = combined\n",
    "nbformat.write(notebook, file_folder + \"Snippets_combined.ipynb\")"
   ]
  },
  {
   "cell_type": "code",
   "execution_count": null,
   "id": "15526097-e20c-47a1-99ee-77574c1df1f4",
   "metadata": {},
   "outputs": [],
   "source": []
  }
 ],
 "metadata": {
  "kernelspec": {
   "display_name": "Python 3",
   "language": "python",
   "name": "python3"
  },
  "language_info": {
   "codemirror_mode": {
    "name": "ipython",
    "version": 3
   },
   "file_extension": ".py",
   "mimetype": "text/x-python",
   "name": "python",
   "nbconvert_exporter": "python",
   "pygments_lexer": "ipython3",
   "version": "3.8.8"
  }
 },
 "nbformat": 4,
 "nbformat_minor": 5
}
