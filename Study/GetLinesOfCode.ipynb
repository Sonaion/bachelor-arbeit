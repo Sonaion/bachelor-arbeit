{
 "cells": [
  {
   "cell_type": "code",
   "execution_count": 1,
   "id": "99d197cd-2ef2-4a13-aabc-b9f1278e60ca",
   "metadata": {},
   "outputs": [],
   "source": [
    "import os\n",
    "import pandas as pd"
   ]
  },
  {
   "cell_type": "code",
   "execution_count": 2,
   "id": "755412ef-7c18-46a4-ae76-3767f8dbb15a",
   "metadata": {},
   "outputs": [],
   "source": [
    "source_folder = os.getcwd() + \"\\\\CodeSnippets\\\\Source\"\n",
    "files = os.listdir(source_folder)\n",
    "categorie = [\"HOF\", \"I\", \"LC\", \"R\"]\n",
    "\n",
    "df = pd.DataFrame([], columns=[\"Name\", \"Code\", \"Categorie\"])\n",
    "for idx, file in enumerate(files):\n",
    "    filename, _file_extension = os.path.splitext(file)\n",
    "    file_data = open(source_folder + \"\\\\\" + file, \"r\")\n",
    "    file_data = file_data.read()\n",
    "    df = df.append(pd.DataFrame([[filename, file_data, categorie[idx%4]]], columns=[\"Name\", \"Code\", \"Categorie\"]))\n",
    "    \n",
    "df = df.reset_index()\n",
    "df = df.drop([\"index\"], axis=1)\n",
    "df[\"LOC\"] = df.apply(lambda row: row[\"Code\"].count(\"\\n\"), axis=1)\n",
    "df[\"CPS\"] = df.apply(lambda row: len(row[\"Code\"]), axis=1)\n",
    "df[\"LOC/CPS\"] = df.apply(lambda row: row[\"CPS\"]/row[\"LOC\"], axis=1)"
   ]
  },
  {
   "cell_type": "code",
   "execution_count": 3,
   "id": "243a1ec3-08a5-4142-bb1a-638afc8dc01a",
   "metadata": {},
   "outputs": [],
   "source": [
    "cols = [\"Categorie\", \"LOC-mean\", \"LOC-std\", \"CPS-mean\", \"LOC-std\", \"LOC/CPS-mean\", \"LOC/CPS-std\"]\n",
    "df_confounding = pd.DataFrame([], columns=cols)\n",
    "for cat in categorie:\n",
    "    data = df.loc[df[\"Categorie\"]==cat].describe()\n",
    "    df_confounding = df_confounding.append(pd.DataFrame([[cat,\n",
    "                                                          data[\"LOC\"][\"mean\"],\n",
    "                                                          data[\"LOC\"][\"std\"],\n",
    "                                                          data[\"CPS\"][\"mean\"],\n",
    "                                                          data[\"CPS\"][\"std\"],\n",
    "                                                          data[\"LOC/CPS\"][\"mean\"],\n",
    "                                                          data[\"LOC/CPS\"][\"std\"]]], columns=cols))\n",
    "df_confounding.to_excel(\"CodeSnippets/confoudning.xlsx\", index=False)"
   ]
  },
  {
   "cell_type": "code",
   "execution_count": null,
   "id": "ce4fa5ef-cf78-43e9-8bdd-cdf31964cf63",
   "metadata": {},
   "outputs": [],
   "source": []
  }
 ],
 "metadata": {
  "kernelspec": {
   "display_name": "Python 3",
   "language": "python",
   "name": "python3"
  },
  "language_info": {
   "codemirror_mode": {
    "name": "ipython",
    "version": 3
   },
   "file_extension": ".py",
   "mimetype": "text/x-python",
   "name": "python",
   "nbconvert_exporter": "python",
   "pygments_lexer": "ipython3",
   "version": "3.8.8"
  }
 },
 "nbformat": 4,
 "nbformat_minor": 5
}
