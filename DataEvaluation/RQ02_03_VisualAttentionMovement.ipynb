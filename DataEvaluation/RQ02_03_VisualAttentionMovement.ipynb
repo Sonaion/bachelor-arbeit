{
 "cells": [
  {
   "cell_type": "markdown",
   "metadata": {
    "collapsed": true,
    "pycharm": {
     "name": "#%% md\n"
    }
   },
   "source": [
    "# Visual Attention movement"
   ]
  },
  {
   "cell_type": "code",
   "execution_count": 1,
   "outputs": [],
   "source": [
    "import pandas as pd\n",
    "import regex as re\n",
    "import matplotlib.pyplot as plt\n",
    "from tqdm.notebook import tqdm\n",
    "import numpy as np\n",
    "\n",
    "plt.rcParams['savefig.facecolor'] = 'white'"
   ],
   "metadata": {
    "collapsed": false,
    "pycharm": {
     "name": "#%%\n"
    }
   }
  },
  {
   "cell_type": "markdown",
   "source": [
    "## Load The Data"
   ],
   "metadata": {
    "collapsed": false,
    "pycharm": {
     "name": "#%% md\n"
    }
   }
  },
  {
   "cell_type": "code",
   "execution_count": 2,
   "outputs": [],
   "source": [
    "def click_data_to_list(click_data_string):\n",
    "    click_data_list = []\n",
    "    for click in click_data_string.split(\" \"):\n",
    "        click = click.split(\"-\")\n",
    "        # extract the x and y coordinates from a string via regex\n",
    "        x = int(re.search(r'\\d+', click[0])[0])\n",
    "        y = int(re.search(r'\\d+', click[1])[0])\n",
    "        click_data_list.append((x, y))\n",
    "    return click_data_list  #\n",
    "\n",
    "\n",
    "def time_data_to_list(time_data_string):\n",
    "    time_data_list = []\n",
    "    for time in time_data_string.split(\" \"):\n",
    "        time_data_list.append(float(time) / 1000)\n",
    "    return time_data_list"
   ],
   "metadata": {
    "collapsed": false,
    "pycharm": {
     "name": "#%%\n"
    }
   }
  },
  {
   "cell_type": "code",
   "execution_count": 3,
   "outputs": [],
   "source": [
    "df = pd.read_csv('./data/preprocessed_experiment_data.csv')\n",
    "df = df[df[\"Outlier\"] == False]\n",
    "df = df.drop(columns=[\"Outlier\"])\n",
    "\n",
    "df[\"ClickData\"] = df[\"ClickData\"].apply(lambda x: click_data_to_list(x))\n",
    "df[\"TimeData\"] = df[\"TimeData\"].apply(lambda x: time_data_to_list(x))\n",
    "df[\"NumberOfClicks\"] = df[\"ClickData\"].apply(lambda x: len(x))"
   ],
   "metadata": {
    "collapsed": false,
    "pycharm": {
     "name": "#%%\n"
    }
   }
  },
  {
   "cell_type": "markdown",
   "source": [
    "## Calculate the distance and direction between clicks"
   ],
   "metadata": {
    "collapsed": false,
    "pycharm": {
     "name": "#%% md\n"
    }
   }
  },
  {
   "cell_type": "code",
   "execution_count": 4,
   "outputs": [
    {
     "data": {
      "text/plain": "  0%|          | 0/278 [00:00<?, ?it/s]",
      "application/vnd.jupyter.widget-view+json": {
       "version_major": 2,
       "version_minor": 0,
       "model_id": "30e5a3a29f864e89bdacf240f57c2bba"
      }
     },
     "metadata": {},
     "output_type": "display_data"
    },
    {
     "data": {
      "text/plain": "       Algorithm    ProgrammingStyle Participant Number    Distance  \\\n0          apply           iterative         212      0  168.315181   \n1          apply           iterative         212      1    0.000000   \n2          apply           iterative         212      2   19.646883   \n3          apply           iterative         212      3   77.781746   \n4          apply           iterative         212      4   53.000000   \n...          ...                 ...         ...    ...         ...   \n6319  LinkedList  list-comprehension         315     19   24.738634   \n6320  LinkedList  list-comprehension         315     20   27.892651   \n6321  LinkedList  list-comprehension         315     21   24.000000   \n6322  LinkedList  list-comprehension         315     22   26.019224   \n6323  LinkedList  list-comprehension         315     23   23.345235   \n\n       Direction  \n0     225.962864  \n1       0.000000  \n2     104.743563  \n3     261.869898  \n4      90.000000  \n...          ...  \n6319   75.963757  \n6320   75.465545  \n6321   90.000000  \n6322   92.202598  \n6323   80.134193  \n\n[6324 rows x 6 columns]",
      "text/html": "<div>\n<style scoped>\n    .dataframe tbody tr th:only-of-type {\n        vertical-align: middle;\n    }\n\n    .dataframe tbody tr th {\n        vertical-align: top;\n    }\n\n    .dataframe thead th {\n        text-align: right;\n    }\n</style>\n<table border=\"1\" class=\"dataframe\">\n  <thead>\n    <tr style=\"text-align: right;\">\n      <th></th>\n      <th>Algorithm</th>\n      <th>ProgrammingStyle</th>\n      <th>Participant</th>\n      <th>Number</th>\n      <th>Distance</th>\n      <th>Direction</th>\n    </tr>\n  </thead>\n  <tbody>\n    <tr>\n      <th>0</th>\n      <td>apply</td>\n      <td>iterative</td>\n      <td>212</td>\n      <td>0</td>\n      <td>168.315181</td>\n      <td>225.962864</td>\n    </tr>\n    <tr>\n      <th>1</th>\n      <td>apply</td>\n      <td>iterative</td>\n      <td>212</td>\n      <td>1</td>\n      <td>0.000000</td>\n      <td>0.000000</td>\n    </tr>\n    <tr>\n      <th>2</th>\n      <td>apply</td>\n      <td>iterative</td>\n      <td>212</td>\n      <td>2</td>\n      <td>19.646883</td>\n      <td>104.743563</td>\n    </tr>\n    <tr>\n      <th>3</th>\n      <td>apply</td>\n      <td>iterative</td>\n      <td>212</td>\n      <td>3</td>\n      <td>77.781746</td>\n      <td>261.869898</td>\n    </tr>\n    <tr>\n      <th>4</th>\n      <td>apply</td>\n      <td>iterative</td>\n      <td>212</td>\n      <td>4</td>\n      <td>53.000000</td>\n      <td>90.000000</td>\n    </tr>\n    <tr>\n      <th>...</th>\n      <td>...</td>\n      <td>...</td>\n      <td>...</td>\n      <td>...</td>\n      <td>...</td>\n      <td>...</td>\n    </tr>\n    <tr>\n      <th>6319</th>\n      <td>LinkedList</td>\n      <td>list-comprehension</td>\n      <td>315</td>\n      <td>19</td>\n      <td>24.738634</td>\n      <td>75.963757</td>\n    </tr>\n    <tr>\n      <th>6320</th>\n      <td>LinkedList</td>\n      <td>list-comprehension</td>\n      <td>315</td>\n      <td>20</td>\n      <td>27.892651</td>\n      <td>75.465545</td>\n    </tr>\n    <tr>\n      <th>6321</th>\n      <td>LinkedList</td>\n      <td>list-comprehension</td>\n      <td>315</td>\n      <td>21</td>\n      <td>24.000000</td>\n      <td>90.000000</td>\n    </tr>\n    <tr>\n      <th>6322</th>\n      <td>LinkedList</td>\n      <td>list-comprehension</td>\n      <td>315</td>\n      <td>22</td>\n      <td>26.019224</td>\n      <td>92.202598</td>\n    </tr>\n    <tr>\n      <th>6323</th>\n      <td>LinkedList</td>\n      <td>list-comprehension</td>\n      <td>315</td>\n      <td>23</td>\n      <td>23.345235</td>\n      <td>80.134193</td>\n    </tr>\n  </tbody>\n</table>\n<p>6324 rows × 6 columns</p>\n</div>"
     },
     "execution_count": 4,
     "metadata": {},
     "output_type": "execute_result"
    }
   ],
   "source": [
    "df_movement_metrics = pd.DataFrame(\n",
    "    columns=[\"Algorithm\", \"ProgrammingStyle\", \"Participant\", \"Number\", \"Distance\", \"Direction\"])\n",
    "\n",
    "for idx, row in tqdm(df.iterrows(), total=len(df)):\n",
    "    click_data = row[\"ClickData\"]\n",
    "    participant = row[\"ID\"]\n",
    "    number_of_clicks = row[\"NumberOfClicks\"]\n",
    "    for i in range(number_of_clicks - 1):\n",
    "        distance = np.sqrt(\n",
    "            (click_data[i][0] - click_data[i + 1][0]) ** 2 + (click_data[i][1] - click_data[i + 1][1]) ** 2)\n",
    "        direction = np.arctan2(click_data[i + 1][1] - click_data[i][1], click_data[i + 1][0] - click_data[i][0])\n",
    "        angle = direction / np.pi * 180\n",
    "        if angle < 0:\n",
    "            angle = 360 + angle\n",
    "        df_movement_metrics.loc[len(df_movement_metrics)] = [row[\"Algorithm\"], row[\"ProgrammingStyle\"], participant, i,\n",
    "                                                             distance, angle]\n",
    "\n",
    "df_movement_metrics"
   ],
   "metadata": {
    "collapsed": false,
    "pycharm": {
     "name": "#%%\n"
    }
   }
  },
  {
   "cell_type": "code",
   "execution_count": 5,
   "outputs": [],
   "source": [
    "def map_to_bin(value, bins):\n",
    "    for idx, (low, high) in enumerate(bins):\n",
    "        if low <= value < high:\n",
    "            return int(idx)\n",
    "    return 0\n",
    "\n",
    "\n",
    "def polar_saccadic_plot(theta, value, err, number_of_bins, half_angle):\n",
    "    # width for bins\n",
    "    width = 2 * np.pi / number_of_bins\n",
    "\n",
    "    ax = plt.subplot(111, projection='polar')\n",
    "\n",
    "    ax.set_rlabel_position(half_angle)\n",
    "    # set x ticks to theta + angle/2\n",
    "    ax.set_xticks(theta + width / 2)\n",
    "    # remove the tick labels\n",
    "    ax.set_xticklabels([])\n",
    "\n",
    "    colors = plt.cm.tab10(np.linspace(0, 1, len(theta)))\n",
    "    # plot and set error\n",
    "\n",
    "    ax.bar(theta, height=value, yerr=err, width=width, alpha=1.0, color=colors,\n",
    "           error_kw=dict(ecolor='black', lw=2, capsize=0, capthick=10))\n",
    "\n",
    "    return ax\n",
    "\n",
    "# set the number of bins\n",
    "number_of_bins = 8\n",
    "line_height_in_pixels = 26\n",
    "half_angle = 360 / number_of_bins / 2\n",
    "angle = 360 / number_of_bins\n",
    "marks = np.linspace(0.0, 360.0 - angle, number_of_bins)\n",
    "edges = [(mark - half_angle, mark + half_angle) for mark in marks]\n",
    "theta = np.linspace(0.0, 2 * np.pi, number_of_bins, endpoint=False)\n",
    "df_movement_metrics[\"Bin\"] = df_movement_metrics[\"Direction\"].apply(lambda x: map_to_bin(x, edges))\n",
    "df_movement_metrics[\"theta\"] = df_movement_metrics[\"Bin\"].apply(lambda x: x * angle / 180 * np.pi)\n",
    "df_movement_metrics[\"LineDistance\"] = df_movement_metrics[\"Distance\"] / line_height_in_pixels"
   ],
   "metadata": {
    "collapsed": false,
    "pycharm": {
     "name": "#%%\n"
    }
   }
  },
  {
   "cell_type": "code",
   "execution_count": 10,
   "outputs": [
    {
     "data": {
      "text/plain": "  0%|          | 0/4 [00:00<?, ?it/s]",
      "application/vnd.jupyter.widget-view+json": {
       "version_major": 2,
       "version_minor": 0,
       "model_id": "d05c07bb2bd84c4dac002892f5532e2e"
      }
     },
     "metadata": {},
     "output_type": "display_data"
    }
   ],
   "source": [
    "import numpy as np\n",
    "import matplotlib.pyplot as plt\n",
    "import os\n",
    "\n",
    "#check if folder exists\n",
    "if not os.path.exists('./results/jumping_dart_maps'):\n",
    "    os.makedirs('./results/jumping_dart_maps')\n",
    "\n",
    "max_line_distance = df_movement_metrics[\"LineDistance\"].max()\n",
    "for (programming_style), df_group in tqdm(df_movement_metrics.groupby([\"ProgrammingStyle\"])):\n",
    "    # sort df by theta\n",
    "    df_group = df_group.sort_values(by=[\"theta\"])\n",
    "    number_of_participants = len(df_group[\"Participant\"].unique())\n",
    "\n",
    "    distance_median = df_group.groupby(\"theta\").agg({\"LineDistance\": \"median\"})\n",
    "    distance_tmp = []\n",
    "    for theta_tmp in theta:\n",
    "        if len(distance_median[distance_median.index == theta_tmp]) == 0:\n",
    "            distance_tmp.append(np.array([0]))\n",
    "        else:\n",
    "            distance_tmp.append(distance_median[distance_median.index == theta_tmp].values[0])\n",
    "    distance_median = [distance[0] for distance in distance_tmp]\n",
    "    distance_err = df_group.groupby(\"theta\").agg({\"LineDistance\": \"std\"})\n",
    "    distance_err_tmp = []\n",
    "    for theta_tmp in theta:\n",
    "        if len(distance_err[distance_err.index == theta_tmp]) == 0:\n",
    "            distance_err_tmp.append(np.array([0]))\n",
    "        else:\n",
    "            distance_err_tmp.append(distance_err[distance_err.index == theta_tmp].values[0])\n",
    "    distance_err = [distance[0] for distance in distance_err_tmp]\n",
    "    distance_err = [(min(median-0.5, err), err) for median, err in zip(distance_median, distance_err)]\n",
    "    distance_err = np.array(distance_err).T\n",
    "\n",
    "    df_amount = pd.DataFrame(columns=[\"Participant\", \"Theta\", \"Amount\", \"Total\"])\n",
    "    for group, df_group_by_participant in df_group.groupby([\"Participant\"]):\n",
    "        participant = group\n",
    "        total = len(df_group_by_participant)\n",
    "        for current_theta, df_group_by_theta in df_group_by_participant.groupby(\"theta\"):\n",
    "            amount = len(df_group_by_theta)\n",
    "            df_amount.loc[len(df_amount)] = [participant, current_theta, amount, total]\n",
    "    df_amount[\"Probability\"] = df_amount[\"Amount\"] / df_amount[\"Total\"]\n",
    "\n",
    "\n",
    "\n",
    "    probability_average = df_amount.groupby(\"Theta\").agg({\"Probability\": lambda x: np.sum(x)/number_of_participants})\n",
    "    probability_average_tmp = []\n",
    "    for current_theta in theta:\n",
    "        if len(probability_average[probability_average.index == current_theta]) == 0:\n",
    "            probability_average_tmp.append(np.array([0]))\n",
    "        else:\n",
    "            probability_average_tmp.append(probability_average[probability_average.index == current_theta].values[0])\n",
    "    probability_average = [probability[0] for probability in probability_average_tmp]\n",
    "    probability_error = df_amount.groupby(\"Theta\").agg({\"Probability\": \"std\"})\n",
    "    probability_error_tmp = []\n",
    "    for current_theta in theta:\n",
    "        if len(probability_error[probability_error.index == current_theta]) == 0:\n",
    "            probability_error_tmp.append(np.array([0]))\n",
    "        else:\n",
    "            probability_error_tmp.append(probability_error[probability_error.index == current_theta].values[0])\n",
    "    probability_error = [probability[0] for probability in probability_error_tmp]\n",
    "    probability_error = [(min(avg, err), err) for avg, err in zip(probability_average, probability_error)]\n",
    "    probability_error = np.array(probability_error).T\n",
    "\n",
    "    # plot distance\n",
    "    plt.figure(figsize=(5, 5))\n",
    "    ax = polar_saccadic_plot(theta, distance_median, distance_err, number_of_bins, half_angle)\n",
    "    # set title\n",
    "    ax.set_title(f\"{programming_style}: Average Jump Distance in Line Height Units\")\n",
    "    plt.savefig(f\"./results/jumping_dart_maps/{programming_style}_distance.png\")\n",
    "    ax.set_ylim(0, 15)\n",
    "    plt.close('all')\n",
    "\n",
    "    # plot probability of jumping\n",
    "    plt.figure(figsize=(5, 5))\n",
    "    ax = polar_saccadic_plot(theta, probability_average, probability_error, number_of_bins, half_angle)\n",
    "    ax.set_title(f\"{programming_style}: Probability of Jumping\")\n",
    "    ax.set_ylim(0, 0.5)\n",
    "    plt.savefig(f\"./results/jumping_dart_maps/{programming_style}_probability.png\")\n",
    "    plt.close('all')"
   ],
   "metadata": {
    "collapsed": false,
    "pycharm": {
     "name": "#%%\n"
    }
   }
  },
  {
   "cell_type": "code",
   "execution_count": 6,
   "outputs": [],
   "source": [],
   "metadata": {
    "collapsed": false,
    "pycharm": {
     "name": "#%%\n"
    }
   }
  }
 ],
 "metadata": {
  "kernelspec": {
   "display_name": "Python 3",
   "language": "python",
   "name": "python3"
  },
  "language_info": {
   "codemirror_mode": {
    "name": "ipython",
    "version": 2
   },
   "file_extension": ".py",
   "mimetype": "text/x-python",
   "name": "python",
   "nbconvert_exporter": "python",
   "pygments_lexer": "ipython2",
   "version": "2.7.6"
  }
 },
 "nbformat": 4,
 "nbformat_minor": 0
}