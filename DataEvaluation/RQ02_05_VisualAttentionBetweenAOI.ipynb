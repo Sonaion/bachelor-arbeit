{
 "cells": [
  {
   "cell_type": "markdown",
   "metadata": {
    "collapsed": true,
    "pycharm": {
     "name": "#%% md\n"
    }
   },
   "source": [
    "# Visual Attention between Area Of Interest"
   ]
  },
  {
   "cell_type": "code",
   "execution_count": 1,
   "outputs": [],
   "source": [
    "import pandas as pd\n",
    "import regex as re\n",
    "import matplotlib.pyplot as plt\n",
    "import seaborn as sns\n",
    "import json\n",
    "import modules.GenSnippetsLib as snippets\n",
    "from pygments.lexers import PythonLexer\n",
    "from tqdm.notebook import tqdm\n",
    "import PIL\n",
    "import PIL.Image\n",
    "import numpy as np\n",
    "from skimage.draw import ellipse\n",
    "from mpl_chord_diagram import chord_diagram\n",
    "import os\n",
    "plt.rcParams['savefig.facecolor']='white'"
   ],
   "metadata": {
    "collapsed": false,
    "pycharm": {
     "name": "#%%\n"
    }
   }
  },
  {
   "cell_type": "code",
   "execution_count": 2,
   "outputs": [],
   "source": [
    "#check if folder exists\n",
    "if not os.path.exists(\"./results/RQ2/chord\"):\n",
    "    os.makedirs(\"./results/RQ2/chord\")"
   ],
   "metadata": {
    "collapsed": false,
    "pycharm": {
     "name": "#%%\n"
    }
   }
  },
  {
   "cell_type": "markdown",
   "source": [
    "## Load The Data"
   ],
   "metadata": {
    "collapsed": false,
    "pycharm": {
     "name": "#%% md\n"
    }
   }
  },
  {
   "cell_type": "code",
   "execution_count": 3,
   "outputs": [],
   "source": [
    "def click_data_to_list(click_data_string):\n",
    "    click_data_list = []\n",
    "    for click in click_data_string.split(\" \"):\n",
    "        click = click.split(\"-\")\n",
    "        # extract the x and y coordinates from a string via regex\n",
    "        x = int(re.search(r'\\d+', click[0])[0])\n",
    "        y = int(re.search(r'\\d+', click[1])[0])\n",
    "        click_data_list.append((x, y))\n",
    "    return click_data_list#\n",
    "\n",
    "def time_data_to_list(time_data_string):\n",
    "    time_data_list = []\n",
    "    for time in time_data_string.split(\" \"):\n",
    "        time_data_list.append(float(time) / 1000)\n",
    "    return time_data_list"
   ],
   "metadata": {
    "collapsed": false,
    "pycharm": {
     "name": "#%%\n"
    }
   }
  },
  {
   "cell_type": "code",
   "execution_count": 4,
   "outputs": [],
   "source": [
    "df = pd.read_csv('./data/preprocessed_experiment_data.csv')\n",
    "df = df[df[\"Outlier\"] == False]\n",
    "df = df.drop(columns=[\"Outlier\"])\n",
    "\n",
    "df[\"ClickData\"] = df[\"ClickData\"].apply(lambda x: click_data_to_list(x))\n",
    "df[\"TimeData\"] = df[\"TimeData\"].apply(lambda x: time_data_to_list(x))\n",
    "df[\"NumberOfClicks\"] = df[\"ClickData\"].apply(lambda x: len(x))\n",
    "df[\"AverageTimeOfClicks\"] = (df[\"ResponseTime\"] / 1000) / df[\"NumberOfClicks\"]"
   ],
   "metadata": {
    "collapsed": false,
    "pycharm": {
     "name": "#%%\n"
    }
   }
  },
  {
   "cell_type": "markdown",
   "source": [
    "## Create the Bounding Boxes of the Areas of Interest"
   ],
   "metadata": {
    "collapsed": false,
    "pycharm": {
     "name": "#%% md\n"
    }
   }
  },
  {
   "cell_type": "code",
   "execution_count": 5,
   "outputs": [],
   "source": [
    "# prepare color mapping for aois\n",
    "algorithms = df[[\"Algorithm\"]].sort_values(by=\"Algorithm\")[\"Algorithm\"].unique()\n",
    "programming_styles = df[[\"ProgrammingStyle\"]].sort_values(by=\"ProgrammingStyle\")[\"ProgrammingStyle\"].unique()\n",
    "algorithms = [x for x in algorithms]\n",
    "programming_styles = [x.replace(\"-\", \"_\") for x in programming_styles]\n",
    "\n",
    "color_palette = sns.color_palette(\"hls\", 16)\n",
    "color_palette_mapping = {\n",
    "    \"Method\" : color_palette[0],\n",
    "    \"MethodDeclaration\" : color_palette[1],\n",
    "    \"MethodBody\" : color_palette[2],\n",
    "    \"Helper\" : color_palette[3],\n",
    "    \"HelperDeclaration\" : color_palette[4],\n",
    "    \"HelperBody\" : color_palette[5],\n",
    "    \"Iteration\" : color_palette[6],\n",
    "    \"IterationHead\" : color_palette[7],\n",
    "    \"IterationBody\" : color_palette[8],\n",
    "    \"RecursiveCall\" : color_palette[9],\n",
    "    \"RecursiveBaseCase\" : color_palette[10],\n",
    "    \"HigherOrder\" : color_palette[11],\n",
    "    \"ListComprehension\" : color_palette[12],\n",
    "    \"InputPreparation\" : color_palette[13],\n",
    "    \"StartOfAlgorithm\" : color_palette[14],\n",
    "    \"Class\" : color_palette[15],\n",
    "}\n",
    "aoi_colors = color_palette\n",
    "aoi_numbers = {name : idx for idx, (name, _value) in enumerate(color_palette_mapping.items())}\n",
    "aoi_names = [name for name, _value in color_palette_mapping.items()]\n",
    "\n",
    "def aoi_idx_to_convoluted_idx(aoi_idx):\n",
    "    if aoi_idx < 5:\n",
    "        return aoi_idx\n",
    "    if 6 <= aoi_idx <= 12:\n",
    "        return 6\n",
    "    if 13 <= aoi_idx:\n",
    "        return aoi_idx-6\n",
    "\n",
    "def aoi_name_to_convoluted_name(aoi_name):\n",
    "    if aoi_name in [\"Iteration\", \"IterationHead\", \"IterationBody\",\n",
    "                    \"Recursion\", \"RecursiveCall\", \"RecursiveBaseCase\",\n",
    "                    \"HigherOrder\",\n",
    "                    \"ListComprehension\"]:\n",
    "        return \"StyleSpecific\"\n",
    "    return aoi_name\n",
    "\n",
    "color_palette = sns.color_palette(\"hls\", 10)\n",
    "color_palette_mapping_convoluted = {\n",
    "    \"Method\" : color_palette[0],\n",
    "    \"MethodDeclaration\" : color_palette[1],\n",
    "    \"MethodBody\" : color_palette[2],\n",
    "    \"Helper\" : color_palette[3],\n",
    "    \"HelperDeclaration\" : color_palette[4],\n",
    "    \"HelperBody\" : color_palette[5],\n",
    "    \"StyleSpecific\" : color_palette[6],\n",
    "    \"InputPreparation\" : color_palette[7],\n",
    "    \"StartOfAlgorithm\" : color_palette[8],\n",
    "    \"Class\" : color_palette[9],\n",
    "}\n",
    "aoi_colors_convoluted = color_palette\n",
    "aoi_numbers_convoluted = {name : idx for idx, (name, _value) in enumerate(color_palette_mapping_convoluted.items())}\n",
    "aoi_names_convoluted = [name for name, _value in color_palette_mapping_convoluted.items()]"
   ],
   "metadata": {
    "collapsed": false,
    "pycharm": {
     "name": "#%%\n"
    }
   }
  },
  {
   "cell_type": "code",
   "execution_count": 6,
   "outputs": [
    {
     "data": {
      "text/plain": "  0%|          | 0/11 [00:00<?, ?it/s]",
      "application/vnd.jupyter.widget-view+json": {
       "version_major": 2,
       "version_minor": 0,
       "model_id": "ce9a22515da64dd3b7b2c09fe4ab5b81"
      }
     },
     "metadata": {},
     "output_type": "display_data"
    },
    {
     "data": {
      "text/plain": "        Algorithm    ProgrammingStyle  \\\n0      LinkedList        higher-order   \n1      LinkedList           iterative   \n2      LinkedList  list-comprehension   \n3      LinkedList           recursive   \n4           apply        higher-order   \n5           apply           iterative   \n6           apply  list-comprehension   \n7           apply           recursive   \n8        computer        higher-order   \n9        computer           iterative   \n10       computer  list-comprehension   \n11       computer           recursive   \n12  condition_sum        higher-order   \n13  condition_sum           iterative   \n14  condition_sum  list-comprehension   \n15  condition_sum           recursive   \n16           find        higher-order   \n17           find           iterative   \n18           find  list-comprehension   \n19           find           recursive   \n20       is_prime        higher-order   \n21       is_prime           iterative   \n22       is_prime  list-comprehension   \n23       is_prime           recursive   \n24            max        higher-order   \n25            max           iterative   \n26            max  list-comprehension   \n27            max           recursive   \n28           node        higher-order   \n29           node           iterative   \n30           node  list-comprehension   \n31           node           recursive   \n32  prime_factors        higher-order   \n33  prime_factors           iterative   \n34  prime_factors  list-comprehension   \n35  prime_factors           recursive   \n36       quad_mul        higher-order   \n37       quad_mul           iterative   \n38       quad_mul  list-comprehension   \n39       quad_mul           recursive   \n40          store        higher-order   \n41          store           iterative   \n42          store  list-comprehension   \n43          store           recursive   \n\n                                        BoundingBoxes ImageDimension  \n0   [(Class, [2, 111, 360, 598]), (InputPreparatio...    (594, 1206)  \n1   [(Class, [2, 7, 360, 494]), (IterationHead, [2...    (362, 1154)  \n2   [(Class, [2, 111, 360, 598]), (InputPreparatio...    (706, 1232)  \n3   [(RecursiveBaseCase, [2, 266, 208, 309]), (Cla...     (506, 868)  \n4   [(InputPreparation, [2, 109, 392, 130]), (Star...     (394, 166)  \n5   [(IterationHead, [2, 58, 224, 78]), (InputPrep...     (394, 244)  \n6   [(InputPreparation, [2, 109, 392, 130]), (Star...     (394, 166)  \n7   [(RecursiveBaseCase, [2, 31, 232, 77]), (Input...     (562, 244)  \n8   [(Class, [2, 7, 312, 311]), (InputPreparation,...     (882, 738)  \n9   [(Class, [2, 7, 312, 311]), (IterationHead, [2...     (738, 842)  \n10  [(Class, [2, 7, 312, 311]), (InputPreparation,...    (1090, 738)  \n11  [(RecursiveBaseCase, [2, 395, 248, 441]), (Cla...     (922, 868)  \n12  [(InputPreparation, [2, 213, 160, 234]), (Star...     (618, 270)  \n13  [(IterationHead, [2, 57, 240, 78]), (Iteration...     (298, 348)  \n14  [(InputPreparation, [2, 265, 160, 286]), (Star...     (722, 322)  \n15  [(RecursiveBaseCase, [2, 32, 136, 75]), (Input...     (282, 296)  \n16  [(InputPreparation, [2, 239, 288, 260]), (Star...     (826, 296)  \n17  [(IterationHead, [2, 31, 360, 52]), (InputPrep...     (362, 244)  \n18  [(InputPreparation, [2, 187, 288, 208]), (Star...     (658, 244)  \n19  [(RecursiveBaseCase, [2, 31, 280, 127]), (Inpu...     (386, 400)  \n20  [(InputPreparation, [2, 161, 152, 182]), (Star...     (530, 218)  \n21  [(IterationHead, [2, 83, 416, 104]), (InputPre...     (418, 296)  \n22  [(InputPreparation, [2, 109, 152, 130]), (Star...     (674, 166)  \n23  [(RecursiveBaseCase, [2, 84, 241, 231]), (Inpu...     (330, 374)  \n24  [(InputPreparation, [2, 187, 216, 208]), (Star...     (506, 244)  \n25  [(IterationHead, [2, 136, 232, 156]), (InputPr...     (242, 348)  \n26  [(InputPreparation, [2, 239, 216, 260]), (Star...     (546, 296)  \n27  [(RecursiveBaseCase, [2, 31, 232, 75]), (Input...     (442, 348)  \n28  [(Class, [2, 111, 384, 491]), (InputPreparatio...     (522, 842)  \n29  [(Class, [2, 7, 328, 569]), (IterationHead, [2...     (434, 972)  \n30  [(Class, [2, 7, 384, 387]), (InputPreparation,...     (794, 764)  \n31  [(RecursiveBaseCase, [2, 499, 200, 623]), (Rec...    (642, 1310)  \n32  [(InputPreparation, [2, 317, 160, 338]), (Help...     (530, 374)  \n33  [(IterationHead, [2, 83, 416, 104]), (Iteratio...     (434, 504)  \n34  [(InputPreparation, [2, 213, 160, 234]), (Help...     (690, 270)  \n35  [(RecursiveBaseCase, [2, 84, 241, 231]), (Recu...     (538, 894)  \n36  [(InputPreparation, [2, 213, 152, 234]), (Star...     (450, 270)  \n37  [(IterationHead, [2, 57, 240, 78]), (Iteration...     (274, 322)  \n38  [(InputPreparation, [2, 265, 152, 286]), (Star...     (442, 322)  \n39  [(RecursiveBaseCase, [2, 32, 136, 75]), (Input...     (290, 218)  \n40  [(Class, [2, 85, 424, 831]), (InputPreparation...    (858, 1752)  \n41  [(Class, [2, 85, 424, 831]), (IterationHead, [...    (426, 2064)  \n42  [(Class, [2, 85, 424, 831]), (InputPreparation...    (842, 1700)  \n43  [(RecursiveBaseCase, [2, 889, 240, 935]), (Rec...    (618, 2272)  ",
      "text/html": "<div>\n<style scoped>\n    .dataframe tbody tr th:only-of-type {\n        vertical-align: middle;\n    }\n\n    .dataframe tbody tr th {\n        vertical-align: top;\n    }\n\n    .dataframe thead th {\n        text-align: right;\n    }\n</style>\n<table border=\"1\" class=\"dataframe\">\n  <thead>\n    <tr style=\"text-align: right;\">\n      <th></th>\n      <th>Algorithm</th>\n      <th>ProgrammingStyle</th>\n      <th>BoundingBoxes</th>\n      <th>ImageDimension</th>\n    </tr>\n  </thead>\n  <tbody>\n    <tr>\n      <th>0</th>\n      <td>LinkedList</td>\n      <td>higher-order</td>\n      <td>[(Class, [2, 111, 360, 598]), (InputPreparatio...</td>\n      <td>(594, 1206)</td>\n    </tr>\n    <tr>\n      <th>1</th>\n      <td>LinkedList</td>\n      <td>iterative</td>\n      <td>[(Class, [2, 7, 360, 494]), (IterationHead, [2...</td>\n      <td>(362, 1154)</td>\n    </tr>\n    <tr>\n      <th>2</th>\n      <td>LinkedList</td>\n      <td>list-comprehension</td>\n      <td>[(Class, [2, 111, 360, 598]), (InputPreparatio...</td>\n      <td>(706, 1232)</td>\n    </tr>\n    <tr>\n      <th>3</th>\n      <td>LinkedList</td>\n      <td>recursive</td>\n      <td>[(RecursiveBaseCase, [2, 266, 208, 309]), (Cla...</td>\n      <td>(506, 868)</td>\n    </tr>\n    <tr>\n      <th>4</th>\n      <td>apply</td>\n      <td>higher-order</td>\n      <td>[(InputPreparation, [2, 109, 392, 130]), (Star...</td>\n      <td>(394, 166)</td>\n    </tr>\n    <tr>\n      <th>5</th>\n      <td>apply</td>\n      <td>iterative</td>\n      <td>[(IterationHead, [2, 58, 224, 78]), (InputPrep...</td>\n      <td>(394, 244)</td>\n    </tr>\n    <tr>\n      <th>6</th>\n      <td>apply</td>\n      <td>list-comprehension</td>\n      <td>[(InputPreparation, [2, 109, 392, 130]), (Star...</td>\n      <td>(394, 166)</td>\n    </tr>\n    <tr>\n      <th>7</th>\n      <td>apply</td>\n      <td>recursive</td>\n      <td>[(RecursiveBaseCase, [2, 31, 232, 77]), (Input...</td>\n      <td>(562, 244)</td>\n    </tr>\n    <tr>\n      <th>8</th>\n      <td>computer</td>\n      <td>higher-order</td>\n      <td>[(Class, [2, 7, 312, 311]), (InputPreparation,...</td>\n      <td>(882, 738)</td>\n    </tr>\n    <tr>\n      <th>9</th>\n      <td>computer</td>\n      <td>iterative</td>\n      <td>[(Class, [2, 7, 312, 311]), (IterationHead, [2...</td>\n      <td>(738, 842)</td>\n    </tr>\n    <tr>\n      <th>10</th>\n      <td>computer</td>\n      <td>list-comprehension</td>\n      <td>[(Class, [2, 7, 312, 311]), (InputPreparation,...</td>\n      <td>(1090, 738)</td>\n    </tr>\n    <tr>\n      <th>11</th>\n      <td>computer</td>\n      <td>recursive</td>\n      <td>[(RecursiveBaseCase, [2, 395, 248, 441]), (Cla...</td>\n      <td>(922, 868)</td>\n    </tr>\n    <tr>\n      <th>12</th>\n      <td>condition_sum</td>\n      <td>higher-order</td>\n      <td>[(InputPreparation, [2, 213, 160, 234]), (Star...</td>\n      <td>(618, 270)</td>\n    </tr>\n    <tr>\n      <th>13</th>\n      <td>condition_sum</td>\n      <td>iterative</td>\n      <td>[(IterationHead, [2, 57, 240, 78]), (Iteration...</td>\n      <td>(298, 348)</td>\n    </tr>\n    <tr>\n      <th>14</th>\n      <td>condition_sum</td>\n      <td>list-comprehension</td>\n      <td>[(InputPreparation, [2, 265, 160, 286]), (Star...</td>\n      <td>(722, 322)</td>\n    </tr>\n    <tr>\n      <th>15</th>\n      <td>condition_sum</td>\n      <td>recursive</td>\n      <td>[(RecursiveBaseCase, [2, 32, 136, 75]), (Input...</td>\n      <td>(282, 296)</td>\n    </tr>\n    <tr>\n      <th>16</th>\n      <td>find</td>\n      <td>higher-order</td>\n      <td>[(InputPreparation, [2, 239, 288, 260]), (Star...</td>\n      <td>(826, 296)</td>\n    </tr>\n    <tr>\n      <th>17</th>\n      <td>find</td>\n      <td>iterative</td>\n      <td>[(IterationHead, [2, 31, 360, 52]), (InputPrep...</td>\n      <td>(362, 244)</td>\n    </tr>\n    <tr>\n      <th>18</th>\n      <td>find</td>\n      <td>list-comprehension</td>\n      <td>[(InputPreparation, [2, 187, 288, 208]), (Star...</td>\n      <td>(658, 244)</td>\n    </tr>\n    <tr>\n      <th>19</th>\n      <td>find</td>\n      <td>recursive</td>\n      <td>[(RecursiveBaseCase, [2, 31, 280, 127]), (Inpu...</td>\n      <td>(386, 400)</td>\n    </tr>\n    <tr>\n      <th>20</th>\n      <td>is_prime</td>\n      <td>higher-order</td>\n      <td>[(InputPreparation, [2, 161, 152, 182]), (Star...</td>\n      <td>(530, 218)</td>\n    </tr>\n    <tr>\n      <th>21</th>\n      <td>is_prime</td>\n      <td>iterative</td>\n      <td>[(IterationHead, [2, 83, 416, 104]), (InputPre...</td>\n      <td>(418, 296)</td>\n    </tr>\n    <tr>\n      <th>22</th>\n      <td>is_prime</td>\n      <td>list-comprehension</td>\n      <td>[(InputPreparation, [2, 109, 152, 130]), (Star...</td>\n      <td>(674, 166)</td>\n    </tr>\n    <tr>\n      <th>23</th>\n      <td>is_prime</td>\n      <td>recursive</td>\n      <td>[(RecursiveBaseCase, [2, 84, 241, 231]), (Inpu...</td>\n      <td>(330, 374)</td>\n    </tr>\n    <tr>\n      <th>24</th>\n      <td>max</td>\n      <td>higher-order</td>\n      <td>[(InputPreparation, [2, 187, 216, 208]), (Star...</td>\n      <td>(506, 244)</td>\n    </tr>\n    <tr>\n      <th>25</th>\n      <td>max</td>\n      <td>iterative</td>\n      <td>[(IterationHead, [2, 136, 232, 156]), (InputPr...</td>\n      <td>(242, 348)</td>\n    </tr>\n    <tr>\n      <th>26</th>\n      <td>max</td>\n      <td>list-comprehension</td>\n      <td>[(InputPreparation, [2, 239, 216, 260]), (Star...</td>\n      <td>(546, 296)</td>\n    </tr>\n    <tr>\n      <th>27</th>\n      <td>max</td>\n      <td>recursive</td>\n      <td>[(RecursiveBaseCase, [2, 31, 232, 75]), (Input...</td>\n      <td>(442, 348)</td>\n    </tr>\n    <tr>\n      <th>28</th>\n      <td>node</td>\n      <td>higher-order</td>\n      <td>[(Class, [2, 111, 384, 491]), (InputPreparatio...</td>\n      <td>(522, 842)</td>\n    </tr>\n    <tr>\n      <th>29</th>\n      <td>node</td>\n      <td>iterative</td>\n      <td>[(Class, [2, 7, 328, 569]), (IterationHead, [2...</td>\n      <td>(434, 972)</td>\n    </tr>\n    <tr>\n      <th>30</th>\n      <td>node</td>\n      <td>list-comprehension</td>\n      <td>[(Class, [2, 7, 384, 387]), (InputPreparation,...</td>\n      <td>(794, 764)</td>\n    </tr>\n    <tr>\n      <th>31</th>\n      <td>node</td>\n      <td>recursive</td>\n      <td>[(RecursiveBaseCase, [2, 499, 200, 623]), (Rec...</td>\n      <td>(642, 1310)</td>\n    </tr>\n    <tr>\n      <th>32</th>\n      <td>prime_factors</td>\n      <td>higher-order</td>\n      <td>[(InputPreparation, [2, 317, 160, 338]), (Help...</td>\n      <td>(530, 374)</td>\n    </tr>\n    <tr>\n      <th>33</th>\n      <td>prime_factors</td>\n      <td>iterative</td>\n      <td>[(IterationHead, [2, 83, 416, 104]), (Iteratio...</td>\n      <td>(434, 504)</td>\n    </tr>\n    <tr>\n      <th>34</th>\n      <td>prime_factors</td>\n      <td>list-comprehension</td>\n      <td>[(InputPreparation, [2, 213, 160, 234]), (Help...</td>\n      <td>(690, 270)</td>\n    </tr>\n    <tr>\n      <th>35</th>\n      <td>prime_factors</td>\n      <td>recursive</td>\n      <td>[(RecursiveBaseCase, [2, 84, 241, 231]), (Recu...</td>\n      <td>(538, 894)</td>\n    </tr>\n    <tr>\n      <th>36</th>\n      <td>quad_mul</td>\n      <td>higher-order</td>\n      <td>[(InputPreparation, [2, 213, 152, 234]), (Star...</td>\n      <td>(450, 270)</td>\n    </tr>\n    <tr>\n      <th>37</th>\n      <td>quad_mul</td>\n      <td>iterative</td>\n      <td>[(IterationHead, [2, 57, 240, 78]), (Iteration...</td>\n      <td>(274, 322)</td>\n    </tr>\n    <tr>\n      <th>38</th>\n      <td>quad_mul</td>\n      <td>list-comprehension</td>\n      <td>[(InputPreparation, [2, 265, 152, 286]), (Star...</td>\n      <td>(442, 322)</td>\n    </tr>\n    <tr>\n      <th>39</th>\n      <td>quad_mul</td>\n      <td>recursive</td>\n      <td>[(RecursiveBaseCase, [2, 32, 136, 75]), (Input...</td>\n      <td>(290, 218)</td>\n    </tr>\n    <tr>\n      <th>40</th>\n      <td>store</td>\n      <td>higher-order</td>\n      <td>[(Class, [2, 85, 424, 831]), (InputPreparation...</td>\n      <td>(858, 1752)</td>\n    </tr>\n    <tr>\n      <th>41</th>\n      <td>store</td>\n      <td>iterative</td>\n      <td>[(Class, [2, 85, 424, 831]), (IterationHead, [...</td>\n      <td>(426, 2064)</td>\n    </tr>\n    <tr>\n      <th>42</th>\n      <td>store</td>\n      <td>list-comprehension</td>\n      <td>[(Class, [2, 85, 424, 831]), (InputPreparation...</td>\n      <td>(842, 1700)</td>\n    </tr>\n    <tr>\n      <th>43</th>\n      <td>store</td>\n      <td>recursive</td>\n      <td>[(RecursiveBaseCase, [2, 889, 240, 935]), (Rec...</td>\n      <td>(618, 2272)</td>\n    </tr>\n  </tbody>\n</table>\n</div>"
     },
     "execution_count": 6,
     "metadata": {},
     "output_type": "execute_result"
    }
   ],
   "source": [
    "# create bounding boxes and visualize them\n",
    "def from_canvas(fig):\n",
    "    lst = list(fig.canvas.get_width_height())\n",
    "    lst.append(3)\n",
    "    return PIL.Image.fromarray(np.frombuffer(fig.canvas.tostring_rgb(),dtype=np.uint8).reshape(lst))\n",
    "\n",
    "df_bounding_box = pd.DataFrame(columns=[\"Algorithm\", \"ProgrammingStyle\", \"BoundingBoxes\", \"ImageDimension\"])\n",
    "font_path=\"\\\\data\\\\fonts\\\\ttf\\\\\"\n",
    "offset = 3\n",
    "\n",
    "\n",
    "for algorithm in tqdm(algorithms):\n",
    "    for programming_style in programming_styles:\n",
    "        # load the image and generate bb code info\n",
    "        file_name = './data/CodeSnippets/Generators/' + algorithm + '_' + programming_style + '.json'\n",
    "        try:\n",
    "            image, result = snippets.create_image(file_name, font_path=font_path, lexer=PythonLexer)\n",
    "            y, x = image.size[::-1]\n",
    "            dimension = (x, y)\n",
    "        except Exception as e:\n",
    "            print(file_name + \":\" + str(e))\n",
    "            continue\n",
    "        # extract the areas of interest in the image\n",
    "        areas_of_interest = set()\n",
    "        for letter in result:\n",
    "            for aoi in letter[\"AOI\"]:\n",
    "                areas_of_interest.add(aoi)\n",
    "\n",
    "        # create the bounding boxes\n",
    "        disjoint_areas_of_interest = []\n",
    "        for aoi in areas_of_interest:\n",
    "            upper_left_x = 0\n",
    "            upper_left_y = 0\n",
    "            lower_right_x = 0\n",
    "            lower_right_y = 0\n",
    "            has_aoi = False\n",
    "            for letter in result:\n",
    "                if letter[\"BoundingBox\"][0] == 0 and letter[\"BoundingBox\"][1] == 0 and letter[\"BoundingBox\"][2] == 0 and letter[\"BoundingBox\"][3] == 0:\n",
    "                    continue\n",
    "\n",
    "                if aoi in letter[\"AOI\"]:\n",
    "                    if not has_aoi:\n",
    "                        upper_left_x = letter[\"BoundingBox\"][0] - offset\n",
    "                        upper_left_y = letter[\"BoundingBox\"][1] - offset\n",
    "                        lower_right_x = letter[\"BoundingBox\"][2] + offset\n",
    "                        lower_right_y = letter[\"BoundingBox\"][3] + offset\n",
    "                        has_aoi = True\n",
    "                    else:\n",
    "                        upper_left_x = min(upper_left_x, letter[\"BoundingBox\"][0] - offset)\n",
    "                        upper_left_y = min(upper_left_y, letter[\"BoundingBox\"][1] - offset)\n",
    "                        lower_right_x = max(lower_right_x, letter[\"BoundingBox\"][2] + offset)\n",
    "                        lower_right_y = max(lower_right_y, letter[\"BoundingBox\"][3] + offset)\n",
    "                else:\n",
    "                    if has_aoi:\n",
    "                        disjoint_areas_of_interest.append((aoi, [upper_left_x, upper_left_y, lower_right_x, lower_right_y]))\n",
    "                    has_aoi = False\n",
    "                    upper_left_x = 0\n",
    "                    upper_left_y = 0\n",
    "                    lower_right_x = 0\n",
    "                    lower_right_y = 0\n",
    "\n",
    "            if has_aoi:\n",
    "                disjoint_areas_of_interest.append((aoi, [upper_left_x, upper_left_y, lower_right_x, lower_right_y]))\n",
    "\n",
    "        # create the bounding boxes without None aoi\n",
    "        disjoint_areas_of_interest = [area for area in disjoint_areas_of_interest if area[0] != \"None\"]\n",
    "        df_bounding_box.loc[len(df_bounding_box)] = [algorithm, programming_style.replace(\"_\", \"-\"), disjoint_areas_of_interest, dimension]\n",
    "df_bounding_box"
   ],
   "metadata": {
    "collapsed": false,
    "pycharm": {
     "name": "#%%\n"
    }
   }
  },
  {
   "cell_type": "markdown",
   "source": [
    "## Map the Visual Attention Measures to the Areas of Interest"
   ],
   "metadata": {
    "collapsed": false,
    "pycharm": {
     "name": "#%% md\n"
    }
   }
  },
  {
   "cell_type": "code",
   "execution_count": 7,
   "outputs": [],
   "source": [
    "def get_ellipse_mask(center, x_radius, y_radius, dimension, std_value = 1.0):\n",
    "    \"\"\"\n",
    "    Returns a mask of an ellipse with the given center, x-radius, and y-radius.\n",
    "    \"\"\"\n",
    "    x_dim = max(center[0]+2*x_radius+1, dimension[0])\n",
    "    y_dim = max(center[1]+2*y_radius+1, dimension[1])\n",
    "    mask = np.zeros((y_dim, x_dim), dtype=np.float32)\n",
    "    rr, cc = ellipse(center[1], center[0], y_radius, x_radius)\n",
    "    mask[rr, cc] = std_value\n",
    "    mask = mask[:dimension[1], :dimension[0]]\n",
    "    return mask\n",
    "\n",
    "def get_rectangular_mask(points, dimension, std_value = 1.0):\n",
    "    \"\"\"\n",
    "    Returns a mask of a rectangular with the given points.\n",
    "    \"\"\"\n",
    "    x_dim = max(points[2]+1, dimension[0])\n",
    "    y_dim = max(points[3]+1, dimension[1])\n",
    "    mask = np.zeros((y_dim, x_dim), dtype=np.float32)\n",
    "    mask[points[1]:points[3]+1, points[0]:points[2]+1] = std_value\n",
    "    mask = mask[:dimension[1], :dimension[0]]\n",
    "    return mask"
   ],
   "metadata": {
    "collapsed": false,
    "pycharm": {
     "name": "#%%\n"
    }
   }
  },
  {
   "cell_type": "code",
   "execution_count": 8,
   "outputs": [],
   "source": [
    "settings = json.load(open(\"./data/settings.json\"))\n",
    "x_radius = settings[\"radius_x\"]+settings[\"grad_radius\"]//2\n",
    "y_radius = settings[\"radius_y\"]+settings[\"grad_radius\"]//2\n",
    "\n",
    "df = pd.merge(df, df_bounding_box, on=[\"Algorithm\", \"ProgrammingStyle\"])"
   ],
   "metadata": {
    "collapsed": false,
    "pycharm": {
     "name": "#%%\n"
    }
   }
  },
  {
   "cell_type": "code",
   "execution_count": 9,
   "outputs": [
    {
     "data": {
      "text/plain": "      ID    ProgrammingStyle   Algorithm  ResponseTime  Correctness  \\\n0    212           iterative       apply         66794        False   \n1    245           iterative       apply         21078         True   \n2    272           iterative       apply         81561         True   \n3    296           iterative       apply         22825        False   \n4    302           iterative       apply         20310         True   \n..   ...                 ...         ...           ...          ...   \n273  213  list-comprehension  LinkedList        153552        False   \n274  252  list-comprehension  LinkedList         47933         True   \n275  297  list-comprehension  LinkedList         48782         True   \n276  309  list-comprehension  LinkedList         55439        False   \n277  315  list-comprehension  LinkedList         41878         True   \n\n                                             ClickData  \\\n0    [(268, 191), (151, 70), (151, 70), (146, 89), ...   \n1    [(156, 17), (174, 195), (129, 44), (131, 62), ...   \n2        [(188, 192), (104, 34), (132, 69), (149, 89)]   \n3    [(160, 195), (122, 115), (148, 9), (138, 34), ...   \n4    [(69, 204), (84, 191), (150, 197), (254, 200),...   \n..                                                 ...   \n273  [(42, 22), (65, 45), (51, 123), (81, 143), (11...   \n274  [(110, 12), (118, 37), (101, 117), (126, 142),...   \n275  [(80, 9), (90, 33), (88, 125), (103, 146), (10...   \n276  [(78, 15), (80, 37), (81, 117), (109, 146), (1...   \n277  [(82, 120), (102, 669), (301, 689), (98, 713),...   \n\n                                              TimeData  NumberOfClicks  \\\n0    [10.105, 34.435, 35.005, 39.192, 47.146, 56.58...               8   \n1    [1.123, 3.472, 14.145, 14.878, 16.035, 19.911,...               7   \n2                     [16.519, 78.023, 79.043, 81.561]               4   \n3    [4.194, 11.386, 13.568, 14.369, 15.567, 17.215...               8   \n4    [4.193, 5.008, 5.85, 6.351, 8.856, 10.441, 11....               9   \n..                                                 ...             ...   \n273  [4.155, 9.379, 12.561, 13.652, 21.857, 23.971,...              51   \n274  [3.853, 4.218, 8.66, 9.02, 9.434, 9.893, 11.02...              39   \n275  [3.545, 4.213, 6.711, 7.143, 7.7, 8.598, 9.962...              37   \n276  [3.924, 4.856, 5.841, 6.974, 7.497, 8.04, 10.4...              36   \n277  [5.602, 8.135, 9.452, 16.605, 18.846, 19.738, ...              25   \n\n     AverageTimeOfClicks                                      BoundingBoxes  \\\n0               8.349250  [(IterationHead, [2, 58, 224, 78]), (InputPrep...   \n1               3.011143  [(IterationHead, [2, 58, 224, 78]), (InputPrep...   \n2              20.390250  [(IterationHead, [2, 58, 224, 78]), (InputPrep...   \n3               2.853125  [(IterationHead, [2, 58, 224, 78]), (InputPrep...   \n4               2.256667  [(IterationHead, [2, 58, 224, 78]), (InputPrep...   \n..                   ...                                                ...   \n273             3.010824  [(Class, [2, 111, 360, 598]), (InputPreparatio...   \n274             1.229051  [(Class, [2, 111, 360, 598]), (InputPreparatio...   \n275             1.318432  [(Class, [2, 111, 360, 598]), (InputPreparatio...   \n276             1.539972  [(Class, [2, 111, 360, 598]), (InputPreparatio...   \n277             1.675120  [(Class, [2, 111, 360, 598]), (InputPreparatio...   \n\n    ImageDimension  \n0       (394, 244)  \n1       (394, 244)  \n2       (394, 244)  \n3       (394, 244)  \n4       (394, 244)  \n..             ...  \n273    (706, 1232)  \n274    (706, 1232)  \n275    (706, 1232)  \n276    (706, 1232)  \n277    (706, 1232)  \n\n[278 rows x 11 columns]",
      "text/html": "<div>\n<style scoped>\n    .dataframe tbody tr th:only-of-type {\n        vertical-align: middle;\n    }\n\n    .dataframe tbody tr th {\n        vertical-align: top;\n    }\n\n    .dataframe thead th {\n        text-align: right;\n    }\n</style>\n<table border=\"1\" class=\"dataframe\">\n  <thead>\n    <tr style=\"text-align: right;\">\n      <th></th>\n      <th>ID</th>\n      <th>ProgrammingStyle</th>\n      <th>Algorithm</th>\n      <th>ResponseTime</th>\n      <th>Correctness</th>\n      <th>ClickData</th>\n      <th>TimeData</th>\n      <th>NumberOfClicks</th>\n      <th>AverageTimeOfClicks</th>\n      <th>BoundingBoxes</th>\n      <th>ImageDimension</th>\n    </tr>\n  </thead>\n  <tbody>\n    <tr>\n      <th>0</th>\n      <td>212</td>\n      <td>iterative</td>\n      <td>apply</td>\n      <td>66794</td>\n      <td>False</td>\n      <td>[(268, 191), (151, 70), (151, 70), (146, 89), ...</td>\n      <td>[10.105, 34.435, 35.005, 39.192, 47.146, 56.58...</td>\n      <td>8</td>\n      <td>8.349250</td>\n      <td>[(IterationHead, [2, 58, 224, 78]), (InputPrep...</td>\n      <td>(394, 244)</td>\n    </tr>\n    <tr>\n      <th>1</th>\n      <td>245</td>\n      <td>iterative</td>\n      <td>apply</td>\n      <td>21078</td>\n      <td>True</td>\n      <td>[(156, 17), (174, 195), (129, 44), (131, 62), ...</td>\n      <td>[1.123, 3.472, 14.145, 14.878, 16.035, 19.911,...</td>\n      <td>7</td>\n      <td>3.011143</td>\n      <td>[(IterationHead, [2, 58, 224, 78]), (InputPrep...</td>\n      <td>(394, 244)</td>\n    </tr>\n    <tr>\n      <th>2</th>\n      <td>272</td>\n      <td>iterative</td>\n      <td>apply</td>\n      <td>81561</td>\n      <td>True</td>\n      <td>[(188, 192), (104, 34), (132, 69), (149, 89)]</td>\n      <td>[16.519, 78.023, 79.043, 81.561]</td>\n      <td>4</td>\n      <td>20.390250</td>\n      <td>[(IterationHead, [2, 58, 224, 78]), (InputPrep...</td>\n      <td>(394, 244)</td>\n    </tr>\n    <tr>\n      <th>3</th>\n      <td>296</td>\n      <td>iterative</td>\n      <td>apply</td>\n      <td>22825</td>\n      <td>False</td>\n      <td>[(160, 195), (122, 115), (148, 9), (138, 34), ...</td>\n      <td>[4.194, 11.386, 13.568, 14.369, 15.567, 17.215...</td>\n      <td>8</td>\n      <td>2.853125</td>\n      <td>[(IterationHead, [2, 58, 224, 78]), (InputPrep...</td>\n      <td>(394, 244)</td>\n    </tr>\n    <tr>\n      <th>4</th>\n      <td>302</td>\n      <td>iterative</td>\n      <td>apply</td>\n      <td>20310</td>\n      <td>True</td>\n      <td>[(69, 204), (84, 191), (150, 197), (254, 200),...</td>\n      <td>[4.193, 5.008, 5.85, 6.351, 8.856, 10.441, 11....</td>\n      <td>9</td>\n      <td>2.256667</td>\n      <td>[(IterationHead, [2, 58, 224, 78]), (InputPrep...</td>\n      <td>(394, 244)</td>\n    </tr>\n    <tr>\n      <th>...</th>\n      <td>...</td>\n      <td>...</td>\n      <td>...</td>\n      <td>...</td>\n      <td>...</td>\n      <td>...</td>\n      <td>...</td>\n      <td>...</td>\n      <td>...</td>\n      <td>...</td>\n      <td>...</td>\n    </tr>\n    <tr>\n      <th>273</th>\n      <td>213</td>\n      <td>list-comprehension</td>\n      <td>LinkedList</td>\n      <td>153552</td>\n      <td>False</td>\n      <td>[(42, 22), (65, 45), (51, 123), (81, 143), (11...</td>\n      <td>[4.155, 9.379, 12.561, 13.652, 21.857, 23.971,...</td>\n      <td>51</td>\n      <td>3.010824</td>\n      <td>[(Class, [2, 111, 360, 598]), (InputPreparatio...</td>\n      <td>(706, 1232)</td>\n    </tr>\n    <tr>\n      <th>274</th>\n      <td>252</td>\n      <td>list-comprehension</td>\n      <td>LinkedList</td>\n      <td>47933</td>\n      <td>True</td>\n      <td>[(110, 12), (118, 37), (101, 117), (126, 142),...</td>\n      <td>[3.853, 4.218, 8.66, 9.02, 9.434, 9.893, 11.02...</td>\n      <td>39</td>\n      <td>1.229051</td>\n      <td>[(Class, [2, 111, 360, 598]), (InputPreparatio...</td>\n      <td>(706, 1232)</td>\n    </tr>\n    <tr>\n      <th>275</th>\n      <td>297</td>\n      <td>list-comprehension</td>\n      <td>LinkedList</td>\n      <td>48782</td>\n      <td>True</td>\n      <td>[(80, 9), (90, 33), (88, 125), (103, 146), (10...</td>\n      <td>[3.545, 4.213, 6.711, 7.143, 7.7, 8.598, 9.962...</td>\n      <td>37</td>\n      <td>1.318432</td>\n      <td>[(Class, [2, 111, 360, 598]), (InputPreparatio...</td>\n      <td>(706, 1232)</td>\n    </tr>\n    <tr>\n      <th>276</th>\n      <td>309</td>\n      <td>list-comprehension</td>\n      <td>LinkedList</td>\n      <td>55439</td>\n      <td>False</td>\n      <td>[(78, 15), (80, 37), (81, 117), (109, 146), (1...</td>\n      <td>[3.924, 4.856, 5.841, 6.974, 7.497, 8.04, 10.4...</td>\n      <td>36</td>\n      <td>1.539972</td>\n      <td>[(Class, [2, 111, 360, 598]), (InputPreparatio...</td>\n      <td>(706, 1232)</td>\n    </tr>\n    <tr>\n      <th>277</th>\n      <td>315</td>\n      <td>list-comprehension</td>\n      <td>LinkedList</td>\n      <td>41878</td>\n      <td>True</td>\n      <td>[(82, 120), (102, 669), (301, 689), (98, 713),...</td>\n      <td>[5.602, 8.135, 9.452, 16.605, 18.846, 19.738, ...</td>\n      <td>25</td>\n      <td>1.675120</td>\n      <td>[(Class, [2, 111, 360, 598]), (InputPreparatio...</td>\n      <td>(706, 1232)</td>\n    </tr>\n  </tbody>\n</table>\n<p>278 rows × 11 columns</p>\n</div>"
     },
     "execution_count": 9,
     "metadata": {},
     "output_type": "execute_result"
    }
   ],
   "source": [
    "df"
   ],
   "metadata": {
    "collapsed": false,
    "pycharm": {
     "name": "#%%\n"
    }
   }
  },
  {
   "cell_type": "code",
   "execution_count": 10,
   "outputs": [
    {
     "data": {
      "text/plain": "  0%|          | 0/278 [00:00<?, ?it/s]",
      "application/vnd.jupyter.widget-view+json": {
       "version_major": 2,
       "version_minor": 0,
       "model_id": "937b480c1cd14bb2af283194ccac9b4d"
      }
     },
     "metadata": {},
     "output_type": "display_data"
    },
    {
     "data": {
      "text/plain": "       Algorithm    ProgrammingStyle Participant Number  Duration  \\\n0          apply           iterative         212      0    10.105   \n1          apply           iterative         212      1    24.330   \n2          apply           iterative         212      2     0.570   \n3          apply           iterative         212      3     4.187   \n4          apply           iterative         212      4     7.954   \n...          ...                 ...         ...    ...       ...   \n6597  LinkedList  list-comprehension         315     20     3.786   \n6598  LinkedList  list-comprehension         315     21     0.533   \n6599  LinkedList  list-comprehension         315     22     0.468   \n6600  LinkedList  list-comprehension         315     23     0.484   \n6601  LinkedList  list-comprehension         315     24     0.515   \n\n                                       AOI Correctness  \n0     {InputPreparation, StartOfAlgorithm}       False  \n1          {MethodBody, Iteration, Method}       False  \n2          {MethodBody, Iteration, Method}       False  \n3          {MethodBody, Iteration, Method}       False  \n4              {MethodDeclaration, Method}       False  \n...                                    ...         ...  \n6597                    {InputPreparation}        True  \n6598                    {InputPreparation}        True  \n6599                    {InputPreparation}        True  \n6600                    {InputPreparation}        True  \n6601  {InputPreparation, StartOfAlgorithm}        True  \n\n[6602 rows x 7 columns]",
      "text/html": "<div>\n<style scoped>\n    .dataframe tbody tr th:only-of-type {\n        vertical-align: middle;\n    }\n\n    .dataframe tbody tr th {\n        vertical-align: top;\n    }\n\n    .dataframe thead th {\n        text-align: right;\n    }\n</style>\n<table border=\"1\" class=\"dataframe\">\n  <thead>\n    <tr style=\"text-align: right;\">\n      <th></th>\n      <th>Algorithm</th>\n      <th>ProgrammingStyle</th>\n      <th>Participant</th>\n      <th>Number</th>\n      <th>Duration</th>\n      <th>AOI</th>\n      <th>Correctness</th>\n    </tr>\n  </thead>\n  <tbody>\n    <tr>\n      <th>0</th>\n      <td>apply</td>\n      <td>iterative</td>\n      <td>212</td>\n      <td>0</td>\n      <td>10.105</td>\n      <td>{InputPreparation, StartOfAlgorithm}</td>\n      <td>False</td>\n    </tr>\n    <tr>\n      <th>1</th>\n      <td>apply</td>\n      <td>iterative</td>\n      <td>212</td>\n      <td>1</td>\n      <td>24.330</td>\n      <td>{MethodBody, Iteration, Method}</td>\n      <td>False</td>\n    </tr>\n    <tr>\n      <th>2</th>\n      <td>apply</td>\n      <td>iterative</td>\n      <td>212</td>\n      <td>2</td>\n      <td>0.570</td>\n      <td>{MethodBody, Iteration, Method}</td>\n      <td>False</td>\n    </tr>\n    <tr>\n      <th>3</th>\n      <td>apply</td>\n      <td>iterative</td>\n      <td>212</td>\n      <td>3</td>\n      <td>4.187</td>\n      <td>{MethodBody, Iteration, Method}</td>\n      <td>False</td>\n    </tr>\n    <tr>\n      <th>4</th>\n      <td>apply</td>\n      <td>iterative</td>\n      <td>212</td>\n      <td>4</td>\n      <td>7.954</td>\n      <td>{MethodDeclaration, Method}</td>\n      <td>False</td>\n    </tr>\n    <tr>\n      <th>...</th>\n      <td>...</td>\n      <td>...</td>\n      <td>...</td>\n      <td>...</td>\n      <td>...</td>\n      <td>...</td>\n      <td>...</td>\n    </tr>\n    <tr>\n      <th>6597</th>\n      <td>LinkedList</td>\n      <td>list-comprehension</td>\n      <td>315</td>\n      <td>20</td>\n      <td>3.786</td>\n      <td>{InputPreparation}</td>\n      <td>True</td>\n    </tr>\n    <tr>\n      <th>6598</th>\n      <td>LinkedList</td>\n      <td>list-comprehension</td>\n      <td>315</td>\n      <td>21</td>\n      <td>0.533</td>\n      <td>{InputPreparation}</td>\n      <td>True</td>\n    </tr>\n    <tr>\n      <th>6599</th>\n      <td>LinkedList</td>\n      <td>list-comprehension</td>\n      <td>315</td>\n      <td>22</td>\n      <td>0.468</td>\n      <td>{InputPreparation}</td>\n      <td>True</td>\n    </tr>\n    <tr>\n      <th>6600</th>\n      <td>LinkedList</td>\n      <td>list-comprehension</td>\n      <td>315</td>\n      <td>23</td>\n      <td>0.484</td>\n      <td>{InputPreparation}</td>\n      <td>True</td>\n    </tr>\n    <tr>\n      <th>6601</th>\n      <td>LinkedList</td>\n      <td>list-comprehension</td>\n      <td>315</td>\n      <td>24</td>\n      <td>0.515</td>\n      <td>{InputPreparation, StartOfAlgorithm}</td>\n      <td>True</td>\n    </tr>\n  </tbody>\n</table>\n<p>6602 rows × 7 columns</p>\n</div>"
     },
     "execution_count": 10,
     "metadata": {},
     "output_type": "execute_result"
    }
   ],
   "source": [
    "df_aoi = pd.DataFrame([], columns=[\"Algorithm\", \"ProgrammingStyle\", \"Participant\", \"Number\", \"Duration\", \"AOI\", \"Correctness\"])\n",
    "iteration_categroies = [\"Iteration\", \"IterationHead\", \"IterationBody\"]\n",
    "recursive_categroies = [\"RecursiveCall\", \"RecursiveBaseCase\"]\n",
    "list_comprehension_categroies = [\"ListComprehension\"]\n",
    "higher_order_categroies = [\"HigherOrder\"]\n",
    "\n",
    "for idx, row in tqdm(df.iterrows(), total=df.shape[0]):\n",
    "    algorithm = row[\"Algorithm\"]\n",
    "    programming_style = row[\"ProgrammingStyle\"]\n",
    "    dimension = row[\"ImageDimension\"]\n",
    "    clicks = row[\"ClickData\"]\n",
    "    participant = row[\"ID\"]\n",
    "    correctness = row[\"Correctness\"]\n",
    "\n",
    "    duration_per_click = row[\"TimeData\"]\n",
    "    duration_tmp = [duration_per_click[0]]\n",
    "    for duration_idx, value in enumerate(duration_per_click):\n",
    "        if duration_idx == 0:\n",
    "            continue\n",
    "        duration_tmp.append(value-duration_per_click[duration_idx-1])\n",
    "    duration_per_click = duration_tmp\n",
    "\n",
    "    bounding_boxes = row[\"BoundingBoxes\"]\n",
    "    mask_bounding_boxes = [get_rectangular_mask(bounding_box, dimension) for _, bounding_box in bounding_boxes]\n",
    "    names_of_bounding_boxes = [aoi_name for aoi_name, _ in bounding_boxes]\n",
    "\n",
    "    for idx, (click, duration) in enumerate(zip(clicks, duration_per_click)):\n",
    "        # get elliptical mask\n",
    "        click_mask = get_ellipse_mask(click, x_radius, y_radius, dimension)\n",
    "        aois_visited = set()\n",
    "        # check if the click is in the bounding box of an aoi\n",
    "        for bounding_box_name, bounding_box_mask in zip(names_of_bounding_boxes, mask_bounding_boxes):\n",
    "            if np.sum(click_mask*bounding_box_mask) > 0:\n",
    "                aois_visited.add(bounding_box_name)\n",
    "        aois_visited_tmp = set()\n",
    "        for aoi_name in aois_visited:\n",
    "            if aoi_name in iteration_categroies:\n",
    "                aois_visited_tmp.add(\"Iteration\")\n",
    "            elif aoi_name in recursive_categroies:\n",
    "                aois_visited_tmp.add(\"Recursion\")\n",
    "            elif aoi_name in list_comprehension_categroies:\n",
    "                aois_visited_tmp.add(\"ListComprehension\")\n",
    "            elif aoi_name in higher_order_categroies:\n",
    "                aois_visited_tmp.add(\"HigherOrder\")\n",
    "            else:\n",
    "                aois_visited_tmp.add(aoi_name)\n",
    "        aois_visited = aois_visited_tmp\n",
    "\n",
    "        df_aoi.loc[len(df_aoi)] = [algorithm, programming_style, participant, idx, duration, aois_visited, correctness]\n",
    "\n",
    "df_aoi.reset_index(drop=True)\n",
    "df_aoi"
   ],
   "metadata": {
    "collapsed": false,
    "pycharm": {
     "name": "#%%\n"
    }
   }
  },
  {
   "cell_type": "markdown",
   "source": [
    "## Calculate Transition Matrix"
   ],
   "metadata": {
    "collapsed": false,
    "pycharm": {
     "name": "#%% md\n"
    }
   }
  },
  {
   "cell_type": "code",
   "execution_count": 11,
   "outputs": [
    {
     "data": {
      "text/plain": "  0%|          | 0/3 [00:00<?, ?it/s]",
      "application/vnd.jupyter.widget-view+json": {
       "version_major": 2,
       "version_minor": 0,
       "model_id": "4168712c124548f1b0d04950c9ca2312"
      }
     },
     "metadata": {},
     "output_type": "display_data"
    },
    {
     "data": {
      "text/plain": "    ProgrammingStyle      Algorithm Participant   Kind  \\\n0       higher-order     LinkedList         204  total   \n1       higher-order     LinkedList         230  total   \n2       higher-order     LinkedList         264  total   \n3       higher-order     LinkedList         296  total   \n4       higher-order     LinkedList         313  total   \n..               ...            ...         ...    ...   \n551        recursive  prime_factors         317  false   \n552        recursive       quad_mul         295  false   \n553        recursive          store         294  false   \n554        recursive          store         318  false   \n555        recursive          store         320  false   \n\n                                      TransitionMatrix  \n0    [[0.08695652173913043, 0.014492753623188406, 0...  \n1    [[0.09090909090909091, 0.0, 0.0909090909090909...  \n2    [[0.0975609756097561, 0.04878048780487805, 0.0...  \n3    [[0.03225806451612903, 0.0, 0.0322580645161290...  \n4    [[0.0425531914893617, 0.0, 0.0425531914893617,...  \n..                                                 ...  \n551  [[0.5, 0.041666666666666664, 0.5, 0.0, 0.0, 0....  \n552  [[0.6, 0.0, 0.6, 0.0, 0.0, 0.0, 0.6, 0.0, 0.0,...  \n553  [[0.12658227848101267, 0.0, 0.1265822784810126...  \n554  [[0.030303030303030304, 0.0, 0.030303030303030...  \n555  [[0.13924050632911392, 0.02531645569620253, 0....  \n\n[556 rows x 5 columns]",
      "text/html": "<div>\n<style scoped>\n    .dataframe tbody tr th:only-of-type {\n        vertical-align: middle;\n    }\n\n    .dataframe tbody tr th {\n        vertical-align: top;\n    }\n\n    .dataframe thead th {\n        text-align: right;\n    }\n</style>\n<table border=\"1\" class=\"dataframe\">\n  <thead>\n    <tr style=\"text-align: right;\">\n      <th></th>\n      <th>ProgrammingStyle</th>\n      <th>Algorithm</th>\n      <th>Participant</th>\n      <th>Kind</th>\n      <th>TransitionMatrix</th>\n    </tr>\n  </thead>\n  <tbody>\n    <tr>\n      <th>0</th>\n      <td>higher-order</td>\n      <td>LinkedList</td>\n      <td>204</td>\n      <td>total</td>\n      <td>[[0.08695652173913043, 0.014492753623188406, 0...</td>\n    </tr>\n    <tr>\n      <th>1</th>\n      <td>higher-order</td>\n      <td>LinkedList</td>\n      <td>230</td>\n      <td>total</td>\n      <td>[[0.09090909090909091, 0.0, 0.0909090909090909...</td>\n    </tr>\n    <tr>\n      <th>2</th>\n      <td>higher-order</td>\n      <td>LinkedList</td>\n      <td>264</td>\n      <td>total</td>\n      <td>[[0.0975609756097561, 0.04878048780487805, 0.0...</td>\n    </tr>\n    <tr>\n      <th>3</th>\n      <td>higher-order</td>\n      <td>LinkedList</td>\n      <td>296</td>\n      <td>total</td>\n      <td>[[0.03225806451612903, 0.0, 0.0322580645161290...</td>\n    </tr>\n    <tr>\n      <th>4</th>\n      <td>higher-order</td>\n      <td>LinkedList</td>\n      <td>313</td>\n      <td>total</td>\n      <td>[[0.0425531914893617, 0.0, 0.0425531914893617,...</td>\n    </tr>\n    <tr>\n      <th>...</th>\n      <td>...</td>\n      <td>...</td>\n      <td>...</td>\n      <td>...</td>\n      <td>...</td>\n    </tr>\n    <tr>\n      <th>551</th>\n      <td>recursive</td>\n      <td>prime_factors</td>\n      <td>317</td>\n      <td>false</td>\n      <td>[[0.5, 0.041666666666666664, 0.5, 0.0, 0.0, 0....</td>\n    </tr>\n    <tr>\n      <th>552</th>\n      <td>recursive</td>\n      <td>quad_mul</td>\n      <td>295</td>\n      <td>false</td>\n      <td>[[0.6, 0.0, 0.6, 0.0, 0.0, 0.0, 0.6, 0.0, 0.0,...</td>\n    </tr>\n    <tr>\n      <th>553</th>\n      <td>recursive</td>\n      <td>store</td>\n      <td>294</td>\n      <td>false</td>\n      <td>[[0.12658227848101267, 0.0, 0.1265822784810126...</td>\n    </tr>\n    <tr>\n      <th>554</th>\n      <td>recursive</td>\n      <td>store</td>\n      <td>318</td>\n      <td>false</td>\n      <td>[[0.030303030303030304, 0.0, 0.030303030303030...</td>\n    </tr>\n    <tr>\n      <th>555</th>\n      <td>recursive</td>\n      <td>store</td>\n      <td>320</td>\n      <td>false</td>\n      <td>[[0.13924050632911392, 0.02531645569620253, 0....</td>\n    </tr>\n  </tbody>\n</table>\n<p>556 rows × 5 columns</p>\n</div>"
     },
     "execution_count": 11,
     "metadata": {},
     "output_type": "execute_result"
    }
   ],
   "source": [
    "df_aoi_transition = pd.DataFrame(columns=[\"ProgrammingStyle\", \"Algorithm\", \"Participant\", \"Kind\", \"TransitionMatrix\"])\n",
    "for kind in tqdm([\"total\", \"true\", \"false\"]):\n",
    "    if kind == \"total\":\n",
    "        df_sub = df_aoi\n",
    "    elif kind == \"true\":\n",
    "        df_sub = df_aoi[df_aoi[\"Correctness\"] == True]\n",
    "    else:\n",
    "        df_sub = df_aoi[df_aoi[\"Correctness\"] == False]\n",
    "\n",
    "    for (programming_style, algorithm, participant), df_group in df_sub.groupby([\"ProgrammingStyle\", \"Algorithm\", \"Participant\"]):\n",
    "        df_group = df_group.sort_values(by=\"Number\")\n",
    "        transition_matrix = np.zeros((len(aoi_names_convoluted), len(aoi_names_convoluted)))\n",
    "        for idx in range(len(df_group)-1):\n",
    "            aois_visited_1 = df_group.iloc[idx][\"AOI\"]\n",
    "            aois_visited_2 = df_group.iloc[idx+1][\"AOI\"]\n",
    "            for aoi_name_1 in aois_visited_1:\n",
    "                for aoi_name_2 in aois_visited_2:\n",
    "                    aoi_name_1 = aoi_name_to_convoluted_name(aoi_name_1)\n",
    "                    aoi_name_2 = aoi_name_to_convoluted_name(aoi_name_2)\n",
    "                    transition_matrix[aoi_names_convoluted.index(aoi_name_1), aoi_names_convoluted.index(aoi_name_2)] += 1\n",
    "        transition_matrix = transition_matrix/len(df_group)\n",
    "        df_aoi_transition.loc[len(df_aoi_transition)] = [programming_style, algorithm, participant, kind, None]\n",
    "        df_aoi_transition.at[len(df_aoi_transition)-1, \"TransitionMatrix\"] = transition_matrix\n",
    "df_aoi_transition"
   ],
   "metadata": {
    "collapsed": false,
    "pycharm": {
     "name": "#%%\n"
    }
   }
  },
  {
   "cell_type": "code",
   "execution_count": 12,
   "outputs": [
    {
     "data": {
      "text/plain": "  0%|          | 0/3 [00:00<?, ?it/s]",
      "application/vnd.jupyter.widget-view+json": {
       "version_major": 2,
       "version_minor": 0,
       "model_id": "8fe49a317cd24eb6b6b8ef02c45c4f07"
      }
     },
     "metadata": {},
     "output_type": "display_data"
    },
    {
     "data": {
      "text/plain": "      ProgrammingStyle   Kind  \\\n0         higher-order  total   \n1            iterative  total   \n2   list-comprehension  total   \n3            recursive  total   \n4         higher-order   true   \n5            iterative   true   \n6   list-comprehension   true   \n7            recursive   true   \n8         higher-order  false   \n9            iterative  false   \n10  list-comprehension  false   \n11           recursive  false   \n\n                                     TransitionMatrix  \n0   [[0.3355797521233509, 0.05275622261314986, 0.3...  \n1   [[0.5196596843847211, 0.0397736106523612, 0.50...  \n2   [[0.3011750918591055, 0.05639484165680418, 0.2...  \n3   [[0.5049710070807852, 0.03978584347699314, 0.4...  \n4   [[0.3486883771703353, 0.060814427956970334, 0....  \n5   [[0.5107155177260455, 0.032599853406749216, 0....  \n6   [[0.29235057013935245, 0.058000289985985276, 0...  \n7   [[0.5601652400162976, 0.03805559892763271, 0.5...  \n8   [[0.29081424731109984, 0.028107594502640214, 0...  \n9   [[0.5444426406926407, 0.07683802308802308, 0.4...  \n10  [[0.3123486496371867, 0.05318394499844201, 0.2...  \n11  [[0.37524649355132905, 0.043765405940522126, 0...  ",
      "text/html": "<div>\n<style scoped>\n    .dataframe tbody tr th:only-of-type {\n        vertical-align: middle;\n    }\n\n    .dataframe tbody tr th {\n        vertical-align: top;\n    }\n\n    .dataframe thead th {\n        text-align: right;\n    }\n</style>\n<table border=\"1\" class=\"dataframe\">\n  <thead>\n    <tr style=\"text-align: right;\">\n      <th></th>\n      <th>ProgrammingStyle</th>\n      <th>Kind</th>\n      <th>TransitionMatrix</th>\n    </tr>\n  </thead>\n  <tbody>\n    <tr>\n      <th>0</th>\n      <td>higher-order</td>\n      <td>total</td>\n      <td>[[0.3355797521233509, 0.05275622261314986, 0.3...</td>\n    </tr>\n    <tr>\n      <th>1</th>\n      <td>iterative</td>\n      <td>total</td>\n      <td>[[0.5196596843847211, 0.0397736106523612, 0.50...</td>\n    </tr>\n    <tr>\n      <th>2</th>\n      <td>list-comprehension</td>\n      <td>total</td>\n      <td>[[0.3011750918591055, 0.05639484165680418, 0.2...</td>\n    </tr>\n    <tr>\n      <th>3</th>\n      <td>recursive</td>\n      <td>total</td>\n      <td>[[0.5049710070807852, 0.03978584347699314, 0.4...</td>\n    </tr>\n    <tr>\n      <th>4</th>\n      <td>higher-order</td>\n      <td>true</td>\n      <td>[[0.3486883771703353, 0.060814427956970334, 0....</td>\n    </tr>\n    <tr>\n      <th>5</th>\n      <td>iterative</td>\n      <td>true</td>\n      <td>[[0.5107155177260455, 0.032599853406749216, 0....</td>\n    </tr>\n    <tr>\n      <th>6</th>\n      <td>list-comprehension</td>\n      <td>true</td>\n      <td>[[0.29235057013935245, 0.058000289985985276, 0...</td>\n    </tr>\n    <tr>\n      <th>7</th>\n      <td>recursive</td>\n      <td>true</td>\n      <td>[[0.5601652400162976, 0.03805559892763271, 0.5...</td>\n    </tr>\n    <tr>\n      <th>8</th>\n      <td>higher-order</td>\n      <td>false</td>\n      <td>[[0.29081424731109984, 0.028107594502640214, 0...</td>\n    </tr>\n    <tr>\n      <th>9</th>\n      <td>iterative</td>\n      <td>false</td>\n      <td>[[0.5444426406926407, 0.07683802308802308, 0.4...</td>\n    </tr>\n    <tr>\n      <th>10</th>\n      <td>list-comprehension</td>\n      <td>false</td>\n      <td>[[0.3123486496371867, 0.05318394499844201, 0.2...</td>\n    </tr>\n    <tr>\n      <th>11</th>\n      <td>recursive</td>\n      <td>false</td>\n      <td>[[0.37524649355132905, 0.043765405940522126, 0...</td>\n    </tr>\n  </tbody>\n</table>\n</div>"
     },
     "execution_count": 12,
     "metadata": {},
     "output_type": "execute_result"
    }
   ],
   "source": [
    "df_aoi_transition_tmp = df_aoi_transition\n",
    "df_transition = pd.DataFrame(columns=[\"ProgrammingStyle\", \"Kind\", \"TransitionMatrix\"])\n",
    "for kind in tqdm([\"total\", \"true\", \"false\"]):\n",
    "    df_sub = df_aoi_transition_tmp[df_aoi_transition_tmp[\"Kind\"] == kind]\n",
    "    for programming_style, df_group in df_sub.groupby(\"ProgrammingStyle\"):\n",
    "        transition_matrix = np.zeros((len(aoi_names_convoluted), len(aoi_names_convoluted)))\n",
    "        for idx in range(len(df_group)-1):\n",
    "            transition_matrix += df_group.iloc[idx][\"TransitionMatrix\"]\n",
    "        transition_matrix = transition_matrix/len(df_group)\n",
    "        df_transition.loc[len(df_transition)] = [programming_style, kind, None]\n",
    "        df_transition.at[len(df_transition)-1, \"TransitionMatrix\"] = transition_matrix\n",
    "df_transition"
   ],
   "metadata": {
    "collapsed": false,
    "pycharm": {
     "name": "#%%\n"
    }
   }
  },
  {
   "cell_type": "markdown",
   "source": [
    "## Chord Diagrams"
   ],
   "metadata": {
    "collapsed": false,
    "pycharm": {
     "name": "#%% md\n"
    }
   }
  },
  {
   "cell_type": "code",
   "execution_count": 18,
   "outputs": [],
   "source": [
    "def chord(data, names, colors, title, path, diagonal_to_zero=False):\n",
    "    data_tmp = data.copy()\n",
    "    if diagonal_to_zero:\n",
    "        np.fill_diagonal(data_tmp, 0)\n",
    "    fig, ax = plt.subplots(figsize=(15, 15))\n",
    "    chord_diagram(data_tmp, names=names, colors=colors, ax=ax, use_gradient=True, rotate_names=True)\n",
    "    plt.tight_layout()\n",
    "    plt.savefig(path)\n",
    "    plt.close('all')"
   ],
   "metadata": {
    "collapsed": false,
    "pycharm": {
     "name": "#%%\n"
    }
   }
  },
  {
   "cell_type": "code",
   "execution_count": 19,
   "outputs": [
    {
     "data": {
      "text/plain": "  0%|          | 0/12 [00:00<?, ?it/s]",
      "application/vnd.jupyter.widget-view+json": {
       "version_major": 2,
       "version_minor": 0,
       "model_id": "7dd3080a976a4aa19a539017ecdad7f7"
      }
     },
     "metadata": {},
     "output_type": "display_data"
    }
   ],
   "source": [
    "kick_outs_names = [\"Method\", \"HelperDeclaration\", \"HelperBody\"]\n",
    "kick_outs = [aoi_names_convoluted.index(aoi_name) for aoi_name in kick_outs_names]\n",
    "kick_outs = list(reversed(sorted(kick_outs)))\n",
    "aoi_names_tmp = [aoi_name for aoi_name in aoi_names_convoluted if aoi_name not in kick_outs_names]\n",
    "aoi_colors_tmp = [aoi_colors_convoluted[aoi_names_convoluted.index(aoi_name)] for aoi_name in aoi_names_tmp]\n",
    "for idx in tqdm(range(len(df_transition))):\n",
    "    programming_style = df_transition[\"ProgrammingStyle\"].values[idx]\n",
    "    transition_matrix = df_transition[\"TransitionMatrix\"].values[idx]\n",
    "    kind = df_transition[\"Kind\"].values[idx]\n",
    "    # kick out the rows and columns in kick_outs\n",
    "    transition_matrix = np.delete(np.delete(transition_matrix, kick_outs, axis=0), kick_outs, axis=1)\n",
    "    chord(transition_matrix, aoi_names_tmp, aoi_colors_tmp,\n",
    "          f\"{programming_style}-{kind}: Transition with Self Transitions\",\n",
    "          f\"./results/RQ2/chord/RQ2_Chord_{programming_style}_{kind}_WithSelf.png\",\n",
    "          diagonal_to_zero=False)\n",
    "    chord(transition_matrix, aoi_names_tmp, aoi_colors_tmp,\n",
    "          f\"{programming_style}-{kind} Transition without Self Transitions\",\n",
    "          f\"./results/RQ2/chord/RQ2_Chord_{programming_style}_{kind}_WithoutSelf.png\",\n",
    "          diagonal_to_zero=True)"
   ],
   "metadata": {
    "collapsed": false,
    "pycharm": {
     "name": "#%%\n"
    }
   }
  },
  {
   "cell_type": "code",
   "execution_count": 16,
   "outputs": [
    {
     "data": {
      "text/plain": "      ProgrammingStyle   Kind  \\\n0         higher-order  total   \n1            iterative  total   \n2   list-comprehension  total   \n3            recursive  total   \n4         higher-order   true   \n5            iterative   true   \n6   list-comprehension   true   \n7            recursive   true   \n8         higher-order  false   \n9            iterative  false   \n10  list-comprehension  false   \n11           recursive  false   \n\n                                     TransitionMatrix  \n0   [[0.3355797521233509, 0.05275622261314986, 0.3...  \n1   [[0.5196596843847211, 0.0397736106523612, 0.50...  \n2   [[0.3011750918591055, 0.05639484165680418, 0.2...  \n3   [[0.5049710070807852, 0.03978584347699314, 0.4...  \n4   [[0.3486883771703353, 0.060814427956970334, 0....  \n5   [[0.5107155177260455, 0.032599853406749216, 0....  \n6   [[0.29235057013935245, 0.058000289985985276, 0...  \n7   [[0.5601652400162976, 0.03805559892763271, 0.5...  \n8   [[0.29081424731109984, 0.028107594502640214, 0...  \n9   [[0.5444426406926407, 0.07683802308802308, 0.4...  \n10  [[0.3123486496371867, 0.05318394499844201, 0.2...  \n11  [[0.37524649355132905, 0.043765405940522126, 0...  ",
      "text/html": "<div>\n<style scoped>\n    .dataframe tbody tr th:only-of-type {\n        vertical-align: middle;\n    }\n\n    .dataframe tbody tr th {\n        vertical-align: top;\n    }\n\n    .dataframe thead th {\n        text-align: right;\n    }\n</style>\n<table border=\"1\" class=\"dataframe\">\n  <thead>\n    <tr style=\"text-align: right;\">\n      <th></th>\n      <th>ProgrammingStyle</th>\n      <th>Kind</th>\n      <th>TransitionMatrix</th>\n    </tr>\n  </thead>\n  <tbody>\n    <tr>\n      <th>0</th>\n      <td>higher-order</td>\n      <td>total</td>\n      <td>[[0.3355797521233509, 0.05275622261314986, 0.3...</td>\n    </tr>\n    <tr>\n      <th>1</th>\n      <td>iterative</td>\n      <td>total</td>\n      <td>[[0.5196596843847211, 0.0397736106523612, 0.50...</td>\n    </tr>\n    <tr>\n      <th>2</th>\n      <td>list-comprehension</td>\n      <td>total</td>\n      <td>[[0.3011750918591055, 0.05639484165680418, 0.2...</td>\n    </tr>\n    <tr>\n      <th>3</th>\n      <td>recursive</td>\n      <td>total</td>\n      <td>[[0.5049710070807852, 0.03978584347699314, 0.4...</td>\n    </tr>\n    <tr>\n      <th>4</th>\n      <td>higher-order</td>\n      <td>true</td>\n      <td>[[0.3486883771703353, 0.060814427956970334, 0....</td>\n    </tr>\n    <tr>\n      <th>5</th>\n      <td>iterative</td>\n      <td>true</td>\n      <td>[[0.5107155177260455, 0.032599853406749216, 0....</td>\n    </tr>\n    <tr>\n      <th>6</th>\n      <td>list-comprehension</td>\n      <td>true</td>\n      <td>[[0.29235057013935245, 0.058000289985985276, 0...</td>\n    </tr>\n    <tr>\n      <th>7</th>\n      <td>recursive</td>\n      <td>true</td>\n      <td>[[0.5601652400162976, 0.03805559892763271, 0.5...</td>\n    </tr>\n    <tr>\n      <th>8</th>\n      <td>higher-order</td>\n      <td>false</td>\n      <td>[[0.29081424731109984, 0.028107594502640214, 0...</td>\n    </tr>\n    <tr>\n      <th>9</th>\n      <td>iterative</td>\n      <td>false</td>\n      <td>[[0.5444426406926407, 0.07683802308802308, 0.4...</td>\n    </tr>\n    <tr>\n      <th>10</th>\n      <td>list-comprehension</td>\n      <td>false</td>\n      <td>[[0.3123486496371867, 0.05318394499844201, 0.2...</td>\n    </tr>\n    <tr>\n      <th>11</th>\n      <td>recursive</td>\n      <td>false</td>\n      <td>[[0.37524649355132905, 0.043765405940522126, 0...</td>\n    </tr>\n  </tbody>\n</table>\n</div>"
     },
     "execution_count": 16,
     "metadata": {},
     "output_type": "execute_result"
    }
   ],
   "source": [
    "df_transition\n",
    "df_distance = pd.DataFrame(columns=[\"Factor\", \"Category_a\", \"Category_b\", \"Distance\"])\n",
    "for idx, df_group in df_transition.groupby(\"ProgrammingStyle\"):\n",
    "    matrix_right = df_group[df_group[\"Kind\"] == \"true\"][\"TransitionMatrix\"].values[0]\n",
    "    matrix_wrong = df_group[df_group[\"Kind\"] == \"false\"][\"TransitionMatrix\"].values[0]\n",
    "    distance = np.linalg.norm(matrix_right-matrix_wrong)\n",
    "    df_distance.loc[len(df_distance)] = [\"Response\", \"true\", \"false\", distance]\n",
    "df_transition_total = df_transition[df_transition[\"Kind\"] == \"total\"]\n",
    "styles = df_transition_total[\"ProgrammingStyle\"].unique()\n",
    "for idx, style_a in enumerate(styles):\n",
    "    for style_b in styles[idx+1:]:\n",
    "        matrix_a = df_transition_total[df_transition_total[\"ProgrammingStyle\"] == style_a][\"TransitionMatrix\"].values[0]\n",
    "        matrix_b = df_transition_total[df_transition_total[\"ProgrammingStyle\"] == style_b][\"TransitionMatrix\"].values[0]\n",
    "        distance = np.linalg.norm(matrix_a-matrix_b)\n",
    "        df_distance.loc[len(df_distance)] = [\"Style\", style_a, style_b, distance]\n",
    "sns.violinplot(x=\"Factor\", y=\"Distance\", data=df_distance, palette=\"Blues\")\n",
    "plt.ylim(0, 1)\n",
    "plt.savefig(\"./results/RQ2/figures/RQ2_Chord_Similarity.png\")\n",
    "plt.show()"
   ],
   "metadata": {
    "collapsed": false,
    "pycharm": {
     "name": "#%%\n"
    }
   }
  },
  {
   "cell_type": "code",
   "execution_count": 16,
   "outputs": [],
   "source": [],
   "metadata": {
    "collapsed": false,
    "pycharm": {
     "name": "#%%\n"
    }
   }
  }
 ],
 "metadata": {
  "kernelspec": {
   "display_name": "Python 3",
   "language": "python",
   "name": "python3"
  },
  "language_info": {
   "codemirror_mode": {
    "name": "ipython",
    "version": 2
   },
   "file_extension": ".py",
   "mimetype": "text/x-python",
   "name": "python",
   "nbconvert_exporter": "python",
   "pygments_lexer": "ipython2",
   "version": "2.7.6"
  }
 },
 "nbformat": 4,
 "nbformat_minor": 0
}