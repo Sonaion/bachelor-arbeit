{
 "cells": [
  {
   "cell_type": "markdown",
   "metadata": {
    "collapsed": true,
    "pycharm": {
     "name": "#%% md\n"
    }
   },
   "source": [
    "# Visual Attention per Area Of Interest"
   ]
  },
  {
   "cell_type": "code",
   "execution_count": 16,
   "outputs": [],
   "source": [
    "import pandas as pd\n",
    "import regex as re\n",
    "import matplotlib.pyplot as plt\n",
    "import seaborn as sns\n",
    "import json\n",
    "import modules.GenSnippetsLib as snippets\n",
    "from pygments.lexers import PythonLexer\n",
    "from tqdm.notebook import tqdm\n",
    "import PIL\n",
    "import PIL.Image\n",
    "import numpy as np\n",
    "from skimage.draw import ellipse\n",
    "import scipy.stats as stats\n",
    "plt.rcParams['savefig.facecolor']='white'"
   ],
   "metadata": {
    "collapsed": false,
    "pycharm": {
     "name": "#%%\n"
    }
   }
  },
  {
   "cell_type": "markdown",
   "source": [
    "## Load The Data"
   ],
   "metadata": {
    "collapsed": false,
    "pycharm": {
     "name": "#%% md\n"
    }
   }
  },
  {
   "cell_type": "code",
   "execution_count": 2,
   "outputs": [],
   "source": [
    "def click_data_to_list(click_data_string):\n",
    "    click_data_list = []\n",
    "    for click in click_data_string.split(\" \"):\n",
    "        click = click.split(\"-\")\n",
    "        # extract the x and y coordinates from a string via regex\n",
    "        x = int(re.search(r'\\d+', click[0])[0])\n",
    "        y = int(re.search(r'\\d+', click[1])[0])\n",
    "        click_data_list.append((x, y))\n",
    "    return click_data_list#\n",
    "\n",
    "def time_data_to_list(time_data_string):\n",
    "    time_data_list = []\n",
    "    for time in time_data_string.split(\" \"):\n",
    "        time_data_list.append(float(time) / 1000)\n",
    "    return time_data_list"
   ],
   "metadata": {
    "collapsed": false,
    "pycharm": {
     "name": "#%%\n"
    }
   }
  },
  {
   "cell_type": "code",
   "execution_count": 3,
   "outputs": [],
   "source": [
    "df = pd.read_csv('./data/preprocessed_experiment_data.csv')\n",
    "df = df[df[\"Outlier\"] == False]\n",
    "df = df.drop(columns=[\"Outlier\"])\n",
    "\n",
    "df[\"ClickData\"] = df[\"ClickData\"].apply(lambda x: click_data_to_list(x))\n",
    "df[\"TimeData\"] = df[\"TimeData\"].apply(lambda x: time_data_to_list(x))\n",
    "df[\"NumberOfClicks\"] = df[\"ClickData\"].apply(lambda x: len(x))\n",
    "df[\"AverageTimeOfClicks\"] = (df[\"ResponseTime\"] / 1000) / df[\"NumberOfClicks\"]"
   ],
   "metadata": {
    "collapsed": false,
    "pycharm": {
     "name": "#%%\n"
    }
   }
  },
  {
   "cell_type": "markdown",
   "source": [
    "## Create the Bounding Boxes of the Areas of Interest"
   ],
   "metadata": {
    "collapsed": false,
    "pycharm": {
     "name": "#%% md\n"
    }
   }
  },
  {
   "cell_type": "code",
   "execution_count": 4,
   "outputs": [],
   "source": [
    "# prepare color mapping for aois\n",
    "algorithms = df[[\"Algorithm\"]].sort_values(by=\"Algorithm\")[\"Algorithm\"].unique()\n",
    "programming_styles = df[[\"ProgrammingStyle\"]].sort_values(by=\"ProgrammingStyle\")[\"ProgrammingStyle\"].unique()\n",
    "algorithms = [x for x in algorithms]\n",
    "programming_styles = [x.replace(\"-\", \"_\") for x in programming_styles]\n",
    "\n",
    "color_palette = sns.color_palette(\"hls\", 16)\n",
    "color_palette_mapping = {\n",
    "    \"Method\" : color_palette[0],\n",
    "    \"MethodDeclaration\" : color_palette[1],\n",
    "    \"MethodBody\" : color_palette[2],\n",
    "    \"Helper\" : color_palette[3],\n",
    "    \"HelperDeclaration\" : color_palette[4],\n",
    "    \"HelperBody\" : color_palette[5],\n",
    "    \"Iteration\" : color_palette[6],\n",
    "    \"IterationHead\" : color_palette[7],\n",
    "    \"IterationBody\" : color_palette[8],\n",
    "    \"RecursiveCall\" : color_palette[9],\n",
    "    \"RecursiveBaseCase\" : color_palette[10],\n",
    "    \"HigherOrder\" : color_palette[11],\n",
    "    \"ListComprehension\" : color_palette[12],\n",
    "    \"InputPreparation\" : color_palette[13],\n",
    "    \"StartOfAlgorithm\" : color_palette[14],\n",
    "    \"Class\" : color_palette[15],\n",
    "}\n",
    "aoi_colors = color_palette\n",
    "aoi_numbers = {name : idx for idx, (name, _value) in enumerate(color_palette_mapping.items())}\n",
    "aoi_names = [name for name, _value in color_palette_mapping.items()]\n",
    "\n",
    "def aoi_idx_to_convoluted_idx(aoi_idx):\n",
    "    if aoi_idx < 5:\n",
    "        return aoi_idx\n",
    "    if 6 <= aoi_idx <= 12:\n",
    "        return 6\n",
    "    if 13 <= aoi_idx:\n",
    "        return aoi_idx-6\n",
    "\n",
    "def aoi_name_to_convoluted_name(aoi_name):\n",
    "    if aoi_name in [\"Iteration\", \"IterationHead\", \"IterationBody\",\n",
    "                    \"Recursion\", \"RecursiveCall\", \"RecursiveBaseCase\",\n",
    "                    \"HigherOrder\",\n",
    "                    \"ListComprehension\"]:\n",
    "        return \"StyleSpecific\"\n",
    "    return aoi_name\n",
    "\n",
    "color_palette = sns.color_palette(\"hls\", 10)\n",
    "color_palette_mapping_convoluted = {\n",
    "    \"Method\" : color_palette[0],\n",
    "    \"MethodDeclaration\" : color_palette[1],\n",
    "    \"MethodBody\" : color_palette[2],\n",
    "    \"Helper\" : color_palette[3],\n",
    "    \"HelperDeclaration\" : color_palette[4],\n",
    "    \"HelperBody\" : color_palette[5],\n",
    "    \"StyleSpecific\" : color_palette[6],\n",
    "    \"InputPreparation\" : color_palette[7],\n",
    "    \"StartOfAlgorithm\" : color_palette[8],\n",
    "    \"Class\" : color_palette[9],\n",
    "}\n",
    "aoi_colors_convoluted = color_palette\n",
    "aoi_numbers_convoluted = {name : idx for idx, (name, _value) in enumerate(color_palette_mapping_convoluted.items())}\n",
    "aoi_names_convoluted = [name for name, _value in color_palette_mapping_convoluted.items()]"
   ],
   "metadata": {
    "collapsed": false,
    "pycharm": {
     "name": "#%%\n"
    }
   }
  },
  {
   "cell_type": "code",
   "execution_count": 5,
   "outputs": [
    {
     "data": {
      "text/plain": "  0%|          | 0/11 [00:00<?, ?it/s]",
      "application/vnd.jupyter.widget-view+json": {
       "version_major": 2,
       "version_minor": 0,
       "model_id": "233913d3b0354317b5d3ba3039f8d0b2"
      }
     },
     "metadata": {},
     "output_type": "display_data"
    },
    {
     "data": {
      "text/plain": "       Algorithm    ProgrammingStyle  \\\n0     LinkedList        higher-order   \n0     LinkedList           iterative   \n0     LinkedList  list-comprehension   \n0     LinkedList           recursive   \n0          apply        higher-order   \n0          apply           iterative   \n0          apply  list-comprehension   \n0          apply           recursive   \n0       computer        higher-order   \n0       computer           iterative   \n0       computer  list-comprehension   \n0       computer           recursive   \n0  condition_sum        higher-order   \n0  condition_sum           iterative   \n0  condition_sum  list-comprehension   \n0  condition_sum           recursive   \n0           find        higher-order   \n0           find           iterative   \n0           find  list-comprehension   \n0           find           recursive   \n0       is_prime        higher-order   \n0       is_prime           iterative   \n0       is_prime  list-comprehension   \n0       is_prime           recursive   \n0            max        higher-order   \n0            max           iterative   \n0            max  list-comprehension   \n0            max           recursive   \n0           node        higher-order   \n0           node           iterative   \n0           node  list-comprehension   \n0           node           recursive   \n0  prime_factors        higher-order   \n0  prime_factors           iterative   \n0  prime_factors  list-comprehension   \n0  prime_factors           recursive   \n0       quad_mul        higher-order   \n0       quad_mul           iterative   \n0       quad_mul  list-comprehension   \n0       quad_mul           recursive   \n0          store        higher-order   \n0          store           iterative   \n0          store  list-comprehension   \n0          store           recursive   \n\n                                       BoundingBoxes ImageDimension  \n0  [(MethodBody, [2, 681, 593, 754]), (HigherOrde...    (594, 1206)  \n0  [(MethodBody, [2, 579, 344, 699]), (IterationH...    (362, 1154)  \n0  [(MethodBody, [2, 681, 705, 779]), (ListCompre...    (706, 1232)  \n0  [(RecursiveCall, [258, 343, 504, 364]), (Recur...     (506, 868)  \n0  [(HigherOrder, [130, 31, 304, 52]), (MethodBod...     (394, 166)  \n0  [(MethodBody, [2, 31, 280, 127]), (IterationHe...     (394, 244)  \n0  [(MethodBody, [34, 31, 376, 52]), (ListCompreh...     (394, 166)  \n0  [(RecursiveCall, [314, 109, 560, 130]), (Metho...     (562, 244)  \n0  [(MethodBody, [2, 395, 880, 416]), (HigherOrde...     (882, 738)  \n0  [(MethodBody, [2, 395, 736, 517]), (IterationH...     (738, 842)  \n0  [(MethodBody, [2, 395, 1088, 416]), (ListCompr...    (1090, 738)  \n0  [(RecursiveCall, [298, 473, 528, 494]), (Recur...     (922, 868)  \n0  [(HigherOrder, [138, 109, 618, 130]), (HigherO...     (618, 270)  \n0  [(MethodBody, [2, 31, 298, 231]), (IterationHe...     (298, 348)  \n0  [(MethodBody, [2, 109, 722, 207]), (ListCompre...     (722, 322)  \n0  [(RecursiveCall, [154, 109, 280, 129]), (Recur...     (282, 296)  \n0  [(HigherOrder, [170, 135, 824, 156]), (HigherO...     (826, 296)  \n0  [(MethodBody, [2, 31, 360, 127]), (IterationHe...     (362, 244)  \n0  [(MethodBody, [2, 109, 656, 130]), (ListCompre...     (658, 244)  \n0  [(RecursiveCall, [114, 161, 384, 182]), (Metho...     (386, 400)  \n0  [(HigherOrder, [146, 57, 529, 78]), (MethodBod...     (530, 218)  \n0  [(MethodBody, [2, 32, 416, 179]), (IterationHe...     (418, 296)  \n0  [(MethodBody, [2, 31, 673, 52]), (ListComprehe...     (674, 166)  \n0  [(RecursiveCall, [90, 239, 328, 260]), (Method...     (330, 374)  \n0  [(HigherOrder, [90, 109, 504, 130]), (MethodBo...     (506, 244)  \n0  [(MethodBody, [2, 31, 240, 233]), (IterationHe...     (242, 348)  \n0  [(MethodBody, [2, 109, 544, 181]), (ListCompre...     (546, 296)  \n0  [(RecursiveCall, [122, 109, 440, 130]), (Recur...     (442, 348)  \n0  [(MethodBody, [2, 577, 520, 650]), (HigherOrde...     (522, 842)  \n0  [(MethodBody, [2, 657, 432, 777]), (IterationH...     (434, 972)  \n0  [(MethodBody, [2, 473, 792, 571]), (ListCompre...     (794, 764)  \n0  [(RecursiveCall, [122, 681, 400, 702]), (Recur...    (642, 1310)  \n0  [(HelperDeclaration, [2, 5, 160, 26]), (Helper...     (530, 374)  \n0  [(HelperDeclaration, [2, 5, 160, 26]), (Helper...     (434, 504)  \n0  [(HelperDeclaration, [2, 5, 160, 26]), (Helper...     (690, 270)  \n0  [(RecursiveCall, [90, 239, 312, 260]), (Recurs...     (538, 894)  \n0  [(HigherOrder, [138, 109, 448, 130]), (HigherO...     (450, 270)  \n0  [(MethodBody, [2, 31, 272, 205]), (IterationHe...     (274, 322)  \n0  [(MethodBody, [2, 109, 440, 207]), (ListCompre...     (442, 322)  \n0  [(RecursiveCall, [162, 83, 288, 103]), (Method...     (290, 218)  \n0  [(MethodBody, [2, 915, 856, 1040]), (HigherOrd...    (858, 1752)  \n0  [(MethodBody, [2, 915, 376, 1349]), (Iteration...    (426, 2064)  \n0  [(MethodBody, [2, 915, 840, 987]), (ListCompre...    (842, 1700)  \n0  [(RecursiveCall, [274, 967, 472, 988]), (Recur...    (618, 2272)  ",
      "text/html": "<div>\n<style scoped>\n    .dataframe tbody tr th:only-of-type {\n        vertical-align: middle;\n    }\n\n    .dataframe tbody tr th {\n        vertical-align: top;\n    }\n\n    .dataframe thead th {\n        text-align: right;\n    }\n</style>\n<table border=\"1\" class=\"dataframe\">\n  <thead>\n    <tr style=\"text-align: right;\">\n      <th></th>\n      <th>Algorithm</th>\n      <th>ProgrammingStyle</th>\n      <th>BoundingBoxes</th>\n      <th>ImageDimension</th>\n    </tr>\n  </thead>\n  <tbody>\n    <tr>\n      <th>0</th>\n      <td>LinkedList</td>\n      <td>higher-order</td>\n      <td>[(MethodBody, [2, 681, 593, 754]), (HigherOrde...</td>\n      <td>(594, 1206)</td>\n    </tr>\n    <tr>\n      <th>0</th>\n      <td>LinkedList</td>\n      <td>iterative</td>\n      <td>[(MethodBody, [2, 579, 344, 699]), (IterationH...</td>\n      <td>(362, 1154)</td>\n    </tr>\n    <tr>\n      <th>0</th>\n      <td>LinkedList</td>\n      <td>list-comprehension</td>\n      <td>[(MethodBody, [2, 681, 705, 779]), (ListCompre...</td>\n      <td>(706, 1232)</td>\n    </tr>\n    <tr>\n      <th>0</th>\n      <td>LinkedList</td>\n      <td>recursive</td>\n      <td>[(RecursiveCall, [258, 343, 504, 364]), (Recur...</td>\n      <td>(506, 868)</td>\n    </tr>\n    <tr>\n      <th>0</th>\n      <td>apply</td>\n      <td>higher-order</td>\n      <td>[(HigherOrder, [130, 31, 304, 52]), (MethodBod...</td>\n      <td>(394, 166)</td>\n    </tr>\n    <tr>\n      <th>0</th>\n      <td>apply</td>\n      <td>iterative</td>\n      <td>[(MethodBody, [2, 31, 280, 127]), (IterationHe...</td>\n      <td>(394, 244)</td>\n    </tr>\n    <tr>\n      <th>0</th>\n      <td>apply</td>\n      <td>list-comprehension</td>\n      <td>[(MethodBody, [34, 31, 376, 52]), (ListCompreh...</td>\n      <td>(394, 166)</td>\n    </tr>\n    <tr>\n      <th>0</th>\n      <td>apply</td>\n      <td>recursive</td>\n      <td>[(RecursiveCall, [314, 109, 560, 130]), (Metho...</td>\n      <td>(562, 244)</td>\n    </tr>\n    <tr>\n      <th>0</th>\n      <td>computer</td>\n      <td>higher-order</td>\n      <td>[(MethodBody, [2, 395, 880, 416]), (HigherOrde...</td>\n      <td>(882, 738)</td>\n    </tr>\n    <tr>\n      <th>0</th>\n      <td>computer</td>\n      <td>iterative</td>\n      <td>[(MethodBody, [2, 395, 736, 517]), (IterationH...</td>\n      <td>(738, 842)</td>\n    </tr>\n    <tr>\n      <th>0</th>\n      <td>computer</td>\n      <td>list-comprehension</td>\n      <td>[(MethodBody, [2, 395, 1088, 416]), (ListCompr...</td>\n      <td>(1090, 738)</td>\n    </tr>\n    <tr>\n      <th>0</th>\n      <td>computer</td>\n      <td>recursive</td>\n      <td>[(RecursiveCall, [298, 473, 528, 494]), (Recur...</td>\n      <td>(922, 868)</td>\n    </tr>\n    <tr>\n      <th>0</th>\n      <td>condition_sum</td>\n      <td>higher-order</td>\n      <td>[(HigherOrder, [138, 109, 618, 130]), (HigherO...</td>\n      <td>(618, 270)</td>\n    </tr>\n    <tr>\n      <th>0</th>\n      <td>condition_sum</td>\n      <td>iterative</td>\n      <td>[(MethodBody, [2, 31, 298, 231]), (IterationHe...</td>\n      <td>(298, 348)</td>\n    </tr>\n    <tr>\n      <th>0</th>\n      <td>condition_sum</td>\n      <td>list-comprehension</td>\n      <td>[(MethodBody, [2, 109, 722, 207]), (ListCompre...</td>\n      <td>(722, 322)</td>\n    </tr>\n    <tr>\n      <th>0</th>\n      <td>condition_sum</td>\n      <td>recursive</td>\n      <td>[(RecursiveCall, [154, 109, 280, 129]), (Recur...</td>\n      <td>(282, 296)</td>\n    </tr>\n    <tr>\n      <th>0</th>\n      <td>find</td>\n      <td>higher-order</td>\n      <td>[(HigherOrder, [170, 135, 824, 156]), (HigherO...</td>\n      <td>(826, 296)</td>\n    </tr>\n    <tr>\n      <th>0</th>\n      <td>find</td>\n      <td>iterative</td>\n      <td>[(MethodBody, [2, 31, 360, 127]), (IterationHe...</td>\n      <td>(362, 244)</td>\n    </tr>\n    <tr>\n      <th>0</th>\n      <td>find</td>\n      <td>list-comprehension</td>\n      <td>[(MethodBody, [2, 109, 656, 130]), (ListCompre...</td>\n      <td>(658, 244)</td>\n    </tr>\n    <tr>\n      <th>0</th>\n      <td>find</td>\n      <td>recursive</td>\n      <td>[(RecursiveCall, [114, 161, 384, 182]), (Metho...</td>\n      <td>(386, 400)</td>\n    </tr>\n    <tr>\n      <th>0</th>\n      <td>is_prime</td>\n      <td>higher-order</td>\n      <td>[(HigherOrder, [146, 57, 529, 78]), (MethodBod...</td>\n      <td>(530, 218)</td>\n    </tr>\n    <tr>\n      <th>0</th>\n      <td>is_prime</td>\n      <td>iterative</td>\n      <td>[(MethodBody, [2, 32, 416, 179]), (IterationHe...</td>\n      <td>(418, 296)</td>\n    </tr>\n    <tr>\n      <th>0</th>\n      <td>is_prime</td>\n      <td>list-comprehension</td>\n      <td>[(MethodBody, [2, 31, 673, 52]), (ListComprehe...</td>\n      <td>(674, 166)</td>\n    </tr>\n    <tr>\n      <th>0</th>\n      <td>is_prime</td>\n      <td>recursive</td>\n      <td>[(RecursiveCall, [90, 239, 328, 260]), (Method...</td>\n      <td>(330, 374)</td>\n    </tr>\n    <tr>\n      <th>0</th>\n      <td>max</td>\n      <td>higher-order</td>\n      <td>[(HigherOrder, [90, 109, 504, 130]), (MethodBo...</td>\n      <td>(506, 244)</td>\n    </tr>\n    <tr>\n      <th>0</th>\n      <td>max</td>\n      <td>iterative</td>\n      <td>[(MethodBody, [2, 31, 240, 233]), (IterationHe...</td>\n      <td>(242, 348)</td>\n    </tr>\n    <tr>\n      <th>0</th>\n      <td>max</td>\n      <td>list-comprehension</td>\n      <td>[(MethodBody, [2, 109, 544, 181]), (ListCompre...</td>\n      <td>(546, 296)</td>\n    </tr>\n    <tr>\n      <th>0</th>\n      <td>max</td>\n      <td>recursive</td>\n      <td>[(RecursiveCall, [122, 109, 440, 130]), (Recur...</td>\n      <td>(442, 348)</td>\n    </tr>\n    <tr>\n      <th>0</th>\n      <td>node</td>\n      <td>higher-order</td>\n      <td>[(MethodBody, [2, 577, 520, 650]), (HigherOrde...</td>\n      <td>(522, 842)</td>\n    </tr>\n    <tr>\n      <th>0</th>\n      <td>node</td>\n      <td>iterative</td>\n      <td>[(MethodBody, [2, 657, 432, 777]), (IterationH...</td>\n      <td>(434, 972)</td>\n    </tr>\n    <tr>\n      <th>0</th>\n      <td>node</td>\n      <td>list-comprehension</td>\n      <td>[(MethodBody, [2, 473, 792, 571]), (ListCompre...</td>\n      <td>(794, 764)</td>\n    </tr>\n    <tr>\n      <th>0</th>\n      <td>node</td>\n      <td>recursive</td>\n      <td>[(RecursiveCall, [122, 681, 400, 702]), (Recur...</td>\n      <td>(642, 1310)</td>\n    </tr>\n    <tr>\n      <th>0</th>\n      <td>prime_factors</td>\n      <td>higher-order</td>\n      <td>[(HelperDeclaration, [2, 5, 160, 26]), (Helper...</td>\n      <td>(530, 374)</td>\n    </tr>\n    <tr>\n      <th>0</th>\n      <td>prime_factors</td>\n      <td>iterative</td>\n      <td>[(HelperDeclaration, [2, 5, 160, 26]), (Helper...</td>\n      <td>(434, 504)</td>\n    </tr>\n    <tr>\n      <th>0</th>\n      <td>prime_factors</td>\n      <td>list-comprehension</td>\n      <td>[(HelperDeclaration, [2, 5, 160, 26]), (Helper...</td>\n      <td>(690, 270)</td>\n    </tr>\n    <tr>\n      <th>0</th>\n      <td>prime_factors</td>\n      <td>recursive</td>\n      <td>[(RecursiveCall, [90, 239, 312, 260]), (Recurs...</td>\n      <td>(538, 894)</td>\n    </tr>\n    <tr>\n      <th>0</th>\n      <td>quad_mul</td>\n      <td>higher-order</td>\n      <td>[(HigherOrder, [138, 109, 448, 130]), (HigherO...</td>\n      <td>(450, 270)</td>\n    </tr>\n    <tr>\n      <th>0</th>\n      <td>quad_mul</td>\n      <td>iterative</td>\n      <td>[(MethodBody, [2, 31, 272, 205]), (IterationHe...</td>\n      <td>(274, 322)</td>\n    </tr>\n    <tr>\n      <th>0</th>\n      <td>quad_mul</td>\n      <td>list-comprehension</td>\n      <td>[(MethodBody, [2, 109, 440, 207]), (ListCompre...</td>\n      <td>(442, 322)</td>\n    </tr>\n    <tr>\n      <th>0</th>\n      <td>quad_mul</td>\n      <td>recursive</td>\n      <td>[(RecursiveCall, [162, 83, 288, 103]), (Method...</td>\n      <td>(290, 218)</td>\n    </tr>\n    <tr>\n      <th>0</th>\n      <td>store</td>\n      <td>higher-order</td>\n      <td>[(MethodBody, [2, 915, 856, 1040]), (HigherOrd...</td>\n      <td>(858, 1752)</td>\n    </tr>\n    <tr>\n      <th>0</th>\n      <td>store</td>\n      <td>iterative</td>\n      <td>[(MethodBody, [2, 915, 376, 1349]), (Iteration...</td>\n      <td>(426, 2064)</td>\n    </tr>\n    <tr>\n      <th>0</th>\n      <td>store</td>\n      <td>list-comprehension</td>\n      <td>[(MethodBody, [2, 915, 840, 987]), (ListCompre...</td>\n      <td>(842, 1700)</td>\n    </tr>\n    <tr>\n      <th>0</th>\n      <td>store</td>\n      <td>recursive</td>\n      <td>[(RecursiveCall, [274, 967, 472, 988]), (Recur...</td>\n      <td>(618, 2272)</td>\n    </tr>\n  </tbody>\n</table>\n</div>"
     },
     "execution_count": 5,
     "metadata": {},
     "output_type": "execute_result"
    }
   ],
   "source": [
    "# create bounding boxes and visualize them\n",
    "def from_canvas(fig):\n",
    "    lst = list(fig.canvas.get_width_height())\n",
    "    lst.append(3)\n",
    "    return PIL.Image.fromarray(np.frombuffer(fig.canvas.tostring_rgb(),dtype=np.uint8).reshape(lst))\n",
    "\n",
    "df_bounding_box = pd.DataFrame(columns=[\"Algorithm\", \"ProgrammingStyle\", \"BoundingBoxes\", \"ImageDimension\"])\n",
    "font_path=\"\\\\data\\\\fonts\\\\ttf\\\\\"\n",
    "offset = 3\n",
    "\n",
    "\n",
    "for algorithm in tqdm(algorithms):\n",
    "    for programming_style in programming_styles:\n",
    "        # load the image and generate bb code info\n",
    "        file_name = './data/CodeSnippets/Generators/' + algorithm + '_' + programming_style + '.json'\n",
    "        try:\n",
    "            image, result = snippets.create_image(file_name, font_path=font_path, lexer=PythonLexer)\n",
    "            y, x = image.size[::-1]\n",
    "            dimension = (x, y)\n",
    "        except Exception as e:\n",
    "            print(file_name + \":\" + str(e))\n",
    "            continue\n",
    "        # extract the areas of interest in the image\n",
    "        areas_of_interest = set()\n",
    "        for letter in result:\n",
    "            for aoi in letter[\"AOI\"]:\n",
    "                areas_of_interest.add(aoi)\n",
    "\n",
    "        # create the bounding boxes\n",
    "        disjoint_areas_of_interest = []\n",
    "        for aoi in areas_of_interest:\n",
    "            upper_left_x = 0\n",
    "            upper_left_y = 0\n",
    "            lower_right_x = 0\n",
    "            lower_right_y = 0\n",
    "            has_aoi = False\n",
    "            for letter in result:\n",
    "                if letter[\"BoundingBox\"][0] == 0 and letter[\"BoundingBox\"][1] == 0 and letter[\"BoundingBox\"][2] == 0 and letter[\"BoundingBox\"][3] == 0:\n",
    "                    continue\n",
    "\n",
    "                if aoi in letter[\"AOI\"]:\n",
    "                    if not has_aoi:\n",
    "                        upper_left_x = letter[\"BoundingBox\"][0] - offset\n",
    "                        upper_left_y = letter[\"BoundingBox\"][1] - offset\n",
    "                        lower_right_x = letter[\"BoundingBox\"][2] + offset\n",
    "                        lower_right_y = letter[\"BoundingBox\"][3] + offset\n",
    "                        has_aoi = True\n",
    "                    else:\n",
    "                        upper_left_x = min(upper_left_x, letter[\"BoundingBox\"][0] - offset)\n",
    "                        upper_left_y = min(upper_left_y, letter[\"BoundingBox\"][1] - offset)\n",
    "                        lower_right_x = max(lower_right_x, letter[\"BoundingBox\"][2] + offset)\n",
    "                        lower_right_y = max(lower_right_y, letter[\"BoundingBox\"][3] + offset)\n",
    "                else:\n",
    "                    if has_aoi:\n",
    "                        disjoint_areas_of_interest.append((aoi, [upper_left_x, upper_left_y, lower_right_x, lower_right_y]))\n",
    "                    has_aoi = False\n",
    "                    upper_left_x = 0\n",
    "                    upper_left_y = 0\n",
    "                    lower_right_x = 0\n",
    "                    lower_right_y = 0\n",
    "\n",
    "            if has_aoi:\n",
    "                disjoint_areas_of_interest.append((aoi, [upper_left_x, upper_left_y, lower_right_x, lower_right_y]))\n",
    "\n",
    "        # create the bounding boxes without None aoi\n",
    "        disjoint_areas_of_interest = [area for area in disjoint_areas_of_interest if area[0] != \"None\"]\n",
    "        df_bounding_box = df_bounding_box.append(pd.DataFrame([[algorithm, programming_style.replace(\"_\", \"-\"), disjoint_areas_of_interest, dimension]], columns=df_bounding_box.columns))\n",
    "df_bounding_box"
   ],
   "metadata": {
    "collapsed": false,
    "pycharm": {
     "name": "#%%\n"
    }
   }
  },
  {
   "cell_type": "markdown",
   "source": [
    "## Map the Visual Attention Measures to the Areas of Interest"
   ],
   "metadata": {
    "collapsed": false,
    "pycharm": {
     "name": "#%% md\n"
    }
   }
  },
  {
   "cell_type": "code",
   "execution_count": 6,
   "outputs": [],
   "source": [
    "def get_ellipse_mask(center, x_radius, y_radius, dimension, std_value = 1.0):\n",
    "    \"\"\"\n",
    "    Returns a mask of an ellipse with the given center, x-radius, and y-radius.\n",
    "    \"\"\"\n",
    "    x_dim = max(center[0]+2*x_radius+1, dimension[0])\n",
    "    y_dim = max(center[1]+2*y_radius+1, dimension[1])\n",
    "    mask = np.zeros((y_dim, x_dim), dtype=np.float32)\n",
    "    rr, cc = ellipse(center[1], center[0], y_radius, x_radius)\n",
    "    mask[rr, cc] = std_value\n",
    "    mask = mask[:dimension[1], :dimension[0]]\n",
    "    return mask\n",
    "\n",
    "def get_rectangular_mask(points, dimension, std_value = 1.0):\n",
    "    \"\"\"\n",
    "    Returns a mask of a rectangular with the given points.\n",
    "    \"\"\"\n",
    "    x_dim = max(points[2]+1, dimension[0])\n",
    "    y_dim = max(points[3]+1, dimension[1])\n",
    "    mask = np.zeros((y_dim, x_dim), dtype=np.float32)\n",
    "    mask[points[1]:points[3]+1, points[0]:points[2]+1] = std_value\n",
    "    mask = mask[:dimension[1], :dimension[0]]\n",
    "    return mask"
   ],
   "metadata": {
    "collapsed": false,
    "pycharm": {
     "name": "#%%\n"
    }
   }
  },
  {
   "cell_type": "code",
   "execution_count": 7,
   "outputs": [],
   "source": [
    "settings = json.load(open(\"./data/settings.json\"))\n",
    "x_radius = settings[\"radius_x\"]+settings[\"grad_radius\"]//2\n",
    "y_radius = settings[\"radius_y\"]+settings[\"grad_radius\"]//2\n",
    "\n",
    "df = pd.merge(df, df_bounding_box, on=[\"Algorithm\", \"ProgrammingStyle\"])"
   ],
   "metadata": {
    "collapsed": false,
    "pycharm": {
     "name": "#%%\n"
    }
   }
  },
  {
   "cell_type": "code",
   "execution_count": 8,
   "outputs": [
    {
     "data": {
      "text/plain": "  0%|          | 0/278 [00:00<?, ?it/s]",
      "application/vnd.jupyter.widget-view+json": {
       "version_major": 2,
       "version_minor": 0,
       "model_id": "9bad87ac736144e19e58a90da93a16fe"
      }
     },
     "metadata": {},
     "output_type": "display_data"
    },
    {
     "data": {
      "text/plain": "       Algorithm    ProgrammingStyle Participant Number  Duration  \\\n0          apply           iterative         212      0    10.105   \n1          apply           iterative         212      1    24.330   \n2          apply           iterative         212      2     0.570   \n3          apply           iterative         212      3     4.187   \n4          apply           iterative         212      4     7.954   \n...          ...                 ...         ...    ...       ...   \n6597  LinkedList  list-comprehension         315     20     3.786   \n6598  LinkedList  list-comprehension         315     21     0.533   \n6599  LinkedList  list-comprehension         315     22     0.468   \n6600  LinkedList  list-comprehension         315     23     0.484   \n6601  LinkedList  list-comprehension         315     24     0.515   \n\n                                       AOI  \n0     {InputPreparation, StartOfAlgorithm}  \n1          {Iteration, MethodBody, Method}  \n2          {Iteration, MethodBody, Method}  \n3          {MethodBody, Method, Iteration}  \n4              {MethodDeclaration, Method}  \n...                                    ...  \n6597                    {InputPreparation}  \n6598                    {InputPreparation}  \n6599                    {InputPreparation}  \n6600                    {InputPreparation}  \n6601  {InputPreparation, StartOfAlgorithm}  \n\n[6602 rows x 6 columns]",
      "text/html": "<div>\n<style scoped>\n    .dataframe tbody tr th:only-of-type {\n        vertical-align: middle;\n    }\n\n    .dataframe tbody tr th {\n        vertical-align: top;\n    }\n\n    .dataframe thead th {\n        text-align: right;\n    }\n</style>\n<table border=\"1\" class=\"dataframe\">\n  <thead>\n    <tr style=\"text-align: right;\">\n      <th></th>\n      <th>Algorithm</th>\n      <th>ProgrammingStyle</th>\n      <th>Participant</th>\n      <th>Number</th>\n      <th>Duration</th>\n      <th>AOI</th>\n    </tr>\n  </thead>\n  <tbody>\n    <tr>\n      <th>0</th>\n      <td>apply</td>\n      <td>iterative</td>\n      <td>212</td>\n      <td>0</td>\n      <td>10.105</td>\n      <td>{InputPreparation, StartOfAlgorithm}</td>\n    </tr>\n    <tr>\n      <th>1</th>\n      <td>apply</td>\n      <td>iterative</td>\n      <td>212</td>\n      <td>1</td>\n      <td>24.330</td>\n      <td>{Iteration, MethodBody, Method}</td>\n    </tr>\n    <tr>\n      <th>2</th>\n      <td>apply</td>\n      <td>iterative</td>\n      <td>212</td>\n      <td>2</td>\n      <td>0.570</td>\n      <td>{Iteration, MethodBody, Method}</td>\n    </tr>\n    <tr>\n      <th>3</th>\n      <td>apply</td>\n      <td>iterative</td>\n      <td>212</td>\n      <td>3</td>\n      <td>4.187</td>\n      <td>{MethodBody, Method, Iteration}</td>\n    </tr>\n    <tr>\n      <th>4</th>\n      <td>apply</td>\n      <td>iterative</td>\n      <td>212</td>\n      <td>4</td>\n      <td>7.954</td>\n      <td>{MethodDeclaration, Method}</td>\n    </tr>\n    <tr>\n      <th>...</th>\n      <td>...</td>\n      <td>...</td>\n      <td>...</td>\n      <td>...</td>\n      <td>...</td>\n      <td>...</td>\n    </tr>\n    <tr>\n      <th>6597</th>\n      <td>LinkedList</td>\n      <td>list-comprehension</td>\n      <td>315</td>\n      <td>20</td>\n      <td>3.786</td>\n      <td>{InputPreparation}</td>\n    </tr>\n    <tr>\n      <th>6598</th>\n      <td>LinkedList</td>\n      <td>list-comprehension</td>\n      <td>315</td>\n      <td>21</td>\n      <td>0.533</td>\n      <td>{InputPreparation}</td>\n    </tr>\n    <tr>\n      <th>6599</th>\n      <td>LinkedList</td>\n      <td>list-comprehension</td>\n      <td>315</td>\n      <td>22</td>\n      <td>0.468</td>\n      <td>{InputPreparation}</td>\n    </tr>\n    <tr>\n      <th>6600</th>\n      <td>LinkedList</td>\n      <td>list-comprehension</td>\n      <td>315</td>\n      <td>23</td>\n      <td>0.484</td>\n      <td>{InputPreparation}</td>\n    </tr>\n    <tr>\n      <th>6601</th>\n      <td>LinkedList</td>\n      <td>list-comprehension</td>\n      <td>315</td>\n      <td>24</td>\n      <td>0.515</td>\n      <td>{InputPreparation, StartOfAlgorithm}</td>\n    </tr>\n  </tbody>\n</table>\n<p>6602 rows × 6 columns</p>\n</div>"
     },
     "execution_count": 8,
     "metadata": {},
     "output_type": "execute_result"
    }
   ],
   "source": [
    "df_aoi = pd.DataFrame([], columns=[\"Algorithm\", \"ProgrammingStyle\", \"Participant\", \"Number\", \"Duration\", \"AOI\"])\n",
    "iteration_categroies = [\"Iteration\", \"IterationHead\", \"IterationBody\"]\n",
    "recursive_categroies = [\"RecursiveCall\", \"RecursiveBaseCase\"]\n",
    "list_comprehension_categroies = [\"ListComprehension\"]\n",
    "higher_order_categroies = [\"HigherOrder\"]\n",
    "\n",
    "for idx, row in tqdm(df.iterrows(), total=df.shape[0]):\n",
    "    algorithm = row[\"Algorithm\"]\n",
    "    programming_style = row[\"ProgrammingStyle\"]\n",
    "    dimension = row[\"ImageDimension\"]\n",
    "    clicks = row[\"ClickData\"]\n",
    "    participant = row[\"ID\"]\n",
    "\n",
    "    duration_per_click = row[\"TimeData\"]\n",
    "    duration_tmp = [duration_per_click[0]]\n",
    "    for duration_idx, value in enumerate(duration_per_click):\n",
    "        if duration_idx == 0:\n",
    "            continue\n",
    "        duration_tmp.append(value-duration_per_click[duration_idx-1])\n",
    "    duration_per_click = duration_tmp\n",
    "\n",
    "    bounding_boxes = row[\"BoundingBoxes\"]\n",
    "    mask_bounding_boxes = [get_rectangular_mask(bounding_box, dimension) for _, bounding_box in bounding_boxes]\n",
    "    names_of_bounding_boxes = [aoi_name for aoi_name, _ in bounding_boxes]\n",
    "\n",
    "    for idx, (click, duration) in enumerate(zip(clicks, duration_per_click)):\n",
    "        # get elliptical mask\n",
    "        click_mask = get_ellipse_mask(click, x_radius, y_radius, dimension)\n",
    "        aois_visited = set()\n",
    "        # check if the click is in the bounding box of an aoi\n",
    "        for bounding_box_name, bounding_box_mask in zip(names_of_bounding_boxes, mask_bounding_boxes):\n",
    "            if np.sum(click_mask*bounding_box_mask) > 0:\n",
    "                aois_visited.add(bounding_box_name)\n",
    "        aois_visited_tmp = set()\n",
    "        for aoi_name in aois_visited:\n",
    "            if aoi_name in iteration_categroies:\n",
    "                aois_visited_tmp.add(\"Iteration\")\n",
    "            elif aoi_name in recursive_categroies:\n",
    "                aois_visited_tmp.add(\"Recursion\")\n",
    "            elif aoi_name in list_comprehension_categroies:\n",
    "                aois_visited_tmp.add(\"ListComprehension\")\n",
    "            elif aoi_name in higher_order_categroies:\n",
    "                aois_visited_tmp.add(\"HigherOrder\")\n",
    "            else:\n",
    "                aois_visited_tmp.add(aoi_name)\n",
    "        aois_visited = aois_visited_tmp\n",
    "\n",
    "        df_aoi.loc[len(df_aoi)] = [algorithm, programming_style, participant, idx, duration, aois_visited]\n",
    "\n",
    "df_aoi.reset_index(drop=True)\n",
    "df_aoi"
   ],
   "metadata": {
    "collapsed": false,
    "pycharm": {
     "name": "#%%\n"
    }
   }
  },
  {
   "cell_type": "markdown",
   "source": [
    "## Confounding factors"
   ],
   "metadata": {
    "collapsed": false,
    "pycharm": {
     "name": "#%% md\n"
    }
   }
  },
  {
   "cell_type": "code",
   "execution_count": 9,
   "outputs": [
    {
     "data": {
      "text/plain": "  0%|          | 0/44 [00:00<?, ?it/s]",
      "application/vnd.jupyter.widget-view+json": {
       "version_major": 2,
       "version_minor": 0,
       "model_id": "87d11cf6dff143e8a8175e560ee574ae"
      }
     },
     "metadata": {},
     "output_type": "display_data"
    },
    {
     "data": {
      "text/plain": "      Algorithm    ProgrammingStyle                AOI    Factor\n0         apply           iterative             Method  0.356963\n1         apply           iterative  MethodDeclaration  0.058355\n2         apply           iterative         MethodBody  0.281507\n3         apply           iterative             Helper  0.000000\n4         apply           iterative  HelperDeclaration  0.000000\n..          ...                 ...                ...       ...\n435  LinkedList  list-comprehension         HelperBody  0.000000\n436  LinkedList  list-comprehension      StyleSpecific  0.022234\n437  LinkedList  list-comprehension   InputPreparation  0.057463\n438  LinkedList  list-comprehension   StartOfAlgorithm  0.004629\n439  LinkedList  list-comprehension              Class  0.201418\n\n[440 rows x 4 columns]",
      "text/html": "<div>\n<style scoped>\n    .dataframe tbody tr th:only-of-type {\n        vertical-align: middle;\n    }\n\n    .dataframe tbody tr th {\n        vertical-align: top;\n    }\n\n    .dataframe thead th {\n        text-align: right;\n    }\n</style>\n<table border=\"1\" class=\"dataframe\">\n  <thead>\n    <tr style=\"text-align: right;\">\n      <th></th>\n      <th>Algorithm</th>\n      <th>ProgrammingStyle</th>\n      <th>AOI</th>\n      <th>Factor</th>\n    </tr>\n  </thead>\n  <tbody>\n    <tr>\n      <th>0</th>\n      <td>apply</td>\n      <td>iterative</td>\n      <td>Method</td>\n      <td>0.356963</td>\n    </tr>\n    <tr>\n      <th>1</th>\n      <td>apply</td>\n      <td>iterative</td>\n      <td>MethodDeclaration</td>\n      <td>0.058355</td>\n    </tr>\n    <tr>\n      <th>2</th>\n      <td>apply</td>\n      <td>iterative</td>\n      <td>MethodBody</td>\n      <td>0.281507</td>\n    </tr>\n    <tr>\n      <th>3</th>\n      <td>apply</td>\n      <td>iterative</td>\n      <td>Helper</td>\n      <td>0.000000</td>\n    </tr>\n    <tr>\n      <th>4</th>\n      <td>apply</td>\n      <td>iterative</td>\n      <td>HelperDeclaration</td>\n      <td>0.000000</td>\n    </tr>\n    <tr>\n      <th>...</th>\n      <td>...</td>\n      <td>...</td>\n      <td>...</td>\n      <td>...</td>\n    </tr>\n    <tr>\n      <th>435</th>\n      <td>LinkedList</td>\n      <td>list-comprehension</td>\n      <td>HelperBody</td>\n      <td>0.000000</td>\n    </tr>\n    <tr>\n      <th>436</th>\n      <td>LinkedList</td>\n      <td>list-comprehension</td>\n      <td>StyleSpecific</td>\n      <td>0.022234</td>\n    </tr>\n    <tr>\n      <th>437</th>\n      <td>LinkedList</td>\n      <td>list-comprehension</td>\n      <td>InputPreparation</td>\n      <td>0.057463</td>\n    </tr>\n    <tr>\n      <th>438</th>\n      <td>LinkedList</td>\n      <td>list-comprehension</td>\n      <td>StartOfAlgorithm</td>\n      <td>0.004629</td>\n    </tr>\n    <tr>\n      <th>439</th>\n      <td>LinkedList</td>\n      <td>list-comprehension</td>\n      <td>Class</td>\n      <td>0.201418</td>\n    </tr>\n  </tbody>\n</table>\n<p>440 rows × 4 columns</p>\n</div>"
     },
     "execution_count": 9,
     "metadata": {},
     "output_type": "execute_result"
    }
   ],
   "source": [
    "df_confounding = pd.DataFrame([], columns=[\"Algorithm\", \"ProgrammingStyle\", \"AOI\", \"Factor\"])\n",
    "\n",
    "df_tmp = df[[\"Algorithm\", \"ProgrammingStyle\", \"BoundingBoxes\", \"ImageDimension\"]]\n",
    "df_tmp = df_tmp.drop_duplicates(subset=[\"Algorithm\", \"ProgrammingStyle\"])\n",
    "for idx, row in tqdm(df_tmp.iterrows(), total=len(df_tmp)):\n",
    "    algorithm = row[\"Algorithm\"]\n",
    "    programming_style = row[\"ProgrammingStyle\"]\n",
    "    bounding_boxes = row[\"BoundingBoxes\"]\n",
    "    image_dimension = row[\"ImageDimension\"]\n",
    "    total = image_dimension[0]*image_dimension[1]\n",
    "\n",
    "    boxes_of_aoi = [[] for _ in range(len(aoi_numbers_convoluted))]\n",
    "\n",
    "    #aoi_name_to_convoluted_name\n",
    "    for bounding_box in bounding_boxes:\n",
    "        aoi_name = bounding_box[0]\n",
    "        bounding_box = bounding_box[1]\n",
    "        aoi_name_convoluted = aoi_name_to_convoluted_name(aoi_name)\n",
    "        aoi_number_convoluted = aoi_numbers_convoluted[aoi_name_convoluted]\n",
    "        boxes_of_aoi[aoi_number_convoluted].append(bounding_box)\n",
    "\n",
    "    size_of_aoi = [0 for _ in range(len(aoi_numbers_convoluted))]\n",
    "    for idx, boxes in enumerate(boxes_of_aoi):\n",
    "        mask = np.zeros((image_dimension[1], image_dimension[0]))\n",
    "        for box in boxes:\n",
    "            mask += get_rectangular_mask(box, image_dimension)\n",
    "        # count values which are not zero\n",
    "        amount = len(mask[mask > 0])\n",
    "        factor = amount/total\n",
    "        size_of_aoi[idx] = factor\n",
    "\n",
    "    for idx, size in enumerate(size_of_aoi):\n",
    "        df_confounding.loc[len(df_confounding)] = [algorithm, programming_style, aoi_names_convoluted[idx], size]\n",
    "df_confounding"
   ],
   "metadata": {
    "collapsed": false,
    "pycharm": {
     "name": "#%%\n"
    }
   }
  },
  {
   "cell_type": "markdown",
   "source": [
    "## Metrics"
   ],
   "metadata": {
    "collapsed": false,
    "pycharm": {
     "name": "#%% md\n"
    }
   }
  },
  {
   "cell_type": "markdown",
   "source": [
    "### Raw Metrics"
   ],
   "metadata": {
    "collapsed": false,
    "pycharm": {
     "name": "#%% md\n"
    }
   }
  },
  {
   "cell_type": "code",
   "execution_count": 10,
   "outputs": [
    {
     "data": {
      "text/plain": "       Algorithm ProgrammingStyle Participant                AOI  Duration  \\\n0     LinkedList     higher-order         204             Method    25.186   \n1     LinkedList     higher-order         204  MethodDeclaration    12.515   \n2     LinkedList     higher-order         204         MethodBody    21.321   \n3     LinkedList     higher-order         204             Helper     0.000   \n4     LinkedList     higher-order         204  HelperDeclaration     0.000   \n...          ...              ...         ...                ...       ...   \n2775       store        recursive         320         HelperBody    29.130   \n2776       store        recursive         320      StyleSpecific    39.201   \n2777       store        recursive         320   InputPreparation    27.612   \n2778       store        recursive         320   StartOfAlgorithm     0.832   \n2779       store        recursive         320              Class    15.349   \n\n     Amount  \n0         8  \n1         3  \n2         7  \n3         0  \n4         0  \n...     ...  \n2775     19  \n2776     25  \n2777     20  \n2778      1  \n2779     22  \n\n[2780 rows x 6 columns]",
      "text/html": "<div>\n<style scoped>\n    .dataframe tbody tr th:only-of-type {\n        vertical-align: middle;\n    }\n\n    .dataframe tbody tr th {\n        vertical-align: top;\n    }\n\n    .dataframe thead th {\n        text-align: right;\n    }\n</style>\n<table border=\"1\" class=\"dataframe\">\n  <thead>\n    <tr style=\"text-align: right;\">\n      <th></th>\n      <th>Algorithm</th>\n      <th>ProgrammingStyle</th>\n      <th>Participant</th>\n      <th>AOI</th>\n      <th>Duration</th>\n      <th>Amount</th>\n    </tr>\n  </thead>\n  <tbody>\n    <tr>\n      <th>0</th>\n      <td>LinkedList</td>\n      <td>higher-order</td>\n      <td>204</td>\n      <td>Method</td>\n      <td>25.186</td>\n      <td>8</td>\n    </tr>\n    <tr>\n      <th>1</th>\n      <td>LinkedList</td>\n      <td>higher-order</td>\n      <td>204</td>\n      <td>MethodDeclaration</td>\n      <td>12.515</td>\n      <td>3</td>\n    </tr>\n    <tr>\n      <th>2</th>\n      <td>LinkedList</td>\n      <td>higher-order</td>\n      <td>204</td>\n      <td>MethodBody</td>\n      <td>21.321</td>\n      <td>7</td>\n    </tr>\n    <tr>\n      <th>3</th>\n      <td>LinkedList</td>\n      <td>higher-order</td>\n      <td>204</td>\n      <td>Helper</td>\n      <td>0.000</td>\n      <td>0</td>\n    </tr>\n    <tr>\n      <th>4</th>\n      <td>LinkedList</td>\n      <td>higher-order</td>\n      <td>204</td>\n      <td>HelperDeclaration</td>\n      <td>0.000</td>\n      <td>0</td>\n    </tr>\n    <tr>\n      <th>...</th>\n      <td>...</td>\n      <td>...</td>\n      <td>...</td>\n      <td>...</td>\n      <td>...</td>\n      <td>...</td>\n    </tr>\n    <tr>\n      <th>2775</th>\n      <td>store</td>\n      <td>recursive</td>\n      <td>320</td>\n      <td>HelperBody</td>\n      <td>29.130</td>\n      <td>19</td>\n    </tr>\n    <tr>\n      <th>2776</th>\n      <td>store</td>\n      <td>recursive</td>\n      <td>320</td>\n      <td>StyleSpecific</td>\n      <td>39.201</td>\n      <td>25</td>\n    </tr>\n    <tr>\n      <th>2777</th>\n      <td>store</td>\n      <td>recursive</td>\n      <td>320</td>\n      <td>InputPreparation</td>\n      <td>27.612</td>\n      <td>20</td>\n    </tr>\n    <tr>\n      <th>2778</th>\n      <td>store</td>\n      <td>recursive</td>\n      <td>320</td>\n      <td>StartOfAlgorithm</td>\n      <td>0.832</td>\n      <td>1</td>\n    </tr>\n    <tr>\n      <th>2779</th>\n      <td>store</td>\n      <td>recursive</td>\n      <td>320</td>\n      <td>Class</td>\n      <td>15.349</td>\n      <td>22</td>\n    </tr>\n  </tbody>\n</table>\n<p>2780 rows × 6 columns</p>\n</div>"
     },
     "execution_count": 10,
     "metadata": {},
     "output_type": "execute_result"
    }
   ],
   "source": [
    "df_metrics = pd.DataFrame([], columns=[\"Algorithm\", \"ProgrammingStyle\", \"Participant\", \"AOI\", \"Duration\", \"Amount\"])\n",
    "for group, df_group in df_aoi.groupby([\"Algorithm\", \"ProgrammingStyle\", \"Participant\"]):\n",
    "    algorithm = group[0]\n",
    "    programming_style = group[1]\n",
    "    participant = group[2]\n",
    "\n",
    "    aoi_duration = {aoi_name : 0.0 for aoi_name in aoi_names_convoluted}\n",
    "    aoi_amount = {aoi_name : 0 for aoi_name in aoi_names_convoluted}\n",
    "    for idx, row in df_group.iterrows():\n",
    "        duration = row[\"Duration\"]\n",
    "        aois_visited = row[\"AOI\"]\n",
    "        for aoi_name in aois_visited:\n",
    "            aoi_name = aoi_name_to_convoluted_name(aoi_name)\n",
    "            try:\n",
    "                aoi_duration[aoi_name] += duration\n",
    "                aoi_amount[aoi_name] += 1\n",
    "            except:\n",
    "                print(algorithm, programming_style, participant, aoi_name)\n",
    "                assert False\n",
    "\n",
    "    for aoi_name in aoi_names_convoluted:\n",
    "        df_metrics.loc[len(df_metrics)] = [algorithm, programming_style, participant, aoi_name, aoi_duration[aoi_name], aoi_amount[aoi_name]]\n",
    "df_metrics"
   ],
   "metadata": {
    "collapsed": false,
    "pycharm": {
     "name": "#%%\n"
    }
   }
  },
  {
   "cell_type": "code",
   "execution_count": 11,
   "outputs": [],
   "source": [
    "aoi_order = ['Class',\n",
    "             'Method','MethodDeclaration','MethodBody',\n",
    "             'Helper','HelperDeclaration','HelperBody',\n",
    "             'InputPreparation', 'StartOfAlgorithm',\n",
    "             'StyleSpecific']"
   ],
   "metadata": {
    "collapsed": false,
    "pycharm": {
     "name": "#%%\n"
    }
   }
  },
  {
   "cell_type": "code",
   "execution_count": 12,
   "outputs": [
    {
     "data": {
      "text/plain": "<Figure size 1931.25x360 with 1 Axes>",
      "image/png": "[encoded data removed]"
     },
     "metadata": {
      "needs_background": "light"
     },
     "output_type": "display_data"
    }
   ],
   "source": [
    "df_tmp = df_metrics.copy()\n",
    "\n",
    "ax = sns.catplot(x=\"AOI\", y=\"Amount\", hue=\"ProgrammingStyle\", data=df_tmp, kind=\"bar\", height=5,\n",
    "                 aspect=5, hue_order=[\"iterative\", \"recursive\", \"higher-order\", \"list-comprehension\"],\n",
    "                 order=aoi_order)\n",
    "ax.tight_layout()\n",
    "ax.set(ylabel='Number Of Clicks per AOI')\n",
    "plt.savefig(\"./results/visual_attention_number_of_clicks_per_aoi.png\")\n",
    "plt.show()\n",
    "plt.close('all')"
   ],
   "metadata": {
    "collapsed": false,
    "pycharm": {
     "name": "#%%\n"
    }
   }
  },
  {
   "cell_type": "code",
   "execution_count": 13,
   "outputs": [
    {
     "data": {
      "text/plain": "<Figure size 432x288 with 1 Axes>",
      "image/png": "[encoded data removed]"
     },
     "metadata": {
      "needs_background": "light"
     },
     "output_type": "display_data"
    }
   ],
   "source": [
    "df_total = df_metrics.copy()\n",
    "df_total[\"Amount\"] = df_total[\"Amount\"].astype(float)\n",
    "df_total = df_total[df_total[\"AOI\"] == \"StyleSpecific\"]\n",
    "ax = sns.violinplot(x=\"ProgrammingStyle\", y=\"Amount\", data=df_total,\n",
    "                    order=[\"iterative\", \"recursive\", \"higher-order\", \"list-comprehension\"])\n",
    "ax.set_ylabel('Number Of Clicks in Style Specific AOI')\n",
    "ax.set(ylim=(0.0, 30.0))\n",
    "plt.savefig(\"./results/visual_attention_number_of_clicks_in_style_specific.png\")\n",
    "plt.show()\n",
    "plt.close('all')"
   ],
   "metadata": {
    "collapsed": false,
    "pycharm": {
     "name": "#%%\n"
    }
   }
  },
  {
   "cell_type": "code",
   "execution_count": 14,
   "outputs": [
    {
     "data": {
      "text/plain": "<Figure size 1931.25x360 with 1 Axes>",
      "image/png": "[encoded data removed]"
     },
     "metadata": {
      "needs_background": "light"
     },
     "output_type": "display_data"
    }
   ],
   "source": [
    "df_total = df_metrics\n",
    "\n",
    "ax = sns.catplot(x=\"AOI\", y=\"Duration\", hue=\"ProgrammingStyle\", data=df_tmp, kind=\"bar\", height=5,\n",
    "                 aspect=5, hue_order=[\"iterative\", \"recursive\", \"higher-order\", \"list-comprehension\"],\n",
    "                 order=aoi_order)\n",
    "ax.tight_layout()\n",
    "ax.set(ylabel='Duration Of Clicks per AOI')\n",
    "plt.savefig(\"./results/visual_attention_duration_of_clicks_per_aoi.png\")\n",
    "plt.show()\n",
    "plt.close('all')"
   ],
   "metadata": {
    "collapsed": false,
    "pycharm": {
     "name": "#%%\n"
    }
   }
  },
  {
   "cell_type": "code",
   "execution_count": 15,
   "outputs": [
    {
     "data": {
      "text/plain": "<Figure size 432x288 with 1 Axes>",
      "image/png": "[encoded data removed]"
     },
     "metadata": {
      "needs_background": "light"
     },
     "output_type": "display_data"
    }
   ],
   "source": [
    "df_total = df_metrics\n",
    "df_total = df_total[df_total[\"AOI\"] == \"StyleSpecific\"]\n",
    "ax = sns.violinplot(x=\"ProgrammingStyle\", y=\"Duration\", data=df_total,\n",
    "                    order=[\"iterative\", \"recursive\", \"higher-order\", \"list-comprehension\"])\n",
    "plt.savefig(\"./results/visual_attention_duration_of_clicks_in_style_specific.png\")\n",
    "ax.set_ylabel('Duration Of Clicks in Style Specific AOI')\n",
    "ax.set(ylim=(0.0, 80.0))\n",
    "plt.show()\n",
    "plt.close('all')"
   ],
   "metadata": {
    "collapsed": false,
    "pycharm": {
     "name": "#%%\n"
    }
   }
  },
  {
   "cell_type": "markdown",
   "source": [
    "## Inferential Statistics"
   ],
   "metadata": {
    "collapsed": false,
    "pycharm": {
     "name": "#%% md\n"
    }
   }
  },
  {
   "cell_type": "code",
   "execution_count": 19,
   "outputs": [
    {
     "data": {
      "text/plain": "        Style_A             Style_B       p_value  Significant\n0     iterative           recursive  3.989689e-02        False\n1     iterative        higher-order  2.873376e-06         True\n2     iterative  list-comprehension  1.226062e-06         True\n3     recursive        higher-order  7.449618e-07         True\n4     recursive  list-comprehension  6.360547e-07         True\n5  higher-order  list-comprehension  3.888949e-01        False",
      "text/html": "<div>\n<style scoped>\n    .dataframe tbody tr th:only-of-type {\n        vertical-align: middle;\n    }\n\n    .dataframe tbody tr th {\n        vertical-align: top;\n    }\n\n    .dataframe thead th {\n        text-align: right;\n    }\n</style>\n<table border=\"1\" class=\"dataframe\">\n  <thead>\n    <tr style=\"text-align: right;\">\n      <th></th>\n      <th>Style_A</th>\n      <th>Style_B</th>\n      <th>p_value</th>\n      <th>Significant</th>\n    </tr>\n  </thead>\n  <tbody>\n    <tr>\n      <th>0</th>\n      <td>iterative</td>\n      <td>recursive</td>\n      <td>3.989689e-02</td>\n      <td>False</td>\n    </tr>\n    <tr>\n      <th>1</th>\n      <td>iterative</td>\n      <td>higher-order</td>\n      <td>2.873376e-06</td>\n      <td>True</td>\n    </tr>\n    <tr>\n      <th>2</th>\n      <td>iterative</td>\n      <td>list-comprehension</td>\n      <td>1.226062e-06</td>\n      <td>True</td>\n    </tr>\n    <tr>\n      <th>3</th>\n      <td>recursive</td>\n      <td>higher-order</td>\n      <td>7.449618e-07</td>\n      <td>True</td>\n    </tr>\n    <tr>\n      <th>4</th>\n      <td>recursive</td>\n      <td>list-comprehension</td>\n      <td>6.360547e-07</td>\n      <td>True</td>\n    </tr>\n    <tr>\n      <th>5</th>\n      <td>higher-order</td>\n      <td>list-comprehension</td>\n      <td>3.888949e-01</td>\n      <td>False</td>\n    </tr>\n  </tbody>\n</table>\n</div>"
     },
     "metadata": {},
     "output_type": "display_data"
    }
   ],
   "source": [
    "df_tmp = df_metrics[df_metrics[\"AOI\"] == \"StyleSpecific\"]\n",
    "\n",
    "_stats, p_i_r = stats.mannwhitneyu(df_tmp[df_tmp[\"ProgrammingStyle\"]==\"iterative\"][\"Amount\"],\n",
    "                                   df_tmp[df_tmp[\"ProgrammingStyle\"]==\"recursive\"][\"Amount\"])\n",
    "_stats, p_i_h = stats.mannwhitneyu(df_tmp[df_tmp[\"ProgrammingStyle\"]==\"iterative\"][\"Amount\"],\n",
    "                                   df_tmp[df_tmp[\"ProgrammingStyle\"]==\"higher-order\"][\"Amount\"])\n",
    "_stats, p_i_l = stats.mannwhitneyu(df_tmp[df_tmp[\"ProgrammingStyle\"]==\"iterative\"][\"Amount\"],\n",
    "                                   df_tmp[df_tmp[\"ProgrammingStyle\"]==\"list-comprehension\"][\"Amount\"])\n",
    "_stats, p_r_h = stats.mannwhitneyu(df_tmp[df_tmp[\"ProgrammingStyle\"]==\"recursive\"][\"Amount\"],\n",
    "                                   df_tmp[df_tmp[\"ProgrammingStyle\"]==\"higher-order\"][\"Amount\"])\n",
    "_stats, p_r_l = stats.mannwhitneyu(df_tmp[df_tmp[\"ProgrammingStyle\"]==\"recursive\"][\"Amount\"],\n",
    "                                   df_tmp[df_tmp[\"ProgrammingStyle\"]==\"list-comprehension\"][\"Amount\"])\n",
    "_stats, p_h_l = stats.mannwhitneyu(df_tmp[df_tmp[\"ProgrammingStyle\"]==\"higher-order\"][\"Amount\"],\n",
    "                                   df_tmp[df_tmp[\"ProgrammingStyle\"]==\"list-comprehension\"][\"Amount\"])\n",
    "\n",
    "df_tmp = pd.DataFrame([], columns=[\"Style_A\", \"Style_B\", \"p_value\"])\n",
    "df_tmp.loc[len(df_tmp)] = [\"iterative\", \"recursive\", p_i_r]\n",
    "df_tmp.loc[len(df_tmp)] = [\"iterative\", \"higher-order\", p_i_h]\n",
    "df_tmp.loc[len(df_tmp)] = [\"iterative\", \"list-comprehension\", p_i_l]\n",
    "df_tmp.loc[len(df_tmp)] = [\"recursive\", \"higher-order\", p_r_h]\n",
    "df_tmp.loc[len(df_tmp)] = [\"recursive\", \"list-comprehension\", p_r_l]\n",
    "df_tmp.loc[len(df_tmp)] = [\"higher-order\", \"list-comprehension\", p_h_l]\n",
    "# set base alpha\n",
    "alpha = 0.05\n",
    "# bonferroni correction\n",
    "alpha = alpha / len(df_tmp)\n",
    "df_tmp[\"Significant\"] = df_tmp[\"p_value\"] < alpha\n",
    "display(df_tmp)\n",
    "df_tmp.to_excel(\"./tmp_clicks_in_aoi_p.xlsx\")"
   ],
   "metadata": {
    "collapsed": false,
    "pycharm": {
     "name": "#%%\n"
    }
   }
  },
  {
   "cell_type": "code",
   "execution_count": 87,
   "outputs": [
    {
     "data": {
      "text/plain": "                   Amount                                                 \n                    count       mean        std  min  25%  50%   75%   max\nProgrammingStyle                                                          \nhigher-order         69.0   4.855072   5.542020  0.0  2.0  3.0   5.0  36.0\niterative            74.0   7.581081   5.383910  2.0  4.0  6.0  10.0  30.0\nlist-comprehension   69.0   5.492754   8.647718  1.0  1.0  3.0   5.0  63.0\nrecursive            66.0  11.515152  13.313085  0.0  4.0  8.5  15.0  93.0",
      "text/html": "<div>\n<style scoped>\n    .dataframe tbody tr th:only-of-type {\n        vertical-align: middle;\n    }\n\n    .dataframe tbody tr th {\n        vertical-align: top;\n    }\n\n    .dataframe thead tr th {\n        text-align: left;\n    }\n\n    .dataframe thead tr:last-of-type th {\n        text-align: right;\n    }\n</style>\n<table border=\"1\" class=\"dataframe\">\n  <thead>\n    <tr>\n      <th></th>\n      <th colspan=\"8\" halign=\"left\">Amount</th>\n    </tr>\n    <tr>\n      <th></th>\n      <th>count</th>\n      <th>mean</th>\n      <th>std</th>\n      <th>min</th>\n      <th>25%</th>\n      <th>50%</th>\n      <th>75%</th>\n      <th>max</th>\n    </tr>\n    <tr>\n      <th>ProgrammingStyle</th>\n      <th></th>\n      <th></th>\n      <th></th>\n      <th></th>\n      <th></th>\n      <th></th>\n      <th></th>\n      <th></th>\n    </tr>\n  </thead>\n  <tbody>\n    <tr>\n      <th>higher-order</th>\n      <td>69.0</td>\n      <td>4.855072</td>\n      <td>5.542020</td>\n      <td>0.0</td>\n      <td>2.0</td>\n      <td>3.0</td>\n      <td>5.0</td>\n      <td>36.0</td>\n    </tr>\n    <tr>\n      <th>iterative</th>\n      <td>74.0</td>\n      <td>7.581081</td>\n      <td>5.383910</td>\n      <td>2.0</td>\n      <td>4.0</td>\n      <td>6.0</td>\n      <td>10.0</td>\n      <td>30.0</td>\n    </tr>\n    <tr>\n      <th>list-comprehension</th>\n      <td>69.0</td>\n      <td>5.492754</td>\n      <td>8.647718</td>\n      <td>1.0</td>\n      <td>1.0</td>\n      <td>3.0</td>\n      <td>5.0</td>\n      <td>63.0</td>\n    </tr>\n    <tr>\n      <th>recursive</th>\n      <td>66.0</td>\n      <td>11.515152</td>\n      <td>13.313085</td>\n      <td>0.0</td>\n      <td>4.0</td>\n      <td>8.5</td>\n      <td>15.0</td>\n      <td>93.0</td>\n    </tr>\n  </tbody>\n</table>\n</div>"
     },
     "metadata": {},
     "output_type": "display_data"
    }
   ],
   "source": [
    "df_tmp = df_metrics[df_metrics[\"AOI\"] == \"StyleSpecific\"]\n",
    "df_tmp = df_tmp[[\"ProgrammingStyle\", \"Amount\"]]\n",
    "df_tmp[\"Amount\"] = df_tmp[\"Amount\"].astype(float)\n",
    "df_tmp = df_tmp.groupby(\"ProgrammingStyle\").describe()\n",
    "display(df_tmp)\n",
    "df_tmp.to_excel(\"./tmp_clicks_per_aoi_describe.xlsx\")"
   ],
   "metadata": {
    "collapsed": false,
    "pycharm": {
     "name": "#%%\n"
    }
   }
  },
  {
   "cell_type": "code",
   "execution_count": 21,
   "outputs": [
    {
     "data": {
      "text/plain": "        Style_A             Style_B   p_value  Significant\n0     iterative           recursive  0.186402        False\n1     iterative        higher-order  0.069354        False\n2     iterative  list-comprehension  0.000015         True\n3     recursive        higher-order  0.033704        False\n4     recursive  list-comprehension  0.000055         True\n5  higher-order  list-comprehension  0.028214        False",
      "text/html": "<div>\n<style scoped>\n    .dataframe tbody tr th:only-of-type {\n        vertical-align: middle;\n    }\n\n    .dataframe tbody tr th {\n        vertical-align: top;\n    }\n\n    .dataframe thead th {\n        text-align: right;\n    }\n</style>\n<table border=\"1\" class=\"dataframe\">\n  <thead>\n    <tr style=\"text-align: right;\">\n      <th></th>\n      <th>Style_A</th>\n      <th>Style_B</th>\n      <th>p_value</th>\n      <th>Significant</th>\n    </tr>\n  </thead>\n  <tbody>\n    <tr>\n      <th>0</th>\n      <td>iterative</td>\n      <td>recursive</td>\n      <td>0.186402</td>\n      <td>False</td>\n    </tr>\n    <tr>\n      <th>1</th>\n      <td>iterative</td>\n      <td>higher-order</td>\n      <td>0.069354</td>\n      <td>False</td>\n    </tr>\n    <tr>\n      <th>2</th>\n      <td>iterative</td>\n      <td>list-comprehension</td>\n      <td>0.000015</td>\n      <td>True</td>\n    </tr>\n    <tr>\n      <th>3</th>\n      <td>recursive</td>\n      <td>higher-order</td>\n      <td>0.033704</td>\n      <td>False</td>\n    </tr>\n    <tr>\n      <th>4</th>\n      <td>recursive</td>\n      <td>list-comprehension</td>\n      <td>0.000055</td>\n      <td>True</td>\n    </tr>\n    <tr>\n      <th>5</th>\n      <td>higher-order</td>\n      <td>list-comprehension</td>\n      <td>0.028214</td>\n      <td>False</td>\n    </tr>\n  </tbody>\n</table>\n</div>"
     },
     "metadata": {},
     "output_type": "display_data"
    }
   ],
   "source": [
    "df_tmp = df_metrics[df_metrics[\"AOI\"] == \"StyleSpecific\"]\n",
    "\n",
    "_stats, p_i_r = stats.mannwhitneyu(df_tmp[df_tmp[\"ProgrammingStyle\"]==\"iterative\"][\"Duration\"],\n",
    "                                   df_tmp[df_tmp[\"ProgrammingStyle\"]==\"recursive\"][\"Duration\"])\n",
    "_stats, p_i_h = stats.mannwhitneyu(df_tmp[df_tmp[\"ProgrammingStyle\"]==\"iterative\"][\"Duration\"],\n",
    "                                   df_tmp[df_tmp[\"ProgrammingStyle\"]==\"higher-order\"][\"Duration\"])\n",
    "_stats, p_i_l = stats.mannwhitneyu(df_tmp[df_tmp[\"ProgrammingStyle\"]==\"iterative\"][\"Duration\"],\n",
    "                                   df_tmp[df_tmp[\"ProgrammingStyle\"]==\"list-comprehension\"][\"Duration\"])\n",
    "_stats, p_r_h = stats.mannwhitneyu(df_tmp[df_tmp[\"ProgrammingStyle\"]==\"recursive\"][\"Duration\"],\n",
    "                                   df_tmp[df_tmp[\"ProgrammingStyle\"]==\"higher-order\"][\"Duration\"])\n",
    "_stats, p_r_l = stats.mannwhitneyu(df_tmp[df_tmp[\"ProgrammingStyle\"]==\"recursive\"][\"Duration\"],\n",
    "                                   df_tmp[df_tmp[\"ProgrammingStyle\"]==\"list-comprehension\"][\"Duration\"])\n",
    "_stats, p_h_l = stats.mannwhitneyu(df_tmp[df_tmp[\"ProgrammingStyle\"]==\"higher-order\"][\"Duration\"],\n",
    "                                   df_tmp[df_tmp[\"ProgrammingStyle\"]==\"list-comprehension\"][\"Duration\"])\n",
    "\n",
    "df_tmp = pd.DataFrame([], columns=[\"Style_A\", \"Style_B\", \"p_value\"])\n",
    "df_tmp.loc[len(df_tmp)] = [\"iterative\", \"recursive\", p_i_r]\n",
    "df_tmp.loc[len(df_tmp)] = [\"iterative\", \"higher-order\", p_i_h]\n",
    "df_tmp.loc[len(df_tmp)] = [\"iterative\", \"list-comprehension\", p_i_l]\n",
    "df_tmp.loc[len(df_tmp)] = [\"recursive\", \"higher-order\", p_r_h]\n",
    "df_tmp.loc[len(df_tmp)] = [\"recursive\", \"list-comprehension\", p_r_l]\n",
    "df_tmp.loc[len(df_tmp)] = [\"higher-order\", \"list-comprehension\", p_h_l]\n",
    "# set base alpha\n",
    "alpha = 0.05\n",
    "# bonferroni correction\n",
    "alpha = alpha / len(df_tmp)\n",
    "df_tmp[\"Significant\"] = df_tmp[\"p_value\"] < alpha\n",
    "display(df_tmp)\n",
    "df_tmp.to_excel(\"./tmp_clicks_duration_in_aoi_p.xlsx\")"
   ],
   "metadata": {
    "collapsed": false,
    "pycharm": {
     "name": "#%%\n"
    }
   }
  },
  {
   "cell_type": "code",
   "execution_count": 86,
   "outputs": [
    {
     "data": {
      "text/plain": "                   Duration                                                 \\\n                      count       mean        std    min      25%      50%   \nProgrammingStyle                                                             \nhigher-order           69.0  22.263406  32.150487  0.000  4.04100  10.0320   \niterative              74.0  20.579041  25.377711  2.226  7.09225  11.8935   \nlist-comprehension     69.0  16.113348  32.498589  0.397  2.16400   4.8690   \nrecursive              66.0  25.350697  30.695940  0.000  7.45000  16.2815   \n\n                                       \n                         75%      max  \nProgrammingStyle                       \nhigher-order        23.66700  174.704  \niterative           24.61800  179.290  \nlist-comprehension  13.48500  206.405  \nrecursive           31.28075  178.883  ",
      "text/html": "<div>\n<style scoped>\n    .dataframe tbody tr th:only-of-type {\n        vertical-align: middle;\n    }\n\n    .dataframe tbody tr th {\n        vertical-align: top;\n    }\n\n    .dataframe thead tr th {\n        text-align: left;\n    }\n\n    .dataframe thead tr:last-of-type th {\n        text-align: right;\n    }\n</style>\n<table border=\"1\" class=\"dataframe\">\n  <thead>\n    <tr>\n      <th></th>\n      <th colspan=\"8\" halign=\"left\">Duration</th>\n    </tr>\n    <tr>\n      <th></th>\n      <th>count</th>\n      <th>mean</th>\n      <th>std</th>\n      <th>min</th>\n      <th>25%</th>\n      <th>50%</th>\n      <th>75%</th>\n      <th>max</th>\n    </tr>\n    <tr>\n      <th>ProgrammingStyle</th>\n      <th></th>\n      <th></th>\n      <th></th>\n      <th></th>\n      <th></th>\n      <th></th>\n      <th></th>\n      <th></th>\n    </tr>\n  </thead>\n  <tbody>\n    <tr>\n      <th>higher-order</th>\n      <td>69.0</td>\n      <td>22.263406</td>\n      <td>32.150487</td>\n      <td>0.000</td>\n      <td>4.04100</td>\n      <td>10.0320</td>\n      <td>23.66700</td>\n      <td>174.704</td>\n    </tr>\n    <tr>\n      <th>iterative</th>\n      <td>74.0</td>\n      <td>20.579041</td>\n      <td>25.377711</td>\n      <td>2.226</td>\n      <td>7.09225</td>\n      <td>11.8935</td>\n      <td>24.61800</td>\n      <td>179.290</td>\n    </tr>\n    <tr>\n      <th>list-comprehension</th>\n      <td>69.0</td>\n      <td>16.113348</td>\n      <td>32.498589</td>\n      <td>0.397</td>\n      <td>2.16400</td>\n      <td>4.8690</td>\n      <td>13.48500</td>\n      <td>206.405</td>\n    </tr>\n    <tr>\n      <th>recursive</th>\n      <td>66.0</td>\n      <td>25.350697</td>\n      <td>30.695940</td>\n      <td>0.000</td>\n      <td>7.45000</td>\n      <td>16.2815</td>\n      <td>31.28075</td>\n      <td>178.883</td>\n    </tr>\n  </tbody>\n</table>\n</div>"
     },
     "metadata": {},
     "output_type": "display_data"
    }
   ],
   "source": [
    "df_tmp = df_metrics[df_metrics[\"AOI\"] == \"StyleSpecific\"]\n",
    "df_tmp = df_tmp[[\"ProgrammingStyle\", \"Duration\"]]\n",
    "df_tmp = df_tmp.groupby(\"ProgrammingStyle\").describe()\n",
    "display(df_tmp)\n",
    "df_tmp.to_excel(\"./tmp_time_per_aoi_describe.xlsx\")"
   ],
   "metadata": {
    "collapsed": false,
    "pycharm": {
     "name": "#%%\n"
    }
   }
  },
  {
   "cell_type": "markdown",
   "source": [
    "## Effect Size"
   ],
   "metadata": {
    "collapsed": false,
    "pycharm": {
     "name": "#%% md\n"
    }
   }
  },
  {
   "cell_type": "code",
   "execution_count": 63,
   "outputs": [],
   "source": [
    "import numpy as np\n",
    "\n",
    "def cohend(d1, d2) -> float:\n",
    "    # calculate the size of samples\n",
    "    n1, n2 = len(d1), len(d2)\n",
    "    # calculate the variance of the samples\n",
    "    s1, s2 = np.var(d1, ddof=1), np.var(d2, ddof=1)\n",
    "    # calculate the pooled standard deviation\n",
    "    s = np.sqrt(((n1 - 1) * s1 + (n2 - 1) * s2) / (n1 + n2 - 2))\n",
    "    # calculate the means of the samples\n",
    "    u1, u2 = np.mean(d1), np.mean(d2)\n",
    "    # return the effect size\n",
    "    return (u1 - u2) / s"
   ],
   "metadata": {
    "collapsed": false,
    "pycharm": {
     "name": "#%%\n"
    }
   }
  },
  {
   "cell_type": "code",
   "execution_count": 64,
   "outputs": [
    {
     "data": {
      "text/plain": "              Style_A             Style_B  Effect_Size\n0        higher-order           iterative    -0.499202\n1        higher-order  list-comprehension    -0.087801\n2        higher-order           recursive    -0.658403\n3           iterative  list-comprehension     0.292216\n4           iterative           recursive    -0.395758\n5  list-comprehension           recursive    -0.538972",
      "text/html": "<div>\n<style scoped>\n    .dataframe tbody tr th:only-of-type {\n        vertical-align: middle;\n    }\n\n    .dataframe tbody tr th {\n        vertical-align: top;\n    }\n\n    .dataframe thead th {\n        text-align: right;\n    }\n</style>\n<table border=\"1\" class=\"dataframe\">\n  <thead>\n    <tr style=\"text-align: right;\">\n      <th></th>\n      <th>Style_A</th>\n      <th>Style_B</th>\n      <th>Effect_Size</th>\n    </tr>\n  </thead>\n  <tbody>\n    <tr>\n      <th>0</th>\n      <td>higher-order</td>\n      <td>iterative</td>\n      <td>-0.499202</td>\n    </tr>\n    <tr>\n      <th>1</th>\n      <td>higher-order</td>\n      <td>list-comprehension</td>\n      <td>-0.087801</td>\n    </tr>\n    <tr>\n      <th>2</th>\n      <td>higher-order</td>\n      <td>recursive</td>\n      <td>-0.658403</td>\n    </tr>\n    <tr>\n      <th>3</th>\n      <td>iterative</td>\n      <td>list-comprehension</td>\n      <td>0.292216</td>\n    </tr>\n    <tr>\n      <th>4</th>\n      <td>iterative</td>\n      <td>recursive</td>\n      <td>-0.395758</td>\n    </tr>\n    <tr>\n      <th>5</th>\n      <td>list-comprehension</td>\n      <td>recursive</td>\n      <td>-0.538972</td>\n    </tr>\n  </tbody>\n</table>\n</div>"
     },
     "metadata": {},
     "output_type": "display_data"
    }
   ],
   "source": [
    "df_tmp = df_metrics[df_metrics[\"AOI\"] == \"StyleSpecific\"]\n",
    "df_tmp = df_tmp[[\"ProgrammingStyle\", \"Amount\"]]\n",
    "df_tmp[\"Amount\"] = df_tmp[\"Amount\"].astype(float)\n",
    "df_effect_size = pd.DataFrame([], columns=[\"Style_A\", \"Style_B\", \"Effect_Size\"])\n",
    "styles = df_tmp[\"ProgrammingStyle\"].unique()\n",
    "for idx, style_a in enumerate(styles):\n",
    "    for style_b in styles[idx+1:]:\n",
    "        style_a_data = df_tmp[df_tmp[\"ProgrammingStyle\"]==style_a][\"Amount\"]\n",
    "        style_b_data = df_tmp[df_tmp[\"ProgrammingStyle\"]==style_b][\"Amount\"]\n",
    "        effect_size = cohend(style_a_data, style_b_data)\n",
    "        df_effect_size.loc[len(df_effect_size)] = [style_a, style_b, effect_size]\n",
    "display(df_effect_size)\n",
    "df_effect_size.to_excel(\"./tmp_number_per_aoi_effect_size.xlsx\")"
   ],
   "metadata": {
    "collapsed": false,
    "pycharm": {
     "name": "#%%\n"
    }
   }
  },
  {
   "cell_type": "code",
   "execution_count": 65,
   "outputs": [
    {
     "data": {
      "text/plain": "              Style_A             Style_B  Effect_Size\n0        higher-order           iterative     0.058397\n1        higher-order  list-comprehension     0.190257\n2        higher-order           recursive    -0.098171\n3           iterative  list-comprehension     0.153826\n4           iterative           recursive    -0.170363\n5  list-comprehension           recursive    -0.292040",
      "text/html": "<div>\n<style scoped>\n    .dataframe tbody tr th:only-of-type {\n        vertical-align: middle;\n    }\n\n    .dataframe tbody tr th {\n        vertical-align: top;\n    }\n\n    .dataframe thead th {\n        text-align: right;\n    }\n</style>\n<table border=\"1\" class=\"dataframe\">\n  <thead>\n    <tr style=\"text-align: right;\">\n      <th></th>\n      <th>Style_A</th>\n      <th>Style_B</th>\n      <th>Effect_Size</th>\n    </tr>\n  </thead>\n  <tbody>\n    <tr>\n      <th>0</th>\n      <td>higher-order</td>\n      <td>iterative</td>\n      <td>0.058397</td>\n    </tr>\n    <tr>\n      <th>1</th>\n      <td>higher-order</td>\n      <td>list-comprehension</td>\n      <td>0.190257</td>\n    </tr>\n    <tr>\n      <th>2</th>\n      <td>higher-order</td>\n      <td>recursive</td>\n      <td>-0.098171</td>\n    </tr>\n    <tr>\n      <th>3</th>\n      <td>iterative</td>\n      <td>list-comprehension</td>\n      <td>0.153826</td>\n    </tr>\n    <tr>\n      <th>4</th>\n      <td>iterative</td>\n      <td>recursive</td>\n      <td>-0.170363</td>\n    </tr>\n    <tr>\n      <th>5</th>\n      <td>list-comprehension</td>\n      <td>recursive</td>\n      <td>-0.292040</td>\n    </tr>\n  </tbody>\n</table>\n</div>"
     },
     "metadata": {},
     "output_type": "display_data"
    }
   ],
   "source": [
    "df_tmp = df_metrics[df_metrics[\"AOI\"] == \"StyleSpecific\"]\n",
    "df_tmp = df_tmp[[\"ProgrammingStyle\", \"Duration\"]]\n",
    "df_effect_size = pd.DataFrame([], columns=[\"Style_A\", \"Style_B\", \"Effect_Size\"])\n",
    "styles = df_tmp[\"ProgrammingStyle\"].unique()\n",
    "for idx, style_a in enumerate(styles):\n",
    "    for style_b in styles[idx+1:]:\n",
    "        style_a_data = df_tmp[df_tmp[\"ProgrammingStyle\"]==style_a][\"Duration\"]\n",
    "        style_b_data = df_tmp[df_tmp[\"ProgrammingStyle\"]==style_b][\"Duration\"]\n",
    "        effect_size = cohend(style_a_data, style_b_data)\n",
    "        df_effect_size.loc[len(df_effect_size)] = [style_a, style_b, effect_size]\n",
    "display(df_effect_size)\n",
    "df_effect_size.to_excel(\"./tmp_time_per_aoi_effect_size.xlsx\")"
   ],
   "metadata": {
    "collapsed": false,
    "pycharm": {
     "name": "#%%\n"
    }
   }
  },
  {
   "cell_type": "markdown",
   "source": [
    "## Correlations"
   ],
   "metadata": {
    "collapsed": false,
    "pycharm": {
     "name": "#%% md\n"
    }
   },
   "execution_count": 15
  },
  {
   "cell_type": "markdown",
   "source": [
    "### Load Demographics"
   ],
   "metadata": {
    "collapsed": false,
    "pycharm": {
     "name": "#%% md\n"
    }
   },
   "execution_count": 15
  },
  {
   "cell_type": "code",
   "execution_count": 55,
   "outputs": [],
   "source": [
    "variable_mapping = {\n",
    "    \"CASE\" : \"ID\",\n",
    "    \"ST04_01\" : \"C++\",\n",
    "    \"ST04_02\" : \"Java\",\n",
    "    \"ST04_03\" : \"Haskell\",\n",
    "    \"ST04_04\" : \"Python\",\n",
    "    \"ST04_05\" : \"Prolog\",\n",
    "    \"ST04_06\" : \"Rust\",\n",
    "    \"ST04_07\" : \"Kotlin\",\n",
    "    \"ST05_01\" : \"Logical\",\n",
    "    \"ST05_02\" : \"Imperative\",\n",
    "    \"ST05_03\" : \"Functional\",\n",
    "    \"ST05_04\" : \"ObjectOriented\",\n",
    "    \"ST12\" : \"Iteration\",\n",
    "    \"ST13\" : \"Recursion\",\n",
    "    \"ST14\" : \"HigherOrder\",\n",
    "    \"ST15\" : \"ListComprehension\",\n",
    "}\n",
    "\n",
    "df_demographics = pd.read_csv('./data/preprocessed_total_data.csv')\n",
    "df_demographics = df_demographics[variable_mapping.keys()]\n",
    "df_demographics.columns = variable_mapping.values()\n",
    "df_language = df_demographics.melt(id_vars=\"ID\", value_vars=[\"C++\", \"Java\", \"Haskell\", \"Python\", \"Prolog\", \"Rust\", \"Kotlin\"], value_name=\"PreExperience\", var_name=\"Language\")\n",
    "df_paradigm = df_demographics.melt(id_vars=\"ID\", value_vars=[\"Logical\", \"Imperative\", \"Functional\", \"ObjectOriented\"], value_name=\"PreExperience\", var_name=\"Paradigm\")\n",
    "df_style = df_demographics.melt(id_vars=\"ID\", value_vars=[\"Iteration\", \"Recursion\", \"HigherOrder\", \"ListComprehension\"], value_name=\"PreExperience\", var_name=\"Style\")"
   ],
   "metadata": {
    "collapsed": false,
    "pycharm": {
     "name": "#%%\n"
    }
   }
  },
  {
   "cell_type": "code",
   "execution_count": 58,
   "outputs": [
    {
     "data": {
      "text/plain": "      ProgrammingStyle      PreExperience  Correlation\n0         higher-order          Iteration    -0.154970\n1            iterative          Iteration     0.069658\n2   list-comprehension          Iteration     0.030081\n3            recursive          Iteration     0.162792\n4         higher-order          Recursion    -0.137881\n5            iterative          Recursion     0.004310\n6   list-comprehension          Recursion     0.008939\n7            recursive          Recursion    -0.059559\n8         higher-order        HigherOrder    -0.116495\n9            iterative        HigherOrder     0.092197\n10  list-comprehension        HigherOrder    -0.016138\n11           recursive        HigherOrder     0.068018\n12        higher-order  ListComprehension    -0.089294\n13           iterative  ListComprehension     0.012377\n14  list-comprehension  ListComprehension     0.019681\n15           recursive  ListComprehension    -0.031388",
      "text/html": "<div>\n<style scoped>\n    .dataframe tbody tr th:only-of-type {\n        vertical-align: middle;\n    }\n\n    .dataframe tbody tr th {\n        vertical-align: top;\n    }\n\n    .dataframe thead th {\n        text-align: right;\n    }\n</style>\n<table border=\"1\" class=\"dataframe\">\n  <thead>\n    <tr style=\"text-align: right;\">\n      <th></th>\n      <th>ProgrammingStyle</th>\n      <th>PreExperience</th>\n      <th>Correlation</th>\n    </tr>\n  </thead>\n  <tbody>\n    <tr>\n      <th>0</th>\n      <td>higher-order</td>\n      <td>Iteration</td>\n      <td>-0.154970</td>\n    </tr>\n    <tr>\n      <th>1</th>\n      <td>iterative</td>\n      <td>Iteration</td>\n      <td>0.069658</td>\n    </tr>\n    <tr>\n      <th>2</th>\n      <td>list-comprehension</td>\n      <td>Iteration</td>\n      <td>0.030081</td>\n    </tr>\n    <tr>\n      <th>3</th>\n      <td>recursive</td>\n      <td>Iteration</td>\n      <td>0.162792</td>\n    </tr>\n    <tr>\n      <th>4</th>\n      <td>higher-order</td>\n      <td>Recursion</td>\n      <td>-0.137881</td>\n    </tr>\n    <tr>\n      <th>5</th>\n      <td>iterative</td>\n      <td>Recursion</td>\n      <td>0.004310</td>\n    </tr>\n    <tr>\n      <th>6</th>\n      <td>list-comprehension</td>\n      <td>Recursion</td>\n      <td>0.008939</td>\n    </tr>\n    <tr>\n      <th>7</th>\n      <td>recursive</td>\n      <td>Recursion</td>\n      <td>-0.059559</td>\n    </tr>\n    <tr>\n      <th>8</th>\n      <td>higher-order</td>\n      <td>HigherOrder</td>\n      <td>-0.116495</td>\n    </tr>\n    <tr>\n      <th>9</th>\n      <td>iterative</td>\n      <td>HigherOrder</td>\n      <td>0.092197</td>\n    </tr>\n    <tr>\n      <th>10</th>\n      <td>list-comprehension</td>\n      <td>HigherOrder</td>\n      <td>-0.016138</td>\n    </tr>\n    <tr>\n      <th>11</th>\n      <td>recursive</td>\n      <td>HigherOrder</td>\n      <td>0.068018</td>\n    </tr>\n    <tr>\n      <th>12</th>\n      <td>higher-order</td>\n      <td>ListComprehension</td>\n      <td>-0.089294</td>\n    </tr>\n    <tr>\n      <th>13</th>\n      <td>iterative</td>\n      <td>ListComprehension</td>\n      <td>0.012377</td>\n    </tr>\n    <tr>\n      <th>14</th>\n      <td>list-comprehension</td>\n      <td>ListComprehension</td>\n      <td>0.019681</td>\n    </tr>\n    <tr>\n      <th>15</th>\n      <td>recursive</td>\n      <td>ListComprehension</td>\n      <td>-0.031388</td>\n    </tr>\n  </tbody>\n</table>\n</div>"
     },
     "metadata": {},
     "output_type": "display_data"
    }
   ],
   "source": [
    "df_tmp = df_metrics[df_metrics[\"AOI\"] == \"StyleSpecific\"]\n",
    "df_tmp = df_tmp.rename({\"Participant\" : \"ID\"}, axis=1)\n",
    "df_tmp = df_tmp.merge(df_demographics, on=\"ID\")\n",
    "df_tmp = df_tmp[[\"ProgrammingStyle\", \"Amount\", \"Iteration\", \"Recursion\", \"HigherOrder\", \"ListComprehension\"]]\n",
    "df_tmp[\"Amount\"] = df_tmp[\"Amount\"].astype(float)\n",
    "df_correlation = pd.DataFrame(columns=[\"ProgrammingStyle\", \"PreExperience\", \"Correlation\"])\n",
    "for column in df_tmp.columns[2:]:\n",
    "    for style in df_tmp[\"ProgrammingStyle\"].unique():\n",
    "        df_sub = df_tmp[df_tmp[\"ProgrammingStyle\"] == style]\n",
    "        df_corr = df_sub[[\"Amount\", column]].corr()\n",
    "        coef = df_corr[\"Amount\"].values[1]\n",
    "        df_correlation.loc[len(df_correlation)] = [style, column, coef]\n",
    "display(df_correlation)\n",
    "df_correlation.to_excel(\"./tmp_corr_number_in_aoi_pre.xlsx\")"
   ],
   "metadata": {
    "collapsed": false,
    "pycharm": {
     "name": "#%%\n"
    }
   }
  },
  {
   "cell_type": "code",
   "execution_count": 59,
   "outputs": [
    {
     "data": {
      "text/plain": "      ProgrammingStyle      PreExperience  Correlation\n0         higher-order          Iteration    -0.328469\n1            iterative          Iteration    -0.133724\n2   list-comprehension          Iteration    -0.133258\n3            recursive          Iteration     0.109498\n4         higher-order          Recursion    -0.132232\n5            iterative          Recursion    -0.238079\n6   list-comprehension          Recursion    -0.029651\n7            recursive          Recursion    -0.145832\n8         higher-order        HigherOrder    -0.085153\n9            iterative        HigherOrder    -0.072340\n10  list-comprehension        HigherOrder    -0.087088\n11           recursive        HigherOrder    -0.093032\n12        higher-order  ListComprehension    -0.002366\n13           iterative  ListComprehension    -0.124382\n14  list-comprehension  ListComprehension     0.038405\n15           recursive  ListComprehension    -0.105016",
      "text/html": "<div>\n<style scoped>\n    .dataframe tbody tr th:only-of-type {\n        vertical-align: middle;\n    }\n\n    .dataframe tbody tr th {\n        vertical-align: top;\n    }\n\n    .dataframe thead th {\n        text-align: right;\n    }\n</style>\n<table border=\"1\" class=\"dataframe\">\n  <thead>\n    <tr style=\"text-align: right;\">\n      <th></th>\n      <th>ProgrammingStyle</th>\n      <th>PreExperience</th>\n      <th>Correlation</th>\n    </tr>\n  </thead>\n  <tbody>\n    <tr>\n      <th>0</th>\n      <td>higher-order</td>\n      <td>Iteration</td>\n      <td>-0.328469</td>\n    </tr>\n    <tr>\n      <th>1</th>\n      <td>iterative</td>\n      <td>Iteration</td>\n      <td>-0.133724</td>\n    </tr>\n    <tr>\n      <th>2</th>\n      <td>list-comprehension</td>\n      <td>Iteration</td>\n      <td>-0.133258</td>\n    </tr>\n    <tr>\n      <th>3</th>\n      <td>recursive</td>\n      <td>Iteration</td>\n      <td>0.109498</td>\n    </tr>\n    <tr>\n      <th>4</th>\n      <td>higher-order</td>\n      <td>Recursion</td>\n      <td>-0.132232</td>\n    </tr>\n    <tr>\n      <th>5</th>\n      <td>iterative</td>\n      <td>Recursion</td>\n      <td>-0.238079</td>\n    </tr>\n    <tr>\n      <th>6</th>\n      <td>list-comprehension</td>\n      <td>Recursion</td>\n      <td>-0.029651</td>\n    </tr>\n    <tr>\n      <th>7</th>\n      <td>recursive</td>\n      <td>Recursion</td>\n      <td>-0.145832</td>\n    </tr>\n    <tr>\n      <th>8</th>\n      <td>higher-order</td>\n      <td>HigherOrder</td>\n      <td>-0.085153</td>\n    </tr>\n    <tr>\n      <th>9</th>\n      <td>iterative</td>\n      <td>HigherOrder</td>\n      <td>-0.072340</td>\n    </tr>\n    <tr>\n      <th>10</th>\n      <td>list-comprehension</td>\n      <td>HigherOrder</td>\n      <td>-0.087088</td>\n    </tr>\n    <tr>\n      <th>11</th>\n      <td>recursive</td>\n      <td>HigherOrder</td>\n      <td>-0.093032</td>\n    </tr>\n    <tr>\n      <th>12</th>\n      <td>higher-order</td>\n      <td>ListComprehension</td>\n      <td>-0.002366</td>\n    </tr>\n    <tr>\n      <th>13</th>\n      <td>iterative</td>\n      <td>ListComprehension</td>\n      <td>-0.124382</td>\n    </tr>\n    <tr>\n      <th>14</th>\n      <td>list-comprehension</td>\n      <td>ListComprehension</td>\n      <td>0.038405</td>\n    </tr>\n    <tr>\n      <th>15</th>\n      <td>recursive</td>\n      <td>ListComprehension</td>\n      <td>-0.105016</td>\n    </tr>\n  </tbody>\n</table>\n</div>"
     },
     "metadata": {},
     "output_type": "display_data"
    }
   ],
   "source": [
    "df_tmp = df_metrics[df_metrics[\"AOI\"] == \"StyleSpecific\"]\n",
    "df_tmp = df_tmp.rename({\"Participant\" : \"ID\"}, axis=1)\n",
    "df_tmp = df_tmp.merge(df_demographics, on=\"ID\")\n",
    "df_tmp = df_tmp[[\"ProgrammingStyle\", \"Duration\", \"Iteration\", \"Recursion\", \"HigherOrder\", \"ListComprehension\"]]\n",
    "df_correlation = pd.DataFrame(columns=[\"ProgrammingStyle\", \"PreExperience\", \"Correlation\"])\n",
    "for column in df_tmp.columns[2:]:\n",
    "    for style in df_tmp[\"ProgrammingStyle\"].unique():\n",
    "        df_sub = df_tmp[df_tmp[\"ProgrammingStyle\"] == style]\n",
    "        df_corr = df_sub[[\"Duration\", column]].corr()\n",
    "        coef = df_corr[\"Duration\"].values[1]\n",
    "        df_correlation.loc[len(df_correlation)] = [style, column, coef]\n",
    "display(df_correlation)\n",
    "df_correlation.to_excel(\"./tmp_corr_time_in_aoi_pre.xlsx\")"
   ],
   "metadata": {
    "collapsed": false,
    "pycharm": {
     "name": "#%%\n"
    }
   }
  },
  {
   "cell_type": "markdown",
   "source": [
    "### Correlation with Confounding Factors"
   ],
   "metadata": {
    "collapsed": false,
    "pycharm": {
     "name": "#%% md\n"
    }
   }
  },
  {
   "cell_type": "code",
   "execution_count": 78,
   "outputs": [
    {
     "data": {
      "text/plain": "         Algorithm    ProgrammingStyle    Factor\n6            apply           iterative  0.136401\n16   condition_sum           iterative  0.309226\n26            find           iterative  0.288572\n36        is_prime           iterative  0.238143\n46             max           iterative  0.204332\n56            node           iterative  0.072540\n66   prime_factors           iterative  0.280855\n76        quad_mul           iterative  0.262638\n86        computer           iterative  0.086346\n96           store           iterative  0.090452\n106     LinkedList           iterative  0.058296\n116          apply           recursive  0.118801\n126  condition_sum           recursive  0.135063\n136           find           recursive  0.213892\n146       is_prime           recursive  0.330400\n156            max           recursive  0.197593\n166           node           recursive  0.076945\n176  prime_factors           recursive  0.239153\n186       quad_mul           recursive  0.136144\n196       computer           recursive  0.027206\n206          store           recursive  0.058585\n216     LinkedList           recursive  0.045883\n226          apply        higher-order  0.058865\n236  condition_sum        higher-order  0.104291\n246           find        higher-order  0.089801\n256       is_prime        higher-order  0.073118\n266            max        higher-order  0.073949\n276           node        higher-order  0.055110\n286  prime_factors        higher-order  0.112653\n296       quad_mul        higher-order  0.112626\n306       computer        higher-order  0.025112\n316          store        higher-order  0.032124\n326     LinkedList        higher-order  0.032860\n336          apply  list-comprehension  0.096538\n346  condition_sum  list-comprehension  0.086208\n356           find  list-comprehension  0.077694\n366       is_prime  list-comprehension  0.099103\n376            max  list-comprehension  0.058670\n386           node  list-comprehension  0.035614\n396  prime_factors  list-comprehension  0.124702\n406       quad_mul  list-comprehension  0.089964\n416       computer  list-comprehension  0.027322\n426          store  list-comprehension  0.026849\n436     LinkedList  list-comprehension  0.022234",
      "text/html": "<div>\n<style scoped>\n    .dataframe tbody tr th:only-of-type {\n        vertical-align: middle;\n    }\n\n    .dataframe tbody tr th {\n        vertical-align: top;\n    }\n\n    .dataframe thead th {\n        text-align: right;\n    }\n</style>\n<table border=\"1\" class=\"dataframe\">\n  <thead>\n    <tr style=\"text-align: right;\">\n      <th></th>\n      <th>Algorithm</th>\n      <th>ProgrammingStyle</th>\n      <th>Factor</th>\n    </tr>\n  </thead>\n  <tbody>\n    <tr>\n      <th>6</th>\n      <td>apply</td>\n      <td>iterative</td>\n      <td>0.136401</td>\n    </tr>\n    <tr>\n      <th>16</th>\n      <td>condition_sum</td>\n      <td>iterative</td>\n      <td>0.309226</td>\n    </tr>\n    <tr>\n      <th>26</th>\n      <td>find</td>\n      <td>iterative</td>\n      <td>0.288572</td>\n    </tr>\n    <tr>\n      <th>36</th>\n      <td>is_prime</td>\n      <td>iterative</td>\n      <td>0.238143</td>\n    </tr>\n    <tr>\n      <th>46</th>\n      <td>max</td>\n      <td>iterative</td>\n      <td>0.204332</td>\n    </tr>\n    <tr>\n      <th>56</th>\n      <td>node</td>\n      <td>iterative</td>\n      <td>0.072540</td>\n    </tr>\n    <tr>\n      <th>66</th>\n      <td>prime_factors</td>\n      <td>iterative</td>\n      <td>0.280855</td>\n    </tr>\n    <tr>\n      <th>76</th>\n      <td>quad_mul</td>\n      <td>iterative</td>\n      <td>0.262638</td>\n    </tr>\n    <tr>\n      <th>86</th>\n      <td>computer</td>\n      <td>iterative</td>\n      <td>0.086346</td>\n    </tr>\n    <tr>\n      <th>96</th>\n      <td>store</td>\n      <td>iterative</td>\n      <td>0.090452</td>\n    </tr>\n    <tr>\n      <th>106</th>\n      <td>LinkedList</td>\n      <td>iterative</td>\n      <td>0.058296</td>\n    </tr>\n    <tr>\n      <th>116</th>\n      <td>apply</td>\n      <td>recursive</td>\n      <td>0.118801</td>\n    </tr>\n    <tr>\n      <th>126</th>\n      <td>condition_sum</td>\n      <td>recursive</td>\n      <td>0.135063</td>\n    </tr>\n    <tr>\n      <th>136</th>\n      <td>find</td>\n      <td>recursive</td>\n      <td>0.213892</td>\n    </tr>\n    <tr>\n      <th>146</th>\n      <td>is_prime</td>\n      <td>recursive</td>\n      <td>0.330400</td>\n    </tr>\n    <tr>\n      <th>156</th>\n      <td>max</td>\n      <td>recursive</td>\n      <td>0.197593</td>\n    </tr>\n    <tr>\n      <th>166</th>\n      <td>node</td>\n      <td>recursive</td>\n      <td>0.076945</td>\n    </tr>\n    <tr>\n      <th>176</th>\n      <td>prime_factors</td>\n      <td>recursive</td>\n      <td>0.239153</td>\n    </tr>\n    <tr>\n      <th>186</th>\n      <td>quad_mul</td>\n      <td>recursive</td>\n      <td>0.136144</td>\n    </tr>\n    <tr>\n      <th>196</th>\n      <td>computer</td>\n      <td>recursive</td>\n      <td>0.027206</td>\n    </tr>\n    <tr>\n      <th>206</th>\n      <td>store</td>\n      <td>recursive</td>\n      <td>0.058585</td>\n    </tr>\n    <tr>\n      <th>216</th>\n      <td>LinkedList</td>\n      <td>recursive</td>\n      <td>0.045883</td>\n    </tr>\n    <tr>\n      <th>226</th>\n      <td>apply</td>\n      <td>higher-order</td>\n      <td>0.058865</td>\n    </tr>\n    <tr>\n      <th>236</th>\n      <td>condition_sum</td>\n      <td>higher-order</td>\n      <td>0.104291</td>\n    </tr>\n    <tr>\n      <th>246</th>\n      <td>find</td>\n      <td>higher-order</td>\n      <td>0.089801</td>\n    </tr>\n    <tr>\n      <th>256</th>\n      <td>is_prime</td>\n      <td>higher-order</td>\n      <td>0.073118</td>\n    </tr>\n    <tr>\n      <th>266</th>\n      <td>max</td>\n      <td>higher-order</td>\n      <td>0.073949</td>\n    </tr>\n    <tr>\n      <th>276</th>\n      <td>node</td>\n      <td>higher-order</td>\n      <td>0.055110</td>\n    </tr>\n    <tr>\n      <th>286</th>\n      <td>prime_factors</td>\n      <td>higher-order</td>\n      <td>0.112653</td>\n    </tr>\n    <tr>\n      <th>296</th>\n      <td>quad_mul</td>\n      <td>higher-order</td>\n      <td>0.112626</td>\n    </tr>\n    <tr>\n      <th>306</th>\n      <td>computer</td>\n      <td>higher-order</td>\n      <td>0.025112</td>\n    </tr>\n    <tr>\n      <th>316</th>\n      <td>store</td>\n      <td>higher-order</td>\n      <td>0.032124</td>\n    </tr>\n    <tr>\n      <th>326</th>\n      <td>LinkedList</td>\n      <td>higher-order</td>\n      <td>0.032860</td>\n    </tr>\n    <tr>\n      <th>336</th>\n      <td>apply</td>\n      <td>list-comprehension</td>\n      <td>0.096538</td>\n    </tr>\n    <tr>\n      <th>346</th>\n      <td>condition_sum</td>\n      <td>list-comprehension</td>\n      <td>0.086208</td>\n    </tr>\n    <tr>\n      <th>356</th>\n      <td>find</td>\n      <td>list-comprehension</td>\n      <td>0.077694</td>\n    </tr>\n    <tr>\n      <th>366</th>\n      <td>is_prime</td>\n      <td>list-comprehension</td>\n      <td>0.099103</td>\n    </tr>\n    <tr>\n      <th>376</th>\n      <td>max</td>\n      <td>list-comprehension</td>\n      <td>0.058670</td>\n    </tr>\n    <tr>\n      <th>386</th>\n      <td>node</td>\n      <td>list-comprehension</td>\n      <td>0.035614</td>\n    </tr>\n    <tr>\n      <th>396</th>\n      <td>prime_factors</td>\n      <td>list-comprehension</td>\n      <td>0.124702</td>\n    </tr>\n    <tr>\n      <th>406</th>\n      <td>quad_mul</td>\n      <td>list-comprehension</td>\n      <td>0.089964</td>\n    </tr>\n    <tr>\n      <th>416</th>\n      <td>computer</td>\n      <td>list-comprehension</td>\n      <td>0.027322</td>\n    </tr>\n    <tr>\n      <th>426</th>\n      <td>store</td>\n      <td>list-comprehension</td>\n      <td>0.026849</td>\n    </tr>\n    <tr>\n      <th>436</th>\n      <td>LinkedList</td>\n      <td>list-comprehension</td>\n      <td>0.022234</td>\n    </tr>\n  </tbody>\n</table>\n</div>"
     },
     "execution_count": 78,
     "metadata": {},
     "output_type": "execute_result"
    }
   ],
   "source": [
    "df_confounding_style = df_confounding[df_confounding[\"AOI\"] == \"StyleSpecific\"].copy()\n",
    "df_confounding_style.drop(\"AOI\", axis=1, inplace=True)\n",
    "df_confounding_style"
   ],
   "metadata": {
    "collapsed": false,
    "pycharm": {
     "name": "#%%\n"
    }
   }
  },
  {
   "cell_type": "code",
   "execution_count": 83,
   "outputs": [
    {
     "data": {
      "text/plain": "     ProgrammingStyle  Correlation\n0        higher-order     0.241713\n1           iterative     0.170150\n2  list-comprehension     0.010825\n3           recursive     0.222238",
      "text/html": "<div>\n<style scoped>\n    .dataframe tbody tr th:only-of-type {\n        vertical-align: middle;\n    }\n\n    .dataframe tbody tr th {\n        vertical-align: top;\n    }\n\n    .dataframe thead th {\n        text-align: right;\n    }\n</style>\n<table border=\"1\" class=\"dataframe\">\n  <thead>\n    <tr style=\"text-align: right;\">\n      <th></th>\n      <th>ProgrammingStyle</th>\n      <th>Correlation</th>\n    </tr>\n  </thead>\n  <tbody>\n    <tr>\n      <th>0</th>\n      <td>higher-order</td>\n      <td>0.241713</td>\n    </tr>\n    <tr>\n      <th>1</th>\n      <td>iterative</td>\n      <td>0.170150</td>\n    </tr>\n    <tr>\n      <th>2</th>\n      <td>list-comprehension</td>\n      <td>0.010825</td>\n    </tr>\n    <tr>\n      <th>3</th>\n      <td>recursive</td>\n      <td>0.222238</td>\n    </tr>\n  </tbody>\n</table>\n</div>"
     },
     "metadata": {},
     "output_type": "display_data"
    }
   ],
   "source": [
    "df_tmp = df_metrics[df_metrics[\"AOI\"] == \"StyleSpecific\"]\n",
    "df_tmp = df_tmp.merge(df_confounding_style, on =[\"Algorithm\", \"ProgrammingStyle\"])\n",
    "df_tmp = df_tmp[[\"ProgrammingStyle\", \"Amount\", \"Factor\"]]\n",
    "df_tmp[\"Amount\"] = df_tmp[\"Amount\"].astype(float)\n",
    "df_correlation = pd.DataFrame(columns=[\"ProgrammingStyle\", \"Correlation\"])\n",
    "for style in df_tmp[\"ProgrammingStyle\"].unique():\n",
    "    df_sub = df_tmp[df_tmp[\"ProgrammingStyle\"] == style]\n",
    "    df_corr = df_sub[[\"Amount\", \"Factor\"]].corr()\n",
    "    coef = df_corr[\"Amount\"].values[1]\n",
    "    df_correlation.loc[len(df_correlation)] = [style, coef]\n",
    "display(df_correlation)\n",
    "df_correlation.to_excel(\"./tmp_click_corr_region.xlsx\")"
   ],
   "metadata": {
    "collapsed": false,
    "pycharm": {
     "name": "#%%\n"
    }
   }
  },
  {
   "cell_type": "code",
   "execution_count": 85,
   "outputs": [
    {
     "data": {
      "text/plain": "     ProgrammingStyle  Correlation\n0        higher-order     0.447852\n1           iterative     0.185979\n2  list-comprehension     0.203479\n3           recursive     0.384337",
      "text/html": "<div>\n<style scoped>\n    .dataframe tbody tr th:only-of-type {\n        vertical-align: middle;\n    }\n\n    .dataframe tbody tr th {\n        vertical-align: top;\n    }\n\n    .dataframe thead th {\n        text-align: right;\n    }\n</style>\n<table border=\"1\" class=\"dataframe\">\n  <thead>\n    <tr style=\"text-align: right;\">\n      <th></th>\n      <th>ProgrammingStyle</th>\n      <th>Correlation</th>\n    </tr>\n  </thead>\n  <tbody>\n    <tr>\n      <th>0</th>\n      <td>higher-order</td>\n      <td>0.447852</td>\n    </tr>\n    <tr>\n      <th>1</th>\n      <td>iterative</td>\n      <td>0.185979</td>\n    </tr>\n    <tr>\n      <th>2</th>\n      <td>list-comprehension</td>\n      <td>0.203479</td>\n    </tr>\n    <tr>\n      <th>3</th>\n      <td>recursive</td>\n      <td>0.384337</td>\n    </tr>\n  </tbody>\n</table>\n</div>"
     },
     "metadata": {},
     "output_type": "display_data"
    }
   ],
   "source": [
    "df_tmp = df_metrics[df_metrics[\"AOI\"] == \"StyleSpecific\"]\n",
    "df_tmp = df_tmp.merge(df_confounding_style, on =[\"Algorithm\", \"ProgrammingStyle\"])\n",
    "df_tmp = df_tmp[[\"ProgrammingStyle\", \"Duration\", \"Factor\"]]\n",
    "df_correlation = pd.DataFrame(columns=[\"ProgrammingStyle\", \"Correlation\"])\n",
    "for style in df_tmp[\"ProgrammingStyle\"].unique():\n",
    "    df_sub = df_tmp[df_tmp[\"ProgrammingStyle\"] == style]\n",
    "    df_corr = df_sub[[\"Duration\", \"Factor\"]].corr()\n",
    "    coef = df_corr[\"Duration\"].values[1]\n",
    "    df_correlation.loc[len(df_correlation)] = [style, coef]\n",
    "display(df_correlation)\n",
    "df_correlation.to_excel(\"./tmp_time_corr_region.xlsx\")"
   ],
   "metadata": {
    "collapsed": false,
    "pycharm": {
     "name": "#%%\n"
    }
   }
  },
  {
   "cell_type": "code",
   "execution_count": null,
   "outputs": [],
   "source": [],
   "metadata": {
    "collapsed": false,
    "pycharm": {
     "name": "#%%\n"
    }
   }
  }
 ],
 "metadata": {
  "kernelspec": {
   "display_name": "Python 3",
   "language": "python",
   "name": "python3"
  },
  "language_info": {
   "codemirror_mode": {
    "name": "ipython",
    "version": 2
   },
   "file_extension": ".py",
   "mimetype": "text/x-python",
   "name": "python",
   "nbconvert_exporter": "python",
   "pygments_lexer": "ipython2",
   "version": "2.7.6"
  }
 },
 "nbformat": 4,
 "nbformat_minor": 0
}