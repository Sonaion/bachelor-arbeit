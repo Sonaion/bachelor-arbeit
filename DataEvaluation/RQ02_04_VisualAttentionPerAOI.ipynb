{
 "cells": [
  {
   "cell_type": "markdown",
   "metadata": {
    "collapsed": true,
    "pycharm": {
     "name": "#%% md\n"
    }
   },
   "source": [
    "# Visual Attention per Area Of Interest"
   ]
  },
  {
   "cell_type": "code",
   "execution_count": 1,
   "outputs": [],
   "source": [
    "import pandas as pd\n",
    "import regex as re\n",
    "import matplotlib.pyplot as plt\n",
    "import seaborn as sns\n",
    "import json\n",
    "import modules.GenSnippetsLib as snippets\n",
    "from modules import stats as util_stats\n",
    "from pygments.lexers import PythonLexer\n",
    "from tqdm.notebook import tqdm\n",
    "import PIL\n",
    "import PIL.Image\n",
    "import numpy as np\n",
    "from skimage.draw import ellipse\n",
    "plt.rcParams['savefig.facecolor']='white'"
   ],
   "metadata": {
    "collapsed": false,
    "pycharm": {
     "name": "#%%\n"
    }
   }
  },
  {
   "cell_type": "markdown",
   "source": [
    "## Load The Data"
   ],
   "metadata": {
    "collapsed": false,
    "pycharm": {
     "name": "#%% md\n"
    }
   }
  },
  {
   "cell_type": "code",
   "execution_count": 2,
   "outputs": [],
   "source": [
    "def click_data_to_list(click_data_string):\n",
    "    click_data_list = []\n",
    "    for click in click_data_string.split(\" \"):\n",
    "        click = click.split(\"-\")\n",
    "        # extract the x and y coordinates from a string via regex\n",
    "        x = int(re.search(r'\\d+', click[0])[0])\n",
    "        y = int(re.search(r'\\d+', click[1])[0])\n",
    "        click_data_list.append((x, y))\n",
    "    return click_data_list#\n",
    "\n",
    "def time_data_to_list(time_data_string):\n",
    "    time_data_list = []\n",
    "    for time in time_data_string.split(\" \"):\n",
    "        time_data_list.append(float(time) / 1000)\n",
    "    return time_data_list"
   ],
   "metadata": {
    "collapsed": false,
    "pycharm": {
     "name": "#%%\n"
    }
   }
  },
  {
   "cell_type": "code",
   "execution_count": 3,
   "outputs": [],
   "source": [
    "df = pd.read_csv('./data/preprocessed_experiment_data.csv')\n",
    "df = df[df[\"Outlier\"] == False]\n",
    "df = df.drop(columns=[\"Outlier\"])\n",
    "\n",
    "df[\"ClickData\"] = df[\"ClickData\"].apply(lambda x: click_data_to_list(x))\n",
    "df[\"TimeData\"] = df[\"TimeData\"].apply(lambda x: time_data_to_list(x))\n",
    "df[\"NumberOfClicks\"] = df[\"ClickData\"].apply(lambda x: len(x))\n",
    "df[\"AverageTimeOfClicks\"] = (df[\"ResponseTime\"] / 1000) / df[\"NumberOfClicks\"]"
   ],
   "metadata": {
    "collapsed": false,
    "pycharm": {
     "name": "#%%\n"
    }
   }
  },
  {
   "cell_type": "markdown",
   "source": [
    "## Create the Bounding Boxes of the Areas of Interest"
   ],
   "metadata": {
    "collapsed": false,
    "pycharm": {
     "name": "#%% md\n"
    }
   }
  },
  {
   "cell_type": "code",
   "execution_count": 4,
   "outputs": [],
   "source": [
    "# prepare color mapping for aois\n",
    "algorithms = df[[\"Algorithm\"]].sort_values(by=\"Algorithm\")[\"Algorithm\"].unique()\n",
    "programming_styles = df[[\"ProgrammingStyle\"]].sort_values(by=\"ProgrammingStyle\")[\"ProgrammingStyle\"].unique()\n",
    "algorithms = [x for x in algorithms]\n",
    "programming_styles = [x.replace(\"-\", \"_\") for x in programming_styles]\n",
    "\n",
    "color_palette = sns.color_palette(\"hls\", 16)\n",
    "color_palette_mapping = {\n",
    "    \"Method\" : color_palette[0],\n",
    "    \"MethodDeclaration\" : color_palette[1],\n",
    "    \"MethodBody\" : color_palette[2],\n",
    "    \"Helper\" : color_palette[3],\n",
    "    \"HelperDeclaration\" : color_palette[4],\n",
    "    \"HelperBody\" : color_palette[5],\n",
    "    \"Iteration\" : color_palette[6],\n",
    "    \"IterationHead\" : color_palette[7],\n",
    "    \"IterationBody\" : color_palette[8],\n",
    "    \"RecursiveCall\" : color_palette[9],\n",
    "    \"RecursiveBaseCase\" : color_palette[10],\n",
    "    \"HigherOrder\" : color_palette[11],\n",
    "    \"ListComprehension\" : color_palette[12],\n",
    "    \"InputPreparation\" : color_palette[13],\n",
    "    \"StartOfAlgorithm\" : color_palette[14],\n",
    "    \"Class\" : color_palette[15],\n",
    "}\n",
    "aoi_colors = color_palette\n",
    "aoi_numbers = {name : idx for idx, (name, _value) in enumerate(color_palette_mapping.items())}\n",
    "aoi_names = [name for name, _value in color_palette_mapping.items()]\n",
    "\n",
    "def aoi_idx_to_convoluted_idx(aoi_idx):\n",
    "    if aoi_idx < 5:\n",
    "        return aoi_idx\n",
    "    if 6 <= aoi_idx <= 12:\n",
    "        return 6\n",
    "    if 13 <= aoi_idx:\n",
    "        return aoi_idx-6\n",
    "\n",
    "def aoi_name_to_convoluted_name(aoi_name):\n",
    "    if aoi_name in [\"Iteration\", \"IterationHead\", \"IterationBody\",\n",
    "                    \"Recursion\", \"RecursiveCall\", \"RecursiveBaseCase\",\n",
    "                    \"HigherOrder\",\n",
    "                    \"ListComprehension\"]:\n",
    "        return \"StyleSpecific\"\n",
    "    return aoi_name\n",
    "\n",
    "color_palette = sns.color_palette(\"hls\", 10)\n",
    "color_palette_mapping_convoluted = {\n",
    "    \"Method\" : color_palette[0],\n",
    "    \"MethodDeclaration\" : color_palette[1],\n",
    "    \"MethodBody\" : color_palette[2],\n",
    "    \"Helper\" : color_palette[3],\n",
    "    \"HelperDeclaration\" : color_palette[4],\n",
    "    \"HelperBody\" : color_palette[5],\n",
    "    \"StyleSpecific\" : color_palette[6],\n",
    "    \"InputPreparation\" : color_palette[7],\n",
    "    \"StartOfAlgorithm\" : color_palette[8],\n",
    "    \"Class\" : color_palette[9],\n",
    "}\n",
    "aoi_colors_convoluted = color_palette\n",
    "aoi_numbers_convoluted = {name : idx for idx, (name, _value) in enumerate(color_palette_mapping_convoluted.items())}\n",
    "aoi_names_convoluted = [name for name, _value in color_palette_mapping_convoluted.items()]"
   ],
   "metadata": {
    "collapsed": false,
    "pycharm": {
     "name": "#%%\n"
    }
   }
  },
  {
   "cell_type": "code",
   "execution_count": 5,
   "outputs": [
    {
     "data": {
      "text/plain": "  0%|          | 0/11 [00:00<?, ?it/s]",
      "application/vnd.jupyter.widget-view+json": {
       "version_major": 2,
       "version_minor": 0,
       "model_id": "a3d6a8d6cc85477f96dd50a553b572f4"
      }
     },
     "metadata": {},
     "output_type": "display_data"
    },
    {
     "data": {
      "text/plain": "       Algorithm    ProgrammingStyle  \\\n0     LinkedList        higher-order   \n0     LinkedList           iterative   \n0     LinkedList  list-comprehension   \n0     LinkedList           recursive   \n0          apply        higher-order   \n0          apply           iterative   \n0          apply  list-comprehension   \n0          apply           recursive   \n0       computer        higher-order   \n0       computer           iterative   \n0       computer  list-comprehension   \n0       computer           recursive   \n0  condition_sum        higher-order   \n0  condition_sum           iterative   \n0  condition_sum  list-comprehension   \n0  condition_sum           recursive   \n0           find        higher-order   \n0           find           iterative   \n0           find  list-comprehension   \n0           find           recursive   \n0       is_prime        higher-order   \n0       is_prime           iterative   \n0       is_prime  list-comprehension   \n0       is_prime           recursive   \n0            max        higher-order   \n0            max           iterative   \n0            max  list-comprehension   \n0            max           recursive   \n0           node        higher-order   \n0           node           iterative   \n0           node  list-comprehension   \n0           node           recursive   \n0  prime_factors        higher-order   \n0  prime_factors           iterative   \n0  prime_factors  list-comprehension   \n0  prime_factors           recursive   \n0       quad_mul        higher-order   \n0       quad_mul           iterative   \n0       quad_mul  list-comprehension   \n0       quad_mul           recursive   \n0          store        higher-order   \n0          store           iterative   \n0          store  list-comprehension   \n0          store           recursive   \n\n                                       BoundingBoxes ImageDimension  \n0  [(MethodDeclaration, [2, 655, 200, 675]), (Inp...    (594, 1206)  \n0  [(MethodDeclaration, [2, 551, 200, 571]), (Inp...    (362, 1154)  \n0  [(MethodDeclaration, [2, 655, 200, 675]), (Inp...    (706, 1232)  \n0  [(MethodDeclaration, [2, 239, 288, 260]), (Inp...     (506, 868)  \n0  [(MethodDeclaration, [2, 5, 256, 26]), (InputP...     (394, 166)  \n0  [(MethodDeclaration, [2, 5, 256, 26]), (InputP...     (394, 244)  \n0  [(MethodDeclaration, [2, 5, 256, 26]), (InputP...     (394, 166)  \n0  [(MethodDeclaration, [2, 5, 256, 26]), (InputP...     (562, 244)  \n0  [(MethodDeclaration, [2, 369, 240, 390]), (Inp...     (882, 738)  \n0  [(MethodDeclaration, [2, 369, 240, 390]), (Inp...     (738, 842)  \n0  [(MethodDeclaration, [2, 369, 240, 390]), (Inp...    (1090, 738)  \n0  [(MethodDeclaration, [2, 369, 240, 390]), (Inp...     (922, 868)  \n0  [(MethodDeclaration, [2, 83, 136, 103]), (Inpu...     (618, 270)  \n0  [(MethodDeclaration, [2, 5, 136, 25]), (InputP...     (298, 348)  \n0  [(MethodDeclaration, [2, 83, 136, 103]), (Inpu...     (722, 322)  \n0  [(MethodDeclaration, [2, 5, 136, 25]), (InputP...     (282, 296)  \n0  [(MethodDeclaration, [2, 83, 280, 104]), (Inpu...     (826, 296)  \n0  [(MethodDeclaration, [2, 5, 280, 26]), (InputP...     (362, 244)  \n0  [(MethodDeclaration, [2, 83, 280, 104]), (Inpu...     (658, 244)  \n0  [(MethodDeclaration, [2, 5, 280, 26]), (InputP...     (386, 400)  \n0  [(MethodDeclaration, [2, 5, 176, 25]), (InputP...     (530, 218)  \n0  [(MethodDeclaration, [2, 5, 176, 25]), (InputP...     (418, 296)  \n0  [(MethodDeclaration, [2, 5, 176, 25]), (InputP...     (674, 166)  \n0  [(MethodDeclaration, [2, 5, 288, 26]), (InputP...     (330, 374)  \n0  [(MethodDeclaration, [2, 83, 208, 104]), (Inpu...     (506, 244)  \n0  [(MethodDeclaration, [2, 5, 208, 26]), (InputP...     (242, 348)  \n0  [(MethodDeclaration, [2, 83, 208, 104]), (Inpu...     (546, 296)  \n0  [(MethodDeclaration, [2, 5, 320, 26]), (InputP...     (442, 348)  \n0  [(MethodDeclaration, [2, 551, 160, 571]), (Inp...     (522, 842)  \n0  [(MethodDeclaration, [2, 629, 160, 649]), (Inp...     (434, 972)  \n0  [(MethodDeclaration, [2, 447, 160, 467]), (Inp...     (794, 764)  \n0  [(MethodDeclaration, [2, 1019, 192, 1040]), (I...    (642, 1310)  \n0  [(MethodDeclaration, [2, 161, 176, 181]), (Inp...     (530, 374)  \n0  [(MethodDeclaration, [2, 239, 176, 259]), (Inp...     (434, 504)  \n0  [(MethodDeclaration, [2, 109, 176, 129]), (Inp...     (690, 270)  \n0  [(MethodDeclaration, [2, 317, 288, 338]), (Inp...     (538, 894)  \n0  [(MethodDeclaration, [2, 83, 136, 103]), (Inpu...     (450, 270)  \n0  [(MethodDeclaration, [2, 5, 136, 25]), (InputP...     (274, 322)  \n0  [(MethodDeclaration, [2, 83, 136, 103]), (Inpu...     (442, 322)  \n0  [(MethodDeclaration, [2, 5, 136, 25]), (InputP...     (290, 218)  \n0  [(MethodDeclaration, [2, 889, 320, 910]), (Inp...    (858, 1752)  \n0  [(MethodDeclaration, [2, 889, 320, 910]), (Inp...    (426, 2064)  \n0  [(MethodDeclaration, [2, 889, 320, 910]), (Inp...    (842, 1700)  \n0  [(MethodDeclaration, [2, 1331, 320, 1352]), (I...    (618, 2272)  ",
      "text/html": "<div>\n<style scoped>\n    .dataframe tbody tr th:only-of-type {\n        vertical-align: middle;\n    }\n\n    .dataframe tbody tr th {\n        vertical-align: top;\n    }\n\n    .dataframe thead th {\n        text-align: right;\n    }\n</style>\n<table border=\"1\" class=\"dataframe\">\n  <thead>\n    <tr style=\"text-align: right;\">\n      <th></th>\n      <th>Algorithm</th>\n      <th>ProgrammingStyle</th>\n      <th>BoundingBoxes</th>\n      <th>ImageDimension</th>\n    </tr>\n  </thead>\n  <tbody>\n    <tr>\n      <th>0</th>\n      <td>LinkedList</td>\n      <td>higher-order</td>\n      <td>[(MethodDeclaration, [2, 655, 200, 675]), (Inp...</td>\n      <td>(594, 1206)</td>\n    </tr>\n    <tr>\n      <th>0</th>\n      <td>LinkedList</td>\n      <td>iterative</td>\n      <td>[(MethodDeclaration, [2, 551, 200, 571]), (Inp...</td>\n      <td>(362, 1154)</td>\n    </tr>\n    <tr>\n      <th>0</th>\n      <td>LinkedList</td>\n      <td>list-comprehension</td>\n      <td>[(MethodDeclaration, [2, 655, 200, 675]), (Inp...</td>\n      <td>(706, 1232)</td>\n    </tr>\n    <tr>\n      <th>0</th>\n      <td>LinkedList</td>\n      <td>recursive</td>\n      <td>[(MethodDeclaration, [2, 239, 288, 260]), (Inp...</td>\n      <td>(506, 868)</td>\n    </tr>\n    <tr>\n      <th>0</th>\n      <td>apply</td>\n      <td>higher-order</td>\n      <td>[(MethodDeclaration, [2, 5, 256, 26]), (InputP...</td>\n      <td>(394, 166)</td>\n    </tr>\n    <tr>\n      <th>0</th>\n      <td>apply</td>\n      <td>iterative</td>\n      <td>[(MethodDeclaration, [2, 5, 256, 26]), (InputP...</td>\n      <td>(394, 244)</td>\n    </tr>\n    <tr>\n      <th>0</th>\n      <td>apply</td>\n      <td>list-comprehension</td>\n      <td>[(MethodDeclaration, [2, 5, 256, 26]), (InputP...</td>\n      <td>(394, 166)</td>\n    </tr>\n    <tr>\n      <th>0</th>\n      <td>apply</td>\n      <td>recursive</td>\n      <td>[(MethodDeclaration, [2, 5, 256, 26]), (InputP...</td>\n      <td>(562, 244)</td>\n    </tr>\n    <tr>\n      <th>0</th>\n      <td>computer</td>\n      <td>higher-order</td>\n      <td>[(MethodDeclaration, [2, 369, 240, 390]), (Inp...</td>\n      <td>(882, 738)</td>\n    </tr>\n    <tr>\n      <th>0</th>\n      <td>computer</td>\n      <td>iterative</td>\n      <td>[(MethodDeclaration, [2, 369, 240, 390]), (Inp...</td>\n      <td>(738, 842)</td>\n    </tr>\n    <tr>\n      <th>0</th>\n      <td>computer</td>\n      <td>list-comprehension</td>\n      <td>[(MethodDeclaration, [2, 369, 240, 390]), (Inp...</td>\n      <td>(1090, 738)</td>\n    </tr>\n    <tr>\n      <th>0</th>\n      <td>computer</td>\n      <td>recursive</td>\n      <td>[(MethodDeclaration, [2, 369, 240, 390]), (Inp...</td>\n      <td>(922, 868)</td>\n    </tr>\n    <tr>\n      <th>0</th>\n      <td>condition_sum</td>\n      <td>higher-order</td>\n      <td>[(MethodDeclaration, [2, 83, 136, 103]), (Inpu...</td>\n      <td>(618, 270)</td>\n    </tr>\n    <tr>\n      <th>0</th>\n      <td>condition_sum</td>\n      <td>iterative</td>\n      <td>[(MethodDeclaration, [2, 5, 136, 25]), (InputP...</td>\n      <td>(298, 348)</td>\n    </tr>\n    <tr>\n      <th>0</th>\n      <td>condition_sum</td>\n      <td>list-comprehension</td>\n      <td>[(MethodDeclaration, [2, 83, 136, 103]), (Inpu...</td>\n      <td>(722, 322)</td>\n    </tr>\n    <tr>\n      <th>0</th>\n      <td>condition_sum</td>\n      <td>recursive</td>\n      <td>[(MethodDeclaration, [2, 5, 136, 25]), (InputP...</td>\n      <td>(282, 296)</td>\n    </tr>\n    <tr>\n      <th>0</th>\n      <td>find</td>\n      <td>higher-order</td>\n      <td>[(MethodDeclaration, [2, 83, 280, 104]), (Inpu...</td>\n      <td>(826, 296)</td>\n    </tr>\n    <tr>\n      <th>0</th>\n      <td>find</td>\n      <td>iterative</td>\n      <td>[(MethodDeclaration, [2, 5, 280, 26]), (InputP...</td>\n      <td>(362, 244)</td>\n    </tr>\n    <tr>\n      <th>0</th>\n      <td>find</td>\n      <td>list-comprehension</td>\n      <td>[(MethodDeclaration, [2, 83, 280, 104]), (Inpu...</td>\n      <td>(658, 244)</td>\n    </tr>\n    <tr>\n      <th>0</th>\n      <td>find</td>\n      <td>recursive</td>\n      <td>[(MethodDeclaration, [2, 5, 280, 26]), (InputP...</td>\n      <td>(386, 400)</td>\n    </tr>\n    <tr>\n      <th>0</th>\n      <td>is_prime</td>\n      <td>higher-order</td>\n      <td>[(MethodDeclaration, [2, 5, 176, 25]), (InputP...</td>\n      <td>(530, 218)</td>\n    </tr>\n    <tr>\n      <th>0</th>\n      <td>is_prime</td>\n      <td>iterative</td>\n      <td>[(MethodDeclaration, [2, 5, 176, 25]), (InputP...</td>\n      <td>(418, 296)</td>\n    </tr>\n    <tr>\n      <th>0</th>\n      <td>is_prime</td>\n      <td>list-comprehension</td>\n      <td>[(MethodDeclaration, [2, 5, 176, 25]), (InputP...</td>\n      <td>(674, 166)</td>\n    </tr>\n    <tr>\n      <th>0</th>\n      <td>is_prime</td>\n      <td>recursive</td>\n      <td>[(MethodDeclaration, [2, 5, 288, 26]), (InputP...</td>\n      <td>(330, 374)</td>\n    </tr>\n    <tr>\n      <th>0</th>\n      <td>max</td>\n      <td>higher-order</td>\n      <td>[(MethodDeclaration, [2, 83, 208, 104]), (Inpu...</td>\n      <td>(506, 244)</td>\n    </tr>\n    <tr>\n      <th>0</th>\n      <td>max</td>\n      <td>iterative</td>\n      <td>[(MethodDeclaration, [2, 5, 208, 26]), (InputP...</td>\n      <td>(242, 348)</td>\n    </tr>\n    <tr>\n      <th>0</th>\n      <td>max</td>\n      <td>list-comprehension</td>\n      <td>[(MethodDeclaration, [2, 83, 208, 104]), (Inpu...</td>\n      <td>(546, 296)</td>\n    </tr>\n    <tr>\n      <th>0</th>\n      <td>max</td>\n      <td>recursive</td>\n      <td>[(MethodDeclaration, [2, 5, 320, 26]), (InputP...</td>\n      <td>(442, 348)</td>\n    </tr>\n    <tr>\n      <th>0</th>\n      <td>node</td>\n      <td>higher-order</td>\n      <td>[(MethodDeclaration, [2, 551, 160, 571]), (Inp...</td>\n      <td>(522, 842)</td>\n    </tr>\n    <tr>\n      <th>0</th>\n      <td>node</td>\n      <td>iterative</td>\n      <td>[(MethodDeclaration, [2, 629, 160, 649]), (Inp...</td>\n      <td>(434, 972)</td>\n    </tr>\n    <tr>\n      <th>0</th>\n      <td>node</td>\n      <td>list-comprehension</td>\n      <td>[(MethodDeclaration, [2, 447, 160, 467]), (Inp...</td>\n      <td>(794, 764)</td>\n    </tr>\n    <tr>\n      <th>0</th>\n      <td>node</td>\n      <td>recursive</td>\n      <td>[(MethodDeclaration, [2, 1019, 192, 1040]), (I...</td>\n      <td>(642, 1310)</td>\n    </tr>\n    <tr>\n      <th>0</th>\n      <td>prime_factors</td>\n      <td>higher-order</td>\n      <td>[(MethodDeclaration, [2, 161, 176, 181]), (Inp...</td>\n      <td>(530, 374)</td>\n    </tr>\n    <tr>\n      <th>0</th>\n      <td>prime_factors</td>\n      <td>iterative</td>\n      <td>[(MethodDeclaration, [2, 239, 176, 259]), (Inp...</td>\n      <td>(434, 504)</td>\n    </tr>\n    <tr>\n      <th>0</th>\n      <td>prime_factors</td>\n      <td>list-comprehension</td>\n      <td>[(MethodDeclaration, [2, 109, 176, 129]), (Inp...</td>\n      <td>(690, 270)</td>\n    </tr>\n    <tr>\n      <th>0</th>\n      <td>prime_factors</td>\n      <td>recursive</td>\n      <td>[(MethodDeclaration, [2, 317, 288, 338]), (Inp...</td>\n      <td>(538, 894)</td>\n    </tr>\n    <tr>\n      <th>0</th>\n      <td>quad_mul</td>\n      <td>higher-order</td>\n      <td>[(MethodDeclaration, [2, 83, 136, 103]), (Inpu...</td>\n      <td>(450, 270)</td>\n    </tr>\n    <tr>\n      <th>0</th>\n      <td>quad_mul</td>\n      <td>iterative</td>\n      <td>[(MethodDeclaration, [2, 5, 136, 25]), (InputP...</td>\n      <td>(274, 322)</td>\n    </tr>\n    <tr>\n      <th>0</th>\n      <td>quad_mul</td>\n      <td>list-comprehension</td>\n      <td>[(MethodDeclaration, [2, 83, 136, 103]), (Inpu...</td>\n      <td>(442, 322)</td>\n    </tr>\n    <tr>\n      <th>0</th>\n      <td>quad_mul</td>\n      <td>recursive</td>\n      <td>[(MethodDeclaration, [2, 5, 136, 25]), (InputP...</td>\n      <td>(290, 218)</td>\n    </tr>\n    <tr>\n      <th>0</th>\n      <td>store</td>\n      <td>higher-order</td>\n      <td>[(MethodDeclaration, [2, 889, 320, 910]), (Inp...</td>\n      <td>(858, 1752)</td>\n    </tr>\n    <tr>\n      <th>0</th>\n      <td>store</td>\n      <td>iterative</td>\n      <td>[(MethodDeclaration, [2, 889, 320, 910]), (Inp...</td>\n      <td>(426, 2064)</td>\n    </tr>\n    <tr>\n      <th>0</th>\n      <td>store</td>\n      <td>list-comprehension</td>\n      <td>[(MethodDeclaration, [2, 889, 320, 910]), (Inp...</td>\n      <td>(842, 1700)</td>\n    </tr>\n    <tr>\n      <th>0</th>\n      <td>store</td>\n      <td>recursive</td>\n      <td>[(MethodDeclaration, [2, 1331, 320, 1352]), (I...</td>\n      <td>(618, 2272)</td>\n    </tr>\n  </tbody>\n</table>\n</div>"
     },
     "execution_count": 5,
     "metadata": {},
     "output_type": "execute_result"
    }
   ],
   "source": [
    "# create bounding boxes and visualize them\n",
    "def from_canvas(fig):\n",
    "    lst = list(fig.canvas.get_width_height())\n",
    "    lst.append(3)\n",
    "    return PIL.Image.fromarray(np.frombuffer(fig.canvas.tostring_rgb(),dtype=np.uint8).reshape(lst))\n",
    "\n",
    "df_bounding_box = pd.DataFrame(columns=[\"Algorithm\", \"ProgrammingStyle\", \"BoundingBoxes\", \"ImageDimension\"])\n",
    "font_path=\"\\\\data\\\\fonts\\\\ttf\\\\\"\n",
    "offset = 3\n",
    "\n",
    "\n",
    "for algorithm in tqdm(algorithms):\n",
    "    for programming_style in programming_styles:\n",
    "        # load the image and generate bb code info\n",
    "        file_name = './data/CodeSnippets/Generators/' + algorithm + '_' + programming_style + '.json'\n",
    "        try:\n",
    "            image, result = snippets.create_image(file_name, font_path=font_path, lexer=PythonLexer)\n",
    "            y, x = image.size[::-1]\n",
    "            dimension = (x, y)\n",
    "        except Exception as e:\n",
    "            print(file_name + \":\" + str(e))\n",
    "            continue\n",
    "        # extract the areas of interest in the image\n",
    "        areas_of_interest = set()\n",
    "        for letter in result:\n",
    "            for aoi in letter[\"AOI\"]:\n",
    "                areas_of_interest.add(aoi)\n",
    "\n",
    "        # create the bounding boxes\n",
    "        disjoint_areas_of_interest = []\n",
    "        for aoi in areas_of_interest:\n",
    "            upper_left_x = 0\n",
    "            upper_left_y = 0\n",
    "            lower_right_x = 0\n",
    "            lower_right_y = 0\n",
    "            has_aoi = False\n",
    "            for letter in result:\n",
    "                if letter[\"BoundingBox\"][0] == 0 and letter[\"BoundingBox\"][1] == 0 and letter[\"BoundingBox\"][2] == 0 and letter[\"BoundingBox\"][3] == 0:\n",
    "                    continue\n",
    "\n",
    "                if aoi in letter[\"AOI\"]:\n",
    "                    if not has_aoi:\n",
    "                        upper_left_x = letter[\"BoundingBox\"][0] - offset\n",
    "                        upper_left_y = letter[\"BoundingBox\"][1] - offset\n",
    "                        lower_right_x = letter[\"BoundingBox\"][2] + offset\n",
    "                        lower_right_y = letter[\"BoundingBox\"][3] + offset\n",
    "                        has_aoi = True\n",
    "                    else:\n",
    "                        upper_left_x = min(upper_left_x, letter[\"BoundingBox\"][0] - offset)\n",
    "                        upper_left_y = min(upper_left_y, letter[\"BoundingBox\"][1] - offset)\n",
    "                        lower_right_x = max(lower_right_x, letter[\"BoundingBox\"][2] + offset)\n",
    "                        lower_right_y = max(lower_right_y, letter[\"BoundingBox\"][3] + offset)\n",
    "                else:\n",
    "                    if has_aoi:\n",
    "                        disjoint_areas_of_interest.append((aoi, [upper_left_x, upper_left_y, lower_right_x, lower_right_y]))\n",
    "                    has_aoi = False\n",
    "                    upper_left_x = 0\n",
    "                    upper_left_y = 0\n",
    "                    lower_right_x = 0\n",
    "                    lower_right_y = 0\n",
    "\n",
    "            if has_aoi:\n",
    "                disjoint_areas_of_interest.append((aoi, [upper_left_x, upper_left_y, lower_right_x, lower_right_y]))\n",
    "\n",
    "        # create the bounding boxes without None aoi\n",
    "        disjoint_areas_of_interest = [area for area in disjoint_areas_of_interest if area[0] != \"None\"]\n",
    "        df_bounding_box = df_bounding_box.append(pd.DataFrame([[algorithm, programming_style.replace(\"_\", \"-\"), disjoint_areas_of_interest, dimension]], columns=df_bounding_box.columns))\n",
    "df_bounding_box"
   ],
   "metadata": {
    "collapsed": false,
    "pycharm": {
     "name": "#%%\n"
    }
   }
  },
  {
   "cell_type": "markdown",
   "source": [
    "## Map the Visual Attention Measures to the Areas of Interest"
   ],
   "metadata": {
    "collapsed": false,
    "pycharm": {
     "name": "#%% md\n"
    }
   }
  },
  {
   "cell_type": "code",
   "execution_count": 6,
   "outputs": [],
   "source": [
    "def get_ellipse_mask(center, x_radius, y_radius, dimension, std_value = 1.0):\n",
    "    \"\"\"\n",
    "    Returns a mask of an ellipse with the given center, x-radius, and y-radius.\n",
    "    \"\"\"\n",
    "    x_dim = max(center[0]+2*x_radius+1, dimension[0])\n",
    "    y_dim = max(center[1]+2*y_radius+1, dimension[1])\n",
    "    mask = np.zeros((y_dim, x_dim), dtype=np.float32)\n",
    "    rr, cc = ellipse(center[1], center[0], y_radius, x_radius)\n",
    "    mask[rr, cc] = std_value\n",
    "    mask = mask[:dimension[1], :dimension[0]]\n",
    "    return mask\n",
    "\n",
    "def get_rectangular_mask(points, dimension, std_value = 1.0):\n",
    "    \"\"\"\n",
    "    Returns a mask of a rectangular with the given points.\n",
    "    \"\"\"\n",
    "    x_dim = max(points[2]+1, dimension[0])\n",
    "    y_dim = max(points[3]+1, dimension[1])\n",
    "    mask = np.zeros((y_dim, x_dim), dtype=np.float32)\n",
    "    mask[points[1]:points[3]+1, points[0]:points[2]+1] = std_value\n",
    "    mask = mask[:dimension[1], :dimension[0]]\n",
    "    return mask"
   ],
   "metadata": {
    "collapsed": false,
    "pycharm": {
     "name": "#%%\n"
    }
   }
  },
  {
   "cell_type": "code",
   "execution_count": 7,
   "outputs": [],
   "source": [
    "settings = json.load(open(\"./data/settings.json\"))\n",
    "x_radius = settings[\"radius_x\"]+settings[\"grad_radius\"]//2\n",
    "y_radius = settings[\"radius_y\"]+settings[\"grad_radius\"]//2\n",
    "\n",
    "df = pd.merge(df, df_bounding_box, on=[\"Algorithm\", \"ProgrammingStyle\"])"
   ],
   "metadata": {
    "collapsed": false,
    "pycharm": {
     "name": "#%%\n"
    }
   }
  },
  {
   "cell_type": "code",
   "execution_count": 8,
   "outputs": [
    {
     "data": {
      "text/plain": "  0%|          | 0/278 [00:00<?, ?it/s]",
      "application/vnd.jupyter.widget-view+json": {
       "version_major": 2,
       "version_minor": 0,
       "model_id": "b6cb5a741f744471bd0ab87322042c23"
      }
     },
     "metadata": {},
     "output_type": "display_data"
    },
    {
     "data": {
      "text/plain": "       Algorithm    ProgrammingStyle Participant Number  Duration  \\\n0          apply           iterative         212      0    10.105   \n1          apply           iterative         212      1    24.330   \n2          apply           iterative         212      2     0.570   \n3          apply           iterative         212      3     4.187   \n4          apply           iterative         212      4     7.954   \n...          ...                 ...         ...    ...       ...   \n6597  LinkedList  list-comprehension         315     20     3.786   \n6598  LinkedList  list-comprehension         315     21     0.533   \n6599  LinkedList  list-comprehension         315     22     0.468   \n6600  LinkedList  list-comprehension         315     23     0.484   \n6601  LinkedList  list-comprehension         315     24     0.515   \n\n                                       AOI  \n0     {StartOfAlgorithm, InputPreparation}  \n1          {Iteration, MethodBody, Method}  \n2          {Iteration, MethodBody, Method}  \n3          {Iteration, MethodBody, Method}  \n4              {MethodDeclaration, Method}  \n...                                    ...  \n6597                    {InputPreparation}  \n6598                    {InputPreparation}  \n6599                    {InputPreparation}  \n6600                    {InputPreparation}  \n6601  {StartOfAlgorithm, InputPreparation}  \n\n[6602 rows x 6 columns]",
      "text/html": "<div>\n<style scoped>\n    .dataframe tbody tr th:only-of-type {\n        vertical-align: middle;\n    }\n\n    .dataframe tbody tr th {\n        vertical-align: top;\n    }\n\n    .dataframe thead th {\n        text-align: right;\n    }\n</style>\n<table border=\"1\" class=\"dataframe\">\n  <thead>\n    <tr style=\"text-align: right;\">\n      <th></th>\n      <th>Algorithm</th>\n      <th>ProgrammingStyle</th>\n      <th>Participant</th>\n      <th>Number</th>\n      <th>Duration</th>\n      <th>AOI</th>\n    </tr>\n  </thead>\n  <tbody>\n    <tr>\n      <th>0</th>\n      <td>apply</td>\n      <td>iterative</td>\n      <td>212</td>\n      <td>0</td>\n      <td>10.105</td>\n      <td>{StartOfAlgorithm, InputPreparation}</td>\n    </tr>\n    <tr>\n      <th>1</th>\n      <td>apply</td>\n      <td>iterative</td>\n      <td>212</td>\n      <td>1</td>\n      <td>24.330</td>\n      <td>{Iteration, MethodBody, Method}</td>\n    </tr>\n    <tr>\n      <th>2</th>\n      <td>apply</td>\n      <td>iterative</td>\n      <td>212</td>\n      <td>2</td>\n      <td>0.570</td>\n      <td>{Iteration, MethodBody, Method}</td>\n    </tr>\n    <tr>\n      <th>3</th>\n      <td>apply</td>\n      <td>iterative</td>\n      <td>212</td>\n      <td>3</td>\n      <td>4.187</td>\n      <td>{Iteration, MethodBody, Method}</td>\n    </tr>\n    <tr>\n      <th>4</th>\n      <td>apply</td>\n      <td>iterative</td>\n      <td>212</td>\n      <td>4</td>\n      <td>7.954</td>\n      <td>{MethodDeclaration, Method}</td>\n    </tr>\n    <tr>\n      <th>...</th>\n      <td>...</td>\n      <td>...</td>\n      <td>...</td>\n      <td>...</td>\n      <td>...</td>\n      <td>...</td>\n    </tr>\n    <tr>\n      <th>6597</th>\n      <td>LinkedList</td>\n      <td>list-comprehension</td>\n      <td>315</td>\n      <td>20</td>\n      <td>3.786</td>\n      <td>{InputPreparation}</td>\n    </tr>\n    <tr>\n      <th>6598</th>\n      <td>LinkedList</td>\n      <td>list-comprehension</td>\n      <td>315</td>\n      <td>21</td>\n      <td>0.533</td>\n      <td>{InputPreparation}</td>\n    </tr>\n    <tr>\n      <th>6599</th>\n      <td>LinkedList</td>\n      <td>list-comprehension</td>\n      <td>315</td>\n      <td>22</td>\n      <td>0.468</td>\n      <td>{InputPreparation}</td>\n    </tr>\n    <tr>\n      <th>6600</th>\n      <td>LinkedList</td>\n      <td>list-comprehension</td>\n      <td>315</td>\n      <td>23</td>\n      <td>0.484</td>\n      <td>{InputPreparation}</td>\n    </tr>\n    <tr>\n      <th>6601</th>\n      <td>LinkedList</td>\n      <td>list-comprehension</td>\n      <td>315</td>\n      <td>24</td>\n      <td>0.515</td>\n      <td>{StartOfAlgorithm, InputPreparation}</td>\n    </tr>\n  </tbody>\n</table>\n<p>6602 rows × 6 columns</p>\n</div>"
     },
     "execution_count": 8,
     "metadata": {},
     "output_type": "execute_result"
    }
   ],
   "source": [
    "df_aoi = pd.DataFrame([], columns=[\"Algorithm\", \"ProgrammingStyle\", \"Participant\", \"Number\", \"Duration\", \"AOI\"])\n",
    "iteration_categroies = [\"Iteration\", \"IterationHead\", \"IterationBody\"]\n",
    "recursive_categroies = [\"RecursiveCall\", \"RecursiveBaseCase\"]\n",
    "list_comprehension_categroies = [\"ListComprehension\"]\n",
    "higher_order_categroies = [\"HigherOrder\"]\n",
    "\n",
    "for idx, row in tqdm(df.iterrows(), total=df.shape[0]):\n",
    "    algorithm = row[\"Algorithm\"]\n",
    "    programming_style = row[\"ProgrammingStyle\"]\n",
    "    dimension = row[\"ImageDimension\"]\n",
    "    clicks = row[\"ClickData\"]\n",
    "    participant = row[\"ID\"]\n",
    "\n",
    "    duration_per_click = row[\"TimeData\"]\n",
    "    duration_tmp = [duration_per_click[0]]\n",
    "    for duration_idx, value in enumerate(duration_per_click):\n",
    "        if duration_idx == 0:\n",
    "            continue\n",
    "        duration_tmp.append(value-duration_per_click[duration_idx-1])\n",
    "    duration_per_click = duration_tmp\n",
    "\n",
    "    bounding_boxes = row[\"BoundingBoxes\"]\n",
    "    mask_bounding_boxes = [get_rectangular_mask(bounding_box, dimension) for _, bounding_box in bounding_boxes]\n",
    "    names_of_bounding_boxes = [aoi_name for aoi_name, _ in bounding_boxes]\n",
    "\n",
    "    for idx, (click, duration) in enumerate(zip(clicks, duration_per_click)):\n",
    "        # get elliptical mask\n",
    "        click_mask = get_ellipse_mask(click, x_radius, y_radius, dimension)\n",
    "        aois_visited = set()\n",
    "        # check if the click is in the bounding box of an aoi\n",
    "        for bounding_box_name, bounding_box_mask in zip(names_of_bounding_boxes, mask_bounding_boxes):\n",
    "            if np.sum(click_mask*bounding_box_mask) > 0:\n",
    "                aois_visited.add(bounding_box_name)\n",
    "        aois_visited_tmp = set()\n",
    "        for aoi_name in aois_visited:\n",
    "            if aoi_name in iteration_categroies:\n",
    "                aois_visited_tmp.add(\"Iteration\")\n",
    "            elif aoi_name in recursive_categroies:\n",
    "                aois_visited_tmp.add(\"Recursion\")\n",
    "            elif aoi_name in list_comprehension_categroies:\n",
    "                aois_visited_tmp.add(\"ListComprehension\")\n",
    "            elif aoi_name in higher_order_categroies:\n",
    "                aois_visited_tmp.add(\"HigherOrder\")\n",
    "            else:\n",
    "                aois_visited_tmp.add(aoi_name)\n",
    "        aois_visited = aois_visited_tmp\n",
    "\n",
    "        df_aoi.loc[len(df_aoi)] = [algorithm, programming_style, participant, idx, duration, aois_visited]\n",
    "\n",
    "df_aoi.reset_index(drop=True)\n",
    "df_aoi"
   ],
   "metadata": {
    "collapsed": false,
    "pycharm": {
     "name": "#%%\n"
    }
   }
  },
  {
   "cell_type": "markdown",
   "source": [
    "## Metrics"
   ],
   "metadata": {
    "collapsed": false,
    "pycharm": {
     "name": "#%% md\n"
    }
   }
  },
  {
   "cell_type": "code",
   "execution_count": 9,
   "outputs": [],
   "source": [
    "aoi_order = ['Class',\n",
    "             'Method','MethodDeclaration','MethodBody',\n",
    "             'Helper','HelperDeclaration','HelperBody',\n",
    "             'InputPreparation', 'StartOfAlgorithm',\n",
    "             'StyleSpecific']"
   ],
   "metadata": {
    "collapsed": false,
    "pycharm": {
     "name": "#%%\n"
    }
   }
  },
  {
   "cell_type": "code",
   "execution_count": 10,
   "outputs": [
    {
     "data": {
      "text/plain": "  0%|          | 0/278 [00:00<?, ?it/s]",
      "application/vnd.jupyter.widget-view+json": {
       "version_major": 2,
       "version_minor": 0,
       "model_id": "39b076ea399e47c28d237a4d6b9a085d"
      }
     },
     "metadata": {},
     "output_type": "display_data"
    },
    {
     "data": {
      "text/plain": "       Algorithm ProgrammingStyle Participant                AOI  Duration  \\\n0     LinkedList     higher-order         204             Method    25.186   \n1     LinkedList     higher-order         204  MethodDeclaration    12.515   \n2     LinkedList     higher-order         204         MethodBody    21.321   \n3     LinkedList     higher-order         204             Helper     0.000   \n4     LinkedList     higher-order         204  HelperDeclaration     0.000   \n...          ...              ...         ...                ...       ...   \n2775       store        recursive         320         HelperBody    29.130   \n2776       store        recursive         320      StyleSpecific    39.201   \n2777       store        recursive         320   InputPreparation    27.612   \n2778       store        recursive         320   StartOfAlgorithm     0.832   \n2779       store        recursive         320              Class    15.349   \n\n      Amount  \n0        8.0  \n1        3.0  \n2        7.0  \n3        0.0  \n4        0.0  \n...      ...  \n2775    19.0  \n2776    25.0  \n2777    20.0  \n2778     1.0  \n2779    22.0  \n\n[2780 rows x 6 columns]",
      "text/html": "<div>\n<style scoped>\n    .dataframe tbody tr th:only-of-type {\n        vertical-align: middle;\n    }\n\n    .dataframe tbody tr th {\n        vertical-align: top;\n    }\n\n    .dataframe thead th {\n        text-align: right;\n    }\n</style>\n<table border=\"1\" class=\"dataframe\">\n  <thead>\n    <tr style=\"text-align: right;\">\n      <th></th>\n      <th>Algorithm</th>\n      <th>ProgrammingStyle</th>\n      <th>Participant</th>\n      <th>AOI</th>\n      <th>Duration</th>\n      <th>Amount</th>\n    </tr>\n  </thead>\n  <tbody>\n    <tr>\n      <th>0</th>\n      <td>LinkedList</td>\n      <td>higher-order</td>\n      <td>204</td>\n      <td>Method</td>\n      <td>25.186</td>\n      <td>8.0</td>\n    </tr>\n    <tr>\n      <th>1</th>\n      <td>LinkedList</td>\n      <td>higher-order</td>\n      <td>204</td>\n      <td>MethodDeclaration</td>\n      <td>12.515</td>\n      <td>3.0</td>\n    </tr>\n    <tr>\n      <th>2</th>\n      <td>LinkedList</td>\n      <td>higher-order</td>\n      <td>204</td>\n      <td>MethodBody</td>\n      <td>21.321</td>\n      <td>7.0</td>\n    </tr>\n    <tr>\n      <th>3</th>\n      <td>LinkedList</td>\n      <td>higher-order</td>\n      <td>204</td>\n      <td>Helper</td>\n      <td>0.000</td>\n      <td>0.0</td>\n    </tr>\n    <tr>\n      <th>4</th>\n      <td>LinkedList</td>\n      <td>higher-order</td>\n      <td>204</td>\n      <td>HelperDeclaration</td>\n      <td>0.000</td>\n      <td>0.0</td>\n    </tr>\n    <tr>\n      <th>...</th>\n      <td>...</td>\n      <td>...</td>\n      <td>...</td>\n      <td>...</td>\n      <td>...</td>\n      <td>...</td>\n    </tr>\n    <tr>\n      <th>2775</th>\n      <td>store</td>\n      <td>recursive</td>\n      <td>320</td>\n      <td>HelperBody</td>\n      <td>29.130</td>\n      <td>19.0</td>\n    </tr>\n    <tr>\n      <th>2776</th>\n      <td>store</td>\n      <td>recursive</td>\n      <td>320</td>\n      <td>StyleSpecific</td>\n      <td>39.201</td>\n      <td>25.0</td>\n    </tr>\n    <tr>\n      <th>2777</th>\n      <td>store</td>\n      <td>recursive</td>\n      <td>320</td>\n      <td>InputPreparation</td>\n      <td>27.612</td>\n      <td>20.0</td>\n    </tr>\n    <tr>\n      <th>2778</th>\n      <td>store</td>\n      <td>recursive</td>\n      <td>320</td>\n      <td>StartOfAlgorithm</td>\n      <td>0.832</td>\n      <td>1.0</td>\n    </tr>\n    <tr>\n      <th>2779</th>\n      <td>store</td>\n      <td>recursive</td>\n      <td>320</td>\n      <td>Class</td>\n      <td>15.349</td>\n      <td>22.0</td>\n    </tr>\n  </tbody>\n</table>\n<p>2780 rows × 6 columns</p>\n</div>"
     },
     "execution_count": 10,
     "metadata": {},
     "output_type": "execute_result"
    }
   ],
   "source": [
    "df_metrics = pd.DataFrame([], columns=[\"Algorithm\", \"ProgrammingStyle\", \"Participant\", \"AOI\", \"Duration\", \"Amount\"])\n",
    "for group, df_group in tqdm(df_aoi.groupby([\"Algorithm\", \"ProgrammingStyle\", \"Participant\"])):\n",
    "    algorithm = group[0]\n",
    "    programming_style = group[1]\n",
    "    participant = group[2]\n",
    "\n",
    "    aoi_duration = {aoi_name : 0.0 for aoi_name in aoi_names_convoluted}\n",
    "    aoi_amount = {aoi_name : 0 for aoi_name in aoi_names_convoluted}\n",
    "    for idx, row in df_group.iterrows():\n",
    "        duration = row[\"Duration\"]\n",
    "        aois_visited = row[\"AOI\"]\n",
    "        for aoi_name in aois_visited:\n",
    "            aoi_name = aoi_name_to_convoluted_name(aoi_name)\n",
    "            try:\n",
    "                aoi_duration[aoi_name] += duration\n",
    "                aoi_amount[aoi_name] += 1\n",
    "            except:\n",
    "                print(algorithm, programming_style, participant, aoi_name)\n",
    "                assert False\n",
    "\n",
    "    for aoi_name in aoi_names_convoluted:\n",
    "        df_metrics.loc[len(df_metrics)] = [algorithm, programming_style, participant, aoi_name, aoi_duration[aoi_name], aoi_amount[aoi_name]]\n",
    "df_metrics[\"Amount\"] = df_metrics[\"Amount\"].astype(float)\n",
    "df_metrics[\"Duration\"] = df_metrics[\"Duration\"].astype(float)\n",
    "df_metrics"
   ],
   "metadata": {
    "collapsed": false,
    "pycharm": {
     "name": "#%%\n"
    }
   }
  },
  {
   "cell_type": "markdown",
   "source": [
    "## Descriptive: Number Of Clicks per AOI"
   ],
   "metadata": {
    "collapsed": false,
    "pycharm": {
     "name": "#%% md\n"
    }
   }
  },
  {
   "cell_type": "code",
   "execution_count": 11,
   "outputs": [
    {
     "data": {
      "text/plain": "<Figure size 1931.25x360 with 1 Axes>",
      "image/png": "[encoded data removed]"
     },
     "metadata": {
      "needs_background": "light"
     },
     "output_type": "display_data"
    }
   ],
   "source": [
    "df_tmp = df_metrics.copy()\n",
    "\n",
    "ax = sns.catplot(x=\"AOI\", y=\"Amount\", hue=\"ProgrammingStyle\", data=df_tmp, kind=\"bar\", height=5,\n",
    "                 aspect=5, hue_order=[\"iterative\", \"recursive\", \"higher-order\", \"list-comprehension\"],\n",
    "                 order=aoi_order)\n",
    "ax.tight_layout()\n",
    "ax.set(ylabel='Number Of Clicks per AOI')\n",
    "plt.savefig(\"./results/RQ2/figures/RQ2_NumberOfClicks_PerAOI.png\")\n",
    "plt.show()\n",
    "plt.close('all')"
   ],
   "metadata": {
    "collapsed": false,
    "pycharm": {
     "name": "#%%\n"
    }
   }
  },
  {
   "cell_type": "code",
   "execution_count": 12,
   "outputs": [
    {
     "data": {
      "text/plain": "<Figure size 432x288 with 1 Axes>",
      "image/png": "[encoded data removed]"
     },
     "metadata": {
      "needs_background": "light"
     },
     "output_type": "display_data"
    }
   ],
   "source": [
    "df_total = df_metrics.copy()\n",
    "df_total[\"Amount\"] = df_total[\"Amount\"].astype(float)\n",
    "df_total = df_total[df_total[\"AOI\"] == \"StyleSpecific\"]\n",
    "ax = sns.violinplot(x=\"ProgrammingStyle\", y=\"Amount\", data=df_total,\n",
    "                    order=[\"iterative\", \"recursive\", \"higher-order\", \"list-comprehension\"])\n",
    "ax.set_ylabel('Number Of Clicks in Style Specific AOI')\n",
    "ax.set(ylim=(0.0, 30.0))\n",
    "plt.savefig(\"./results/RQ2/figures/RQ2_NumberOfClicks_PerStyleSpecific.png\")\n",
    "plt.show()\n",
    "plt.close('all')"
   ],
   "metadata": {
    "collapsed": false,
    "pycharm": {
     "name": "#%%\n"
    }
   }
  },
  {
   "cell_type": "markdown",
   "source": [
    "## Descriptive: Time Of Clicks per AOI"
   ],
   "metadata": {
    "collapsed": false,
    "pycharm": {
     "name": "#%% md\n"
    }
   }
  },
  {
   "cell_type": "code",
   "execution_count": 13,
   "outputs": [
    {
     "data": {
      "text/plain": "<Figure size 1931.25x360 with 1 Axes>",
      "image/png": "[encoded data removed]"
     },
     "metadata": {
      "needs_background": "light"
     },
     "output_type": "display_data"
    }
   ],
   "source": [
    "df_total = df_metrics\n",
    "\n",
    "ax = sns.catplot(x=\"AOI\", y=\"Duration\", hue=\"ProgrammingStyle\", data=df_tmp, kind=\"bar\", height=5,\n",
    "                 aspect=5, hue_order=[\"iterative\", \"recursive\", \"higher-order\", \"list-comprehension\"],\n",
    "                 order=aoi_order)\n",
    "ax.tight_layout()\n",
    "ax.set(ylabel='Duration Of Clicks per AOI')\n",
    "plt.savefig(\"./results/RQ2/figures/RQ2_TimeOfClicks_PerAOI.png\")\n",
    "plt.show()\n",
    "plt.close('all')"
   ],
   "metadata": {
    "collapsed": false,
    "pycharm": {
     "name": "#%%\n"
    }
   }
  },
  {
   "cell_type": "code",
   "execution_count": 14,
   "outputs": [
    {
     "data": {
      "text/plain": "<Figure size 432x288 with 1 Axes>",
      "image/png": "[encoded data removed]"
     },
     "metadata": {
      "needs_background": "light"
     },
     "output_type": "display_data"
    }
   ],
   "source": [
    "df_total = df_metrics\n",
    "df_total = df_total[df_total[\"AOI\"] == \"StyleSpecific\"]\n",
    "ax = sns.violinplot(x=\"ProgrammingStyle\", y=\"Duration\", data=df_total,\n",
    "                    order=[\"iterative\", \"recursive\", \"higher-order\", \"list-comprehension\"])\n",
    "ax.set_ylabel('Duration Of Clicks in Style Specific AOI')\n",
    "ax.set(ylim=(0.0, 80.0))\n",
    "plt.savefig(\"./results/RQ2/figures/RQ2_TimeOfClicks_PerStyleSpecific.png\")\n",
    "plt.show()\n",
    "plt.close('all')"
   ],
   "metadata": {
    "collapsed": false,
    "pycharm": {
     "name": "#%%\n"
    }
   }
  },
  {
   "cell_type": "markdown",
   "source": [
    "## Inferential Statistics"
   ],
   "metadata": {
    "collapsed": false,
    "pycharm": {
     "name": "#%% md\n"
    }
   }
  },
  {
   "cell_type": "code",
   "execution_count": 15,
   "outputs": [
    {
     "data": {
      "text/plain": "       Algorithm ProgrammingStyle Participant                AOI  Duration  \\\n0     LinkedList     higher-order         204             Method    25.186   \n1     LinkedList     higher-order         204  MethodDeclaration    12.515   \n2     LinkedList     higher-order         204         MethodBody    21.321   \n3     LinkedList     higher-order         204             Helper     0.000   \n4     LinkedList     higher-order         204  HelperDeclaration     0.000   \n...          ...              ...         ...                ...       ...   \n2775       store        recursive         320         HelperBody    29.130   \n2776       store        recursive         320      StyleSpecific    39.201   \n2777       store        recursive         320   InputPreparation    27.612   \n2778       store        recursive         320   StartOfAlgorithm     0.832   \n2779       store        recursive         320              Class    15.349   \n\n      Amount  \n0        8.0  \n1        3.0  \n2        7.0  \n3        0.0  \n4        0.0  \n...      ...  \n2775    19.0  \n2776    25.0  \n2777    20.0  \n2778     1.0  \n2779    22.0  \n\n[2780 rows x 6 columns]",
      "text/html": "<div>\n<style scoped>\n    .dataframe tbody tr th:only-of-type {\n        vertical-align: middle;\n    }\n\n    .dataframe tbody tr th {\n        vertical-align: top;\n    }\n\n    .dataframe thead th {\n        text-align: right;\n    }\n</style>\n<table border=\"1\" class=\"dataframe\">\n  <thead>\n    <tr style=\"text-align: right;\">\n      <th></th>\n      <th>Algorithm</th>\n      <th>ProgrammingStyle</th>\n      <th>Participant</th>\n      <th>AOI</th>\n      <th>Duration</th>\n      <th>Amount</th>\n    </tr>\n  </thead>\n  <tbody>\n    <tr>\n      <th>0</th>\n      <td>LinkedList</td>\n      <td>higher-order</td>\n      <td>204</td>\n      <td>Method</td>\n      <td>25.186</td>\n      <td>8.0</td>\n    </tr>\n    <tr>\n      <th>1</th>\n      <td>LinkedList</td>\n      <td>higher-order</td>\n      <td>204</td>\n      <td>MethodDeclaration</td>\n      <td>12.515</td>\n      <td>3.0</td>\n    </tr>\n    <tr>\n      <th>2</th>\n      <td>LinkedList</td>\n      <td>higher-order</td>\n      <td>204</td>\n      <td>MethodBody</td>\n      <td>21.321</td>\n      <td>7.0</td>\n    </tr>\n    <tr>\n      <th>3</th>\n      <td>LinkedList</td>\n      <td>higher-order</td>\n      <td>204</td>\n      <td>Helper</td>\n      <td>0.000</td>\n      <td>0.0</td>\n    </tr>\n    <tr>\n      <th>4</th>\n      <td>LinkedList</td>\n      <td>higher-order</td>\n      <td>204</td>\n      <td>HelperDeclaration</td>\n      <td>0.000</td>\n      <td>0.0</td>\n    </tr>\n    <tr>\n      <th>...</th>\n      <td>...</td>\n      <td>...</td>\n      <td>...</td>\n      <td>...</td>\n      <td>...</td>\n      <td>...</td>\n    </tr>\n    <tr>\n      <th>2775</th>\n      <td>store</td>\n      <td>recursive</td>\n      <td>320</td>\n      <td>HelperBody</td>\n      <td>29.130</td>\n      <td>19.0</td>\n    </tr>\n    <tr>\n      <th>2776</th>\n      <td>store</td>\n      <td>recursive</td>\n      <td>320</td>\n      <td>StyleSpecific</td>\n      <td>39.201</td>\n      <td>25.0</td>\n    </tr>\n    <tr>\n      <th>2777</th>\n      <td>store</td>\n      <td>recursive</td>\n      <td>320</td>\n      <td>InputPreparation</td>\n      <td>27.612</td>\n      <td>20.0</td>\n    </tr>\n    <tr>\n      <th>2778</th>\n      <td>store</td>\n      <td>recursive</td>\n      <td>320</td>\n      <td>StartOfAlgorithm</td>\n      <td>0.832</td>\n      <td>1.0</td>\n    </tr>\n    <tr>\n      <th>2779</th>\n      <td>store</td>\n      <td>recursive</td>\n      <td>320</td>\n      <td>Class</td>\n      <td>15.349</td>\n      <td>22.0</td>\n    </tr>\n  </tbody>\n</table>\n<p>2780 rows × 6 columns</p>\n</div>"
     },
     "execution_count": 15,
     "metadata": {},
     "output_type": "execute_result"
    }
   ],
   "source": [
    "df_metrics"
   ],
   "metadata": {
    "collapsed": false,
    "pycharm": {
     "name": "#%%\n"
    }
   }
  },
  {
   "cell_type": "code",
   "execution_count": 16,
   "outputs": [
    {
     "data": {
      "text/plain": "          Categorie_A         Categorie_B  p_value  Significant  Effect_Size  \\\n0        higher-order           iterative    0.000         True       -0.438   \n1        higher-order  list-comprehension    0.389        False        0.028   \n2        higher-order           recursive    0.000         True       -0.479   \n3           iterative  list-comprehension    0.000         True        0.455   \n4           iterative           recursive    0.040        False       -0.172   \n5  list-comprehension           recursive    0.000         True       -0.481   \n\n  Effect_Size_Interpretation  \n0                     medium  \n1                 negligible  \n2                      large  \n3                     medium  \n4                      small  \n5                      large  ",
      "text/html": "<div>\n<style scoped>\n    .dataframe tbody tr th:only-of-type {\n        vertical-align: middle;\n    }\n\n    .dataframe tbody tr th {\n        vertical-align: top;\n    }\n\n    .dataframe thead th {\n        text-align: right;\n    }\n</style>\n<table border=\"1\" class=\"dataframe\">\n  <thead>\n    <tr style=\"text-align: right;\">\n      <th></th>\n      <th>Categorie_A</th>\n      <th>Categorie_B</th>\n      <th>p_value</th>\n      <th>Significant</th>\n      <th>Effect_Size</th>\n      <th>Effect_Size_Interpretation</th>\n    </tr>\n  </thead>\n  <tbody>\n    <tr>\n      <th>0</th>\n      <td>higher-order</td>\n      <td>iterative</td>\n      <td>0.000</td>\n      <td>True</td>\n      <td>-0.438</td>\n      <td>medium</td>\n    </tr>\n    <tr>\n      <th>1</th>\n      <td>higher-order</td>\n      <td>list-comprehension</td>\n      <td>0.389</td>\n      <td>False</td>\n      <td>0.028</td>\n      <td>negligible</td>\n    </tr>\n    <tr>\n      <th>2</th>\n      <td>higher-order</td>\n      <td>recursive</td>\n      <td>0.000</td>\n      <td>True</td>\n      <td>-0.479</td>\n      <td>large</td>\n    </tr>\n    <tr>\n      <th>3</th>\n      <td>iterative</td>\n      <td>list-comprehension</td>\n      <td>0.000</td>\n      <td>True</td>\n      <td>0.455</td>\n      <td>medium</td>\n    </tr>\n    <tr>\n      <th>4</th>\n      <td>iterative</td>\n      <td>recursive</td>\n      <td>0.040</td>\n      <td>False</td>\n      <td>-0.172</td>\n      <td>small</td>\n    </tr>\n    <tr>\n      <th>5</th>\n      <td>list-comprehension</td>\n      <td>recursive</td>\n      <td>0.000</td>\n      <td>True</td>\n      <td>-0.481</td>\n      <td>large</td>\n    </tr>\n  </tbody>\n</table>\n</div>"
     },
     "execution_count": 16,
     "metadata": {},
     "output_type": "execute_result"
    }
   ],
   "source": [
    "df_result_p = df_metrics.copy()\n",
    "df_result_p = df_result_p[df_result_p[\"AOI\"] == \"StyleSpecific\"]\n",
    "df_result_p = util_stats.mannwhitneyu_for_df(df_result_p, \"ProgrammingStyle\", \"Amount\")\n",
    "\n",
    "df_result_e = df_metrics.copy()\n",
    "df_result_e = df_result_e[df_result_e[\"AOI\"] == \"StyleSpecific\"]\n",
    "df_result_e = util_stats.effectsize_for_df(df_result_e, \"ProgrammingStyle\", \"Amount\")\n",
    "\n",
    "df_result_number = df_result_p.merge(df_result_e, on=[\"Categorie_A\", \"Categorie_B\"])\n",
    "df_result_number = df_result_number.round(decimals=3)\n",
    "df_result_number.to_excel(\"results/RQ2/data/RQ2_NumberOfClicks_PerStyleSpecific_Stats.xlsx\", index=False)\n",
    "df_result_number"
   ],
   "metadata": {
    "collapsed": false,
    "pycharm": {
     "name": "#%%\n"
    }
   }
  },
  {
   "cell_type": "code",
   "execution_count": 17,
   "outputs": [
    {
     "data": {
      "text/plain": "          Categorie_A         Categorie_B  p_value  Significant  Effect_Size  \\\n0        higher-order           iterative    0.069        False       -0.144   \n1        higher-order  list-comprehension    0.028        False        0.188   \n2        higher-order           recursive    0.034        False       -0.183   \n3           iterative  list-comprehension    0.000         True        0.405   \n4           iterative           recursive    0.186        False       -0.088   \n5  list-comprehension           recursive    0.000         True       -0.386   \n\n  Effect_Size_Interpretation  \n0                 negligible  \n1                      small  \n2                      small  \n3                     medium  \n4                 negligible  \n5                     medium  ",
      "text/html": "<div>\n<style scoped>\n    .dataframe tbody tr th:only-of-type {\n        vertical-align: middle;\n    }\n\n    .dataframe tbody tr th {\n        vertical-align: top;\n    }\n\n    .dataframe thead th {\n        text-align: right;\n    }\n</style>\n<table border=\"1\" class=\"dataframe\">\n  <thead>\n    <tr style=\"text-align: right;\">\n      <th></th>\n      <th>Categorie_A</th>\n      <th>Categorie_B</th>\n      <th>p_value</th>\n      <th>Significant</th>\n      <th>Effect_Size</th>\n      <th>Effect_Size_Interpretation</th>\n    </tr>\n  </thead>\n  <tbody>\n    <tr>\n      <th>0</th>\n      <td>higher-order</td>\n      <td>iterative</td>\n      <td>0.069</td>\n      <td>False</td>\n      <td>-0.144</td>\n      <td>negligible</td>\n    </tr>\n    <tr>\n      <th>1</th>\n      <td>higher-order</td>\n      <td>list-comprehension</td>\n      <td>0.028</td>\n      <td>False</td>\n      <td>0.188</td>\n      <td>small</td>\n    </tr>\n    <tr>\n      <th>2</th>\n      <td>higher-order</td>\n      <td>recursive</td>\n      <td>0.034</td>\n      <td>False</td>\n      <td>-0.183</td>\n      <td>small</td>\n    </tr>\n    <tr>\n      <th>3</th>\n      <td>iterative</td>\n      <td>list-comprehension</td>\n      <td>0.000</td>\n      <td>True</td>\n      <td>0.405</td>\n      <td>medium</td>\n    </tr>\n    <tr>\n      <th>4</th>\n      <td>iterative</td>\n      <td>recursive</td>\n      <td>0.186</td>\n      <td>False</td>\n      <td>-0.088</td>\n      <td>negligible</td>\n    </tr>\n    <tr>\n      <th>5</th>\n      <td>list-comprehension</td>\n      <td>recursive</td>\n      <td>0.000</td>\n      <td>True</td>\n      <td>-0.386</td>\n      <td>medium</td>\n    </tr>\n  </tbody>\n</table>\n</div>"
     },
     "execution_count": 17,
     "metadata": {},
     "output_type": "execute_result"
    }
   ],
   "source": [
    "df_result_p = df_metrics.copy()\n",
    "df_result_p = df_result_p[df_result_p[\"AOI\"] == \"StyleSpecific\"]\n",
    "df_result_p = util_stats.mannwhitneyu_for_df(df_result_p, \"ProgrammingStyle\", \"Duration\")\n",
    "\n",
    "df_result_e = df_metrics.copy()\n",
    "df_result_e = df_result_e[df_result_e[\"AOI\"] == \"StyleSpecific\"]\n",
    "df_result_e = util_stats.effectsize_for_df(df_result_e, \"ProgrammingStyle\", \"Duration\")\n",
    "\n",
    "df_result_time = df_result_p.merge(df_result_e, on=[\"Categorie_A\", \"Categorie_B\"])\n",
    "df_result_time = df_result_time.round(decimals=3)\n",
    "df_result_time.to_excel(\"results/RQ2/data/RQ2_TimeOfClicks_PerStyleSpecific_Stats.xlsx\", index=False)\n",
    "df_result_time"
   ],
   "metadata": {
    "collapsed": false,
    "pycharm": {
     "name": "#%%\n"
    }
   }
  },
  {
   "cell_type": "markdown",
   "source": [
    "## Correlations"
   ],
   "metadata": {
    "collapsed": false,
    "pycharm": {
     "name": "#%% md\n"
    }
   }
  },
  {
   "cell_type": "markdown",
   "source": [
    "### Load Demographics"
   ],
   "metadata": {
    "collapsed": false,
    "pycharm": {
     "name": "#%% md\n"
    }
   },
   "execution_count": 15
  },
  {
   "cell_type": "code",
   "execution_count": 18,
   "outputs": [],
   "source": [
    "variable_mapping = {\n",
    "    \"CASE\" : \"ID\",\n",
    "    \"ST04_01\" : \"C++\",\n",
    "    \"ST04_02\" : \"Java\",\n",
    "    \"ST04_03\" : \"Haskell\",\n",
    "    \"ST04_04\" : \"Python\",\n",
    "    \"ST04_05\" : \"Prolog\",\n",
    "    \"ST04_06\" : \"Rust\",\n",
    "    \"ST04_07\" : \"Kotlin\",\n",
    "    \"ST05_01\" : \"Logical\",\n",
    "    \"ST05_02\" : \"Imperative\",\n",
    "    \"ST05_03\" : \"Functional\",\n",
    "    \"ST05_04\" : \"ObjectOriented\",\n",
    "    \"ST12\" : \"Iteration\",\n",
    "    \"ST13\" : \"Recursion\",\n",
    "    \"ST14\" : \"HigherOrder\",\n",
    "    \"ST15\" : \"ListComprehension\",\n",
    "}\n",
    "\n",
    "df_demographics = pd.read_csv('./data/preprocessed_total_data.csv')\n",
    "df_demographics = df_demographics[variable_mapping.keys()]\n",
    "df_demographics.columns = variable_mapping.values()\n",
    "df_language = df_demographics.melt(id_vars=\"ID\", value_vars=[\"C++\", \"Java\", \"Haskell\", \"Python\", \"Prolog\", \"Rust\", \"Kotlin\"], value_name=\"PreExperience\", var_name=\"Language\")\n",
    "df_paradigm = df_demographics.melt(id_vars=\"ID\", value_vars=[\"Logical\", \"Imperative\", \"Functional\", \"ObjectOriented\"], value_name=\"PreExperience\", var_name=\"Paradigm\")\n",
    "df_style = df_demographics.melt(id_vars=\"ID\", value_vars=[\"Iteration\", \"Recursion\", \"HigherOrder\", \"ListComprehension\"], value_name=\"PreExperience\", var_name=\"Style\")"
   ],
   "metadata": {
    "collapsed": false,
    "pycharm": {
     "name": "#%%\n"
    }
   }
  },
  {
   "cell_type": "code",
   "execution_count": 19,
   "outputs": [
    {
     "data": {
      "text/plain": "      ProgrammingStyle      PreExperience  Correlation\n0         higher-order          Iteration       -0.155\n1            iterative          Iteration        0.070\n2   list-comprehension          Iteration        0.030\n3            recursive          Iteration        0.163\n4         higher-order          Recursion       -0.138\n5            iterative          Recursion        0.004\n6   list-comprehension          Recursion        0.009\n7            recursive          Recursion       -0.060\n8         higher-order        HigherOrder       -0.116\n9            iterative        HigherOrder        0.092\n10  list-comprehension        HigherOrder       -0.016\n11           recursive        HigherOrder        0.068\n12        higher-order  ListComprehension       -0.089\n13           iterative  ListComprehension        0.012\n14  list-comprehension  ListComprehension        0.020\n15           recursive  ListComprehension       -0.031",
      "text/html": "<div>\n<style scoped>\n    .dataframe tbody tr th:only-of-type {\n        vertical-align: middle;\n    }\n\n    .dataframe tbody tr th {\n        vertical-align: top;\n    }\n\n    .dataframe thead th {\n        text-align: right;\n    }\n</style>\n<table border=\"1\" class=\"dataframe\">\n  <thead>\n    <tr style=\"text-align: right;\">\n      <th></th>\n      <th>ProgrammingStyle</th>\n      <th>PreExperience</th>\n      <th>Correlation</th>\n    </tr>\n  </thead>\n  <tbody>\n    <tr>\n      <th>0</th>\n      <td>higher-order</td>\n      <td>Iteration</td>\n      <td>-0.155</td>\n    </tr>\n    <tr>\n      <th>1</th>\n      <td>iterative</td>\n      <td>Iteration</td>\n      <td>0.070</td>\n    </tr>\n    <tr>\n      <th>2</th>\n      <td>list-comprehension</td>\n      <td>Iteration</td>\n      <td>0.030</td>\n    </tr>\n    <tr>\n      <th>3</th>\n      <td>recursive</td>\n      <td>Iteration</td>\n      <td>0.163</td>\n    </tr>\n    <tr>\n      <th>4</th>\n      <td>higher-order</td>\n      <td>Recursion</td>\n      <td>-0.138</td>\n    </tr>\n    <tr>\n      <th>5</th>\n      <td>iterative</td>\n      <td>Recursion</td>\n      <td>0.004</td>\n    </tr>\n    <tr>\n      <th>6</th>\n      <td>list-comprehension</td>\n      <td>Recursion</td>\n      <td>0.009</td>\n    </tr>\n    <tr>\n      <th>7</th>\n      <td>recursive</td>\n      <td>Recursion</td>\n      <td>-0.060</td>\n    </tr>\n    <tr>\n      <th>8</th>\n      <td>higher-order</td>\n      <td>HigherOrder</td>\n      <td>-0.116</td>\n    </tr>\n    <tr>\n      <th>9</th>\n      <td>iterative</td>\n      <td>HigherOrder</td>\n      <td>0.092</td>\n    </tr>\n    <tr>\n      <th>10</th>\n      <td>list-comprehension</td>\n      <td>HigherOrder</td>\n      <td>-0.016</td>\n    </tr>\n    <tr>\n      <th>11</th>\n      <td>recursive</td>\n      <td>HigherOrder</td>\n      <td>0.068</td>\n    </tr>\n    <tr>\n      <th>12</th>\n      <td>higher-order</td>\n      <td>ListComprehension</td>\n      <td>-0.089</td>\n    </tr>\n    <tr>\n      <th>13</th>\n      <td>iterative</td>\n      <td>ListComprehension</td>\n      <td>0.012</td>\n    </tr>\n    <tr>\n      <th>14</th>\n      <td>list-comprehension</td>\n      <td>ListComprehension</td>\n      <td>0.020</td>\n    </tr>\n    <tr>\n      <th>15</th>\n      <td>recursive</td>\n      <td>ListComprehension</td>\n      <td>-0.031</td>\n    </tr>\n  </tbody>\n</table>\n</div>"
     },
     "execution_count": 19,
     "metadata": {},
     "output_type": "execute_result"
    }
   ],
   "source": [
    "df_tmp = df_metrics[df_metrics[\"AOI\"] == \"StyleSpecific\"]\n",
    "df_tmp = df_tmp.rename({\"Participant\" : \"ID\"}, axis=1)\n",
    "df_tmp = df_tmp.merge(df_demographics, on=\"ID\")\n",
    "df_tmp = df_tmp[[\"ProgrammingStyle\", \"Amount\", \"Iteration\", \"Recursion\", \"HigherOrder\", \"ListComprehension\"]]\n",
    "df_tmp[\"Amount\"] = df_tmp[\"Amount\"].astype(float)\n",
    "df_correlation = util_stats.correlations_for_df(df_tmp, \"ProgrammingStyle\", df_tmp.columns[2:], \"Amount\")\n",
    "df_correlation = df_correlation.round(3)\n",
    "df_correlation.to_excel(\"./results/RQ2/data/RQ2_NumberOfCLicks_PerStyleSpecific_Correlation.xlsx\", index=False)\n",
    "df_correlation"
   ],
   "metadata": {
    "collapsed": false,
    "pycharm": {
     "name": "#%%\n"
    }
   }
  },
  {
   "cell_type": "code",
   "execution_count": 20,
   "outputs": [
    {
     "data": {
      "text/plain": "      ProgrammingStyle      PreExperience  Correlation\n0         higher-order          Iteration       -0.328\n1            iterative          Iteration       -0.134\n2   list-comprehension          Iteration       -0.133\n3            recursive          Iteration        0.109\n4         higher-order          Recursion       -0.132\n5            iterative          Recursion       -0.238\n6   list-comprehension          Recursion       -0.030\n7            recursive          Recursion       -0.146\n8         higher-order        HigherOrder       -0.085\n9            iterative        HigherOrder       -0.072\n10  list-comprehension        HigherOrder       -0.087\n11           recursive        HigherOrder       -0.093\n12        higher-order  ListComprehension       -0.002\n13           iterative  ListComprehension       -0.124\n14  list-comprehension  ListComprehension        0.038\n15           recursive  ListComprehension       -0.105",
      "text/html": "<div>\n<style scoped>\n    .dataframe tbody tr th:only-of-type {\n        vertical-align: middle;\n    }\n\n    .dataframe tbody tr th {\n        vertical-align: top;\n    }\n\n    .dataframe thead th {\n        text-align: right;\n    }\n</style>\n<table border=\"1\" class=\"dataframe\">\n  <thead>\n    <tr style=\"text-align: right;\">\n      <th></th>\n      <th>ProgrammingStyle</th>\n      <th>PreExperience</th>\n      <th>Correlation</th>\n    </tr>\n  </thead>\n  <tbody>\n    <tr>\n      <th>0</th>\n      <td>higher-order</td>\n      <td>Iteration</td>\n      <td>-0.328</td>\n    </tr>\n    <tr>\n      <th>1</th>\n      <td>iterative</td>\n      <td>Iteration</td>\n      <td>-0.134</td>\n    </tr>\n    <tr>\n      <th>2</th>\n      <td>list-comprehension</td>\n      <td>Iteration</td>\n      <td>-0.133</td>\n    </tr>\n    <tr>\n      <th>3</th>\n      <td>recursive</td>\n      <td>Iteration</td>\n      <td>0.109</td>\n    </tr>\n    <tr>\n      <th>4</th>\n      <td>higher-order</td>\n      <td>Recursion</td>\n      <td>-0.132</td>\n    </tr>\n    <tr>\n      <th>5</th>\n      <td>iterative</td>\n      <td>Recursion</td>\n      <td>-0.238</td>\n    </tr>\n    <tr>\n      <th>6</th>\n      <td>list-comprehension</td>\n      <td>Recursion</td>\n      <td>-0.030</td>\n    </tr>\n    <tr>\n      <th>7</th>\n      <td>recursive</td>\n      <td>Recursion</td>\n      <td>-0.146</td>\n    </tr>\n    <tr>\n      <th>8</th>\n      <td>higher-order</td>\n      <td>HigherOrder</td>\n      <td>-0.085</td>\n    </tr>\n    <tr>\n      <th>9</th>\n      <td>iterative</td>\n      <td>HigherOrder</td>\n      <td>-0.072</td>\n    </tr>\n    <tr>\n      <th>10</th>\n      <td>list-comprehension</td>\n      <td>HigherOrder</td>\n      <td>-0.087</td>\n    </tr>\n    <tr>\n      <th>11</th>\n      <td>recursive</td>\n      <td>HigherOrder</td>\n      <td>-0.093</td>\n    </tr>\n    <tr>\n      <th>12</th>\n      <td>higher-order</td>\n      <td>ListComprehension</td>\n      <td>-0.002</td>\n    </tr>\n    <tr>\n      <th>13</th>\n      <td>iterative</td>\n      <td>ListComprehension</td>\n      <td>-0.124</td>\n    </tr>\n    <tr>\n      <th>14</th>\n      <td>list-comprehension</td>\n      <td>ListComprehension</td>\n      <td>0.038</td>\n    </tr>\n    <tr>\n      <th>15</th>\n      <td>recursive</td>\n      <td>ListComprehension</td>\n      <td>-0.105</td>\n    </tr>\n  </tbody>\n</table>\n</div>"
     },
     "execution_count": 20,
     "metadata": {},
     "output_type": "execute_result"
    }
   ],
   "source": [
    "df_tmp = df_metrics[df_metrics[\"AOI\"] == \"StyleSpecific\"]\n",
    "df_tmp = df_tmp.rename({\"Participant\" : \"ID\"}, axis=1)\n",
    "df_tmp = df_tmp.merge(df_demographics, on=\"ID\")\n",
    "df_tmp = df_tmp[[\"ProgrammingStyle\", \"Duration\", \"Iteration\", \"Recursion\", \"HigherOrder\", \"ListComprehension\"]]\n",
    "df_correlation = util_stats.correlations_for_df(df_tmp, \"ProgrammingStyle\", df_tmp.columns[2:], \"Duration\")\n",
    "df_correlation = df_correlation.round(3)\n",
    "df_correlation.to_excel(\"./results/RQ2/data/RQ2_TimeOfCLicks_PerStyleSpecific_Correlation.xlsx\", index=False)\n",
    "df_correlation"
   ],
   "metadata": {
    "collapsed": false,
    "pycharm": {
     "name": "#%%\n"
    }
   }
  },
  {
   "cell_type": "code",
   "execution_count": null,
   "outputs": [],
   "source": [],
   "metadata": {
    "collapsed": false,
    "pycharm": {
     "name": "#%%\n"
    }
   }
  },
  {
   "cell_type": "code",
   "execution_count": 20,
   "outputs": [],
   "source": [],
   "metadata": {
    "collapsed": false,
    "pycharm": {
     "name": "#%%\n"
    }
   }
  }
 ],
 "metadata": {
  "kernelspec": {
   "display_name": "Python 3",
   "language": "python",
   "name": "python3"
  },
  "language_info": {
   "codemirror_mode": {
    "name": "ipython",
    "version": 2
   },
   "file_extension": ".py",
   "mimetype": "text/x-python",
   "name": "python",
   "nbconvert_exporter": "python",
   "pygments_lexer": "ipython2",
   "version": "2.7.6"
  }
 },
 "nbformat": 4,
 "nbformat_minor": 0
}