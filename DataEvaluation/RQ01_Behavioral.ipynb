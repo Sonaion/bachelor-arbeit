{
 "cells": [
  {
   "cell_type": "markdown",
   "metadata": {
    "collapsed": true,
    "pycharm": {
     "name": "#%% md\n"
    }
   },
   "source": [
    "# RQ1 - Influence of the programming style on the performance of the participants"
   ]
  },
  {
   "cell_type": "code",
   "execution_count": null,
   "outputs": [],
   "source": [
    "import pandas as pd\n",
    "import matplotlib.pyplot as plt\n",
    "import seaborn as sns\n",
    "import scipy.stats as stats\n",
    "from fitter import Fitter, get_common_distributions, get_distributions"
   ],
   "metadata": {
    "collapsed": false,
    "pycharm": {
     "name": "#%%\n"
    }
   }
  },
  {
   "cell_type": "code",
   "execution_count": null,
   "outputs": [],
   "source": [
    "df = pd.read_csv('./data/preprocessed_experiment_data.csv')\n",
    "df = df[df[\"Outlier\"] == False]\n",
    "df"
   ],
   "metadata": {
    "collapsed": false,
    "pycharm": {
     "name": "#%%\n"
    }
   }
  },
  {
   "cell_type": "markdown",
   "source": [
    "## Descriptive Statistics"
   ],
   "metadata": {
    "collapsed": false,
    "pycharm": {
     "name": "#%% md\n"
    }
   }
  },
  {
   "cell_type": "markdown",
   "source": [
    "### Correctness Ratio"
   ],
   "metadata": {
    "collapsed": false,
    "pycharm": {
     "name": "#%% md\n"
    }
   }
  },
  {
   "cell_type": "code",
   "execution_count": null,
   "outputs": [],
   "source": [
    "df_iterative = pd.DataFrame([], columns=[\"ProgrammingStyle\", \"Algorithm\", \"NumberOfCorrect\", \"NumberOfTotal\"])\n",
    "df_recursive = pd.DataFrame([], columns=[\"ProgrammingStyle\", \"Algorithm\", \"NumberOfCorrect\", \"NumberOfTotal\"])\n",
    "df_higher_order = pd.DataFrame([], columns=[\"ProgrammingStyle\", \"Algorithm\", \"NumberOfCorrect\", \"NumberOfTotal\"])\n",
    "df_list_comprehension = pd.DataFrame([], columns=[\"ProgrammingStyle\", \"Algorithm\", \"NumberOfCorrect\", \"NumberOfTotal\"])\n",
    "\n",
    "for algorithm in df[\"Algorithm\"].unique():\n",
    "    df_algo_tmp = df[df[\"Algorithm\"] == algorithm]\n",
    "\n",
    "    df_iter_tmp = df_algo_tmp[df_algo_tmp[\"ProgrammingStyle\"] == \"iterative\"]\n",
    "    df_rec_tmp = df_algo_tmp[df_algo_tmp[\"ProgrammingStyle\"] == \"recursive\"]\n",
    "    df_higher_order_tmp = df_algo_tmp[df_algo_tmp[\"ProgrammingStyle\"] == \"higher-order\"]\n",
    "    df_list_comprehension_tmp = df_algo_tmp[df_algo_tmp[\"ProgrammingStyle\"] == \"list-comprehension\"]\n",
    "\n",
    "    iter_correct = len(df_iter_tmp[df_iter_tmp[\"Correctness\"] == True])\n",
    "    iter_total = len(df_iter_tmp)\n",
    "    rec_correct = len(df_rec_tmp[df_rec_tmp[\"Correctness\"] == True])\n",
    "    rec_total = len(df_rec_tmp)\n",
    "    higher_order_correct = len(df_higher_order_tmp[df_higher_order_tmp[\"Correctness\"] == True])\n",
    "    higher_order_total = len(df_higher_order_tmp)\n",
    "    list_comprehension_correct = len(df_list_comprehension_tmp[df_list_comprehension_tmp[\"Correctness\"] == True])\n",
    "    list_comprehension_total = len(df_list_comprehension_tmp)\n",
    "\n",
    "    df_iterative = df_iterative.append({\"ProgrammingStyle\": \"iterative\", \"Algorithm\": algorithm, \"NumberOfCorrect\": iter_correct, \"NumberOfTotal\": iter_total}, ignore_index=True)\n",
    "    df_recursive = df_recursive.append({\"ProgrammingStyle\": \"recursive\", \"Algorithm\": algorithm, \"NumberOfCorrect\": rec_correct, \"NumberOfTotal\": rec_total}, ignore_index=True)\n",
    "    df_higher_order = df_higher_order.append({\"ProgrammingStyle\": \"higher order\", \"Algorithm\": algorithm, \"NumberOfCorrect\": higher_order_correct, \"NumberOfTotal\": higher_order_total}, ignore_index=True)\n",
    "    df_list_comprehension = df_list_comprehension.append({\"ProgrammingStyle\": \"list comprehension\", \"Algorithm\": algorithm, \"NumberOfCorrect\": list_comprehension_correct, \"NumberOfTotal\": list_comprehension_total}, ignore_index=True)\n",
    "\n",
    "df_iterative = df_iterative.append({\"ProgrammingStyle\": \"iterative\", \"Algorithm\": \"total\", \"NumberOfCorrect\": df_iterative[\"NumberOfCorrect\"].sum(), \"NumberOfTotal\": df_iterative[\"NumberOfTotal\"].sum()}, ignore_index=True)\n",
    "df_recursive = df_recursive.append({\"ProgrammingStyle\": \"recursive\", \"Algorithm\": \"total\", \"NumberOfCorrect\": df_recursive[\"NumberOfCorrect\"].sum(), \"NumberOfTotal\": df_recursive[\"NumberOfTotal\"].sum()}, ignore_index=True)\n",
    "df_higher_order = df_higher_order.append({\"ProgrammingStyle\": \"higher order\", \"Algorithm\": \"total\", \"NumberOfCorrect\": df_higher_order[\"NumberOfCorrect\"].sum(), \"NumberOfTotal\": df_higher_order[\"NumberOfTotal\"].sum()}, ignore_index=True)\n",
    "df_list_comprehension = df_list_comprehension.append({\"ProgrammingStyle\": \"list comprehension\", \"Algorithm\": \"total\", \"NumberOfCorrect\": df_list_comprehension[\"NumberOfCorrect\"].sum(), \"NumberOfTotal\": df_list_comprehension[\"NumberOfTotal\"].sum()}, ignore_index=True)\n",
    "\n",
    "# merge dataframes to one\n",
    "df_correctness_ratio = df_iterative\n",
    "df_correctness_ratio = df_correctness_ratio.append(df_recursive)\n",
    "df_correctness_ratio = df_correctness_ratio.append(df_higher_order)\n",
    "df_correctness_ratio = df_correctness_ratio.append(df_list_comprehension)\n",
    "df_correctness_ratio[\"Ratio\"] = df_correctness_ratio[\"NumberOfCorrect\"] / df_correctness_ratio[\"NumberOfTotal\"]"
   ],
   "metadata": {
    "collapsed": false,
    "pycharm": {
     "name": "#%%\n"
    }
   }
  },
  {
   "cell_type": "code",
   "execution_count": null,
   "outputs": [],
   "source": [
    "ax = sns.catplot(x=\"Algorithm\", y=\"Ratio\", hue=\"ProgrammingStyle\", data=df_correctness_ratio, kind=\"bar\", height=5, aspect=5)\n",
    "ax.tight_layout()\n",
    "ax.set(ylabel='Correctness Ratio in %');"
   ],
   "metadata": {
    "collapsed": false,
    "pycharm": {
     "name": "#%%\n"
    }
   }
  },
  {
   "cell_type": "code",
   "execution_count": null,
   "outputs": [],
   "source": [
    "df_tmp = df_correctness_ratio[[\"ProgrammingStyle\", \"Algorithm\", \"Ratio\"]]\n",
    "df_tmp = df_tmp[df_tmp[\"Algorithm\"] != \"total\"]\n",
    "df_tmp[\"Ratio\"] = df_tmp[\"Ratio\"].astype(float)\n",
    "ax = sns.violinplot(x=\"ProgrammingStyle\", y=\"Ratio\", data=df_tmp)\n",
    "ax.set(ylim=(0.0, 1.0));"
   ],
   "metadata": {
    "collapsed": false,
    "pycharm": {
     "name": "#%%\n"
    }
   }
  },
  {
   "cell_type": "code",
   "execution_count": null,
   "outputs": [],
   "source": [
    "df_tmp = df_correctness_ratio[[\"ProgrammingStyle\", \"Algorithm\", \"Ratio\"]]\n",
    "df_tmp = df_tmp[df_tmp[\"Algorithm\"] != \"total\"]\n",
    "df_tmp[\"Ratio\"] = df_tmp[\"Ratio\"].astype(float)\n",
    "ax = sns.boxplot(x=\"ProgrammingStyle\", y=\"Ratio\", data=df_tmp)\n",
    "ax.set(ylim=(0.0, 1.0));"
   ],
   "metadata": {
    "collapsed": false,
    "pycharm": {
     "name": "#%%\n"
    }
   }
  },
  {
   "cell_type": "markdown",
   "source": [
    "### Response Time Data"
   ],
   "metadata": {
    "collapsed": false,
    "pycharm": {
     "name": "#%% md\n"
    }
   }
  },
  {
   "cell_type": "code",
   "execution_count": null,
   "outputs": [],
   "source": [
    "df_response_time = df[[\"Algorithm\",\"ProgrammingStyle\", \"ResponseTime\"]]\n",
    "df_response_time[\"ResponseTime\"] = df_response_time[\"ResponseTime\"].astype(float).apply(lambda x : x/1000.)\n",
    "\n",
    "display(df_response_time.groupby([\"ProgrammingStyle\", \"Algorithm\"]).describe())\n",
    "display(df_response_time.groupby(\"ProgrammingStyle\").describe())"
   ],
   "metadata": {
    "collapsed": false,
    "pycharm": {
     "name": "#%%\n"
    }
   }
  },
  {
   "cell_type": "code",
   "execution_count": null,
   "outputs": [],
   "source": [
    "ylim = (0.0, 150.0)"
   ],
   "metadata": {
    "collapsed": false,
    "pycharm": {
     "name": "#%%\n"
    }
   }
  },
  {
   "cell_type": "code",
   "execution_count": null,
   "outputs": [],
   "source": [
    "df_tmp = df_response_time.copy()\n",
    "df_tmp_2 = df_tmp.copy()\n",
    "df_tmp_2[\"Algorithm\"] = \"total\"\n",
    "df_tmp = df_tmp.append(df_tmp_2)\n",
    "ax = sns.catplot(x=\"Algorithm\", y=\"ResponseTime\", hue=\"ProgrammingStyle\", data=df_tmp, kind=\"bar\", height=5, aspect=5)\n",
    "ax.tight_layout()\n",
    "ax.set(ylim=ylim)\n",
    "ax.set(ylabel='Response Time in Seconds');"
   ],
   "metadata": {
    "collapsed": false,
    "pycharm": {
     "name": "#%%\n"
    }
   }
  },
  {
   "cell_type": "code",
   "execution_count": null,
   "outputs": [],
   "source": [
    "ax = sns.catplot(x=\"Algorithm\", y=\"ResponseTime\", hue=\"ProgrammingStyle\", data=df_tmp, kind=\"violin\", width=1, height=5, aspect=5)\n",
    "ax.tight_layout()\n",
    "ax.set(ylabel='Response Time in Seconds')\n",
    "ax.set(ylim=ylim);"
   ],
   "metadata": {
    "collapsed": false,
    "pycharm": {
     "name": "#%%\n"
    }
   }
  },
  {
   "cell_type": "code",
   "execution_count": null,
   "outputs": [],
   "source": [
    "ax = sns.violinplot(x=\"ProgrammingStyle\", y=\"ResponseTime\", data=df_response_time)\n",
    "ax.set(ylabel='Response Time in Seconds')\n",
    "ax.set(ylim=ylim);"
   ],
   "metadata": {
    "collapsed": false,
    "pycharm": {
     "name": "#%%\n"
    }
   }
  },
  {
   "cell_type": "code",
   "execution_count": null,
   "outputs": [],
   "source": [
    "ax = sns.boxplot(x=\"ProgrammingStyle\", y=\"ResponseTime\", data=df_response_time)\n",
    "ax.set(ylim=ylim);"
   ],
   "metadata": {
    "collapsed": false,
    "pycharm": {
     "name": "#%%\n"
    }
   }
  },
  {
   "cell_type": "markdown",
   "source": [
    "## Inferential Statistics"
   ],
   "metadata": {
    "collapsed": false,
    "pycharm": {
     "name": "#%% md\n"
    }
   }
  },
  {
   "cell_type": "markdown",
   "source": [
    "### Correctness Ratio"
   ],
   "metadata": {
    "collapsed": false
   }
  },
  {
   "cell_type": "code",
   "execution_count": null,
   "outputs": [],
   "source": [
    "# apply chi square test to see if there is a significant difference between programming styles\n",
    "display(df_correctness_ratio[df_correctness_ratio[\"Algorithm\"]==\"total\"])\n",
    "stats.chisquare(df_correctness_ratio[df_correctness_ratio[\"Algorithm\"]==\"total\"][\"NumberOfCorrect\"])"
   ],
   "metadata": {
    "collapsed": false,
    "pycharm": {
     "name": "#%%\n"
    }
   }
  },
  {
   "cell_type": "markdown",
   "source": [
    "### Response Time Data"
   ],
   "metadata": {
    "collapsed": false
   }
  },
  {
   "cell_type": "code",
   "execution_count": null,
   "outputs": [],
   "source": [
    "# check if data is normal distributed\n",
    "print(\"Iterative:\", stats.shapiro(df_response_time[df_response_time[\"ProgrammingStyle\"]==\"iterative\"][\"ResponseTime\"]))\n",
    "print(\"Recursive:\", stats.shapiro(df_response_time[df_response_time[\"ProgrammingStyle\"]==\"recursive\"][\"ResponseTime\"]))\n",
    "print(\"Higher Order:\", stats.shapiro(df_response_time[df_response_time[\"ProgrammingStyle\"]==\"higher-order\"][\"ResponseTime\"]))\n",
    "print(\"List Comprehension:\", stats.shapiro(df_response_time[df_response_time[\"ProgrammingStyle\"]==\"list-comprehension\"][\"ResponseTime\"]))"
   ],
   "metadata": {
    "collapsed": false,
    "pycharm": {
     "name": "#%%\n"
    }
   }
  },
  {
   "cell_type": "markdown",
   "source": [
    "#### Find out distribution of response time"
   ],
   "metadata": {
    "collapsed": false,
    "pycharm": {
     "name": "#%% md\n"
    }
   }
  },
  {
   "cell_type": "code",
   "execution_count": null,
   "outputs": [],
   "source": [
    "fitter_iterative = Fitter(df_response_time[df_response_time[\"ProgrammingStyle\"]==\"iterative\"][\"ResponseTime\"].array, distributions=get_common_distributions())\n",
    "fitter_iterative.fit()\n",
    "fitter_recursive = Fitter(df_response_time[df_response_time[\"ProgrammingStyle\"]==\"recursive\"][\"ResponseTime\"].array, distributions=get_common_distributions())\n",
    "fitter_recursive.fit()\n",
    "fitter_higher_order = Fitter(df_response_time[df_response_time[\"ProgrammingStyle\"]==\"higher-order\"][\"ResponseTime\"].array, distributions=get_common_distributions())\n",
    "fitter_higher_order.fit()\n",
    "fitter_list_comprehension = Fitter(df_response_time[df_response_time[\"ProgrammingStyle\"]==\"list-comprehension\"][\"ResponseTime\"].array, distributions=get_common_distributions())\n",
    "fitter_list_comprehension.fit()\n",
    "fitter_total = Fitter(df_response_time[\"ResponseTime\"].array, distributions=get_common_distributions())\n",
    "fitter_total.fit()"
   ],
   "metadata": {
    "collapsed": false,
    "pycharm": {
     "name": "#%%\n"
    }
   }
  },
  {
   "cell_type": "code",
   "execution_count": null,
   "outputs": [],
   "source": [
    "display(fitter_iterative.summary())"
   ],
   "metadata": {
    "collapsed": false,
    "pycharm": {
     "name": "#%%\n"
    }
   }
  },
  {
   "cell_type": "code",
   "execution_count": null,
   "outputs": [],
   "source": [
    "display(fitter_recursive.summary())"
   ],
   "metadata": {
    "collapsed": false,
    "pycharm": {
     "name": "#%%\n"
    }
   }
  },
  {
   "cell_type": "code",
   "execution_count": null,
   "outputs": [],
   "source": [
    "display(fitter_higher_order.summary())"
   ],
   "metadata": {
    "collapsed": false,
    "pycharm": {
     "name": "#%%\n"
    }
   }
  },
  {
   "cell_type": "code",
   "execution_count": null,
   "outputs": [],
   "source": [
    "display(fitter_list_comprehension.summary())"
   ],
   "metadata": {
    "collapsed": false,
    "pycharm": {
     "name": "#%%\n"
    }
   }
  },
  {
   "cell_type": "code",
   "execution_count": null,
   "outputs": [],
   "source": [
    "display(fitter_total.summary())"
   ],
   "metadata": {
    "collapsed": false,
    "pycharm": {
     "name": "#%%\n"
    }
   }
  },
  {
   "cell_type": "markdown",
   "source": [
    "#### Compare values of response time distribution"
   ],
   "metadata": {
    "collapsed": false,
    "pycharm": {
     "name": "#%% md\n"
    }
   }
  },
  {
   "cell_type": "code",
   "execution_count": null,
   "outputs": [],
   "source": [],
   "metadata": {
    "collapsed": false,
    "pycharm": {
     "name": "#%%\n"
    }
   }
  },
  {
   "cell_type": "code",
   "execution_count": null,
   "outputs": [],
   "source": [],
   "metadata": {
    "collapsed": false,
    "pycharm": {
     "name": "#%%\n"
    }
   }
  }
 ],
 "metadata": {
  "kernelspec": {
   "display_name": "Python 3",
   "language": "python",
   "name": "python3"
  },
  "language_info": {
   "codemirror_mode": {
    "name": "ipython",
    "version": 2
   },
   "file_extension": ".py",
   "mimetype": "text/x-python",
   "name": "python",
   "nbconvert_exporter": "python",
   "pygments_lexer": "ipython2",
   "version": "2.7.6"
  }
 },
 "nbformat": 4,
 "nbformat_minor": 0
}