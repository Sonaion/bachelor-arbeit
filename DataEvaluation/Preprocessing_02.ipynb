{
 "cells": [
  {
   "cell_type": "markdown",
   "metadata": {
    "collapsed": true,
    "pycharm": {
     "name": "#%% md\n"
    }
   },
   "source": [
    "# Outlier Removal\n",
    "---"
   ]
  },
  {
   "cell_type": "code",
   "execution_count": 1,
   "outputs": [],
   "source": [
    "import pandas as pd"
   ],
   "metadata": {
    "collapsed": false,
    "pycharm": {
     "name": "#%%\n"
    }
   }
  },
  {
   "cell_type": "code",
   "execution_count": 2,
   "outputs": [],
   "source": [
    "df = pd.read_csv('./data/preprocessed_experiment_data.csv')\n",
    "df = df.drop(df[df[\"Algorithm\"]==\"students\"].index)"
   ],
   "metadata": {
    "collapsed": false,
    "pycharm": {
     "name": "#%%\n"
    }
   }
  },
  {
   "cell_type": "code",
   "execution_count": 3,
   "outputs": [],
   "source": [
    "lower_iterative = df[df[\"ProgrammingStyle\"] == \"iterative\"][\"ResponseTime\"].quantile(0.05)\n",
    "higher_iterative = df[df[\"ProgrammingStyle\"] == \"iterative\"][\"ResponseTime\"].quantile(0.95)\n",
    "lower_recursive = df[df[\"ProgrammingStyle\"] == \"recursive\"][\"ResponseTime\"].quantile(0.05)\n",
    "higher_recursive = df[df[\"ProgrammingStyle\"] == \"recursive\"][\"ResponseTime\"].quantile(0.95)\n",
    "lower_higher_order = df[df[\"ProgrammingStyle\"] == \"higher-order\"][\"ResponseTime\"].quantile(0.05)\n",
    "higher_higher_order = df[df[\"ProgrammingStyle\"] == \"higher-order\"][\"ResponseTime\"].quantile(0.95)\n",
    "lower_list_comprehension = df[df[\"ProgrammingStyle\"] == \"list-comprehension\"][\"ResponseTime\"].quantile(0.05)\n",
    "higher_list_comprehension = df[df[\"ProgrammingStyle\"] == \"list-comprehension\"][\"ResponseTime\"].quantile(0.95)\n",
    "\n",
    "df[\"Outlier\"] = True\n",
    "\n",
    "df.loc[(df[\"ProgrammingStyle\"] == \"iterative\") & (((df[\"ResponseTime\"] >= lower_iterative) & (df[\"ResponseTime\"] <= higher_iterative)) | ((df[\"ResponseTime\"] < lower_iterative) & (df[\"Correctness\"] == True))), \"Outlier\"] = False\n",
    "df.loc[(df[\"ProgrammingStyle\"] == \"recursive\") & (((df[\"ResponseTime\"] >= lower_recursive) & (df[\"ResponseTime\"] <= higher_recursive)) | ((df[\"ResponseTime\"] < lower_recursive) & (df[\"Correctness\"] == True))), \"Outlier\"] = False\n",
    "df.loc[(df[\"ProgrammingStyle\"] == \"higher-order\") & (((df[\"ResponseTime\"] >= lower_higher_order) & (df[\"ResponseTime\"] <= higher_higher_order)) | ((df[\"ResponseTime\"] < lower_higher_order) & (df[\"Correctness\"] == True))), \"Outlier\"] = False\n",
    "df.loc[(df[\"ProgrammingStyle\"] == \"list-comprehension\") & (((df[\"ResponseTime\"] >= lower_list_comprehension) & (df[\"ResponseTime\"] <= higher_list_comprehension)) | ((df[\"ResponseTime\"] < lower_list_comprehension) & (df[\"Correctness\"] == True))), \"Outlier\"] = False\n"
   ],
   "metadata": {
    "collapsed": false,
    "pycharm": {
     "name": "#%%\n"
    }
   }
  },
  {
   "cell_type": "code",
   "execution_count": 4,
   "outputs": [],
   "source": [
    "df.to_csv('./data/preprocessed_experiment_data.csv', index=False)"
   ],
   "metadata": {
    "collapsed": false,
    "pycharm": {
     "name": "#%%\n"
    }
   }
  },
  {
   "cell_type": "code",
   "execution_count": 4,
   "outputs": [],
   "source": [],
   "metadata": {
    "collapsed": false,
    "pycharm": {
     "name": "#%%\n"
    }
   }
  }
 ],
 "metadata": {
  "kernelspec": {
   "display_name": "Python 3",
   "language": "python",
   "name": "python3"
  },
  "language_info": {
   "codemirror_mode": {
    "name": "ipython",
    "version": 2
   },
   "file_extension": ".py",
   "mimetype": "text/x-python",
   "name": "python",
   "nbconvert_exporter": "python",
   "pygments_lexer": "ipython2",
   "version": "2.7.6"
  }
 },
 "nbformat": 4,
 "nbformat_minor": 0
}