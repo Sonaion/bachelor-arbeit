{
 "cells": [
  {
   "cell_type": "markdown",
   "metadata": {},
   "source": [
    "## imports"
   ]
  },
  {
   "cell_type": "code",
   "execution_count": 1,
   "metadata": {},
   "outputs": [],
   "source": [
    "import pandas as pd\n",
    "import seaborn as sns\n",
    "import numpy as np\n",
    "import matplotlib.pyplot as plt\n",
    "\n",
    "writer = pd.ExcelWriter(\"./results/behavioral_data.xlsx\", engine=\"xlsxwriter\")"
   ]
  },
  {
   "cell_type": "markdown",
   "metadata": {},
   "source": [
    "## config"
   ]
  },
  {
   "cell_type": "code",
   "execution_count": 2,
   "metadata": {},
   "outputs": [],
   "source": [
    "config_prefix = [\"iterative\", \"recursive\", \"higher-order\", \"list-comprehension\"]\n",
    "\n",
    "config_datasheet = r\"./results/preprocessed.xlsx\""
   ]
  },
  {
   "cell_type": "markdown",
   "metadata": {},
   "source": [
    "## import df"
   ]
  },
  {
   "cell_type": "code",
   "execution_count": 3,
   "metadata": {},
   "outputs": [],
   "source": [
    "raw = pd.read_excel(config_datasheet)\n",
    "df = pd.DataFrame(raw)\n",
    "df[\"ResponseTime\"] = df.apply(lambda x: x[\"ResponseTime\"] / 1000.0, axis=1)\n",
    "\n",
    "df_iterative = df.loc[df[\"ProgrammingStyle\"] == \"iterative\"].drop([\"TimeData\"], axis=1)\n",
    "df_recursive = df.loc[df[\"ProgrammingStyle\"] == \"recursive\"].drop([\"TimeData\"], axis=1)\n",
    "df_list_comprehension = df.loc[df[\"ProgrammingStyle\"] == \"list-comprehension\"].drop([\"TimeData\"], axis=1)\n",
    "df_higher_order = df.loc[df[\"ProgrammingStyle\"] == \"higher-order\"].drop([\"TimeData\"], axis=1)\n",
    "\n",
    "df_array_independent = [df_iterative, df_recursive, df_list_comprehension, df_higher_order]"
   ]
  },
  {
   "cell_type": "markdown",
   "metadata": {},
   "source": [
    "get names of algorithm"
   ]
  },
  {
   "cell_type": "code",
   "execution_count": 4,
   "metadata": {},
   "outputs": [],
   "source": [
    "algo_name_array = [name for name in df[\"Algorithm\"].unique()]"
   ]
  },
  {
   "cell_type": "markdown",
   "metadata": {},
   "source": [
    "create result"
   ]
  },
  {
   "cell_type": "code",
   "execution_count": 6,
   "metadata": {},
   "outputs": [],
   "source": [
    "cols = [\n",
    "    \"Algorithm\",\n",
    "\n",
    "    \"iterative correct\",\n",
    "    \"iterative total Answers\",\n",
    "    \"iterative percent\",\n",
    "    \"recursive correct\",\n",
    "    \"recursive total Answers\",\n",
    "    \"recursive percent\",\n",
    "    \"list-comprehension correct\",\n",
    "    \"list-comprehension total Answers\",\n",
    "    \"list-comprehension percent\",\n",
    "    \"higher-order-function correct\",\n",
    "    \"higher-order-function total Answers\",\n",
    "    \"higher-order-function percent\",\n",
    "\n",
    "    \"iterative response time mean\",\n",
    "    \"iterative response time deviation\",\n",
    "    \"recursive response time mean\",\n",
    "    \"recursive response time deviation\",\n",
    "    \"list-comprehension response time mean\",\n",
    "    \"list-comprehension response time deviation\",\n",
    "    \"higher-order-function response time mean\",\n",
    "    \"higher-order-function response time deviation\",\n",
    "\n",
    "    \"iterative fixation count mean\",\n",
    "    \"iterative fixation count deviation\",\n",
    "    \"recursive fixation count mean\",\n",
    "    \"recursive fixation count deviation\",\n",
    "    \"list-comprehension fixation count mean\",\n",
    "    \"list-comprehension fixation count deviation\",\n",
    "    \"higher-order-function fixation count mean\",\n",
    "    \"higher-order-function fixation count deviation\",\n",
    "\n",
    "    \"iterative saccades upwards mean\",\n",
    "    \"iterative saccades upwards deviation\",\n",
    "    \"recursive saccades upwards mean\",\n",
    "    \"recursive saccades upwards deviation\",\n",
    "    \"list-comprehension saccades upwards mean\",\n",
    "    \"list-comprehension saccades upwards deviation\",\n",
    "    \"higher-order-function saccades upwards mean\",\n",
    "    \"higher-order-function saccades upwards deviation\",\n",
    "]\n",
    "\n",
    "result_df = pd.DataFrame(columns=cols)\n",
    "\n",
    "def get_saccades_upwards_per_snippet(click_data):\n",
    "    saccades_upwards = []\n",
    "    for data in click_data:\n",
    "        try:\n",
    "            data = str(data).split(\" \")\n",
    "            data = [int(current.split(\"-\")[-1]) for current in data]\n",
    "            saccades_upwards.append(data)\n",
    "        except:\n",
    "            continue\n",
    "\n",
    "    saccades_upwards_tmp = []\n",
    "    for current in saccades_upwards:\n",
    "        count = 0\n",
    "        for i in range(len(current)-1):\n",
    "            if current[i] < current[i+1]:\n",
    "                count += 1\n",
    "        saccades_upwards_tmp.append(count)\n",
    "    return saccades_upwards_tmp\n",
    "\n",
    "# get values for every algorithm\n",
    "for algo_name in algo_name_array:\n",
    "    algorithm = algo_name\n",
    "\n",
    "    iterative_correct = df_iterative.loc[(df_iterative[\"Algorithm\"] == algo_name) & (df_iterative[\"Correctness\"]==True)][\"Correctness\"].sum()\n",
    "    iterative_total_answers = df_iterative.loc[(df_iterative[\"Algorithm\"] == algo_name)][\"Correctness\"].count()\n",
    "    iterative_percent = iterative_correct / iterative_total_answers\n",
    "\n",
    "    recursive_correct = df_recursive.loc[(df_recursive[\"Algorithm\"] == algo_name) & (df_recursive[\"Correctness\"]==True)][\"Correctness\"].sum()\n",
    "    recursive_total_answers = df_recursive.loc[(df_recursive[\"Algorithm\"] == algo_name)][\"Correctness\"].count()\n",
    "    recursive_percent = recursive_correct / recursive_total_answers\n",
    "\n",
    "    list_comprehension_correct = df_list_comprehension.loc[(df_list_comprehension[\"Algorithm\"] == algo_name) & (df_list_comprehension[\"Correctness\"]==True)][\"Correctness\"].sum()\n",
    "    list_comprehension_total_answers = df_list_comprehension.loc[(df_list_comprehension[\"Algorithm\"] == algo_name)][\"Correctness\"].count()\n",
    "    list_comprehension_percent = list_comprehension_correct / list_comprehension_total_answers\n",
    "\n",
    "    higher_order_function_correct = df_higher_order.loc[(df_higher_order[\"Algorithm\"] == algo_name) & (df_higher_order[\"Correctness\"]==True)][\"Correctness\"].sum()\n",
    "    higher_order_function_total_answers = df_higher_order.loc[(df_higher_order[\"Algorithm\"] == algo_name)][\"Correctness\"].count()\n",
    "    higher_order_function_percent = higher_order_function_correct / higher_order_function_total_answers\n",
    "\n",
    "    iterative_response_time_mean = df_iterative.loc[(df_iterative[\"Algorithm\"] == algo_name)][\"ResponseTime\"].mean()\n",
    "    iterative_response_time_deviation = df_iterative.loc[(df_iterative[\"Algorithm\"] == algo_name)][\"ResponseTime\"].std()\n",
    "\n",
    "    recursive_response_time_mean = df_recursive.loc[(df_recursive[\"Algorithm\"] == algo_name)][\"ResponseTime\"].mean()\n",
    "    recursive_response_time_deviation = df_recursive.loc[(df_recursive[\"Algorithm\"] == algo_name)][\"ResponseTime\"].std()\n",
    "\n",
    "    list_comprehension_response_time_mean = df_list_comprehension.loc[(df_list_comprehension[\"Algorithm\"] == algo_name)][\"ResponseTime\"].mean()\n",
    "    list_comprehension_response_time_deviation = df_list_comprehension.loc[(df_list_comprehension[\"Algorithm\"] == algo_name)][\"ResponseTime\"].std()\n",
    "\n",
    "    higher_order_function_response_time_mean = df_higher_order.loc[(df_higher_order[\"Algorithm\"] == algo_name)][\"ResponseTime\"].mean()\n",
    "    higher_order_function_response_time_deviation = df_higher_order.loc[(df_higher_order[\"Algorithm\"] == algo_name)][\"ResponseTime\"].std()\n",
    "\n",
    "    iterative_fixation_count = df_iterative.loc[(df_iterative[\"Algorithm\"] == algo_name)][\"ClickData\"].apply(lambda x: len(str(x).split(\" \")))\n",
    "    iterative_fixation_count_mean = iterative_fixation_count.mean()\n",
    "    iterative_fixation_count_deviation = iterative_fixation_count.std()\n",
    "\n",
    "    recursive_fixation_count = df_recursive.loc[(df_recursive[\"Algorithm\"] == algo_name)][\"ClickData\"].apply(lambda x: len(str(x).split(\" \")))\n",
    "    recursive_fixation_count_mean = recursive_fixation_count.mean()\n",
    "    recursive_fixation_count_deviation = recursive_fixation_count.std()\n",
    "\n",
    "    list_comprehension_fixation_count = df_list_comprehension.loc[(df_list_comprehension[\"Algorithm\"] == algo_name)][\"ClickData\"].apply(lambda x: len(str(x).split(\" \")))\n",
    "    list_comprehension_fixation_count_mean = list_comprehension_fixation_count.mean()\n",
    "    list_comprehension_fixation_count_deviation = list_comprehension_fixation_count.std()\n",
    "\n",
    "    higher_order_function_fixation_count = df_higher_order.loc[(df_higher_order[\"Algorithm\"] == algo_name)][\"ClickData\"].apply(lambda x: len(str(x).split(\" \")))\n",
    "    higher_order_function_fixation_count_mean = higher_order_function_fixation_count.mean()\n",
    "    higher_order_function_fixation_count_deviation = higher_order_function_fixation_count.std()\n",
    "\n",
    "    iterative_saccades_upwards = get_saccades_upwards_per_snippet(df_iterative.loc[(df_iterative[\"Algorithm\"] == algo_name)][\"ClickData\"])\n",
    "    iterative_saccades_upwards_mean = np.mean(iterative_saccades_upwards)\n",
    "    iterative_saccades_upwards_deviation = np.std(iterative_saccades_upwards)\n",
    "\n",
    "    recursive_saccades_upwards = get_saccades_upwards_per_snippet(df_recursive.loc[(df_recursive[\"Algorithm\"] == algo_name)][\"ClickData\"])\n",
    "    recursive_saccades_upwards_mean = np.mean(recursive_saccades_upwards)\n",
    "    recursive_saccades_upwards_deviation = np.std(recursive_saccades_upwards)\n",
    "\n",
    "    list_comprehension_saccades_upwards = get_saccades_upwards_per_snippet(df_list_comprehension.loc[(df_list_comprehension[\"Algorithm\"] == algo_name)][\"ClickData\"])\n",
    "    list_comprehension_saccades_upwards_mean = np.mean(list_comprehension_saccades_upwards)\n",
    "    list_comprehension_saccades_upwards_deviation = np.std(list_comprehension_saccades_upwards)\n",
    "\n",
    "    higher_order_function_saccades_upwards = get_saccades_upwards_per_snippet(df_higher_order.loc[(df_higher_order[\"Algorithm\"] == algo_name)][\"ClickData\"])\n",
    "    higher_order_function_saccades_upwards_mean = np.mean(higher_order_function_saccades_upwards)\n",
    "    higher_order_function_saccades_upwards_deviation = np.std(higher_order_function_saccades_upwards)\n",
    "\n",
    "    result_df = result_df.append(pd.DataFrame([[algorithm,\n",
    "\n",
    "                                                iterative_correct, iterative_total_answers, iterative_percent,\n",
    "                                                recursive_correct, recursive_total_answers, recursive_percent,\n",
    "                                                list_comprehension_correct, list_comprehension_total_answers, list_comprehension_percent,\n",
    "                                                higher_order_function_correct, higher_order_function_total_answers, higher_order_function_percent,\n",
    "\n",
    "                                                iterative_response_time_mean, iterative_response_time_deviation,\n",
    "                                                recursive_response_time_mean, recursive_response_time_deviation,\n",
    "                                                list_comprehension_response_time_mean, list_comprehension_response_time_deviation,\n",
    "                                                higher_order_function_response_time_mean, higher_order_function_response_time_deviation,\n",
    "\n",
    "                                                iterative_fixation_count_mean, iterative_fixation_count_deviation,\n",
    "                                                recursive_fixation_count_mean, recursive_fixation_count_deviation,\n",
    "                                                list_comprehension_fixation_count_mean, list_comprehension_fixation_count_deviation,\n",
    "                                                higher_order_function_fixation_count_mean, higher_order_function_fixation_count_deviation,\n",
    "\n",
    "                                                iterative_saccades_upwards_mean, iterative_saccades_upwards_deviation,\n",
    "                                                recursive_saccades_upwards_mean, recursive_saccades_upwards_deviation,\n",
    "                                                list_comprehension_saccades_upwards_mean, list_comprehension_saccades_upwards_deviation,\n",
    "                                                higher_order_function_saccades_upwards_mean, higher_order_function_saccades_upwards_deviation\n",
    "                                                ]], columns=result_df.columns), ignore_index=True)\n",
    "\n",
    "#get values for total experiment\n",
    "algorithm = \"total\"\n",
    "\n",
    "iterative_correct = df_iterative.loc[(df_iterative[\"Correctness\"]==True)][\"Correctness\"].sum()\n",
    "iterative_total_answers = df_iterative[\"Correctness\"].count()\n",
    "iterative_percent = iterative_correct / iterative_total_answers\n",
    "\n",
    "recursive_correct = df_recursive.loc[(df_recursive[\"Correctness\"]==True)][\"Correctness\"].sum()\n",
    "recursive_total_answers = df_recursive[\"Correctness\"].count()\n",
    "recursive_percent = recursive_correct / recursive_total_answers\n",
    "\n",
    "list_comprehension_correct = df_list_comprehension.loc[(df_list_comprehension[\"Correctness\"]==True)][\"Correctness\"].sum()\n",
    "list_comprehension_total_answers = df_list_comprehension[\"Correctness\"].count()\n",
    "list_comprehension_percent = list_comprehension_correct / list_comprehension_total_answers\n",
    "\n",
    "higher_order_function_correct = df_higher_order.loc[(df_higher_order[\"Correctness\"]==True)][\"Correctness\"].sum()\n",
    "higher_order_function_total_answers = df_higher_order[\"Correctness\"].count()\n",
    "higher_order_function_percent = higher_order_function_correct / higher_order_function_total_answers\n",
    "\n",
    "iterative_response_time_mean = df_iterative[\"ResponseTime\"].mean()\n",
    "iterative_response_time_deviation = df_iterative[\"ResponseTime\"].std()\n",
    "\n",
    "recursive_response_time_mean = df_recursive[\"ResponseTime\"].mean()\n",
    "recursive_response_time_deviation = df_recursive[\"ResponseTime\"].std()\n",
    "\n",
    "list_comprehension_response_time_mean = df_list_comprehension[\"ResponseTime\"].mean()\n",
    "list_comprehension_response_time_deviation = df_list_comprehension[\"ResponseTime\"].std()\n",
    "\n",
    "higher_order_function_response_time_mean = df_higher_order[\"ResponseTime\"].mean()\n",
    "higher_order_function_response_time_deviation = df_higher_order[\"ResponseTime\"].std()\n",
    "\n",
    "iterative_fixation_count = df_iterative[\"ClickData\"].apply(lambda x: len(str(x).split(\" \")))\n",
    "iterative_fixation_count_mean = iterative_fixation_count.mean()\n",
    "iterative_fixation_count_deviation = iterative_fixation_count.std()\n",
    "\n",
    "recursive_fixation_count = df_recursive[\"ClickData\"].apply(lambda x: len(str(x).split(\" \")))\n",
    "recursive_fixation_count_mean = recursive_fixation_count.mean()\n",
    "recursive_fixation_count_deviation = recursive_fixation_count.std()\n",
    "\n",
    "list_comprehension_fixation_count = df_list_comprehension[\"ClickData\"].apply(lambda x: len(str(x).split(\" \")))\n",
    "list_comprehension_fixation_count_mean = list_comprehension_fixation_count.mean()\n",
    "list_comprehension_fixation_count_deviation = list_comprehension_fixation_count.std()\n",
    "\n",
    "higher_order_function_fixation_count = df_higher_order[\"ClickData\"].apply(lambda x: len(str(x).split(\" \")))\n",
    "higher_order_function_fixation_count_mean = higher_order_function_fixation_count.mean()\n",
    "higher_order_function_fixation_count_deviation = higher_order_function_fixation_count.std()\n",
    "\n",
    "iterative_saccades_upwards = get_saccades_upwards_per_snippet(df_iterative[\"ClickData\"])\n",
    "iterative_saccades_upwards_mean = np.mean(iterative_saccades_upwards)\n",
    "iterative_saccades_upwards_deviation = np.std(iterative_saccades_upwards)\n",
    "\n",
    "recursive_saccades_upwards = get_saccades_upwards_per_snippet(df_recursive[\"ClickData\"])\n",
    "recursive_saccades_upwards_mean = np.mean(recursive_saccades_upwards)\n",
    "recursive_saccades_upwards_deviation = np.std(recursive_saccades_upwards)\n",
    "\n",
    "list_comprehension_saccades_upwards = get_saccades_upwards_per_snippet(df_list_comprehension[\"ClickData\"])\n",
    "list_comprehension_saccades_upwards_mean = np.mean(list_comprehension_saccades_upwards)\n",
    "list_comprehension_saccades_upwards_deviation = np.std(list_comprehension_saccades_upwards)\n",
    "\n",
    "higher_order_function_saccades_upwards = get_saccades_upwards_per_snippet(df_higher_order[\"ClickData\"])\n",
    "higher_order_function_saccades_upwards_mean = np.mean(higher_order_function_saccades_upwards)\n",
    "higher_order_function_saccades_upwards_deviation = np.std(higher_order_function_saccades_upwards)\n",
    "\n",
    "result_df = result_df.append(pd.DataFrame([[algorithm,\n",
    "\n",
    "                                            iterative_correct, iterative_total_answers, iterative_percent,\n",
    "                                            recursive_correct, recursive_total_answers, recursive_percent,\n",
    "                                            list_comprehension_correct, list_comprehension_total_answers, list_comprehension_percent,\n",
    "                                            higher_order_function_correct, higher_order_function_total_answers, higher_order_function_percent,\n",
    "\n",
    "                                            iterative_response_time_mean, iterative_response_time_deviation,\n",
    "                                            recursive_response_time_mean, recursive_response_time_deviation,\n",
    "                                            list_comprehension_response_time_mean, list_comprehension_response_time_deviation,\n",
    "                                            higher_order_function_response_time_mean, higher_order_function_response_time_deviation,\n",
    "\n",
    "                                            iterative_fixation_count_mean, iterative_fixation_count_deviation,\n",
    "                                            recursive_fixation_count_mean, recursive_fixation_count_deviation,\n",
    "                                            list_comprehension_fixation_count_mean, list_comprehension_fixation_count_deviation,\n",
    "                                            higher_order_function_fixation_count_mean, higher_order_function_fixation_count_deviation,\n",
    "\n",
    "                                            iterative_saccades_upwards_mean, iterative_saccades_upwards_deviation,\n",
    "                                            recursive_saccades_upwards_mean, recursive_saccades_upwards_deviation,\n",
    "                                            list_comprehension_saccades_upwards_mean, list_comprehension_saccades_upwards_deviation,\n",
    "                                            higher_order_function_saccades_upwards_mean, higher_order_function_saccades_upwards_deviation\n",
    "                                            ]], columns=result_df.columns), ignore_index=True)"
   ]
  },
  {
   "cell_type": "code",
   "execution_count": 7,
   "outputs": [],
   "source": [
    "result_df.to_excel(writer, \"Behavioral\", index=False)"
   ],
   "metadata": {
    "collapsed": false,
    "pycharm": {
     "name": "#%%\n"
    }
   }
  },
  {
   "cell_type": "code",
   "execution_count": 13,
   "metadata": {},
   "outputs": [
    {
     "data": {
      "text/plain": "<Figure size 432x288 with 1 Axes>",
      "image/png": "[encoded data removed]"
     },
     "metadata": {
      "needs_background": "light"
     },
     "output_type": "display_data"
    }
   ],
   "source": [
    "ax = sns.violinplot(x=\"ProgrammingStyle\", y=\"ResponseTime\", data=df)\n",
    "plt.savefig(\"results/behavioral/violin_response_time.pdf\", bbox_inches=\"tight\", pad_inches=0.01)"
   ]
  },
  {
   "cell_type": "code",
   "execution_count": 14,
   "metadata": {},
   "outputs": [
    {
     "data": {
      "text/plain": "<Figure size 432x288 with 1 Axes>",
      "image/png": "[encoded data removed]"
     },
     "metadata": {
      "needs_background": "light"
     },
     "output_type": "display_data"
    }
   ],
   "source": [
    "ax = sns.boxplot(x=\"ProgrammingStyle\", y=\"ResponseTime\", data=df)\n",
    "plt.savefig(\"results/behavioral/boxplot_response_time.pdf\", bbox_inches=\"tight\", pad_inches=0.01)"
   ]
  },
  {
   "cell_type": "code",
   "execution_count": 10,
   "metadata": {},
   "outputs": [
    {
     "data": {
      "text/plain": "<Figure size 432x288 with 1 Axes>",
      "image/png": "[encoded data removed]"
     },
     "metadata": {
      "needs_background": "light"
     },
     "output_type": "display_data"
    }
   ],
   "source": [
    "cols = [\"Algorithm\", \"Iterative\", \"Recursive\", \"List-Comprehension\", \"Higher-Order-Functions\"]\n",
    "bar_df = pd.DataFrame([], columns=cols)\n",
    "\n",
    "for algo_name in algo_name_array:\n",
    "    df_algo = df[df[\"Algorithm\"] == algo_name]\n",
    "    iterative = df_algo[df_algo[\"ProgrammingStyle\"] == \"iterative\"][\"ResponseTime\"].mean()\n",
    "    recursive = df_algo[df_algo[\"ProgrammingStyle\"] == \"recursive\"][\"ResponseTime\"].mean()\n",
    "    higher_order = df_algo[df_algo[\"ProgrammingStyle\"] == \"higher-order\"][\"ResponseTime\"].mean()\n",
    "    list_comprehension = df_algo[df_algo[\"ProgrammingStyle\"] == \"list-comprehension\"][\"ResponseTime\"].mean()\n",
    "\n",
    "    bar_df = bar_df.append(pd.DataFrame([[algo_name, iterative, recursive, list_comprehension, higher_order]], columns=cols))\n",
    "\n",
    "algo_name = \"Total\"\n",
    "iterative = df[df[\"ProgrammingStyle\"] == \"iterative\"][\"ResponseTime\"].mean()\n",
    "recursive = df[df[\"ProgrammingStyle\"] == \"recursive\"][\"ResponseTime\"].mean()\n",
    "list_comprehension = df[df[\"ProgrammingStyle\"] == \"list-comprehension\"][\"ResponseTime\"].mean()\n",
    "higher_order = df[df[\"ProgrammingStyle\"] == \"higher-order\"][\"ResponseTime\"].mean()\n",
    "bar_df = bar_df.append(pd.DataFrame([[algo_name, iterative, recursive, list_comprehension, higher_order]], columns=cols))\n",
    "\n",
    "bar_df = bar_df.set_index(\"Algorithm\")\n",
    "ax = bar_df.plot.bar(rot=290)\n",
    "plt.tight_layout()\n",
    "ax.legend(loc=\"upper left\")\n",
    "plt.savefig(\"results/behavioral/bar_response.pdf\", bbox_inches=\"tight\", pad_inches=0.01)"
   ]
  },
  {
   "cell_type": "code",
   "execution_count": 11,
   "metadata": {},
   "outputs": [],
   "source": [
    "writer.close()"
   ]
  },
  {
   "cell_type": "code",
   "execution_count": null,
   "outputs": [],
   "source": [],
   "metadata": {
    "collapsed": false,
    "pycharm": {
     "name": "#%%\n"
    }
   }
  }
 ],
 "metadata": {
  "kernelspec": {
   "display_name": "Python 3",
   "language": "python",
   "name": "python3"
  },
  "language_info": {
   "codemirror_mode": {
    "name": "ipython",
    "version": 3
   },
   "file_extension": ".py",
   "mimetype": "text/x-python",
   "name": "python",
   "nbconvert_exporter": "python",
   "pygments_lexer": "ipython3",
   "version": "3.8.8"
  }
 },
 "nbformat": 4,
 "nbformat_minor": 4
}