{
 "cells": [
  {
   "cell_type": "markdown",
   "metadata": {
    "collapsed": true,
    "pycharm": {
     "name": "#%% md\n"
    }
   },
   "source": [
    "# RQ1 - Influence of the programming style on the performance of the participants"
   ]
  },
  {
   "cell_type": "code",
   "execution_count": 1,
   "outputs": [],
   "source": [
    "import pandas as pd\n",
    "import matplotlib.pyplot as plt\n",
    "from modules import stats\n",
    "plt.rcParams['savefig.facecolor']='white'"
   ],
   "metadata": {
    "collapsed": false,
    "pycharm": {
     "name": "#%%\n"
    }
   }
  },
  {
   "cell_type": "code",
   "execution_count": 2,
   "outputs": [
    {
     "data": {
      "text/plain": "      ID    ProgrammingStyle   Algorithm  ResponseTime  Correctness  \\\n0    212           iterative       apply         66794        False   \n1    245           iterative       apply         21078         True   \n2    272           iterative       apply         81561         True   \n3    296           iterative       apply         22825        False   \n4    302           iterative       apply         20310         True   \n..   ...                 ...         ...           ...          ...   \n297  213  list-comprehension  LinkedList        153552        False   \n298  252  list-comprehension  LinkedList         47933         True   \n300  297  list-comprehension  LinkedList         48782         True   \n301  309  list-comprehension  LinkedList         55439        False   \n302  315  list-comprehension  LinkedList         41878         True   \n\n                                             ClickData  \\\n0    268-191 151-70 151-70 146-89 135-12 135-65 120...   \n1    156-17 174-195 129-44 131-62 141-93 141-114 14...   \n2                         188-192 104-34 132-69 149-89   \n3    160-195 122-115 148-9 138-34 140-60 132-94 153...   \n4    69-204 84-191 150-197 254-200 183-14 85-36 95-...   \n..                                                 ...   \n297  42-22 65-45 51-123 81-143 111-161 100-143 50-1...   \n298  110-12 118-37 101-117 126-142 134-170 137-190 ...   \n300  80-9 90-33 88-125 103-146 109-170 114-194 103-...   \n301  78-15 80-37 81-117 109-146 106-170 106-192 114...   \n302  82-120 102-669 301-689 98-713 110-171 112-192 ...   \n\n                                              TimeData  Outlier  \n0      10105 34435 35005 39192 47146 56587 61358 66794    False  \n1              1123 3472 14145 14878 16035 19911 21078    False  \n2                              16519 78023 79043 81561    False  \n3       4194 11386 13568 14369 15567 17215 21808 22825    False  \n4     4193 5008 5850 6351 8856 10441 11790 13309 20310    False  \n..                                                 ...      ...  \n297  4155 9379 12561 13652 21857 23971 25078 25989 ...    False  \n298  3853 4218 8660 9020 9434 9893 11026 11335 1200...    False  \n300  3545 4213 6711 7143 7700 8598 9962 10333 11843...    False  \n301  3924 4856 5841 6974 7497 8040 10490 11359 1325...    False  \n302  5602 8135 9452 16605 18846 19738 21055 21586 2...    False  \n\n[278 rows x 8 columns]",
      "text/html": "<div>\n<style scoped>\n    .dataframe tbody tr th:only-of-type {\n        vertical-align: middle;\n    }\n\n    .dataframe tbody tr th {\n        vertical-align: top;\n    }\n\n    .dataframe thead th {\n        text-align: right;\n    }\n</style>\n<table border=\"1\" class=\"dataframe\">\n  <thead>\n    <tr style=\"text-align: right;\">\n      <th></th>\n      <th>ID</th>\n      <th>ProgrammingStyle</th>\n      <th>Algorithm</th>\n      <th>ResponseTime</th>\n      <th>Correctness</th>\n      <th>ClickData</th>\n      <th>TimeData</th>\n      <th>Outlier</th>\n    </tr>\n  </thead>\n  <tbody>\n    <tr>\n      <th>0</th>\n      <td>212</td>\n      <td>iterative</td>\n      <td>apply</td>\n      <td>66794</td>\n      <td>False</td>\n      <td>268-191 151-70 151-70 146-89 135-12 135-65 120...</td>\n      <td>10105 34435 35005 39192 47146 56587 61358 66794</td>\n      <td>False</td>\n    </tr>\n    <tr>\n      <th>1</th>\n      <td>245</td>\n      <td>iterative</td>\n      <td>apply</td>\n      <td>21078</td>\n      <td>True</td>\n      <td>156-17 174-195 129-44 131-62 141-93 141-114 14...</td>\n      <td>1123 3472 14145 14878 16035 19911 21078</td>\n      <td>False</td>\n    </tr>\n    <tr>\n      <th>2</th>\n      <td>272</td>\n      <td>iterative</td>\n      <td>apply</td>\n      <td>81561</td>\n      <td>True</td>\n      <td>188-192 104-34 132-69 149-89</td>\n      <td>16519 78023 79043 81561</td>\n      <td>False</td>\n    </tr>\n    <tr>\n      <th>3</th>\n      <td>296</td>\n      <td>iterative</td>\n      <td>apply</td>\n      <td>22825</td>\n      <td>False</td>\n      <td>160-195 122-115 148-9 138-34 140-60 132-94 153...</td>\n      <td>4194 11386 13568 14369 15567 17215 21808 22825</td>\n      <td>False</td>\n    </tr>\n    <tr>\n      <th>4</th>\n      <td>302</td>\n      <td>iterative</td>\n      <td>apply</td>\n      <td>20310</td>\n      <td>True</td>\n      <td>69-204 84-191 150-197 254-200 183-14 85-36 95-...</td>\n      <td>4193 5008 5850 6351 8856 10441 11790 13309 20310</td>\n      <td>False</td>\n    </tr>\n    <tr>\n      <th>...</th>\n      <td>...</td>\n      <td>...</td>\n      <td>...</td>\n      <td>...</td>\n      <td>...</td>\n      <td>...</td>\n      <td>...</td>\n      <td>...</td>\n    </tr>\n    <tr>\n      <th>297</th>\n      <td>213</td>\n      <td>list-comprehension</td>\n      <td>LinkedList</td>\n      <td>153552</td>\n      <td>False</td>\n      <td>42-22 65-45 51-123 81-143 111-161 100-143 50-1...</td>\n      <td>4155 9379 12561 13652 21857 23971 25078 25989 ...</td>\n      <td>False</td>\n    </tr>\n    <tr>\n      <th>298</th>\n      <td>252</td>\n      <td>list-comprehension</td>\n      <td>LinkedList</td>\n      <td>47933</td>\n      <td>True</td>\n      <td>110-12 118-37 101-117 126-142 134-170 137-190 ...</td>\n      <td>3853 4218 8660 9020 9434 9893 11026 11335 1200...</td>\n      <td>False</td>\n    </tr>\n    <tr>\n      <th>300</th>\n      <td>297</td>\n      <td>list-comprehension</td>\n      <td>LinkedList</td>\n      <td>48782</td>\n      <td>True</td>\n      <td>80-9 90-33 88-125 103-146 109-170 114-194 103-...</td>\n      <td>3545 4213 6711 7143 7700 8598 9962 10333 11843...</td>\n      <td>False</td>\n    </tr>\n    <tr>\n      <th>301</th>\n      <td>309</td>\n      <td>list-comprehension</td>\n      <td>LinkedList</td>\n      <td>55439</td>\n      <td>False</td>\n      <td>78-15 80-37 81-117 109-146 106-170 106-192 114...</td>\n      <td>3924 4856 5841 6974 7497 8040 10490 11359 1325...</td>\n      <td>False</td>\n    </tr>\n    <tr>\n      <th>302</th>\n      <td>315</td>\n      <td>list-comprehension</td>\n      <td>LinkedList</td>\n      <td>41878</td>\n      <td>True</td>\n      <td>82-120 102-669 301-689 98-713 110-171 112-192 ...</td>\n      <td>5602 8135 9452 16605 18846 19738 21055 21586 2...</td>\n      <td>False</td>\n    </tr>\n  </tbody>\n</table>\n<p>278 rows × 8 columns</p>\n</div>"
     },
     "execution_count": 2,
     "metadata": {},
     "output_type": "execute_result"
    }
   ],
   "source": [
    "df = pd.read_csv('./data/preprocessed_experiment_data.csv')\n",
    "df = df[df[\"Outlier\"] == False]\n",
    "df"
   ],
   "metadata": {
    "collapsed": false,
    "pycharm": {
     "name": "#%%\n"
    }
   }
  },
  {
   "cell_type": "markdown",
   "source": [
    "## Correlations"
   ],
   "metadata": {
    "collapsed": false,
    "pycharm": {
     "name": "#%% md\n"
    }
   }
  },
  {
   "cell_type": "markdown",
   "source": [
    "### Correctness Ratio"
   ],
   "metadata": {
    "collapsed": false,
    "pycharm": {
     "name": "#%% md\n"
    }
   }
  },
  {
   "cell_type": "code",
   "execution_count": 3,
   "outputs": [
    {
     "data": {
      "text/plain": "      ID    ProgrammingStyle NumberOfCorrect NumberOfTotal CorrectnessRatio\n0    194           iterative               0             1              0.0\n1    195  list-comprehension               0             1              0.0\n2    196        higher-order               0             3              0.0\n3    196           iterative               1             2              0.5\n4    196  list-comprehension               0             3              0.0\n..   ...                 ...             ...           ...              ...\n113  319           recursive               1             1              1.0\n114  320        higher-order               2             2              1.0\n115  320           iterative               3             3              1.0\n116  320  list-comprehension               2             3         0.666667\n117  320           recursive               1             3         0.333333\n\n[118 rows x 5 columns]",
      "text/html": "<div>\n<style scoped>\n    .dataframe tbody tr th:only-of-type {\n        vertical-align: middle;\n    }\n\n    .dataframe tbody tr th {\n        vertical-align: top;\n    }\n\n    .dataframe thead th {\n        text-align: right;\n    }\n</style>\n<table border=\"1\" class=\"dataframe\">\n  <thead>\n    <tr style=\"text-align: right;\">\n      <th></th>\n      <th>ID</th>\n      <th>ProgrammingStyle</th>\n      <th>NumberOfCorrect</th>\n      <th>NumberOfTotal</th>\n      <th>CorrectnessRatio</th>\n    </tr>\n  </thead>\n  <tbody>\n    <tr>\n      <th>0</th>\n      <td>194</td>\n      <td>iterative</td>\n      <td>0</td>\n      <td>1</td>\n      <td>0.0</td>\n    </tr>\n    <tr>\n      <th>1</th>\n      <td>195</td>\n      <td>list-comprehension</td>\n      <td>0</td>\n      <td>1</td>\n      <td>0.0</td>\n    </tr>\n    <tr>\n      <th>2</th>\n      <td>196</td>\n      <td>higher-order</td>\n      <td>0</td>\n      <td>3</td>\n      <td>0.0</td>\n    </tr>\n    <tr>\n      <th>3</th>\n      <td>196</td>\n      <td>iterative</td>\n      <td>1</td>\n      <td>2</td>\n      <td>0.5</td>\n    </tr>\n    <tr>\n      <th>4</th>\n      <td>196</td>\n      <td>list-comprehension</td>\n      <td>0</td>\n      <td>3</td>\n      <td>0.0</td>\n    </tr>\n    <tr>\n      <th>...</th>\n      <td>...</td>\n      <td>...</td>\n      <td>...</td>\n      <td>...</td>\n      <td>...</td>\n    </tr>\n    <tr>\n      <th>113</th>\n      <td>319</td>\n      <td>recursive</td>\n      <td>1</td>\n      <td>1</td>\n      <td>1.0</td>\n    </tr>\n    <tr>\n      <th>114</th>\n      <td>320</td>\n      <td>higher-order</td>\n      <td>2</td>\n      <td>2</td>\n      <td>1.0</td>\n    </tr>\n    <tr>\n      <th>115</th>\n      <td>320</td>\n      <td>iterative</td>\n      <td>3</td>\n      <td>3</td>\n      <td>1.0</td>\n    </tr>\n    <tr>\n      <th>116</th>\n      <td>320</td>\n      <td>list-comprehension</td>\n      <td>2</td>\n      <td>3</td>\n      <td>0.666667</td>\n    </tr>\n    <tr>\n      <th>117</th>\n      <td>320</td>\n      <td>recursive</td>\n      <td>1</td>\n      <td>3</td>\n      <td>0.333333</td>\n    </tr>\n  </tbody>\n</table>\n<p>118 rows × 5 columns</p>\n</div>"
     },
     "execution_count": 3,
     "metadata": {},
     "output_type": "execute_result"
    }
   ],
   "source": [
    "df_correctness_ratio = pd.DataFrame([], columns=[\"ID\", \"ProgrammingStyle\", \"NumberOfCorrect\", \"NumberOfTotal\"])\n",
    "\n",
    "for (participant, style), df_group in df.groupby([\"ID\", \"ProgrammingStyle\"]):\n",
    "\n",
    "    correct = len(df_group[df_group[\"Correctness\"] == True])\n",
    "    total = len(df_group)\n",
    "    df_correctness_ratio.loc[len(df_correctness_ratio)] = [participant, style, correct, total]\n",
    "\n",
    "df_correctness_ratio[\"CorrectnessRatio\"] = df_correctness_ratio[\"NumberOfCorrect\"] / df_correctness_ratio[\"NumberOfTotal\"]\n",
    "df_correctness_ratio"
   ],
   "metadata": {
    "collapsed": false,
    "pycharm": {
     "name": "#%%\n"
    }
   }
  },
  {
   "cell_type": "markdown",
   "source": [
    "### Response Time Data"
   ],
   "metadata": {
    "collapsed": false,
    "pycharm": {
     "name": "#%% md\n"
    }
   }
  },
  {
   "cell_type": "code",
   "execution_count": 4,
   "outputs": [
    {
     "data": {
      "text/plain": "      ID Algorithm    ProgrammingStyle  ResponseTime\n0    212     apply           iterative        66.794\n1    245     apply           iterative        21.078\n2    272     apply           iterative        81.561\n3    296     apply           iterative        22.825\n4    302     apply           iterative        20.310\n..   ...       ...                 ...           ...\n297  213     total  list-comprehension       153.552\n298  252     total  list-comprehension        47.933\n300  297     total  list-comprehension        48.782\n301  309     total  list-comprehension        55.439\n302  315     total  list-comprehension        41.878\n\n[556 rows x 4 columns]",
      "text/html": "<div>\n<style scoped>\n    .dataframe tbody tr th:only-of-type {\n        vertical-align: middle;\n    }\n\n    .dataframe tbody tr th {\n        vertical-align: top;\n    }\n\n    .dataframe thead th {\n        text-align: right;\n    }\n</style>\n<table border=\"1\" class=\"dataframe\">\n  <thead>\n    <tr style=\"text-align: right;\">\n      <th></th>\n      <th>ID</th>\n      <th>Algorithm</th>\n      <th>ProgrammingStyle</th>\n      <th>ResponseTime</th>\n    </tr>\n  </thead>\n  <tbody>\n    <tr>\n      <th>0</th>\n      <td>212</td>\n      <td>apply</td>\n      <td>iterative</td>\n      <td>66.794</td>\n    </tr>\n    <tr>\n      <th>1</th>\n      <td>245</td>\n      <td>apply</td>\n      <td>iterative</td>\n      <td>21.078</td>\n    </tr>\n    <tr>\n      <th>2</th>\n      <td>272</td>\n      <td>apply</td>\n      <td>iterative</td>\n      <td>81.561</td>\n    </tr>\n    <tr>\n      <th>3</th>\n      <td>296</td>\n      <td>apply</td>\n      <td>iterative</td>\n      <td>22.825</td>\n    </tr>\n    <tr>\n      <th>4</th>\n      <td>302</td>\n      <td>apply</td>\n      <td>iterative</td>\n      <td>20.310</td>\n    </tr>\n    <tr>\n      <th>...</th>\n      <td>...</td>\n      <td>...</td>\n      <td>...</td>\n      <td>...</td>\n    </tr>\n    <tr>\n      <th>297</th>\n      <td>213</td>\n      <td>total</td>\n      <td>list-comprehension</td>\n      <td>153.552</td>\n    </tr>\n    <tr>\n      <th>298</th>\n      <td>252</td>\n      <td>total</td>\n      <td>list-comprehension</td>\n      <td>47.933</td>\n    </tr>\n    <tr>\n      <th>300</th>\n      <td>297</td>\n      <td>total</td>\n      <td>list-comprehension</td>\n      <td>48.782</td>\n    </tr>\n    <tr>\n      <th>301</th>\n      <td>309</td>\n      <td>total</td>\n      <td>list-comprehension</td>\n      <td>55.439</td>\n    </tr>\n    <tr>\n      <th>302</th>\n      <td>315</td>\n      <td>total</td>\n      <td>list-comprehension</td>\n      <td>41.878</td>\n    </tr>\n  </tbody>\n</table>\n<p>556 rows × 4 columns</p>\n</div>"
     },
     "execution_count": 4,
     "metadata": {},
     "output_type": "execute_result"
    }
   ],
   "source": [
    "df_response_time = df[[\"ID\", \"Algorithm\", \"ProgrammingStyle\", \"ResponseTime\"]].copy()\n",
    "df_response_time[\"ResponseTime\"] = df_response_time[\"ResponseTime\"].astype(float).apply(lambda x: x/1000.)\n",
    "\n",
    "df_tmp = df_response_time.copy()\n",
    "df_tmp[\"Algorithm\"] = \"total\"\n",
    "df_response_time = df_response_time.append(df_tmp)\n",
    "\n",
    "df_response_time"
   ],
   "metadata": {
    "collapsed": false,
    "pycharm": {
     "name": "#%%\n"
    }
   }
  },
  {
   "cell_type": "markdown",
   "source": [
    "## Load Demographic Data"
   ],
   "metadata": {
    "collapsed": false,
    "pycharm": {
     "name": "#%% md\n"
    }
   }
  },
  {
   "cell_type": "code",
   "execution_count": 5,
   "outputs": [],
   "source": [
    "variable_mapping = {\n",
    "    \"CASE\" : \"ID\",\n",
    "    \"ST04_01\" : \"C++\",\n",
    "    \"ST04_02\" : \"Java\",\n",
    "    \"ST04_03\" : \"Haskell\",\n",
    "    \"ST04_04\" : \"Python\",\n",
    "    \"ST04_05\" : \"Prolog\",\n",
    "    \"ST04_06\" : \"Rust\",\n",
    "    \"ST04_07\" : \"Kotlin\",\n",
    "    \"ST05_01\" : \"Logical\",\n",
    "    \"ST05_02\" : \"Imperative\",\n",
    "    \"ST05_03\" : \"Functional\",\n",
    "    \"ST05_04\" : \"ObjectOriented\",\n",
    "    \"ST12\" : \"Iteration\",\n",
    "    \"ST13\" : \"Recursion\",\n",
    "    \"ST14\" : \"HigherOrder\",\n",
    "    \"ST15\" : \"ListComprehension\",\n",
    "}\n",
    "\n",
    "df_demographics = pd.read_csv('./data/preprocessed_total_data.csv')\n",
    "df_demographics = df_demographics[variable_mapping.keys()]\n",
    "df_demographics.columns = variable_mapping.values()\n",
    "df_language = df_demographics.melt(id_vars=\"ID\", value_vars=[\"C++\", \"Java\", \"Haskell\", \"Python\", \"Prolog\", \"Rust\", \"Kotlin\"], value_name=\"PreExperience\", var_name=\"Language\")\n",
    "df_paradigm = df_demographics.melt(id_vars=\"ID\", value_vars=[\"Logical\", \"Imperative\", \"Functional\", \"ObjectOriented\"], value_name=\"PreExperience\", var_name=\"Paradigm\")\n",
    "df_style = df_demographics.melt(id_vars=\"ID\", value_vars=[\"Iteration\", \"Recursion\", \"HigherOrder\", \"ListComprehension\"], value_name=\"PreExperience\", var_name=\"Style\")"
   ],
   "metadata": {
    "collapsed": false,
    "pycharm": {
     "name": "#%%\n"
    }
   }
  },
  {
   "cell_type": "markdown",
   "source": [
    "## Calculate Correlation"
   ],
   "metadata": {
    "collapsed": false,
    "pycharm": {
     "name": "#%% md\n"
    }
   }
  },
  {
   "cell_type": "code",
   "execution_count": 6,
   "outputs": [
    {
     "data": {
      "text/plain": "      ProgrammingStyle      PreExperience  Correlation\n0            iterative          Iteration    -0.046262\n1            recursive          Iteration     0.041121\n2         higher-order          Iteration    -0.422458\n3   list-comprehension          Iteration    -0.069562\n4            iterative          Recursion    -0.120865\n5            recursive          Recursion    -0.103111\n6         higher-order          Recursion    -0.288836\n7   list-comprehension          Recursion    -0.130424\n8            iterative        HigherOrder    -0.092090\n9            recursive        HigherOrder    -0.062669\n10        higher-order        HigherOrder    -0.169916\n11  list-comprehension        HigherOrder    -0.076792\n12           iterative  ListComprehension    -0.129509\n13           recursive  ListComprehension    -0.129369\n14        higher-order  ListComprehension    -0.189740\n15  list-comprehension  ListComprehension     0.002186",
      "text/html": "<div>\n<style scoped>\n    .dataframe tbody tr th:only-of-type {\n        vertical-align: middle;\n    }\n\n    .dataframe tbody tr th {\n        vertical-align: top;\n    }\n\n    .dataframe thead th {\n        text-align: right;\n    }\n</style>\n<table border=\"1\" class=\"dataframe\">\n  <thead>\n    <tr style=\"text-align: right;\">\n      <th></th>\n      <th>ProgrammingStyle</th>\n      <th>PreExperience</th>\n      <th>Correlation</th>\n    </tr>\n  </thead>\n  <tbody>\n    <tr>\n      <th>0</th>\n      <td>iterative</td>\n      <td>Iteration</td>\n      <td>-0.046262</td>\n    </tr>\n    <tr>\n      <th>1</th>\n      <td>recursive</td>\n      <td>Iteration</td>\n      <td>0.041121</td>\n    </tr>\n    <tr>\n      <th>2</th>\n      <td>higher-order</td>\n      <td>Iteration</td>\n      <td>-0.422458</td>\n    </tr>\n    <tr>\n      <th>3</th>\n      <td>list-comprehension</td>\n      <td>Iteration</td>\n      <td>-0.069562</td>\n    </tr>\n    <tr>\n      <th>4</th>\n      <td>iterative</td>\n      <td>Recursion</td>\n      <td>-0.120865</td>\n    </tr>\n    <tr>\n      <th>5</th>\n      <td>recursive</td>\n      <td>Recursion</td>\n      <td>-0.103111</td>\n    </tr>\n    <tr>\n      <th>6</th>\n      <td>higher-order</td>\n      <td>Recursion</td>\n      <td>-0.288836</td>\n    </tr>\n    <tr>\n      <th>7</th>\n      <td>list-comprehension</td>\n      <td>Recursion</td>\n      <td>-0.130424</td>\n    </tr>\n    <tr>\n      <th>8</th>\n      <td>iterative</td>\n      <td>HigherOrder</td>\n      <td>-0.092090</td>\n    </tr>\n    <tr>\n      <th>9</th>\n      <td>recursive</td>\n      <td>HigherOrder</td>\n      <td>-0.062669</td>\n    </tr>\n    <tr>\n      <th>10</th>\n      <td>higher-order</td>\n      <td>HigherOrder</td>\n      <td>-0.169916</td>\n    </tr>\n    <tr>\n      <th>11</th>\n      <td>list-comprehension</td>\n      <td>HigherOrder</td>\n      <td>-0.076792</td>\n    </tr>\n    <tr>\n      <th>12</th>\n      <td>iterative</td>\n      <td>ListComprehension</td>\n      <td>-0.129509</td>\n    </tr>\n    <tr>\n      <th>13</th>\n      <td>recursive</td>\n      <td>ListComprehension</td>\n      <td>-0.129369</td>\n    </tr>\n    <tr>\n      <th>14</th>\n      <td>higher-order</td>\n      <td>ListComprehension</td>\n      <td>-0.189740</td>\n    </tr>\n    <tr>\n      <th>15</th>\n      <td>list-comprehension</td>\n      <td>ListComprehension</td>\n      <td>0.002186</td>\n    </tr>\n  </tbody>\n</table>\n</div>"
     },
     "metadata": {},
     "output_type": "display_data"
    }
   ],
   "source": [
    "df_tmp = df_response_time.merge(df_demographics, on=\"ID\")\n",
    "df_tmp = df_tmp[[\"ProgrammingStyle\", \"ResponseTime\", \"Iteration\", \"Recursion\", \"HigherOrder\", \"ListComprehension\"]]\n",
    "df_correlation = pd.DataFrame(columns=[\"ProgrammingStyle\", \"PreExperience\", \"Correlation\"])\n",
    "for column in df_tmp.columns[2:]:\n",
    "    for style in df_tmp[\"ProgrammingStyle\"].unique():\n",
    "        df_sub = df_tmp[df_tmp[\"ProgrammingStyle\"] == style]\n",
    "        df_corr = df_sub[[\"ResponseTime\", column]].corr()\n",
    "        coef = df_corr[\"ResponseTime\"].values[1]\n",
    "        df_correlation.loc[len(df_correlation)] = [style, column, coef]\n",
    "display(df_correlation)\n",
    "df_correlation.to_excel(\"./tmp.xlsx\")"
   ],
   "metadata": {
    "collapsed": false,
    "pycharm": {
     "name": "#%%\n"
    }
   }
  },
  {
   "cell_type": "code",
   "execution_count": null,
   "outputs": [],
   "source": [
    "df_tmp = df_correctness_ratio.merge(df_demographics, on=\"ID\")\n",
    "df_tmp = df_tmp[[\"ProgrammingStyle\", \"CorrectnessRatio\", \"Iteration\", \"Recursion\", \"HigherOrder\", \"ListComprehension\"]]\n",
    "df_tmp[\"CorrectnessRatio\"] = df_tmp[\"CorrectnessRatio\"].astype(float)\n",
    "df_correlation = pd.DataFrame(columns=[\"ProgrammingStyle\", \"PreExperience\", \"Correlation\"])\n",
    "for column in df_tmp.columns[2:]:\n",
    "    for style in df_tmp[\"ProgrammingStyle\"].unique():\n",
    "        df_sub = df_tmp[df_tmp[\"ProgrammingStyle\"] == style]\n",
    "        df_corr = df_sub[[\"CorrectnessRatio\", column]].corr()\n",
    "        coef = df_corr[\"CorrectnessRatio\"].values[1]\n",
    "        df_correlation.loc[len(df_correlation)] = [style, column, coef]\n",
    "display(df_correlation)\n",
    "df_correlation.to_excel(\"./tmp1.xlsx\")"
   ],
   "metadata": {
    "collapsed": false,
    "pycharm": {
     "name": "#%%\n"
    }
   }
  }
 ],
 "metadata": {
  "kernelspec": {
   "display_name": "Python 3",
   "language": "python",
   "name": "python3"
  },
  "language_info": {
   "codemirror_mode": {
    "name": "ipython",
    "version": 2
   },
   "file_extension": ".py",
   "mimetype": "text/x-python",
   "name": "python",
   "nbconvert_exporter": "python",
   "pygments_lexer": "ipython2",
   "version": "2.7.6"
  }
 },
 "nbformat": 4,
 "nbformat_minor": 0
}