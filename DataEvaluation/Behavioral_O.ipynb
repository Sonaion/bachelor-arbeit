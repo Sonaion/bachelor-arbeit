{
 "cells": [
  {
   "cell_type": "markdown",
   "metadata": {},
   "source": [
    "imports"
   ]
  },
  {
   "cell_type": "code",
   "execution_count": null,
   "metadata": {},
   "outputs": [],
   "source": [
    "import pandas as pd\n",
    "import seaborn as sns\n",
    "\n",
    "writer = pd.ExcelWriter('./results/data_of_all.xlsx', engine='xlsxwriter')"
   ]
  },
  {
   "cell_type": "markdown",
   "metadata": {},
   "source": [
    "config"
   ]
  },
  {
   "cell_type": "code",
   "execution_count": null,
   "metadata": {},
   "outputs": [],
   "source": [
    "config_prefix = ['BR', 'BI', 'TR', 'TI']\n",
    "\n",
    "config_datasheet = r'./results/preprocessed.xlsx'"
   ]
  },
  {
   "cell_type": "markdown",
   "metadata": {},
   "source": [
    "import df"
   ]
  },
  {
   "cell_type": "code",
   "execution_count": null,
   "metadata": {},
   "outputs": [],
   "source": [
    "raw = pd.read_excel(config_datasheet)\n",
    "df = pd.DataFrame(raw)\n",
    "df[\"Flag\"] = df[\"Flag\"].apply(str)"
   ]
  },
  {
   "cell_type": "markdown",
   "metadata": {},
   "source": [
    "remove outliers"
   ]
  },
  {
   "cell_type": "code",
   "execution_count": null,
   "metadata": {},
   "outputs": [],
   "source": [
    "#split dataframes into dataframes for the 2*2 related factors\n",
    "df_BU_R = df.loc[(df[\"ProgrammingStyle\"]==\"R\") & (df[\"Comprehension\"]==\"BU\")].drop(\"ClickData\", axis=1)\n",
    "df_BU_I = df.loc[(df[\"ProgrammingStyle\"]==\"I\") & (df[\"Comprehension\"]==\"BU\")].drop(\"ClickData\", axis=1)\n",
    "df_TD_R = df.loc[(df[\"ProgrammingStyle\"]==\"R\") & (df[\"Comprehension\"]==\"TD\")].drop(\"ClickData\", axis=1)\n",
    "df_TD_I = df.loc[(df[\"ProgrammingStyle\"]==\"I\") & (df[\"Comprehension\"]==\"TD\")].drop(\"ClickData\", axis=1)"
   ]
  },
  {
   "cell_type": "code",
   "execution_count": null,
   "metadata": {},
   "outputs": [],
   "source": [
    "df_array_independent = [df_BU_R, df_BU_I, df_TD_R, df_TD_I]\n",
    "df_means = [float(df[\"ResponseTime\"].mean()) for df in df_array_independent]\n",
    "df_stds = [float(df[\"ResponseTime\"].std()) for df in df_array_independent]\n",
    "\n",
    "for idx, df in enumerate(df_array_independent):\n",
    "    mean = float(df_means[idx])\n",
    "    stddev = float(df_stds[idx])\n",
    "    for row_idx, row in df.iterrows():\n",
    "        response_time = row[\"ResponseTime\"]\n",
    "        if mean+1.5*stddev < response_time < mean+2*stddev:\n",
    "            df.loc[row_idx, \"Flag\"] = \"notNormal\"\n",
    "            \n",
    "        if response_time <= 30 and row[\"Correctness\"] == False or response_time >= mean+2*stddev:\n",
    "            df.loc[row_idx, \"Flag\"] = \"Outlier\"\n",
    "\n",
    "df = df_BU_R\n",
    "df = df.append(df_BU_I)\n",
    "df = df.append(df_TD_R)\n",
    "df = df.append(df_TD_I)\n",
    "df.to_excel(writer, \"labeled\")\n",
    "\n",
    "print(len(df))\n",
    "\n",
    "for idx, df in enumerate(df_array_independent):\n",
    "    df.loc[df[\"Flag\"]==\"Outlier\", \"ResponseTime\"] = df_means[idx]\n",
    "    \n",
    "df_means"
   ]
  },
  {
   "cell_type": "code",
   "execution_count": null,
   "metadata": {},
   "outputs": [],
   "source": [
    "for df_idx, _df in enumerate(df_array_independent):\n",
    "    for row_idx, row in df.iterrows():\n",
    "        id_value = row[\"Subject\"]\n",
    "        entries_id_BU_R = df_BU_R.loc[(df_BU_R[\"Subject\"] == id_value) & (df_BU_R[\"Flag\"] == \"Outlier\")]\n",
    "        entries_id_BU_I = df_BU_I.loc[(df_BU_I[\"Subject\"] == id_value) & (df_BU_I[\"Flag\"] == \"Outlier\")] \n",
    "        entries_id_TD_R = df_TD_R.loc[(df_TD_R[\"Subject\"] == id_value) & (df_TD_R[\"Flag\"] == \"Outlier\")]\n",
    "        entries_id_TD_I = df_TD_I.loc[(df_TD_I[\"Subject\"] == id_value) & (df_TD_I[\"Flag\"] == \"Outlier\")]\n",
    "        \n",
    "        df_per_id = entries_id_BU_R\n",
    "        df_per_id = df_per_id.append(entries_id_BU_I)\n",
    "        df_per_id = df_per_id.append(entries_id_TD_R)\n",
    "        df_per_id = df_per_id.append(entries_id_TD_I)\n",
    "        \n",
    "        number_of_outliers_per_subject = len(df_per_id)\n",
    "        \n",
    "        if number_of_outliers_per_subject == 2:\n",
    "            \n",
    "            df_nn_BU_R = df_BU_R.loc[(df_BU_R[\"Subject\"] == id_value) & (df_BU_R[\"Flag\"] == \"notNormal\")]\n",
    "            df_nn_BU_I = df_BU_I.loc[(df_BU_I[\"Subject\"] == id_value) & (df_BU_I[\"Flag\"] == \"notNormal\")]\n",
    "            df_nn_TD_R = df_TD_R.loc[(df_TD_R[\"Subject\"] == id_value) & (df_TD_R[\"Flag\"] == \"notNormal\")]\n",
    "            df_nn_TD_I = df_TD_I.loc[(df_TD_I[\"Subject\"] == id_value) & (df_TD_I[\"Flag\"] == \"notNormal\")]\n",
    "            \n",
    "            num_non_normals = len(df_nn_BU_R) + len(df_nn_BU_I) + len(df_nn_TD_R) + len(df_nn_TD_I)\n",
    "            \n",
    "            if num_non_normals > 0:\n",
    "                print(\"Participant with the following number got deleted: \" + str(id_value) + \". Because 2 where missing and \" + str(num_non_normals) + \" datapoints where not normal.\")\n",
    "                df_BU_R = df_BU_R.loc[df_BU_R[\"Subject\"]!=id_value]\n",
    "                df_BU_I = df_BU_I.loc[df_BU_I[\"Subject\"]!=id_value]\n",
    "                df_TD_R = df_TD_R.loc[df_TD_R[\"Subject\"]!=id_value]\n",
    "                df_TD_I = df_TD_I.loc[df_TD_I[\"Subject\"]!=id_value]\n",
    "                \n",
    "        if number_of_outliers_per_subject > 2:\n",
    "            print(\"Participant with the following number got deleted: \" + str(id_value) + \". Because \" + str(number_of_outliers_per_subject) + \" where missing.\")\n",
    "            df_BU_R = df_BU_R.loc[df_BU_R[\"Subject\"]!=id_value]\n",
    "            df_BU_I = df_BU_I.loc[df_BU_I[\"Subject\"]!=id_value]\n",
    "            df_TD_R = df_TD_R.loc[df_TD_R[\"Subject\"]!=id_value]\n",
    "            df_TD_I = df_TD_I.loc[df_TD_I[\"Subject\"]!=id_value]\n",
    "\n",
    "df_array_independent = [df_BU_R, df_BU_I, df_TD_R, df_TD_I]\n",
    "print(sum([len(df) for df in df_array_independent]))"
   ]
  },
  {
   "cell_type": "code",
   "execution_count": null,
   "metadata": {},
   "outputs": [],
   "source": [
    "#participants = []\n",
    "#deleted = 0\n",
    "algo_name_array = [name for name in df[\"Algorithm\"].unique()]\n",
    "#\n",
    "#for idx, tmp_df in  enumerate(df_array_independent):\n",
    "#    df_1 = df_BU_R\n",
    "#    df_2 = df_BU_I\n",
    "#    df_3 = df_TD_R\n",
    "#    df_4 = df_TD_I\n",
    "#    for idx, row in tmp_df.iterrows():\n",
    "#        participant = row[\"Subject\"]\n",
    "#        \n",
    "#        df_1_len = len(df_1.loc[df_1[\"Subject\"]==participant])\n",
    "#        df_2_len = len(df_2.loc[df_2[\"Subject\"]==participant])\n",
    "#        df_3_len = len(df_3.loc[df_3[\"Subject\"]==participant])\n",
    "#        df_4_len = len(df_4.loc[df_4[\"Subject\"]==participant])\n",
    "#        \n",
    "#        if not(df_1_len == df_2_len == df_3_len == df_4_len):\n",
    "#            participants.append(participant)\n",
    "#            deleted += df_1_len + df_2_len + df_3_len + df_4_len\n",
    "#            df_BU_R = df_BU_R.loc[df_BU_R[\"Subject\"]!=participant]\n",
    "#            df_BU_I = df_BU_I.loc[df_BU_I[\"Subject\"]!=participant]\n",
    "#            df_TD_R = df_TD_R.loc[df_TD_R[\"Subject\"]!=participant]\n",
    "#            df_TD_I = df_TD_I.loc[df_TD_I[\"Subject\"]!=participant]\n",
    "#            print(str(participant) + \": \" + str(df_1_len) + \" \" + str(df_2_len) + \" \" + str(df_3_len) + \" \" + str(df_4_len))"
   ]
  },
  {
   "cell_type": "code",
   "execution_count": null,
   "metadata": {},
   "outputs": [],
   "source": [
    "total_df = df_BU_R\n",
    "total_df = total_df.append(df_BU_I)\n",
    "total_df = total_df.append(df_TD_R)\n",
    "total_df = total_df.append(df_TD_I)\n",
    "total_df.to_csv(\"data_of_all_removed.csv\")"
   ]
  },
  {
   "cell_type": "markdown",
   "metadata": {},
   "source": [
    "split dataframes "
   ]
  },
  {
   "cell_type": "code",
   "execution_count": null,
   "metadata": {},
   "outputs": [],
   "source": [
    "df_cat_array = df_array_independent\n",
    "\n",
    "df = df_array_independent[0]\n",
    "df = df.append(df_array_independent[1])\n",
    "df = df.append(df_array_independent[2])\n",
    "df = df.append(df_array_independent[3])\n",
    "\n",
    "df_algo_cat_array = []\n",
    "for algo_name in algo_name_array:\n",
    "    tmp_df = []\n",
    "    tmp_df.append(df.loc[(df[\"Algorithm\"]==algo_name) & (df[\"ProgrammingStyle\"]==\"R\") & (df[\"Comprehension\"]==\"BU\")])\n",
    "    tmp_df.append(df.loc[(df[\"Algorithm\"]==algo_name) & (df[\"ProgrammingStyle\"]==\"I\") & (df[\"Comprehension\"]==\"BU\")])\n",
    "    tmp_df.append(df.loc[(df[\"Algorithm\"]==algo_name) & (df[\"ProgrammingStyle\"]==\"R\") & (df[\"Comprehension\"]==\"TD\")])\n",
    "    tmp_df.append(df.loc[(df[\"Algorithm\"]==algo_name) & (df[\"ProgrammingStyle\"]==\"I\") & (df[\"Comprehension\"]==\"TD\")])\n",
    "    df_algo_cat_array.append(tmp_df)"
   ]
  },
  {
   "cell_type": "markdown",
   "metadata": {},
   "source": [
    "create result"
   ]
  },
  {
   "cell_type": "code",
   "execution_count": null,
   "metadata": {},
   "outputs": [],
   "source": [
    "cols = [\"Algorithm\", \"Comprehension\",\n",
    "        \"rec correct\", \"rec total Answers\", \"rec percent\", \"R_ResponseTimeMean\", \"R_ResponseTimeDeviation\",\n",
    "        \"it correct\", \"it total Answers\", \"it percent\", \"I_ResponseTimeMean\", \"I_ResponseTimeDeviation\"]\n",
    "\n",
    "result_df = pd.DataFrame(columns=cols)\n",
    "\n",
    "count_cols = [\"Algorithm\", \"Comprehension\", \"Programming\", \"Right\", \"Total\"]\n",
    "count_df = pd.DataFrame(columns=count_cols)\n",
    "\n",
    "for algo_df_array in df_algo_cat_array:\n",
    "    for i in range(2):\n",
    "        rec =  algo_df_array[i*2+0]\n",
    "        it =  algo_df_array[i*2+1]\n",
    "        \n",
    "        Algorithm = rec.iloc[0][\"Algorithm\"]\n",
    "        Comprehension = \"Bottom-Up\"\n",
    "        if i == 1:\n",
    "            Comprehension = \"Top-Down\"\n",
    "            \n",
    "        count_df = count_df.append(pd.DataFrame([[Algorithm, Comprehension, \"R\", len(rec.loc[rec[\"Correctness\"]==True]) ,len(rec)]], columns=count_cols))\n",
    "        count_df = count_df.append(pd.DataFrame([[Algorithm, Comprehension, \"I\", len(it.loc[it[\"Correctness\"]==True]) ,len(it)]], columns=count_cols))\n",
    "        \n",
    "        R_ResponseTimeMean = int(rec[\"ResponseTime\"].mean())\n",
    "        R_ResponseTimeDeviation = int(rec[\"ResponseTime\"].std())\n",
    "        \n",
    "        I_ResponseTimeMean = int(it[\"ResponseTime\"].mean())\n",
    "        I_ResponseTimeDeviation = int(it[\"ResponseTime\"].std())\n",
    "        \n",
    "        rec_cor = len(rec.loc[rec[\"Correctness\"]==True])\n",
    "        rec_total = len(rec)\n",
    "        rec_percent = rec_cor/rec_total\n",
    "        \n",
    "        it_cor = len(it.loc[it[\"Correctness\"]==True])\n",
    "        it_total = len(it)\n",
    "        it_percent = it_cor/it_total\n",
    "        \n",
    "        data = [\n",
    "            Algorithm, Comprehension,\n",
    "            rec_cor, rec_total, rec_percent, R_ResponseTimeMean, R_ResponseTimeDeviation,\n",
    "            it_cor, it_total, it_percent, I_ResponseTimeMean, I_ResponseTimeDeviation,\n",
    "        ]\n",
    "        \n",
    "        result_df = result_df.append(pd.DataFrame([data], columns=cols))\n",
    "        \n",
    "\n",
    "\n",
    "\n",
    "for i in range(2):\n",
    "    rec =  df_cat_array[i*2+0]\n",
    "    it =  df_cat_array[i*2+1]\n",
    "    \n",
    "    Algorithm = \"Total\"\n",
    "    Comprehension = \"Top-Down\"\n",
    "    if i == 1:\n",
    "        Comprehension = \"Bottom-Up\"\n",
    "    \n",
    "    R_ResponseTimeMean = int(rec[\"ResponseTime\"].mean())\n",
    "    R_ResponseTimeDeviation = int(rec[\"ResponseTime\"].std())\n",
    "    \n",
    "    I_ResponseTimeMean = int(it[\"ResponseTime\"].mean())\n",
    "    I_ResponseTimeDeviation = int(it[\"ResponseTime\"].std())\n",
    "    \n",
    "    rec_cor = len(rec.loc[rec[\"Correctness\"]==True])\n",
    "    rec_total = len(rec)\n",
    "    rec_percent = rec_cor/rec_total\n",
    "    \n",
    "    it_cor = len(it.loc[it[\"Correctness\"]==True])\n",
    "    it_total = len(it)\n",
    "    it_percent = it_cor/it_total\n",
    "    \n",
    "    data = [\n",
    "        Algorithm, Comprehension,\n",
    "        rec_cor, rec_total, rec_percent, R_ResponseTimeMean, R_ResponseTimeDeviation,\n",
    "        it_cor, it_total, it_percent, I_ResponseTimeMean, I_ResponseTimeDeviation,\n",
    "    ]\n",
    "    \n",
    "    result_df = result_df.append(pd.DataFrame([data], columns=cols))\n",
    "    \n",
    "df_recursive = df_array_independent[0]     \n",
    "df_recursive = df_recursive.append(df_array_independent[2])\n",
    "\n",
    "df_iterative = df_array_independent[1]     \n",
    "df_iterative = df_iterative.append(df_array_independent[3])\n",
    "\n",
    "rec_cor = len(df_recursive.loc[df_recursive[\"Correctness\"]==True])\n",
    "rec_total = len(df_recursive)\n",
    "rec_percent = rec_cor/rec_total\n",
    "\n",
    "it_cor = len(df_iterative.loc[df_iterative[\"Correctness\"]==True])\n",
    "it_total = len(df_iterative)\n",
    "it_percent = it_cor/it_total\n",
    "\n",
    "result_df = result_df.append(pd.DataFrame(\n",
    "    [[\"Total\", \"Total\",\n",
    "    rec_cor, rec_total, rec_percent, int(df_recursive[\"ResponseTime\"].mean()), int(df_recursive[\"ResponseTime\"].std()),\n",
    "    it_cor, it_total, it_percent, int(df_iterative[\"ResponseTime\"].mean()), int(df_iterative[\"ResponseTime\"].std())]],\n",
    "    columns=cols))\n",
    "\n",
    "print(\"Write total means to excel sheet\")\n",
    "result_df.to_excel(writer, sheet_name=\"corrects.info\")\n",
    "writer.save()\n",
    "result_df"
   ]
  },
  {
   "cell_type": "code",
   "execution_count": null,
   "metadata": {},
   "outputs": [],
   "source": [
    "combine_lambda = lambda x: '{}_{}'.format(x[\"Comprehension\"], x[\"ProgrammingStyle\"])\n",
    "total_df.insert(loc=6, column=\"ProgrammingStyle x Comprehension\", value=total_df.apply(combine_lambda, axis = 1))\n",
    "total_df = total_df.loc[total_df[\"ResponseTime\"] < 500]"
   ]
  },
  {
   "cell_type": "code",
   "execution_count": null,
   "metadata": {},
   "outputs": [],
   "source": [
    "import matplotlib.pyplot as plt"
   ]
  },
  {
   "cell_type": "code",
   "execution_count": null,
   "metadata": {},
   "outputs": [],
   "source": [
    "plt.ylim(0, 600)\n",
    "ax = sns.violinplot(x=\"ProgrammingStyle x Comprehension\", y=\"ResponseTime\", data=total_df)\n",
    "plt.tight_layout()\n",
    "plt.savefig(\"results/behavioral/violin_of_all.pdf\", bbox_inches='tight', pad_inches=0.01)"
   ]
  },
  {
   "cell_type": "code",
   "execution_count": null,
   "metadata": {},
   "outputs": [],
   "source": [
    "plt.ylim(0, 600)\n",
    "ax = sns.boxplot(x=\"ProgrammingStyle x Comprehension\", y=\"ResponseTime\", data=total_df)\n",
    "plt.tight_layout()\n",
    "plt.savefig(\"results/behavioral/box_of_all.pdf\", bbox_inches='tight', pad_inches=0.01)"
   ]
  },
  {
   "cell_type": "code",
   "execution_count": null,
   "metadata": {},
   "outputs": [],
   "source": [
    "result_df\n",
    "cols = [\"Algorithm\", \"BU_R\", \"BU_I\", \"TD_R\", \"TD_I\"]\n",
    "bar_df = pd.DataFrame([], columns=cols)\n",
    "\n",
    "for i in range(int(len(result_df[:-1])/2)):\n",
    "    idx = 2*i\n",
    "    algorithm = result_df.iloc[idx][\"Algorithm\"]\n",
    "    BU_I = result_df.iloc[idx][\"it percent\"]*100\n",
    "    BU_R = result_df.iloc[idx][\"rec percent\"]*100\n",
    "    TD_I = result_df.iloc[idx + 1][\"it percent\"]*100\n",
    "    TD_R = result_df.iloc[idx + 1][\"rec percent\"]*100\n",
    "    \n",
    "    bar_df = bar_df.append(pd.DataFrame([[algorithm, BU_R, BU_I, TD_R, TD_I]], columns=cols))\n",
    "\n",
    "bar_df = bar_df.set_index('Algorithm')\n",
    "ax = bar_df.plot.bar(rot=290)\n",
    "plt.tight_layout()\n",
    "ax.legend(loc=\"upper left\")\n",
    "plt.savefig(\"results/behavioral/bar_correctness_of_all.pdf\", bbox_inches='tight', pad_inches=0.01)"
   ]
  },
  {
   "cell_type": "code",
   "execution_count": null,
   "metadata": {},
   "outputs": [],
   "source": [
    "result_df\n",
    "cols = [\"Algorithm\", \"BU_R\", \"BU_I\", \"TD_R\", \"TD_I\"]\n",
    "bar_df = pd.DataFrame([], columns=cols)\n",
    "\n",
    "for i in range(int(len(result_df[:-1])/2)):\n",
    "    idx = 2*i\n",
    "    algorithm = result_df.iloc[idx][\"Algorithm\"]\n",
    "    BU_I = result_df.iloc[idx][\"I_ResponseTimeMean\"]\n",
    "    BU_R = result_df.iloc[idx][\"R_ResponseTimeMean\"]\n",
    "    TD_I = result_df.iloc[idx + 1][\"I_ResponseTimeMean\"]\n",
    "    TD_R = result_df.iloc[idx + 1][\"R_ResponseTimeMean\"]\n",
    "    \n",
    "    bar_df = bar_df.append(pd.DataFrame([[algorithm, BU_R, BU_I, TD_R, TD_I]], columns=cols))\n",
    "\n",
    "bar_df = bar_df.set_index('Algorithm')\n",
    "ax = bar_df.plot.bar(rot=290)\n",
    "plt.ylim(0, 600)\n",
    "plt.tight_layout()\n",
    "ax.legend(loc=\"upper left\")\n",
    "plt.savefig(\"results/behavioral/bar_response_of_all.pdf\", bbox_inches='tight', pad_inches=0.01)"
   ]
  },
  {
   "cell_type": "code",
   "execution_count": null,
   "metadata": {},
   "outputs": [],
   "source": []
  }
 ],
 "metadata": {
  "kernelspec": {
   "display_name": "Python 3",
   "language": "python",
   "name": "python3"
  },
  "language_info": {
   "codemirror_mode": {
    "name": "ipython",
    "version": 3
   },
   "file_extension": ".py",
   "mimetype": "text/x-python",
   "name": "python",
   "nbconvert_exporter": "python",
   "pygments_lexer": "ipython3",
   "version": "3.8.8"
  }
 },
 "nbformat": 4,
 "nbformat_minor": 4
}