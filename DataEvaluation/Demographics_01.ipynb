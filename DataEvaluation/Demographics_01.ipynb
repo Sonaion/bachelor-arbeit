{
 "cells": [
  {
   "cell_type": "markdown",
   "source": [
    "# Plot the (social) Demographics of the population\n",
    "---\n",
    "## Import the data"
   ],
   "metadata": {
    "collapsed": false,
    "pycharm": {
     "name": "#%% md\n"
    }
   }
  },
  {
   "cell_type": "code",
   "execution_count": null,
   "outputs": [],
   "source": [
    "import pandas as pd\n",
    "import matplotlib.pyplot as plt\n",
    "import regex as re\n",
    "import numpy as np\n",
    "import os\n",
    "pd.set_option('mode.chained_assignment', None)"
   ],
   "metadata": {
    "collapsed": false,
    "pycharm": {
     "name": "#%%\n"
    }
   }
  },
  {
   "cell_type": "code",
   "execution_count": null,
   "outputs": [],
   "source": [
    "# create folder ./results/demographics if it does not exist\n",
    "if not os.path.exists('./results/demographics'):\n",
    "    os.makedirs('./results/demographics')"
   ],
   "metadata": {
    "collapsed": false,
    "pycharm": {
     "name": "#%%\n"
    }
   }
  },
  {
   "cell_type": "code",
   "execution_count": null,
   "outputs": [],
   "source": [
    "df = pd.read_csv('./data/preprocessed_total_data.csv')"
   ],
   "metadata": {
    "collapsed": false,
    "pycharm": {
     "name": "#%%\n"
    }
   }
  },
  {
   "cell_type": "code",
   "execution_count": null,
   "outputs": [],
   "source": [
    "def plot_experience(prefix_of_experience, column, df_raw, y_lim=None, path=None):\n",
    "    df_programming_lang = df_raw[[column]]\n",
    "    df_programming_lang.loc[:, column] = df_programming_lang[column].dropna().astype({column: int})\n",
    "    tmp = dict(df_programming_lang.value_counts().sort_index())\n",
    "    data = {}\n",
    "\n",
    "    if (1.0,) in tmp.keys():\n",
    "        data[\"no experience\"] = tmp[(1.0,)]\n",
    "    else:\n",
    "        data[\"no experience\"] = 0\n",
    "\n",
    "    if (2.0,) in tmp.keys():\n",
    "        data[\"little experience\"] = tmp[(2.0,)]\n",
    "    else:\n",
    "        data[\"little experience\"] = 0\n",
    "\n",
    "    if (3.0,) in tmp.keys():\n",
    "        data[\"average\"] = tmp[(3.0,)]\n",
    "    else:\n",
    "        data[\"average\"] = 0\n",
    "\n",
    "    if (4.0,) in tmp.keys():\n",
    "        data[\"experienced\"] = tmp[(4.0,)]\n",
    "    else:\n",
    "        data[\"experienced\"] = 0\n",
    "\n",
    "    if (5.0,) in tmp.keys():\n",
    "        data[\"proficient\"] = tmp[(5.0,)]\n",
    "    else:\n",
    "        data[\"proficient\"] = 0\n",
    "\n",
    "    names, counts = zip(*data.items())\n",
    "    plt.ylim(y_lim)\n",
    "    plt.bar(names, counts)\n",
    "    plt.title(prefix_of_experience + \" Experience\")\n",
    "    plt.xticks(rotation=350)\n",
    "    plt.xlabel(\"\")\n",
    "    plt.tight_layout()\n",
    "    if path is not None:\n",
    "        plt.savefig(path)\n",
    "    plt.show()\n",
    "    return names, counts\n",
    "\n",
    "\n",
    "def plot_self_assessment(prefix_of_experience, column, df_raw, y_lim=None, path=None):\n",
    "    df_programming_lang = df_raw[[column]]\n",
    "    df_programming_lang.loc[:, column] = df_programming_lang[column].dropna().astype({column: int})\n",
    "    tmp = dict(df_programming_lang.value_counts().sort_index())\n",
    "    data = {}\n",
    "\n",
    "    if (1.0,) in tmp.keys():\n",
    "        data[\"significantly worse\"] = tmp[(1.0,)]\n",
    "    else:\n",
    "        data[\"significantly worse\"] = 0\n",
    "\n",
    "    if (2.0,) in tmp:\n",
    "        data[\"worse\"] = tmp[(2.0,)]\n",
    "    else:\n",
    "        data[\"worse\"] = 0\n",
    "\n",
    "    if (3.0,) in tmp:\n",
    "        data[\"same\"] = tmp[(3.0,)]\n",
    "    else:\n",
    "        data[\"same\"] = 0\n",
    "\n",
    "    if (4.0,) in tmp:\n",
    "        data[\"better\"] = tmp[(4.0,)]\n",
    "    else:\n",
    "        data[\"better\"] = 0\n",
    "\n",
    "    if (5.0,) in tmp:\n",
    "        data[\"significantly better\"] = tmp[(5.0,)]\n",
    "    else:\n",
    "        data[\"significantly better\"] = 0\n",
    "\n",
    "    names, counts = zip(*data.items())\n",
    "    plt.bar(names, counts)\n",
    "    plt.ylim(y_lim)\n",
    "    plt.title(\"Programming Experience Compared to \" + prefix_of_experience)\n",
    "    plt.xticks(rotation=350)\n",
    "    plt.xlabel(\"\")\n",
    "    plt.tight_layout()\n",
    "    if path is not None:\n",
    "        plt.savefig(path)\n",
    "    plt.show()\n",
    "    return names, counts"
   ],
   "metadata": {
    "collapsed": false,
    "pycharm": {
     "name": "#%%\n"
    }
   }
  },
  {
   "cell_type": "code",
   "execution_count": null,
   "outputs": [],
   "source": [
    "# plot the occurrence of different values in LANGUAGE as a bar chart\n",
    "df_lang = df[['LANGUAGE']]\n",
    "tmp = dict(df_lang.value_counts().sort_index())\n",
    "names, counts = zip(*tmp.items())\n",
    "names = tuple((name[0] for name in names))\n",
    "plt.bar(names, counts)\n",
    "plt.title(\"Language of Questionnaire\")\n",
    "plt.xlabel(\"Language\")\n",
    "plt.ylabel(\"Number of Respondents\")\n",
    "plt.tight_layout()\n",
    "plt.savefig('./results/demographics/language.pdf')\n",
    "plt.show()"
   ],
   "metadata": {
    "collapsed": false,
    "pycharm": {
     "name": "#%%\n"
    }
   }
  },
  {
   "cell_type": "code",
   "execution_count": null,
   "outputs": [],
   "source": [
    "#plot the age distribution\n",
    "axs = df.hist(column='ST03_01', bins=10)\n",
    "plt.title(\"Age Distribution\")\n",
    "plt.xlabel(\"Age in Years\")\n",
    "plt.ylabel(\"Number of Respondents\")\n",
    "plt.tight_layout()\n",
    "plt.savefig('./results/demographics/demographics_age.pdf')\n",
    "plt.show()"
   ],
   "metadata": {
    "collapsed": false,
    "pycharm": {
     "name": "#%%\n"
    }
   }
  },
  {
   "cell_type": "code",
   "execution_count": null,
   "outputs": [],
   "source": [
    "# plot the gender of the participants\n",
    "x = [\"male\", \"female\", \"diverse\"]\n",
    "y = [len(df[(df[\"ST03_02\"] == \"m\") | (df[\"ST03_02\"] == \"M\")]),\n",
    "     len(df[(df[\"ST03_02\"] == \"f\") | (df[\"ST03_02\"] == \"w\")]),\n",
    "     len(df[(df[\"ST03_02\"] == \"d\") | (df[\"ST03_02\"] == \"D\")])]\n",
    "plt.bar(x, y)\n",
    "plt.title(\"Gender Demographics\")\n",
    "plt.xlabel(\"Gender\")\n",
    "plt.ylabel(\"Number of Respondents\")\n",
    "plt.tight_layout()\n",
    "plt.savefig('./results/demographics/demographics_gender.pdf')\n",
    "plt.show()"
   ],
   "metadata": {
    "collapsed": false,
    "pycharm": {
     "name": "#%%\n"
    }
   }
  },
  {
   "cell_type": "code",
   "execution_count": null,
   "outputs": [],
   "source": [
    "# plot if the participant programs in their free time\n",
    "x = [\"Free Time Programmer\", \"Non Free Time Programmer\"]\n",
    "y = [len(df[(df[\"ST03_06\"] == \"j\") | (df[\"ST03_06\"] == \"J\") | (df[\"ST03_06\"] == \"y\") | (df[\"ST03_06\"] == \"Y\")]),\n",
    "     len(df[(df[\"ST03_06\"] == \"n\") | (df[\"ST03_06\"] == \"N\")])]\n",
    "plt.bar(x, y)\n",
    "plt.title(\"Free Time Programming Demographics\")\n",
    "plt.xlabel(\"Free Time Programming\")\n",
    "plt.ylabel(\"Number of Respondents\")\n",
    "plt.tight_layout()\n",
    "plt.savefig('./results/demographics/demographics_free_time_programming.pdf')\n",
    "plt.show()"
   ],
   "metadata": {
    "collapsed": false,
    "pycharm": {
     "name": "#%%\n"
    }
   }
  },
  {
   "cell_type": "code",
   "execution_count": null,
   "outputs": [],
   "source": [
    "df[\"ST03_03\"] = df[\"ST03_03\"]\\\n",
    "    .astype(str)\\\n",
    "    .apply(lambda x: re.findall(r'\\d+', x)[0] if len(re.findall(r'\\d+', x)) > 0 else np.nan)\\\n",
    "    .fillna(0)\\\n",
    "    .astype(int)\n",
    "# create histogram of ST03_03\n",
    "axs = df.hist(column='ST03_03', bins=10)\n",
    "plt.title(\"Years of Free Time Programming\")\n",
    "plt.xlabel(\"Years of Free Time Programming\")\n",
    "plt.ylabel(\"Number of Respondents\")\n",
    "plt.tight_layout()\n",
    "plt.savefig('./results/demographics/demographics_free_time_programming_years.pdf')\n",
    "plt.show()"
   ],
   "metadata": {
    "collapsed": false,
    "pycharm": {
     "name": "#%%\n"
    }
   }
  },
  {
   "cell_type": "code",
   "execution_count": null,
   "outputs": [],
   "source": [
    "# plot if the participant is in university\n",
    "x = [\"In University\", \"Not In University\"]\n",
    "y = [len(df[(df[\"ST03_05\"] == \"j\") | (df[\"ST03_05\"] == \"J\") | (df[\"ST03_05\"] == \"y\") | (df[\"ST03_05\"] == \"Y\")]),\n",
    "     len(df[(df[\"ST03_05\"] == \"n\") | (df[\"ST03_05\"] == \"N\")])]\n",
    "plt.bar(x, y)\n",
    "plt.title(\"University Demographics\")\n",
    "plt.xlabel(\"University\")\n",
    "plt.ylabel(\"Number of Respondents\")\n",
    "plt.tight_layout()\n",
    "plt.savefig('./results/demographics/demographics_university.pdf')\n",
    "plt.show()"
   ],
   "metadata": {
    "collapsed": false,
    "pycharm": {
     "name": "#%%\n"
    }
   }
  },
  {
   "cell_type": "code",
   "execution_count": null,
   "outputs": [],
   "source": [
    "df[\"ST03_04\"] = df[\"ST03_04\"]\\\n",
    "    .astype(str)\\\n",
    "    .apply(lambda x: re.findall(r'\\d+', x)[0] if len(re.findall(r'\\d+', x)) > 0 else np.nan)\\\n",
    "    .fillna(0)\\\n",
    "    .astype(int)\n",
    "# create histogram of ST03_04\n",
    "axs = df.hist(column='ST03_04', bins=10)\n",
    "plt.title(\"Years of Programming at University\")\n",
    "plt.xlabel(\"Years of Programming at University\")\n",
    "plt.ylabel(\"Number of Respondents\")\n",
    "plt.tight_layout()\n",
    "plt.savefig('./results/demographics/demographics_university_years.pdf')\n",
    "plt.show()"
   ],
   "metadata": {
    "collapsed": false,
    "pycharm": {
     "name": "#%%\n"
    }
   }
  },
  {
   "cell_type": "code",
   "execution_count": null,
   "outputs": [],
   "source": [
    "y_lim = (0, 35)\n",
    "names, y_cpp = plot_experience(\"C++\", \"ST04_01\", df, y_lim, \"./results/demographics/language_cpp_experience.pdf\")\n",
    "_, y_java = plot_experience(\"Java\", \"ST04_02\", df, y_lim, \"./results/demographics/language_java_experience.pdf\")\n",
    "_, y_haskell = plot_experience(\"Haskell\", \"ST04_03\", df, y_lim, \"./results/demographics/language_haskell_experience.pdf\")\n",
    "_, y_python = plot_experience(\"Python\", \"ST04_04\", df, y_lim, \"./results/demographics/language_python_experience.pdf\")\n",
    "_, y_prolog = plot_experience(\"Prolog\", \"ST04_05\", df, y_lim, \"./results/demographics/language_prolog_experience.pdf\")\n",
    "_, y_rust = plot_experience(\"Rust\", \"ST04_06\", df, y_lim, \"./results/demographics/language_rust_experience.pdf\")\n",
    "_, y_kotlin =plot_experience(\"Kotlin\", \"ST04_07\", df, y_lim, \"./results/demographics/language_kotlin_experience.pdf\")"
   ],
   "metadata": {
    "collapsed": false,
    "pycharm": {
     "name": "#%%\n"
    }
   }
  },
  {
   "cell_type": "code",
   "execution_count": null,
   "outputs": [],
   "source": [
    "df_tmp = pd.DataFrame([y_cpp, y_java, y_haskell, y_python, y_prolog, y_rust, y_kotlin], columns=names)\n",
    "df_tmp.index = [\"C++\", \"Java\", \"Haskell\", \"Python\", \"Prolog\", \"Rust\", \"Kotlin\"]\n",
    "ax = df_tmp.transpose().plot.bar()\n",
    "ax.set_xticklabels(ax.get_xticklabels(), rotation=-10)\n",
    "plt.tight_layout()\n",
    "plt.savefig('./results/demographics/language_all_experience.pdf')"
   ],
   "metadata": {
    "collapsed": false,
    "pycharm": {
     "name": "#%%\n"
    }
   }
  },
  {
   "cell_type": "code",
   "execution_count": null,
   "outputs": [],
   "source": [
    "y_lim = (0, 35)\n",
    "names, y_logical = plot_experience(\"Logical Programming\", \"ST05_01\", df, y_lim, \"./results/demographics/paradigm_logical_experience.pdf\")\n",
    "_, y_imperative = plot_experience(\"Imperative Programming\", \"ST05_02\", df, y_lim, \"./results/demographics/paradigm_imperative_experience.pdf\")\n",
    "_, y_functional = plot_experience(\"Functional Programming\", \"ST05_03\", df, y_lim, \"./results/demographics/paradigm_functional_experience.pdf\")\n",
    "_, y_object_oriented = plot_experience(\"Object Oriented Programming\", \"ST05_04\", df, y_lim, \"./results/demographics/paradigm_object_oriented_experience.pdf\")"
   ],
   "metadata": {
    "collapsed": false,
    "pycharm": {
     "name": "#%%\n"
    }
   }
  },
  {
   "cell_type": "code",
   "execution_count": null,
   "outputs": [],
   "source": [
    "df_tmp = pd.DataFrame([y_logical, y_imperative, y_functional, y_object_oriented], columns=names)\n",
    "df_tmp.index = [\"Logical Programming\", \"Imperative Programming\", \"Functional Programming\", \"Object Oriented Programming\"]\n",
    "ax = df_tmp.transpose().plot.bar()\n",
    "ax.set_xticklabels(ax.get_xticklabels(), rotation=-10)\n",
    "plt.tight_layout()\n",
    "plt.savefig('./results/demographics/paradigm_all_experience.pdf')"
   ],
   "metadata": {
    "collapsed": false,
    "pycharm": {
     "name": "#%%\n"
    }
   }
  },
  {
   "cell_type": "code",
   "execution_count": null,
   "outputs": [],
   "source": [
    "y_lim = (0, 35)\n",
    "names, y_students = plot_self_assessment(\"Student\", \"ST06_02\", df, y_lim, \"./results/demographics/self_assessment_vs_student.pdf\")\n",
    "_, y_experts = plot_self_assessment(\"Experts\", \"ST06_03\", df, y_lim, \"./results/demographics/self_assessment_vs_experts.pdf\")"
   ],
   "metadata": {
    "collapsed": false,
    "pycharm": {
     "name": "#%%\n"
    }
   }
  },
  {
   "cell_type": "code",
   "execution_count": null,
   "outputs": [],
   "source": [
    "df_tmp = pd.DataFrame([y_students, y_experts], columns=names)\n",
    "df_tmp.index = [\"Vs Student\", \"Vs Experts\"]\n",
    "ax = df_tmp.transpose().plot.bar()\n",
    "ax.set_xticklabels(ax.get_xticklabels(), rotation=-10)\n",
    "plt.tight_layout()\n",
    "plt.savefig('./results/demographics/self_assessment_all_experience.pdf')"
   ],
   "metadata": {
    "collapsed": false,
    "pycharm": {
     "name": "#%%\n"
    }
   }
  },
  {
   "cell_type": "code",
   "execution_count": null,
   "outputs": [],
   "source": [
    "names, y_iteration = plot_experience(\"Iteration\", \"ST12\", df, y_lim, \"./results/demographics/style_iteration_experience.pdf\")\n",
    "_, y_recursion = plot_experience(\"Recursion\", \"ST13\", df, y_lim, \"./results/demographics/style_recursion_experience.pdf\")\n",
    "_, y_higher_order = plot_experience(\"Higher Order Functions\", \"ST14\", df, y_lim, \"./results/demographics/style_higher_order_experience.pdf\")\n",
    "_, y_list_comprehension = plot_experience(\"List Comprehension\", \"ST15\", df, y_lim, \"./results/demographics/style_list_comprehension_experience.pdf\")"
   ],
   "metadata": {
    "collapsed": false,
    "pycharm": {
     "name": "#%%\n"
    }
   }
  },
  {
   "cell_type": "code",
   "execution_count": null,
   "outputs": [],
   "source": [
    "df_tmp = pd.DataFrame([y_iteration, y_recursion, y_higher_order, y_list_comprehension], columns=names)\n",
    "df_tmp.index = [\"Iteration\", \"Recursion\", \"Higher Order Functions\", \"List Comprehension\"]\n",
    "ax = df_tmp.transpose().plot.bar()\n",
    "ax.set_xticklabels(ax.get_xticklabels(), rotation=-10)\n",
    "plt.tight_layout()\n",
    "plt.savefig('./results/demographics/style_all_experience.pdf')"
   ],
   "metadata": {
    "collapsed": false,
    "pycharm": {
     "name": "#%%\n"
    }
   }
  },
  {
   "cell_type": "code",
   "execution_count": null,
   "outputs": [],
   "source": [],
   "metadata": {
    "collapsed": false,
    "pycharm": {
     "name": "#%%\n"
    }
   }
  }
 ],
 "metadata": {
  "kernelspec": {
   "display_name": "Python 3",
   "language": "python",
   "name": "python3"
  },
  "language_info": {
   "codemirror_mode": {
    "name": "ipython",
    "version": 2
   },
   "file_extension": ".py",
   "mimetype": "text/x-python",
   "name": "python",
   "nbconvert_exporter": "python",
   "pygments_lexer": "ipython2",
   "version": "2.7.6"
  }
 },
 "nbformat": 4,
 "nbformat_minor": 0
}