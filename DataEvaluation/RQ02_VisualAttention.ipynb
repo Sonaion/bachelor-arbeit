{
 "cells": [
  {
   "cell_type": "markdown",
   "metadata": {
    "collapsed": true,
    "pycharm": {
     "name": "#%% md\n"
    }
   },
   "source": [
    "# Analyse the Visual Attention Data"
   ]
  },
  {
   "cell_type": "code",
   "execution_count": null,
   "outputs": [],
   "source": [
    "import pandas as pd\n",
    "import regex as re\n",
    "import matplotlib.pyplot as plt\n",
    "import seaborn as sns\n",
    "import json\n",
    "import modules.GenSnippetsLib as snippets\n",
    "import scipy.ndimage\n",
    "from pygments.lexers import PythonLexer\n",
    "from tqdm.notebook import tqdm\n",
    "import matplotlib.patches as patches\n",
    "import PIL\n",
    "import PIL.Image\n",
    "import numpy as np\n",
    "import chord"
   ],
   "metadata": {
    "collapsed": false,
    "pycharm": {
     "name": "#%%\n"
    }
   }
  },
  {
   "cell_type": "code",
   "execution_count": null,
   "outputs": [],
   "source": [
    "df = pd.read_csv('./data/preprocessed_experiment_data.csv')\n",
    "df = df[df[\"Outlier\"] == False]\n",
    "df = df.drop(columns=[\"Outlier\"])\n",
    "df"
   ],
   "metadata": {
    "collapsed": false,
    "pycharm": {
     "name": "#%%\n"
    }
   }
  },
  {
   "cell_type": "code",
   "execution_count": null,
   "outputs": [],
   "source": [
    "def click_data_to_list(click_data_string):\n",
    "    click_data_list = []\n",
    "    for click in click_data_string.split(\" \"):\n",
    "        click = click.split(\"-\")\n",
    "        # extract the x and y coordinates from a string via regex\n",
    "        x = int(re.search(r'\\d+', click[0])[0])\n",
    "        y = int(re.search(r'\\d+', click[1])[0])\n",
    "        click_data_list.append((x, y))\n",
    "    return click_data_list"
   ],
   "metadata": {
    "collapsed": false,
    "pycharm": {
     "name": "#%%\n"
    }
   }
  },
  {
   "cell_type": "code",
   "execution_count": null,
   "outputs": [],
   "source": [
    "def time_data_to_list(time_data_string):\n",
    "    time_data_list = []\n",
    "    for time in time_data_string.split(\" \"):\n",
    "        time_data_list.append(float(time) / 1000)\n",
    "    return time_data_list"
   ],
   "metadata": {
    "collapsed": false,
    "pycharm": {
     "name": "#%%\n"
    }
   }
  },
  {
   "cell_type": "code",
   "execution_count": null,
   "outputs": [],
   "source": [
    "df[\"ClickData\"] = df[\"ClickData\"].apply(lambda x: click_data_to_list(x))\n",
    "df[\"TimeData\"] = df[\"TimeData\"].apply(lambda x: time_data_to_list(x))\n",
    "df[\"NumberOfClicks\"] = df[\"ClickData\"].apply(lambda x: len(x))\n",
    "df[\"AverageTimeOfClicks\"] = (df[\"ResponseTime\"] / 1000) / df[\"NumberOfClicks\"]"
   ],
   "metadata": {
    "collapsed": false,
    "pycharm": {
     "name": "#%%\n"
    }
   }
  },
  {
   "cell_type": "code",
   "execution_count": null,
   "outputs": [],
   "source": [
    "df"
   ],
   "metadata": {
    "collapsed": false,
    "pycharm": {
     "name": "#%%\n"
    }
   }
  },
  {
   "cell_type": "markdown",
   "source": [
    "## Descriptive: Get Number of Clicks per Algorithm"
   ],
   "metadata": {
    "collapsed": false,
    "pycharm": {
     "name": "#%% md\n"
    }
   }
  },
  {
   "cell_type": "code",
   "execution_count": null,
   "outputs": [],
   "source": [
    "df_tmp = df.copy()\n",
    "df_tmp[\"Algorithm\"] = \"total\"\n",
    "df_visual = df.append(df_tmp)\n",
    "df_visual[[\"Algorithm\", \"ProgrammingStyle\", \"NumberOfClicks\"]].groupby([\"Algorithm\", \"ProgrammingStyle\"]).describe()"
   ],
   "metadata": {
    "collapsed": false,
    "pycharm": {
     "name": "#%%\n"
    }
   }
  },
  {
   "cell_type": "code",
   "execution_count": null,
   "outputs": [],
   "source": [
    "df_tmp = df.copy()\n",
    "df_tmp[\"Algorithm\"] = \"total\"\n",
    "df_visual = df.append(df_tmp)\n",
    "ax = sns.catplot(x=\"Algorithm\", y=\"NumberOfClicks\", hue=\"ProgrammingStyle\", data=df_visual, kind=\"bar\", height=5,\n",
    "                 aspect=5)\n",
    "ax.tight_layout()\n",
    "ax.set(ylabel='Number Of Clicks per Algorithm');"
   ],
   "metadata": {
    "collapsed": false,
    "pycharm": {
     "name": "#%%\n"
    }
   }
  },
  {
   "cell_type": "code",
   "execution_count": null,
   "outputs": [],
   "source": [
    "df_tmp = df_visual[[\"ProgrammingStyle\", \"Algorithm\", \"NumberOfClicks\"]]\n",
    "df_tmp = df_tmp[df_tmp[\"Algorithm\"] != \"total\"]\n",
    "ax = sns.violinplot(x=\"ProgrammingStyle\", y=\"NumberOfClicks\", data=df_tmp)\n",
    "ax.set(ylim=(0.0, 100.0));"
   ],
   "metadata": {
    "collapsed": false,
    "pycharm": {
     "name": "#%%\n"
    }
   }
  },
  {
   "cell_type": "code",
   "execution_count": null,
   "outputs": [],
   "source": [
    "df_tmp = df_visual[[\"ProgrammingStyle\", \"Algorithm\", \"NumberOfClicks\"]]\n",
    "df_tmp = df_tmp[df_tmp[\"Algorithm\"] != \"total\"]\n",
    "ax = sns.boxplot(x=\"ProgrammingStyle\", y=\"NumberOfClicks\", data=df_tmp)\n",
    "ax.set(ylim=(0.0, 100.0));"
   ],
   "metadata": {
    "collapsed": false,
    "pycharm": {
     "name": "#%%\n"
    }
   }
  },
  {
   "cell_type": "markdown",
   "source": [
    "## Descriptive: Get Average Time of Clicks per Algorithm"
   ],
   "metadata": {
    "collapsed": false,
    "pycharm": {
     "name": "#%% md\n"
    }
   }
  },
  {
   "cell_type": "code",
   "execution_count": null,
   "outputs": [],
   "source": [
    "df_tmp = df.copy()\n",
    "df_tmp[\"Algorithm\"] = \"total\"\n",
    "df_visual = df.append(df_tmp)\n",
    "df_visual[[\"Algorithm\", \"ProgrammingStyle\", \"AverageTimeOfClicks\"]].groupby(\n",
    "    [\"Algorithm\", \"ProgrammingStyle\"]).describe()"
   ],
   "metadata": {
    "collapsed": false,
    "pycharm": {
     "name": "#%%\n"
    }
   }
  },
  {
   "cell_type": "code",
   "execution_count": null,
   "outputs": [],
   "source": [
    "df_tmp = df.copy()\n",
    "df_tmp[\"Algorithm\"] = \"total\"\n",
    "df_visual = df.append(df_tmp)\n",
    "ax = sns.catplot(x=\"Algorithm\", y=\"AverageTimeOfClicks\", hue=\"ProgrammingStyle\", data=df_visual, kind=\"bar\", height=5,\n",
    "                 aspect=5)\n",
    "ax.tight_layout()\n",
    "ax.set(ylabel='Average Time per Clicks per Algorithm');"
   ],
   "metadata": {
    "collapsed": false,
    "pycharm": {
     "name": "#%%\n"
    }
   }
  },
  {
   "cell_type": "code",
   "execution_count": null,
   "outputs": [],
   "source": [
    "df_tmp = df_visual[[\"ProgrammingStyle\", \"Algorithm\", \"AverageTimeOfClicks\"]]\n",
    "df_tmp = df_tmp[df_tmp[\"Algorithm\"] != \"total\"]\n",
    "ax = sns.violinplot(x=\"ProgrammingStyle\", y=\"AverageTimeOfClicks\", data=df_tmp)\n",
    "ax.set(ylim=(0.0, 20.0));"
   ],
   "metadata": {
    "collapsed": false,
    "pycharm": {
     "name": "#%%\n"
    }
   }
  },
  {
   "cell_type": "code",
   "execution_count": null,
   "outputs": [],
   "source": [
    "df_tmp = df_visual[[\"ProgrammingStyle\", \"Algorithm\", \"AverageTimeOfClicks\"]]\n",
    "df_tmp = df_tmp[df_tmp[\"Algorithm\"] != \"total\"]\n",
    "ax = sns.violinplot(x=\"ProgrammingStyle\", y=\"AverageTimeOfClicks\", data=df_tmp)\n",
    "ax.set(ylim=(0.0, 20.0));\n"
   ],
   "metadata": {
    "collapsed": false,
    "pycharm": {
     "name": "#%%\n"
    }
   }
  },
  {
   "cell_type": "markdown",
   "source": [
    "# Descriptive: Areas Of Interest"
   ],
   "metadata": {
    "collapsed": false,
    "pycharm": {
     "name": "#%% md\n"
    }
   }
  },
  {
   "cell_type": "code",
   "execution_count": null,
   "outputs": [],
   "source": [
    "algorithms = df[[\"Algorithm\"]].sort_values(by=\"Algorithm\")[\"Algorithm\"].unique()\n",
    "programming_styles = df[[\"ProgrammingStyle\"]].sort_values(by=\"ProgrammingStyle\")[\"ProgrammingStyle\"].unique()\n",
    "algorithms = [x for x in algorithms]\n",
    "programming_styles = [x.replace(\"-\", \"_\") for x in programming_styles]"
   ],
   "metadata": {
    "collapsed": false,
    "pycharm": {
     "name": "#%%\n"
    }
   }
  },
  {
   "cell_type": "code",
   "execution_count": null,
   "outputs": [],
   "source": [
    "color_palette = sns.color_palette(\"hls\", 15)\n",
    "color_palette_mapping = {\n",
    "    \"Method\" : color_palette[0],\n",
    "    \"MethodDeclaration\" : color_palette[1],\n",
    "    \"MethodBody\" : color_palette[2],\n",
    "    \"Helper\" : color_palette[3],\n",
    "    \"HelperDeclaration\" : color_palette[4],\n",
    "    \"HelperBody\" : color_palette[5],\n",
    "    \"Iteration\" : color_palette[6],\n",
    "    \"IterationHead\" : color_palette[7],\n",
    "    \"IterationBody\" : color_palette[8],\n",
    "    \"RecursiveCall\" : color_palette[9],\n",
    "    \"HigherOrder\" : color_palette[10],\n",
    "    \"ListComprehension\" : color_palette[11],\n",
    "    \"InputPreparation\" : color_palette[12],\n",
    "    \"StartOfAlgorithm\" : color_palette[13],\n",
    "    \"Class\" : color_palette[14],\n",
    "}\n",
    "\n",
    "aoi_numbers = {name : idx for idx, (name, value) in enumerate(color_palette_mapping.items())}\n",
    "aoi_names = [name for name, _value in color_palette_mapping.items()]"
   ],
   "metadata": {
    "collapsed": false,
    "pycharm": {
     "name": "#%%\n"
    }
   }
  },
  {
   "cell_type": "markdown",
   "source": [
    "#### Create bounding boxes for AOIS"
   ],
   "metadata": {
    "collapsed": false,
    "pycharm": {
     "name": "#%% md\n"
    }
   }
  },
  {
   "cell_type": "code",
   "execution_count": null,
   "outputs": [],
   "source": [
    "#load file\n",
    "df_bounding_box = pd.DataFrame(columns=[\"Algorithm\", \"ProgrammingStyle\", \"BoundingBoxes\", \"ImageDimension\"])\n",
    "image_path = \"./results/aois/\"\n",
    "font_path=\"\\\\data\\\\fonts\\\\ttf\\\\\"\n",
    "offset = 3\n",
    "\n",
    "def from_canvas(fig):\n",
    "    lst = list(fig.canvas.get_width_height())\n",
    "    lst.append(3)\n",
    "    return PIL.Image.fromarray(np.frombuffer(fig.canvas.tostring_rgb(),dtype=np.uint8).reshape(lst))\n",
    "\n",
    "for algorithm in tqdm(algorithms):\n",
    "    for programming_style in programming_styles:\n",
    "        # load the image and generate bb code info\n",
    "        file_name = './data/CodeSnippets/Generators/' + algorithm + '_' + programming_style + '.json'\n",
    "        try:\n",
    "            image, result = snippets.create_image(file_name, font_path=font_path, lexer=PythonLexer)\n",
    "            y, x = image.size[::-1]\n",
    "            dimension = (x, y)\n",
    "        except Exception as e:\n",
    "            print(file_name + \":\" + str(e))\n",
    "            continue\n",
    "        # extract the areas of interest in the image\n",
    "        areas_of_interest = set()\n",
    "        for letter in result:\n",
    "            for aoi in letter[\"AOI\"]:\n",
    "                areas_of_interest.add(aoi)\n",
    "\n",
    "        # create the bounding boxes\n",
    "        disjoint_areas_of_interest = []\n",
    "        for aoi in areas_of_interest:\n",
    "            upper_left_x = 0\n",
    "            upper_left_y = 0\n",
    "            lower_right_x = 0\n",
    "            lower_right_y = 0\n",
    "            has_aoi = False\n",
    "            for letter in result:\n",
    "                if letter[\"BoundingBox\"][0] == 0 and letter[\"BoundingBox\"][1] == 0 and letter[\"BoundingBox\"][2] == 0 and letter[\"BoundingBox\"][3] == 0:\n",
    "                    continue\n",
    "\n",
    "                if aoi in letter[\"AOI\"]:\n",
    "                    if not has_aoi:\n",
    "                        upper_left_x = letter[\"BoundingBox\"][0] - offset\n",
    "                        upper_left_y = letter[\"BoundingBox\"][1] - offset\n",
    "                        lower_right_x = letter[\"BoundingBox\"][2] + offset\n",
    "                        lower_right_y = letter[\"BoundingBox\"][3] + offset\n",
    "                        has_aoi = True\n",
    "                    else:\n",
    "                        upper_left_x = min(upper_left_x, letter[\"BoundingBox\"][0] - offset)\n",
    "                        upper_left_y = min(upper_left_y, letter[\"BoundingBox\"][1] - offset)\n",
    "                        lower_right_x = max(lower_right_x, letter[\"BoundingBox\"][2] + offset)\n",
    "                        lower_right_y = max(lower_right_y, letter[\"BoundingBox\"][3] + offset)\n",
    "                else:\n",
    "                    if has_aoi:\n",
    "                        disjoint_areas_of_interest.append((aoi, [upper_left_x, upper_left_y, lower_right_x, lower_right_y]))\n",
    "                    has_aoi = False\n",
    "                    upper_left_x = 0\n",
    "                    upper_left_y = 0\n",
    "                    lower_right_x = 0\n",
    "                    lower_right_y = 0\n",
    "\n",
    "            if has_aoi:\n",
    "                disjoint_areas_of_interest.append((aoi, [upper_left_x, upper_left_y, lower_right_x, lower_right_y]))\n",
    "\n",
    "        # create the bounding boxes without None aoi\n",
    "        disjoint_areas_of_interest = [area for area in disjoint_areas_of_interest if area[0] != \"None\"]\n",
    "        df_bounding_box = df_bounding_box.append(pd.DataFrame([[algorithm, programming_style.replace(\"_\", \"-\"), disjoint_areas_of_interest, dimension]], columns=df_bounding_box.columns))\n",
    "\n",
    "        # map a color to each aoi\n",
    "        disjoint_areas_of_interest_visual = []\n",
    "        for aoi, bounding_box in disjoint_areas_of_interest:\n",
    "            h, s, l = color_palette_mapping[aoi]\n",
    "            color = (h, s, l, 0.2)\n",
    "            disjoint_areas_of_interest_visual.append((aoi, bounding_box, color))\n",
    "\n",
    "        # create the image with the bounding boxes\n",
    "        fig, ax = plt.subplots(1, 1, figsize=(10, 10))\n",
    "        ax.imshow(image, aspect='auto')\n",
    "\n",
    "        for (aoi, bounding_box, color) in disjoint_areas_of_interest_visual:\n",
    "            rect = patches.Rectangle((bounding_box[0], bounding_box[1]), bounding_box[2] - bounding_box[0],\n",
    "                             bounding_box[3] - bounding_box[1], linewidth=1, edgecolor=color, facecolor=color)\n",
    "            ax.add_patch(rect)\n",
    "\n",
    "        fig, ax = plt.subplots(1, 1)\n",
    "        ax.imshow(image)\n",
    "\n",
    "        for (aoi, bounding_box, color) in disjoint_areas_of_interest_visual:\n",
    "            rect = patches.Rectangle((bounding_box[0], bounding_box[1]), bounding_box[2] - bounding_box[0],\n",
    "                             bounding_box[3] - bounding_box[1], linewidth=1, edgecolor=color, facecolor=color)\n",
    "            ax.add_patch(rect)\n",
    "\n",
    "        plt.tight_layout()\n",
    "        plt.axis('off')\n",
    "        plt.savefig(image_path + \"aoi_\" + algorithm + '_' + programming_style + '.png', bbox_inches='tight', transparent=True, pad_inches=0)\n",
    "        plt.close('all')\n",
    "df = pd.merge(df, df_bounding_box, on=[\"Algorithm\", \"ProgrammingStyle\"])"
   ],
   "metadata": {
    "collapsed": false,
    "pycharm": {
     "name": "#%%\n"
    }
   }
  },
  {
   "cell_type": "markdown",
   "source": [
    "#### AOI coverage"
   ],
   "metadata": {
    "collapsed": false,
    "pycharm": {
     "name": "#%% md\n"
    }
   }
  },
  {
   "cell_type": "code",
   "execution_count": null,
   "outputs": [],
   "source": [
    "from skimage.draw import ellipse, rectangle\n",
    "def get_ellipse_mask(center, x_radius, y_radius, dimension, std_value = 1.0):\n",
    "    \"\"\"\n",
    "    Returns a mask of an ellipse with the given center, x-radius, and y-radius.\n",
    "    \"\"\"\n",
    "    x_dim = max(center[0]+2*x_radius+1, dimension[0])\n",
    "    y_dim = max(center[1]+2*y_radius+1, dimension[1])\n",
    "    mask = np.zeros((y_dim, x_dim), dtype=np.float32)\n",
    "    rr, cc = ellipse(center[1], center[0], y_radius, x_radius)\n",
    "    mask[rr, cc] = std_value\n",
    "    mask = mask[:dimension[1], :dimension[0]]\n",
    "    return mask\n",
    "\n",
    "def get_rectangular_mask(points, dimension, std_value = 1.0):\n",
    "    \"\"\"\n",
    "    Returns a mask of a rectangular with the given points.\n",
    "    \"\"\"\n",
    "    x_dim = max(points[2]+1, dimension[0])\n",
    "    y_dim = max(points[3]+1, dimension[1])\n",
    "    mask = np.zeros((y_dim, x_dim), dtype=np.float32)\n",
    "    mask[points[1]:points[3]+1, points[0]:points[2]+1] = std_value\n",
    "    mask = mask[:dimension[1], :dimension[0]]\n",
    "    return mask"
   ],
   "metadata": {
    "collapsed": false,
    "pycharm": {
     "name": "#%%\n"
    }
   }
  },
  {
   "cell_type": "code",
   "execution_count": null,
   "outputs": [],
   "source": [
    "settings = json.load(open(\"./data/settings.json\"))\n",
    "x_radius = settings[\"radius_x\"]+settings[\"grad_radius\"]//2\n",
    "y_radius = settings[\"radius_y\"]+settings[\"grad_radius\"]//2"
   ],
   "metadata": {
    "collapsed": false,
    "pycharm": {
     "name": "#%%\n"
    }
   }
  },
  {
   "cell_type": "code",
   "execution_count": null,
   "outputs": [],
   "source": [
    "def heatmap_helper(image, heat_array, grad_radius, treshhold=0.2):\n",
    "    cmap = plt.cm.get_cmap('jet')\n",
    "\n",
    "    heat_array = heat_array.copy()\n",
    "    heat_array = scipy.ndimage.gaussian_filter(heat_array, sigma=grad_radius)\n",
    "    max_value = np.max(heat_array)\n",
    "    heat_array = heat_array / max_value\n",
    "    key_out_mask = heat_array > treshhold\n",
    "    heat_normalized = heat_array.copy()\n",
    "    heat_array = heat_array*255\n",
    "    heat_array = heat_array.astype(np.uint8)\n",
    "    heat_array = cmap(heat_array)\n",
    "    heat_array = heat_array*255\n",
    "\n",
    "    hmap = np.array(image)\n",
    "    hmap[key_out_mask] = 0.5*hmap[key_out_mask] + 0.5*heat_array[key_out_mask]\n",
    "    return hmap, heat_normalized, max_value"
   ],
   "metadata": {
    "collapsed": false,
    "pycharm": {
     "name": "#%%\n"
    }
   }
  },
  {
   "cell_type": "code",
   "execution_count": null,
   "outputs": [],
   "source": [
    "for group_name, df_group in tqdm(df.groupby([\"Algorithm\", \"ProgrammingStyle\"])):\n",
    "    image = \"./data/images/\" + group_name[0] + \"_\" + group_name[1].replace(\"-\", \"_\") + \".png\"\n",
    "    image = PIL.Image.open(image)\n",
    "    dimension = image.size\n",
    "    average_heat = np.zeros((dimension[1], dimension[0]))\n",
    "    for idx, row in tqdm(df_group.iterrows(), total=len(df_group)):\n",
    "        clicks = row[\"ClickData\"]\n",
    "        duration_per_click = row[\"TimeData\"]\n",
    "        duration_tmp = [duration_per_click[0]]\n",
    "        for duration_idx, value in enumerate(duration_per_click):\n",
    "            if duration_idx == 0:\n",
    "                continue\n",
    "            duration_tmp.append(value-duration_per_click[duration_idx-1])\n",
    "        duration_per_click = duration_tmp\n",
    "\n",
    "        bounding_boxes = row[\"BoundingBoxes\"]\n",
    "        example = np.zeros((dimension[1], dimension[0]))\n",
    "        for click, duration in zip(clicks, duration_per_click):\n",
    "            elliptical_mask = get_ellipse_mask(click, x_radius, y_radius, dimension)\n",
    "            example += (elliptical_mask*duration)\n",
    "        _hmap, normalized_heat, _max_value = heatmap_helper(image, example, settings[\"grad_radius\"]//2)\n",
    "        average_heat += normalized_heat\n",
    "\n",
    "    image = np.array(image)\n",
    "\n",
    "    average_heat = scipy.ndimage.gaussian_filter(average_heat, sigma=4)\n",
    "    average_heat = average_heat / len(df_group)\n",
    "    mask = average_heat >= 0.00\n",
    "\n",
    "    cmap = plt.cm.get_cmap('jet')\n",
    "    average_heat = average_heat*255\n",
    "    average_heat = average_heat.astype(np.uint8)\n",
    "    average_heat = cmap(average_heat)\n",
    "    average_heat = average_heat*255\n",
    "\n",
    "    image[mask] = 0.5*image[mask] + 0.5*average_heat[mask]\n",
    "\n",
    "    fig, ax = plt.subplots(1, 1, figsize=(10, 10))\n",
    "    fig.set_size_inches(dimension[0]/100 * 1.1, dimension[1]/100)\n",
    "    sm = plt.cm.ScalarMappable(cmap=plt.cm.get_cmap(\"jet\"))\n",
    "    plt.rcParams['savefig.facecolor']='white'\n",
    "    plt.axis('off')\n",
    "    plt.tight_layout()\n",
    "    ax.imshow(image, aspect='auto')\n",
    "    plt.colorbar(sm, fraction=0.046, pad=0.04)\n",
    "    plt.savefig(\"./results/average_heatmaps/\" + group_name[0] + \"_\" + group_name[1].replace(\"-\", \"_\") + \".png\", bbox_inches='tight' , pad_inches=0)\n",
    "    plt.close('all')"
   ],
   "metadata": {
    "collapsed": false,
    "pycharm": {
     "name": "#%%\n"
    }
   }
  },
  {
   "cell_type": "code",
   "execution_count": null,
   "outputs": [],
   "source": [
    "df[\"AOI_TransitionMatrix\"] = None\n",
    "df[\"AOI_TransitionMatrix\"] = df[\"AOI_TransitionMatrix\"].apply(lambda x: np.zeros((len(aoi_numbers), len(aoi_numbers))))\n",
    "df_aoi = pd.DataFrame([], columns=[\"Algorithm\", \"ProgrammingStyle\", \"AOI\", \"Number\", \"Duration\"])\n",
    "\n",
    "for idx, row in tqdm(df.iterrows(), total=df.shape[0]):\n",
    "    algorithm = row[\"Algorithm\"]\n",
    "    programming_style = row[\"ProgrammingStyle\"]\n",
    "    counting_array = [0 for i in range(len(aoi_numbers))]\n",
    "    timing_array = [0 for i in range(len(aoi_numbers))]\n",
    "\n",
    "    dimension = row[\"ImageDimension\"]\n",
    "    clicks = row[\"ClickData\"]\n",
    "\n",
    "    duration_per_click = row[\"TimeData\"]\n",
    "    duration_tmp = [duration_per_click[0]]\n",
    "    for duration_idx, value in enumerate(duration_per_click):\n",
    "        if duration_idx == 0:\n",
    "            continue\n",
    "        duration_tmp.append(value-duration_per_click[duration_idx-1])\n",
    "    duration_per_click = duration_tmp\n",
    "\n",
    "    bounding_boxes = row[\"BoundingBoxes\"]\n",
    "    mask_bounding_boxes = [get_rectangular_mask(bounding_box, dimension) for _, bounding_box in bounding_boxes]\n",
    "    idx_bounding_boxes = [aoi_numbers[aoi_name] for aoi_name, _ in bounding_boxes]\n",
    "    transition_matrix = np.zeros((len(aoi_numbers), len(aoi_numbers)))\n",
    "    current_aoi = []\n",
    "\n",
    "    for click, duration in zip(clicks, duration_per_click):\n",
    "        elliptical_mask = get_ellipse_mask(click, x_radius, y_radius, dimension)\n",
    "        next_aoi = []\n",
    "        for idx_bounding_box, mask_bounding_box in zip(idx_bounding_boxes, mask_bounding_boxes):\n",
    "            if np.max(mask_bounding_box+elliptical_mask) >= 2:\n",
    "                next_aoi.append(idx_bounding_box)\n",
    "        for aoi_idx in next_aoi:\n",
    "            counting_array[aoi_idx] += 1\n",
    "            timing_array[aoi_idx] += duration\n",
    "\n",
    "        combination_list = [(i, j) for i in current_aoi for j in next_aoi]\n",
    "        for current_aoi_idx, next_aoi_idx in combination_list:\n",
    "            transition_matrix[current_aoi_idx, next_aoi_idx] += 1\n",
    "\n",
    "        current_aoi = [value for value in next_aoi]\n",
    "\n",
    "    for idx, name in enumerate(aoi_names):\n",
    "        number = counting_array[idx]\n",
    "        duration = timing_array[idx]\n",
    "        df_aoi = df_aoi.append(pd.DataFrame([[algorithm, programming_style, name, number, duration]], columns=df_aoi.columns))\n",
    "\n",
    "    df.at[idx, \"AOI_TransitionMatrix\"] = transition_matrix\n",
    "df_aoi.reset_index(drop=True);"
   ],
   "metadata": {
    "collapsed": false,
    "pycharm": {
     "name": "#%%\n"
    }
   }
  },
  {
   "cell_type": "code",
   "execution_count": null,
   "outputs": [],
   "source": [
    "df_tmp = df_aoi.copy()\n",
    "ax = sns.catplot(x=\"AOI\", y=\"Number\", hue=\"ProgrammingStyle\", data=df_tmp, kind=\"bar\", height=5, aspect=5)\n",
    "ax.tight_layout()\n",
    "ax.set(ylabel='Number Of Clicks in AOI per Condition');"
   ],
   "metadata": {
    "collapsed": false,
    "pycharm": {
     "name": "#%%\n"
    }
   }
  },
  {
   "cell_type": "code",
   "execution_count": null,
   "outputs": [],
   "source": [
    "df_tmp = df_aoi.copy()\n",
    "ax = sns.catplot(x=\"AOI\", y=\"Duration\", hue=\"ProgrammingStyle\", data=df_tmp, kind=\"bar\", height=5, aspect=5)\n",
    "ax.tight_layout()\n",
    "ax.set(ylabel='Time in AOI per Condition');"
   ],
   "metadata": {
    "collapsed": false,
    "pycharm": {
     "name": "#%%\n"
    }
   }
  },
  {
   "cell_type": "code",
   "execution_count": null,
   "outputs": [],
   "source": [
    "def sum_up_transition(df):\n",
    "    aoi_transition_matrix = np.zeros((len(aoi_names), len(aoi_names)))\n",
    "    for idx, row in df.iterrows():\n",
    "        aoi_transition_matrix += row[\"AOI_TransitionMatrix\"]\n",
    "\n",
    "    return aoi_transition_matrix\n",
    "\n",
    "df_aoi_transition = df[[\"Algorithm\", \"ProgrammingStyle\", \"AOI_TransitionMatrix\"]]\\\n",
    "    .groupby([\"Algorithm\", \"ProgrammingStyle\"])\\\n",
    "    .apply(lambda df: sum_up_transition(df))\n",
    "\n",
    "df_aoi_transition = df_aoi_transition.reset_index()\n",
    "df_aoi_transition = df_aoi_transition.rename(columns={0: \"AOI_TransitionMatrix\"})\n",
    "df_aoi_transition"
   ],
   "metadata": {
    "collapsed": false,
    "pycharm": {
     "name": "#%%\n"
    }
   }
  },
  {
   "cell_type": "code",
   "execution_count": null,
   "outputs": [],
   "source": [
    "iterative_transition = sum_up_transition(df_aoi_transition[df_aoi_transition[\"ProgrammingStyle\"] == \"iterative\"])\n",
    "iterative_algorithm = \"total\"\n",
    "iterative_style = \"iterative\"\n",
    "\n",
    "recursive_transition = sum_up_transition(df_aoi_transition[df_aoi_transition[\"ProgrammingStyle\"] == \"recursive\"])\n",
    "recursive_algorithm = \"total\"\n",
    "recursive_style = \"recursive\"\n",
    "\n",
    "higher_order_transition = sum_up_transition(df_aoi_transition[df_aoi_transition[\"ProgrammingStyle\"] == \"higher_order\"])\n",
    "higher_order_algorithm = \"total\"\n",
    "higher_order_style = \"higher_order\"\n",
    "\n",
    "list_comprehension_transition = sum_up_transition(df_aoi_transition[df_aoi_transition[\"ProgrammingStyle\"] == \"list_comprehension\"])\n",
    "list_comprehension_algorithm = \"total\"\n",
    "list_comprehension_style = \"list_comprehension\""
   ],
   "metadata": {
    "collapsed": false,
    "pycharm": {
     "name": "#%%\n"
    }
   }
  },
  {
   "cell_type": "code",
   "execution_count": null,
   "outputs": [],
   "source": [],
   "metadata": {
    "collapsed": false,
    "pycharm": {
     "name": "#%%\n"
    }
   }
  },
  {
   "cell_type": "code",
   "execution_count": null,
   "outputs": [],
   "source": [],
   "metadata": {
    "collapsed": false,
    "pycharm": {
     "name": "#%%\n"
    }
   }
  }
 ],
 "metadata": {
  "kernelspec": {
   "display_name": "Python 3",
   "language": "python",
   "name": "python3"
  },
  "language_info": {
   "codemirror_mode": {
    "name": "ipython",
    "version": 2
   },
   "file_extension": ".py",
   "mimetype": "text/x-python",
   "name": "python",
   "nbconvert_exporter": "python",
   "pygments_lexer": "ipython2",
   "version": "2.7.6"
  }
 },
 "nbformat": 4,
 "nbformat_minor": 0
}