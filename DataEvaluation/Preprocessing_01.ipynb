{
 "cells": [
  {
   "cell_type": "markdown",
   "source": [
    "# Preprocessing 01\n",
    "---\n",
    "## Read Out the Data from SoSciSurvey and save it in a better format"
   ],
   "metadata": {
    "collapsed": false,
    "pycharm": {
     "name": "#%% md\n"
    }
   }
  },
  {
   "cell_type": "code",
   "execution_count": 1,
   "outputs": [],
   "source": [
    "import re\n",
    "import pandas as pd\n",
    "\n",
    "pd.set_option('mode.chained_assignment', None)"
   ],
   "metadata": {
    "collapsed": false,
    "pycharm": {
     "name": "#%%\n"
    }
   }
  },
  {
   "cell_type": "markdown",
   "source": [
    "### Read in the Data"
   ],
   "metadata": {
    "collapsed": false,
    "pycharm": {
     "name": "#%% md\n"
    }
   }
  },
  {
   "cell_type": "code",
   "execution_count": 2,
   "metadata": {
    "pycharm": {
     "name": "#%%\n"
    }
   },
   "outputs": [],
   "source": [
    "df_raw = pd.read_excel(\"./data/data_hir.xlsx\")\n",
    "df_raw = df_raw.drop(0)"
   ]
  },
  {
   "cell_type": "markdown",
   "source": [
    "### Drop 'useless' rows and columns"
   ],
   "metadata": {
    "collapsed": false,
    "pycharm": {
     "name": "#%% md\n"
    }
   }
  },
  {
   "cell_type": "code",
   "execution_count": 3,
   "outputs": [],
   "source": [
    "df_raw = df_raw.drop(columns=['SERIAL', 'REF', 'QUESTNNR', 'MODE', 'MAILSENT', 'TIME_SUM', 'Q_VIEWER', 'LASTPAGE', 'MAXPAGE', 'MISSING', 'MISSREL', 'TIME_RSI', 'DEG_TIME', 'FINISHED'])\n",
    "# remove time columns\n",
    "df_raw = df_raw.drop(columns=['TIME001', 'TIME002', 'TIME004', 'TIME005', 'TIME006', 'TIME007', 'TIME008', 'TIME009', 'TIME010', 'TIME011', 'TIME012', 'TIME013', 'TIME014', 'TIME015', 'TIME016', 'TIME017', 'TIME018', 'TIME019', 'TIME020', 'TIME021', 'TIME022', 'TIME024', 'TIME026', 'TIME028', 'TIME030', 'TIME032', 'TIME034'])"
   ],
   "metadata": {
    "collapsed": false,
    "pycharm": {
     "name": "#%%\n"
    }
   }
  },
  {
   "cell_type": "code",
   "execution_count": 4,
   "outputs": [],
   "source": [
    "df_raw.to_csv(\"./data/preprocessed_total_data.csv\", index=False)"
   ],
   "metadata": {
    "collapsed": false,
    "pycharm": {
     "name": "#%%\n"
    }
   }
  },
  {
   "cell_type": "code",
   "execution_count": 5,
   "outputs": [
    {
     "data": {
      "text/plain": "   CASE LANGUAGE         IT14_01 IT14_01a       IT15_01 IT15_01a IT16_01  \\\n1   194      ger             NaN        2           NaN      NaN     NaN   \n2   195      ger  0 5 10 5 10 15        1           NaN      NaN     NaN   \n3   196      ger         5,10,15        1           NaN      NaN     NaN   \n4   198      ger       [5,10,15]        1           NaN      NaN     NaN   \n5   199      ger       [5,10,15]        1           NaN      NaN     NaN   \n6   201      eng       5, 10, 15        1           NaN      NaN      42   \n7   202      ger             NaN      NaN           NaN      NaN     NaN   \n8   203      ger             NaN      NaN           NaN      NaN     NaN   \n9   204      ger       [5,10,15]        1           NaN      NaN     NaN   \n10  212      ger     [5, 10, 15]        1           NaN        2     NaN   \n11  213      eng       [5,10,15]        1           NaN      NaN     NaN   \n12  223      eng       5, 10, 15        1           NaN      NaN     NaN   \n13  228      ger       [5,10,15]        1           NaN      NaN     NaN   \n14  229      ger             NaN      NaN           NaN      NaN     NaN   \n15  230      ger     [5, 10, 15]        1           NaN      NaN     NaN   \n16  236      eng             NaN      NaN           NaN      NaN     NaN   \n17  238      ger             NaN        2           NaN      NaN      42   \n18  243      eng             NaN      NaN           NaN      NaN     NaN   \n19  244      eng             NaN        2           NaN      NaN     NaN   \n20  245      ger       5, 10, 15        1      [2,6,12]        1     NaN   \n21  250      ger             NaN      NaN           NaN      NaN     NaN   \n22  251      ger             NaN      NaN           NaN      NaN     NaN   \n23  252      ger       5, 10, 15        1           NaN      NaN      42   \n24  253      eng             NaN      NaN           NaN      NaN     NaN   \n25  259      eng     [5, 10, 15]        1           NaN      NaN     NaN   \n26  260      eng       [5,10,15]        1           NaN      NaN     NaN   \n27  264      ger      [5, 10,15]        1           NaN      NaN     NaN   \n28  271      ger             NaN      NaN           NaN      NaN     NaN   \n29  272      ger       5, 10, 15        1  \"[2, 6, 12]\"        1     NaN   \n30  282      ger       5, 10, 15        1           NaN      NaN     NaN   \n31  294      ger     [5, 10, 15]        1           NaN      NaN      42   \n32  295      ger     [5, 10, 15]        1           NaN      NaN     NaN   \n33  296      ger     [5, 10, 15]        1            16        1     NaN   \n34  297      ger     [5, 10, 15]        1           NaN      NaN     NaN   \n35  298      ger       [5,10,15]        1           NaN      NaN     NaN   \n36  302      ger     [5, 10, 15]        1    [2, 6, 12]        1     NaN   \n37  306      ger      [5,10, 15]        1           NaN      NaN     NaN   \n38  307      ger     [5, 10, 15]        1           NaN      NaN      16   \n39  308      ger     [5, 10, 15]        1           NaN      NaN     NaN   \n40  309      ger     [5, 10, 15]        1           NaN      NaN     NaN   \n41  313      ger     [5, 10, 15]        1           NaN      NaN     NaN   \n42  314      ger     [5, 10, 15]        1    [2, 6, 12]        1     NaN   \n43  315      ger     [5, 10, 15]        1           NaN      NaN      42   \n44  316      ger     [5, 10, 15]        1    [2, 6, 12]        1     NaN   \n45  317      eng     [5, 10, 15]        1           NaN      NaN     NaN   \n46  318      ger     [5, 10, 15]        1           NaN      NaN     NaN   \n47  319      ger     [5, 10, 15]        1           NaN      NaN     NaN   \n48  320      ger     [5, 10, 15]        1           NaN      NaN     NaN   \n\n   IT16_01a        IT17_01 IT17_01a  ...  \\\n1       NaN            NaN      NaN  ...   \n2       NaN            NaN      NaN  ...   \n3       NaN            NaN      NaN  ...   \n4       NaN            NaN      NaN  ...   \n5       NaN            NaN      NaN  ...   \n6         1              2        1  ...   \n7       NaN            NaN      NaN  ...   \n8       NaN            NaN      NaN  ...   \n9       NaN            NaN      NaN  ...   \n10      NaN            NaN      NaN  ...   \n11      NaN              2        1  ...   \n12      NaN            NaN      NaN  ...   \n13      NaN            NaN      NaN  ...   \n14      NaN            NaN      NaN  ...   \n15      NaN            NaN      NaN  ...   \n16      NaN            NaN      NaN  ...   \n17        1            NaN      NaN  ...   \n18      NaN            NaN      NaN  ...   \n19      NaN            NaN      NaN  ...   \n20      NaN            NaN      NaN  ...   \n21      NaN            NaN      NaN  ...   \n22      NaN            NaN      NaN  ...   \n23        1              2        1  ...   \n24      NaN            NaN      NaN  ...   \n25      NaN            NaN      NaN  ...   \n26      NaN            NaN      NaN  ...   \n27      NaN            NaN      NaN  ...   \n28      NaN            NaN      NaN  ...   \n29      NaN            NaN      NaN  ...   \n30      NaN            NaN      NaN  ...   \n31        1            NaN      NaN  ...   \n32      NaN              2        1  ...   \n33      NaN            NaN      NaN  ...   \n34      NaN            NaN      NaN  ...   \n35      NaN            NaN      NaN  ...   \n36        2  -1 -1 3 -1 -1        1  ...   \n37      NaN            NaN      NaN  ...   \n38        1            NaN      NaN  ...   \n39      NaN            NaN      NaN  ...   \n40      NaN            NaN      NaN  ...   \n41      NaN              2        1  ...   \n42      NaN            NaN      NaN  ...   \n43        1            NaN      NaN  ...   \n44      NaN            [2]        1  ...   \n45      NaN            NaN      NaN  ...   \n46      NaN            NaN      NaN  ...   \n47      NaN            NaN      NaN  ...   \n48      NaN            NaN      NaN  ...   \n\n                                              LV09_02  \\\n1                                                 NaN   \n2                                                 NaN   \n3   1210 1999 2743 3320 4873 5436 5820 6635 7329 8...   \n4                                                 NaN   \n5                                                 NaN   \n6                                                 NaN   \n7                                                 NaN   \n8                                                 NaN   \n9                                                 NaN   \n10                                                NaN   \n11                                                NaN   \n12                                                NaN   \n13                                                NaN   \n14                                                NaN   \n15                                                NaN   \n16                                                NaN   \n17                                                NaN   \n18                                                NaN   \n19                                                NaN   \n20       4269 8803 9672 20744 23516 24525 47301 49385   \n21                                                NaN   \n22                                                NaN   \n23                                                NaN   \n24                                                NaN   \n25                                                NaN   \n26                                                NaN   \n27                                                NaN   \n28                                                NaN   \n29                  2219 6740 15907 55735 56967 61524   \n30                                                NaN   \n31                                                NaN   \n32                                                NaN   \n33                                                NaN   \n34                                                NaN   \n35                                                NaN   \n36  1650 4617 5486 6885 10436 10960 17578 18256 18849   \n37                                                NaN   \n38                                                NaN   \n39                                                NaN   \n40          12024 12787 13740 17094 18472 24338 25925   \n41                                                NaN   \n42                                                NaN   \n43                                                NaN   \n44                                                NaN   \n45                                                NaN   \n46                                                NaN   \n47                                                NaN   \n48  2891 3706 4408 19583 20336 24864 25813 28782 3...   \n\n                                              LV10_01  \\\n1                                                 NaN   \n2                                                 NaN   \n3                                                 NaN   \n4                                                 NaN   \n5                                                 NaN   \n6         159-20 161-37 153-117 144-22 154-42 155-118   \n7                                                 NaN   \n8                                                 NaN   \n9                                                 NaN   \n10                                                NaN   \n11                                                NaN   \n12                       127-62 119-37 251-48 173-121   \n13                                                NaN   \n14                                                NaN   \n15                                                NaN   \n16                                                NaN   \n17                                                NaN   \n18                                                NaN   \n19                                                NaN   \n20                                                NaN   \n21                                                NaN   \n22                                                NaN   \n23                                                NaN   \n24                                                NaN   \n25                                                NaN   \n26                                                NaN   \n27                              140-14 151-38 149-122   \n28                                                NaN   \n29                                                NaN   \n30                                                NaN   \n31                              161-19 167-40 162-119   \n32                                                NaN   \n33                                                NaN   \n34                                                NaN   \n35                                                NaN   \n36                                                NaN   \n37                                                NaN   \n38                                                NaN   \n39                                                NaN   \n40  66-12 82-43 97-66 116-92 116-146 138-172 153-2...   \n41                                                NaN   \n42                                                NaN   \n43                                                NaN   \n44                                                NaN   \n45                                                NaN   \n46                                                NaN   \n47                                                NaN   \n48                                                NaN   \n\n                                              LV10_02  \\\n1                                                 NaN   \n2                                                 NaN   \n3                                                 NaN   \n4                                                 NaN   \n5                                                 NaN   \n6                        811 1194 2343 3227 5961 8711   \n7                                                 NaN   \n8                                                 NaN   \n9                                                 NaN   \n10                                                NaN   \n11                                                NaN   \n12                                2577 3143 5675 6667   \n13                                                NaN   \n14                                                NaN   \n15                                                NaN   \n16                                                NaN   \n17                                                NaN   \n18                                                NaN   \n19                                                NaN   \n20                                                NaN   \n21                                                NaN   \n22                                                NaN   \n23                                                NaN   \n24                                                NaN   \n25                                                NaN   \n26                                                NaN   \n27                                     1299 2132 5869   \n28                                                NaN   \n29                                                NaN   \n30                                                NaN   \n31                                     3506 4026 7633   \n32                                                NaN   \n33                                                NaN   \n34                                                NaN   \n35                                                NaN   \n36                                                NaN   \n37                                                NaN   \n38                                                NaN   \n39                                                NaN   \n40  2799 4515 5251 5685 6340 6682 7682 8416 11200 ...   \n41                                                NaN   \n42                                                NaN   \n43                                                NaN   \n44                                                NaN   \n45                                                NaN   \n46                                                NaN   \n47                                                NaN   \n48                                                NaN   \n\n                                              LV11_01  \\\n1                                                 NaN   \n2                                                 NaN   \n3                                                 NaN   \n4                                                 NaN   \n5                                                 NaN   \n6   47-4 55-17 62-34 118-104 128-138 130-171 130-1...   \n7                                                 NaN   \n8                                                 NaN   \n9                                                 NaN   \n10                                                NaN   \n11                                                NaN   \n12                                                NaN   \n13                                                NaN   \n14                                                NaN   \n15                                                NaN   \n16                                                NaN   \n17                                                NaN   \n18                                                NaN   \n19                                                NaN   \n20  110-31 112-46 126-95 130-123 137-150 138-171 1...   \n21                                                NaN   \n22                                                NaN   \n23  164-481 186-500 220-538 236-505 254-528 277-56...   \n24                                                NaN   \n25                                                NaN   \n26                                                NaN   \n27                                                NaN   \n28                                                NaN   \n29                                                NaN   \n30                                                NaN   \n31                                                NaN   \n32  87-19 87-37 137-94 151-120 153-148 158-177 166...   \n33                                                NaN   \n34                                                NaN   \n35                                                NaN   \n36  71-478 80-503 84-518 86-520 85-541 84-553 84-5...   \n37                                                NaN   \n38                                                NaN   \n39                                                NaN   \n40                                                NaN   \n41                                                NaN   \n42  85-42 130-94 136-121 140-144 144-176 146-204 1...   \n43                                                NaN   \n44                                                NaN   \n45                                                NaN   \n46                                                NaN   \n47  109-17 147-89 149-118 151-144 151-171 156-198 ...   \n48  94-21 96-42 134-88 145-122 146-141 150-170 153...   \n\n                                              LV11_02  \\\n1                                                 NaN   \n2                                                 NaN   \n3                                                 NaN   \n4                                                 NaN   \n5                                                 NaN   \n6   1918 2252 2686 3334 3851 4269 4702 5101 6018 6...   \n7                                                 NaN   \n8                                                 NaN   \n9                                                 NaN   \n10                                                NaN   \n11                                                NaN   \n12                                                NaN   \n13                                                NaN   \n14                                                NaN   \n15                                                NaN   \n16                                                NaN   \n17                                                NaN   \n18                                                NaN   \n19                                                NaN   \n20  5057 5632 6241 7309 7897 8542 9288 10539 13574...   \n21                                                NaN   \n22                                                NaN   \n23  3159 3656 4615 5092 5998 6874 8207 9126 10025 ...   \n24                                                NaN   \n25                                                NaN   \n26                                                NaN   \n27                                                NaN   \n28                                                NaN   \n29                                                NaN   \n30                                                NaN   \n31                                                NaN   \n32  3552 4312 5027 5563 6205 6864 7614 8682 10719 ...   \n33                                                NaN   \n34                                                NaN   \n35                                                NaN   \n36  8527 9667 11259 12418 12824 13301 13704 20024 ...   \n37                                                NaN   \n38                                                NaN   \n39                                                NaN   \n40                                                NaN   \n41                                                NaN   \n42  4117 4833 5226 5944 6455 7000 7625 8584 8876 1...   \n43                                                NaN   \n44                                                NaN   \n45                                                NaN   \n46                                                NaN   \n47  4624 5607 6237 6691 7164 7591 7956 8491 9128 1...   \n48  4186 4918 5406 6007 6445 7434 8443 9723 11707 ...   \n\n                                              LV12_01  \\\n1                                                 NaN   \n2   139-181 126-138 88-55 86-35 89-13 65-102 61-12...   \n3                                                 NaN   \n4                                                 NaN   \n5                                                 NaN   \n6   179-18 91-81 85-111 106-197 128-178 130-222 13...   \n7                                                 NaN   \n8                                                 NaN   \n9                                                 NaN   \n10                                                NaN   \n11                                                NaN   \n12  59-1075 105-1108 57-1052 107-1150 92-1222 92-1...   \n13                                                NaN   \n14                                                NaN   \n15                                                NaN   \n16                                                NaN   \n17                                                NaN   \n18                                                NaN   \n19                                                NaN   \n20  125-15 101-96 98-113 118-166 123-194 158-173 1...   \n21                                                NaN   \n22                                                NaN   \n23                                                NaN   \n24                                                NaN   \n25                                                NaN   \n26                                                NaN   \n27                                                NaN   \n28                                                NaN   \n29                                                NaN   \n30  167-1317 103-1661 136-1657 55-1058 111-1071 11...   \n31                                                NaN   \n32                                                NaN   \n33                                                NaN   \n34                                                NaN   \n35                                                NaN   \n36                                                NaN   \n37                                                NaN   \n38                                                NaN   \n39                                                NaN   \n40                                                NaN   \n41                                                NaN   \n42  83-12 142-177 144-203 146-222 151-245 154-273 ...   \n43                                                NaN   \n44  109-14 78-89 70-122 121-172 130-353 156-376 13...   \n45                                                NaN   \n46                                                NaN   \n47                                                NaN   \n48                                                NaN   \n\n                                              LV12_02  \\\n1                                                 NaN   \n2   3416 3687 4049 4378 4966 6512 7614 8845 9511 1...   \n3                                                 NaN   \n4                                                 NaN   \n5                                                 NaN   \n6   2276 3226 3741 4226 4644 5029 5661 6142 6694 8...   \n7                                                 NaN   \n8                                                 NaN   \n9                                                 NaN   \n10                                                NaN   \n11                                                NaN   \n12  19410 21609 22426 23293 24741 25544 27477 2824...   \n13                                                NaN   \n14                                                NaN   \n15                                                NaN   \n16                                                NaN   \n17                                                NaN   \n18                                                NaN   \n19                                                NaN   \n20  6069 9413 9826 14086 14561 15368 16438 17027 1...   \n21                                                NaN   \n22                                                NaN   \n23                                                NaN   \n24                                                NaN   \n25                                                NaN   \n26                                                NaN   \n27                                                NaN   \n28                                                NaN   \n29                                                NaN   \n30  20027 33572 34568 40528 41850 43780 45431 4717...   \n31                                                NaN   \n32                                                NaN   \n33                                                NaN   \n34                                                NaN   \n35                                                NaN   \n36                                                NaN   \n37                                                NaN   \n38                                                NaN   \n39                                                NaN   \n40                                                NaN   \n41                                                NaN   \n42  3442 5075 5562 6047 6690 7206 7808 9023 9908 1...   \n43                                                NaN   \n44  4301 5284 6509 9252 11409 12384 13764 14355 16...   \n45                                                NaN   \n46                                                NaN   \n47                                                NaN   \n48                                                NaN   \n\n                                              LV13_01  \\\n1                                                 NaN   \n2                                                 NaN   \n3   320-110 130-15 126-3 130-45 135-13 124-43 107-...   \n4                                                 NaN   \n5                                                 NaN   \n6   222-90 102-848 99-867 102-891 96-916 97-939 10...   \n7                                                 NaN   \n8                                                 NaN   \n9                                                 NaN   \n10                                                NaN   \n11  42-22 65-45 51-123 81-143 111-161 100-143 50-1...   \n12                                                NaN   \n13                                                NaN   \n14                                                NaN   \n15                                                NaN   \n16                                                NaN   \n17                                                NaN   \n18                                                NaN   \n19                                                NaN   \n20                                                NaN   \n21                                                NaN   \n22                                                NaN   \n23  110-12 118-37 101-117 126-142 134-170 137-190 ...   \n24                                                NaN   \n25                                                NaN   \n26                                                NaN   \n27                                                NaN   \n28                                                NaN   \n29                                                NaN   \n30  44-20 76-859 91-874 112-899 94-927 94-948 111-...   \n31                                                NaN   \n32                                                NaN   \n33                                                NaN   \n34  80-9 90-33 88-125 103-146 109-170 114-194 103-...   \n35                                                NaN   \n36                                                NaN   \n37                                                NaN   \n38                                                NaN   \n39                                                NaN   \n40  78-15 80-37 81-117 109-146 106-170 106-192 114...   \n41                                                NaN   \n42                                                NaN   \n43  82-120 102-669 301-689 98-713 110-171 112-192 ...   \n44                                                NaN   \n45                                                NaN   \n46                                                NaN   \n47                                                NaN   \n48                                                NaN   \n\n                                              LV13_02 TIME035  \n1                                                 NaN     NaN  \n2                                                 NaN     NaN  \n3   2398 6266 6629 7149 7845 8644 9559 10171 10818...     NaN  \n4                                                 NaN     NaN  \n5                                                 NaN     NaN  \n6   910 2892 3392 3774 4139 4490 4825 5140 5524 59...     NaN  \n7                                                 NaN     NaN  \n8                                                 NaN     NaN  \n9                                                 NaN     NaN  \n10                                                NaN     NaN  \n11  4155 9379 12561 13652 21857 23971 25078 25989 ...     NaN  \n12                                                NaN     NaN  \n13                                                NaN     NaN  \n14                                                NaN     NaN  \n15                                                NaN     NaN  \n16                                                NaN     NaN  \n17                                                NaN     NaN  \n18                                                NaN     NaN  \n19                                                NaN     NaN  \n20                                                NaN     NaN  \n21                                                NaN     NaN  \n22                                                NaN     NaN  \n23  3853 4218 8660 9020 9434 9893 11026 11335 1200...     NaN  \n24                                                NaN     NaN  \n25                                                NaN     NaN  \n26                                                NaN     NaN  \n27                                                NaN     NaN  \n28                                                NaN     NaN  \n29                                                NaN     NaN  \n30  12158 14405 16977 17974 18887 19690 20781 2156...     NaN  \n31                                                NaN     NaN  \n32                                                NaN     NaN  \n33                                                NaN     NaN  \n34  3545 4213 6711 7143 7700 8598 9962 10333 11843...     NaN  \n35                                                NaN     NaN  \n36                                                NaN     NaN  \n37                                                NaN     NaN  \n38                                                NaN     NaN  \n39                                                NaN     NaN  \n40  3924 4856 5841 6974 7497 8040 10490 11359 1325...     NaN  \n41                                                NaN     NaN  \n42                                                NaN     NaN  \n43  5602 8135 9452 16605 18846 19738 21055 21586 2...     NaN  \n44                                                NaN     NaN  \n45                                                NaN     NaN  \n46                                                NaN     NaN  \n47                                                NaN     NaN  \n48                                                NaN     NaN  \n\n[48 rows x 234 columns]",
      "text/html": "<div>\n<style scoped>\n    .dataframe tbody tr th:only-of-type {\n        vertical-align: middle;\n    }\n\n    .dataframe tbody tr th {\n        vertical-align: top;\n    }\n\n    .dataframe thead th {\n        text-align: right;\n    }\n</style>\n<table border=\"1\" class=\"dataframe\">\n  <thead>\n    <tr style=\"text-align: right;\">\n      <th></th>\n      <th>CASE</th>\n      <th>LANGUAGE</th>\n      <th>IT14_01</th>\n      <th>IT14_01a</th>\n      <th>IT15_01</th>\n      <th>IT15_01a</th>\n      <th>IT16_01</th>\n      <th>IT16_01a</th>\n      <th>IT17_01</th>\n      <th>IT17_01a</th>\n      <th>...</th>\n      <th>LV09_02</th>\n      <th>LV10_01</th>\n      <th>LV10_02</th>\n      <th>LV11_01</th>\n      <th>LV11_02</th>\n      <th>LV12_01</th>\n      <th>LV12_02</th>\n      <th>LV13_01</th>\n      <th>LV13_02</th>\n      <th>TIME035</th>\n    </tr>\n  </thead>\n  <tbody>\n    <tr>\n      <th>1</th>\n      <td>194</td>\n      <td>ger</td>\n      <td>NaN</td>\n      <td>2</td>\n      <td>NaN</td>\n      <td>NaN</td>\n      <td>NaN</td>\n      <td>NaN</td>\n      <td>NaN</td>\n      <td>NaN</td>\n      <td>...</td>\n      <td>NaN</td>\n      <td>NaN</td>\n      <td>NaN</td>\n      <td>NaN</td>\n      <td>NaN</td>\n      <td>NaN</td>\n      <td>NaN</td>\n      <td>NaN</td>\n      <td>NaN</td>\n      <td>NaN</td>\n    </tr>\n    <tr>\n      <th>2</th>\n      <td>195</td>\n      <td>ger</td>\n      <td>0 5 10 5 10 15</td>\n      <td>1</td>\n      <td>NaN</td>\n      <td>NaN</td>\n      <td>NaN</td>\n      <td>NaN</td>\n      <td>NaN</td>\n      <td>NaN</td>\n      <td>...</td>\n      <td>NaN</td>\n      <td>NaN</td>\n      <td>NaN</td>\n      <td>NaN</td>\n      <td>NaN</td>\n      <td>139-181 126-138 88-55 86-35 89-13 65-102 61-12...</td>\n      <td>3416 3687 4049 4378 4966 6512 7614 8845 9511 1...</td>\n      <td>NaN</td>\n      <td>NaN</td>\n      <td>NaN</td>\n    </tr>\n    <tr>\n      <th>3</th>\n      <td>196</td>\n      <td>ger</td>\n      <td>5,10,15</td>\n      <td>1</td>\n      <td>NaN</td>\n      <td>NaN</td>\n      <td>NaN</td>\n      <td>NaN</td>\n      <td>NaN</td>\n      <td>NaN</td>\n      <td>...</td>\n      <td>1210 1999 2743 3320 4873 5436 5820 6635 7329 8...</td>\n      <td>NaN</td>\n      <td>NaN</td>\n      <td>NaN</td>\n      <td>NaN</td>\n      <td>NaN</td>\n      <td>NaN</td>\n      <td>320-110 130-15 126-3 130-45 135-13 124-43 107-...</td>\n      <td>2398 6266 6629 7149 7845 8644 9559 10171 10818...</td>\n      <td>NaN</td>\n    </tr>\n    <tr>\n      <th>4</th>\n      <td>198</td>\n      <td>ger</td>\n      <td>[5,10,15]</td>\n      <td>1</td>\n      <td>NaN</td>\n      <td>NaN</td>\n      <td>NaN</td>\n      <td>NaN</td>\n      <td>NaN</td>\n      <td>NaN</td>\n      <td>...</td>\n      <td>NaN</td>\n      <td>NaN</td>\n      <td>NaN</td>\n      <td>NaN</td>\n      <td>NaN</td>\n      <td>NaN</td>\n      <td>NaN</td>\n      <td>NaN</td>\n      <td>NaN</td>\n      <td>NaN</td>\n    </tr>\n    <tr>\n      <th>5</th>\n      <td>199</td>\n      <td>ger</td>\n      <td>[5,10,15]</td>\n      <td>1</td>\n      <td>NaN</td>\n      <td>NaN</td>\n      <td>NaN</td>\n      <td>NaN</td>\n      <td>NaN</td>\n      <td>NaN</td>\n      <td>...</td>\n      <td>NaN</td>\n      <td>NaN</td>\n      <td>NaN</td>\n      <td>NaN</td>\n      <td>NaN</td>\n      <td>NaN</td>\n      <td>NaN</td>\n      <td>NaN</td>\n      <td>NaN</td>\n      <td>NaN</td>\n    </tr>\n    <tr>\n      <th>6</th>\n      <td>201</td>\n      <td>eng</td>\n      <td>5, 10, 15</td>\n      <td>1</td>\n      <td>NaN</td>\n      <td>NaN</td>\n      <td>42</td>\n      <td>1</td>\n      <td>2</td>\n      <td>1</td>\n      <td>...</td>\n      <td>NaN</td>\n      <td>159-20 161-37 153-117 144-22 154-42 155-118</td>\n      <td>811 1194 2343 3227 5961 8711</td>\n      <td>47-4 55-17 62-34 118-104 128-138 130-171 130-1...</td>\n      <td>1918 2252 2686 3334 3851 4269 4702 5101 6018 6...</td>\n      <td>179-18 91-81 85-111 106-197 128-178 130-222 13...</td>\n      <td>2276 3226 3741 4226 4644 5029 5661 6142 6694 8...</td>\n      <td>222-90 102-848 99-867 102-891 96-916 97-939 10...</td>\n      <td>910 2892 3392 3774 4139 4490 4825 5140 5524 59...</td>\n      <td>NaN</td>\n    </tr>\n    <tr>\n      <th>7</th>\n      <td>202</td>\n      <td>ger</td>\n      <td>NaN</td>\n      <td>NaN</td>\n      <td>NaN</td>\n      <td>NaN</td>\n      <td>NaN</td>\n      <td>NaN</td>\n      <td>NaN</td>\n      <td>NaN</td>\n      <td>...</td>\n      <td>NaN</td>\n      <td>NaN</td>\n      <td>NaN</td>\n      <td>NaN</td>\n      <td>NaN</td>\n      <td>NaN</td>\n      <td>NaN</td>\n      <td>NaN</td>\n      <td>NaN</td>\n      <td>NaN</td>\n    </tr>\n    <tr>\n      <th>8</th>\n      <td>203</td>\n      <td>ger</td>\n      <td>NaN</td>\n      <td>NaN</td>\n      <td>NaN</td>\n      <td>NaN</td>\n      <td>NaN</td>\n      <td>NaN</td>\n      <td>NaN</td>\n      <td>NaN</td>\n      <td>...</td>\n      <td>NaN</td>\n      <td>NaN</td>\n      <td>NaN</td>\n      <td>NaN</td>\n      <td>NaN</td>\n      <td>NaN</td>\n      <td>NaN</td>\n      <td>NaN</td>\n      <td>NaN</td>\n      <td>NaN</td>\n    </tr>\n    <tr>\n      <th>9</th>\n      <td>204</td>\n      <td>ger</td>\n      <td>[5,10,15]</td>\n      <td>1</td>\n      <td>NaN</td>\n      <td>NaN</td>\n      <td>NaN</td>\n      <td>NaN</td>\n      <td>NaN</td>\n      <td>NaN</td>\n      <td>...</td>\n      <td>NaN</td>\n      <td>NaN</td>\n      <td>NaN</td>\n      <td>NaN</td>\n      <td>NaN</td>\n      <td>NaN</td>\n      <td>NaN</td>\n      <td>NaN</td>\n      <td>NaN</td>\n      <td>NaN</td>\n    </tr>\n    <tr>\n      <th>10</th>\n      <td>212</td>\n      <td>ger</td>\n      <td>[5, 10, 15]</td>\n      <td>1</td>\n      <td>NaN</td>\n      <td>2</td>\n      <td>NaN</td>\n      <td>NaN</td>\n      <td>NaN</td>\n      <td>NaN</td>\n      <td>...</td>\n      <td>NaN</td>\n      <td>NaN</td>\n      <td>NaN</td>\n      <td>NaN</td>\n      <td>NaN</td>\n      <td>NaN</td>\n      <td>NaN</td>\n      <td>NaN</td>\n      <td>NaN</td>\n      <td>NaN</td>\n    </tr>\n    <tr>\n      <th>11</th>\n      <td>213</td>\n      <td>eng</td>\n      <td>[5,10,15]</td>\n      <td>1</td>\n      <td>NaN</td>\n      <td>NaN</td>\n      <td>NaN</td>\n      <td>NaN</td>\n      <td>2</td>\n      <td>1</td>\n      <td>...</td>\n      <td>NaN</td>\n      <td>NaN</td>\n      <td>NaN</td>\n      <td>NaN</td>\n      <td>NaN</td>\n      <td>NaN</td>\n      <td>NaN</td>\n      <td>42-22 65-45 51-123 81-143 111-161 100-143 50-1...</td>\n      <td>4155 9379 12561 13652 21857 23971 25078 25989 ...</td>\n      <td>NaN</td>\n    </tr>\n    <tr>\n      <th>12</th>\n      <td>223</td>\n      <td>eng</td>\n      <td>5, 10, 15</td>\n      <td>1</td>\n      <td>NaN</td>\n      <td>NaN</td>\n      <td>NaN</td>\n      <td>NaN</td>\n      <td>NaN</td>\n      <td>NaN</td>\n      <td>...</td>\n      <td>NaN</td>\n      <td>127-62 119-37 251-48 173-121</td>\n      <td>2577 3143 5675 6667</td>\n      <td>NaN</td>\n      <td>NaN</td>\n      <td>59-1075 105-1108 57-1052 107-1150 92-1222 92-1...</td>\n      <td>19410 21609 22426 23293 24741 25544 27477 2824...</td>\n      <td>NaN</td>\n      <td>NaN</td>\n      <td>NaN</td>\n    </tr>\n    <tr>\n      <th>13</th>\n      <td>228</td>\n      <td>ger</td>\n      <td>[5,10,15]</td>\n      <td>1</td>\n      <td>NaN</td>\n      <td>NaN</td>\n      <td>NaN</td>\n      <td>NaN</td>\n      <td>NaN</td>\n      <td>NaN</td>\n      <td>...</td>\n      <td>NaN</td>\n      <td>NaN</td>\n      <td>NaN</td>\n      <td>NaN</td>\n      <td>NaN</td>\n      <td>NaN</td>\n      <td>NaN</td>\n      <td>NaN</td>\n      <td>NaN</td>\n      <td>NaN</td>\n    </tr>\n    <tr>\n      <th>14</th>\n      <td>229</td>\n      <td>ger</td>\n      <td>NaN</td>\n      <td>NaN</td>\n      <td>NaN</td>\n      <td>NaN</td>\n      <td>NaN</td>\n      <td>NaN</td>\n      <td>NaN</td>\n      <td>NaN</td>\n      <td>...</td>\n      <td>NaN</td>\n      <td>NaN</td>\n      <td>NaN</td>\n      <td>NaN</td>\n      <td>NaN</td>\n      <td>NaN</td>\n      <td>NaN</td>\n      <td>NaN</td>\n      <td>NaN</td>\n      <td>NaN</td>\n    </tr>\n    <tr>\n      <th>15</th>\n      <td>230</td>\n      <td>ger</td>\n      <td>[5, 10, 15]</td>\n      <td>1</td>\n      <td>NaN</td>\n      <td>NaN</td>\n      <td>NaN</td>\n      <td>NaN</td>\n      <td>NaN</td>\n      <td>NaN</td>\n      <td>...</td>\n      <td>NaN</td>\n      <td>NaN</td>\n      <td>NaN</td>\n      <td>NaN</td>\n      <td>NaN</td>\n      <td>NaN</td>\n      <td>NaN</td>\n      <td>NaN</td>\n      <td>NaN</td>\n      <td>NaN</td>\n    </tr>\n    <tr>\n      <th>16</th>\n      <td>236</td>\n      <td>eng</td>\n      <td>NaN</td>\n      <td>NaN</td>\n      <td>NaN</td>\n      <td>NaN</td>\n      <td>NaN</td>\n      <td>NaN</td>\n      <td>NaN</td>\n      <td>NaN</td>\n      <td>...</td>\n      <td>NaN</td>\n      <td>NaN</td>\n      <td>NaN</td>\n      <td>NaN</td>\n      <td>NaN</td>\n      <td>NaN</td>\n      <td>NaN</td>\n      <td>NaN</td>\n      <td>NaN</td>\n      <td>NaN</td>\n    </tr>\n    <tr>\n      <th>17</th>\n      <td>238</td>\n      <td>ger</td>\n      <td>NaN</td>\n      <td>2</td>\n      <td>NaN</td>\n      <td>NaN</td>\n      <td>42</td>\n      <td>1</td>\n      <td>NaN</td>\n      <td>NaN</td>\n      <td>...</td>\n      <td>NaN</td>\n      <td>NaN</td>\n      <td>NaN</td>\n      <td>NaN</td>\n      <td>NaN</td>\n      <td>NaN</td>\n      <td>NaN</td>\n      <td>NaN</td>\n      <td>NaN</td>\n      <td>NaN</td>\n    </tr>\n    <tr>\n      <th>18</th>\n      <td>243</td>\n      <td>eng</td>\n      <td>NaN</td>\n      <td>NaN</td>\n      <td>NaN</td>\n      <td>NaN</td>\n      <td>NaN</td>\n      <td>NaN</td>\n      <td>NaN</td>\n      <td>NaN</td>\n      <td>...</td>\n      <td>NaN</td>\n      <td>NaN</td>\n      <td>NaN</td>\n      <td>NaN</td>\n      <td>NaN</td>\n      <td>NaN</td>\n      <td>NaN</td>\n      <td>NaN</td>\n      <td>NaN</td>\n      <td>NaN</td>\n    </tr>\n    <tr>\n      <th>19</th>\n      <td>244</td>\n      <td>eng</td>\n      <td>NaN</td>\n      <td>2</td>\n      <td>NaN</td>\n      <td>NaN</td>\n      <td>NaN</td>\n      <td>NaN</td>\n      <td>NaN</td>\n      <td>NaN</td>\n      <td>...</td>\n      <td>NaN</td>\n      <td>NaN</td>\n      <td>NaN</td>\n      <td>NaN</td>\n      <td>NaN</td>\n      <td>NaN</td>\n      <td>NaN</td>\n      <td>NaN</td>\n      <td>NaN</td>\n      <td>NaN</td>\n    </tr>\n    <tr>\n      <th>20</th>\n      <td>245</td>\n      <td>ger</td>\n      <td>5, 10, 15</td>\n      <td>1</td>\n      <td>[2,6,12]</td>\n      <td>1</td>\n      <td>NaN</td>\n      <td>NaN</td>\n      <td>NaN</td>\n      <td>NaN</td>\n      <td>...</td>\n      <td>4269 8803 9672 20744 23516 24525 47301 49385</td>\n      <td>NaN</td>\n      <td>NaN</td>\n      <td>110-31 112-46 126-95 130-123 137-150 138-171 1...</td>\n      <td>5057 5632 6241 7309 7897 8542 9288 10539 13574...</td>\n      <td>125-15 101-96 98-113 118-166 123-194 158-173 1...</td>\n      <td>6069 9413 9826 14086 14561 15368 16438 17027 1...</td>\n      <td>NaN</td>\n      <td>NaN</td>\n      <td>NaN</td>\n    </tr>\n    <tr>\n      <th>21</th>\n      <td>250</td>\n      <td>ger</td>\n      <td>NaN</td>\n      <td>NaN</td>\n      <td>NaN</td>\n      <td>NaN</td>\n      <td>NaN</td>\n      <td>NaN</td>\n      <td>NaN</td>\n      <td>NaN</td>\n      <td>...</td>\n      <td>NaN</td>\n      <td>NaN</td>\n      <td>NaN</td>\n      <td>NaN</td>\n      <td>NaN</td>\n      <td>NaN</td>\n      <td>NaN</td>\n      <td>NaN</td>\n      <td>NaN</td>\n      <td>NaN</td>\n    </tr>\n    <tr>\n      <th>22</th>\n      <td>251</td>\n      <td>ger</td>\n      <td>NaN</td>\n      <td>NaN</td>\n      <td>NaN</td>\n      <td>NaN</td>\n      <td>NaN</td>\n      <td>NaN</td>\n      <td>NaN</td>\n      <td>NaN</td>\n      <td>...</td>\n      <td>NaN</td>\n      <td>NaN</td>\n      <td>NaN</td>\n      <td>NaN</td>\n      <td>NaN</td>\n      <td>NaN</td>\n      <td>NaN</td>\n      <td>NaN</td>\n      <td>NaN</td>\n      <td>NaN</td>\n    </tr>\n    <tr>\n      <th>23</th>\n      <td>252</td>\n      <td>ger</td>\n      <td>5, 10, 15</td>\n      <td>1</td>\n      <td>NaN</td>\n      <td>NaN</td>\n      <td>42</td>\n      <td>1</td>\n      <td>2</td>\n      <td>1</td>\n      <td>...</td>\n      <td>NaN</td>\n      <td>NaN</td>\n      <td>NaN</td>\n      <td>164-481 186-500 220-538 236-505 254-528 277-56...</td>\n      <td>3159 3656 4615 5092 5998 6874 8207 9126 10025 ...</td>\n      <td>NaN</td>\n      <td>NaN</td>\n      <td>110-12 118-37 101-117 126-142 134-170 137-190 ...</td>\n      <td>3853 4218 8660 9020 9434 9893 11026 11335 1200...</td>\n      <td>NaN</td>\n    </tr>\n    <tr>\n      <th>24</th>\n      <td>253</td>\n      <td>eng</td>\n      <td>NaN</td>\n      <td>NaN</td>\n      <td>NaN</td>\n      <td>NaN</td>\n      <td>NaN</td>\n      <td>NaN</td>\n      <td>NaN</td>\n      <td>NaN</td>\n      <td>...</td>\n      <td>NaN</td>\n      <td>NaN</td>\n      <td>NaN</td>\n      <td>NaN</td>\n      <td>NaN</td>\n      <td>NaN</td>\n      <td>NaN</td>\n      <td>NaN</td>\n      <td>NaN</td>\n      <td>NaN</td>\n    </tr>\n    <tr>\n      <th>25</th>\n      <td>259</td>\n      <td>eng</td>\n      <td>[5, 10, 15]</td>\n      <td>1</td>\n      <td>NaN</td>\n      <td>NaN</td>\n      <td>NaN</td>\n      <td>NaN</td>\n      <td>NaN</td>\n      <td>NaN</td>\n      <td>...</td>\n      <td>NaN</td>\n      <td>NaN</td>\n      <td>NaN</td>\n      <td>NaN</td>\n      <td>NaN</td>\n      <td>NaN</td>\n      <td>NaN</td>\n      <td>NaN</td>\n      <td>NaN</td>\n      <td>NaN</td>\n    </tr>\n    <tr>\n      <th>26</th>\n      <td>260</td>\n      <td>eng</td>\n      <td>[5,10,15]</td>\n      <td>1</td>\n      <td>NaN</td>\n      <td>NaN</td>\n      <td>NaN</td>\n      <td>NaN</td>\n      <td>NaN</td>\n      <td>NaN</td>\n      <td>...</td>\n      <td>NaN</td>\n      <td>NaN</td>\n      <td>NaN</td>\n      <td>NaN</td>\n      <td>NaN</td>\n      <td>NaN</td>\n      <td>NaN</td>\n      <td>NaN</td>\n      <td>NaN</td>\n      <td>NaN</td>\n    </tr>\n    <tr>\n      <th>27</th>\n      <td>264</td>\n      <td>ger</td>\n      <td>[5, 10,15]</td>\n      <td>1</td>\n      <td>NaN</td>\n      <td>NaN</td>\n      <td>NaN</td>\n      <td>NaN</td>\n      <td>NaN</td>\n      <td>NaN</td>\n      <td>...</td>\n      <td>NaN</td>\n      <td>140-14 151-38 149-122</td>\n      <td>1299 2132 5869</td>\n      <td>NaN</td>\n      <td>NaN</td>\n      <td>NaN</td>\n      <td>NaN</td>\n      <td>NaN</td>\n      <td>NaN</td>\n      <td>NaN</td>\n    </tr>\n    <tr>\n      <th>28</th>\n      <td>271</td>\n      <td>ger</td>\n      <td>NaN</td>\n      <td>NaN</td>\n      <td>NaN</td>\n      <td>NaN</td>\n      <td>NaN</td>\n      <td>NaN</td>\n      <td>NaN</td>\n      <td>NaN</td>\n      <td>...</td>\n      <td>NaN</td>\n      <td>NaN</td>\n      <td>NaN</td>\n      <td>NaN</td>\n      <td>NaN</td>\n      <td>NaN</td>\n      <td>NaN</td>\n      <td>NaN</td>\n      <td>NaN</td>\n      <td>NaN</td>\n    </tr>\n    <tr>\n      <th>29</th>\n      <td>272</td>\n      <td>ger</td>\n      <td>5, 10, 15</td>\n      <td>1</td>\n      <td>\"[2, 6, 12]\"</td>\n      <td>1</td>\n      <td>NaN</td>\n      <td>NaN</td>\n      <td>NaN</td>\n      <td>NaN</td>\n      <td>...</td>\n      <td>2219 6740 15907 55735 56967 61524</td>\n      <td>NaN</td>\n      <td>NaN</td>\n      <td>NaN</td>\n      <td>NaN</td>\n      <td>NaN</td>\n      <td>NaN</td>\n      <td>NaN</td>\n      <td>NaN</td>\n      <td>NaN</td>\n    </tr>\n    <tr>\n      <th>30</th>\n      <td>282</td>\n      <td>ger</td>\n      <td>5, 10, 15</td>\n      <td>1</td>\n      <td>NaN</td>\n      <td>NaN</td>\n      <td>NaN</td>\n      <td>NaN</td>\n      <td>NaN</td>\n      <td>NaN</td>\n      <td>...</td>\n      <td>NaN</td>\n      <td>NaN</td>\n      <td>NaN</td>\n      <td>NaN</td>\n      <td>NaN</td>\n      <td>167-1317 103-1661 136-1657 55-1058 111-1071 11...</td>\n      <td>20027 33572 34568 40528 41850 43780 45431 4717...</td>\n      <td>44-20 76-859 91-874 112-899 94-927 94-948 111-...</td>\n      <td>12158 14405 16977 17974 18887 19690 20781 2156...</td>\n      <td>NaN</td>\n    </tr>\n    <tr>\n      <th>31</th>\n      <td>294</td>\n      <td>ger</td>\n      <td>[5, 10, 15]</td>\n      <td>1</td>\n      <td>NaN</td>\n      <td>NaN</td>\n      <td>42</td>\n      <td>1</td>\n      <td>NaN</td>\n      <td>NaN</td>\n      <td>...</td>\n      <td>NaN</td>\n      <td>161-19 167-40 162-119</td>\n      <td>3506 4026 7633</td>\n      <td>NaN</td>\n      <td>NaN</td>\n      <td>NaN</td>\n      <td>NaN</td>\n      <td>NaN</td>\n      <td>NaN</td>\n      <td>NaN</td>\n    </tr>\n    <tr>\n      <th>32</th>\n      <td>295</td>\n      <td>ger</td>\n      <td>[5, 10, 15]</td>\n      <td>1</td>\n      <td>NaN</td>\n      <td>NaN</td>\n      <td>NaN</td>\n      <td>NaN</td>\n      <td>2</td>\n      <td>1</td>\n      <td>...</td>\n      <td>NaN</td>\n      <td>NaN</td>\n      <td>NaN</td>\n      <td>87-19 87-37 137-94 151-120 153-148 158-177 166...</td>\n      <td>3552 4312 5027 5563 6205 6864 7614 8682 10719 ...</td>\n      <td>NaN</td>\n      <td>NaN</td>\n      <td>NaN</td>\n      <td>NaN</td>\n      <td>NaN</td>\n    </tr>\n    <tr>\n      <th>33</th>\n      <td>296</td>\n      <td>ger</td>\n      <td>[5, 10, 15]</td>\n      <td>1</td>\n      <td>16</td>\n      <td>1</td>\n      <td>NaN</td>\n      <td>NaN</td>\n      <td>NaN</td>\n      <td>NaN</td>\n      <td>...</td>\n      <td>NaN</td>\n      <td>NaN</td>\n      <td>NaN</td>\n      <td>NaN</td>\n      <td>NaN</td>\n      <td>NaN</td>\n      <td>NaN</td>\n      <td>NaN</td>\n      <td>NaN</td>\n      <td>NaN</td>\n    </tr>\n    <tr>\n      <th>34</th>\n      <td>297</td>\n      <td>ger</td>\n      <td>[5, 10, 15]</td>\n      <td>1</td>\n      <td>NaN</td>\n      <td>NaN</td>\n      <td>NaN</td>\n      <td>NaN</td>\n      <td>NaN</td>\n      <td>NaN</td>\n      <td>...</td>\n      <td>NaN</td>\n      <td>NaN</td>\n      <td>NaN</td>\n      <td>NaN</td>\n      <td>NaN</td>\n      <td>NaN</td>\n      <td>NaN</td>\n      <td>80-9 90-33 88-125 103-146 109-170 114-194 103-...</td>\n      <td>3545 4213 6711 7143 7700 8598 9962 10333 11843...</td>\n      <td>NaN</td>\n    </tr>\n    <tr>\n      <th>35</th>\n      <td>298</td>\n      <td>ger</td>\n      <td>[5,10,15]</td>\n      <td>1</td>\n      <td>NaN</td>\n      <td>NaN</td>\n      <td>NaN</td>\n      <td>NaN</td>\n      <td>NaN</td>\n      <td>NaN</td>\n      <td>...</td>\n      <td>NaN</td>\n      <td>NaN</td>\n      <td>NaN</td>\n      <td>NaN</td>\n      <td>NaN</td>\n      <td>NaN</td>\n      <td>NaN</td>\n      <td>NaN</td>\n      <td>NaN</td>\n      <td>NaN</td>\n    </tr>\n    <tr>\n      <th>36</th>\n      <td>302</td>\n      <td>ger</td>\n      <td>[5, 10, 15]</td>\n      <td>1</td>\n      <td>[2, 6, 12]</td>\n      <td>1</td>\n      <td>NaN</td>\n      <td>2</td>\n      <td>-1 -1 3 -1 -1</td>\n      <td>1</td>\n      <td>...</td>\n      <td>1650 4617 5486 6885 10436 10960 17578 18256 18849</td>\n      <td>NaN</td>\n      <td>NaN</td>\n      <td>71-478 80-503 84-518 86-520 85-541 84-553 84-5...</td>\n      <td>8527 9667 11259 12418 12824 13301 13704 20024 ...</td>\n      <td>NaN</td>\n      <td>NaN</td>\n      <td>NaN</td>\n      <td>NaN</td>\n      <td>NaN</td>\n    </tr>\n    <tr>\n      <th>37</th>\n      <td>306</td>\n      <td>ger</td>\n      <td>[5,10, 15]</td>\n      <td>1</td>\n      <td>NaN</td>\n      <td>NaN</td>\n      <td>NaN</td>\n      <td>NaN</td>\n      <td>NaN</td>\n      <td>NaN</td>\n      <td>...</td>\n      <td>NaN</td>\n      <td>NaN</td>\n      <td>NaN</td>\n      <td>NaN</td>\n      <td>NaN</td>\n      <td>NaN</td>\n      <td>NaN</td>\n      <td>NaN</td>\n      <td>NaN</td>\n      <td>NaN</td>\n    </tr>\n    <tr>\n      <th>38</th>\n      <td>307</td>\n      <td>ger</td>\n      <td>[5, 10, 15]</td>\n      <td>1</td>\n      <td>NaN</td>\n      <td>NaN</td>\n      <td>16</td>\n      <td>1</td>\n      <td>NaN</td>\n      <td>NaN</td>\n      <td>...</td>\n      <td>NaN</td>\n      <td>NaN</td>\n      <td>NaN</td>\n      <td>NaN</td>\n      <td>NaN</td>\n      <td>NaN</td>\n      <td>NaN</td>\n      <td>NaN</td>\n      <td>NaN</td>\n      <td>NaN</td>\n    </tr>\n    <tr>\n      <th>39</th>\n      <td>308</td>\n      <td>ger</td>\n      <td>[5, 10, 15]</td>\n      <td>1</td>\n      <td>NaN</td>\n      <td>NaN</td>\n      <td>NaN</td>\n      <td>NaN</td>\n      <td>NaN</td>\n      <td>NaN</td>\n      <td>...</td>\n      <td>NaN</td>\n      <td>NaN</td>\n      <td>NaN</td>\n      <td>NaN</td>\n      <td>NaN</td>\n      <td>NaN</td>\n      <td>NaN</td>\n      <td>NaN</td>\n      <td>NaN</td>\n      <td>NaN</td>\n    </tr>\n    <tr>\n      <th>40</th>\n      <td>309</td>\n      <td>ger</td>\n      <td>[5, 10, 15]</td>\n      <td>1</td>\n      <td>NaN</td>\n      <td>NaN</td>\n      <td>NaN</td>\n      <td>NaN</td>\n      <td>NaN</td>\n      <td>NaN</td>\n      <td>...</td>\n      <td>12024 12787 13740 17094 18472 24338 25925</td>\n      <td>66-12 82-43 97-66 116-92 116-146 138-172 153-2...</td>\n      <td>2799 4515 5251 5685 6340 6682 7682 8416 11200 ...</td>\n      <td>NaN</td>\n      <td>NaN</td>\n      <td>NaN</td>\n      <td>NaN</td>\n      <td>78-15 80-37 81-117 109-146 106-170 106-192 114...</td>\n      <td>3924 4856 5841 6974 7497 8040 10490 11359 1325...</td>\n      <td>NaN</td>\n    </tr>\n    <tr>\n      <th>41</th>\n      <td>313</td>\n      <td>ger</td>\n      <td>[5, 10, 15]</td>\n      <td>1</td>\n      <td>NaN</td>\n      <td>NaN</td>\n      <td>NaN</td>\n      <td>NaN</td>\n      <td>2</td>\n      <td>1</td>\n      <td>...</td>\n      <td>NaN</td>\n      <td>NaN</td>\n      <td>NaN</td>\n      <td>NaN</td>\n      <td>NaN</td>\n      <td>NaN</td>\n      <td>NaN</td>\n      <td>NaN</td>\n      <td>NaN</td>\n      <td>NaN</td>\n    </tr>\n    <tr>\n      <th>42</th>\n      <td>314</td>\n      <td>ger</td>\n      <td>[5, 10, 15]</td>\n      <td>1</td>\n      <td>[2, 6, 12]</td>\n      <td>1</td>\n      <td>NaN</td>\n      <td>NaN</td>\n      <td>NaN</td>\n      <td>NaN</td>\n      <td>...</td>\n      <td>NaN</td>\n      <td>NaN</td>\n      <td>NaN</td>\n      <td>85-42 130-94 136-121 140-144 144-176 146-204 1...</td>\n      <td>4117 4833 5226 5944 6455 7000 7625 8584 8876 1...</td>\n      <td>83-12 142-177 144-203 146-222 151-245 154-273 ...</td>\n      <td>3442 5075 5562 6047 6690 7206 7808 9023 9908 1...</td>\n      <td>NaN</td>\n      <td>NaN</td>\n      <td>NaN</td>\n    </tr>\n    <tr>\n      <th>43</th>\n      <td>315</td>\n      <td>ger</td>\n      <td>[5, 10, 15]</td>\n      <td>1</td>\n      <td>NaN</td>\n      <td>NaN</td>\n      <td>42</td>\n      <td>1</td>\n      <td>NaN</td>\n      <td>NaN</td>\n      <td>...</td>\n      <td>NaN</td>\n      <td>NaN</td>\n      <td>NaN</td>\n      <td>NaN</td>\n      <td>NaN</td>\n      <td>NaN</td>\n      <td>NaN</td>\n      <td>82-120 102-669 301-689 98-713 110-171 112-192 ...</td>\n      <td>5602 8135 9452 16605 18846 19738 21055 21586 2...</td>\n      <td>NaN</td>\n    </tr>\n    <tr>\n      <th>44</th>\n      <td>316</td>\n      <td>ger</td>\n      <td>[5, 10, 15]</td>\n      <td>1</td>\n      <td>[2, 6, 12]</td>\n      <td>1</td>\n      <td>NaN</td>\n      <td>NaN</td>\n      <td>[2]</td>\n      <td>1</td>\n      <td>...</td>\n      <td>NaN</td>\n      <td>NaN</td>\n      <td>NaN</td>\n      <td>NaN</td>\n      <td>NaN</td>\n      <td>109-14 78-89 70-122 121-172 130-353 156-376 13...</td>\n      <td>4301 5284 6509 9252 11409 12384 13764 14355 16...</td>\n      <td>NaN</td>\n      <td>NaN</td>\n      <td>NaN</td>\n    </tr>\n    <tr>\n      <th>45</th>\n      <td>317</td>\n      <td>eng</td>\n      <td>[5, 10, 15]</td>\n      <td>1</td>\n      <td>NaN</td>\n      <td>NaN</td>\n      <td>NaN</td>\n      <td>NaN</td>\n      <td>NaN</td>\n      <td>NaN</td>\n      <td>...</td>\n      <td>NaN</td>\n      <td>NaN</td>\n      <td>NaN</td>\n      <td>NaN</td>\n      <td>NaN</td>\n      <td>NaN</td>\n      <td>NaN</td>\n      <td>NaN</td>\n      <td>NaN</td>\n      <td>NaN</td>\n    </tr>\n    <tr>\n      <th>46</th>\n      <td>318</td>\n      <td>ger</td>\n      <td>[5, 10, 15]</td>\n      <td>1</td>\n      <td>NaN</td>\n      <td>NaN</td>\n      <td>NaN</td>\n      <td>NaN</td>\n      <td>NaN</td>\n      <td>NaN</td>\n      <td>...</td>\n      <td>NaN</td>\n      <td>NaN</td>\n      <td>NaN</td>\n      <td>NaN</td>\n      <td>NaN</td>\n      <td>NaN</td>\n      <td>NaN</td>\n      <td>NaN</td>\n      <td>NaN</td>\n      <td>NaN</td>\n    </tr>\n    <tr>\n      <th>47</th>\n      <td>319</td>\n      <td>ger</td>\n      <td>[5, 10, 15]</td>\n      <td>1</td>\n      <td>NaN</td>\n      <td>NaN</td>\n      <td>NaN</td>\n      <td>NaN</td>\n      <td>NaN</td>\n      <td>NaN</td>\n      <td>...</td>\n      <td>NaN</td>\n      <td>NaN</td>\n      <td>NaN</td>\n      <td>109-17 147-89 149-118 151-144 151-171 156-198 ...</td>\n      <td>4624 5607 6237 6691 7164 7591 7956 8491 9128 1...</td>\n      <td>NaN</td>\n      <td>NaN</td>\n      <td>NaN</td>\n      <td>NaN</td>\n      <td>NaN</td>\n    </tr>\n    <tr>\n      <th>48</th>\n      <td>320</td>\n      <td>ger</td>\n      <td>[5, 10, 15]</td>\n      <td>1</td>\n      <td>NaN</td>\n      <td>NaN</td>\n      <td>NaN</td>\n      <td>NaN</td>\n      <td>NaN</td>\n      <td>NaN</td>\n      <td>...</td>\n      <td>2891 3706 4408 19583 20336 24864 25813 28782 3...</td>\n      <td>NaN</td>\n      <td>NaN</td>\n      <td>94-21 96-42 134-88 145-122 146-141 150-170 153...</td>\n      <td>4186 4918 5406 6007 6445 7434 8443 9723 11707 ...</td>\n      <td>NaN</td>\n      <td>NaN</td>\n      <td>NaN</td>\n      <td>NaN</td>\n      <td>NaN</td>\n    </tr>\n  </tbody>\n</table>\n<p>48 rows × 234 columns</p>\n</div>"
     },
     "execution_count": 5,
     "metadata": {},
     "output_type": "execute_result"
    }
   ],
   "source": [
    "df_raw"
   ],
   "metadata": {
    "collapsed": false,
    "pycharm": {
     "name": "#%%\n"
    }
   }
  },
  {
   "cell_type": "markdown",
   "source": [
    "### Transform the Dataframe to hold the algorithm name, the correctness, and response time, the click data and the time data"
   ],
   "metadata": {
    "collapsed": false,
    "pycharm": {
     "name": "#%% md\n"
    }
   }
  },
  {
   "cell_type": "code",
   "execution_count": 6,
   "metadata": {
    "pycharm": {
     "name": "#%%\n"
    }
   },
   "outputs": [],
   "source": [
    "config_prefix = [\"IT\", \"RE\", \"HO\", \"LC\"]\n",
    "config_prefix_variable = [\"IV\", \"RV\", \"HV\", \"LV\"]\n",
    "\n",
    "config_id_variable = \"CASE\"\n",
    "\n",
    "config_algo_names = [\n",
    "    \"apply\",\n",
    "    \"condition\",\n",
    "    \"find\",\n",
    "    \"is_prime\",\n",
    "    \"max\",\n",
    "    \"node\",\n",
    "    \"prime_factors\",\n",
    "    \"quad_mul\",\n",
    "    \"students\",\n",
    "    \"computer\",\n",
    "    \"store\",\n",
    "    \"LinkedList\",\n",
    "]\n",
    "\n",
    "config_answer_variables = [\n",
    "    [[prefix + str(x).zfill(2) + \"_01\", prefix + str(x).zfill(2) + \"_01a\"] for x in range(15, 27)]\n",
    "    for prefix in config_prefix\n",
    "]\n",
    "\n",
    "config_click_variables = [[prefix + str(x).zfill(2) + \"_01\" for x in range(2, 14)] for prefix in config_prefix_variable]\n",
    "\n",
    "config_time_variables = [[prefix + str(x).zfill(2) + \"_02\" for x in range(2, 14)] for prefix in config_prefix_variable]\n",
    "\n",
    "\n",
    "config_answer_patterns = [\n",
    "    '^\"?\\[2,\\s?6,\\s?12\\]\"?$',\n",
    "    '^\"?42\"?$',\n",
    "    '^\"?\\[?2\\]?\"?$',\n",
    "    '^\"?(True|true)\"?$',\n",
    "    '^\"?5\"?$',\n",
    "    '^\"?36\"?$',\n",
    "    '^\"?\\[2,\\s?3\\]\"?$',\n",
    "    '^\"?36\"?$',\n",
    "    '^\"?(\\[\"Jasmin\",\\s?\"Florian\"\\]|\\[Jasmin,\\s?Florian\\])\"?$',\n",
    "    '^\"?\\[1,\\s?5\\]\"?$',\n",
    "    '^\"?\\[0,\\s?3\\]\"?$',\n",
    "    '^\"?16\"?$',\n",
    "]"
   ]
  },
  {
   "cell_type": "code",
   "execution_count": 7,
   "metadata": {
    "pycharm": {
     "name": "#%%\n"
    }
   },
   "outputs": [],
   "source": [
    "df_matrix = []\n",
    "\n",
    "# load data\n",
    "for algo_idx, _stuff in enumerate(config_algo_names):\n",
    "    df_array = []\n",
    "    for detail_idx, _stuff in enumerate(config_prefix_variable):\n",
    "        df = pd.DataFrame(\n",
    "            df_raw,\n",
    "            columns=[\n",
    "                config_id_variable,\n",
    "                config_answer_variables[detail_idx][algo_idx][0],\n",
    "                config_answer_variables[detail_idx][algo_idx][1],\n",
    "                config_click_variables[detail_idx][algo_idx],\n",
    "                config_time_variables[detail_idx][algo_idx],\n",
    "            ],\n",
    "        )\n",
    "        df = df.dropna(subset=config_answer_variables[detail_idx][algo_idx], how=\"all\")\n",
    "        df_array.append(df)\n",
    "    df_matrix.append(df_array)"
   ]
  },
  {
   "cell_type": "code",
   "execution_count": 8,
   "metadata": {
    "pycharm": {
     "name": "#%%\n"
    }
   },
   "outputs": [],
   "source": [
    "cols = [\"id\", \"algo_name\", \"answer\", \"correctness\", \"click_data\", \"time_data\"]\n",
    "\n",
    "df_IT = pd.DataFrame(columns=cols)\n",
    "df_RE = pd.DataFrame(columns=cols)\n",
    "df_HO = pd.DataFrame(columns=cols)\n",
    "df_LC = pd.DataFrame(columns=cols)\n",
    "\n",
    "for algo_idx, df_row in enumerate(df_matrix):\n",
    "    algo_name = config_algo_names[algo_idx]\n",
    "    pattern = config_answer_patterns[algo_idx]\n",
    "    regex = re.compile(pattern)\n",
    "    for detail_idx, df in enumerate(df_row):\n",
    "\n",
    "        for index, row in df.iterrows():\n",
    "            id_value = row[\"CASE\"]\n",
    "            algo_name = config_algo_names[algo_idx]\n",
    "            answer = row[config_answer_variables[detail_idx][algo_idx]]\n",
    "            click_data = row[config_click_variables[detail_idx][algo_idx]]\n",
    "            time_data = row[config_time_variables[detail_idx][algo_idx]]\n",
    "\n",
    "            result = regex.match(str(answer.iloc[0]))\n",
    "            correctness = False\n",
    "\n",
    "            if result is not None:\n",
    "                correctness = True\n",
    "\n",
    "            data = pd.DataFrame(\n",
    "                [[id_value, algo_name, str(answer.iloc[0]), correctness, click_data, time_data]], columns=cols\n",
    "            )\n",
    "\n",
    "            if detail_idx == 0:\n",
    "                df_IT = df_IT.append(data)\n",
    "            elif detail_idx == 1:\n",
    "                df_RE = df_RE.append(data)\n",
    "            elif detail_idx == 2:\n",
    "                df_HO = df_HO.append(data)\n",
    "            else:\n",
    "                df_LC = df_LC.append(data)"
   ]
  },
  {
   "cell_type": "code",
   "execution_count": 9,
   "metadata": {
    "pycharm": {
     "name": "#%%\n"
    }
   },
   "outputs": [],
   "source": [
    "df_array_independent = [df_IT, df_RE, df_HO, df_LC]"
   ]
  },
  {
   "cell_type": "code",
   "execution_count": 10,
   "metadata": {
    "pycharm": {
     "name": "#%%\n"
    }
   },
   "outputs": [],
   "source": [
    "cols = [\"ID\", \"ProgrammingStyle\", \"Algorithm\", \"ResponseTime\", \"Correctness\", \"ClickData\", \"TimeData\"]\n",
    "\n",
    "\n",
    "def fill(list_data, dataframe, programming_style):\n",
    "    for idx, row in dataframe.iterrows():\n",
    "        id = row[\"id\"]\n",
    "        algorithm = row[\"algo_name\"]\n",
    "        response_time = 0\n",
    "        for i in str(row[\"time_data\"]).split(\" \"):\n",
    "            try:\n",
    "                response_time = int(i)\n",
    "            except:\n",
    "                continue\n",
    "        correctness = row[\"correctness\"]\n",
    "        click_data = row[\"click_data\"]\n",
    "        time_data = row[\"time_data\"]\n",
    "\n",
    "        list_data.append([id, programming_style, algorithm, response_time, correctness, click_data, time_data])\n",
    "\n",
    "\n",
    "data = []\n",
    "fill(data, df_IT, \"iterative\")\n",
    "fill(data, df_RE, \"recursive\")\n",
    "fill(data, df_HO, \"higher-order\")\n",
    "fill(data, df_LC, \"list-comprehension\")\n",
    "df = pd.DataFrame(data, columns=cols)\n",
    "df.loc[(df[\"Algorithm\"] == 'condition'),'Algorithm']='condition_sum'\n",
    "df.to_csv(\"./data/preprocessed_experiment_data.csv\", index=False)"
   ]
  },
  {
   "cell_type": "code",
   "execution_count": 11,
   "outputs": [
    {
     "data": {
      "text/plain": "      ID    ProgrammingStyle   Algorithm  ResponseTime  Correctness  \\\n0    212           iterative       apply         66794        False   \n1    245           iterative       apply         21078         True   \n2    272           iterative       apply         81561         True   \n3    296           iterative       apply         22825        False   \n4    302           iterative       apply         20310         True   \n..   ...                 ...         ...           ...          ...   \n324  252  list-comprehension  LinkedList         47933         True   \n325  282  list-comprehension  LinkedList        349729        False   \n326  297  list-comprehension  LinkedList         48782         True   \n327  309  list-comprehension  LinkedList         55439        False   \n328  315  list-comprehension  LinkedList         41878         True   \n\n                                             ClickData  \\\n0    268-191 151-70 151-70 146-89 135-12 135-65 120...   \n1    156-17 174-195 129-44 131-62 141-93 141-114 14...   \n2                         188-192 104-34 132-69 149-89   \n3    160-195 122-115 148-9 138-34 140-60 132-94 153...   \n4    69-204 84-191 150-197 254-200 183-14 85-36 95-...   \n..                                                 ...   \n324  110-12 118-37 101-117 126-142 134-170 137-190 ...   \n325  44-20 76-859 91-874 112-899 94-927 94-948 111-...   \n326  80-9 90-33 88-125 103-146 109-170 114-194 103-...   \n327  78-15 80-37 81-117 109-146 106-170 106-192 114...   \n328  82-120 102-669 301-689 98-713 110-171 112-192 ...   \n\n                                              TimeData  \n0      10105 34435 35005 39192 47146 56587 61358 66794  \n1              1123 3472 14145 14878 16035 19911 21078  \n2                              16519 78023 79043 81561  \n3       4194 11386 13568 14369 15567 17215 21808 22825  \n4     4193 5008 5850 6351 8856 10441 11790 13309 20310  \n..                                                 ...  \n324  3853 4218 8660 9020 9434 9893 11026 11335 1200...  \n325  12158 14405 16977 17974 18887 19690 20781 2156...  \n326  3545 4213 6711 7143 7700 8598 9962 10333 11843...  \n327  3924 4856 5841 6974 7497 8040 10490 11359 1325...  \n328  5602 8135 9452 16605 18846 19738 21055 21586 2...  \n\n[329 rows x 7 columns]",
      "text/html": "<div>\n<style scoped>\n    .dataframe tbody tr th:only-of-type {\n        vertical-align: middle;\n    }\n\n    .dataframe tbody tr th {\n        vertical-align: top;\n    }\n\n    .dataframe thead th {\n        text-align: right;\n    }\n</style>\n<table border=\"1\" class=\"dataframe\">\n  <thead>\n    <tr style=\"text-align: right;\">\n      <th></th>\n      <th>ID</th>\n      <th>ProgrammingStyle</th>\n      <th>Algorithm</th>\n      <th>ResponseTime</th>\n      <th>Correctness</th>\n      <th>ClickData</th>\n      <th>TimeData</th>\n    </tr>\n  </thead>\n  <tbody>\n    <tr>\n      <th>0</th>\n      <td>212</td>\n      <td>iterative</td>\n      <td>apply</td>\n      <td>66794</td>\n      <td>False</td>\n      <td>268-191 151-70 151-70 146-89 135-12 135-65 120...</td>\n      <td>10105 34435 35005 39192 47146 56587 61358 66794</td>\n    </tr>\n    <tr>\n      <th>1</th>\n      <td>245</td>\n      <td>iterative</td>\n      <td>apply</td>\n      <td>21078</td>\n      <td>True</td>\n      <td>156-17 174-195 129-44 131-62 141-93 141-114 14...</td>\n      <td>1123 3472 14145 14878 16035 19911 21078</td>\n    </tr>\n    <tr>\n      <th>2</th>\n      <td>272</td>\n      <td>iterative</td>\n      <td>apply</td>\n      <td>81561</td>\n      <td>True</td>\n      <td>188-192 104-34 132-69 149-89</td>\n      <td>16519 78023 79043 81561</td>\n    </tr>\n    <tr>\n      <th>3</th>\n      <td>296</td>\n      <td>iterative</td>\n      <td>apply</td>\n      <td>22825</td>\n      <td>False</td>\n      <td>160-195 122-115 148-9 138-34 140-60 132-94 153...</td>\n      <td>4194 11386 13568 14369 15567 17215 21808 22825</td>\n    </tr>\n    <tr>\n      <th>4</th>\n      <td>302</td>\n      <td>iterative</td>\n      <td>apply</td>\n      <td>20310</td>\n      <td>True</td>\n      <td>69-204 84-191 150-197 254-200 183-14 85-36 95-...</td>\n      <td>4193 5008 5850 6351 8856 10441 11790 13309 20310</td>\n    </tr>\n    <tr>\n      <th>...</th>\n      <td>...</td>\n      <td>...</td>\n      <td>...</td>\n      <td>...</td>\n      <td>...</td>\n      <td>...</td>\n      <td>...</td>\n    </tr>\n    <tr>\n      <th>324</th>\n      <td>252</td>\n      <td>list-comprehension</td>\n      <td>LinkedList</td>\n      <td>47933</td>\n      <td>True</td>\n      <td>110-12 118-37 101-117 126-142 134-170 137-190 ...</td>\n      <td>3853 4218 8660 9020 9434 9893 11026 11335 1200...</td>\n    </tr>\n    <tr>\n      <th>325</th>\n      <td>282</td>\n      <td>list-comprehension</td>\n      <td>LinkedList</td>\n      <td>349729</td>\n      <td>False</td>\n      <td>44-20 76-859 91-874 112-899 94-927 94-948 111-...</td>\n      <td>12158 14405 16977 17974 18887 19690 20781 2156...</td>\n    </tr>\n    <tr>\n      <th>326</th>\n      <td>297</td>\n      <td>list-comprehension</td>\n      <td>LinkedList</td>\n      <td>48782</td>\n      <td>True</td>\n      <td>80-9 90-33 88-125 103-146 109-170 114-194 103-...</td>\n      <td>3545 4213 6711 7143 7700 8598 9962 10333 11843...</td>\n    </tr>\n    <tr>\n      <th>327</th>\n      <td>309</td>\n      <td>list-comprehension</td>\n      <td>LinkedList</td>\n      <td>55439</td>\n      <td>False</td>\n      <td>78-15 80-37 81-117 109-146 106-170 106-192 114...</td>\n      <td>3924 4856 5841 6974 7497 8040 10490 11359 1325...</td>\n    </tr>\n    <tr>\n      <th>328</th>\n      <td>315</td>\n      <td>list-comprehension</td>\n      <td>LinkedList</td>\n      <td>41878</td>\n      <td>True</td>\n      <td>82-120 102-669 301-689 98-713 110-171 112-192 ...</td>\n      <td>5602 8135 9452 16605 18846 19738 21055 21586 2...</td>\n    </tr>\n  </tbody>\n</table>\n<p>329 rows × 7 columns</p>\n</div>"
     },
     "execution_count": 11,
     "metadata": {},
     "output_type": "execute_result"
    }
   ],
   "source": [
    "df"
   ],
   "metadata": {
    "collapsed": false,
    "pycharm": {
     "name": "#%%\n"
    }
   }
  },
  {
   "cell_type": "code",
   "execution_count": 11,
   "outputs": [],
   "source": [],
   "metadata": {
    "collapsed": false,
    "pycharm": {
     "name": "#%%\n"
    }
   }
  }
 ],
 "metadata": {
  "kernelspec": {
   "display_name": "Python 3",
   "language": "python",
   "name": "python3"
  },
  "language_info": {
   "codemirror_mode": {
    "name": "ipython",
    "version": 3
   },
   "file_extension": ".py",
   "mimetype": "text/x-python",
   "name": "python",
   "nbconvert_exporter": "python",
   "pygments_lexer": "ipython3",
   "version": "3.8.8"
  }
 },
 "nbformat": 4,
 "nbformat_minor": 4
}