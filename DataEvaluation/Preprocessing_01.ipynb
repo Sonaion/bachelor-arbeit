{
 "cells": [
  {
   "cell_type": "markdown",
   "source": [
    "# Preprocessing 01\n",
    "---\n",
    "## Read Out the Data from SoSciSurvey and save it in a better format"
   ],
   "metadata": {
    "collapsed": false,
    "pycharm": {
     "name": "#%% md\n"
    }
   }
  },
  {
   "cell_type": "code",
   "execution_count": null,
   "outputs": [],
   "source": [
    "import re\n",
    "import pandas as pd\n",
    "\n",
    "pd.set_option('mode.chained_assignment', None)"
   ],
   "metadata": {
    "collapsed": false,
    "pycharm": {
     "name": "#%%\n",
     "is_executing": true
    }
   }
  },
  {
   "cell_type": "markdown",
   "source": [
    "### Read in the Data"
   ],
   "metadata": {
    "collapsed": false,
    "pycharm": {
     "name": "#%% md\n"
    }
   }
  },
  {
   "cell_type": "code",
   "execution_count": null,
   "metadata": {},
   "outputs": [],
   "source": [
    "df_raw = pd.read_excel(\"./data/data_hir.xlsx\")\n",
    "df_raw = df_raw.drop(0)"
   ]
  },
  {
   "cell_type": "markdown",
   "source": [
    "### Drop 'useless' rows and columns"
   ],
   "metadata": {
    "collapsed": false,
    "pycharm": {
     "name": "#%% md\n"
    }
   }
  },
  {
   "cell_type": "code",
   "execution_count": null,
   "outputs": [],
   "source": [
    "df_raw = df_raw.drop(columns=['SERIAL', 'REF', 'QUESTNNR', 'MODE', 'MAILSENT', 'TIME_SUM', 'Q_VIEWER', 'LASTPAGE', 'MAXPAGE', 'MISSING', 'MISSREL', 'TIME_RSI', 'DEG_TIME', 'FINISHED'])\n",
    "# remove time columns\n",
    "df_raw = df_raw.drop(columns=['TIME001', 'TIME002', 'TIME004', 'TIME005', 'TIME006', 'TIME007', 'TIME008', 'TIME009', 'TIME010', 'TIME011', 'TIME012', 'TIME013', 'TIME014', 'TIME015', 'TIME016', 'TIME017', 'TIME018', 'TIME019', 'TIME020', 'TIME021', 'TIME022', 'TIME024', 'TIME026', 'TIME028', 'TIME030', 'TIME032', 'TIME034'])"
   ],
   "metadata": {
    "collapsed": false,
    "pycharm": {
     "name": "#%%\n"
    }
   }
  },
  {
   "cell_type": "code",
   "execution_count": null,
   "outputs": [],
   "source": [
    "df_raw.to_csv(\"./data/preprocessed_total_data.csv\", index=False)"
   ],
   "metadata": {
    "collapsed": false,
    "pycharm": {
     "name": "#%%\n"
    }
   }
  },
  {
   "cell_type": "code",
   "execution_count": null,
   "outputs": [],
   "source": [
    "df_raw"
   ],
   "metadata": {
    "collapsed": false,
    "pycharm": {
     "name": "#%%\n"
    }
   }
  },
  {
   "cell_type": "markdown",
   "source": [
    "### Transform the Dataframe to hold the algorithm name, the correctness, and response time, the click data and the time data"
   ],
   "metadata": {
    "collapsed": false,
    "pycharm": {
     "name": "#%% md\n"
    }
   }
  },
  {
   "cell_type": "code",
   "execution_count": null,
   "metadata": {},
   "outputs": [],
   "source": [
    "config_prefix = [\"IT\", \"RE\", \"HO\", \"LC\"]\n",
    "config_prefix_variable = [\"IV\", \"RV\", \"HV\", \"LV\"]\n",
    "\n",
    "config_id_variable = \"CASE\"\n",
    "\n",
    "config_algo_names = [\n",
    "    \"apply\",\n",
    "    \"condition\",\n",
    "    \"find\",\n",
    "    \"is_prime\",\n",
    "    \"max\",\n",
    "    \"node\",\n",
    "    \"prime_factors\",\n",
    "    \"quad_mul\",\n",
    "    \"students\",\n",
    "    \"computer\",\n",
    "    \"store\",\n",
    "    \"LinkedList\",\n",
    "]\n",
    "\n",
    "config_answer_variables = [\n",
    "    [[prefix + str(x).zfill(2) + \"_01\", prefix + str(x).zfill(2) + \"_01a\"] for x in range(15, 27)]\n",
    "    for prefix in config_prefix\n",
    "]\n",
    "\n",
    "config_click_variables = [[prefix + str(x).zfill(2) + \"_01\" for x in range(2, 14)] for prefix in config_prefix_variable]\n",
    "\n",
    "config_time_variables = [[prefix + str(x).zfill(2) + \"_02\" for x in range(2, 14)] for prefix in config_prefix_variable]\n",
    "\n",
    "\n",
    "config_answer_patterns = [\n",
    "    '^\"?\\[2,\\s?6,\\s?12\\]\"?$',\n",
    "    '^\"?42\"?$',\n",
    "    '^\"?\\[?2\\]?\"?$',\n",
    "    '^\"?(True|true)\"?$',\n",
    "    '^\"?5\"?$',\n",
    "    '^\"?36\"?$',\n",
    "    '^\"?\\[2,\\s?3\\]\"?$',\n",
    "    '^\"?36\"?$',\n",
    "    '^\"?(\\[\"Jasmin\",\\s?\"Florian\"\\]|\\[Jasmin,\\s?Florian\\])\"?$',\n",
    "    '^\"?\\[1,\\s?5\\]\"?$',\n",
    "    '^\"?\\[0,\\s?3\\]\"?$',\n",
    "    '^\"?16\"?$',\n",
    "]"
   ]
  },
  {
   "cell_type": "code",
   "execution_count": null,
   "metadata": {},
   "outputs": [],
   "source": [
    "df_matrix = []\n",
    "\n",
    "# load data\n",
    "for algo_idx, _stuff in enumerate(config_algo_names):\n",
    "    df_array = []\n",
    "    for detail_idx, _stuff in enumerate(config_prefix_variable):\n",
    "        df = pd.DataFrame(\n",
    "            df_raw,\n",
    "            columns=[\n",
    "                config_id_variable,\n",
    "                config_answer_variables[detail_idx][algo_idx][0],\n",
    "                config_answer_variables[detail_idx][algo_idx][1],\n",
    "                config_click_variables[detail_idx][algo_idx],\n",
    "                config_time_variables[detail_idx][algo_idx],\n",
    "            ],\n",
    "        )\n",
    "        df = df.dropna(subset=config_answer_variables[detail_idx][algo_idx], how=\"all\")\n",
    "        df_array.append(df)\n",
    "    df_matrix.append(df_array)"
   ]
  },
  {
   "cell_type": "code",
   "execution_count": null,
   "metadata": {},
   "outputs": [],
   "source": [
    "cols = [\"id\", \"algo_name\", \"answer\", \"correctness\", \"click_data\", \"time_data\"]\n",
    "\n",
    "df_IT = pd.DataFrame(columns=cols)\n",
    "df_RE = pd.DataFrame(columns=cols)\n",
    "df_HO = pd.DataFrame(columns=cols)\n",
    "df_LC = pd.DataFrame(columns=cols)\n",
    "\n",
    "for algo_idx, df_row in enumerate(df_matrix):\n",
    "    algo_name = config_algo_names[algo_idx]\n",
    "    pattern = config_answer_patterns[algo_idx]\n",
    "    regex = re.compile(pattern)\n",
    "    for detail_idx, df in enumerate(df_row):\n",
    "\n",
    "        for index, row in df.iterrows():\n",
    "            id_value = row[\"CASE\"]\n",
    "            algo_name = config_algo_names[algo_idx]\n",
    "            answer = row[config_answer_variables[detail_idx][algo_idx]]\n",
    "            click_data = row[config_click_variables[detail_idx][algo_idx]]\n",
    "            time_data = row[config_time_variables[detail_idx][algo_idx]]\n",
    "\n",
    "            result = regex.match(str(answer.iloc[0]))\n",
    "            correctness = False\n",
    "\n",
    "            if result is not None:\n",
    "                correctness = True\n",
    "\n",
    "            data = pd.DataFrame(\n",
    "                [[id_value, algo_name, str(answer.iloc[0]), correctness, click_data, time_data]], columns=cols\n",
    "            )\n",
    "\n",
    "            if detail_idx == 0:\n",
    "                df_IT = df_IT.append(data)\n",
    "            elif detail_idx == 1:\n",
    "                df_RE = df_RE.append(data)\n",
    "            elif detail_idx == 2:\n",
    "                df_HO = df_HO.append(data)\n",
    "            else:\n",
    "                df_LC = df_LC.append(data)"
   ]
  },
  {
   "cell_type": "code",
   "execution_count": null,
   "metadata": {},
   "outputs": [],
   "source": [
    "df_array_independent = [df_IT, df_RE, df_HO, df_LC]"
   ]
  },
  {
   "cell_type": "code",
   "execution_count": null,
   "metadata": {
    "pycharm": {
     "name": "#%%\n"
    }
   },
   "outputs": [],
   "source": [
    "cols = [\"ID\", \"ProgrammingStyle\", \"Algorithm\", \"ResponseTime\", \"Correctness\", \"ClickData\", \"TimeData\"]\n",
    "\n",
    "\n",
    "def fill(list_data, dataframe, programming_style):\n",
    "    for idx, row in dataframe.iterrows():\n",
    "        id = row[\"id\"]\n",
    "        algorithm = row[\"algo_name\"]\n",
    "        response_time = 0\n",
    "        for i in str(row[\"time_data\"]).split(\" \"):\n",
    "            try:\n",
    "                response_time = int(i)\n",
    "            except:\n",
    "                continue\n",
    "        correctness = row[\"correctness\"]\n",
    "        click_data = row[\"click_data\"]\n",
    "        time_data = row[\"time_data\"]\n",
    "\n",
    "        list_data.append([id, programming_style, algorithm, response_time, correctness, click_data, time_data])\n",
    "\n",
    "\n",
    "data = []\n",
    "fill(data, df_IT, \"iterative\")\n",
    "fill(data, df_RE, \"recursive\")\n",
    "fill(data, df_HO, \"higher-order\")\n",
    "fill(data, df_LC, \"list-comprehension\")\n",
    "df = pd.DataFrame(data, columns=cols)\n",
    "df.loc[(df[\"Algorithm\"] == 'condition'),'Algorithm']='condition_sum'\n",
    "df.to_csv(\"./data/preprocessed_experiment_data.csv\", index=False)"
   ]
  },
  {
   "cell_type": "code",
   "execution_count": null,
   "outputs": [],
   "source": [
    "df"
   ],
   "metadata": {
    "collapsed": false,
    "pycharm": {
     "name": "#%%\n"
    }
   }
  },
  {
   "cell_type": "code",
   "execution_count": null,
   "outputs": [],
   "source": [],
   "metadata": {
    "collapsed": false,
    "pycharm": {
     "name": "#%%\n"
    }
   }
  }
 ],
 "metadata": {
  "kernelspec": {
   "display_name": "Python 3",
   "language": "python",
   "name": "python3"
  },
  "language_info": {
   "codemirror_mode": {
    "name": "ipython",
    "version": 3
   },
   "file_extension": ".py",
   "mimetype": "text/x-python",
   "name": "python",
   "nbconvert_exporter": "python",
   "pygments_lexer": "ipython3",
   "version": "3.8.8"
  }
 },
 "nbformat": 4,
 "nbformat_minor": 4
}