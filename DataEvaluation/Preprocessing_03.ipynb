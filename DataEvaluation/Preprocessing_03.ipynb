{
 "cells": [
  {
   "cell_type": "markdown",
   "metadata": {
    "collapsed": true,
    "pycharm": {
     "name": "#%% md\n"
    }
   },
   "source": [
    "# Confounding Factors\n",
    "---"
   ]
  },
  {
   "cell_type": "code",
   "execution_count": 2,
   "outputs": [],
   "source": [
    "import pandas as pd\n",
    "from tqdm.notebook import tqdm\n",
    "import os\n",
    "import seaborn as sns\n",
    "import matplotlib.pyplot as plt\n",
    "from radon.raw import analyze\n",
    "from radon.metrics import h_visit, mi_visit\n",
    "from radon.complexity import cc_visit\n",
    "import radon.visitors\n",
    "\n",
    "plt.rcParams['savefig.facecolor'] = 'white'"
   ],
   "metadata": {
    "collapsed": false,
    "pycharm": {
     "name": "#%%\n"
    }
   }
  },
  {
   "cell_type": "code",
   "execution_count": 3,
   "outputs": [],
   "source": [
    "if not os.path.exists('./results/ConfoundingFactors'):\n",
    "    os.makedirs('./results/ConfoundingFactors/data')\n",
    "    os.makedirs('./results/ConfoundingFactors/figures')"
   ],
   "metadata": {
    "collapsed": false,
    "pycharm": {
     "name": "#%%\n"
    }
   }
  },
  {
   "cell_type": "markdown",
   "source": [
    "# Calculate confounding factors - Complexity Metrics"
   ],
   "metadata": {
    "collapsed": false,
    "pycharm": {
     "name": "#%% md\n"
    }
   }
  },
  {
   "cell_type": "code",
   "execution_count": 4,
   "outputs": [],
   "source": [
    "df = pd.read_csv('./data/preprocessed_experiment_data.csv')\n",
    "algorithms = df['Algorithm'].unique()\n",
    "programming_styles = df['ProgrammingStyle'].unique()"
   ],
   "metadata": {
    "collapsed": false,
    "pycharm": {
     "name": "#%%\n"
    }
   }
  },
  {
   "cell_type": "code",
   "execution_count": 7,
   "outputs": [
    {
     "data": {
      "text/plain": "  0%|          | 0/4 [00:00<?, ?it/s]",
      "application/vnd.jupyter.widget-view+json": {
       "version_major": 2,
       "version_minor": 0,
       "model_id": "19b95ad7b236401892db9ed3a36da8fc"
      }
     },
     "metadata": {},
     "output_type": "display_data"
    }
   ],
   "source": [
    "df_confounding = pd.DataFrame([], columns=[\"Algorithm\", \"ProgrammingStyle\", \"LinesOfCode\", \"LogicalLinesOfCode\", \"SourceLinesOfCode\", \"MaintainabilityIndex\", \"CyclomaticComplexity\", \"HalsteadDifficulty\"])\n",
    "\n",
    "for programming_style in tqdm(programming_styles):\n",
    "    programming_style = programming_style.replace('-', '_')\n",
    "    for algorithm in algorithms:\n",
    "        snippet_path = f\"./data/CodeSnippets/Source/{algorithm}_{programming_style}.py\"\n",
    "        # Load code snippet\n",
    "        with open(snippet_path, 'r') as f:\n",
    "            code = f.read()\n",
    "            # Calculate confounding factors\n",
    "            loc = analyze(code).loc\n",
    "            lloc = analyze(code).lloc\n",
    "            sloc = analyze(code).sloc\n",
    "            mi = mi_visit(code, False)\n",
    "            data = cc_visit(code)\n",
    "            cc = 0\n",
    "            for c in data:\n",
    "                if isinstance(c, radon.visitors.Class):\n",
    "                    continue\n",
    "                cc += c.complexity\n",
    "            hi = h_visit(code)[0].difficulty\n",
    "            # Append to dataframe\n",
    "            df_confounding.loc[len(df_confounding)] = [algorithm, programming_style, loc, lloc, sloc, mi, cc, hi]\n",
    "df_confounding[\"LinesOfCode\"] = df_confounding[\"LinesOfCode\"].astype(int)\n",
    "df_confounding[\"LogicalLinesOfCode\"] = df_confounding[\"LogicalLinesOfCode\"].astype(int)\n",
    "df_confounding[\"SourceLinesOfCode\"] = df_confounding[\"SourceLinesOfCode\"].astype(int)\n",
    "df_confounding[\"MaintainabilityIndex\"] = df_confounding[\"MaintainabilityIndex\"].astype(float)\n",
    "df_confounding[\"CyclomaticComplexity\"] = df_confounding[\"CyclomaticComplexity\"].astype(int)\n",
    "df_confounding[\"HalsteadDifficulty\"] = df_confounding[\"HalsteadDifficulty\"].astype(float)\n",
    "df_confounding.to_excel('./results/ConfoundingFactors/data/confounding_factors.xlsx')"
   ],
   "metadata": {
    "collapsed": false,
    "pycharm": {
     "name": "#%%\n"
    }
   }
  },
  {
   "cell_type": "code",
   "execution_count": 8,
   "outputs": [],
   "source": [
    "# violin plot for confounding factors\n",
    "for factor in df_confounding.columns[2:]:\n",
    "    sns.violinplot(x=\"ProgrammingStyle\", y=factor, data=df_confounding, legend=False)\n",
    "    if factor == \"MaintainabilityIndex\":\n",
    "        plt.gca().invert_yaxis()\n",
    "        plt.ylim(max(df_confounding['MaintainabilityIndex']), 0)\n",
    "    else:\n",
    "        plt.ylim(0, max(df_confounding[factor]))\n",
    "    plt.savefig(f\"./results/ConfoundingFactors/figures/{factor}.png\")\n",
    "    plt.close('all')\n",
    "# invert y axis\n",
    "# disable legend"
   ],
   "metadata": {
    "collapsed": false,
    "pycharm": {
     "name": "#%%\n"
    }
   }
  },
  {
   "cell_type": "markdown",
   "source": [
    "# Calculate confounding factors - Size Of AOIS"
   ],
   "metadata": {
    "collapsed": false,
    "pycharm": {
     "name": "#%% md\n"
    }
   }
  },
  {
   "cell_type": "code",
   "execution_count": null,
   "outputs": [],
   "source": [],
   "metadata": {
    "collapsed": false,
    "pycharm": {
     "name": "#%%\n"
    }
   }
  }
 ],
 "metadata": {
  "kernelspec": {
   "display_name": "Python 3",
   "language": "python",
   "name": "python3"
  },
  "language_info": {
   "codemirror_mode": {
    "name": "ipython",
    "version": 2
   },
   "file_extension": ".py",
   "mimetype": "text/x-python",
   "name": "python",
   "nbconvert_exporter": "python",
   "pygments_lexer": "ipython2",
   "version": "2.7.6"
  }
 },
 "nbformat": 4,
 "nbformat_minor": 0
}