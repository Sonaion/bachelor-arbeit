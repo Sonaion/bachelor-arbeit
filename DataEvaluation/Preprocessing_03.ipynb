{
 "cells": [
  {
   "cell_type": "markdown",
   "metadata": {
    "collapsed": true,
    "pycharm": {
     "name": "#%% md\n"
    }
   },
   "source": [
    "# Confounding Factors\n",
    "---"
   ]
  },
  {
   "cell_type": "code",
   "execution_count": 12,
   "outputs": [],
   "source": [
    "import pandas as pd\n",
    "from tqdm.notebook import tqdm\n",
    "import os\n",
    "import seaborn as sns\n",
    "import matplotlib.pyplot as plt\n",
    "from radon.raw import analyze\n",
    "from radon.metrics import h_visit, mi_visit\n",
    "from radon.complexity import cc_visit\n",
    "import radon.visitors\n",
    "import PIL\n",
    "import numpy as np\n",
    "import modules.GenSnippetsLib as snippets\n",
    "from pygments.lexers import PythonLexer\n",
    "\n",
    "plt.rcParams['savefig.facecolor'] = 'white'"
   ],
   "metadata": {
    "collapsed": false,
    "pycharm": {
     "name": "#%%\n"
    }
   }
  },
  {
   "cell_type": "code",
   "execution_count": 13,
   "outputs": [],
   "source": [
    "if not os.path.exists('./results/ConfoundingFactors'):\n",
    "    os.makedirs('./results/ConfoundingFactors/data')\n",
    "    os.makedirs('./results/ConfoundingFactors/figures')"
   ],
   "metadata": {
    "collapsed": false,
    "pycharm": {
     "name": "#%%\n"
    }
   }
  },
  {
   "cell_type": "markdown",
   "source": [
    "# Calculate confounding factors - Complexity Metrics"
   ],
   "metadata": {
    "collapsed": false,
    "pycharm": {
     "name": "#%% md\n"
    }
   }
  },
  {
   "cell_type": "code",
   "execution_count": 14,
   "outputs": [],
   "source": [
    "df = pd.read_csv('./data/preprocessed_experiment_data.csv')\n",
    "algorithms = df['Algorithm'].unique()\n",
    "programming_styles = df['ProgrammingStyle'].unique()"
   ],
   "metadata": {
    "collapsed": false,
    "pycharm": {
     "name": "#%%\n"
    }
   }
  },
  {
   "cell_type": "code",
   "execution_count": 15,
   "outputs": [
    {
     "data": {
      "text/plain": "  0%|          | 0/4 [00:00<?, ?it/s]",
      "application/vnd.jupyter.widget-view+json": {
       "version_major": 2,
       "version_minor": 0,
       "model_id": "6c783756028d488498cc1cf5ca8d53a0"
      }
     },
     "metadata": {},
     "output_type": "display_data"
    }
   ],
   "source": [
    "df_confounding = pd.DataFrame([], columns=[\"Algorithm\", \"ProgrammingStyle\", \"LinesOfCode\", \"LogicalLinesOfCode\", \"SourceLinesOfCode\", \"MaintainabilityIndex\", \"CyclomaticComplexity\", \"HalsteadDifficulty\"])\n",
    "\n",
    "for programming_style in tqdm(programming_styles):\n",
    "    programming_style = programming_style.replace('-', '_')\n",
    "    for algorithm in algorithms:\n",
    "        snippet_path = f\"./data/CodeSnippets/Source/{algorithm}_{programming_style}.py\"\n",
    "        # Load code snippet\n",
    "        with open(snippet_path, 'r') as f:\n",
    "            code = f.read()\n",
    "            # Calculate confounding factors\n",
    "            loc = analyze(code).loc\n",
    "            lloc = analyze(code).lloc\n",
    "            sloc = analyze(code).sloc\n",
    "            mi = mi_visit(code, False)\n",
    "            data = cc_visit(code)\n",
    "            cc = 0\n",
    "            for c in data:\n",
    "                if isinstance(c, radon.visitors.Class):\n",
    "                    continue\n",
    "                cc += c.complexity\n",
    "            hi = h_visit(code)[0].difficulty\n",
    "            # Append to dataframe\n",
    "            df_confounding.loc[len(df_confounding)] = [algorithm, programming_style, loc, lloc, sloc, mi, cc, hi]\n",
    "df_confounding[\"LinesOfCode\"] = df_confounding[\"LinesOfCode\"].astype(int)\n",
    "df_confounding[\"LogicalLinesOfCode\"] = df_confounding[\"LogicalLinesOfCode\"].astype(int)\n",
    "df_confounding[\"SourceLinesOfCode\"] = df_confounding[\"SourceLinesOfCode\"].astype(int)\n",
    "df_confounding[\"MaintainabilityIndex\"] = df_confounding[\"MaintainabilityIndex\"].astype(float)\n",
    "df_confounding[\"CyclomaticComplexity\"] = df_confounding[\"CyclomaticComplexity\"].astype(int)\n",
    "df_confounding[\"HalsteadDifficulty\"] = df_confounding[\"HalsteadDifficulty\"].astype(float)\n",
    "df_confounding.to_excel('./results/ConfoundingFactors/data/confounding_factors.xlsx')"
   ],
   "metadata": {
    "collapsed": false,
    "pycharm": {
     "name": "#%%\n"
    }
   }
  },
  {
   "cell_type": "code",
   "execution_count": 16,
   "outputs": [],
   "source": [
    "# violin plot for confounding factors\n",
    "for factor in df_confounding.columns[2:]:\n",
    "    sns.violinplot(x=\"ProgrammingStyle\", y=factor, data=df_confounding, legend=False)\n",
    "    if factor == \"MaintainabilityIndex\":\n",
    "        plt.gca().invert_yaxis()\n",
    "        plt.ylim(max(df_confounding['MaintainabilityIndex']), 0)\n",
    "    else:\n",
    "        plt.ylim(0, max(df_confounding[factor]))\n",
    "    plt.savefig(f\"./results/ConfoundingFactors/figures/{factor}.png\")\n",
    "    plt.close('all')\n",
    "# invert y axis\n",
    "# disable legend"
   ],
   "metadata": {
    "collapsed": false,
    "pycharm": {
     "name": "#%%\n"
    }
   }
  },
  {
   "cell_type": "markdown",
   "source": [
    "# Calculate confounding factors - Size Of AOIS"
   ],
   "metadata": {
    "collapsed": false,
    "pycharm": {
     "name": "#%% md\n"
    }
   }
  },
  {
   "cell_type": "code",
   "execution_count": 17,
   "outputs": [],
   "source": [
    "aoi_order = ['Class',\n",
    "             'Method','MethodDeclaration','MethodBody',\n",
    "             'Helper','HelperDeclaration','HelperBody',\n",
    "             'InputPreparation', 'StartOfAlgorithm',\n",
    "             'StyleSpecific']"
   ],
   "metadata": {
    "collapsed": false,
    "pycharm": {
     "name": "#%%\n"
    }
   }
  },
  {
   "cell_type": "code",
   "execution_count": 18,
   "outputs": [],
   "source": [
    "# prepare color mapping for aois\n",
    "algorithms = df[[\"Algorithm\"]].sort_values(by=\"Algorithm\")[\"Algorithm\"].unique()\n",
    "programming_styles = df[[\"ProgrammingStyle\"]].sort_values(by=\"ProgrammingStyle\")[\"ProgrammingStyle\"].unique()\n",
    "algorithms = [x for x in algorithms]\n",
    "programming_styles = [x.replace(\"-\", \"_\") for x in programming_styles]\n",
    "\n",
    "color_palette = sns.color_palette(\"hls\", 16)\n",
    "color_palette_mapping = {\n",
    "    \"Method\" : color_palette[0],\n",
    "    \"MethodDeclaration\" : color_palette[1],\n",
    "    \"MethodBody\" : color_palette[2],\n",
    "    \"Helper\" : color_palette[3],\n",
    "    \"HelperDeclaration\" : color_palette[4],\n",
    "    \"HelperBody\" : color_palette[5],\n",
    "    \"Iteration\" : color_palette[6],\n",
    "    \"IterationHead\" : color_palette[7],\n",
    "    \"IterationBody\" : color_palette[8],\n",
    "    \"RecursiveCall\" : color_palette[9],\n",
    "    \"RecursiveBaseCase\" : color_palette[10],\n",
    "    \"HigherOrder\" : color_palette[11],\n",
    "    \"ListComprehension\" : color_palette[12],\n",
    "    \"InputPreparation\" : color_palette[13],\n",
    "    \"StartOfAlgorithm\" : color_palette[14],\n",
    "    \"Class\" : color_palette[15],\n",
    "}\n",
    "aoi_colors = color_palette\n",
    "aoi_numbers = {name : idx for idx, (name, _value) in enumerate(color_palette_mapping.items())}\n",
    "aoi_names = [name for name, _value in color_palette_mapping.items()]\n",
    "\n",
    "def aoi_idx_to_convoluted_idx(aoi_idx):\n",
    "    if aoi_idx < 5:\n",
    "        return aoi_idx\n",
    "    if 6 <= aoi_idx <= 12:\n",
    "        return 6\n",
    "    if 13 <= aoi_idx:\n",
    "        return aoi_idx-6\n",
    "\n",
    "def aoi_name_to_convoluted_name(aoi_name):\n",
    "    if aoi_name in [\"Iteration\", \"IterationHead\", \"IterationBody\",\n",
    "                    \"Recursion\", \"RecursiveCall\", \"RecursiveBaseCase\",\n",
    "                    \"HigherOrder\",\n",
    "                    \"ListComprehension\"]:\n",
    "        return \"StyleSpecific\"\n",
    "    return aoi_name\n",
    "\n",
    "color_palette = sns.color_palette(\"hls\", 10)\n",
    "color_palette_mapping_convoluted = {\n",
    "    \"Method\" : color_palette[0],\n",
    "    \"MethodDeclaration\" : color_palette[1],\n",
    "    \"MethodBody\" : color_palette[2],\n",
    "    \"Helper\" : color_palette[3],\n",
    "    \"HelperDeclaration\" : color_palette[4],\n",
    "    \"HelperBody\" : color_palette[5],\n",
    "    \"StyleSpecific\" : color_palette[6],\n",
    "    \"InputPreparation\" : color_palette[7],\n",
    "    \"StartOfAlgorithm\" : color_palette[8],\n",
    "    \"Class\" : color_palette[9],\n",
    "}\n",
    "aoi_colors_convoluted = color_palette\n",
    "aoi_numbers_convoluted = {name : idx for idx, (name, _value) in enumerate(color_palette_mapping_convoluted.items())}\n",
    "aoi_names_convoluted = [name for name, _value in color_palette_mapping_convoluted.items()]"
   ],
   "metadata": {
    "collapsed": false,
    "pycharm": {
     "name": "#%%\n"
    }
   }
  },
  {
   "cell_type": "code",
   "execution_count": 19,
   "outputs": [
    {
     "data": {
      "text/plain": "  0%|          | 0/11 [00:00<?, ?it/s]",
      "application/vnd.jupyter.widget-view+json": {
       "version_major": 2,
       "version_minor": 0,
       "model_id": "a1321bab77344866984bf54072abc5f1"
      }
     },
     "metadata": {},
     "output_type": "display_data"
    },
    {
     "data": {
      "text/plain": "        Algorithm    ProgrammingStyle  \\\n0      LinkedList        higher-order   \n1      LinkedList           iterative   \n2      LinkedList  list-comprehension   \n3      LinkedList           recursive   \n4           apply        higher-order   \n5           apply           iterative   \n6           apply  list-comprehension   \n7           apply           recursive   \n8        computer        higher-order   \n9        computer           iterative   \n10       computer  list-comprehension   \n11       computer           recursive   \n12  condition_sum        higher-order   \n13  condition_sum           iterative   \n14  condition_sum  list-comprehension   \n15  condition_sum           recursive   \n16           find        higher-order   \n17           find           iterative   \n18           find  list-comprehension   \n19           find           recursive   \n20       is_prime        higher-order   \n21       is_prime           iterative   \n22       is_prime  list-comprehension   \n23       is_prime           recursive   \n24            max        higher-order   \n25            max           iterative   \n26            max  list-comprehension   \n27            max           recursive   \n28           node        higher-order   \n29           node           iterative   \n30           node  list-comprehension   \n31           node           recursive   \n32  prime_factors        higher-order   \n33  prime_factors           iterative   \n34  prime_factors  list-comprehension   \n35  prime_factors           recursive   \n36       quad_mul        higher-order   \n37       quad_mul           iterative   \n38       quad_mul  list-comprehension   \n39       quad_mul           recursive   \n40          store        higher-order   \n41          store           iterative   \n42          store  list-comprehension   \n43          store           recursive   \n\n                                        BoundingBoxes ImageDimension  \n0   [(MethodBody, [2, 681, 593, 754]), (Class, [2,...    (594, 1206)  \n1   [(MethodBody, [2, 579, 344, 699]), (Class, [2,...    (362, 1154)  \n2   [(MethodBody, [2, 681, 705, 779]), (ListCompre...    (706, 1232)  \n3   [(MethodBody, [2, 266, 504, 416]), (RecursiveB...     (506, 868)  \n4   [(MethodBody, [2, 31, 312, 52]), (InputPrepara...     (394, 166)  \n5   [(MethodBody, [2, 31, 280, 127]), (InputPrepar...     (394, 244)  \n6   [(MethodBody, [34, 31, 376, 52]), (ListCompreh...     (394, 166)  \n7   [(MethodBody, [2, 31, 560, 130]), (RecursiveBa...     (562, 244)  \n8   [(MethodBody, [2, 395, 880, 416]), (Class, [2,...     (882, 738)  \n9   [(MethodBody, [2, 395, 736, 517]), (Class, [2,...     (738, 842)  \n10  [(MethodBody, [2, 395, 1088, 416]), (ListCompr...    (1090, 738)  \n11  [(MethodBody, [2, 395, 920, 546]), (RecursiveB...     (922, 868)  \n12  [(MethodBody, [2, 109, 618, 156]), (InputPrepa...     (618, 270)  \n13  [(MethodBody, [2, 31, 298, 231]), (InputPrepar...     (298, 348)  \n14  [(MethodBody, [2, 109, 722, 207]), (ListCompre...     (722, 322)  \n15  [(MethodBody, [2, 32, 280, 181]), (RecursiveBa...     (282, 296)  \n16  [(MethodBody, [2, 109, 824, 182]), (InputPrepa...     (826, 296)  \n17  [(MethodBody, [2, 31, 360, 127]), (InputPrepar...     (362, 244)  \n18  [(MethodBody, [2, 109, 656, 130]), (ListCompre...     (658, 244)  \n19  [(MethodBody, [2, 31, 384, 283]), (RecursiveBa...     (386, 400)  \n20  [(MethodBody, [2, 31, 529, 104]), (InputPrepar...     (530, 218)  \n21  [(MethodBody, [2, 32, 416, 179]), (InputPrepar...     (418, 296)  \n22  [(MethodBody, [2, 31, 673, 52]), (ListComprehe...     (674, 166)  \n23  [(MethodBody, [2, 32, 328, 260]), (RecursiveBa...     (330, 374)  \n24  [(MethodBody, [2, 109, 504, 130]), (InputPrepa...     (506, 244)  \n25  [(MethodBody, [2, 31, 240, 233]), (InputPrepar...     (242, 348)  \n26  [(MethodBody, [2, 109, 544, 181]), (ListCompre...     (546, 296)  \n27  [(MethodBody, [2, 31, 440, 234]), (RecursiveBa...     (442, 348)  \n28  [(MethodBody, [2, 577, 520, 650]), (Class, [2,...     (522, 842)  \n29  [(MethodBody, [2, 657, 432, 777]), (Class, [2,...     (434, 972)  \n30  [(MethodBody, [2, 473, 792, 571]), (ListCompre...     (794, 764)  \n31  [(MethodBody, [2, 1045, 640, 1118]), (Recursiv...    (642, 1310)  \n32  [(MethodBody, [2, 187, 497, 260]), (InputPrepa...     (530, 374)  \n33  [(MethodBody, [2, 265, 433, 387]), (InputPrepa...     (434, 504)  \n34  [(ListComprehension, [122, 31, 641, 52]), (Lis...     (690, 270)  \n35  [(MethodBody, [2, 344, 536, 780]), (RecursiveB...     (538, 894)  \n36  [(MethodBody, [2, 109, 448, 156]), (InputPrepa...     (450, 270)  \n37  [(MethodBody, [2, 31, 272, 205]), (InputPrepar...     (274, 322)  \n38  [(MethodBody, [2, 109, 440, 207]), (ListCompre...     (442, 322)  \n39  [(MethodBody, [2, 32, 288, 103]), (RecursiveBa...     (290, 218)  \n40  [(MethodBody, [2, 915, 856, 1040]), (Class, [2...    (858, 1752)  \n41  [(MethodBody, [2, 915, 376, 1349]), (Class, [2...    (426, 2064)  \n42  [(MethodBody, [2, 915, 840, 987]), (ListCompre...    (842, 1700)  \n43  [(MethodBody, [2, 1357, 616, 1560]), (Recursiv...    (618, 2272)  ",
      "text/html": "<div>\n<style scoped>\n    .dataframe tbody tr th:only-of-type {\n        vertical-align: middle;\n    }\n\n    .dataframe tbody tr th {\n        vertical-align: top;\n    }\n\n    .dataframe thead th {\n        text-align: right;\n    }\n</style>\n<table border=\"1\" class=\"dataframe\">\n  <thead>\n    <tr style=\"text-align: right;\">\n      <th></th>\n      <th>Algorithm</th>\n      <th>ProgrammingStyle</th>\n      <th>BoundingBoxes</th>\n      <th>ImageDimension</th>\n    </tr>\n  </thead>\n  <tbody>\n    <tr>\n      <th>0</th>\n      <td>LinkedList</td>\n      <td>higher-order</td>\n      <td>[(MethodBody, [2, 681, 593, 754]), (Class, [2,...</td>\n      <td>(594, 1206)</td>\n    </tr>\n    <tr>\n      <th>1</th>\n      <td>LinkedList</td>\n      <td>iterative</td>\n      <td>[(MethodBody, [2, 579, 344, 699]), (Class, [2,...</td>\n      <td>(362, 1154)</td>\n    </tr>\n    <tr>\n      <th>2</th>\n      <td>LinkedList</td>\n      <td>list-comprehension</td>\n      <td>[(MethodBody, [2, 681, 705, 779]), (ListCompre...</td>\n      <td>(706, 1232)</td>\n    </tr>\n    <tr>\n      <th>3</th>\n      <td>LinkedList</td>\n      <td>recursive</td>\n      <td>[(MethodBody, [2, 266, 504, 416]), (RecursiveB...</td>\n      <td>(506, 868)</td>\n    </tr>\n    <tr>\n      <th>4</th>\n      <td>apply</td>\n      <td>higher-order</td>\n      <td>[(MethodBody, [2, 31, 312, 52]), (InputPrepara...</td>\n      <td>(394, 166)</td>\n    </tr>\n    <tr>\n      <th>5</th>\n      <td>apply</td>\n      <td>iterative</td>\n      <td>[(MethodBody, [2, 31, 280, 127]), (InputPrepar...</td>\n      <td>(394, 244)</td>\n    </tr>\n    <tr>\n      <th>6</th>\n      <td>apply</td>\n      <td>list-comprehension</td>\n      <td>[(MethodBody, [34, 31, 376, 52]), (ListCompreh...</td>\n      <td>(394, 166)</td>\n    </tr>\n    <tr>\n      <th>7</th>\n      <td>apply</td>\n      <td>recursive</td>\n      <td>[(MethodBody, [2, 31, 560, 130]), (RecursiveBa...</td>\n      <td>(562, 244)</td>\n    </tr>\n    <tr>\n      <th>8</th>\n      <td>computer</td>\n      <td>higher-order</td>\n      <td>[(MethodBody, [2, 395, 880, 416]), (Class, [2,...</td>\n      <td>(882, 738)</td>\n    </tr>\n    <tr>\n      <th>9</th>\n      <td>computer</td>\n      <td>iterative</td>\n      <td>[(MethodBody, [2, 395, 736, 517]), (Class, [2,...</td>\n      <td>(738, 842)</td>\n    </tr>\n    <tr>\n      <th>10</th>\n      <td>computer</td>\n      <td>list-comprehension</td>\n      <td>[(MethodBody, [2, 395, 1088, 416]), (ListCompr...</td>\n      <td>(1090, 738)</td>\n    </tr>\n    <tr>\n      <th>11</th>\n      <td>computer</td>\n      <td>recursive</td>\n      <td>[(MethodBody, [2, 395, 920, 546]), (RecursiveB...</td>\n      <td>(922, 868)</td>\n    </tr>\n    <tr>\n      <th>12</th>\n      <td>condition_sum</td>\n      <td>higher-order</td>\n      <td>[(MethodBody, [2, 109, 618, 156]), (InputPrepa...</td>\n      <td>(618, 270)</td>\n    </tr>\n    <tr>\n      <th>13</th>\n      <td>condition_sum</td>\n      <td>iterative</td>\n      <td>[(MethodBody, [2, 31, 298, 231]), (InputPrepar...</td>\n      <td>(298, 348)</td>\n    </tr>\n    <tr>\n      <th>14</th>\n      <td>condition_sum</td>\n      <td>list-comprehension</td>\n      <td>[(MethodBody, [2, 109, 722, 207]), (ListCompre...</td>\n      <td>(722, 322)</td>\n    </tr>\n    <tr>\n      <th>15</th>\n      <td>condition_sum</td>\n      <td>recursive</td>\n      <td>[(MethodBody, [2, 32, 280, 181]), (RecursiveBa...</td>\n      <td>(282, 296)</td>\n    </tr>\n    <tr>\n      <th>16</th>\n      <td>find</td>\n      <td>higher-order</td>\n      <td>[(MethodBody, [2, 109, 824, 182]), (InputPrepa...</td>\n      <td>(826, 296)</td>\n    </tr>\n    <tr>\n      <th>17</th>\n      <td>find</td>\n      <td>iterative</td>\n      <td>[(MethodBody, [2, 31, 360, 127]), (InputPrepar...</td>\n      <td>(362, 244)</td>\n    </tr>\n    <tr>\n      <th>18</th>\n      <td>find</td>\n      <td>list-comprehension</td>\n      <td>[(MethodBody, [2, 109, 656, 130]), (ListCompre...</td>\n      <td>(658, 244)</td>\n    </tr>\n    <tr>\n      <th>19</th>\n      <td>find</td>\n      <td>recursive</td>\n      <td>[(MethodBody, [2, 31, 384, 283]), (RecursiveBa...</td>\n      <td>(386, 400)</td>\n    </tr>\n    <tr>\n      <th>20</th>\n      <td>is_prime</td>\n      <td>higher-order</td>\n      <td>[(MethodBody, [2, 31, 529, 104]), (InputPrepar...</td>\n      <td>(530, 218)</td>\n    </tr>\n    <tr>\n      <th>21</th>\n      <td>is_prime</td>\n      <td>iterative</td>\n      <td>[(MethodBody, [2, 32, 416, 179]), (InputPrepar...</td>\n      <td>(418, 296)</td>\n    </tr>\n    <tr>\n      <th>22</th>\n      <td>is_prime</td>\n      <td>list-comprehension</td>\n      <td>[(MethodBody, [2, 31, 673, 52]), (ListComprehe...</td>\n      <td>(674, 166)</td>\n    </tr>\n    <tr>\n      <th>23</th>\n      <td>is_prime</td>\n      <td>recursive</td>\n      <td>[(MethodBody, [2, 32, 328, 260]), (RecursiveBa...</td>\n      <td>(330, 374)</td>\n    </tr>\n    <tr>\n      <th>24</th>\n      <td>max</td>\n      <td>higher-order</td>\n      <td>[(MethodBody, [2, 109, 504, 130]), (InputPrepa...</td>\n      <td>(506, 244)</td>\n    </tr>\n    <tr>\n      <th>25</th>\n      <td>max</td>\n      <td>iterative</td>\n      <td>[(MethodBody, [2, 31, 240, 233]), (InputPrepar...</td>\n      <td>(242, 348)</td>\n    </tr>\n    <tr>\n      <th>26</th>\n      <td>max</td>\n      <td>list-comprehension</td>\n      <td>[(MethodBody, [2, 109, 544, 181]), (ListCompre...</td>\n      <td>(546, 296)</td>\n    </tr>\n    <tr>\n      <th>27</th>\n      <td>max</td>\n      <td>recursive</td>\n      <td>[(MethodBody, [2, 31, 440, 234]), (RecursiveBa...</td>\n      <td>(442, 348)</td>\n    </tr>\n    <tr>\n      <th>28</th>\n      <td>node</td>\n      <td>higher-order</td>\n      <td>[(MethodBody, [2, 577, 520, 650]), (Class, [2,...</td>\n      <td>(522, 842)</td>\n    </tr>\n    <tr>\n      <th>29</th>\n      <td>node</td>\n      <td>iterative</td>\n      <td>[(MethodBody, [2, 657, 432, 777]), (Class, [2,...</td>\n      <td>(434, 972)</td>\n    </tr>\n    <tr>\n      <th>30</th>\n      <td>node</td>\n      <td>list-comprehension</td>\n      <td>[(MethodBody, [2, 473, 792, 571]), (ListCompre...</td>\n      <td>(794, 764)</td>\n    </tr>\n    <tr>\n      <th>31</th>\n      <td>node</td>\n      <td>recursive</td>\n      <td>[(MethodBody, [2, 1045, 640, 1118]), (Recursiv...</td>\n      <td>(642, 1310)</td>\n    </tr>\n    <tr>\n      <th>32</th>\n      <td>prime_factors</td>\n      <td>higher-order</td>\n      <td>[(MethodBody, [2, 187, 497, 260]), (InputPrepa...</td>\n      <td>(530, 374)</td>\n    </tr>\n    <tr>\n      <th>33</th>\n      <td>prime_factors</td>\n      <td>iterative</td>\n      <td>[(MethodBody, [2, 265, 433, 387]), (InputPrepa...</td>\n      <td>(434, 504)</td>\n    </tr>\n    <tr>\n      <th>34</th>\n      <td>prime_factors</td>\n      <td>list-comprehension</td>\n      <td>[(ListComprehension, [122, 31, 641, 52]), (Lis...</td>\n      <td>(690, 270)</td>\n    </tr>\n    <tr>\n      <th>35</th>\n      <td>prime_factors</td>\n      <td>recursive</td>\n      <td>[(MethodBody, [2, 344, 536, 780]), (RecursiveB...</td>\n      <td>(538, 894)</td>\n    </tr>\n    <tr>\n      <th>36</th>\n      <td>quad_mul</td>\n      <td>higher-order</td>\n      <td>[(MethodBody, [2, 109, 448, 156]), (InputPrepa...</td>\n      <td>(450, 270)</td>\n    </tr>\n    <tr>\n      <th>37</th>\n      <td>quad_mul</td>\n      <td>iterative</td>\n      <td>[(MethodBody, [2, 31, 272, 205]), (InputPrepar...</td>\n      <td>(274, 322)</td>\n    </tr>\n    <tr>\n      <th>38</th>\n      <td>quad_mul</td>\n      <td>list-comprehension</td>\n      <td>[(MethodBody, [2, 109, 440, 207]), (ListCompre...</td>\n      <td>(442, 322)</td>\n    </tr>\n    <tr>\n      <th>39</th>\n      <td>quad_mul</td>\n      <td>recursive</td>\n      <td>[(MethodBody, [2, 32, 288, 103]), (RecursiveBa...</td>\n      <td>(290, 218)</td>\n    </tr>\n    <tr>\n      <th>40</th>\n      <td>store</td>\n      <td>higher-order</td>\n      <td>[(MethodBody, [2, 915, 856, 1040]), (Class, [2...</td>\n      <td>(858, 1752)</td>\n    </tr>\n    <tr>\n      <th>41</th>\n      <td>store</td>\n      <td>iterative</td>\n      <td>[(MethodBody, [2, 915, 376, 1349]), (Class, [2...</td>\n      <td>(426, 2064)</td>\n    </tr>\n    <tr>\n      <th>42</th>\n      <td>store</td>\n      <td>list-comprehension</td>\n      <td>[(MethodBody, [2, 915, 840, 987]), (ListCompre...</td>\n      <td>(842, 1700)</td>\n    </tr>\n    <tr>\n      <th>43</th>\n      <td>store</td>\n      <td>recursive</td>\n      <td>[(MethodBody, [2, 1357, 616, 1560]), (Recursiv...</td>\n      <td>(618, 2272)</td>\n    </tr>\n  </tbody>\n</table>\n</div>"
     },
     "execution_count": 19,
     "metadata": {},
     "output_type": "execute_result"
    }
   ],
   "source": [
    "\n",
    "df_bounding_box = pd.DataFrame(columns=[\"Algorithm\", \"ProgrammingStyle\", \"BoundingBoxes\", \"ImageDimension\"])\n",
    "font_path=\"\\\\data\\\\fonts\\\\ttf\\\\\"\n",
    "offset = 3\n",
    "\n",
    "\n",
    "for algorithm in tqdm(algorithms):\n",
    "    for programming_style in programming_styles:\n",
    "        # load the image and generate bb code info\n",
    "        file_name = './data/CodeSnippets/Generators/' + algorithm + '_' + programming_style + '.json'\n",
    "        try:\n",
    "            image, result = snippets.create_image(file_name, font_path=font_path, lexer=PythonLexer)\n",
    "            y, x = image.size[::-1]\n",
    "            dimension = (x, y)\n",
    "        except Exception as e:\n",
    "            print(file_name + \":\" + str(e))\n",
    "            continue\n",
    "        # extract the areas of interest in the image\n",
    "        areas_of_interest = set()\n",
    "        for letter in result:\n",
    "            for aoi in letter[\"AOI\"]:\n",
    "                areas_of_interest.add(aoi)\n",
    "\n",
    "        # create the bounding boxes\n",
    "        disjoint_areas_of_interest = []\n",
    "        for aoi in areas_of_interest:\n",
    "            upper_left_x = 0\n",
    "            upper_left_y = 0\n",
    "            lower_right_x = 0\n",
    "            lower_right_y = 0\n",
    "            has_aoi = False\n",
    "            for letter in result:\n",
    "                if letter[\"BoundingBox\"][0] == 0 and letter[\"BoundingBox\"][1] == 0 and letter[\"BoundingBox\"][2] == 0 and letter[\"BoundingBox\"][3] == 0:\n",
    "                    continue\n",
    "\n",
    "                if aoi in letter[\"AOI\"]:\n",
    "                    if not has_aoi:\n",
    "                        upper_left_x = letter[\"BoundingBox\"][0] - offset\n",
    "                        upper_left_y = letter[\"BoundingBox\"][1] - offset\n",
    "                        lower_right_x = letter[\"BoundingBox\"][2] + offset\n",
    "                        lower_right_y = letter[\"BoundingBox\"][3] + offset\n",
    "                        has_aoi = True\n",
    "                    else:\n",
    "                        upper_left_x = min(upper_left_x, letter[\"BoundingBox\"][0] - offset)\n",
    "                        upper_left_y = min(upper_left_y, letter[\"BoundingBox\"][1] - offset)\n",
    "                        lower_right_x = max(lower_right_x, letter[\"BoundingBox\"][2] + offset)\n",
    "                        lower_right_y = max(lower_right_y, letter[\"BoundingBox\"][3] + offset)\n",
    "                else:\n",
    "                    if has_aoi:\n",
    "                        disjoint_areas_of_interest.append((aoi, [upper_left_x, upper_left_y, lower_right_x, lower_right_y]))\n",
    "                    has_aoi = False\n",
    "                    upper_left_x = 0\n",
    "                    upper_left_y = 0\n",
    "                    lower_right_x = 0\n",
    "                    lower_right_y = 0\n",
    "\n",
    "            if has_aoi:\n",
    "                disjoint_areas_of_interest.append((aoi, [upper_left_x, upper_left_y, lower_right_x, lower_right_y]))\n",
    "\n",
    "        # create the bounding boxes without None aoi\n",
    "        disjoint_areas_of_interest = [area for area in disjoint_areas_of_interest if area[0] != \"None\"]\n",
    "        df_bounding_box.loc[len(df_bounding_box)] = [algorithm, programming_style.replace(\"_\", \"-\"), disjoint_areas_of_interest, dimension]\n",
    "df_bounding_box"
   ],
   "metadata": {
    "collapsed": false,
    "pycharm": {
     "name": "#%%\n"
    }
   }
  },
  {
   "cell_type": "code",
   "execution_count": 20,
   "outputs": [
    {
     "data": {
      "text/plain": "      Algorithm ProgrammingStyle                AOI  Percentage\n0    LinkedList     higher-order         MethodBody    0.060225\n1    LinkedList     higher-order              Class    0.243376\n2    LinkedList     higher-order   InputPreparation    0.069099\n3    LinkedList     higher-order             Method    0.081675\n4    LinkedList     higher-order   StartOfAlgorithm    0.005335\n..          ...              ...                ...         ...\n326       store        recursive  HelperDeclaration    0.007000\n327       store        recursive             Helper    0.137576\n328       store        recursive             Method    0.100140\n329       store        recursive   StartOfAlgorithm    0.004995\n330       store        recursive  MethodDeclaration    0.004756\n\n[331 rows x 4 columns]",
      "text/html": "<div>\n<style scoped>\n    .dataframe tbody tr th:only-of-type {\n        vertical-align: middle;\n    }\n\n    .dataframe tbody tr th {\n        vertical-align: top;\n    }\n\n    .dataframe thead th {\n        text-align: right;\n    }\n</style>\n<table border=\"1\" class=\"dataframe\">\n  <thead>\n    <tr style=\"text-align: right;\">\n      <th></th>\n      <th>Algorithm</th>\n      <th>ProgrammingStyle</th>\n      <th>AOI</th>\n      <th>Percentage</th>\n    </tr>\n  </thead>\n  <tbody>\n    <tr>\n      <th>0</th>\n      <td>LinkedList</td>\n      <td>higher-order</td>\n      <td>MethodBody</td>\n      <td>0.060225</td>\n    </tr>\n    <tr>\n      <th>1</th>\n      <td>LinkedList</td>\n      <td>higher-order</td>\n      <td>Class</td>\n      <td>0.243376</td>\n    </tr>\n    <tr>\n      <th>2</th>\n      <td>LinkedList</td>\n      <td>higher-order</td>\n      <td>InputPreparation</td>\n      <td>0.069099</td>\n    </tr>\n    <tr>\n      <th>3</th>\n      <td>LinkedList</td>\n      <td>higher-order</td>\n      <td>Method</td>\n      <td>0.081675</td>\n    </tr>\n    <tr>\n      <th>4</th>\n      <td>LinkedList</td>\n      <td>higher-order</td>\n      <td>StartOfAlgorithm</td>\n      <td>0.005335</td>\n    </tr>\n    <tr>\n      <th>...</th>\n      <td>...</td>\n      <td>...</td>\n      <td>...</td>\n      <td>...</td>\n    </tr>\n    <tr>\n      <th>326</th>\n      <td>store</td>\n      <td>recursive</td>\n      <td>HelperDeclaration</td>\n      <td>0.007000</td>\n    </tr>\n    <tr>\n      <th>327</th>\n      <td>store</td>\n      <td>recursive</td>\n      <td>Helper</td>\n      <td>0.137576</td>\n    </tr>\n    <tr>\n      <th>328</th>\n      <td>store</td>\n      <td>recursive</td>\n      <td>Method</td>\n      <td>0.100140</td>\n    </tr>\n    <tr>\n      <th>329</th>\n      <td>store</td>\n      <td>recursive</td>\n      <td>StartOfAlgorithm</td>\n      <td>0.004995</td>\n    </tr>\n    <tr>\n      <th>330</th>\n      <td>store</td>\n      <td>recursive</td>\n      <td>MethodDeclaration</td>\n      <td>0.004756</td>\n    </tr>\n  </tbody>\n</table>\n<p>331 rows × 4 columns</p>\n</div>"
     },
     "execution_count": 20,
     "metadata": {},
     "output_type": "execute_result"
    }
   ],
   "source": [
    "df_confounding_aoi = pd.DataFrame(columns=[\"Algorithm\", \"ProgrammingStyle\", \"AOI\", \"Percentage\"])\n",
    "for idx, row in df_bounding_box.iterrows():\n",
    "    algorithm = row[\"Algorithm\"]\n",
    "    programming_style = row[\"ProgrammingStyle\"]\n",
    "    bounding_boxes = row[\"BoundingBoxes\"]\n",
    "    dimension = row[\"ImageDimension\"]\n",
    "    # create the confounding aoi\n",
    "    confounding_aoi = {}\n",
    "    for aoi, bounding_box in bounding_boxes:\n",
    "        if aoi == \"None\":\n",
    "            continue\n",
    "        x1, y1, x2, y2 = bounding_box\n",
    "        percentage = ((x2 - x1) * (y2 - y1)) / (dimension[0] * dimension[1])\n",
    "        if aoi not in confounding_aoi:\n",
    "            confounding_aoi[aoi] = percentage\n",
    "        else:\n",
    "            confounding_aoi[aoi] += percentage\n",
    "    for key, value in confounding_aoi.items():\n",
    "        df_confounding_aoi.loc[len(df_confounding_aoi)] = [algorithm, programming_style.replace(\"_\", \"-\"), key, value]\n",
    "df_confounding_aoi"
   ],
   "metadata": {
    "collapsed": false,
    "pycharm": {
     "name": "#%%\n"
    }
   }
  },
  {
   "cell_type": "code",
   "execution_count": 21,
   "outputs": [],
   "source": [
    "iteration_categroies = [\"Iteration\", \"IterationHead\", \"IterationBody\"]\n",
    "recursive_categroies = [\"RecursiveCall\", \"RecursiveBaseCase\"]\n",
    "list_comprehension_categroies = [\"ListComprehension\"]\n",
    "higher_order_categroies = [\"HigherOrder\"]\n",
    "\n",
    "for idx, row in df_confounding_aoi.iterrows():\n",
    "    aoi = row[\"AOI\"]\n",
    "    if aoi in iteration_categroies or aoi in recursive_categroies or aoi in list_comprehension_categroies or aoi in higher_order_categroies:\n",
    "        df_confounding_aoi.loc[idx, \"AOI\"] = \"StyleSpecific\""
   ],
   "metadata": {
    "collapsed": false,
    "pycharm": {
     "name": "#%%\n"
    }
   }
  },
  {
   "cell_type": "code",
   "execution_count": 22,
   "outputs": [
    {
     "data": {
      "text/plain": "<Figure size 1931.25x360 with 1 Axes>",
      "image/png": "[encoded data removed]"
     },
     "metadata": {
      "needs_background": "light"
     },
     "output_type": "display_data"
    }
   ],
   "source": [
    "\n",
    "ax = sns.catplot(x=\"AOI\", y=\"Percentage\", hue=\"ProgrammingStyle\", data=df_confounding_aoi, kind=\"bar\", height=5,\n",
    "                 aspect=5, hue_order=[\"iterative\", \"recursive\", \"higher-order\", \"list-comprehension\"],\n",
    "                 order=aoi_order)\n",
    "ax.tight_layout()\n",
    "ax.set(ylabel=\"Percentage for AOI of total Image\")\n",
    "plt.savefig(\"./results/ConfoundingFactors/figures/AOI_Size_in_Image.png\")\n",
    "plt.show()\n",
    "plt.close('all')"
   ],
   "metadata": {
    "collapsed": false,
    "pycharm": {
     "name": "#%%\n"
    }
   }
  },
  {
   "cell_type": "code",
   "execution_count": 24,
   "outputs": [],
   "source": [
    "df_tmp = df_confounding_aoi.groupby([\"ProgrammingStyle\", \"AOI\"])[\"Percentage\"].describe()\n",
    "df_tmp.to_excel(\"./results/ConfoundingFactors/data/AOI_Size_in_Image.xlsx\")"
   ],
   "metadata": {
    "collapsed": false,
    "pycharm": {
     "name": "#%%\n"
    }
   }
  },
  {
   "cell_type": "code",
   "execution_count": 23,
   "outputs": [],
   "source": [],
   "metadata": {
    "collapsed": false,
    "pycharm": {
     "name": "#%%\n"
    }
   }
  },
  {
   "cell_type": "code",
   "execution_count": 23,
   "outputs": [],
   "source": [],
   "metadata": {
    "collapsed": false,
    "pycharm": {
     "name": "#%%\n"
    }
   }
  }
 ],
 "metadata": {
  "kernelspec": {
   "display_name": "Python 3",
   "language": "python",
   "name": "python3"
  },
  "language_info": {
   "codemirror_mode": {
    "name": "ipython",
    "version": 2
   },
   "file_extension": ".py",
   "mimetype": "text/x-python",
   "name": "python",
   "nbconvert_exporter": "python",
   "pygments_lexer": "ipython2",
   "version": "2.7.6"
  }
 },
 "nbformat": 4,
 "nbformat_minor": 0
}