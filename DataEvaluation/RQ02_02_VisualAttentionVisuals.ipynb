{
 "cells": [
  {
   "cell_type": "markdown",
   "metadata": {
    "collapsed": true,
    "pycharm": {
     "name": "#%% md\n"
    }
   },
   "source": [
    "# Visualize the Raw Visual Attentions Behavior"
   ]
  },
  {
   "cell_type": "code",
   "execution_count": 1,
   "outputs": [],
   "source": [
    "import pandas as pd\n",
    "import regex as re\n",
    "import matplotlib.pyplot as plt\n",
    "import seaborn as sns\n",
    "import json\n",
    "import modules.GenSnippetsLib as snippets\n",
    "import scipy.ndimage\n",
    "from pygments.lexers import PythonLexer\n",
    "from tqdm.notebook import tqdm\n",
    "import matplotlib.patches as patches\n",
    "import PIL\n",
    "import os\n",
    "import PIL.Image\n",
    "from skimage.draw import ellipse\n",
    "import numpy as np\n",
    "plt.rcParams['savefig.facecolor']='white'"
   ],
   "metadata": {
    "collapsed": false,
    "pycharm": {
     "name": "#%%\n"
    }
   }
  },
  {
   "cell_type": "markdown",
   "source": [
    "## Load the data"
   ],
   "metadata": {
    "collapsed": false,
    "pycharm": {
     "name": "#%% md\n"
    }
   }
  },
  {
   "cell_type": "code",
   "execution_count": 2,
   "outputs": [],
   "source": [
    "def click_data_to_list(click_data_string):\n",
    "    click_data_list = []\n",
    "    for click in click_data_string.split(\" \"):\n",
    "        click = click.split(\"-\")\n",
    "        # extract the x and y coordinates from a string via regex\n",
    "        x = int(re.search(r'\\d+', click[0])[0])\n",
    "        y = int(re.search(r'\\d+', click[1])[0])\n",
    "        click_data_list.append((x, y))\n",
    "    return click_data_list#\n",
    "\n",
    "def time_data_to_list(time_data_string):\n",
    "    time_data_list = []\n",
    "    for time in time_data_string.split(\" \"):\n",
    "        time_data_list.append(float(time) / 1000)\n",
    "    return time_data_list"
   ],
   "metadata": {
    "collapsed": false,
    "pycharm": {
     "name": "#%%\n"
    }
   }
  },
  {
   "cell_type": "code",
   "execution_count": 3,
   "outputs": [],
   "source": [
    "df = pd.read_csv('./data/preprocessed_experiment_data.csv')\n",
    "df = df[df[\"Outlier\"] == False]\n",
    "df = df.drop(columns=[\"Outlier\"])\n",
    "\n",
    "df[\"ClickData\"] = df[\"ClickData\"].apply(lambda x: click_data_to_list(x))\n",
    "df[\"TimeData\"] = df[\"TimeData\"].apply(lambda x: time_data_to_list(x))\n",
    "df[\"NumberOfClicks\"] = df[\"ClickData\"].apply(lambda x: len(x))\n",
    "df[\"AverageTimeOfClicks\"] = (df[\"ResponseTime\"] / 1000) / df[\"NumberOfClicks\"]"
   ],
   "metadata": {
    "collapsed": false,
    "pycharm": {
     "name": "#%%\n"
    }
   }
  },
  {
   "cell_type": "markdown",
   "source": [
    "## Create Heatmaps"
   ],
   "metadata": {
    "collapsed": false,
    "pycharm": {
     "name": "#%% md\n"
    }
   }
  },
  {
   "cell_type": "code",
   "execution_count": 4,
   "outputs": [],
   "source": [
    "def get_ellipse_mask(center, x_radius, y_radius, dimension, std_value = 1.0):\n",
    "    \"\"\"\n",
    "    Returns a mask of an ellipse with the given center, x-radius, and y-radius.\n",
    "    \"\"\"\n",
    "    x_dim = max(center[0]+2*x_radius+1, dimension[0])\n",
    "    y_dim = max(center[1]+2*y_radius+1, dimension[1])\n",
    "    mask = np.zeros((y_dim, x_dim), dtype=np.float32)\n",
    "    rr, cc = ellipse(center[1], center[0], y_radius, x_radius)\n",
    "    mask[rr, cc] = std_value\n",
    "    mask = mask[:dimension[1], :dimension[0]]\n",
    "    return mask\n",
    "\n",
    "def heatmap_helper(image, heat_array, grad_radius, treshhold=0.2):\n",
    "    cmap = plt.cm.get_cmap('jet')\n",
    "\n",
    "    heat_array = heat_array.copy()\n",
    "    heat_array = scipy.ndimage.gaussian_filter(heat_array, sigma=grad_radius)\n",
    "    max_value = np.max(heat_array)\n",
    "    heat_array = heat_array / max_value\n",
    "    key_out_mask = heat_array > treshhold\n",
    "    heat_normalized = heat_array.copy()\n",
    "    heat_array = heat_array*255\n",
    "    heat_array = heat_array.astype(np.uint8)\n",
    "    heat_array = cmap(heat_array)\n",
    "    heat_array = heat_array*255\n",
    "\n",
    "    hmap = np.array(image)\n",
    "    hmap[key_out_mask] = 0.5*hmap[key_out_mask] + 0.5*heat_array[key_out_mask]\n",
    "    return hmap, heat_normalized, max_value"
   ],
   "metadata": {
    "collapsed": false,
    "pycharm": {
     "name": "#%%\n"
    }
   }
  },
  {
   "cell_type": "code",
   "execution_count": 5,
   "outputs": [],
   "source": [
    "settings = json.load(open(\"./data/settings.json\"))\n",
    "x_radius = settings[\"radius_x\"]+settings[\"grad_radius\"]//2\n",
    "y_radius = settings[\"radius_y\"]+settings[\"grad_radius\"]//2"
   ],
   "metadata": {
    "collapsed": false,
    "pycharm": {
     "name": "#%%\n"
    }
   }
  },
  {
   "cell_type": "code",
   "execution_count": 6,
   "outputs": [
    {
     "data": {
      "text/plain": "  0%|          | 0/44 [00:00<?, ?it/s]",
      "application/vnd.jupyter.widget-view+json": {
       "version_major": 2,
       "version_minor": 0,
       "model_id": "d27491695c2649d586144acbeeb9869b"
      }
     },
     "metadata": {},
     "output_type": "display_data"
    }
   ],
   "source": [
    "# check if folder exists\n",
    "if not os.path.exists(\"./results/average_heatmaps\"):\n",
    "    os.makedirs(\"./results/average_heatmaps\")\n",
    "\n",
    "for group_name, df_group in tqdm(df.groupby([\"Algorithm\", \"ProgrammingStyle\"])):\n",
    "    image = \"./data/images/\" + group_name[0] + \"_\" + group_name[1].replace(\"-\", \"_\") + \".png\"\n",
    "    image = PIL.Image.open(image)\n",
    "    dimension = image.size\n",
    "    average_heat = np.zeros((dimension[1], dimension[0]))\n",
    "    for idx, row in df_group.iterrows():\n",
    "        clicks = row[\"ClickData\"]\n",
    "        duration_per_click = row[\"TimeData\"]\n",
    "        duration_tmp = [duration_per_click[0]]\n",
    "        for duration_idx, value in enumerate(duration_per_click):\n",
    "            if duration_idx == 0:\n",
    "                continue\n",
    "            duration_tmp.append(value-duration_per_click[duration_idx-1])\n",
    "        duration_per_click = duration_tmp\n",
    "\n",
    "        example = np.zeros((dimension[1], dimension[0]))\n",
    "        for click, duration in zip(clicks, duration_per_click):\n",
    "            elliptical_mask = get_ellipse_mask(click, x_radius, y_radius, dimension)\n",
    "            example += (elliptical_mask*duration)\n",
    "        _hmap, normalized_heat, _max_value = heatmap_helper(image, example, settings[\"grad_radius\"]//2)\n",
    "        average_heat += normalized_heat\n",
    "\n",
    "    image = np.array(image)\n",
    "\n",
    "    average_heat = scipy.ndimage.gaussian_filter(average_heat, sigma=4)\n",
    "    average_heat = average_heat / len(df_group)\n",
    "    mask = average_heat >= 0.00\n",
    "\n",
    "    cmap = plt.cm.get_cmap('jet')\n",
    "    average_heat = average_heat*255\n",
    "    average_heat = average_heat.astype(np.uint8)\n",
    "    average_heat = cmap(average_heat)\n",
    "    average_heat = average_heat*255\n",
    "\n",
    "    image[mask] = 0.5*image[mask] + 0.5*average_heat[mask]\n",
    "\n",
    "    fig, ax = plt.subplots(1, 1, figsize=(10, 10))\n",
    "    fig.set_size_inches(dimension[0]/100 * 1.1, dimension[1]/100)\n",
    "    sm = plt.cm.ScalarMappable(cmap=plt.cm.get_cmap(\"jet\"))\n",
    "    plt.axis('off')\n",
    "    plt.tight_layout()\n",
    "    ax.imshow(image, aspect='auto')\n",
    "    plt.colorbar(sm, fraction=0.046, pad=0.04)\n",
    "    plt.savefig(\"./results/average_heatmaps/\" + group_name[0] + \"_\" + group_name[1].replace(\"-\", \"_\") + \".png\", bbox_inches='tight' , pad_inches=0)\n",
    "    plt.close('all')"
   ],
   "metadata": {
    "collapsed": false,
    "pycharm": {
     "name": "#%%\n"
    }
   }
  },
  {
   "cell_type": "markdown",
   "source": [
    "## Create Perceptions Maps"
   ],
   "metadata": {
    "collapsed": false,
    "pycharm": {
     "name": "#%% md\n"
    }
   }
  },
  {
   "cell_type": "code",
   "execution_count": 7,
   "outputs": [
    {
     "data": {
      "text/plain": "  0%|          | 0/44 [00:00<?, ?it/s]",
      "application/vnd.jupyter.widget-view+json": {
       "version_major": 2,
       "version_minor": 0,
       "model_id": "29d9ea2932484ae9b0c8ac279b8c2bf1"
      }
     },
     "metadata": {},
     "output_type": "display_data"
    }
   ],
   "source": [
    "# check if folder exists\n",
    "if not os.path.exists(\"./results/average_persuasion_maps\"):\n",
    "    os.makedirs(\"./results/average_persuasion_maps\")\n",
    "\n",
    "for group_name, df_group in tqdm(df.groupby([\"Algorithm\", \"ProgrammingStyle\"])):\n",
    "    image = \"./data/images/\" + group_name[0] + \"_\" + group_name[1].replace(\"-\", \"_\") + \".png\"\n",
    "    image = PIL.Image.open(image)\n",
    "    dimension = image.size\n",
    "    average_heat = np.zeros((dimension[1], dimension[0]))\n",
    "    for idx, row in df_group.iterrows():\n",
    "        clicks = row[\"ClickData\"]\n",
    "        duration_per_click = row[\"TimeData\"]\n",
    "        duration_tmp = [duration_per_click[0]]\n",
    "        for duration_idx, value in enumerate(duration_per_click):\n",
    "            if duration_idx == 0:\n",
    "                continue\n",
    "            duration_tmp.append(value-duration_per_click[duration_idx-1])\n",
    "        duration_per_click = duration_tmp\n",
    "\n",
    "        example = np.zeros((dimension[1], dimension[0]))\n",
    "        for click, duration in zip(clicks, duration_per_click):\n",
    "            elliptical_mask = get_ellipse_mask(click, x_radius, y_radius, dimension)\n",
    "            example += (elliptical_mask*duration)\n",
    "        _hmap, normalized_heat, _max_value = heatmap_helper(image, example, settings[\"grad_radius\"]//2)\n",
    "        average_heat += normalized_heat\n",
    "\n",
    "    image = np.array(image)\n",
    "\n",
    "    average_heat = scipy.ndimage.gaussian_filter(average_heat, sigma=4)\n",
    "    average_heat = average_heat / len(df_group)\n",
    "    average_heat = 1.0 - average_heat\n",
    "\n",
    "    cmap = plt.cm.get_cmap('Greys')\n",
    "    average_heat = average_heat*255\n",
    "    average_heat = average_heat.astype(np.uint8)\n",
    "    average_heat = cmap(average_heat)\n",
    "    average_heat = average_heat\n",
    "    image_1 = image.copy()\n",
    "    image_1 = image_1/255.0\n",
    "\n",
    "\n",
    "    image = average_heat*image_1*0.95 + image_1*0.05\n",
    "\n",
    "    fig, ax = plt.subplots(1, 1, figsize=(10, 10))\n",
    "    fig.set_size_inches(dimension[0]/100, dimension[1]/100)\n",
    "    plt.axis('off')\n",
    "    plt.tight_layout()\n",
    "    ax.imshow(image, aspect='auto')\n",
    "    plt.savefig(\"./results/average_persuasion_maps/\" + group_name[0] + \"_\" + group_name[1].replace(\"-\", \"_\") + \".png\", bbox_inches='tight' , pad_inches=0)\n",
    "    plt.close('all')"
   ],
   "metadata": {
    "collapsed": false,
    "pycharm": {
     "name": "#%%\n"
    }
   }
  },
  {
   "cell_type": "markdown",
   "source": [
    "## Create AOI Visualizations"
   ],
   "metadata": {
    "collapsed": false,
    "pycharm": {
     "name": "#%% md\n"
    }
   }
  },
  {
   "cell_type": "code",
   "execution_count": 8,
   "outputs": [],
   "source": [
    "# prepare color mapping for aois\n",
    "algorithms = df[[\"Algorithm\"]].sort_values(by=\"Algorithm\")[\"Algorithm\"].unique()\n",
    "programming_styles = df[[\"ProgrammingStyle\"]].sort_values(by=\"ProgrammingStyle\")[\"ProgrammingStyle\"].unique()\n",
    "algorithms = [x for x in algorithms]\n",
    "programming_styles = [x.replace(\"-\", \"_\") for x in programming_styles]\n",
    "\n",
    "color_palette = sns.color_palette(\"hls\", 16)\n",
    "color_palette_mapping = {\n",
    "    \"Method\" : color_palette[0],\n",
    "    \"MethodDeclaration\" : color_palette[1],\n",
    "    \"MethodBody\" : color_palette[2],\n",
    "    \"Helper\" : color_palette[3],\n",
    "    \"HelperDeclaration\" : color_palette[4],\n",
    "    \"HelperBody\" : color_palette[5],\n",
    "    \"Iteration\" : color_palette[6],\n",
    "    \"IterationHead\" : color_palette[7],\n",
    "    \"IterationBody\" : color_palette[8],\n",
    "    \"RecursiveCall\" : color_palette[9],\n",
    "    \"RecursiveBaseCase\" : color_palette[10],\n",
    "    \"HigherOrder\" : color_palette[11],\n",
    "    \"ListComprehension\" : color_palette[12],\n",
    "    \"InputPreparation\" : color_palette[13],\n",
    "    \"StartOfAlgorithm\" : color_palette[14],\n",
    "    \"Class\" : color_palette[15],\n",
    "}\n",
    "aoi_colors = color_palette\n",
    "aoi_numbers = {name : idx for idx, (name, _value) in enumerate(color_palette_mapping.items())}\n",
    "aoi_names = [name for name, _value in color_palette_mapping.items()]\n",
    "\n",
    "def aoi_idx_to_convoluted_idx(aoi_idx):\n",
    "    if aoi_idx < 5:\n",
    "        return aoi_idx\n",
    "    if 6 <= aoi_idx <= 12:\n",
    "        return 6\n",
    "    if 13 <= aoi_idx:\n",
    "        return aoi_idx-6\n",
    "\n",
    "def aoi_name_to_convoluted_name(aoi_name):\n",
    "    if aoi_name in [\"Iteration\", \"IterationHead\", \"IterationBody\", \"RecursiveCall\", \"RecursiveBaseCase\", \"HigherOrder\", \"ListComprehension\"]:\n",
    "        return \"StyleSpecific\"\n",
    "    return aoi_name\n",
    "\n",
    "color_palette = sns.color_palette(\"hls\", 10)\n",
    "color_palette_mapping_convoluted = {\n",
    "    \"Method\" : color_palette[0],\n",
    "    \"MethodDeclaration\" : color_palette[1],\n",
    "    \"MethodBody\" : color_palette[2],\n",
    "    \"Helper\" : color_palette[3],\n",
    "    \"HelperDeclaration\" : color_palette[4],\n",
    "    \"HelperBody\" : color_palette[5],\n",
    "    \"StyleSpecific\" : color_palette[6],\n",
    "    \"InputPreparation\" : color_palette[7],\n",
    "    \"StartOfAlgorithm\" : color_palette[8],\n",
    "    \"Class\" : color_palette[9],\n",
    "}\n",
    "aoi_colors_convoluted = color_palette\n",
    "aoi_numbers_convoluted = {name : idx for idx, (name, _value) in enumerate(color_palette_mapping_convoluted.items())}\n",
    "aoi_names_convoluted = [name for name, _value in color_palette_mapping_convoluted.items()]"
   ],
   "metadata": {
    "collapsed": false,
    "pycharm": {
     "name": "#%%\n"
    }
   }
  },
  {
   "cell_type": "code",
   "execution_count": 9,
   "outputs": [
    {
     "data": {
      "text/plain": "  0%|          | 0/11 [00:00<?, ?it/s]",
      "application/vnd.jupyter.widget-view+json": {
       "version_major": 2,
       "version_minor": 0,
       "model_id": "c892c5ecadb64dfcb2a4d4cfad7bde29"
      }
     },
     "metadata": {},
     "output_type": "display_data"
    }
   ],
   "source": [
    "# create bounding boxes and visualize them\n",
    "def from_canvas(fig):\n",
    "    lst = list(fig.canvas.get_width_height())\n",
    "    lst.append(3)\n",
    "    return PIL.Image.fromarray(np.frombuffer(fig.canvas.tostring_rgb(),dtype=np.uint8).reshape(lst))\n",
    "\n",
    "df_bounding_box = pd.DataFrame(columns=[\"Algorithm\", \"ProgrammingStyle\", \"BoundingBoxes\", \"ImageDimension\"])\n",
    "image_path = \"./results/aois/\"\n",
    "font_path=\"\\\\data\\\\fonts\\\\ttf\\\\\"\n",
    "offset = 3\n",
    "\n",
    "# check if the image_path exists\n",
    "if not os.path.exists(image_path):\n",
    "    os.makedirs(image_path)\n",
    "\n",
    "for algorithm in tqdm(algorithms):\n",
    "    for programming_style in programming_styles:\n",
    "        # load the image and generate bb code info\n",
    "        file_name = './data/CodeSnippets/Generators/' + algorithm + '_' + programming_style + '.json'\n",
    "        try:\n",
    "            image, result = snippets.create_image(file_name, font_path=font_path, lexer=PythonLexer)\n",
    "            y, x = image.size[::-1]\n",
    "            dimension = (x, y)\n",
    "        except Exception as e:\n",
    "            print(file_name + \":\" + str(e))\n",
    "            continue\n",
    "        # extract the areas of interest in the image\n",
    "        areas_of_interest = set()\n",
    "        for letter in result:\n",
    "            for aoi in letter[\"AOI\"]:\n",
    "                areas_of_interest.add(aoi)\n",
    "\n",
    "        # create the bounding boxes\n",
    "        disjoint_areas_of_interest = []\n",
    "        for aoi in areas_of_interest:\n",
    "            upper_left_x = 0\n",
    "            upper_left_y = 0\n",
    "            lower_right_x = 0\n",
    "            lower_right_y = 0\n",
    "            has_aoi = False\n",
    "            for letter in result:\n",
    "                if letter[\"BoundingBox\"][0] == 0 and letter[\"BoundingBox\"][1] == 0 and letter[\"BoundingBox\"][2] == 0 and letter[\"BoundingBox\"][3] == 0:\n",
    "                    continue\n",
    "\n",
    "                if aoi in letter[\"AOI\"]:\n",
    "                    if not has_aoi:\n",
    "                        upper_left_x = letter[\"BoundingBox\"][0] - offset\n",
    "                        upper_left_y = letter[\"BoundingBox\"][1] - offset\n",
    "                        lower_right_x = letter[\"BoundingBox\"][2] + offset\n",
    "                        lower_right_y = letter[\"BoundingBox\"][3] + offset\n",
    "                        has_aoi = True\n",
    "                    else:\n",
    "                        upper_left_x = min(upper_left_x, letter[\"BoundingBox\"][0] - offset)\n",
    "                        upper_left_y = min(upper_left_y, letter[\"BoundingBox\"][1] - offset)\n",
    "                        lower_right_x = max(lower_right_x, letter[\"BoundingBox\"][2] + offset)\n",
    "                        lower_right_y = max(lower_right_y, letter[\"BoundingBox\"][3] + offset)\n",
    "                else:\n",
    "                    if has_aoi:\n",
    "                        disjoint_areas_of_interest.append((aoi, [upper_left_x, upper_left_y, lower_right_x, lower_right_y]))\n",
    "                    has_aoi = False\n",
    "                    upper_left_x = 0\n",
    "                    upper_left_y = 0\n",
    "                    lower_right_x = 0\n",
    "                    lower_right_y = 0\n",
    "\n",
    "            if has_aoi:\n",
    "                disjoint_areas_of_interest.append((aoi, [upper_left_x, upper_left_y, lower_right_x, lower_right_y]))\n",
    "\n",
    "        # create the bounding boxes without None aoi\n",
    "        disjoint_areas_of_interest = [area for area in disjoint_areas_of_interest if area[0] != \"None\"]\n",
    "        df_bounding_box = df_bounding_box.append(pd.DataFrame([[algorithm, programming_style.replace(\"_\", \"-\"), disjoint_areas_of_interest, dimension]], columns=df_bounding_box.columns))\n",
    "\n",
    "        # map a color to each aoi\n",
    "        disjoint_areas_of_interest_visual = []\n",
    "        for aoi, bounding_box in disjoint_areas_of_interest:\n",
    "            h, s, l = color_palette_mapping[aoi]\n",
    "            color = (h, s, l, 0.2)\n",
    "            disjoint_areas_of_interest_visual.append((aoi, bounding_box, color))\n",
    "\n",
    "        # create the image with the bounding boxes\n",
    "        fig, ax = plt.subplots(1, 1)\n",
    "        ax.imshow(image)\n",
    "\n",
    "        for (aoi, bounding_box, color) in disjoint_areas_of_interest_visual:\n",
    "            rect = patches.Rectangle((bounding_box[0], bounding_box[1]), bounding_box[2] - bounding_box[0],\n",
    "                                     bounding_box[3] - bounding_box[1], linewidth=1, edgecolor=color, facecolor=color)\n",
    "            ax.add_patch(rect)\n",
    "\n",
    "        plt.tight_layout()\n",
    "        plt.axis('off')\n",
    "        plt.savefig(image_path + \"aoi_\" + algorithm + '_' + programming_style + '.png', bbox_inches='tight', transparent=True, pad_inches=0)\n",
    "        plt.close('all')"
   ],
   "metadata": {
    "collapsed": false,
    "pycharm": {
     "name": "#%%\n"
    }
   }
  },
  {
   "cell_type": "code",
   "execution_count": 9,
   "outputs": [],
   "source": [],
   "metadata": {
    "collapsed": false,
    "pycharm": {
     "name": "#%%\n"
    }
   }
  }
 ],
 "metadata": {
  "kernelspec": {
   "display_name": "Python 3",
   "language": "python",
   "name": "python3"
  },
  "language_info": {
   "codemirror_mode": {
    "name": "ipython",
    "version": 2
   },
   "file_extension": ".py",
   "mimetype": "text/x-python",
   "name": "python",
   "nbconvert_exporter": "python",
   "pygments_lexer": "ipython2",
   "version": "2.7.6"
  }
 },
 "nbformat": 4,
 "nbformat_minor": 0
}